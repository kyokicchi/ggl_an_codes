{
  "nbformat": 4,
  "nbformat_minor": 0,
  "metadata": {
    "colab": {
      "name": "trainLGBmodel.ipynb",
      "version": "0.3.2",
      "provenance": [],
      "collapsed_sections": [],
      "include_colab_link": true
    },
    "kernelspec": {
      "name": "python3",
      "display_name": "Python 3"
    },
    "accelerator": "GPU"
  },
  "cells": [
    {
      "cell_type": "markdown",
      "metadata": {
        "id": "view-in-github",
        "colab_type": "text"
      },
      "source": [
        "<a href=\"https://colab.research.google.com/github/kyokicchi/ggl_an_codes/blob/master/LGBmodel.ipynb\" target=\"_parent\"><img src=\"https://colab.research.google.com/assets/colab-badge.svg\" alt=\"Open In Colab\"/></a>"
      ]
    },
    {
      "metadata": {
        "id": "IAe1xrU__tk3",
        "colab_type": "text"
      },
      "cell_type": "markdown",
      "source": [
        "# initialize & load"
      ]
    },
    {
      "metadata": {
        "id": "H8X_jxlYnrn3",
        "colab_type": "code",
        "outputId": "730773e3-b552-4029-a0f0-d5cc8ea05c6f",
        "colab": {
          "base_uri": "https://localhost:8080/",
          "height": 152
        }
      },
      "cell_type": "code",
      "source": [
        "!pip install lightgbm"
      ],
      "execution_count": 1,
      "outputs": [
        {
          "output_type": "stream",
          "text": [
            "Collecting lightgbm\n",
            "\u001b[?25l  Downloading https://files.pythonhosted.org/packages/78/7e/bc87e7951cfaa998cffaf39e6c721f5bd04efb2e139486206356edb289a5/lightgbm-2.2.1-py2.py3-none-manylinux1_x86_64.whl (1.1MB)\n",
            "\u001b[K    100% |████████████████████████████████| 1.1MB 15.8MB/s \n",
            "\u001b[?25hRequirement already satisfied: numpy in /usr/local/lib/python3.6/dist-packages (from lightgbm) (1.14.6)\n",
            "Requirement already satisfied: scipy in /usr/local/lib/python3.6/dist-packages (from lightgbm) (0.19.1)\n",
            "Requirement already satisfied: scikit-learn in /usr/local/lib/python3.6/dist-packages (from lightgbm) (0.19.2)\n",
            "Installing collected packages: lightgbm\n",
            "Successfully installed lightgbm-2.2.1\n"
          ],
          "name": "stdout"
        }
      ]
    },
    {
      "metadata": {
        "id": "7PrvKZYHs9n0",
        "colab_type": "code",
        "colab": {}
      },
      "cell_type": "code",
      "source": [
        "import lightgbm as lgb\n",
        "\n",
        "from google.colab import drive\n",
        "from google.colab import files\n",
        "\n",
        "import numpy as np\n",
        "import pandas as pd\n",
        "\n",
        "from sklearn.model_selection import train_test_split\n",
        "import pickle"
      ],
      "execution_count": 0,
      "outputs": []
    },
    {
      "metadata": {
        "id": "Uujx3hEhjfnX",
        "colab_type": "code",
        "outputId": "0c0aa020-aec1-4a02-c831-47ca1b51fc8f",
        "colab": {
          "base_uri": "https://localhost:8080/",
          "height": 121
        }
      },
      "cell_type": "code",
      "source": [
        "drive.mount('/content/gdrive')"
      ],
      "execution_count": 3,
      "outputs": [
        {
          "output_type": "stream",
          "text": [
            "Go to this URL in a browser: https://accounts.google.com/o/oauth2/auth?client_id=947318989803-6bn6qk8qdgf4n4g3pfee6491hc0brc4i.apps.googleusercontent.com&redirect_uri=urn%3Aietf%3Awg%3Aoauth%3A2.0%3Aoob&scope=email%20https%3A%2F%2Fwww.googleapis.com%2Fauth%2Fdocs.test%20https%3A%2F%2Fwww.googleapis.com%2Fauth%2Fdrive%20https%3A%2F%2Fwww.googleapis.com%2Fauth%2Fdrive.photos.readonly%20https%3A%2F%2Fwww.googleapis.com%2Fauth%2Fpeopleapi.readonly&response_type=code\n",
            "\n",
            "Enter your authorization code:\n",
            "··········\n",
            "Mounted at /content/gdrive\n"
          ],
          "name": "stdout"
        }
      ]
    },
    {
      "metadata": {
        "id": "LT06pjlMus4d",
        "colab_type": "code",
        "outputId": "ce27289c-ea39-4316-eb49-57d9020cecf7",
        "colab": {
          "base_uri": "https://localhost:8080/",
          "height": 68
        }
      },
      "cell_type": "code",
      "source": [
        "%cd ../content/gdrive/My Drive/projects/ggl_an/\n",
        "%ls"
      ],
      "execution_count": 4,
      "outputs": [
        {
          "output_type": "stream",
          "text": [
            "/content/gdrive/My Drive/projects/ggl_an\n",
            "model_LGB.sav  output_LGB.csv  user_test.csv    user_train.csv\n",
            "model_NN.h5    output_NN.csv   user_test_n.csv  user_train_n.csv\n"
          ],
          "name": "stdout"
        }
      ]
    },
    {
      "metadata": {
        "id": "8mAcQ8lo8Ixk",
        "colab_type": "code",
        "colab": {
          "base_uri": "https://localhost:8080/",
          "height": 51
        },
        "outputId": "cfcd390f-b168-4cd0-8f07-0cf204374b54"
      },
      "cell_type": "code",
      "source": [
        "%%time\n",
        "\n",
        "df_train = pd.read_csv('user_train.csv', index_col = 0, dtype={'fullVisitorId': 'str'})\n",
        "df_test = pd.read_csv('user_test.csv', index_col = 0, dtype={'fullVisitorId': 'str'})\n",
        "\n",
        "df_y = df_train['transactionRevenue']\n",
        "df_x = df_train.drop(['transactionRevenue'], axis=1)\n",
        "df_tgt = df_test.drop(['transactionRevenue'], axis=1)\n",
        "\n",
        "filename = 'model_LGB.sav'\n",
        "model = pickle.load(open(filename, 'rb'))"
      ],
      "execution_count": 5,
      "outputs": [
        {
          "output_type": "stream",
          "text": [
            "CPU times: user 4.69 s, sys: 641 ms, total: 5.33 s\n",
            "Wall time: 8.88 s\n"
          ],
          "name": "stdout"
        }
      ]
    },
    {
      "metadata": {
        "id": "6oNx0QIG81nE",
        "colab_type": "code",
        "outputId": "5b10e83d-0ac1-4645-e024-00bf207a47e8",
        "colab": {
          "base_uri": "https://localhost:8080/",
          "height": 34
        }
      },
      "cell_type": "code",
      "source": [
        "df_x.shape, df_y.shape, df_tgt.shape"
      ],
      "execution_count": 6,
      "outputs": [
        {
          "output_type": "execute_result",
          "data": {
            "text/plain": [
              "((714167, 23), (714167,), (617242, 23))"
            ]
          },
          "metadata": {
            "tags": []
          },
          "execution_count": 6
        }
      ]
    },
    {
      "metadata": {
        "id": "sYWeiNW0j9cr",
        "colab_type": "code",
        "outputId": "34b64d76-f1dd-416c-e522-6fa82b31224f",
        "colab": {
          "base_uri": "https://localhost:8080/",
          "height": 51
        }
      },
      "cell_type": "code",
      "source": [
        "%%time\n",
        "x_train, x_test, y_train, y_test = train_test_split(df_x, df_y)"
      ],
      "execution_count": 7,
      "outputs": [
        {
          "output_type": "stream",
          "text": [
            "CPU times: user 461 ms, sys: 7.13 ms, total: 468 ms\n",
            "Wall time: 468 ms\n"
          ],
          "name": "stdout"
        }
      ]
    },
    {
      "metadata": {
        "id": "-I9DFbOsJBPm",
        "colab_type": "code",
        "colab": {
          "base_uri": "https://localhost:8080/",
          "height": 34
        },
        "outputId": "4a01b83e-8f3d-4622-dd50-b0f5369f4dfb"
      },
      "cell_type": "code",
      "source": [
        "x_train.shape, y_train.shape, x_test.shape,  y_test.shape "
      ],
      "execution_count": 8,
      "outputs": [
        {
          "output_type": "execute_result",
          "data": {
            "text/plain": [
              "((535625, 23), (535625,), (178542, 23), (178542,))"
            ]
          },
          "metadata": {
            "tags": []
          },
          "execution_count": 8
        }
      ]
    },
    {
      "metadata": {
        "id": "TGrVT1Le4e7M",
        "colab_type": "code",
        "colab": {}
      },
      "cell_type": "code",
      "source": [
        "from sklearn.model_selection import GridSearchCV\n",
        "\n",
        "def applyGSCV(model, param, X, Y, N):\n",
        "    res = GridSearchCV(model, param, cv=N)\n",
        "    res.fit(X, Y)\n",
        "    return res"
      ],
      "execution_count": 0,
      "outputs": []
    },
    {
      "metadata": {
        "id": "Z8oIeaT9JVE-",
        "colab_type": "code",
        "colab": {}
      },
      "cell_type": "code",
      "source": [
        "model = lgb.LGBMRegressor()\n",
        "\n",
        "param = {\n",
        "    'learning_rate': [0.1],\n",
        "    'n_estimators': [200],\n",
        "    'num_leaves': [100],\n",
        "}"
      ],
      "execution_count": 0,
      "outputs": []
    },
    {
      "metadata": {
        "id": "lyCSOn5jJRhn",
        "colab_type": "code",
        "colab": {
          "base_uri": "https://localhost:8080/",
          "height": 51
        },
        "outputId": "92f51d1d-5d13-44c5-ed91-f64a225b0e9d"
      },
      "cell_type": "code",
      "source": [
        "%%time\n",
        "\n",
        "model_LGB = applyGSCV(model, param, x_train, y_train, 3)"
      ],
      "execution_count": 12,
      "outputs": [
        {
          "output_type": "stream",
          "text": [
            "CPU times: user 1min 56s, sys: 1.33 s, total: 1min 57s\n",
            "Wall time: 1min\n"
          ],
          "name": "stdout"
        }
      ]
    },
    {
      "metadata": {
        "id": "5LGbglpv5_80",
        "colab_type": "code",
        "outputId": "867f7f80-d94e-474f-bd3d-208690dbbc8e",
        "colab": {
          "base_uri": "https://localhost:8080/",
          "height": 135
        }
      },
      "cell_type": "code",
      "source": [
        "print(model_LGB.best_score_)\n",
        "print(model_LGB.best_estimator_)"
      ],
      "execution_count": 13,
      "outputs": [
        {
          "output_type": "stream",
          "text": [
            "0.3855740667812348\n",
            "LGBMRegressor(boosting_type='gbdt', class_weight=None, colsample_bytree=1.0,\n",
            "       importance_type='split', learning_rate=0.1, max_depth=-1,\n",
            "       min_child_samples=20, min_child_weight=0.001, min_split_gain=0.0,\n",
            "       n_estimators=200, n_jobs=-1, num_leaves=100, objective=None,\n",
            "       random_state=None, reg_alpha=0.0, reg_lambda=0.0, silent=True,\n",
            "       subsample=1.0, subsample_for_bin=200000, subsample_freq=0)\n"
          ],
          "name": "stdout"
        }
      ]
    },
    {
      "metadata": {
        "id": "ItMWaVwslMJi",
        "colab_type": "code",
        "outputId": "6547e2e2-6de1-46fd-fc52-431547094982",
        "colab": {
          "base_uri": "https://localhost:8080/",
          "height": 5178
        }
      },
      "cell_type": "code",
      "source": [
        "%%time\n",
        "model = lgb.LGBMRegressor(colsample_bytree=0.8,learning_rate=0.05,\n",
        "       min_child_samples=20,n_estimators=300,num_leaves=80,\n",
        "       reg_alpha=0.0, reg_lambda=0.0)\n",
        "\n",
        "model.fit(x_train, y_train,\n",
        "          eval_set=[(x_train, y_train),(x_test, y_test)],\n",
        "          eval_metric='rmse', early_stopping_rounds = 300)"
      ],
      "execution_count": 31,
      "outputs": [
        {
          "output_type": "stream",
          "text": [
            "[1]\ttraining's l2: 8.29093\ttraining's rmse: 2.8794\tvalid_1's l2: 7.22304\tvalid_1's rmse: 2.68757\n",
            "Training until validation scores don't improve for 300 rounds.\n",
            "[2]\ttraining's l2: 7.96643\ttraining's rmse: 2.82249\tvalid_1's l2: 6.91792\tvalid_1's rmse: 2.63019\n",
            "[3]\ttraining's l2: 7.68478\ttraining's rmse: 2.77214\tvalid_1's l2: 6.6635\tvalid_1's rmse: 2.58137\n",
            "[4]\ttraining's l2: 7.42785\ttraining's rmse: 2.72541\tvalid_1's l2: 6.43835\tvalid_1's rmse: 2.53739\n",
            "[5]\ttraining's l2: 7.19685\ttraining's rmse: 2.6827\tvalid_1's l2: 6.23995\tvalid_1's rmse: 2.49799\n",
            "[6]\ttraining's l2: 6.97066\ttraining's rmse: 2.6402\tvalid_1's l2: 6.04256\tvalid_1's rmse: 2.45816\n",
            "[7]\ttraining's l2: 6.76377\ttraining's rmse: 2.60073\tvalid_1's l2: 5.86806\tvalid_1's rmse: 2.42241\n",
            "[8]\ttraining's l2: 6.57694\ttraining's rmse: 2.56456\tvalid_1's l2: 5.70416\tvalid_1's rmse: 2.38834\n",
            "[9]\ttraining's l2: 6.40671\ttraining's rmse: 2.53115\tvalid_1's l2: 5.55796\tvalid_1's rmse: 2.35753\n",
            "[10]\ttraining's l2: 6.24871\ttraining's rmse: 2.49974\tvalid_1's l2: 5.42937\tvalid_1's rmse: 2.3301\n",
            "[11]\ttraining's l2: 6.10512\ttraining's rmse: 2.47085\tvalid_1's l2: 5.31118\tvalid_1's rmse: 2.3046\n",
            "[12]\ttraining's l2: 5.97596\ttraining's rmse: 2.44458\tvalid_1's l2: 5.21277\tvalid_1's rmse: 2.28315\n",
            "[13]\ttraining's l2: 5.854\ttraining's rmse: 2.4195\tvalid_1's l2: 5.12728\tvalid_1's rmse: 2.26435\n",
            "[14]\ttraining's l2: 5.74642\ttraining's rmse: 2.39717\tvalid_1's l2: 5.0458\tvalid_1's rmse: 2.24629\n",
            "[15]\ttraining's l2: 5.64542\ttraining's rmse: 2.37601\tvalid_1's l2: 4.97593\tvalid_1's rmse: 2.23068\n",
            "[16]\ttraining's l2: 5.55222\ttraining's rmse: 2.35632\tvalid_1's l2: 4.90871\tvalid_1's rmse: 2.21556\n",
            "[17]\ttraining's l2: 5.46908\ttraining's rmse: 2.33861\tvalid_1's l2: 4.84857\tvalid_1's rmse: 2.20195\n",
            "[18]\ttraining's l2: 5.39424\ttraining's rmse: 2.32255\tvalid_1's l2: 4.80079\tvalid_1's rmse: 2.19107\n",
            "[19]\ttraining's l2: 5.31924\ttraining's rmse: 2.30635\tvalid_1's l2: 4.75578\tvalid_1's rmse: 2.18078\n",
            "[20]\ttraining's l2: 5.24932\ttraining's rmse: 2.29114\tvalid_1's l2: 4.71431\tvalid_1's rmse: 2.17125\n",
            "[21]\ttraining's l2: 5.18627\ttraining's rmse: 2.27734\tvalid_1's l2: 4.67318\tvalid_1's rmse: 2.16176\n",
            "[22]\ttraining's l2: 5.12895\ttraining's rmse: 2.26472\tvalid_1's l2: 4.64249\tvalid_1's rmse: 2.15464\n",
            "[23]\ttraining's l2: 5.07385\ttraining's rmse: 2.25252\tvalid_1's l2: 4.6165\tvalid_1's rmse: 2.14861\n",
            "[24]\ttraining's l2: 5.02324\ttraining's rmse: 2.24126\tvalid_1's l2: 4.58624\tvalid_1's rmse: 2.14155\n",
            "[25]\ttraining's l2: 4.97803\ttraining's rmse: 2.23115\tvalid_1's l2: 4.56763\tvalid_1's rmse: 2.1372\n",
            "[26]\ttraining's l2: 4.93722\ttraining's rmse: 2.22198\tvalid_1's l2: 4.54579\tvalid_1's rmse: 2.13209\n",
            "[27]\ttraining's l2: 4.89563\ttraining's rmse: 2.21261\tvalid_1's l2: 4.52858\tvalid_1's rmse: 2.12805\n",
            "[28]\ttraining's l2: 4.85588\ttraining's rmse: 2.20361\tvalid_1's l2: 4.51257\tvalid_1's rmse: 2.12428\n",
            "[29]\ttraining's l2: 4.8187\ttraining's rmse: 2.19515\tvalid_1's l2: 4.49887\tvalid_1's rmse: 2.12105\n",
            "[30]\ttraining's l2: 4.78374\ttraining's rmse: 2.18718\tvalid_1's l2: 4.48464\tvalid_1's rmse: 2.1177\n",
            "[31]\ttraining's l2: 4.75256\ttraining's rmse: 2.18004\tvalid_1's l2: 4.47429\tvalid_1's rmse: 2.11525\n",
            "[32]\ttraining's l2: 4.72352\ttraining's rmse: 2.17337\tvalid_1's l2: 4.46328\tvalid_1's rmse: 2.11265\n",
            "[33]\ttraining's l2: 4.69429\ttraining's rmse: 2.16663\tvalid_1's l2: 4.45189\tvalid_1's rmse: 2.10995\n",
            "[34]\ttraining's l2: 4.66611\ttraining's rmse: 2.16012\tvalid_1's l2: 4.44391\tvalid_1's rmse: 2.10806\n",
            "[35]\ttraining's l2: 4.6399\ttraining's rmse: 2.15404\tvalid_1's l2: 4.43577\tvalid_1's rmse: 2.10613\n",
            "[36]\ttraining's l2: 4.6162\ttraining's rmse: 2.14854\tvalid_1's l2: 4.43092\tvalid_1's rmse: 2.10498\n",
            "[37]\ttraining's l2: 4.59448\ttraining's rmse: 2.14347\tvalid_1's l2: 4.42564\tvalid_1's rmse: 2.10372\n",
            "[38]\ttraining's l2: 4.57195\ttraining's rmse: 2.13821\tvalid_1's l2: 4.4219\tvalid_1's rmse: 2.10283\n",
            "[39]\ttraining's l2: 4.55143\ttraining's rmse: 2.13341\tvalid_1's l2: 4.41969\tvalid_1's rmse: 2.10231\n",
            "[40]\ttraining's l2: 4.53395\ttraining's rmse: 2.12931\tvalid_1's l2: 4.418\tvalid_1's rmse: 2.1019\n",
            "[41]\ttraining's l2: 4.51536\ttraining's rmse: 2.12494\tvalid_1's l2: 4.41524\tvalid_1's rmse: 2.10125\n",
            "[42]\ttraining's l2: 4.47673\ttraining's rmse: 2.11583\tvalid_1's l2: 4.40927\tvalid_1's rmse: 2.09983\n",
            "[43]\ttraining's l2: 4.45785\ttraining's rmse: 2.11136\tvalid_1's l2: 4.4101\tvalid_1's rmse: 2.10002\n",
            "[44]\ttraining's l2: 4.42535\ttraining's rmse: 2.10365\tvalid_1's l2: 4.40183\tvalid_1's rmse: 2.09805\n",
            "[45]\ttraining's l2: 4.40921\ttraining's rmse: 2.09981\tvalid_1's l2: 4.40145\tvalid_1's rmse: 2.09796\n",
            "[46]\ttraining's l2: 4.39324\ttraining's rmse: 2.096\tvalid_1's l2: 4.40366\tvalid_1's rmse: 2.09849\n",
            "[47]\ttraining's l2: 4.36377\ttraining's rmse: 2.08896\tvalid_1's l2: 4.39808\tvalid_1's rmse: 2.09716\n",
            "[48]\ttraining's l2: 4.35025\ttraining's rmse: 2.08573\tvalid_1's l2: 4.39614\tvalid_1's rmse: 2.0967\n",
            "[49]\ttraining's l2: 4.32566\ttraining's rmse: 2.07982\tvalid_1's l2: 4.39647\tvalid_1's rmse: 2.09677\n",
            "[50]\ttraining's l2: 4.30046\ttraining's rmse: 2.07375\tvalid_1's l2: 4.39993\tvalid_1's rmse: 2.0976\n",
            "[51]\ttraining's l2: 4.27505\ttraining's rmse: 2.06762\tvalid_1's l2: 4.39786\tvalid_1's rmse: 2.09711\n",
            "[52]\ttraining's l2: 4.25093\ttraining's rmse: 2.06178\tvalid_1's l2: 4.40269\tvalid_1's rmse: 2.09826\n",
            "[53]\ttraining's l2: 4.22709\ttraining's rmse: 2.05599\tvalid_1's l2: 4.40711\tvalid_1's rmse: 2.09931\n",
            "[54]\ttraining's l2: 4.2115\ttraining's rmse: 2.05219\tvalid_1's l2: 4.40499\tvalid_1's rmse: 2.09881\n",
            "[55]\ttraining's l2: 4.18973\ttraining's rmse: 2.04688\tvalid_1's l2: 4.41157\tvalid_1's rmse: 2.10037\n",
            "[56]\ttraining's l2: 4.17021\ttraining's rmse: 2.04211\tvalid_1's l2: 4.41915\tvalid_1's rmse: 2.10218\n",
            "[57]\ttraining's l2: 4.15189\ttraining's rmse: 2.03762\tvalid_1's l2: 4.42731\tvalid_1's rmse: 2.10412\n",
            "[58]\ttraining's l2: 4.13377\ttraining's rmse: 2.03317\tvalid_1's l2: 4.43588\tvalid_1's rmse: 2.10615\n",
            "[59]\ttraining's l2: 4.11703\ttraining's rmse: 2.02905\tvalid_1's l2: 4.44467\tvalid_1's rmse: 2.10824\n",
            "[60]\ttraining's l2: 4.10154\ttraining's rmse: 2.02523\tvalid_1's l2: 4.45199\tvalid_1's rmse: 2.10997\n",
            "[61]\ttraining's l2: 4.08617\ttraining's rmse: 2.02143\tvalid_1's l2: 4.45836\tvalid_1's rmse: 2.11148\n",
            "[62]\ttraining's l2: 4.07134\ttraining's rmse: 2.01776\tvalid_1's l2: 4.4676\tvalid_1's rmse: 2.11367\n",
            "[63]\ttraining's l2: 4.0614\ttraining's rmse: 2.01529\tvalid_1's l2: 4.46427\tvalid_1's rmse: 2.11288\n",
            "[64]\ttraining's l2: 4.05073\ttraining's rmse: 2.01264\tvalid_1's l2: 4.46121\tvalid_1's rmse: 2.11216\n",
            "[65]\ttraining's l2: 4.03789\ttraining's rmse: 2.00945\tvalid_1's l2: 4.46919\tvalid_1's rmse: 2.11405\n",
            "[66]\ttraining's l2: 4.026\ttraining's rmse: 2.00649\tvalid_1's l2: 4.46501\tvalid_1's rmse: 2.11306\n",
            "[67]\ttraining's l2: 4.01654\ttraining's rmse: 2.00413\tvalid_1's l2: 4.46206\tvalid_1's rmse: 2.11236\n",
            "[68]\ttraining's l2: 4.00741\ttraining's rmse: 2.00185\tvalid_1's l2: 4.46199\tvalid_1's rmse: 2.11234\n",
            "[69]\ttraining's l2: 3.99895\ttraining's rmse: 1.99974\tvalid_1's l2: 4.46039\tvalid_1's rmse: 2.11196\n",
            "[70]\ttraining's l2: 3.99005\ttraining's rmse: 1.99751\tvalid_1's l2: 4.45893\tvalid_1's rmse: 2.11162\n",
            "[71]\ttraining's l2: 3.9821\ttraining's rmse: 1.99552\tvalid_1's l2: 4.4585\tvalid_1's rmse: 2.11152\n",
            "[72]\ttraining's l2: 3.97204\ttraining's rmse: 1.993\tvalid_1's l2: 4.4564\tvalid_1's rmse: 2.11102\n",
            "[73]\ttraining's l2: 3.96412\ttraining's rmse: 1.99101\tvalid_1's l2: 4.45562\tvalid_1's rmse: 2.11083\n",
            "[74]\ttraining's l2: 3.95549\ttraining's rmse: 1.98884\tvalid_1's l2: 4.45285\tvalid_1's rmse: 2.11018\n",
            "[75]\ttraining's l2: 3.94744\ttraining's rmse: 1.98682\tvalid_1's l2: 4.45233\tvalid_1's rmse: 2.11006\n",
            "[76]\ttraining's l2: 3.93653\ttraining's rmse: 1.98407\tvalid_1's l2: 4.44978\tvalid_1's rmse: 2.10945\n",
            "[77]\ttraining's l2: 3.92823\ttraining's rmse: 1.98198\tvalid_1's l2: 4.45005\tvalid_1's rmse: 2.10951\n",
            "[78]\ttraining's l2: 3.91913\ttraining's rmse: 1.97968\tvalid_1's l2: 4.44734\tvalid_1's rmse: 2.10887\n",
            "[79]\ttraining's l2: 3.91101\ttraining's rmse: 1.97763\tvalid_1's l2: 4.4473\tvalid_1's rmse: 2.10886\n",
            "[80]\ttraining's l2: 3.9038\ttraining's rmse: 1.9758\tvalid_1's l2: 4.44663\tvalid_1's rmse: 2.1087\n",
            "[81]\ttraining's l2: 3.89421\ttraining's rmse: 1.97337\tvalid_1's l2: 4.44656\tvalid_1's rmse: 2.10869\n",
            "[82]\ttraining's l2: 3.88645\ttraining's rmse: 1.97141\tvalid_1's l2: 4.44722\tvalid_1's rmse: 2.10884\n",
            "[83]\ttraining's l2: 3.87971\ttraining's rmse: 1.9697\tvalid_1's l2: 4.44532\tvalid_1's rmse: 2.10839\n",
            "[84]\ttraining's l2: 3.87338\ttraining's rmse: 1.96809\tvalid_1's l2: 4.44348\tvalid_1's rmse: 2.10796\n",
            "[85]\ttraining's l2: 3.85908\ttraining's rmse: 1.96445\tvalid_1's l2: 4.44991\tvalid_1's rmse: 2.10948\n",
            "[86]\ttraining's l2: 3.85384\ttraining's rmse: 1.96312\tvalid_1's l2: 4.4486\tvalid_1's rmse: 2.10917\n",
            "[87]\ttraining's l2: 3.84517\ttraining's rmse: 1.96091\tvalid_1's l2: 4.44657\tvalid_1's rmse: 2.10869\n",
            "[88]\ttraining's l2: 3.83785\ttraining's rmse: 1.95904\tvalid_1's l2: 4.44748\tvalid_1's rmse: 2.1089\n",
            "[89]\ttraining's l2: 3.83162\ttraining's rmse: 1.95745\tvalid_1's l2: 4.44804\tvalid_1's rmse: 2.10904\n",
            "[90]\ttraining's l2: 3.81649\ttraining's rmse: 1.95358\tvalid_1's l2: 4.44785\tvalid_1's rmse: 2.10899\n",
            "[91]\ttraining's l2: 3.80188\ttraining's rmse: 1.94984\tvalid_1's l2: 4.44526\tvalid_1's rmse: 2.10838\n",
            "[92]\ttraining's l2: 3.79574\ttraining's rmse: 1.94827\tvalid_1's l2: 4.44501\tvalid_1's rmse: 2.10832\n",
            "[93]\ttraining's l2: 3.7878\ttraining's rmse: 1.94623\tvalid_1's l2: 4.44998\tvalid_1's rmse: 2.1095\n",
            "[94]\ttraining's l2: 3.78194\ttraining's rmse: 1.94472\tvalid_1's l2: 4.45012\tvalid_1's rmse: 2.10953\n",
            "[95]\ttraining's l2: 3.7703\ttraining's rmse: 1.94173\tvalid_1's l2: 4.45065\tvalid_1's rmse: 2.10966\n",
            "[96]\ttraining's l2: 3.76512\ttraining's rmse: 1.94039\tvalid_1's l2: 4.44961\tvalid_1's rmse: 2.10941\n",
            "[97]\ttraining's l2: 3.76002\ttraining's rmse: 1.93908\tvalid_1's l2: 4.44836\tvalid_1's rmse: 2.10911\n",
            "[98]\ttraining's l2: 3.74761\ttraining's rmse: 1.93587\tvalid_1's l2: 4.45584\tvalid_1's rmse: 2.11089\n",
            "[99]\ttraining's l2: 3.74209\ttraining's rmse: 1.93445\tvalid_1's l2: 4.4588\tvalid_1's rmse: 2.11159\n",
            "[100]\ttraining's l2: 3.73746\ttraining's rmse: 1.93325\tvalid_1's l2: 4.45801\tvalid_1's rmse: 2.1114\n",
            "[101]\ttraining's l2: 3.73268\ttraining's rmse: 1.93201\tvalid_1's l2: 4.45839\tvalid_1's rmse: 2.11149\n",
            "[102]\ttraining's l2: 3.72833\ttraining's rmse: 1.93089\tvalid_1's l2: 4.45788\tvalid_1's rmse: 2.11137\n",
            "[103]\ttraining's l2: 3.71626\ttraining's rmse: 1.92776\tvalid_1's l2: 4.4557\tvalid_1's rmse: 2.11085\n",
            "[104]\ttraining's l2: 3.70508\ttraining's rmse: 1.92486\tvalid_1's l2: 4.46255\tvalid_1's rmse: 2.11247\n",
            "[105]\ttraining's l2: 3.70033\ttraining's rmse: 1.92362\tvalid_1's l2: 4.46236\tvalid_1's rmse: 2.11243\n",
            "[106]\ttraining's l2: 3.69465\ttraining's rmse: 1.92215\tvalid_1's l2: 4.46588\tvalid_1's rmse: 2.11326\n",
            "[107]\ttraining's l2: 3.69061\ttraining's rmse: 1.9211\tvalid_1's l2: 4.46466\tvalid_1's rmse: 2.11298\n",
            "[108]\ttraining's l2: 3.68625\ttraining's rmse: 1.91996\tvalid_1's l2: 4.46337\tvalid_1's rmse: 2.11267\n",
            "[109]\ttraining's l2: 3.67622\ttraining's rmse: 1.91735\tvalid_1's l2: 4.47088\tvalid_1's rmse: 2.11444\n",
            "[110]\ttraining's l2: 3.67046\ttraining's rmse: 1.91585\tvalid_1's l2: 4.47046\tvalid_1's rmse: 2.11435\n",
            "[111]\ttraining's l2: 3.66719\ttraining's rmse: 1.91499\tvalid_1's l2: 4.47006\tvalid_1's rmse: 2.11425\n",
            "[112]\ttraining's l2: 3.66148\ttraining's rmse: 1.9135\tvalid_1's l2: 4.47491\tvalid_1's rmse: 2.1154\n",
            "[113]\ttraining's l2: 3.65648\ttraining's rmse: 1.91219\tvalid_1's l2: 4.47442\tvalid_1's rmse: 2.11528\n",
            "[114]\ttraining's l2: 3.64687\ttraining's rmse: 1.90968\tvalid_1's l2: 4.48142\tvalid_1's rmse: 2.11694\n",
            "[115]\ttraining's l2: 3.64281\ttraining's rmse: 1.90861\tvalid_1's l2: 4.48134\tvalid_1's rmse: 2.11692\n",
            "[116]\ttraining's l2: 3.63917\ttraining's rmse: 1.90766\tvalid_1's l2: 4.48026\tvalid_1's rmse: 2.11666\n",
            "[117]\ttraining's l2: 3.63024\ttraining's rmse: 1.90532\tvalid_1's l2: 4.48816\tvalid_1's rmse: 2.11853\n",
            "[118]\ttraining's l2: 3.62533\ttraining's rmse: 1.90403\tvalid_1's l2: 4.48661\tvalid_1's rmse: 2.11816\n",
            "[119]\ttraining's l2: 3.61979\ttraining's rmse: 1.90257\tvalid_1's l2: 4.4922\tvalid_1's rmse: 2.11948\n",
            "[120]\ttraining's l2: 3.61503\ttraining's rmse: 1.90132\tvalid_1's l2: 4.4926\tvalid_1's rmse: 2.11958\n",
            "[121]\ttraining's l2: 3.61206\ttraining's rmse: 1.90054\tvalid_1's l2: 4.49109\tvalid_1's rmse: 2.11922\n",
            "[122]\ttraining's l2: 3.60276\ttraining's rmse: 1.89809\tvalid_1's l2: 4.49094\tvalid_1's rmse: 2.11918\n",
            "[123]\ttraining's l2: 3.59943\ttraining's rmse: 1.89722\tvalid_1's l2: 4.49021\tvalid_1's rmse: 2.11901\n",
            "[124]\ttraining's l2: 3.59092\ttraining's rmse: 1.89497\tvalid_1's l2: 4.48963\tvalid_1's rmse: 2.11887\n",
            "[125]\ttraining's l2: 3.58232\ttraining's rmse: 1.8927\tvalid_1's l2: 4.48363\tvalid_1's rmse: 2.11746\n",
            "[126]\ttraining's l2: 3.57922\ttraining's rmse: 1.89188\tvalid_1's l2: 4.48384\tvalid_1's rmse: 2.11751\n",
            "[127]\ttraining's l2: 3.57501\ttraining's rmse: 1.89077\tvalid_1's l2: 4.4839\tvalid_1's rmse: 2.11752\n",
            "[128]\ttraining's l2: 3.57073\ttraining's rmse: 1.88964\tvalid_1's l2: 4.48266\tvalid_1's rmse: 2.11723\n",
            "[129]\ttraining's l2: 3.56367\ttraining's rmse: 1.88777\tvalid_1's l2: 4.48429\tvalid_1's rmse: 2.11762\n",
            "[130]\ttraining's l2: 3.55978\ttraining's rmse: 1.88674\tvalid_1's l2: 4.48375\tvalid_1's rmse: 2.11749\n",
            "[131]\ttraining's l2: 3.5568\ttraining's rmse: 1.88595\tvalid_1's l2: 4.48337\tvalid_1's rmse: 2.1174\n",
            "[132]\ttraining's l2: 3.54916\ttraining's rmse: 1.88392\tvalid_1's l2: 4.47846\tvalid_1's rmse: 2.11624\n",
            "[133]\ttraining's l2: 3.54548\ttraining's rmse: 1.88294\tvalid_1's l2: 4.47908\tvalid_1's rmse: 2.11638\n",
            "[134]\ttraining's l2: 3.5407\ttraining's rmse: 1.88167\tvalid_1's l2: 4.47988\tvalid_1's rmse: 2.11657\n",
            "[135]\ttraining's l2: 3.53771\ttraining's rmse: 1.88088\tvalid_1's l2: 4.47985\tvalid_1's rmse: 2.11657\n",
            "[136]\ttraining's l2: 3.5333\ttraining's rmse: 1.87971\tvalid_1's l2: 4.4793\tvalid_1's rmse: 2.11644\n",
            "[137]\ttraining's l2: 3.52841\ttraining's rmse: 1.87841\tvalid_1's l2: 4.48018\tvalid_1's rmse: 2.11664\n",
            "[138]\ttraining's l2: 3.52539\ttraining's rmse: 1.8776\tvalid_1's l2: 4.48225\tvalid_1's rmse: 2.11713\n",
            "[139]\ttraining's l2: 3.52156\ttraining's rmse: 1.87658\tvalid_1's l2: 4.4822\tvalid_1's rmse: 2.11712\n",
            "[140]\ttraining's l2: 3.51416\ttraining's rmse: 1.87461\tvalid_1's l2: 4.47636\tvalid_1's rmse: 2.11574\n",
            "[141]\ttraining's l2: 3.51134\ttraining's rmse: 1.87386\tvalid_1's l2: 4.47587\tvalid_1's rmse: 2.11562\n",
            "[142]\ttraining's l2: 3.50548\ttraining's rmse: 1.87229\tvalid_1's l2: 4.47627\tvalid_1's rmse: 2.11572\n",
            "[143]\ttraining's l2: 3.50115\ttraining's rmse: 1.87114\tvalid_1's l2: 4.47667\tvalid_1's rmse: 2.11581\n",
            "[144]\ttraining's l2: 3.49691\ttraining's rmse: 1.87\tvalid_1's l2: 4.47702\tvalid_1's rmse: 2.1159\n",
            "[145]\ttraining's l2: 3.49476\ttraining's rmse: 1.86943\tvalid_1's l2: 4.47791\tvalid_1's rmse: 2.11611\n",
            "[146]\ttraining's l2: 3.49184\ttraining's rmse: 1.86865\tvalid_1's l2: 4.47874\tvalid_1's rmse: 2.1163\n",
            "[147]\ttraining's l2: 3.48822\ttraining's rmse: 1.86768\tvalid_1's l2: 4.47764\tvalid_1's rmse: 2.11604\n",
            "[148]\ttraining's l2: 3.48483\ttraining's rmse: 1.86677\tvalid_1's l2: 4.47868\tvalid_1's rmse: 2.11629\n",
            "[149]\ttraining's l2: 3.48172\ttraining's rmse: 1.86594\tvalid_1's l2: 4.47882\tvalid_1's rmse: 2.11632\n",
            "[150]\ttraining's l2: 3.47789\ttraining's rmse: 1.86491\tvalid_1's l2: 4.47882\tvalid_1's rmse: 2.11632\n",
            "[151]\ttraining's l2: 3.47544\ttraining's rmse: 1.86425\tvalid_1's l2: 4.47912\tvalid_1's rmse: 2.11639\n",
            "[152]\ttraining's l2: 3.47089\ttraining's rmse: 1.86303\tvalid_1's l2: 4.47945\tvalid_1's rmse: 2.11647\n",
            "[153]\ttraining's l2: 3.46857\ttraining's rmse: 1.86241\tvalid_1's l2: 4.48041\tvalid_1's rmse: 2.1167\n",
            "[154]\ttraining's l2: 3.46476\ttraining's rmse: 1.86139\tvalid_1's l2: 4.48083\tvalid_1's rmse: 2.1168\n",
            "[155]\ttraining's l2: 3.4613\ttraining's rmse: 1.86046\tvalid_1's l2: 4.48113\tvalid_1's rmse: 2.11687\n",
            "[156]\ttraining's l2: 3.45853\ttraining's rmse: 1.85971\tvalid_1's l2: 4.48136\tvalid_1's rmse: 2.11692\n",
            "[157]\ttraining's l2: 3.4557\ttraining's rmse: 1.85895\tvalid_1's l2: 4.48274\tvalid_1's rmse: 2.11725\n",
            "[158]\ttraining's l2: 3.44963\ttraining's rmse: 1.85732\tvalid_1's l2: 4.479\tvalid_1's rmse: 2.11637\n",
            "[159]\ttraining's l2: 3.44504\ttraining's rmse: 1.85608\tvalid_1's l2: 4.47961\tvalid_1's rmse: 2.11651\n",
            "[160]\ttraining's l2: 3.44057\ttraining's rmse: 1.85488\tvalid_1's l2: 4.47872\tvalid_1's rmse: 2.1163\n",
            "[161]\ttraining's l2: 3.43699\ttraining's rmse: 1.85391\tvalid_1's l2: 4.47907\tvalid_1's rmse: 2.11638\n",
            "[162]\ttraining's l2: 3.43465\ttraining's rmse: 1.85328\tvalid_1's l2: 4.47844\tvalid_1's rmse: 2.11623\n",
            "[163]\ttraining's l2: 3.43199\ttraining's rmse: 1.85256\tvalid_1's l2: 4.48002\tvalid_1's rmse: 2.11661\n",
            "[164]\ttraining's l2: 3.42862\ttraining's rmse: 1.85165\tvalid_1's l2: 4.47944\tvalid_1's rmse: 2.11647\n",
            "[165]\ttraining's l2: 3.42475\ttraining's rmse: 1.85061\tvalid_1's l2: 4.47945\tvalid_1's rmse: 2.11647\n",
            "[166]\ttraining's l2: 3.42093\ttraining's rmse: 1.84958\tvalid_1's l2: 4.47875\tvalid_1's rmse: 2.11631\n",
            "[167]\ttraining's l2: 3.41754\ttraining's rmse: 1.84866\tvalid_1's l2: 4.47906\tvalid_1's rmse: 2.11638\n",
            "[168]\ttraining's l2: 3.41459\ttraining's rmse: 1.84786\tvalid_1's l2: 4.4788\tvalid_1's rmse: 2.11632\n",
            "[169]\ttraining's l2: 3.41105\ttraining's rmse: 1.8469\tvalid_1's l2: 4.48036\tvalid_1's rmse: 2.11669\n",
            "[170]\ttraining's l2: 3.40914\ttraining's rmse: 1.84638\tvalid_1's l2: 4.4802\tvalid_1's rmse: 2.11665\n",
            "[171]\ttraining's l2: 3.4063\ttraining's rmse: 1.84562\tvalid_1's l2: 4.4804\tvalid_1's rmse: 2.11669\n",
            "[172]\ttraining's l2: 3.40386\ttraining's rmse: 1.84495\tvalid_1's l2: 4.48029\tvalid_1's rmse: 2.11667\n",
            "[173]\ttraining's l2: 3.40146\ttraining's rmse: 1.8443\tvalid_1's l2: 4.4803\tvalid_1's rmse: 2.11667\n",
            "[174]\ttraining's l2: 3.39744\ttraining's rmse: 1.84321\tvalid_1's l2: 4.48078\tvalid_1's rmse: 2.11679\n",
            "[175]\ttraining's l2: 3.3941\ttraining's rmse: 1.84231\tvalid_1's l2: 4.47997\tvalid_1's rmse: 2.11659\n",
            "[176]\ttraining's l2: 3.39124\ttraining's rmse: 1.84153\tvalid_1's l2: 4.47944\tvalid_1's rmse: 2.11647\n",
            "[177]\ttraining's l2: 3.38818\ttraining's rmse: 1.8407\tvalid_1's l2: 4.4802\tvalid_1's rmse: 2.11665\n",
            "[178]\ttraining's l2: 3.38581\ttraining's rmse: 1.84006\tvalid_1's l2: 4.48013\tvalid_1's rmse: 2.11663\n",
            "[179]\ttraining's l2: 3.38284\ttraining's rmse: 1.83925\tvalid_1's l2: 4.48161\tvalid_1's rmse: 2.11698\n",
            "[180]\ttraining's l2: 3.38043\ttraining's rmse: 1.83859\tvalid_1's l2: 4.4811\tvalid_1's rmse: 2.11686\n",
            "[181]\ttraining's l2: 3.37834\ttraining's rmse: 1.83803\tvalid_1's l2: 4.48145\tvalid_1's rmse: 2.11694\n",
            "[182]\ttraining's l2: 3.37629\ttraining's rmse: 1.83747\tvalid_1's l2: 4.4815\tvalid_1's rmse: 2.11695\n",
            "[183]\ttraining's l2: 3.37333\ttraining's rmse: 1.83666\tvalid_1's l2: 4.48203\tvalid_1's rmse: 2.11708\n",
            "[184]\ttraining's l2: 3.37063\ttraining's rmse: 1.83593\tvalid_1's l2: 4.48218\tvalid_1's rmse: 2.11712\n",
            "[185]\ttraining's l2: 3.36636\ttraining's rmse: 1.83476\tvalid_1's l2: 4.48224\tvalid_1's rmse: 2.11713\n",
            "[186]\ttraining's l2: 3.36358\ttraining's rmse: 1.83401\tvalid_1's l2: 4.48218\tvalid_1's rmse: 2.11712\n",
            "[187]\ttraining's l2: 3.36103\ttraining's rmse: 1.83331\tvalid_1's l2: 4.48242\tvalid_1's rmse: 2.11717\n",
            "[188]\ttraining's l2: 3.35724\ttraining's rmse: 1.83228\tvalid_1's l2: 4.48245\tvalid_1's rmse: 2.11718\n",
            "[189]\ttraining's l2: 3.35384\ttraining's rmse: 1.83135\tvalid_1's l2: 4.48295\tvalid_1's rmse: 2.1173\n",
            "[190]\ttraining's l2: 3.35161\ttraining's rmse: 1.83074\tvalid_1's l2: 4.48294\tvalid_1's rmse: 2.1173\n",
            "[191]\ttraining's l2: 3.34866\ttraining's rmse: 1.82994\tvalid_1's l2: 4.48358\tvalid_1's rmse: 2.11745\n",
            "[192]\ttraining's l2: 3.34599\ttraining's rmse: 1.82921\tvalid_1's l2: 4.4836\tvalid_1's rmse: 2.11745\n",
            "[193]\ttraining's l2: 3.343\ttraining's rmse: 1.82839\tvalid_1's l2: 4.48364\tvalid_1's rmse: 2.11746\n",
            "[194]\ttraining's l2: 3.34057\ttraining's rmse: 1.82772\tvalid_1's l2: 4.48407\tvalid_1's rmse: 2.11756\n",
            "[195]\ttraining's l2: 3.33747\ttraining's rmse: 1.82687\tvalid_1's l2: 4.48329\tvalid_1's rmse: 2.11738\n",
            "[196]\ttraining's l2: 3.33452\ttraining's rmse: 1.82607\tvalid_1's l2: 4.48351\tvalid_1's rmse: 2.11743\n",
            "[197]\ttraining's l2: 3.33195\ttraining's rmse: 1.82536\tvalid_1's l2: 4.48344\tvalid_1's rmse: 2.11741\n",
            "[198]\ttraining's l2: 3.32987\ttraining's rmse: 1.82479\tvalid_1's l2: 4.48337\tvalid_1's rmse: 2.1174\n",
            "[199]\ttraining's l2: 3.32781\ttraining's rmse: 1.82423\tvalid_1's l2: 4.48394\tvalid_1's rmse: 2.11753\n",
            "[200]\ttraining's l2: 3.3247\ttraining's rmse: 1.82338\tvalid_1's l2: 4.48399\tvalid_1's rmse: 2.11754\n",
            "[201]\ttraining's l2: 3.32132\ttraining's rmse: 1.82245\tvalid_1's l2: 4.48411\tvalid_1's rmse: 2.11757\n",
            "[202]\ttraining's l2: 3.31978\ttraining's rmse: 1.82203\tvalid_1's l2: 4.48485\tvalid_1's rmse: 2.11775\n",
            "[203]\ttraining's l2: 3.31672\ttraining's rmse: 1.82119\tvalid_1's l2: 4.48548\tvalid_1's rmse: 2.1179\n",
            "[204]\ttraining's l2: 3.31469\ttraining's rmse: 1.82063\tvalid_1's l2: 4.48701\tvalid_1's rmse: 2.11826\n",
            "[205]\ttraining's l2: 3.31237\ttraining's rmse: 1.81999\tvalid_1's l2: 4.48778\tvalid_1's rmse: 2.11844\n",
            "[206]\ttraining's l2: 3.31075\ttraining's rmse: 1.81955\tvalid_1's l2: 4.48775\tvalid_1's rmse: 2.11843\n",
            "[207]\ttraining's l2: 3.30853\ttraining's rmse: 1.81894\tvalid_1's l2: 4.48924\tvalid_1's rmse: 2.11878\n",
            "[208]\ttraining's l2: 3.30697\ttraining's rmse: 1.81851\tvalid_1's l2: 4.48859\tvalid_1's rmse: 2.11863\n",
            "[209]\ttraining's l2: 3.30547\ttraining's rmse: 1.81809\tvalid_1's l2: 4.48975\tvalid_1's rmse: 2.1189\n",
            "[210]\ttraining's l2: 3.30349\ttraining's rmse: 1.81755\tvalid_1's l2: 4.48918\tvalid_1's rmse: 2.11877\n",
            "[211]\ttraining's l2: 3.29947\ttraining's rmse: 1.81645\tvalid_1's l2: 4.48947\tvalid_1's rmse: 2.11884\n",
            "[212]\ttraining's l2: 3.29702\ttraining's rmse: 1.81577\tvalid_1's l2: 4.48896\tvalid_1's rmse: 2.11872\n",
            "[213]\ttraining's l2: 3.29464\ttraining's rmse: 1.81511\tvalid_1's l2: 4.4888\tvalid_1's rmse: 2.11868\n",
            "[214]\ttraining's l2: 3.2922\ttraining's rmse: 1.81444\tvalid_1's l2: 4.48833\tvalid_1's rmse: 2.11857\n",
            "[215]\ttraining's l2: 3.29014\ttraining's rmse: 1.81387\tvalid_1's l2: 4.48911\tvalid_1's rmse: 2.11875\n",
            "[216]\ttraining's l2: 3.28865\ttraining's rmse: 1.81346\tvalid_1's l2: 4.48893\tvalid_1's rmse: 2.11871\n",
            "[217]\ttraining's l2: 3.28731\ttraining's rmse: 1.81309\tvalid_1's l2: 4.48909\tvalid_1's rmse: 2.11875\n",
            "[218]\ttraining's l2: 3.2854\ttraining's rmse: 1.81257\tvalid_1's l2: 4.48936\tvalid_1's rmse: 2.11881\n",
            "[219]\ttraining's l2: 3.28404\ttraining's rmse: 1.81219\tvalid_1's l2: 4.49034\tvalid_1's rmse: 2.11904\n",
            "[220]\ttraining's l2: 3.27798\ttraining's rmse: 1.81052\tvalid_1's l2: 4.48687\tvalid_1's rmse: 2.11822\n",
            "[221]\ttraining's l2: 3.27632\ttraining's rmse: 1.81006\tvalid_1's l2: 4.48691\tvalid_1's rmse: 2.11823\n",
            "[222]\ttraining's l2: 3.27423\ttraining's rmse: 1.80948\tvalid_1's l2: 4.48688\tvalid_1's rmse: 2.11823\n",
            "[223]\ttraining's l2: 3.27277\ttraining's rmse: 1.80908\tvalid_1's l2: 4.4874\tvalid_1's rmse: 2.11835\n",
            "[224]\ttraining's l2: 3.26749\ttraining's rmse: 1.80762\tvalid_1's l2: 4.49496\tvalid_1's rmse: 2.12013\n",
            "[225]\ttraining's l2: 3.26495\ttraining's rmse: 1.80692\tvalid_1's l2: 4.49494\tvalid_1's rmse: 2.12013\n",
            "[226]\ttraining's l2: 3.26195\ttraining's rmse: 1.80609\tvalid_1's l2: 4.49546\tvalid_1's rmse: 2.12025\n",
            "[227]\ttraining's l2: 3.25964\ttraining's rmse: 1.80545\tvalid_1's l2: 4.49597\tvalid_1's rmse: 2.12037\n",
            "[228]\ttraining's l2: 3.25688\ttraining's rmse: 1.80468\tvalid_1's l2: 4.49522\tvalid_1's rmse: 2.12019\n",
            "[229]\ttraining's l2: 3.25502\ttraining's rmse: 1.80417\tvalid_1's l2: 4.49646\tvalid_1's rmse: 2.12049\n",
            "[230]\ttraining's l2: 3.25287\ttraining's rmse: 1.80357\tvalid_1's l2: 4.49591\tvalid_1's rmse: 2.12036\n",
            "[231]\ttraining's l2: 3.25076\ttraining's rmse: 1.80299\tvalid_1's l2: 4.49737\tvalid_1's rmse: 2.1207\n",
            "[232]\ttraining's l2: 3.2487\ttraining's rmse: 1.80241\tvalid_1's l2: 4.49669\tvalid_1's rmse: 2.12054\n",
            "[233]\ttraining's l2: 3.24657\ttraining's rmse: 1.80182\tvalid_1's l2: 4.49674\tvalid_1's rmse: 2.12055\n",
            "[234]\ttraining's l2: 3.24063\ttraining's rmse: 1.80017\tvalid_1's l2: 4.50041\tvalid_1's rmse: 2.12142\n",
            "[235]\ttraining's l2: 3.2379\ttraining's rmse: 1.79942\tvalid_1's l2: 4.50081\tvalid_1's rmse: 2.12151\n",
            "[236]\ttraining's l2: 3.23613\ttraining's rmse: 1.79892\tvalid_1's l2: 4.50108\tvalid_1's rmse: 2.12157\n",
            "[237]\ttraining's l2: 3.23304\ttraining's rmse: 1.79807\tvalid_1's l2: 4.50082\tvalid_1's rmse: 2.12151\n",
            "[238]\ttraining's l2: 3.22793\ttraining's rmse: 1.79664\tvalid_1's l2: 4.50247\tvalid_1's rmse: 2.1219\n",
            "[239]\ttraining's l2: 3.22486\ttraining's rmse: 1.79579\tvalid_1's l2: 4.50229\tvalid_1's rmse: 2.12186\n",
            "[240]\ttraining's l2: 3.22188\ttraining's rmse: 1.79496\tvalid_1's l2: 4.50139\tvalid_1's rmse: 2.12165\n",
            "[241]\ttraining's l2: 3.21918\ttraining's rmse: 1.79421\tvalid_1's l2: 4.50268\tvalid_1's rmse: 2.12195\n",
            "[242]\ttraining's l2: 3.21719\ttraining's rmse: 1.79365\tvalid_1's l2: 4.50253\tvalid_1's rmse: 2.12192\n",
            "[243]\ttraining's l2: 3.21526\ttraining's rmse: 1.79312\tvalid_1's l2: 4.50232\tvalid_1's rmse: 2.12187\n",
            "[244]\ttraining's l2: 3.20881\ttraining's rmse: 1.79131\tvalid_1's l2: 4.50514\tvalid_1's rmse: 2.12253\n",
            "[245]\ttraining's l2: 3.20676\ttraining's rmse: 1.79074\tvalid_1's l2: 4.50522\tvalid_1's rmse: 2.12255\n",
            "[246]\ttraining's l2: 3.20222\ttraining's rmse: 1.78948\tvalid_1's l2: 4.50701\tvalid_1's rmse: 2.12297\n",
            "[247]\ttraining's l2: 3.19621\ttraining's rmse: 1.7878\tvalid_1's l2: 4.51337\tvalid_1's rmse: 2.12447\n",
            "[248]\ttraining's l2: 3.19048\ttraining's rmse: 1.78619\tvalid_1's l2: 4.52121\tvalid_1's rmse: 2.12631\n",
            "[249]\ttraining's l2: 3.18652\ttraining's rmse: 1.78508\tvalid_1's l2: 4.52366\tvalid_1's rmse: 2.12689\n",
            "[250]\ttraining's l2: 3.18493\ttraining's rmse: 1.78464\tvalid_1's l2: 4.52437\tvalid_1's rmse: 2.12706\n",
            "[251]\ttraining's l2: 3.18348\ttraining's rmse: 1.78423\tvalid_1's l2: 4.52528\tvalid_1's rmse: 2.12727\n",
            "[252]\ttraining's l2: 3.18149\ttraining's rmse: 1.78367\tvalid_1's l2: 4.52619\tvalid_1's rmse: 2.12748\n",
            "[253]\ttraining's l2: 3.17872\ttraining's rmse: 1.7829\tvalid_1's l2: 4.526\tvalid_1's rmse: 2.12744\n",
            "[254]\ttraining's l2: 3.17542\ttraining's rmse: 1.78197\tvalid_1's l2: 4.52692\tvalid_1's rmse: 2.12766\n",
            "[255]\ttraining's l2: 3.17132\ttraining's rmse: 1.78082\tvalid_1's l2: 4.53429\tvalid_1's rmse: 2.12939\n",
            "[256]\ttraining's l2: 3.16872\ttraining's rmse: 1.78009\tvalid_1's l2: 4.53426\tvalid_1's rmse: 2.12938\n",
            "[257]\ttraining's l2: 3.16495\ttraining's rmse: 1.77903\tvalid_1's l2: 4.53568\tvalid_1's rmse: 2.12971\n",
            "[258]\ttraining's l2: 3.16313\ttraining's rmse: 1.77852\tvalid_1's l2: 4.53632\tvalid_1's rmse: 2.12986\n",
            "[259]\ttraining's l2: 3.15972\ttraining's rmse: 1.77756\tvalid_1's l2: 4.53567\tvalid_1's rmse: 2.12971\n",
            "[260]\ttraining's l2: 3.15742\ttraining's rmse: 1.77691\tvalid_1's l2: 4.53615\tvalid_1's rmse: 2.12983\n",
            "[261]\ttraining's l2: 3.15169\ttraining's rmse: 1.7753\tvalid_1's l2: 4.53971\tvalid_1's rmse: 2.13066\n",
            "[262]\ttraining's l2: 3.15021\ttraining's rmse: 1.77488\tvalid_1's l2: 4.53887\tvalid_1's rmse: 2.13046\n",
            "[263]\ttraining's l2: 3.14775\ttraining's rmse: 1.77419\tvalid_1's l2: 4.53871\tvalid_1's rmse: 2.13043\n",
            "[264]\ttraining's l2: 3.14254\ttraining's rmse: 1.77272\tvalid_1's l2: 4.54866\tvalid_1's rmse: 2.13276\n",
            "[265]\ttraining's l2: 3.1413\ttraining's rmse: 1.77237\tvalid_1's l2: 4.54746\tvalid_1's rmse: 2.13248\n",
            "[266]\ttraining's l2: 3.13933\ttraining's rmse: 1.77181\tvalid_1's l2: 4.54755\tvalid_1's rmse: 2.1325\n",
            "[267]\ttraining's l2: 3.13469\ttraining's rmse: 1.77051\tvalid_1's l2: 4.54832\tvalid_1's rmse: 2.13268\n",
            "[268]\ttraining's l2: 3.13143\ttraining's rmse: 1.76958\tvalid_1's l2: 4.54903\tvalid_1's rmse: 2.13285\n",
            "[269]\ttraining's l2: 3.12895\ttraining's rmse: 1.76888\tvalid_1's l2: 4.54766\tvalid_1's rmse: 2.13252\n",
            "[270]\ttraining's l2: 3.12679\ttraining's rmse: 1.76827\tvalid_1's l2: 4.54938\tvalid_1's rmse: 2.13293\n",
            "[271]\ttraining's l2: 3.12176\ttraining's rmse: 1.76685\tvalid_1's l2: 4.55437\tvalid_1's rmse: 2.1341\n",
            "[272]\ttraining's l2: 3.11923\ttraining's rmse: 1.76613\tvalid_1's l2: 4.55567\tvalid_1's rmse: 2.1344\n",
            "[273]\ttraining's l2: 3.11711\ttraining's rmse: 1.76554\tvalid_1's l2: 4.55508\tvalid_1's rmse: 2.13426\n",
            "[274]\ttraining's l2: 3.11164\ttraining's rmse: 1.76398\tvalid_1's l2: 4.5605\tvalid_1's rmse: 2.13553\n",
            "[275]\ttraining's l2: 3.10924\ttraining's rmse: 1.7633\tvalid_1's l2: 4.56102\tvalid_1's rmse: 2.13566\n",
            "[276]\ttraining's l2: 3.10709\ttraining's rmse: 1.76269\tvalid_1's l2: 4.56\tvalid_1's rmse: 2.13541\n",
            "[277]\ttraining's l2: 3.1055\ttraining's rmse: 1.76224\tvalid_1's l2: 4.55999\tvalid_1's rmse: 2.13541\n",
            "[278]\ttraining's l2: 3.10072\ttraining's rmse: 1.76089\tvalid_1's l2: 4.56884\tvalid_1's rmse: 2.13749\n",
            "[279]\ttraining's l2: 3.09911\ttraining's rmse: 1.76043\tvalid_1's l2: 4.56801\tvalid_1's rmse: 2.13729\n",
            "[280]\ttraining's l2: 3.09686\ttraining's rmse: 1.75979\tvalid_1's l2: 4.56806\tvalid_1's rmse: 2.1373\n",
            "[281]\ttraining's l2: 3.09061\ttraining's rmse: 1.75801\tvalid_1's l2: 4.57156\tvalid_1's rmse: 2.13812\n",
            "[282]\ttraining's l2: 3.08611\ttraining's rmse: 1.75673\tvalid_1's l2: 4.57786\tvalid_1's rmse: 2.13959\n",
            "[283]\ttraining's l2: 3.08328\ttraining's rmse: 1.75593\tvalid_1's l2: 4.57723\tvalid_1's rmse: 2.13945\n",
            "[284]\ttraining's l2: 3.07898\ttraining's rmse: 1.7547\tvalid_1's l2: 4.58094\tvalid_1's rmse: 2.14031\n",
            "[285]\ttraining's l2: 3.07708\ttraining's rmse: 1.75416\tvalid_1's l2: 4.58043\tvalid_1's rmse: 2.14019\n",
            "[286]\ttraining's l2: 3.07186\ttraining's rmse: 1.75267\tvalid_1's l2: 4.58275\tvalid_1's rmse: 2.14073\n",
            "[287]\ttraining's l2: 3.07035\ttraining's rmse: 1.75224\tvalid_1's l2: 4.58254\tvalid_1's rmse: 2.14069\n",
            "[288]\ttraining's l2: 3.06754\ttraining's rmse: 1.75144\tvalid_1's l2: 4.5829\tvalid_1's rmse: 2.14077\n",
            "[289]\ttraining's l2: 3.06392\ttraining's rmse: 1.75041\tvalid_1's l2: 4.58336\tvalid_1's rmse: 2.14088\n",
            "[290]\ttraining's l2: 3.05983\ttraining's rmse: 1.74924\tvalid_1's l2: 4.59275\tvalid_1's rmse: 2.14307\n",
            "[291]\ttraining's l2: 3.05814\ttraining's rmse: 1.74875\tvalid_1's l2: 4.59219\tvalid_1's rmse: 2.14294\n",
            "[292]\ttraining's l2: 3.05652\ttraining's rmse: 1.74829\tvalid_1's l2: 4.59159\tvalid_1's rmse: 2.1428\n",
            "[293]\ttraining's l2: 3.05258\ttraining's rmse: 1.74716\tvalid_1's l2: 4.60045\tvalid_1's rmse: 2.14487\n",
            "[294]\ttraining's l2: 3.05004\ttraining's rmse: 1.74644\tvalid_1's l2: 4.59958\tvalid_1's rmse: 2.14466\n",
            "[295]\ttraining's l2: 3.04797\ttraining's rmse: 1.74584\tvalid_1's l2: 4.59917\tvalid_1's rmse: 2.14457\n",
            "[296]\ttraining's l2: 3.04473\ttraining's rmse: 1.74491\tvalid_1's l2: 4.59816\tvalid_1's rmse: 2.14433\n",
            "[297]\ttraining's l2: 3.04122\ttraining's rmse: 1.74391\tvalid_1's l2: 4.60083\tvalid_1's rmse: 2.14495\n",
            "[298]\ttraining's l2: 3.03982\ttraining's rmse: 1.74351\tvalid_1's l2: 4.60084\tvalid_1's rmse: 2.14496\n",
            "[299]\ttraining's l2: 3.03781\ttraining's rmse: 1.74293\tvalid_1's l2: 4.60042\tvalid_1's rmse: 2.14486\n",
            "[300]\ttraining's l2: 3.03536\ttraining's rmse: 1.74223\tvalid_1's l2: 4.60112\tvalid_1's rmse: 2.14502\n",
            "Did not meet early stopping. Best iteration is:\n",
            "[300]\ttraining's l2: 3.03536\ttraining's rmse: 1.74223\tvalid_1's l2: 4.60112\tvalid_1's rmse: 2.14502\n",
            "CPU times: user 37.3 s, sys: 333 ms, total: 37.6 s\n",
            "Wall time: 19.5 s\n"
          ],
          "name": "stdout"
        }
      ]
    },
    {
      "metadata": {
        "id": "DJHDViGGHbYA",
        "colab_type": "text"
      },
      "cell_type": "markdown",
      "source": [
        "# evaluate model"
      ]
    },
    {
      "metadata": {
        "id": "l2eTTyDOKp4-",
        "colab_type": "code",
        "colab": {
          "base_uri": "https://localhost:8080/",
          "height": 283
        },
        "outputId": "08fc8edb-0b47-46a9-b1cc-564c84cd963f"
      },
      "cell_type": "code",
      "source": [
        "y = model.evals_result_['training']['rmse']\n",
        "z = model.evals_result_['valid_1']['rmse']\n",
        "x = range(len(y))\n",
        "\n",
        "\n",
        "import matplotlib.pyplot as plt\n",
        "%matplotlib inline\n",
        "\n",
        "plt.plot(x, y, color='cornflowerblue', label = 'train')\n",
        "plt.plot(x, z, color='red', label = 'val')\n",
        "plt.legend(loc=\"upper right\")\n",
        "plt.ylim(0, 3)\n",
        "plt.grid(True)\n",
        "plt.xlabel('epoch')\n",
        "plt.ylabel('mean absolute error')\n",
        "plt.show()"
      ],
      "execution_count": 32,
      "outputs": [
        {
          "output_type": "display_data",
          "data": {
            "image/png": "[encoded data removed]",
            "text/plain": [
              "<matplotlib.figure.Figure at 0x7fa312ae1be0>"
            ]
          },
          "metadata": {
            "tags": []
          }
        }
      ]
    },
    {
      "metadata": {
        "id": "o4mDYws28VCk",
        "colab_type": "code",
        "outputId": "6795adef-6ebb-48e2-8bd6-04ab38eb3b9a",
        "colab": {
          "base_uri": "https://localhost:8080/",
          "height": 68
        }
      },
      "cell_type": "code",
      "source": [
        "%%time\n",
        "from sklearn.metrics import mean_squared_error\n",
        "\n",
        "pred = model.predict(df_x)\n",
        "mse = mean_squared_error(df_y, pred)\n",
        "rmse = np.sqrt(mse)\n",
        "print(rmse)"
      ],
      "execution_count": 33,
      "outputs": [
        {
          "output_type": "stream",
          "text": [
            "1.8511622341584908\n",
            "CPU times: user 23.9 s, sys: 14.9 ms, total: 23.9 s\n",
            "Wall time: 12.2 s\n"
          ],
          "name": "stdout"
        }
      ]
    },
    {
      "metadata": {
        "id": "KR4TV1SLlRS-",
        "colab_type": "code",
        "outputId": "a2c4e7da-69ea-4dd9-febd-77150324f2a6",
        "colab": {
          "base_uri": "https://localhost:8080/",
          "height": 51
        }
      },
      "cell_type": "code",
      "source": [
        "%%time\n",
        "pickle.dump(model_LGB, open(filename, 'wb'))"
      ],
      "execution_count": 22,
      "outputs": [
        {
          "output_type": "stream",
          "text": [
            "CPU times: user 191 ms, sys: 2 ms, total: 193 ms\n",
            "Wall time: 115 ms\n"
          ],
          "name": "stdout"
        }
      ]
    },
    {
      "metadata": {
        "id": "ex8X3eQP_cRN",
        "colab_type": "text"
      },
      "cell_type": "markdown",
      "source": [
        "# Predict / Output"
      ]
    },
    {
      "metadata": {
        "id": "2H8GV7bq8U6K",
        "colab_type": "code",
        "colab": {
          "base_uri": "https://localhost:8080/",
          "height": 51
        },
        "outputId": "58b0b432-f3fa-4dd3-eba0-b1775f365285"
      },
      "cell_type": "code",
      "source": [
        "%%time\n",
        "pred_tgt = model.predict(df_tgt)\n",
        "pred_tgt[pred_tgt<0] = 0\n",
        "df_out = pd.DataFrame(index = df_tgt.index)\n",
        "df_out['PredictedLogRevenue'] = pred_tgt\n",
        "\n",
        "df_out.to_csv('output_LGB.csv')"
      ],
      "execution_count": 23,
      "outputs": [
        {
          "output_type": "stream",
          "text": [
            "CPU times: user 18.8 s, sys: 45.1 ms, total: 18.8 s\n",
            "Wall time: 12 s\n"
          ],
          "name": "stdout"
        }
      ]
    },
    {
      "metadata": {
        "id": "qjuxQSXI8U3v",
        "colab_type": "code",
        "outputId": "721f3d55-2664-44f6-952a-4c0e82011a12",
        "colab": {
          "base_uri": "https://localhost:8080/",
          "height": 233
        }
      },
      "cell_type": "code",
      "source": [
        "df_out.head()"
      ],
      "execution_count": 24,
      "outputs": [
        {
          "output_type": "execute_result",
          "data": {
            "text/html": [
              "<div>\n",
              "<style scoped>\n",
              "    .dataframe tbody tr th:only-of-type {\n",
              "        vertical-align: middle;\n",
              "    }\n",
              "\n",
              "    .dataframe tbody tr th {\n",
              "        vertical-align: top;\n",
              "    }\n",
              "\n",
              "    .dataframe thead th {\n",
              "        text-align: right;\n",
              "    }\n",
              "</style>\n",
              "<table border=\"1\" class=\"dataframe\">\n",
              "  <thead>\n",
              "    <tr style=\"text-align: right;\">\n",
              "      <th></th>\n",
              "      <th>PredictedLogRevenue</th>\n",
              "    </tr>\n",
              "    <tr>\n",
              "      <th>fullVisitorId</th>\n",
              "      <th></th>\n",
              "    </tr>\n",
              "  </thead>\n",
              "  <tbody>\n",
              "    <tr>\n",
              "      <th>0000000259678714014</th>\n",
              "      <td>0.426934</td>\n",
              "    </tr>\n",
              "    <tr>\n",
              "      <th>0000049363351866189</th>\n",
              "      <td>0.003023</td>\n",
              "    </tr>\n",
              "    <tr>\n",
              "      <th>0000053049821714864</th>\n",
              "      <td>0.000000</td>\n",
              "    </tr>\n",
              "    <tr>\n",
              "      <th>0000059488412965267</th>\n",
              "      <td>0.003023</td>\n",
              "    </tr>\n",
              "    <tr>\n",
              "      <th>0000085840370633780</th>\n",
              "      <td>0.000695</td>\n",
              "    </tr>\n",
              "  </tbody>\n",
              "</table>\n",
              "</div>"
            ],
            "text/plain": [
              "                     PredictedLogRevenue\n",
              "fullVisitorId                           \n",
              "0000000259678714014             0.426934\n",
              "0000049363351866189             0.003023\n",
              "0000053049821714864             0.000000\n",
              "0000059488412965267             0.003023\n",
              "0000085840370633780             0.000695"
            ]
          },
          "metadata": {
            "tags": []
          },
          "execution_count": 24
        }
      ]
    },
    {
      "metadata": {
        "id": "K584rugV8-pc",
        "colab_type": "code",
        "outputId": "ec6f10b5-63f5-412f-a79c-0d773938963b",
        "colab": {
          "base_uri": "https://localhost:8080/",
          "height": 295
        }
      },
      "cell_type": "code",
      "source": [
        "df_out.describe()"
      ],
      "execution_count": 25,
      "outputs": [
        {
          "output_type": "execute_result",
          "data": {
            "text/html": [
              "<div>\n",
              "<style scoped>\n",
              "    .dataframe tbody tr th:only-of-type {\n",
              "        vertical-align: middle;\n",
              "    }\n",
              "\n",
              "    .dataframe tbody tr th {\n",
              "        vertical-align: top;\n",
              "    }\n",
              "\n",
              "    .dataframe thead th {\n",
              "        text-align: right;\n",
              "    }\n",
              "</style>\n",
              "<table border=\"1\" class=\"dataframe\">\n",
              "  <thead>\n",
              "    <tr style=\"text-align: right;\">\n",
              "      <th></th>\n",
              "      <th>PredictedLogRevenue</th>\n",
              "    </tr>\n",
              "  </thead>\n",
              "  <tbody>\n",
              "    <tr>\n",
              "      <th>count</th>\n",
              "      <td>617242.000000</td>\n",
              "    </tr>\n",
              "    <tr>\n",
              "      <th>mean</th>\n",
              "      <td>0.197157</td>\n",
              "    </tr>\n",
              "    <tr>\n",
              "      <th>std</th>\n",
              "      <td>1.467492</td>\n",
              "    </tr>\n",
              "    <tr>\n",
              "      <th>min</th>\n",
              "      <td>0.000000</td>\n",
              "    </tr>\n",
              "    <tr>\n",
              "      <th>25%</th>\n",
              "      <td>0.000695</td>\n",
              "    </tr>\n",
              "    <tr>\n",
              "      <th>50%</th>\n",
              "      <td>0.000695</td>\n",
              "    </tr>\n",
              "    <tr>\n",
              "      <th>75%</th>\n",
              "      <td>0.000695</td>\n",
              "    </tr>\n",
              "    <tr>\n",
              "      <th>max</th>\n",
              "      <td>200.307625</td>\n",
              "    </tr>\n",
              "  </tbody>\n",
              "</table>\n",
              "</div>"
            ],
            "text/plain": [
              "       PredictedLogRevenue\n",
              "count        617242.000000\n",
              "mean              0.197157\n",
              "std               1.467492\n",
              "min               0.000000\n",
              "25%               0.000695\n",
              "50%               0.000695\n",
              "75%               0.000695\n",
              "max             200.307625"
            ]
          },
          "metadata": {
            "tags": []
          },
          "execution_count": 25
        }
      ]
    },
    {
      "metadata": {
        "id": "ohw4cX8ORZcs",
        "colab_type": "code",
        "colab": {}
      },
      "cell_type": "code",
      "source": [
        ""
      ],
      "execution_count": 0,
      "outputs": []
    }
  ]
}