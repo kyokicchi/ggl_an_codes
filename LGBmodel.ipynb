{
  "nbformat": 4,
  "nbformat_minor": 0,
  "metadata": {
    "colab": {
      "name": "trainLGBmodel.ipynb",
      "version": "0.3.2",
      "provenance": [],
      "collapsed_sections": [],
      "include_colab_link": true
    },
    "kernelspec": {
      "name": "python3",
      "display_name": "Python 3"
    },
    "accelerator": "GPU"
  },
  "cells": [
    {
      "cell_type": "markdown",
      "metadata": {
        "id": "view-in-github",
        "colab_type": "text"
      },
      "source": [
        "<a href=\"https://colab.research.google.com/github/kyokicchi/ggl_an_codes/blob/master/LGBmodel.ipynb\" target=\"_parent\"><img src=\"https://colab.research.google.com/assets/colab-badge.svg\" alt=\"Open In Colab\"/></a>"
      ]
    },
    {
      "metadata": {
        "id": "IAe1xrU__tk3",
        "colab_type": "text"
      },
      "cell_type": "markdown",
      "source": [
        "# initialize & load"
      ]
    },
    {
      "metadata": {
        "id": "H8X_jxlYnrn3",
        "colab_type": "code",
        "outputId": "730773e3-b552-4029-a0f0-d5cc8ea05c6f",
        "colab": {
          "base_uri": "https://localhost:8080/",
          "height": 152
        }
      },
      "cell_type": "code",
      "source": [
        "!pip install lightgbm"
      ],
      "execution_count": 1,
      "outputs": [
        {
          "output_type": "stream",
          "text": [
            "Collecting lightgbm\n",
            "\u001b[?25l  Downloading https://files.pythonhosted.org/packages/78/7e/bc87e7951cfaa998cffaf39e6c721f5bd04efb2e139486206356edb289a5/lightgbm-2.2.1-py2.py3-none-manylinux1_x86_64.whl (1.1MB)\n",
            "\u001b[K    100% |████████████████████████████████| 1.1MB 15.8MB/s \n",
            "\u001b[?25hRequirement already satisfied: numpy in /usr/local/lib/python3.6/dist-packages (from lightgbm) (1.14.6)\n",
            "Requirement already satisfied: scipy in /usr/local/lib/python3.6/dist-packages (from lightgbm) (0.19.1)\n",
            "Requirement already satisfied: scikit-learn in /usr/local/lib/python3.6/dist-packages (from lightgbm) (0.19.2)\n",
            "Installing collected packages: lightgbm\n",
            "Successfully installed lightgbm-2.2.1\n"
          ],
          "name": "stdout"
        }
      ]
    },
    {
      "metadata": {
        "id": "7PrvKZYHs9n0",
        "colab_type": "code",
        "colab": {}
      },
      "cell_type": "code",
      "source": [
        "import lightgbm as lgb\n",
        "\n",
        "from google.colab import drive\n",
        "from google.colab import files\n",
        "\n",
        "import numpy as np\n",
        "import pandas as pd\n",
        "\n",
        "from sklearn.model_selection import train_test_split\n",
        "import pickle"
      ],
      "execution_count": 0,
      "outputs": []
    },
    {
      "metadata": {
        "id": "Uujx3hEhjfnX",
        "colab_type": "code",
        "outputId": "0c0aa020-aec1-4a02-c831-47ca1b51fc8f",
        "colab": {
          "base_uri": "https://localhost:8080/",
          "height": 121
        }
      },
      "cell_type": "code",
      "source": [
        "drive.mount('/content/gdrive')"
      ],
      "execution_count": 3,
      "outputs": [
        {
          "output_type": "stream",
          "text": [
            "Go to this URL in a browser: https://accounts.google.com/o/oauth2/auth?client_id=947318989803-6bn6qk8qdgf4n4g3pfee6491hc0brc4i.apps.googleusercontent.com&redirect_uri=urn%3Aietf%3Awg%3Aoauth%3A2.0%3Aoob&scope=email%20https%3A%2F%2Fwww.googleapis.com%2Fauth%2Fdocs.test%20https%3A%2F%2Fwww.googleapis.com%2Fauth%2Fdrive%20https%3A%2F%2Fwww.googleapis.com%2Fauth%2Fdrive.photos.readonly%20https%3A%2F%2Fwww.googleapis.com%2Fauth%2Fpeopleapi.readonly&response_type=code\n",
            "\n",
            "Enter your authorization code:\n",
            "··········\n",
            "Mounted at /content/gdrive\n"
          ],
          "name": "stdout"
        }
      ]
    },
    {
      "metadata": {
        "id": "LT06pjlMus4d",
        "colab_type": "code",
        "outputId": "ce27289c-ea39-4316-eb49-57d9020cecf7",
        "colab": {
          "base_uri": "https://localhost:8080/",
          "height": 68
        }
      },
      "cell_type": "code",
      "source": [
        "%cd ../content/gdrive/My Drive/projects/ggl_an/\n",
        "%ls"
      ],
      "execution_count": 4,
      "outputs": [
        {
          "output_type": "stream",
          "text": [
            "/content/gdrive/My Drive/projects/ggl_an\n",
            "model_LGB.sav  output_LGB.csv  user_test.csv    user_train.csv\n",
            "model_NN.h5    output_NN.csv   user_test_n.csv  user_train_n.csv\n"
          ],
          "name": "stdout"
        }
      ]
    },
    {
      "metadata": {
        "id": "8mAcQ8lo8Ixk",
        "colab_type": "code",
        "colab": {
          "base_uri": "https://localhost:8080/",
          "height": 51
        },
        "outputId": "cfcd390f-b168-4cd0-8f07-0cf204374b54"
      },
      "cell_type": "code",
      "source": [
        "%%time\n",
        "\n",
        "df_train = pd.read_csv('user_train.csv', index_col = 0, dtype={'fullVisitorId': 'str'})\n",
        "df_test = pd.read_csv('user_test.csv', index_col = 0, dtype={'fullVisitorId': 'str'})\n",
        "\n",
        "df_y = df_train['transactionRevenue']\n",
        "df_x = df_train.drop(['transactionRevenue'], axis=1)\n",
        "df_tgt = df_test.drop(['transactionRevenue'], axis=1)\n",
        "\n",
        "filename = 'model_LGB.sav'\n",
        "model = pickle.load(open(filename, 'rb'))"
      ],
      "execution_count": 5,
      "outputs": [
        {
          "output_type": "stream",
          "text": [
            "CPU times: user 4.69 s, sys: 641 ms, total: 5.33 s\n",
            "Wall time: 8.88 s\n"
          ],
          "name": "stdout"
        }
      ]
    },
    {
      "metadata": {
        "id": "6oNx0QIG81nE",
        "colab_type": "code",
        "outputId": "5b10e83d-0ac1-4645-e024-00bf207a47e8",
        "colab": {
          "base_uri": "https://localhost:8080/",
          "height": 34
        }
      },
      "cell_type": "code",
      "source": [
        "df_x.shape, df_y.shape, df_tgt.shape"
      ],
      "execution_count": 6,
      "outputs": [
        {
          "output_type": "execute_result",
          "data": {
            "text/plain": [
              "((714167, 23), (714167,), (617242, 23))"
            ]
          },
          "metadata": {
            "tags": []
          },
          "execution_count": 6
        }
      ]
    },
    {
      "metadata": {
        "id": "sYWeiNW0j9cr",
        "colab_type": "code",
        "outputId": "34b64d76-f1dd-416c-e522-6fa82b31224f",
        "colab": {
          "base_uri": "https://localhost:8080/",
          "height": 51
        }
      },
      "cell_type": "code",
      "source": [
        "%%time\n",
        "x_train, x_test, y_train, y_test = train_test_split(df_x, df_y)"
      ],
      "execution_count": 7,
      "outputs": [
        {
          "output_type": "stream",
          "text": [
            "CPU times: user 461 ms, sys: 7.13 ms, total: 468 ms\n",
            "Wall time: 468 ms\n"
          ],
          "name": "stdout"
        }
      ]
    },
    {
      "metadata": {
        "id": "-I9DFbOsJBPm",
        "colab_type": "code",
        "colab": {
          "base_uri": "https://localhost:8080/",
          "height": 34
        },
        "outputId": "4a01b83e-8f3d-4622-dd50-b0f5369f4dfb"
      },
      "cell_type": "code",
      "source": [
        "x_train.shape, y_train.shape, x_test.shape,  y_test.shape "
      ],
      "execution_count": 8,
      "outputs": [
        {
          "output_type": "execute_result",
          "data": {
            "text/plain": [
              "((535625, 23), (535625,), (178542, 23), (178542,))"
            ]
          },
          "metadata": {
            "tags": []
          },
          "execution_count": 8
        }
      ]
    },
    {
      "metadata": {
        "id": "TGrVT1Le4e7M",
        "colab_type": "code",
        "colab": {}
      },
      "cell_type": "code",
      "source": [
        "from sklearn.model_selection import GridSearchCV\n",
        "\n",
        "def applyGSCV(model, param, X, Y, N):\n",
        "    res = GridSearchCV(model, param, cv=N)\n",
        "    res.fit(X, Y)\n",
        "    return res"
      ],
      "execution_count": 0,
      "outputs": []
    },
    {
      "metadata": {
        "id": "Z8oIeaT9JVE-",
        "colab_type": "code",
        "colab": {}
      },
      "cell_type": "code",
      "source": [
        "model = lgb.LGBMRegressor()\n",
        "\n",
        "param = {\n",
        "    'learning_rate': [0.1],\n",
        "    'n_estimators': [200],\n",
        "    'num_leaves': [100],\n",
        "}"
      ],
      "execution_count": 0,
      "outputs": []
    },
    {
      "metadata": {
        "id": "lyCSOn5jJRhn",
        "colab_type": "code",
        "colab": {
          "base_uri": "https://localhost:8080/",
          "height": 51
        },
        "outputId": "92f51d1d-5d13-44c5-ed91-f64a225b0e9d"
      },
      "cell_type": "code",
      "source": [
        "%%time\n",
        "\n",
        "model_LGB = applyGSCV(model, param, x_train, y_train, 3)"
      ],
      "execution_count": 12,
      "outputs": [
        {
          "output_type": "stream",
          "text": [
            "CPU times: user 1min 56s, sys: 1.33 s, total: 1min 57s\n",
            "Wall time: 1min\n"
          ],
          "name": "stdout"
        }
      ]
    },
    {
      "metadata": {
        "id": "5LGbglpv5_80",
        "colab_type": "code",
        "outputId": "867f7f80-d94e-474f-bd3d-208690dbbc8e",
        "colab": {
          "base_uri": "https://localhost:8080/",
          "height": 135
        }
      },
      "cell_type": "code",
      "source": [
        "print(model_LGB.best_score_)\n",
        "print(model_LGB.best_estimator_)"
      ],
      "execution_count": 13,
      "outputs": [
        {
          "output_type": "stream",
          "text": [
            "0.3855740667812348\n",
            "LGBMRegressor(boosting_type='gbdt', class_weight=None, colsample_bytree=1.0,\n",
            "       importance_type='split', learning_rate=0.1, max_depth=-1,\n",
            "       min_child_samples=20, min_child_weight=0.001, min_split_gain=0.0,\n",
            "       n_estimators=200, n_jobs=-1, num_leaves=100, objective=None,\n",
            "       random_state=None, reg_alpha=0.0, reg_lambda=0.0, silent=True,\n",
            "       subsample=1.0, subsample_for_bin=200000, subsample_freq=0)\n"
          ],
          "name": "stdout"
        }
      ]
    },
    {
      "metadata": {
        "id": "ItMWaVwslMJi",
        "colab_type": "code",
        "outputId": "e32045eb-716e-4651-af68-400b026a66ea",
        "colab": {
          "base_uri": "https://localhost:8080/",
          "height": 3486
        }
      },
      "cell_type": "code",
      "source": [
        "%%time\n",
        "model = lgb.LGBMRegressor(colsample_bytree=1.0,learning_rate=0.1,\n",
        "       min_child_samples=20,n_estimators=200,num_leaves=100,\n",
        "       reg_alpha=0.0, reg_lambda=0.0)\n",
        "\n",
        "model.fit(x_train, \n",
        "          y_train,\n",
        "          eval_set=[(x_train, y_train),(x_test, y_test)],\n",
        "          eval_metric='rmse',\n",
        "          early_stopping_rounds = 300)"
      ],
      "execution_count": 14,
      "outputs": [
        {
          "output_type": "stream",
          "text": [
            "[1]\ttraining's l2: 7.93716\ttraining's rmse: 2.8173\tvalid_1's l2: 6.90662\tvalid_1's rmse: 2.62805\n",
            "Training until validation scores don't improve for 300 rounds.\n",
            "[2]\ttraining's l2: 7.35639\ttraining's rmse: 2.71227\tvalid_1's l2: 6.38931\tvalid_1's rmse: 2.52771\n",
            "[3]\ttraining's l2: 6.87919\ttraining's rmse: 2.62282\tvalid_1's l2: 5.97543\tvalid_1's rmse: 2.44447\n",
            "[4]\ttraining's l2: 6.48314\ttraining's rmse: 2.5462\tvalid_1's l2: 5.63841\tvalid_1's rmse: 2.37453\n",
            "[5]\ttraining's l2: 6.15608\ttraining's rmse: 2.48114\tvalid_1's l2: 5.37168\tvalid_1's rmse: 2.31769\n",
            "[6]\ttraining's l2: 5.88511\ttraining's rmse: 2.42592\tvalid_1's l2: 5.16577\tvalid_1's rmse: 2.27283\n",
            "[7]\ttraining's l2: 5.65732\ttraining's rmse: 2.37851\tvalid_1's l2: 5.00357\tvalid_1's rmse: 2.23687\n",
            "[8]\ttraining's l2: 5.46503\ttraining's rmse: 2.33774\tvalid_1's l2: 4.85911\tvalid_1's rmse: 2.20434\n",
            "[9]\ttraining's l2: 5.30002\ttraining's rmse: 2.30218\tvalid_1's l2: 4.75587\tvalid_1's rmse: 2.18079\n",
            "[10]\ttraining's l2: 5.15794\ttraining's rmse: 2.27111\tvalid_1's l2: 4.67535\tvalid_1's rmse: 2.16226\n",
            "[11]\ttraining's l2: 5.03976\ttraining's rmse: 2.24494\tvalid_1's l2: 4.6065\tvalid_1's rmse: 2.14628\n",
            "[12]\ttraining's l2: 4.93114\ttraining's rmse: 2.22062\tvalid_1's l2: 4.56514\tvalid_1's rmse: 2.13662\n",
            "[13]\ttraining's l2: 4.842\ttraining's rmse: 2.20045\tvalid_1's l2: 4.51789\tvalid_1's rmse: 2.12553\n",
            "[14]\ttraining's l2: 4.76018\ttraining's rmse: 2.18178\tvalid_1's l2: 4.48753\tvalid_1's rmse: 2.11838\n",
            "[15]\ttraining's l2: 4.69132\ttraining's rmse: 2.16595\tvalid_1's l2: 4.46473\tvalid_1's rmse: 2.11299\n",
            "[16]\ttraining's l2: 4.63015\ttraining's rmse: 2.15178\tvalid_1's l2: 4.44305\tvalid_1's rmse: 2.10785\n",
            "[17]\ttraining's l2: 4.57528\ttraining's rmse: 2.13899\tvalid_1's l2: 4.4244\tvalid_1's rmse: 2.10343\n",
            "[18]\ttraining's l2: 4.52452\ttraining's rmse: 2.12709\tvalid_1's l2: 4.41858\tvalid_1's rmse: 2.10204\n",
            "[19]\ttraining's l2: 4.44043\ttraining's rmse: 2.10723\tvalid_1's l2: 4.40286\tvalid_1's rmse: 2.0983\n",
            "[20]\ttraining's l2: 4.39899\ttraining's rmse: 2.09738\tvalid_1's l2: 4.39768\tvalid_1's rmse: 2.09706\n",
            "[21]\ttraining's l2: 4.32763\ttraining's rmse: 2.0803\tvalid_1's l2: 4.40151\tvalid_1's rmse: 2.09798\n",
            "[22]\ttraining's l2: 4.29176\ttraining's rmse: 2.07166\tvalid_1's l2: 4.4013\tvalid_1's rmse: 2.09793\n",
            "[23]\ttraining's l2: 4.23425\ttraining's rmse: 2.05773\tvalid_1's l2: 4.39439\tvalid_1's rmse: 2.09628\n",
            "[24]\ttraining's l2: 4.18677\ttraining's rmse: 2.04616\tvalid_1's l2: 4.39947\tvalid_1's rmse: 2.09749\n",
            "[25]\ttraining's l2: 4.15779\ttraining's rmse: 2.03907\tvalid_1's l2: 4.40084\tvalid_1's rmse: 2.09782\n",
            "[26]\ttraining's l2: 4.11782\ttraining's rmse: 2.02924\tvalid_1's l2: 4.38762\tvalid_1's rmse: 2.09466\n",
            "[27]\ttraining's l2: 4.0701\ttraining's rmse: 2.01745\tvalid_1's l2: 4.39955\tvalid_1's rmse: 2.09751\n",
            "[28]\ttraining's l2: 4.03268\ttraining's rmse: 2.00815\tvalid_1's l2: 4.40997\tvalid_1's rmse: 2.09999\n",
            "[29]\ttraining's l2: 3.99314\ttraining's rmse: 1.99829\tvalid_1's l2: 4.42819\tvalid_1's rmse: 2.10433\n",
            "[30]\ttraining's l2: 3.95331\ttraining's rmse: 1.98829\tvalid_1's l2: 4.44529\tvalid_1's rmse: 2.10839\n",
            "[31]\ttraining's l2: 3.92114\ttraining's rmse: 1.98019\tvalid_1's l2: 4.46094\tvalid_1's rmse: 2.11209\n",
            "[32]\ttraining's l2: 3.89828\ttraining's rmse: 1.97441\tvalid_1's l2: 4.47343\tvalid_1's rmse: 2.11505\n",
            "[33]\ttraining's l2: 3.87143\ttraining's rmse: 1.9676\tvalid_1's l2: 4.48935\tvalid_1's rmse: 2.11881\n",
            "[34]\ttraining's l2: 3.85087\ttraining's rmse: 1.96236\tvalid_1's l2: 4.48651\tvalid_1's rmse: 2.11814\n",
            "[35]\ttraining's l2: 3.82847\ttraining's rmse: 1.95665\tvalid_1's l2: 4.48276\tvalid_1's rmse: 2.11725\n",
            "[36]\ttraining's l2: 3.80494\ttraining's rmse: 1.95063\tvalid_1's l2: 4.47363\tvalid_1's rmse: 2.1151\n",
            "[37]\ttraining's l2: 3.78711\ttraining's rmse: 1.94605\tvalid_1's l2: 4.47092\tvalid_1's rmse: 2.11445\n",
            "[38]\ttraining's l2: 3.76832\ttraining's rmse: 1.94122\tvalid_1's l2: 4.47539\tvalid_1's rmse: 2.11551\n",
            "[39]\ttraining's l2: 3.75057\ttraining's rmse: 1.93664\tvalid_1's l2: 4.47473\tvalid_1's rmse: 2.11536\n",
            "[40]\ttraining's l2: 3.72966\ttraining's rmse: 1.93123\tvalid_1's l2: 4.46679\tvalid_1's rmse: 2.11348\n",
            "[41]\ttraining's l2: 3.71346\ttraining's rmse: 1.92704\tvalid_1's l2: 4.46663\tvalid_1's rmse: 2.11344\n",
            "[42]\ttraining's l2: 3.69868\ttraining's rmse: 1.9232\tvalid_1's l2: 4.46638\tvalid_1's rmse: 2.11338\n",
            "[43]\ttraining's l2: 3.68451\ttraining's rmse: 1.91951\tvalid_1's l2: 4.46276\tvalid_1's rmse: 2.11253\n",
            "[44]\ttraining's l2: 3.66811\ttraining's rmse: 1.91523\tvalid_1's l2: 4.46204\tvalid_1's rmse: 2.11235\n",
            "[45]\ttraining's l2: 3.63841\ttraining's rmse: 1.90746\tvalid_1's l2: 4.45913\tvalid_1's rmse: 2.11167\n",
            "[46]\ttraining's l2: 3.61351\ttraining's rmse: 1.90092\tvalid_1's l2: 4.45475\tvalid_1's rmse: 2.11063\n",
            "[47]\ttraining's l2: 3.60272\ttraining's rmse: 1.89808\tvalid_1's l2: 4.45372\tvalid_1's rmse: 2.11038\n",
            "[48]\ttraining's l2: 3.57913\ttraining's rmse: 1.89186\tvalid_1's l2: 4.46898\tvalid_1's rmse: 2.114\n",
            "[49]\ttraining's l2: 3.56354\ttraining's rmse: 1.88773\tvalid_1's l2: 4.46765\tvalid_1's rmse: 2.11368\n",
            "[50]\ttraining's l2: 3.55365\ttraining's rmse: 1.88511\tvalid_1's l2: 4.46922\tvalid_1's rmse: 2.11405\n",
            "[51]\ttraining's l2: 3.54097\ttraining's rmse: 1.88175\tvalid_1's l2: 4.47021\tvalid_1's rmse: 2.11429\n",
            "[52]\ttraining's l2: 3.52915\ttraining's rmse: 1.8786\tvalid_1's l2: 4.47772\tvalid_1's rmse: 2.11606\n",
            "[53]\ttraining's l2: 3.51894\ttraining's rmse: 1.87588\tvalid_1's l2: 4.47679\tvalid_1's rmse: 2.11584\n",
            "[54]\ttraining's l2: 3.51041\ttraining's rmse: 1.87361\tvalid_1's l2: 4.4764\tvalid_1's rmse: 2.11575\n",
            "[55]\ttraining's l2: 3.48816\ttraining's rmse: 1.86766\tvalid_1's l2: 4.48019\tvalid_1's rmse: 2.11665\n",
            "[56]\ttraining's l2: 3.47821\ttraining's rmse: 1.865\tvalid_1's l2: 4.48117\tvalid_1's rmse: 2.11688\n",
            "[57]\ttraining's l2: 3.47082\ttraining's rmse: 1.86301\tvalid_1's l2: 4.47842\tvalid_1's rmse: 2.11623\n",
            "[58]\ttraining's l2: 3.46396\ttraining's rmse: 1.86117\tvalid_1's l2: 4.48023\tvalid_1's rmse: 2.11666\n",
            "[59]\ttraining's l2: 3.45441\ttraining's rmse: 1.8586\tvalid_1's l2: 4.47793\tvalid_1's rmse: 2.11611\n",
            "[60]\ttraining's l2: 3.44653\ttraining's rmse: 1.85648\tvalid_1's l2: 4.47908\tvalid_1's rmse: 2.11638\n",
            "[61]\ttraining's l2: 3.43766\ttraining's rmse: 1.85409\tvalid_1's l2: 4.47877\tvalid_1's rmse: 2.11631\n",
            "[62]\ttraining's l2: 3.425\ttraining's rmse: 1.85068\tvalid_1's l2: 4.48838\tvalid_1's rmse: 2.11858\n",
            "[63]\ttraining's l2: 3.41808\ttraining's rmse: 1.84881\tvalid_1's l2: 4.48704\tvalid_1's rmse: 2.11826\n",
            "[64]\ttraining's l2: 3.40949\ttraining's rmse: 1.84648\tvalid_1's l2: 4.48816\tvalid_1's rmse: 2.11853\n",
            "[65]\ttraining's l2: 3.40161\ttraining's rmse: 1.84434\tvalid_1's l2: 4.49028\tvalid_1's rmse: 2.11903\n",
            "[66]\ttraining's l2: 3.39538\ttraining's rmse: 1.84266\tvalid_1's l2: 4.49177\tvalid_1's rmse: 2.11938\n",
            "[67]\ttraining's l2: 3.38775\ttraining's rmse: 1.84058\tvalid_1's l2: 4.48957\tvalid_1's rmse: 2.11886\n",
            "[68]\ttraining's l2: 3.379\ttraining's rmse: 1.83821\tvalid_1's l2: 4.48942\tvalid_1's rmse: 2.11882\n",
            "[69]\ttraining's l2: 3.36814\ttraining's rmse: 1.83525\tvalid_1's l2: 4.49289\tvalid_1's rmse: 2.11964\n",
            "[70]\ttraining's l2: 3.36016\ttraining's rmse: 1.83307\tvalid_1's l2: 4.49742\tvalid_1's rmse: 2.12071\n",
            "[71]\ttraining's l2: 3.35447\ttraining's rmse: 1.83152\tvalid_1's l2: 4.49817\tvalid_1's rmse: 2.12089\n",
            "[72]\ttraining's l2: 3.35011\ttraining's rmse: 1.83033\tvalid_1's l2: 4.50018\tvalid_1's rmse: 2.12136\n",
            "[73]\ttraining's l2: 3.34404\ttraining's rmse: 1.82867\tvalid_1's l2: 4.49975\tvalid_1's rmse: 2.12126\n",
            "[74]\ttraining's l2: 3.33413\ttraining's rmse: 1.82596\tvalid_1's l2: 4.501\tvalid_1's rmse: 2.12156\n",
            "[75]\ttraining's l2: 3.32759\ttraining's rmse: 1.82417\tvalid_1's l2: 4.49939\tvalid_1's rmse: 2.12118\n",
            "[76]\ttraining's l2: 3.31951\ttraining's rmse: 1.82195\tvalid_1's l2: 4.50174\tvalid_1's rmse: 2.12173\n",
            "[77]\ttraining's l2: 3.31354\ttraining's rmse: 1.82031\tvalid_1's l2: 4.50271\tvalid_1's rmse: 2.12196\n",
            "[78]\ttraining's l2: 3.30524\ttraining's rmse: 1.81803\tvalid_1's l2: 4.50541\tvalid_1's rmse: 2.1226\n",
            "[79]\ttraining's l2: 3.29815\ttraining's rmse: 1.81608\tvalid_1's l2: 4.50945\tvalid_1's rmse: 2.12355\n",
            "[80]\ttraining's l2: 3.28971\ttraining's rmse: 1.81375\tvalid_1's l2: 4.50956\tvalid_1's rmse: 2.12357\n",
            "[81]\ttraining's l2: 3.28167\ttraining's rmse: 1.81154\tvalid_1's l2: 4.51243\tvalid_1's rmse: 2.12425\n",
            "[82]\ttraining's l2: 3.27435\ttraining's rmse: 1.80952\tvalid_1's l2: 4.51207\tvalid_1's rmse: 2.12416\n",
            "[83]\ttraining's l2: 3.26391\ttraining's rmse: 1.80663\tvalid_1's l2: 4.51832\tvalid_1's rmse: 2.12563\n",
            "[84]\ttraining's l2: 3.25778\ttraining's rmse: 1.80493\tvalid_1's l2: 4.51913\tvalid_1's rmse: 2.12582\n",
            "[85]\ttraining's l2: 3.24871\ttraining's rmse: 1.80242\tvalid_1's l2: 4.52043\tvalid_1's rmse: 2.12613\n",
            "[86]\ttraining's l2: 3.23153\ttraining's rmse: 1.79765\tvalid_1's l2: 4.53479\tvalid_1's rmse: 2.1295\n",
            "[87]\ttraining's l2: 3.22631\ttraining's rmse: 1.79619\tvalid_1's l2: 4.53438\tvalid_1's rmse: 2.12941\n",
            "[88]\ttraining's l2: 3.21683\ttraining's rmse: 1.79355\tvalid_1's l2: 4.5384\tvalid_1's rmse: 2.13035\n",
            "[89]\ttraining's l2: 3.20891\ttraining's rmse: 1.79134\tvalid_1's l2: 4.53983\tvalid_1's rmse: 2.13069\n",
            "[90]\ttraining's l2: 3.20403\ttraining's rmse: 1.78998\tvalid_1's l2: 4.54214\tvalid_1's rmse: 2.13123\n",
            "[91]\ttraining's l2: 3.19625\ttraining's rmse: 1.78781\tvalid_1's l2: 4.54124\tvalid_1's rmse: 2.13102\n",
            "[92]\ttraining's l2: 3.19017\ttraining's rmse: 1.7861\tvalid_1's l2: 4.5443\tvalid_1's rmse: 2.13174\n",
            "[93]\ttraining's l2: 3.18433\ttraining's rmse: 1.78447\tvalid_1's l2: 4.54654\tvalid_1's rmse: 2.13226\n",
            "[94]\ttraining's l2: 3.17949\ttraining's rmse: 1.78311\tvalid_1's l2: 4.54745\tvalid_1's rmse: 2.13248\n",
            "[95]\ttraining's l2: 3.17046\ttraining's rmse: 1.78058\tvalid_1's l2: 4.54547\tvalid_1's rmse: 2.13201\n",
            "[96]\ttraining's l2: 3.16666\ttraining's rmse: 1.77951\tvalid_1's l2: 4.5466\tvalid_1's rmse: 2.13228\n",
            "[97]\ttraining's l2: 3.16109\ttraining's rmse: 1.77794\tvalid_1's l2: 4.54623\tvalid_1's rmse: 2.13219\n",
            "[98]\ttraining's l2: 3.15625\ttraining's rmse: 1.77658\tvalid_1's l2: 4.54931\tvalid_1's rmse: 2.13291\n",
            "[99]\ttraining's l2: 3.1473\ttraining's rmse: 1.77406\tvalid_1's l2: 4.55775\tvalid_1's rmse: 2.13489\n",
            "[100]\ttraining's l2: 3.14299\ttraining's rmse: 1.77285\tvalid_1's l2: 4.55755\tvalid_1's rmse: 2.13484\n",
            "[101]\ttraining's l2: 3.13949\ttraining's rmse: 1.77186\tvalid_1's l2: 4.5555\tvalid_1's rmse: 2.13436\n",
            "[102]\ttraining's l2: 3.13523\ttraining's rmse: 1.77066\tvalid_1's l2: 4.5538\tvalid_1's rmse: 2.13396\n",
            "[103]\ttraining's l2: 3.12018\ttraining's rmse: 1.7664\tvalid_1's l2: 4.5525\tvalid_1's rmse: 2.13366\n",
            "[104]\ttraining's l2: 3.11062\ttraining's rmse: 1.76369\tvalid_1's l2: 4.56221\tvalid_1's rmse: 2.13593\n",
            "[105]\ttraining's l2: 3.1042\ttraining's rmse: 1.76187\tvalid_1's l2: 4.56109\tvalid_1's rmse: 2.13567\n",
            "[106]\ttraining's l2: 3.09974\ttraining's rmse: 1.76061\tvalid_1's l2: 4.56079\tvalid_1's rmse: 2.1356\n",
            "[107]\ttraining's l2: 3.09537\ttraining's rmse: 1.75937\tvalid_1's l2: 4.56123\tvalid_1's rmse: 2.1357\n",
            "[108]\ttraining's l2: 3.08068\ttraining's rmse: 1.75519\tvalid_1's l2: 4.5774\tvalid_1's rmse: 2.13949\n",
            "[109]\ttraining's l2: 3.0736\ttraining's rmse: 1.75317\tvalid_1's l2: 4.57836\tvalid_1's rmse: 2.13971\n",
            "[110]\ttraining's l2: 3.06596\ttraining's rmse: 1.75099\tvalid_1's l2: 4.57611\tvalid_1's rmse: 2.13918\n",
            "[111]\ttraining's l2: 3.05839\ttraining's rmse: 1.74883\tvalid_1's l2: 4.57317\tvalid_1's rmse: 2.1385\n",
            "[112]\ttraining's l2: 3.0531\ttraining's rmse: 1.74731\tvalid_1's l2: 4.5732\tvalid_1's rmse: 2.1385\n",
            "[113]\ttraining's l2: 3.04274\ttraining's rmse: 1.74435\tvalid_1's l2: 4.58453\tvalid_1's rmse: 2.14115\n",
            "[114]\ttraining's l2: 3.03832\ttraining's rmse: 1.74308\tvalid_1's l2: 4.58343\tvalid_1's rmse: 2.14089\n",
            "[115]\ttraining's l2: 3.03419\ttraining's rmse: 1.74189\tvalid_1's l2: 4.58324\tvalid_1's rmse: 2.14085\n",
            "[116]\ttraining's l2: 3.03058\ttraining's rmse: 1.74086\tvalid_1's l2: 4.58111\tvalid_1's rmse: 2.14035\n",
            "[117]\ttraining's l2: 3.02487\ttraining's rmse: 1.73922\tvalid_1's l2: 4.58046\tvalid_1's rmse: 2.1402\n",
            "[118]\ttraining's l2: 3.02126\ttraining's rmse: 1.73818\tvalid_1's l2: 4.57988\tvalid_1's rmse: 2.14006\n",
            "[119]\ttraining's l2: 3.01556\ttraining's rmse: 1.73654\tvalid_1's l2: 4.58156\tvalid_1's rmse: 2.14046\n",
            "[120]\ttraining's l2: 3.01153\ttraining's rmse: 1.73538\tvalid_1's l2: 4.58085\tvalid_1's rmse: 2.14029\n",
            "[121]\ttraining's l2: 3.00051\ttraining's rmse: 1.7322\tvalid_1's l2: 4.58794\tvalid_1's rmse: 2.14195\n",
            "[122]\ttraining's l2: 2.99756\ttraining's rmse: 1.73135\tvalid_1's l2: 4.58657\tvalid_1's rmse: 2.14163\n",
            "[123]\ttraining's l2: 2.99323\ttraining's rmse: 1.73009\tvalid_1's l2: 4.58641\tvalid_1's rmse: 2.14159\n",
            "[124]\ttraining's l2: 2.99036\ttraining's rmse: 1.72927\tvalid_1's l2: 4.58741\tvalid_1's rmse: 2.14182\n",
            "[125]\ttraining's l2: 2.98718\ttraining's rmse: 1.72835\tvalid_1's l2: 4.58893\tvalid_1's rmse: 2.14218\n",
            "[126]\ttraining's l2: 2.9839\ttraining's rmse: 1.7274\tvalid_1's l2: 4.58942\tvalid_1's rmse: 2.14229\n",
            "[127]\ttraining's l2: 2.9781\ttraining's rmse: 1.72572\tvalid_1's l2: 4.58875\tvalid_1's rmse: 2.14214\n",
            "[128]\ttraining's l2: 2.97522\ttraining's rmse: 1.72488\tvalid_1's l2: 4.59068\tvalid_1's rmse: 2.14259\n",
            "[129]\ttraining's l2: 2.97005\ttraining's rmse: 1.72338\tvalid_1's l2: 4.58916\tvalid_1's rmse: 2.14223\n",
            "[130]\ttraining's l2: 2.96633\ttraining's rmse: 1.7223\tvalid_1's l2: 4.59071\tvalid_1's rmse: 2.14259\n",
            "[131]\ttraining's l2: 2.96321\ttraining's rmse: 1.7214\tvalid_1's l2: 4.59092\tvalid_1's rmse: 2.14264\n",
            "[132]\ttraining's l2: 2.9606\ttraining's rmse: 1.72064\tvalid_1's l2: 4.59299\tvalid_1's rmse: 2.14313\n",
            "[133]\ttraining's l2: 2.9565\ttraining's rmse: 1.71945\tvalid_1's l2: 4.59106\tvalid_1's rmse: 2.14267\n",
            "[134]\ttraining's l2: 2.9496\ttraining's rmse: 1.71744\tvalid_1's l2: 4.59151\tvalid_1's rmse: 2.14278\n",
            "[135]\ttraining's l2: 2.94305\ttraining's rmse: 1.71553\tvalid_1's l2: 4.59024\tvalid_1's rmse: 2.14248\n",
            "[136]\ttraining's l2: 2.93752\ttraining's rmse: 1.71392\tvalid_1's l2: 4.5923\tvalid_1's rmse: 2.14296\n",
            "[137]\ttraining's l2: 2.92435\ttraining's rmse: 1.71007\tvalid_1's l2: 4.59996\tvalid_1's rmse: 2.14475\n",
            "[138]\ttraining's l2: 2.9188\ttraining's rmse: 1.70845\tvalid_1's l2: 4.59925\tvalid_1's rmse: 2.14459\n",
            "[139]\ttraining's l2: 2.91289\ttraining's rmse: 1.70672\tvalid_1's l2: 4.59991\tvalid_1's rmse: 2.14474\n",
            "[140]\ttraining's l2: 2.90778\ttraining's rmse: 1.70522\tvalid_1's l2: 4.60264\tvalid_1's rmse: 2.14538\n",
            "[141]\ttraining's l2: 2.90515\ttraining's rmse: 1.70445\tvalid_1's l2: 4.603\tvalid_1's rmse: 2.14546\n",
            "[142]\ttraining's l2: 2.90158\ttraining's rmse: 1.7034\tvalid_1's l2: 4.60514\tvalid_1's rmse: 2.14596\n",
            "[143]\ttraining's l2: 2.88949\ttraining's rmse: 1.69985\tvalid_1's l2: 4.61326\tvalid_1's rmse: 2.14785\n",
            "[144]\ttraining's l2: 2.8861\ttraining's rmse: 1.69885\tvalid_1's l2: 4.61519\tvalid_1's rmse: 2.1483\n",
            "[145]\ttraining's l2: 2.8824\ttraining's rmse: 1.69776\tvalid_1's l2: 4.61711\tvalid_1's rmse: 2.14875\n",
            "[146]\ttraining's l2: 2.87813\ttraining's rmse: 1.69651\tvalid_1's l2: 4.61741\tvalid_1's rmse: 2.14882\n",
            "[147]\ttraining's l2: 2.86657\ttraining's rmse: 1.6931\tvalid_1's l2: 4.62378\tvalid_1's rmse: 2.1503\n",
            "[148]\ttraining's l2: 2.86434\ttraining's rmse: 1.69244\tvalid_1's l2: 4.62408\tvalid_1's rmse: 2.15037\n",
            "[149]\ttraining's l2: 2.86096\ttraining's rmse: 1.69144\tvalid_1's l2: 4.6239\tvalid_1's rmse: 2.15033\n",
            "[150]\ttraining's l2: 2.85182\ttraining's rmse: 1.68873\tvalid_1's l2: 4.63113\tvalid_1's rmse: 2.15201\n",
            "[151]\ttraining's l2: 2.84895\ttraining's rmse: 1.68788\tvalid_1's l2: 4.63173\tvalid_1's rmse: 2.15215\n",
            "[152]\ttraining's l2: 2.84127\ttraining's rmse: 1.68561\tvalid_1's l2: 4.63741\tvalid_1's rmse: 2.15346\n",
            "[153]\ttraining's l2: 2.83788\ttraining's rmse: 1.6846\tvalid_1's l2: 4.63955\tvalid_1's rmse: 2.15396\n",
            "[154]\ttraining's l2: 2.83492\ttraining's rmse: 1.68372\tvalid_1's l2: 4.64001\tvalid_1's rmse: 2.15407\n",
            "[155]\ttraining's l2: 2.83015\ttraining's rmse: 1.6823\tvalid_1's l2: 4.64181\tvalid_1's rmse: 2.15449\n",
            "[156]\ttraining's l2: 2.82592\ttraining's rmse: 1.68105\tvalid_1's l2: 4.64194\tvalid_1's rmse: 2.15452\n",
            "[157]\ttraining's l2: 2.82179\ttraining's rmse: 1.67982\tvalid_1's l2: 4.6436\tvalid_1's rmse: 2.1549\n",
            "[158]\ttraining's l2: 2.81273\ttraining's rmse: 1.67712\tvalid_1's l2: 4.65074\tvalid_1's rmse: 2.15656\n",
            "[159]\ttraining's l2: 2.80359\ttraining's rmse: 1.67439\tvalid_1's l2: 4.65663\tvalid_1's rmse: 2.15792\n",
            "[160]\ttraining's l2: 2.80102\ttraining's rmse: 1.67362\tvalid_1's l2: 4.65564\tvalid_1's rmse: 2.15769\n",
            "[161]\ttraining's l2: 2.79747\ttraining's rmse: 1.67256\tvalid_1's l2: 4.65744\tvalid_1's rmse: 2.15811\n",
            "[162]\ttraining's l2: 2.79395\ttraining's rmse: 1.67151\tvalid_1's l2: 4.6574\tvalid_1's rmse: 2.1581\n",
            "[163]\ttraining's l2: 2.79039\ttraining's rmse: 1.67045\tvalid_1's l2: 4.65952\tvalid_1's rmse: 2.15859\n",
            "[164]\ttraining's l2: 2.78549\ttraining's rmse: 1.66898\tvalid_1's l2: 4.66091\tvalid_1's rmse: 2.15891\n",
            "[165]\ttraining's l2: 2.77829\ttraining's rmse: 1.66682\tvalid_1's l2: 4.67486\tvalid_1's rmse: 2.16214\n",
            "[166]\ttraining's l2: 2.77561\ttraining's rmse: 1.66602\tvalid_1's l2: 4.67485\tvalid_1's rmse: 2.16214\n",
            "[167]\ttraining's l2: 2.77065\ttraining's rmse: 1.66453\tvalid_1's l2: 4.67638\tvalid_1's rmse: 2.16249\n",
            "[168]\ttraining's l2: 2.76752\ttraining's rmse: 1.66359\tvalid_1's l2: 4.67781\tvalid_1's rmse: 2.16283\n",
            "[169]\ttraining's l2: 2.76218\ttraining's rmse: 1.66198\tvalid_1's l2: 4.68075\tvalid_1's rmse: 2.16351\n",
            "[170]\ttraining's l2: 2.75853\ttraining's rmse: 1.66088\tvalid_1's l2: 4.68179\tvalid_1's rmse: 2.16374\n",
            "[171]\ttraining's l2: 2.75338\ttraining's rmse: 1.65933\tvalid_1's l2: 4.68376\tvalid_1's rmse: 2.1642\n",
            "[172]\ttraining's l2: 2.74644\ttraining's rmse: 1.65724\tvalid_1's l2: 4.69187\tvalid_1's rmse: 2.16607\n",
            "[173]\ttraining's l2: 2.74426\ttraining's rmse: 1.65658\tvalid_1's l2: 4.69237\tvalid_1's rmse: 2.16619\n",
            "[174]\ttraining's l2: 2.73653\ttraining's rmse: 1.65425\tvalid_1's l2: 4.69153\tvalid_1's rmse: 2.16599\n",
            "[175]\ttraining's l2: 2.73415\ttraining's rmse: 1.65353\tvalid_1's l2: 4.69175\tvalid_1's rmse: 2.16604\n",
            "[176]\ttraining's l2: 2.73195\ttraining's rmse: 1.65286\tvalid_1's l2: 4.69179\tvalid_1's rmse: 2.16605\n",
            "[177]\ttraining's l2: 2.72864\ttraining's rmse: 1.65186\tvalid_1's l2: 4.69145\tvalid_1's rmse: 2.16597\n",
            "[178]\ttraining's l2: 2.72146\ttraining's rmse: 1.64969\tvalid_1's l2: 4.6964\tvalid_1's rmse: 2.16712\n",
            "[179]\ttraining's l2: 2.71624\ttraining's rmse: 1.6481\tvalid_1's l2: 4.6985\tvalid_1's rmse: 2.1676\n",
            "[180]\ttraining's l2: 2.70909\ttraining's rmse: 1.64593\tvalid_1's l2: 4.70389\tvalid_1's rmse: 2.16885\n",
            "[181]\ttraining's l2: 2.70462\ttraining's rmse: 1.64457\tvalid_1's l2: 4.70424\tvalid_1's rmse: 2.16893\n",
            "[182]\ttraining's l2: 2.70102\ttraining's rmse: 1.64348\tvalid_1's l2: 4.70677\tvalid_1's rmse: 2.16951\n",
            "[183]\ttraining's l2: 2.69633\ttraining's rmse: 1.64205\tvalid_1's l2: 4.70683\tvalid_1's rmse: 2.16952\n",
            "[184]\ttraining's l2: 2.69097\ttraining's rmse: 1.64042\tvalid_1's l2: 4.7148\tvalid_1's rmse: 2.17136\n",
            "[185]\ttraining's l2: 2.68753\ttraining's rmse: 1.63937\tvalid_1's l2: 4.71535\tvalid_1's rmse: 2.17149\n",
            "[186]\ttraining's l2: 2.68523\ttraining's rmse: 1.63867\tvalid_1's l2: 4.7162\tvalid_1's rmse: 2.17168\n",
            "[187]\ttraining's l2: 2.68088\ttraining's rmse: 1.63734\tvalid_1's l2: 4.71669\tvalid_1's rmse: 2.1718\n",
            "[188]\ttraining's l2: 2.67802\ttraining's rmse: 1.63647\tvalid_1's l2: 4.71571\tvalid_1's rmse: 2.17157\n",
            "[189]\ttraining's l2: 2.67653\ttraining's rmse: 1.63601\tvalid_1's l2: 4.71637\tvalid_1's rmse: 2.17172\n",
            "[190]\ttraining's l2: 2.67073\ttraining's rmse: 1.63424\tvalid_1's l2: 4.71676\tvalid_1's rmse: 2.17181\n",
            "[191]\ttraining's l2: 2.6671\ttraining's rmse: 1.63312\tvalid_1's l2: 4.71836\tvalid_1's rmse: 2.17218\n",
            "[192]\ttraining's l2: 2.66487\ttraining's rmse: 1.63244\tvalid_1's l2: 4.71789\tvalid_1's rmse: 2.17207\n",
            "[193]\ttraining's l2: 2.6574\ttraining's rmse: 1.63015\tvalid_1's l2: 4.73103\tvalid_1's rmse: 2.17509\n",
            "[194]\ttraining's l2: 2.6557\ttraining's rmse: 1.62963\tvalid_1's l2: 4.73092\tvalid_1's rmse: 2.17507\n",
            "[195]\ttraining's l2: 2.65383\ttraining's rmse: 1.62906\tvalid_1's l2: 4.7328\tvalid_1's rmse: 2.1755\n",
            "[196]\ttraining's l2: 2.65138\ttraining's rmse: 1.62831\tvalid_1's l2: 4.7334\tvalid_1's rmse: 2.17564\n",
            "[197]\ttraining's l2: 2.64573\ttraining's rmse: 1.62657\tvalid_1's l2: 4.73709\tvalid_1's rmse: 2.17649\n",
            "[198]\ttraining's l2: 2.6432\ttraining's rmse: 1.62579\tvalid_1's l2: 4.73606\tvalid_1's rmse: 2.17625\n",
            "[199]\ttraining's l2: 2.64051\ttraining's rmse: 1.62496\tvalid_1's l2: 4.73624\tvalid_1's rmse: 2.17629\n",
            "[200]\ttraining's l2: 2.63749\ttraining's rmse: 1.62404\tvalid_1's l2: 4.73765\tvalid_1's rmse: 2.17661\n",
            "Did not meet early stopping. Best iteration is:\n",
            "[200]\ttraining's l2: 2.63749\ttraining's rmse: 1.62404\tvalid_1's l2: 4.73765\tvalid_1's rmse: 2.17661\n",
            "CPU times: user 32.2 s, sys: 286 ms, total: 32.5 s\n",
            "Wall time: 16.8 s\n"
          ],
          "name": "stdout"
        }
      ]
    },
    {
      "metadata": {
        "id": "DJHDViGGHbYA",
        "colab_type": "text"
      },
      "cell_type": "markdown",
      "source": [
        "# evaluate model"
      ]
    },
    {
      "metadata": {
        "id": "o4mDYws28VCk",
        "colab_type": "code",
        "outputId": "3ad20fd8-e28e-436d-9434-2c9fac04d963",
        "colab": {
          "base_uri": "https://localhost:8080/",
          "height": 68
        }
      },
      "cell_type": "code",
      "source": [
        "%%time\n",
        "from sklearn.metrics import mean_squared_error\n",
        "\n",
        "pred = model.predict(df_x)\n",
        "mse = mean_squared_error(df_y, pred)\n",
        "rmse = np.sqrt(mse)\n",
        "print(rmse)"
      ],
      "execution_count": 15,
      "outputs": [
        {
          "output_type": "stream",
          "text": [
            "1.77835103738929\n",
            "CPU times: user 19.7 s, sys: 15.1 ms, total: 19.7 s\n",
            "Wall time: 10.1 s\n"
          ],
          "name": "stdout"
        }
      ]
    },
    {
      "metadata": {
        "id": "l2eTTyDOKp4-",
        "colab_type": "code",
        "colab": {
          "base_uri": "https://localhost:8080/",
          "height": 283
        },
        "outputId": "4a815fee-29cb-4c24-e4f5-e87bb121956b"
      },
      "cell_type": "code",
      "source": [
        "y = model.evals_result_['training']['rmse']\n",
        "z = model.evals_result_['valid_1']['rmse']\n",
        "x = range(len(y))\n",
        "\n",
        "\n",
        "import matplotlib.pyplot as plt\n",
        "%matplotlib inline\n",
        "\n",
        "plt.plot(x, y, color='cornflowerblue', label = 'train')\n",
        "plt.plot(x, z, color='red', label = 'val')\n",
        "plt.legend(loc=\"upper left\")\n",
        "plt.ylim(0, 3)\n",
        "plt.grid(True)\n",
        "plt.xlabel('epoch')\n",
        "plt.ylabel('mean absolute error')\n",
        "plt.show()"
      ],
      "execution_count": 21,
      "outputs": [
        {
          "output_type": "display_data",
          "data": {
            "image/png": "[encoded data removed]",
            "text/plain": [
              "<matplotlib.figure.Figure at 0x7fa3153f6eb8>"
            ]
          },
          "metadata": {
            "tags": []
          }
        }
      ]
    },
    {
      "metadata": {
        "id": "KR4TV1SLlRS-",
        "colab_type": "code",
        "outputId": "966c90c6-5912-4551-ab68-6134252647c3",
        "colab": {
          "base_uri": "https://localhost:8080/",
          "height": 51
        }
      },
      "cell_type": "code",
      "source": [
        "%%time\n",
        "pickle.dump(model_LGB, open(filename, 'wb'))"
      ],
      "execution_count": 0,
      "outputs": [
        {
          "output_type": "stream",
          "text": [
            "CPU times: user 184 ms, sys: 4.02 ms, total: 188 ms\n",
            "Wall time: 366 ms\n"
          ],
          "name": "stdout"
        }
      ]
    },
    {
      "metadata": {
        "id": "ex8X3eQP_cRN",
        "colab_type": "text"
      },
      "cell_type": "markdown",
      "source": [
        "# Predict / Output"
      ]
    },
    {
      "metadata": {
        "id": "CVxJYyAo8U_O",
        "colab_type": "code",
        "outputId": "97c33e40-7c0c-40e9-bd58-12ecda589ad8",
        "colab": {
          "base_uri": "https://localhost:8080/",
          "height": 51
        }
      },
      "cell_type": "code",
      "source": [
        "%%time\n",
        "pred_tgt = model.predict(df_tgt)\n"
      ],
      "execution_count": 0,
      "outputs": [
        {
          "output_type": "stream",
          "text": [
            "CPU times: user 19.2 s, sys: 63.9 ms, total: 19.2 s\n",
            "Wall time: 9.86 s\n"
          ],
          "name": "stdout"
        }
      ]
    },
    {
      "metadata": {
        "id": "l9meIvhh8U8L",
        "colab_type": "code",
        "outputId": "6a57bd58-e0ca-45ce-bdd3-01c64b88dd11",
        "colab": {
          "base_uri": "https://localhost:8080/",
          "height": 34
        }
      },
      "cell_type": "code",
      "source": [
        "pred_tgt.min(),pred_tgt.max(),len(pred_tgt[pred_tgt>0]) / len(pred_tgt)  "
      ],
      "execution_count": 0,
      "outputs": [
        {
          "output_type": "execute_result",
          "data": {
            "text/plain": [
              "(-17.62574618750795, 123.55485937634258, 0.7848671995748832)"
            ]
          },
          "metadata": {
            "tags": []
          },
          "execution_count": 20
        }
      ]
    },
    {
      "metadata": {
        "id": "2H8GV7bq8U6K",
        "colab_type": "code",
        "colab": {}
      },
      "cell_type": "code",
      "source": [
        "%%time\n",
        "\n",
        "pred_tgt[pred_tgt<0] = 0\n",
        "df_out = pd.DataFrame(index = df_tgt.index)\n",
        "df_out['PredictedLogRevenue'] = pred_tgt\n",
        "\n",
        "df_out.to_csv('output_LGB.csv')"
      ],
      "execution_count": 0,
      "outputs": []
    },
    {
      "metadata": {
        "id": "qjuxQSXI8U3v",
        "colab_type": "code",
        "outputId": "39a5b1e8-def9-4d9f-ef07-3ac60f44ecae",
        "colab": {
          "base_uri": "https://localhost:8080/",
          "height": 233
        }
      },
      "cell_type": "code",
      "source": [
        "df_out.head()"
      ],
      "execution_count": 0,
      "outputs": [
        {
          "output_type": "execute_result",
          "data": {
            "text/html": [
              "<div>\n",
              "<style scoped>\n",
              "    .dataframe tbody tr th:only-of-type {\n",
              "        vertical-align: middle;\n",
              "    }\n",
              "\n",
              "    .dataframe tbody tr th {\n",
              "        vertical-align: top;\n",
              "    }\n",
              "\n",
              "    .dataframe thead th {\n",
              "        text-align: right;\n",
              "    }\n",
              "</style>\n",
              "<table border=\"1\" class=\"dataframe\">\n",
              "  <thead>\n",
              "    <tr style=\"text-align: right;\">\n",
              "      <th></th>\n",
              "      <th>PredictedLogRevenue</th>\n",
              "    </tr>\n",
              "    <tr>\n",
              "      <th>fullVisitorId</th>\n",
              "      <th></th>\n",
              "    </tr>\n",
              "  </thead>\n",
              "  <tbody>\n",
              "    <tr>\n",
              "      <th>0000000259678714014</th>\n",
              "      <td>0.501595</td>\n",
              "    </tr>\n",
              "    <tr>\n",
              "      <th>0000049363351866189</th>\n",
              "      <td>0.000000</td>\n",
              "    </tr>\n",
              "    <tr>\n",
              "      <th>0000053049821714864</th>\n",
              "      <td>0.000000</td>\n",
              "    </tr>\n",
              "    <tr>\n",
              "      <th>0000059488412965267</th>\n",
              "      <td>0.000545</td>\n",
              "    </tr>\n",
              "    <tr>\n",
              "      <th>0000085840370633780</th>\n",
              "      <td>0.000239</td>\n",
              "    </tr>\n",
              "  </tbody>\n",
              "</table>\n",
              "</div>"
            ],
            "text/plain": [
              "                     PredictedLogRevenue\n",
              "fullVisitorId                           \n",
              "0000000259678714014             0.501595\n",
              "0000049363351866189             0.000000\n",
              "0000053049821714864             0.000000\n",
              "0000059488412965267             0.000545\n",
              "0000085840370633780             0.000239"
            ]
          },
          "metadata": {
            "tags": []
          },
          "execution_count": 22
        }
      ]
    },
    {
      "metadata": {
        "id": "K584rugV8-pc",
        "colab_type": "code",
        "outputId": "4301ddc5-7acb-4936-d29d-b162728bd1cf",
        "colab": {
          "base_uri": "https://localhost:8080/",
          "height": 295
        }
      },
      "cell_type": "code",
      "source": [
        "df_out.describe()"
      ],
      "execution_count": 0,
      "outputs": [
        {
          "output_type": "execute_result",
          "data": {
            "text/html": [
              "<div>\n",
              "<style scoped>\n",
              "    .dataframe tbody tr th:only-of-type {\n",
              "        vertical-align: middle;\n",
              "    }\n",
              "\n",
              "    .dataframe tbody tr th {\n",
              "        vertical-align: top;\n",
              "    }\n",
              "\n",
              "    .dataframe thead th {\n",
              "        text-align: right;\n",
              "    }\n",
              "</style>\n",
              "<table border=\"1\" class=\"dataframe\">\n",
              "  <thead>\n",
              "    <tr style=\"text-align: right;\">\n",
              "      <th></th>\n",
              "      <th>PredictedLogRevenue</th>\n",
              "    </tr>\n",
              "  </thead>\n",
              "  <tbody>\n",
              "    <tr>\n",
              "      <th>count</th>\n",
              "      <td>617242.000000</td>\n",
              "    </tr>\n",
              "    <tr>\n",
              "      <th>mean</th>\n",
              "      <td>0.195767</td>\n",
              "    </tr>\n",
              "    <tr>\n",
              "      <th>std</th>\n",
              "      <td>1.377942</td>\n",
              "    </tr>\n",
              "    <tr>\n",
              "      <th>min</th>\n",
              "      <td>0.000000</td>\n",
              "    </tr>\n",
              "    <tr>\n",
              "      <th>25%</th>\n",
              "      <td>0.000239</td>\n",
              "    </tr>\n",
              "    <tr>\n",
              "      <th>50%</th>\n",
              "      <td>0.000239</td>\n",
              "    </tr>\n",
              "    <tr>\n",
              "      <th>75%</th>\n",
              "      <td>0.001224</td>\n",
              "    </tr>\n",
              "    <tr>\n",
              "      <th>max</th>\n",
              "      <td>123.554859</td>\n",
              "    </tr>\n",
              "  </tbody>\n",
              "</table>\n",
              "</div>"
            ],
            "text/plain": [
              "       PredictedLogRevenue\n",
              "count        617242.000000\n",
              "mean              0.195767\n",
              "std               1.377942\n",
              "min               0.000000\n",
              "25%               0.000239\n",
              "50%               0.000239\n",
              "75%               0.001224\n",
              "max             123.554859"
            ]
          },
          "metadata": {
            "tags": []
          },
          "execution_count": 23
        }
      ]
    },
    {
      "metadata": {
        "id": "ohw4cX8ORZcs",
        "colab_type": "code",
        "colab": {}
      },
      "cell_type": "code",
      "source": [
        ""
      ],
      "execution_count": 0,
      "outputs": []
    }
  ]
}