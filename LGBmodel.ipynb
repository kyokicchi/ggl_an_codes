{
  "nbformat": 4,
  "nbformat_minor": 0,
  "metadata": {
    "colab": {
      "name": "trainLGBmodel.ipynb",
      "version": "0.3.2",
      "provenance": [],
      "collapsed_sections": [],
      "include_colab_link": true
    },
    "kernelspec": {
      "name": "python3",
      "display_name": "Python 3"
    },
    "accelerator": "GPU"
  },
  "cells": [
    {
      "cell_type": "markdown",
      "metadata": {
        "id": "view-in-github",
        "colab_type": "text"
      },
      "source": [
        "<a href=\"https://colab.research.google.com/github/kyokicchi/ggl_an_codes/blob/master/LGBmodel.ipynb\" target=\"_parent\"><img src=\"https://colab.research.google.com/assets/colab-badge.svg\" alt=\"Open In Colab\"/></a>"
      ]
    },
    {
      "metadata": {
        "id": "IAe1xrU__tk3",
        "colab_type": "text"
      },
      "cell_type": "markdown",
      "source": [
        "# initialize & load"
      ]
    },
    {
      "metadata": {
        "id": "H8X_jxlYnrn3",
        "colab_type": "code",
        "outputId": "8a75f59e-af6d-4db0-8102-c8ea5c237b6b",
        "colab": {
          "base_uri": "https://localhost:8080/",
          "height": 152
        }
      },
      "cell_type": "code",
      "source": [
        "!pip install lightgbm"
      ],
      "execution_count": 1,
      "outputs": [
        {
          "output_type": "stream",
          "text": [
            "Collecting lightgbm\n",
            "\u001b[?25l  Downloading https://files.pythonhosted.org/packages/4c/3b/4ae113193b4ee01387ed76d5eea32788aec0589df9ae7378a8b7443eaa8b/lightgbm-2.2.2-py2.py3-none-manylinux1_x86_64.whl (1.2MB)\n",
            "\u001b[K    100% |████████████████████████████████| 1.2MB 7.9MB/s \n",
            "\u001b[?25hRequirement already satisfied: scipy in /usr/local/lib/python3.6/dist-packages (from lightgbm) (0.19.1)\n",
            "Requirement already satisfied: scikit-learn in /usr/local/lib/python3.6/dist-packages (from lightgbm) (0.19.2)\n",
            "Requirement already satisfied: numpy in /usr/local/lib/python3.6/dist-packages (from lightgbm) (1.14.6)\n",
            "Installing collected packages: lightgbm\n",
            "Successfully installed lightgbm-2.2.2\n"
          ],
          "name": "stdout"
        }
      ]
    },
    {
      "metadata": {
        "id": "7PrvKZYHs9n0",
        "colab_type": "code",
        "colab": {}
      },
      "cell_type": "code",
      "source": [
        "import lightgbm as lgb\n",
        "\n",
        "from google.colab import drive\n",
        "from google.colab import files\n",
        "\n",
        "import numpy as np\n",
        "import pandas as pd\n",
        "\n",
        "from sklearn.model_selection import train_test_split\n",
        "import pickle"
      ],
      "execution_count": 0,
      "outputs": []
    },
    {
      "metadata": {
        "id": "Uujx3hEhjfnX",
        "colab_type": "code",
        "outputId": "feae06e3-dc3d-4366-abfc-ae3cceb0ec38",
        "colab": {
          "base_uri": "https://localhost:8080/",
          "height": 121
        }
      },
      "cell_type": "code",
      "source": [
        "drive.mount('/content/gdrive')"
      ],
      "execution_count": 3,
      "outputs": [
        {
          "output_type": "stream",
          "text": [
            "Go to this URL in a browser: https://accounts.google.com/o/oauth2/auth?client_id=947318989803-6bn6qk8qdgf4n4g3pfee6491hc0brc4i.apps.googleusercontent.com&redirect_uri=urn%3Aietf%3Awg%3Aoauth%3A2.0%3Aoob&scope=email%20https%3A%2F%2Fwww.googleapis.com%2Fauth%2Fdocs.test%20https%3A%2F%2Fwww.googleapis.com%2Fauth%2Fdrive%20https%3A%2F%2Fwww.googleapis.com%2Fauth%2Fdrive.photos.readonly%20https%3A%2F%2Fwww.googleapis.com%2Fauth%2Fpeopleapi.readonly&response_type=code\n",
            "\n",
            "Enter your authorization code:\n",
            "··········\n",
            "Mounted at /content/gdrive\n"
          ],
          "name": "stdout"
        }
      ]
    },
    {
      "metadata": {
        "id": "LT06pjlMus4d",
        "colab_type": "code",
        "outputId": "8e36e8d6-a2ff-45ab-fc24-40e7e0cfa8f0",
        "colab": {
          "base_uri": "https://localhost:8080/",
          "height": 68
        }
      },
      "cell_type": "code",
      "source": [
        "%cd ../content/gdrive/My Drive/projects/ggl_an/\n",
        "%ls"
      ],
      "execution_count": 4,
      "outputs": [
        {
          "output_type": "stream",
          "text": [
            "/content/gdrive/My Drive/projects/ggl_an\n",
            "model_LGB.sav  output_LGB.csv  user_test.csv    user_train.csv\n",
            "model_NN.h5    output_NN.csv   user_test_n.csv  user_train_n.csv\n"
          ],
          "name": "stdout"
        }
      ]
    },
    {
      "metadata": {
        "id": "8mAcQ8lo8Ixk",
        "colab_type": "code",
        "outputId": "3627a10a-be94-4be1-cac4-b1a049e69f23",
        "colab": {
          "base_uri": "https://localhost:8080/",
          "height": 51
        }
      },
      "cell_type": "code",
      "source": [
        "%%time\n",
        "\n",
        "df_train = pd.read_csv('user_train.csv', index_col = 0, dtype={'fullVisitorId': 'str'})\n",
        "df_test = pd.read_csv('user_test.csv', index_col = 0, dtype={'fullVisitorId': 'str'})\n",
        "\n",
        "df_y = df_train['transactionRevenue']\n",
        "df_x = df_train.drop(['transactionRevenue'], axis=1)\n",
        "df_tgt = df_test.drop(['transactionRevenue'], axis=1)\n",
        "\n",
        "filename = 'model_LGB.sav'\n",
        "model = pickle.load(open(filename, 'rb'))"
      ],
      "execution_count": 5,
      "outputs": [
        {
          "output_type": "stream",
          "text": [
            "CPU times: user 6.62 s, sys: 928 ms, total: 7.55 s\n",
            "Wall time: 11.5 s\n"
          ],
          "name": "stdout"
        }
      ]
    },
    {
      "metadata": {
        "id": "6oNx0QIG81nE",
        "colab_type": "code",
        "outputId": "33b40c38-fc6b-4ac7-f7a7-9ab51e199f93",
        "colab": {
          "base_uri": "https://localhost:8080/",
          "height": 34
        }
      },
      "cell_type": "code",
      "source": [
        "df_x.shape, df_y.shape, df_tgt.shape"
      ],
      "execution_count": 6,
      "outputs": [
        {
          "output_type": "execute_result",
          "data": {
            "text/plain": [
              "((714167, 37), (714167,), (617242, 37))"
            ]
          },
          "metadata": {
            "tags": []
          },
          "execution_count": 6
        }
      ]
    },
    {
      "metadata": {
        "id": "sYWeiNW0j9cr",
        "colab_type": "code",
        "outputId": "7c46abc5-0a22-4433-e7f5-9697c3929ace",
        "colab": {
          "base_uri": "https://localhost:8080/",
          "height": 51
        }
      },
      "cell_type": "code",
      "source": [
        "%%time\n",
        "x_train, x_test, y_train, y_test = train_test_split(df_x, df_y)"
      ],
      "execution_count": 7,
      "outputs": [
        {
          "output_type": "stream",
          "text": [
            "CPU times: user 755 ms, sys: 117 ms, total: 871 ms\n",
            "Wall time: 874 ms\n"
          ],
          "name": "stdout"
        }
      ]
    },
    {
      "metadata": {
        "id": "-I9DFbOsJBPm",
        "colab_type": "code",
        "outputId": "92b0a1f5-5c02-477e-a5c2-c91751fdf1ff",
        "colab": {
          "base_uri": "https://localhost:8080/",
          "height": 34
        }
      },
      "cell_type": "code",
      "source": [
        "x_train.shape, y_train.shape, x_test.shape,  y_test.shape "
      ],
      "execution_count": 8,
      "outputs": [
        {
          "output_type": "execute_result",
          "data": {
            "text/plain": [
              "((535625, 37), (535625,), (178542, 37), (178542,))"
            ]
          },
          "metadata": {
            "tags": []
          },
          "execution_count": 8
        }
      ]
    },
    {
      "metadata": {
        "id": "TGrVT1Le4e7M",
        "colab_type": "code",
        "colab": {}
      },
      "cell_type": "code",
      "source": [
        "from sklearn.model_selection import GridSearchCV\n",
        "\n",
        "def applyGSCV(model, param, X, Y, N):\n",
        "    res = GridSearchCV(model, param, cv=N)\n",
        "    res.fit(X, Y)\n",
        "    return res"
      ],
      "execution_count": 0,
      "outputs": []
    },
    {
      "metadata": {
        "id": "Z8oIeaT9JVE-",
        "colab_type": "code",
        "colab": {}
      },
      "cell_type": "code",
      "source": [
        "model = lgb.LGBMRegressor()\n",
        "\n",
        "param = dict(\n",
        "#    colsample_bytree=0.8,\n",
        "    learning_rate = [0.05],\n",
        "    max_depth = [10], \n",
        "#    min_child_samples=20,\n",
        "    n_estimators=[100],\n",
        "    num_leaves = [50],\n",
        "    reg_alpha = [0.2],\n",
        "    reg_lambda = [0.0]\n",
        ")"
      ],
      "execution_count": 0,
      "outputs": []
    },
    {
      "metadata": {
        "id": "lyCSOn5jJRhn",
        "colab_type": "code",
        "outputId": "d3172920-0ccf-4810-c298-232a6c5612d4",
        "colab": {
          "base_uri": "https://localhost:8080/",
          "height": 51
        }
      },
      "cell_type": "code",
      "source": [
        "%%time\n",
        "\n",
        "model_LGB = applyGSCV(model, param, x_train, y_train, 3)"
      ],
      "execution_count": 11,
      "outputs": [
        {
          "output_type": "stream",
          "text": [
            "CPU times: user 47.5 s, sys: 1.16 s, total: 48.6 s\n",
            "Wall time: 26.6 s\n"
          ],
          "name": "stdout"
        }
      ]
    },
    {
      "metadata": {
        "id": "5LGbglpv5_80",
        "colab_type": "code",
        "outputId": "c2bf2c4e-994b-43da-8ef1-7b545a754567",
        "colab": {
          "base_uri": "https://localhost:8080/",
          "height": 135
        }
      },
      "cell_type": "code",
      "source": [
        "print(model_LGB.best_score_)\n",
        "print(model_LGB.best_estimator_)"
      ],
      "execution_count": 12,
      "outputs": [
        {
          "output_type": "stream",
          "text": [
            "0.39772200816647296\n",
            "LGBMRegressor(boosting_type='gbdt', class_weight=None, colsample_bytree=1.0,\n",
            "       importance_type='split', learning_rate=0.05, max_depth=10,\n",
            "       min_child_samples=20, min_child_weight=0.001, min_split_gain=0.0,\n",
            "       n_estimators=100, n_jobs=-1, num_leaves=50, objective=None,\n",
            "       random_state=None, reg_alpha=0.2, reg_lambda=0.0, silent=True,\n",
            "       subsample=1.0, subsample_for_bin=200000, subsample_freq=0)\n"
          ],
          "name": "stdout"
        }
      ]
    },
    {
      "metadata": {
        "id": "8jkTgZ_oRnS-",
        "colab_type": "text"
      },
      "cell_type": "markdown",
      "source": [
        "https://lightgbm.readthedocs.io/en/latest/_modules/lightgbm/sklearn.html"
      ]
    },
    {
      "metadata": {
        "id": "ItMWaVwslMJi",
        "colab_type": "code",
        "outputId": "19a3027c-1caf-4052-daf1-92a86935a151",
        "colab": {
          "base_uri": "https://localhost:8080/",
          "height": 2860
        }
      },
      "cell_type": "code",
      "source": [
        "%%time\n",
        "\n",
        "model = lgb.LGBMRegressor(colsample_bytree=1.0,learning_rate=0.05,max_depth = 10, objective = 'regression',\n",
        "       min_child_samples=20,n_estimators=500,num_leaves=50,\n",
        "       reg_alpha=0.2, reg_lambda=0.0)\n",
        "\n",
        "model.fit(x_train, y_train,\n",
        "          eval_set=[(x_train, y_train),(x_test, y_test)],\n",
        "          eval_metric='rmse', early_stopping_rounds = 100)"
      ],
      "execution_count": 13,
      "outputs": [
        {
          "output_type": "stream",
          "text": [
            "[1]\ttraining's l2: 8.11946\ttraining's rmse: 2.84947\tvalid_1's l2: 7.8108\tvalid_1's rmse: 2.79478\n",
            "Training until validation scores don't improve for 100 rounds.\n",
            "[2]\ttraining's l2: 7.8082\ttraining's rmse: 2.79432\tvalid_1's l2: 7.51527\tvalid_1's rmse: 2.7414\n",
            "[3]\ttraining's l2: 7.52928\ttraining's rmse: 2.74395\tvalid_1's l2: 7.25239\tvalid_1's rmse: 2.69303\n",
            "[4]\ttraining's l2: 7.27282\ttraining's rmse: 2.69682\tvalid_1's l2: 7.00623\tvalid_1's rmse: 2.64693\n",
            "[5]\ttraining's l2: 7.03744\ttraining's rmse: 2.65282\tvalid_1's l2: 6.77695\tvalid_1's rmse: 2.60326\n",
            "[6]\ttraining's l2: 6.82616\ttraining's rmse: 2.61269\tvalid_1's l2: 6.58282\tvalid_1's rmse: 2.5657\n",
            "[7]\ttraining's l2: 6.63192\ttraining's rmse: 2.57525\tvalid_1's l2: 6.40143\tvalid_1's rmse: 2.53011\n",
            "[8]\ttraining's l2: 6.45658\ttraining's rmse: 2.54098\tvalid_1's l2: 6.24029\tvalid_1's rmse: 2.49806\n",
            "[9]\ttraining's l2: 6.29589\ttraining's rmse: 2.50916\tvalid_1's l2: 6.09452\tvalid_1's rmse: 2.46871\n",
            "[10]\ttraining's l2: 6.14927\ttraining's rmse: 2.47977\tvalid_1's l2: 5.96315\tvalid_1's rmse: 2.44196\n",
            "[11]\ttraining's l2: 6.01474\ttraining's rmse: 2.4525\tvalid_1's l2: 5.84581\tvalid_1's rmse: 2.41781\n",
            "[12]\ttraining's l2: 5.89406\ttraining's rmse: 2.42777\tvalid_1's l2: 5.73756\tvalid_1's rmse: 2.39532\n",
            "[13]\ttraining's l2: 5.7828\ttraining's rmse: 2.40475\tvalid_1's l2: 5.6383\tvalid_1's rmse: 2.37451\n",
            "[14]\ttraining's l2: 5.67844\ttraining's rmse: 2.38295\tvalid_1's l2: 5.54454\tvalid_1's rmse: 2.35468\n",
            "[15]\ttraining's l2: 5.58034\ttraining's rmse: 2.36227\tvalid_1's l2: 5.46348\tvalid_1's rmse: 2.33741\n",
            "[16]\ttraining's l2: 5.49199\ttraining's rmse: 2.3435\tvalid_1's l2: 5.38926\tvalid_1's rmse: 2.32148\n",
            "[17]\ttraining's l2: 5.41147\ttraining's rmse: 2.32626\tvalid_1's l2: 5.31928\tvalid_1's rmse: 2.30636\n",
            "[18]\ttraining's l2: 5.33545\ttraining's rmse: 2.30986\tvalid_1's l2: 5.25616\tvalid_1's rmse: 2.29263\n",
            "[19]\ttraining's l2: 5.26529\ttraining's rmse: 2.29462\tvalid_1's l2: 5.20823\tvalid_1's rmse: 2.28216\n",
            "[20]\ttraining's l2: 5.20033\ttraining's rmse: 2.28042\tvalid_1's l2: 5.15578\tvalid_1's rmse: 2.27063\n",
            "[21]\ttraining's l2: 5.12906\ttraining's rmse: 2.26474\tvalid_1's l2: 5.09022\tvalid_1's rmse: 2.25615\n",
            "[22]\ttraining's l2: 5.0738\ttraining's rmse: 2.25251\tvalid_1's l2: 5.04353\tvalid_1's rmse: 2.24578\n",
            "[23]\ttraining's l2: 5.02314\ttraining's rmse: 2.24124\tvalid_1's l2: 5.00203\tvalid_1's rmse: 2.23652\n",
            "[24]\ttraining's l2: 4.97609\ttraining's rmse: 2.23072\tvalid_1's l2: 4.96158\tvalid_1's rmse: 2.22746\n",
            "[25]\ttraining's l2: 4.93235\ttraining's rmse: 2.22089\tvalid_1's l2: 4.93107\tvalid_1's rmse: 2.2206\n",
            "[26]\ttraining's l2: 4.89105\ttraining's rmse: 2.21157\tvalid_1's l2: 4.90395\tvalid_1's rmse: 2.21449\n",
            "[27]\ttraining's l2: 4.85457\ttraining's rmse: 2.20331\tvalid_1's l2: 4.87221\tvalid_1's rmse: 2.20731\n",
            "[28]\ttraining's l2: 4.81784\ttraining's rmse: 2.19496\tvalid_1's l2: 4.85006\tvalid_1's rmse: 2.20228\n",
            "[29]\ttraining's l2: 4.78242\ttraining's rmse: 2.18688\tvalid_1's l2: 4.82984\tvalid_1's rmse: 2.19769\n",
            "[30]\ttraining's l2: 4.74888\ttraining's rmse: 2.17919\tvalid_1's l2: 4.80858\tvalid_1's rmse: 2.19285\n",
            "[31]\ttraining's l2: 4.70859\ttraining's rmse: 2.16993\tvalid_1's l2: 4.77152\tvalid_1's rmse: 2.18438\n",
            "[32]\ttraining's l2: 4.68042\ttraining's rmse: 2.16343\tvalid_1's l2: 4.75639\tvalid_1's rmse: 2.18091\n",
            "[33]\ttraining's l2: 4.65316\ttraining's rmse: 2.15712\tvalid_1's l2: 4.73881\tvalid_1's rmse: 2.17688\n",
            "[34]\ttraining's l2: 4.62986\ttraining's rmse: 2.15171\tvalid_1's l2: 4.72084\tvalid_1's rmse: 2.17275\n",
            "[35]\ttraining's l2: 4.60612\ttraining's rmse: 2.14619\tvalid_1's l2: 4.70813\tvalid_1's rmse: 2.16982\n",
            "[36]\ttraining's l2: 4.58292\ttraining's rmse: 2.14077\tvalid_1's l2: 4.70227\tvalid_1's rmse: 2.16847\n",
            "[37]\ttraining's l2: 4.56282\ttraining's rmse: 2.13608\tvalid_1's l2: 4.68873\tvalid_1's rmse: 2.16535\n",
            "[38]\ttraining's l2: 4.52996\ttraining's rmse: 2.12837\tvalid_1's l2: 4.66355\tvalid_1's rmse: 2.15953\n",
            "[39]\ttraining's l2: 4.50892\ttraining's rmse: 2.12342\tvalid_1's l2: 4.65207\tvalid_1's rmse: 2.15686\n",
            "[40]\ttraining's l2: 4.48882\ttraining's rmse: 2.11868\tvalid_1's l2: 4.64107\tvalid_1's rmse: 2.15432\n",
            "[41]\ttraining's l2: 4.47101\ttraining's rmse: 2.11448\tvalid_1's l2: 4.63039\tvalid_1's rmse: 2.15183\n",
            "[42]\ttraining's l2: 4.45245\ttraining's rmse: 2.11008\tvalid_1's l2: 4.61801\tvalid_1's rmse: 2.14896\n",
            "[43]\ttraining's l2: 4.43558\ttraining's rmse: 2.10608\tvalid_1's l2: 4.60713\tvalid_1's rmse: 2.14642\n",
            "[44]\ttraining's l2: 4.41859\ttraining's rmse: 2.10204\tvalid_1's l2: 4.60012\tvalid_1's rmse: 2.14479\n",
            "[45]\ttraining's l2: 4.40167\ttraining's rmse: 2.09802\tvalid_1's l2: 4.59215\tvalid_1's rmse: 2.14293\n",
            "[46]\ttraining's l2: 4.37735\ttraining's rmse: 2.09221\tvalid_1's l2: 4.57141\tvalid_1's rmse: 2.13809\n",
            "[47]\ttraining's l2: 4.36157\ttraining's rmse: 2.08844\tvalid_1's l2: 4.57068\tvalid_1's rmse: 2.13792\n",
            "[48]\ttraining's l2: 4.34782\ttraining's rmse: 2.08514\tvalid_1's l2: 4.5644\tvalid_1's rmse: 2.13645\n",
            "[49]\ttraining's l2: 4.33489\ttraining's rmse: 2.08204\tvalid_1's l2: 4.5631\tvalid_1's rmse: 2.13614\n",
            "[50]\ttraining's l2: 4.3235\ttraining's rmse: 2.0793\tvalid_1's l2: 4.56125\tvalid_1's rmse: 2.13571\n",
            "[51]\ttraining's l2: 4.30988\ttraining's rmse: 2.07602\tvalid_1's l2: 4.56164\tvalid_1's rmse: 2.1358\n",
            "[52]\ttraining's l2: 4.29812\ttraining's rmse: 2.07319\tvalid_1's l2: 4.55706\tvalid_1's rmse: 2.13473\n",
            "[53]\ttraining's l2: 4.277\ttraining's rmse: 2.06809\tvalid_1's l2: 4.53865\tvalid_1's rmse: 2.13041\n",
            "[54]\ttraining's l2: 4.2661\ttraining's rmse: 2.06545\tvalid_1's l2: 4.53835\tvalid_1's rmse: 2.13034\n",
            "[55]\ttraining's l2: 4.25583\ttraining's rmse: 2.06297\tvalid_1's l2: 4.53736\tvalid_1's rmse: 2.13011\n",
            "[56]\ttraining's l2: 4.24449\ttraining's rmse: 2.06022\tvalid_1's l2: 4.53361\tvalid_1's rmse: 2.12923\n",
            "[57]\ttraining's l2: 4.23583\ttraining's rmse: 2.05811\tvalid_1's l2: 4.53137\tvalid_1's rmse: 2.1287\n",
            "[58]\ttraining's l2: 4.22714\ttraining's rmse: 2.056\tvalid_1's l2: 4.52529\tvalid_1's rmse: 2.12727\n",
            "[59]\ttraining's l2: 4.21782\ttraining's rmse: 2.05373\tvalid_1's l2: 4.52561\tvalid_1's rmse: 2.12735\n",
            "[60]\ttraining's l2: 4.20788\ttraining's rmse: 2.05131\tvalid_1's l2: 4.52543\tvalid_1's rmse: 2.12731\n",
            "[61]\ttraining's l2: 4.19546\ttraining's rmse: 2.04828\tvalid_1's l2: 4.52645\tvalid_1's rmse: 2.12754\n",
            "[62]\ttraining's l2: 4.18692\ttraining's rmse: 2.0462\tvalid_1's l2: 4.52774\tvalid_1's rmse: 2.12785\n",
            "[63]\ttraining's l2: 4.17707\ttraining's rmse: 2.04379\tvalid_1's l2: 4.52503\tvalid_1's rmse: 2.12721\n",
            "[64]\ttraining's l2: 4.16631\ttraining's rmse: 2.04115\tvalid_1's l2: 4.52967\tvalid_1's rmse: 2.1283\n",
            "[65]\ttraining's l2: 4.15837\ttraining's rmse: 2.03921\tvalid_1's l2: 4.52657\tvalid_1's rmse: 2.12757\n",
            "[66]\ttraining's l2: 4.14993\ttraining's rmse: 2.03714\tvalid_1's l2: 4.52788\tvalid_1's rmse: 2.12788\n",
            "[67]\ttraining's l2: 4.14127\ttraining's rmse: 2.03501\tvalid_1's l2: 4.53038\tvalid_1's rmse: 2.12847\n",
            "[68]\ttraining's l2: 4.12965\ttraining's rmse: 2.03215\tvalid_1's l2: 4.52775\tvalid_1's rmse: 2.12785\n",
            "[69]\ttraining's l2: 4.12002\ttraining's rmse: 2.02978\tvalid_1's l2: 4.53015\tvalid_1's rmse: 2.12841\n",
            "[70]\ttraining's l2: 4.11204\ttraining's rmse: 2.02782\tvalid_1's l2: 4.52889\tvalid_1's rmse: 2.12812\n",
            "[71]\ttraining's l2: 4.10067\ttraining's rmse: 2.02501\tvalid_1's l2: 4.53151\tvalid_1's rmse: 2.12873\n",
            "[72]\ttraining's l2: 4.09134\ttraining's rmse: 2.02271\tvalid_1's l2: 4.52864\tvalid_1's rmse: 2.12806\n",
            "[73]\ttraining's l2: 4.08701\ttraining's rmse: 2.02164\tvalid_1's l2: 4.52965\tvalid_1's rmse: 2.1283\n",
            "[74]\ttraining's l2: 4.079\ttraining's rmse: 2.01965\tvalid_1's l2: 4.52867\tvalid_1's rmse: 2.12807\n",
            "[75]\ttraining's l2: 4.06745\ttraining's rmse: 2.01679\tvalid_1's l2: 4.53287\tvalid_1's rmse: 2.12905\n",
            "[76]\ttraining's l2: 4.05996\ttraining's rmse: 2.01494\tvalid_1's l2: 4.53411\tvalid_1's rmse: 2.12934\n",
            "[77]\ttraining's l2: 4.05166\ttraining's rmse: 2.01287\tvalid_1's l2: 4.53204\tvalid_1's rmse: 2.12886\n",
            "[78]\ttraining's l2: 4.04825\ttraining's rmse: 2.01203\tvalid_1's l2: 4.53518\tvalid_1's rmse: 2.1296\n",
            "[79]\ttraining's l2: 4.04339\ttraining's rmse: 2.01082\tvalid_1's l2: 4.53676\tvalid_1's rmse: 2.12997\n",
            "[80]\ttraining's l2: 4.0407\ttraining's rmse: 2.01015\tvalid_1's l2: 4.53896\tvalid_1's rmse: 2.13048\n",
            "[81]\ttraining's l2: 4.03766\ttraining's rmse: 2.00939\tvalid_1's l2: 4.5354\tvalid_1's rmse: 2.12965\n",
            "[82]\ttraining's l2: 4.03484\ttraining's rmse: 2.00869\tvalid_1's l2: 4.53883\tvalid_1's rmse: 2.13045\n",
            "[83]\ttraining's l2: 4.03002\ttraining's rmse: 2.00749\tvalid_1's l2: 4.53722\tvalid_1's rmse: 2.13007\n",
            "[84]\ttraining's l2: 4.02013\ttraining's rmse: 2.00503\tvalid_1's l2: 4.53932\tvalid_1's rmse: 2.13057\n",
            "[85]\ttraining's l2: 4.01576\ttraining's rmse: 2.00394\tvalid_1's l2: 4.5416\tvalid_1's rmse: 2.1311\n",
            "[86]\ttraining's l2: 4.01329\ttraining's rmse: 2.00332\tvalid_1's l2: 4.54427\tvalid_1's rmse: 2.13173\n",
            "[87]\ttraining's l2: 4.01052\ttraining's rmse: 2.00263\tvalid_1's l2: 4.5487\tvalid_1's rmse: 2.13277\n",
            "[88]\ttraining's l2: 4.00823\ttraining's rmse: 2.00206\tvalid_1's l2: 4.54541\tvalid_1's rmse: 2.132\n",
            "[89]\ttraining's l2: 4.00452\ttraining's rmse: 2.00113\tvalid_1's l2: 4.5467\tvalid_1's rmse: 2.1323\n",
            "[90]\ttraining's l2: 3.99741\ttraining's rmse: 1.99935\tvalid_1's l2: 4.54562\tvalid_1's rmse: 2.13204\n",
            "[91]\ttraining's l2: 3.9952\ttraining's rmse: 1.9988\tvalid_1's l2: 4.542\tvalid_1's rmse: 2.1312\n",
            "[92]\ttraining's l2: 3.99135\ttraining's rmse: 1.99784\tvalid_1's l2: 4.54255\tvalid_1's rmse: 2.13133\n",
            "[93]\ttraining's l2: 3.98922\ttraining's rmse: 1.9973\tvalid_1's l2: 4.53866\tvalid_1's rmse: 2.13041\n",
            "[94]\ttraining's l2: 3.98688\ttraining's rmse: 1.99672\tvalid_1's l2: 4.54299\tvalid_1's rmse: 2.13143\n",
            "[95]\ttraining's l2: 3.98453\ttraining's rmse: 1.99613\tvalid_1's l2: 4.54067\tvalid_1's rmse: 2.13088\n",
            "[96]\ttraining's l2: 3.98013\ttraining's rmse: 1.99503\tvalid_1's l2: 4.5426\tvalid_1's rmse: 2.13134\n",
            "[97]\ttraining's l2: 3.97798\ttraining's rmse: 1.99449\tvalid_1's l2: 4.53957\tvalid_1's rmse: 2.13063\n",
            "[98]\ttraining's l2: 3.97579\ttraining's rmse: 1.99394\tvalid_1's l2: 4.54392\tvalid_1's rmse: 2.13165\n",
            "[99]\ttraining's l2: 3.97355\ttraining's rmse: 1.99338\tvalid_1's l2: 4.54042\tvalid_1's rmse: 2.13083\n",
            "[100]\ttraining's l2: 3.96954\ttraining's rmse: 1.99237\tvalid_1's l2: 4.54265\tvalid_1's rmse: 2.13135\n",
            "[101]\ttraining's l2: 3.96527\ttraining's rmse: 1.9913\tvalid_1's l2: 4.53708\tvalid_1's rmse: 2.13004\n",
            "[102]\ttraining's l2: 3.96324\ttraining's rmse: 1.99079\tvalid_1's l2: 4.54151\tvalid_1's rmse: 2.13108\n",
            "[103]\ttraining's l2: 3.96058\ttraining's rmse: 1.99012\tvalid_1's l2: 4.53869\tvalid_1's rmse: 2.13042\n",
            "[104]\ttraining's l2: 3.9569\ttraining's rmse: 1.9892\tvalid_1's l2: 4.54099\tvalid_1's rmse: 2.13096\n",
            "[105]\ttraining's l2: 3.95521\ttraining's rmse: 1.98877\tvalid_1's l2: 4.53793\tvalid_1's rmse: 2.13024\n",
            "[106]\ttraining's l2: 3.95186\ttraining's rmse: 1.98793\tvalid_1's l2: 4.53961\tvalid_1's rmse: 2.13064\n",
            "[107]\ttraining's l2: 3.9473\ttraining's rmse: 1.98678\tvalid_1's l2: 4.53893\tvalid_1's rmse: 2.13048\n",
            "[108]\ttraining's l2: 3.94525\ttraining's rmse: 1.98627\tvalid_1's l2: 4.54367\tvalid_1's rmse: 2.13159\n",
            "[109]\ttraining's l2: 3.94153\ttraining's rmse: 1.98533\tvalid_1's l2: 4.53891\tvalid_1's rmse: 2.13047\n",
            "[110]\ttraining's l2: 3.93806\ttraining's rmse: 1.98446\tvalid_1's l2: 4.54048\tvalid_1's rmse: 2.13084\n",
            "[111]\ttraining's l2: 3.93604\ttraining's rmse: 1.98395\tvalid_1's l2: 4.53773\tvalid_1's rmse: 2.13019\n",
            "[112]\ttraining's l2: 3.93351\ttraining's rmse: 1.98331\tvalid_1's l2: 4.54009\tvalid_1's rmse: 2.13075\n",
            "[113]\ttraining's l2: 3.93043\ttraining's rmse: 1.98253\tvalid_1's l2: 4.53758\tvalid_1's rmse: 2.13016\n",
            "[114]\ttraining's l2: 3.92834\ttraining's rmse: 1.982\tvalid_1's l2: 4.54029\tvalid_1's rmse: 2.1308\n",
            "[115]\ttraining's l2: 3.92486\ttraining's rmse: 1.98113\tvalid_1's l2: 4.53796\tvalid_1's rmse: 2.13025\n",
            "[116]\ttraining's l2: 3.92322\ttraining's rmse: 1.98071\tvalid_1's l2: 4.54227\tvalid_1's rmse: 2.13126\n",
            "[117]\ttraining's l2: 3.92168\ttraining's rmse: 1.98032\tvalid_1's l2: 4.53905\tvalid_1's rmse: 2.1305\n",
            "[118]\ttraining's l2: 3.91967\ttraining's rmse: 1.97981\tvalid_1's l2: 4.54153\tvalid_1's rmse: 2.13109\n",
            "[119]\ttraining's l2: 3.91273\ttraining's rmse: 1.97806\tvalid_1's l2: 4.53934\tvalid_1's rmse: 2.13057\n",
            "[120]\ttraining's l2: 3.9097\ttraining's rmse: 1.9773\tvalid_1's l2: 4.53769\tvalid_1's rmse: 2.13019\n",
            "[121]\ttraining's l2: 3.9073\ttraining's rmse: 1.97669\tvalid_1's l2: 4.54093\tvalid_1's rmse: 2.13095\n",
            "[122]\ttraining's l2: 3.90429\ttraining's rmse: 1.97593\tvalid_1's l2: 4.53889\tvalid_1's rmse: 2.13047\n",
            "[123]\ttraining's l2: 3.90205\ttraining's rmse: 1.97536\tvalid_1's l2: 4.54194\tvalid_1's rmse: 2.13118\n",
            "[124]\ttraining's l2: 3.90023\ttraining's rmse: 1.9749\tvalid_1's l2: 4.53999\tvalid_1's rmse: 2.13073\n",
            "[125]\ttraining's l2: 3.89829\ttraining's rmse: 1.97441\tvalid_1's l2: 4.54279\tvalid_1's rmse: 2.13138\n",
            "[126]\ttraining's l2: 3.8963\ttraining's rmse: 1.9739\tvalid_1's l2: 4.53908\tvalid_1's rmse: 2.13051\n",
            "[127]\ttraining's l2: 3.89328\ttraining's rmse: 1.97314\tvalid_1's l2: 4.54165\tvalid_1's rmse: 2.13112\n",
            "[128]\ttraining's l2: 3.89073\ttraining's rmse: 1.97249\tvalid_1's l2: 4.5375\tvalid_1's rmse: 2.13014\n",
            "[129]\ttraining's l2: 3.88912\ttraining's rmse: 1.97209\tvalid_1's l2: 4.54003\tvalid_1's rmse: 2.13074\n",
            "[130]\ttraining's l2: 3.88709\ttraining's rmse: 1.97157\tvalid_1's l2: 4.53656\tvalid_1's rmse: 2.12992\n",
            "[131]\ttraining's l2: 3.88434\ttraining's rmse: 1.97087\tvalid_1's l2: 4.53963\tvalid_1's rmse: 2.13064\n",
            "[132]\ttraining's l2: 3.88215\ttraining's rmse: 1.97032\tvalid_1's l2: 4.53619\tvalid_1's rmse: 2.12983\n",
            "[133]\ttraining's l2: 3.87987\ttraining's rmse: 1.96974\tvalid_1's l2: 4.53857\tvalid_1's rmse: 2.13039\n",
            "[134]\ttraining's l2: 3.87854\ttraining's rmse: 1.9694\tvalid_1's l2: 4.53557\tvalid_1's rmse: 2.12969\n",
            "[135]\ttraining's l2: 3.87534\ttraining's rmse: 1.96859\tvalid_1's l2: 4.53953\tvalid_1's rmse: 2.13062\n",
            "[136]\ttraining's l2: 3.8736\ttraining's rmse: 1.96815\tvalid_1's l2: 4.53915\tvalid_1's rmse: 2.13053\n",
            "[137]\ttraining's l2: 3.87214\ttraining's rmse: 1.96778\tvalid_1's l2: 4.54186\tvalid_1's rmse: 2.13116\n",
            "[138]\ttraining's l2: 3.87012\ttraining's rmse: 1.96726\tvalid_1's l2: 4.53757\tvalid_1's rmse: 2.13016\n",
            "[139]\ttraining's l2: 3.86725\ttraining's rmse: 1.96653\tvalid_1's l2: 4.54094\tvalid_1's rmse: 2.13095\n",
            "[140]\ttraining's l2: 3.86601\ttraining's rmse: 1.96622\tvalid_1's l2: 4.53693\tvalid_1's rmse: 2.13001\n",
            "[141]\ttraining's l2: 3.86404\ttraining's rmse: 1.96572\tvalid_1's l2: 4.53965\tvalid_1's rmse: 2.13065\n",
            "[142]\ttraining's l2: 3.86199\ttraining's rmse: 1.96519\tvalid_1's l2: 4.53654\tvalid_1's rmse: 2.12991\n",
            "[143]\ttraining's l2: 3.86072\ttraining's rmse: 1.96487\tvalid_1's l2: 4.54045\tvalid_1's rmse: 2.13083\n",
            "[144]\ttraining's l2: 3.85872\ttraining's rmse: 1.96436\tvalid_1's l2: 4.53719\tvalid_1's rmse: 2.13007\n",
            "[145]\ttraining's l2: 3.85711\ttraining's rmse: 1.96395\tvalid_1's l2: 4.54016\tvalid_1's rmse: 2.13076\n",
            "[146]\ttraining's l2: 3.85593\ttraining's rmse: 1.96365\tvalid_1's l2: 4.53625\tvalid_1's rmse: 2.12985\n",
            "[147]\ttraining's l2: 3.85377\ttraining's rmse: 1.9631\tvalid_1's l2: 4.54\tvalid_1's rmse: 2.13073\n",
            "[148]\ttraining's l2: 3.85199\ttraining's rmse: 1.96265\tvalid_1's l2: 4.53703\tvalid_1's rmse: 2.13003\n",
            "[149]\ttraining's l2: 3.85082\ttraining's rmse: 1.96235\tvalid_1's l2: 4.54038\tvalid_1's rmse: 2.13082\n",
            "[150]\ttraining's l2: 3.84967\ttraining's rmse: 1.96206\tvalid_1's l2: 4.5365\tvalid_1's rmse: 2.12991\n",
            "[151]\ttraining's l2: 3.84727\ttraining's rmse: 1.96145\tvalid_1's l2: 4.53949\tvalid_1's rmse: 2.13061\n",
            "[152]\ttraining's l2: 3.84478\ttraining's rmse: 1.96081\tvalid_1's l2: 4.53427\tvalid_1's rmse: 2.12938\n",
            "[153]\ttraining's l2: 3.84244\ttraining's rmse: 1.96021\tvalid_1's l2: 4.53776\tvalid_1's rmse: 2.1302\n",
            "[154]\ttraining's l2: 3.83647\ttraining's rmse: 1.95869\tvalid_1's l2: 4.53538\tvalid_1's rmse: 2.12964\n",
            "[155]\ttraining's l2: 3.8349\ttraining's rmse: 1.95829\tvalid_1's l2: 4.53874\tvalid_1's rmse: 2.13043\n",
            "[156]\ttraining's l2: 3.83367\ttraining's rmse: 1.95798\tvalid_1's l2: 4.53461\tvalid_1's rmse: 2.12946\n",
            "[157]\ttraining's l2: 3.83126\ttraining's rmse: 1.95736\tvalid_1's l2: 4.53817\tvalid_1's rmse: 2.1303\n",
            "[158]\ttraining's l2: 3.83001\ttraining's rmse: 1.95704\tvalid_1's l2: 4.53515\tvalid_1's rmse: 2.12959\n",
            "[159]\ttraining's l2: 3.82767\ttraining's rmse: 1.95644\tvalid_1's l2: 4.53885\tvalid_1's rmse: 2.13046\n",
            "[160]\ttraining's l2: 3.82242\ttraining's rmse: 1.9551\tvalid_1's l2: 4.53601\tvalid_1's rmse: 2.12979\n",
            "[161]\ttraining's l2: 3.82022\ttraining's rmse: 1.95454\tvalid_1's l2: 4.53411\tvalid_1's rmse: 2.12935\n",
            "[162]\ttraining's l2: 3.81715\ttraining's rmse: 1.95375\tvalid_1's l2: 4.53028\tvalid_1's rmse: 2.12844\n",
            "[163]\ttraining's l2: 3.81597\ttraining's rmse: 1.95345\tvalid_1's l2: 4.53331\tvalid_1's rmse: 2.12916\n",
            "Early stopping, best iteration is:\n",
            "[63]\ttraining's l2: 4.17707\ttraining's rmse: 2.04379\tvalid_1's l2: 4.52503\tvalid_1's rmse: 2.12721\n",
            "CPU times: user 22 s, sys: 197 ms, total: 22.2 s\n",
            "Wall time: 11.8 s\n"
          ],
          "name": "stdout"
        }
      ]
    },
    {
      "metadata": {
        "id": "DJHDViGGHbYA",
        "colab_type": "text"
      },
      "cell_type": "markdown",
      "source": [
        "# evaluate model"
      ]
    },
    {
      "metadata": {
        "id": "l2eTTyDOKp4-",
        "colab_type": "code",
        "outputId": "91cb5e19-408d-4d9c-d4a0-a38237eb1a6d",
        "colab": {
          "base_uri": "https://localhost:8080/",
          "height": 283
        }
      },
      "cell_type": "code",
      "source": [
        "y = model.evals_result_['training']['rmse']\n",
        "z = model.evals_result_['valid_1']['rmse']\n",
        "x = range(len(y))\n",
        "\n",
        "\n",
        "import matplotlib.pyplot as plt\n",
        "%matplotlib inline\n",
        "\n",
        "plt.plot(x, y, color='cornflowerblue', label = 'train')\n",
        "plt.plot(x, z, color='red', label = 'val')\n",
        "plt.legend(loc=\"upper right\")\n",
        "plt.ylim(0, 3)\n",
        "plt.grid(True)\n",
        "plt.xlabel('epoch')\n",
        "plt.ylabel('mean absolute error')\n",
        "plt.show()"
      ],
      "execution_count": 14,
      "outputs": [
        {
          "output_type": "display_data",
          "data": {
            "image/png": "[encoded data removed]",
            "text/plain": [
              "<matplotlib.figure.Figure at 0x7fea600ef4e0>"
            ]
          },
          "metadata": {
            "tags": []
          }
        }
      ]
    },
    {
      "metadata": {
        "id": "o4mDYws28VCk",
        "colab_type": "code",
        "outputId": "34602bf6-e405-4d3b-c4da-518a1ece8150",
        "colab": {
          "base_uri": "https://localhost:8080/",
          "height": 68
        }
      },
      "cell_type": "code",
      "source": [
        "%%time\n",
        "from sklearn.metrics import mean_squared_error\n",
        "\n",
        "pred = model.predict(df_x)\n",
        "mse = mean_squared_error(df_y, pred)\n",
        "rmse = np.sqrt(mse)\n",
        "print(rmse)"
      ],
      "execution_count": 15,
      "outputs": [
        {
          "output_type": "stream",
          "text": [
            "2.0649596447121064\n",
            "CPU times: user 1.92 s, sys: 8.01 ms, total: 1.93 s\n",
            "Wall time: 1.11 s\n"
          ],
          "name": "stdout"
        }
      ]
    },
    {
      "metadata": {
        "id": "KR4TV1SLlRS-",
        "colab_type": "code",
        "outputId": "d7fdd6c2-bec7-4e67-e4fb-77fafbf77d84",
        "colab": {
          "base_uri": "https://localhost:8080/",
          "height": 51
        }
      },
      "cell_type": "code",
      "source": [
        "%%time\n",
        "pickle.dump(model_LGB, open(filename, 'wb'))"
      ],
      "execution_count": 16,
      "outputs": [
        {
          "output_type": "stream",
          "text": [
            "CPU times: user 26.6 ms, sys: 0 ns, total: 26.6 ms\n",
            "Wall time: 25.6 ms\n"
          ],
          "name": "stdout"
        }
      ]
    },
    {
      "metadata": {
        "id": "ex8X3eQP_cRN",
        "colab_type": "text"
      },
      "cell_type": "markdown",
      "source": [
        "# Predict / Output"
      ]
    },
    {
      "metadata": {
        "id": "2H8GV7bq8U6K",
        "colab_type": "code",
        "outputId": "46823d24-f7ba-4a06-b633-2b1f2f7d11eb",
        "colab": {
          "base_uri": "https://localhost:8080/",
          "height": 51
        }
      },
      "cell_type": "code",
      "source": [
        "%%time\n",
        "pred_tgt = model.predict(df_tgt)\n",
        "pred_tgt[pred_tgt<0] = 0\n",
        "df_out = pd.DataFrame(index = df_tgt.index)\n",
        "df_out['PredictedLogRevenue'] = pred_tgt\n",
        "\n",
        "df_out.to_csv('output_LGB.csv')"
      ],
      "execution_count": 17,
      "outputs": [
        {
          "output_type": "stream",
          "text": [
            "CPU times: user 3.17 s, sys: 31.7 ms, total: 3.2 s\n",
            "Wall time: 3.41 s\n"
          ],
          "name": "stdout"
        }
      ]
    },
    {
      "metadata": {
        "id": "qjuxQSXI8U3v",
        "colab_type": "code",
        "outputId": "d2c78f7b-43fc-40a5-c6f3-339f8807bf9e",
        "colab": {
          "base_uri": "https://localhost:8080/",
          "height": 233
        }
      },
      "cell_type": "code",
      "source": [
        "df_out.head()"
      ],
      "execution_count": 18,
      "outputs": [
        {
          "output_type": "execute_result",
          "data": {
            "text/html": [
              "<div>\n",
              "<style scoped>\n",
              "    .dataframe tbody tr th:only-of-type {\n",
              "        vertical-align: middle;\n",
              "    }\n",
              "\n",
              "    .dataframe tbody tr th {\n",
              "        vertical-align: top;\n",
              "    }\n",
              "\n",
              "    .dataframe thead th {\n",
              "        text-align: right;\n",
              "    }\n",
              "</style>\n",
              "<table border=\"1\" class=\"dataframe\">\n",
              "  <thead>\n",
              "    <tr style=\"text-align: right;\">\n",
              "      <th></th>\n",
              "      <th>PredictedLogRevenue</th>\n",
              "    </tr>\n",
              "    <tr>\n",
              "      <th>fullVisitorId</th>\n",
              "      <th></th>\n",
              "    </tr>\n",
              "  </thead>\n",
              "  <tbody>\n",
              "    <tr>\n",
              "      <th>0000000259678714014</th>\n",
              "      <td>0.358037</td>\n",
              "    </tr>\n",
              "    <tr>\n",
              "      <th>0000049363351866189</th>\n",
              "      <td>0.016143</td>\n",
              "    </tr>\n",
              "    <tr>\n",
              "      <th>0000053049821714864</th>\n",
              "      <td>0.016143</td>\n",
              "    </tr>\n",
              "    <tr>\n",
              "      <th>0000059488412965267</th>\n",
              "      <td>0.016143</td>\n",
              "    </tr>\n",
              "    <tr>\n",
              "      <th>0000085840370633780</th>\n",
              "      <td>0.016143</td>\n",
              "    </tr>\n",
              "  </tbody>\n",
              "</table>\n",
              "</div>"
            ],
            "text/plain": [
              "                     PredictedLogRevenue\n",
              "fullVisitorId                           \n",
              "0000000259678714014             0.358037\n",
              "0000049363351866189             0.016143\n",
              "0000053049821714864             0.016143\n",
              "0000059488412965267             0.016143\n",
              "0000085840370633780             0.016143"
            ]
          },
          "metadata": {
            "tags": []
          },
          "execution_count": 18
        }
      ]
    },
    {
      "metadata": {
        "id": "K584rugV8-pc",
        "colab_type": "code",
        "outputId": "f41aa018-8fdb-402b-b23b-3ec2a4115283",
        "colab": {
          "base_uri": "https://localhost:8080/",
          "height": 295
        }
      },
      "cell_type": "code",
      "source": [
        "df_out.describe()"
      ],
      "execution_count": 19,
      "outputs": [
        {
          "output_type": "execute_result",
          "data": {
            "text/html": [
              "<div>\n",
              "<style scoped>\n",
              "    .dataframe tbody tr th:only-of-type {\n",
              "        vertical-align: middle;\n",
              "    }\n",
              "\n",
              "    .dataframe tbody tr th {\n",
              "        vertical-align: top;\n",
              "    }\n",
              "\n",
              "    .dataframe thead th {\n",
              "        text-align: right;\n",
              "    }\n",
              "</style>\n",
              "<table border=\"1\" class=\"dataframe\">\n",
              "  <thead>\n",
              "    <tr style=\"text-align: right;\">\n",
              "      <th></th>\n",
              "      <th>PredictedLogRevenue</th>\n",
              "    </tr>\n",
              "  </thead>\n",
              "  <tbody>\n",
              "    <tr>\n",
              "      <th>count</th>\n",
              "      <td>617242.000000</td>\n",
              "    </tr>\n",
              "    <tr>\n",
              "      <th>mean</th>\n",
              "      <td>0.221480</td>\n",
              "    </tr>\n",
              "    <tr>\n",
              "      <th>std</th>\n",
              "      <td>1.325335</td>\n",
              "    </tr>\n",
              "    <tr>\n",
              "      <th>min</th>\n",
              "      <td>0.000000</td>\n",
              "    </tr>\n",
              "    <tr>\n",
              "      <th>25%</th>\n",
              "      <td>0.016143</td>\n",
              "    </tr>\n",
              "    <tr>\n",
              "      <th>50%</th>\n",
              "      <td>0.016143</td>\n",
              "    </tr>\n",
              "    <tr>\n",
              "      <th>75%</th>\n",
              "      <td>0.016143</td>\n",
              "    </tr>\n",
              "    <tr>\n",
              "      <th>max</th>\n",
              "      <td>131.467144</td>\n",
              "    </tr>\n",
              "  </tbody>\n",
              "</table>\n",
              "</div>"
            ],
            "text/plain": [
              "       PredictedLogRevenue\n",
              "count        617242.000000\n",
              "mean              0.221480\n",
              "std               1.325335\n",
              "min               0.000000\n",
              "25%               0.016143\n",
              "50%               0.016143\n",
              "75%               0.016143\n",
              "max             131.467144"
            ]
          },
          "metadata": {
            "tags": []
          },
          "execution_count": 19
        }
      ]
    },
    {
      "metadata": {
        "id": "ohw4cX8ORZcs",
        "colab_type": "code",
        "colab": {}
      },
      "cell_type": "code",
      "source": [
        ""
      ],
      "execution_count": 0,
      "outputs": []
    }
  ]
}