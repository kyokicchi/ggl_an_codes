{
  "nbformat": 4,
  "nbformat_minor": 0,
  "metadata": {
    "colab": {
      "name": "trainLGBmodel.ipynb",
      "version": "0.3.2",
      "provenance": [],
      "collapsed_sections": [],
      "include_colab_link": true
    },
    "kernelspec": {
      "name": "python3",
      "display_name": "Python 3"
    },
    "accelerator": "GPU"
  },
  "cells": [
    {
      "cell_type": "markdown",
      "metadata": {
        "id": "view-in-github",
        "colab_type": "text"
      },
      "source": [
        "<a href=\"https://colab.research.google.com/github/kyokicchi/ggl_an_codes/blob/master/LGBmodel.ipynb\" target=\"_parent\"><img src=\"https://colab.research.google.com/assets/colab-badge.svg\" alt=\"Open In Colab\"/></a>"
      ]
    },
    {
      "metadata": {
        "id": "IAe1xrU__tk3",
        "colab_type": "text"
      },
      "cell_type": "markdown",
      "source": [
        "# Train model"
      ]
    },
    {
      "metadata": {
        "id": "H8X_jxlYnrn3",
        "colab_type": "code",
        "colab": {
          "base_uri": "https://localhost:8080/",
          "height": 152
        },
        "outputId": "f54de4aa-f2d6-4cd2-d603-3dc7b28d9039"
      },
      "cell_type": "code",
      "source": [
        "!pip install lightgbm"
      ],
      "execution_count": 1,
      "outputs": [
        {
          "output_type": "stream",
          "text": [
            "Collecting lightgbm\n",
            "\u001b[?25l  Downloading https://files.pythonhosted.org/packages/78/7e/bc87e7951cfaa998cffaf39e6c721f5bd04efb2e139486206356edb289a5/lightgbm-2.2.1-py2.py3-none-manylinux1_x86_64.whl (1.1MB)\n",
            "\u001b[K    100% |████████████████████████████████| 1.1MB 7.6MB/s \n",
            "\u001b[?25hRequirement already satisfied: scipy in /usr/local/lib/python3.6/dist-packages (from lightgbm) (0.19.1)\n",
            "Requirement already satisfied: scikit-learn in /usr/local/lib/python3.6/dist-packages (from lightgbm) (0.19.2)\n",
            "Requirement already satisfied: numpy in /usr/local/lib/python3.6/dist-packages (from lightgbm) (1.14.6)\n",
            "Installing collected packages: lightgbm\n",
            "Successfully installed lightgbm-2.2.1\n"
          ],
          "name": "stdout"
        }
      ]
    },
    {
      "metadata": {
        "id": "7PrvKZYHs9n0",
        "colab_type": "code",
        "colab": {}
      },
      "cell_type": "code",
      "source": [
        "import lightgbm as lgb\n",
        "import numpy as np\n",
        "import pandas as pd\n",
        "from google.colab import drive\n",
        "from google.colab import files\n",
        "from sklearn.model_selection import train_test_split\n",
        "import pickle"
      ],
      "execution_count": 0,
      "outputs": []
    },
    {
      "metadata": {
        "id": "Uujx3hEhjfnX",
        "colab_type": "code",
        "colab": {
          "base_uri": "https://localhost:8080/",
          "height": 121
        },
        "outputId": "071f0e23-6eb8-41ea-fe86-991e5ee453f4"
      },
      "cell_type": "code",
      "source": [
        "drive.mount('/content/gdrive')"
      ],
      "execution_count": 3,
      "outputs": [
        {
          "output_type": "stream",
          "text": [
            "Go to this URL in a browser: https://accounts.google.com/o/oauth2/auth?client_id=947318989803-6bn6qk8qdgf4n4g3pfee6491hc0brc4i.apps.googleusercontent.com&redirect_uri=urn%3Aietf%3Awg%3Aoauth%3A2.0%3Aoob&scope=email%20https%3A%2F%2Fwww.googleapis.com%2Fauth%2Fdocs.test%20https%3A%2F%2Fwww.googleapis.com%2Fauth%2Fdrive%20https%3A%2F%2Fwww.googleapis.com%2Fauth%2Fdrive.photos.readonly%20https%3A%2F%2Fwww.googleapis.com%2Fauth%2Fpeopleapi.readonly&response_type=code\n",
            "\n",
            "Enter your authorization code:\n",
            "··········\n",
            "Mounted at /content/gdrive\n"
          ],
          "name": "stdout"
        }
      ]
    },
    {
      "metadata": {
        "id": "LT06pjlMus4d",
        "colab_type": "code",
        "colab": {
          "base_uri": "https://localhost:8080/",
          "height": 68
        },
        "outputId": "5d7040cd-3a0d-4ce2-83b9-2d7574a690be"
      },
      "cell_type": "code",
      "source": [
        "%cd ../content/gdrive/My Drive/projects/ggl_an/\n",
        "%ls"
      ],
      "execution_count": 4,
      "outputs": [
        {
          "output_type": "stream",
          "text": [
            "/content/gdrive/My Drive/projects/ggl_an\n",
            "model_LGB.sav  output_LGB.csv  user_test.csv    user_train.csv\n",
            "model_NN.h5    output_NN.csv   user_test_n.csv  user_train_n.csv\n"
          ],
          "name": "stdout"
        }
      ]
    },
    {
      "metadata": {
        "id": "8mAcQ8lo8Ixk",
        "colab_type": "code",
        "colab": {}
      },
      "cell_type": "code",
      "source": [
        "s_data = 'user_train.csv'\n",
        "filename = 'model_LGB.sav'\n",
        "s_col_tgt = 'transactionRevenue'\n",
        "l_col_drop = [s_col_tgt]"
      ],
      "execution_count": 0,
      "outputs": []
    },
    {
      "metadata": {
        "id": "dOrJ1yGmnbrk",
        "colab_type": "code",
        "colab": {
          "base_uri": "https://localhost:8080/",
          "height": 68
        },
        "outputId": "f0ff4d8a-257a-490e-8356-6162a52fe2cd"
      },
      "cell_type": "code",
      "source": [
        "%%time\n",
        "df_train = pd.read_csv(s_data, index_col = 0)"
      ],
      "execution_count": 6,
      "outputs": [
        {
          "output_type": "stream",
          "text": [
            "<string>:2: DtypeWarning: Columns (0) have mixed types. Specify dtype option on import or set low_memory=False.\n"
          ],
          "name": "stderr"
        },
        {
          "output_type": "stream",
          "text": [
            "CPU times: user 2.53 s, sys: 348 ms, total: 2.87 s\n",
            "Wall time: 3.65 s\n"
          ],
          "name": "stdout"
        }
      ]
    },
    {
      "metadata": {
        "id": "EtSbg4yv8Ch-",
        "colab_type": "code",
        "colab": {
          "base_uri": "https://localhost:8080/",
          "height": 51
        },
        "outputId": "2b75410d-c21a-43e3-f31c-7601c3bbc130"
      },
      "cell_type": "code",
      "source": [
        "%%time\n",
        "df_y = df_train[s_col_tgt]\n",
        "df_x = df_train.drop(l_col_drop, axis=1)"
      ],
      "execution_count": 7,
      "outputs": [
        {
          "output_type": "stream",
          "text": [
            "CPU times: user 33.9 ms, sys: 57 ms, total: 90.9 ms\n",
            "Wall time: 508 ms\n"
          ],
          "name": "stdout"
        }
      ]
    },
    {
      "metadata": {
        "id": "sYWeiNW0j9cr",
        "colab_type": "code",
        "colab": {
          "base_uri": "https://localhost:8080/",
          "height": 51
        },
        "outputId": "01034979-25c6-4ede-ec52-0f8238ce4796"
      },
      "cell_type": "code",
      "source": [
        "%%time\n",
        "x_train, x_test, y_train, y_test = train_test_split(df_x, df_y)\n",
        "\n"
      ],
      "execution_count": 8,
      "outputs": [
        {
          "output_type": "stream",
          "text": [
            "CPU times: user 594 ms, sys: 63.2 ms, total: 658 ms\n",
            "Wall time: 656 ms\n"
          ],
          "name": "stdout"
        }
      ]
    },
    {
      "metadata": {
        "id": "TGrVT1Le4e7M",
        "colab_type": "code",
        "colab": {
          "base_uri": "https://localhost:8080/",
          "height": 51
        },
        "outputId": "b4f513c2-21ed-40e6-e554-99b21fb082cc"
      },
      "cell_type": "code",
      "source": [
        "%%time\n",
        "from sklearn.model_selection import GridSearchCV\n",
        "\n",
        "def applyGSCV(model, param, X, Y):\n",
        "    res = GridSearchCV(model, param, cv=3)\n",
        "    res.fit(X, Y)\n",
        "    return res\n",
        "\n",
        "\n",
        "model = lgb.LGBMRegressor()\n",
        "\n",
        "param = {\n",
        "    'learning_rate': [0.1,0.15],\n",
        "    'n_estimators': [200],\n",
        "    'num_leaves': [100],\n",
        "}\n",
        "  \n",
        "model_LGB = applyGSCV(model, param, x_train, y_train)\n",
        "\n"
      ],
      "execution_count": 9,
      "outputs": [
        {
          "output_type": "stream",
          "text": [
            "CPU times: user 3min 48s, sys: 2.16 s, total: 3min 50s\n",
            "Wall time: 1min 58s\n"
          ],
          "name": "stdout"
        }
      ]
    },
    {
      "metadata": {
        "id": "5LGbglpv5_80",
        "colab_type": "code",
        "colab": {
          "base_uri": "https://localhost:8080/",
          "height": 135
        },
        "outputId": "b857a843-6639-4954-ab8c-c0d18defeaca"
      },
      "cell_type": "code",
      "source": [
        "print(model_LGB.best_score_)\n",
        "print(model_LGB.best_estimator_)\n"
      ],
      "execution_count": 10,
      "outputs": [
        {
          "output_type": "stream",
          "text": [
            "0.3918641867971566\n",
            "LGBMRegressor(boosting_type='gbdt', class_weight=None, colsample_bytree=1.0,\n",
            "       importance_type='split', learning_rate=0.1, max_depth=-1,\n",
            "       min_child_samples=20, min_child_weight=0.001, min_split_gain=0.0,\n",
            "       n_estimators=200, n_jobs=-1, num_leaves=100, objective=None,\n",
            "       random_state=None, reg_alpha=0.0, reg_lambda=0.0, silent=True,\n",
            "       subsample=1.0, subsample_for_bin=200000, subsample_freq=0)\n"
          ],
          "name": "stdout"
        }
      ]
    },
    {
      "metadata": {
        "id": "ItMWaVwslMJi",
        "colab_type": "code",
        "colab": {
          "base_uri": "https://localhost:8080/",
          "height": 3486
        },
        "outputId": "07be56c6-7795-4593-e22b-4712e9af036e"
      },
      "cell_type": "code",
      "source": [
        "%%time\n",
        "model = lgb.LGBMRegressor(boosting_type='gbdt', class_weight=None, colsample_bytree=1.0,\n",
        "       importance_type='split', learning_rate=0.1, max_depth=-1,\n",
        "       min_child_samples=20, min_child_weight=0.001, min_split_gain=0.0,\n",
        "       n_estimators=200, n_jobs=-1, num_leaves=100, objective=None,\n",
        "       random_state=None, reg_alpha=0.0, reg_lambda=0.0, silent=True,\n",
        "       subsample=1.0, subsample_for_bin=200000, subsample_freq=0)\n",
        "\n",
        "model.fit(x_train, \n",
        "          y_train,\n",
        "          eval_set=[(x_train, y_train),(x_test, y_test)],\n",
        "          eval_metric='rmse',\n",
        "          early_stopping_rounds = 300)"
      ],
      "execution_count": 11,
      "outputs": [
        {
          "output_type": "stream",
          "text": [
            "[1]\ttraining's l2: 7.26132\ttraining's rmse: 2.69468\tvalid_1's l2: 9.08666\tvalid_1's rmse: 3.01441\n",
            "Training until validation scores don't improve for 300 rounds.\n",
            "[2]\ttraining's l2: 6.72163\ttraining's rmse: 2.59261\tvalid_1's l2: 8.54035\tvalid_1's rmse: 2.92239\n",
            "[3]\ttraining's l2: 6.27734\ttraining's rmse: 2.50546\tvalid_1's l2: 8.08677\tvalid_1's rmse: 2.84372\n",
            "[4]\ttraining's l2: 5.91366\ttraining's rmse: 2.4318\tvalid_1's l2: 7.71574\tvalid_1's rmse: 2.77772\n",
            "[5]\ttraining's l2: 5.60848\ttraining's rmse: 2.36822\tvalid_1's l2: 7.40719\tvalid_1's rmse: 2.72161\n",
            "[6]\ttraining's l2: 5.35547\ttraining's rmse: 2.31419\tvalid_1's l2: 7.15014\tvalid_1's rmse: 2.67397\n",
            "[7]\ttraining's l2: 5.14079\ttraining's rmse: 2.26733\tvalid_1's l2: 6.93721\tvalid_1's rmse: 2.63386\n",
            "[8]\ttraining's l2: 4.96031\ttraining's rmse: 2.22718\tvalid_1's l2: 6.74867\tvalid_1's rmse: 2.59782\n",
            "[9]\ttraining's l2: 4.80322\ttraining's rmse: 2.19163\tvalid_1's l2: 6.60435\tvalid_1's rmse: 2.56989\n",
            "[10]\ttraining's l2: 4.67254\ttraining's rmse: 2.16161\tvalid_1's l2: 6.47183\tvalid_1's rmse: 2.54398\n",
            "[11]\ttraining's l2: 4.55699\ttraining's rmse: 2.13471\tvalid_1's l2: 6.37249\tvalid_1's rmse: 2.52438\n",
            "[12]\ttraining's l2: 4.46125\ttraining's rmse: 2.11217\tvalid_1's l2: 6.29169\tvalid_1's rmse: 2.50832\n",
            "[13]\ttraining's l2: 4.37546\ttraining's rmse: 2.09176\tvalid_1's l2: 6.21783\tvalid_1's rmse: 2.49356\n",
            "[14]\ttraining's l2: 4.30369\ttraining's rmse: 2.07453\tvalid_1's l2: 6.15296\tvalid_1's rmse: 2.48052\n",
            "[15]\ttraining's l2: 4.24024\ttraining's rmse: 2.05918\tvalid_1's l2: 6.09878\tvalid_1's rmse: 2.46957\n",
            "[16]\ttraining's l2: 4.18412\ttraining's rmse: 2.04551\tvalid_1's l2: 6.06333\tvalid_1's rmse: 2.46238\n",
            "[17]\ttraining's l2: 4.13208\ttraining's rmse: 2.03275\tvalid_1's l2: 6.02068\tvalid_1's rmse: 2.45371\n",
            "[18]\ttraining's l2: 4.08506\ttraining's rmse: 2.02115\tvalid_1's l2: 5.98581\tvalid_1's rmse: 2.44659\n",
            "[19]\ttraining's l2: 4.04231\ttraining's rmse: 2.01055\tvalid_1's l2: 5.95867\tvalid_1's rmse: 2.44104\n",
            "[20]\ttraining's l2: 3.99946\ttraining's rmse: 1.99986\tvalid_1's l2: 5.93607\tvalid_1's rmse: 2.4364\n",
            "[21]\ttraining's l2: 3.96259\ttraining's rmse: 1.99063\tvalid_1's l2: 5.90979\tvalid_1's rmse: 2.43101\n",
            "[22]\ttraining's l2: 3.92895\ttraining's rmse: 1.98216\tvalid_1's l2: 5.89082\tvalid_1's rmse: 2.4271\n",
            "[23]\ttraining's l2: 3.89587\ttraining's rmse: 1.9738\tvalid_1's l2: 5.87666\tvalid_1's rmse: 2.42418\n",
            "[24]\ttraining's l2: 3.86333\ttraining's rmse: 1.96553\tvalid_1's l2: 5.8595\tvalid_1's rmse: 2.42064\n",
            "[25]\ttraining's l2: 3.81717\ttraining's rmse: 1.95376\tvalid_1's l2: 5.82243\tvalid_1's rmse: 2.41297\n",
            "[26]\ttraining's l2: 3.76252\ttraining's rmse: 1.93972\tvalid_1's l2: 5.8317\tvalid_1's rmse: 2.41489\n",
            "[27]\ttraining's l2: 3.73739\ttraining's rmse: 1.93323\tvalid_1's l2: 5.8265\tvalid_1's rmse: 2.41381\n",
            "[28]\ttraining's l2: 3.70113\ttraining's rmse: 1.92383\tvalid_1's l2: 5.79573\tvalid_1's rmse: 2.40743\n",
            "[29]\ttraining's l2: 3.65493\ttraining's rmse: 1.91179\tvalid_1's l2: 5.80332\tvalid_1's rmse: 2.40901\n",
            "[30]\ttraining's l2: 3.63135\ttraining's rmse: 1.90561\tvalid_1's l2: 5.80188\tvalid_1's rmse: 2.40871\n",
            "[31]\ttraining's l2: 3.59528\ttraining's rmse: 1.89612\tvalid_1's l2: 5.80761\tvalid_1's rmse: 2.4099\n",
            "[32]\ttraining's l2: 3.5673\ttraining's rmse: 1.88873\tvalid_1's l2: 5.78479\tvalid_1's rmse: 2.40516\n",
            "[33]\ttraining's l2: 3.53154\ttraining's rmse: 1.87924\tvalid_1's l2: 5.79279\tvalid_1's rmse: 2.40682\n",
            "[34]\ttraining's l2: 3.50131\ttraining's rmse: 1.87118\tvalid_1's l2: 5.80139\tvalid_1's rmse: 2.40861\n",
            "[35]\ttraining's l2: 3.46065\ttraining's rmse: 1.86028\tvalid_1's l2: 5.81526\tvalid_1's rmse: 2.41149\n",
            "[36]\ttraining's l2: 3.44513\ttraining's rmse: 1.85611\tvalid_1's l2: 5.81534\tvalid_1's rmse: 2.4115\n",
            "[37]\ttraining's l2: 3.42967\ttraining's rmse: 1.85194\tvalid_1's l2: 5.81573\tvalid_1's rmse: 2.41158\n",
            "[38]\ttraining's l2: 3.41465\ttraining's rmse: 1.84788\tvalid_1's l2: 5.81122\tvalid_1's rmse: 2.41065\n",
            "[39]\ttraining's l2: 3.4008\ttraining's rmse: 1.84412\tvalid_1's l2: 5.80833\tvalid_1's rmse: 2.41005\n",
            "[40]\ttraining's l2: 3.38286\ttraining's rmse: 1.83926\tvalid_1's l2: 5.81101\tvalid_1's rmse: 2.4106\n",
            "[41]\ttraining's l2: 3.36532\ttraining's rmse: 1.83448\tvalid_1's l2: 5.81294\tvalid_1's rmse: 2.411\n",
            "[42]\ttraining's l2: 3.35095\ttraining's rmse: 1.83056\tvalid_1's l2: 5.81607\tvalid_1's rmse: 2.41165\n",
            "[43]\ttraining's l2: 3.33598\ttraining's rmse: 1.82647\tvalid_1's l2: 5.81558\tvalid_1's rmse: 2.41155\n",
            "[44]\ttraining's l2: 3.32453\ttraining's rmse: 1.82333\tvalid_1's l2: 5.81644\tvalid_1's rmse: 2.41173\n",
            "[45]\ttraining's l2: 3.31004\ttraining's rmse: 1.81935\tvalid_1's l2: 5.81716\tvalid_1's rmse: 2.41188\n",
            "[46]\ttraining's l2: 3.29947\ttraining's rmse: 1.81644\tvalid_1's l2: 5.81864\tvalid_1's rmse: 2.41218\n",
            "[47]\ttraining's l2: 3.28724\ttraining's rmse: 1.81307\tvalid_1's l2: 5.81769\tvalid_1's rmse: 2.41199\n",
            "[48]\ttraining's l2: 3.27661\ttraining's rmse: 1.81014\tvalid_1's l2: 5.81801\tvalid_1's rmse: 2.41205\n",
            "[49]\ttraining's l2: 3.26303\ttraining's rmse: 1.80639\tvalid_1's l2: 5.81676\tvalid_1's rmse: 2.4118\n",
            "[50]\ttraining's l2: 3.25403\ttraining's rmse: 1.80389\tvalid_1's l2: 5.81713\tvalid_1's rmse: 2.41187\n",
            "[51]\ttraining's l2: 3.24259\ttraining's rmse: 1.80072\tvalid_1's l2: 5.81974\tvalid_1's rmse: 2.41241\n",
            "[52]\ttraining's l2: 3.23379\ttraining's rmse: 1.79828\tvalid_1's l2: 5.81977\tvalid_1's rmse: 2.41242\n",
            "[53]\ttraining's l2: 3.22655\ttraining's rmse: 1.79626\tvalid_1's l2: 5.82025\tvalid_1's rmse: 2.41252\n",
            "[54]\ttraining's l2: 3.21676\ttraining's rmse: 1.79353\tvalid_1's l2: 5.82092\tvalid_1's rmse: 2.41266\n",
            "[55]\ttraining's l2: 3.20621\ttraining's rmse: 1.79059\tvalid_1's l2: 5.82131\tvalid_1's rmse: 2.41274\n",
            "[56]\ttraining's l2: 3.19899\ttraining's rmse: 1.78857\tvalid_1's l2: 5.8203\tvalid_1's rmse: 2.41253\n",
            "[57]\ttraining's l2: 3.19014\ttraining's rmse: 1.7861\tvalid_1's l2: 5.82466\tvalid_1's rmse: 2.41343\n",
            "[58]\ttraining's l2: 3.18013\ttraining's rmse: 1.78329\tvalid_1's l2: 5.82603\tvalid_1's rmse: 2.41372\n",
            "[59]\ttraining's l2: 3.17102\ttraining's rmse: 1.78074\tvalid_1's l2: 5.82476\tvalid_1's rmse: 2.41345\n",
            "[60]\ttraining's l2: 3.16103\ttraining's rmse: 1.77793\tvalid_1's l2: 5.82465\tvalid_1's rmse: 2.41343\n",
            "[61]\ttraining's l2: 3.15352\ttraining's rmse: 1.77582\tvalid_1's l2: 5.82525\tvalid_1's rmse: 2.41356\n",
            "[62]\ttraining's l2: 3.14491\ttraining's rmse: 1.77339\tvalid_1's l2: 5.83031\tvalid_1's rmse: 2.4146\n",
            "[63]\ttraining's l2: 3.13696\ttraining's rmse: 1.77115\tvalid_1's l2: 5.83153\tvalid_1's rmse: 2.41486\n",
            "[64]\ttraining's l2: 3.12965\ttraining's rmse: 1.76908\tvalid_1's l2: 5.82946\tvalid_1's rmse: 2.41443\n",
            "[65]\ttraining's l2: 3.12172\ttraining's rmse: 1.76684\tvalid_1's l2: 5.83046\tvalid_1's rmse: 2.41463\n",
            "[66]\ttraining's l2: 3.11269\ttraining's rmse: 1.76428\tvalid_1's l2: 5.83075\tvalid_1's rmse: 2.4147\n",
            "[67]\ttraining's l2: 3.10729\ttraining's rmse: 1.76275\tvalid_1's l2: 5.83109\tvalid_1's rmse: 2.41476\n",
            "[68]\ttraining's l2: 3.09976\ttraining's rmse: 1.76061\tvalid_1's l2: 5.83461\tvalid_1's rmse: 2.41549\n",
            "[69]\ttraining's l2: 3.09433\ttraining's rmse: 1.75907\tvalid_1's l2: 5.83351\tvalid_1's rmse: 2.41527\n",
            "[70]\ttraining's l2: 3.08807\ttraining's rmse: 1.75729\tvalid_1's l2: 5.83425\tvalid_1's rmse: 2.41542\n",
            "[71]\ttraining's l2: 3.07941\ttraining's rmse: 1.75483\tvalid_1's l2: 5.83334\tvalid_1's rmse: 2.41523\n",
            "[72]\ttraining's l2: 3.0739\ttraining's rmse: 1.75325\tvalid_1's l2: 5.83354\tvalid_1's rmse: 2.41527\n",
            "[73]\ttraining's l2: 3.06862\ttraining's rmse: 1.75175\tvalid_1's l2: 5.83383\tvalid_1's rmse: 2.41533\n",
            "[74]\ttraining's l2: 3.06232\ttraining's rmse: 1.74995\tvalid_1's l2: 5.83575\tvalid_1's rmse: 2.41573\n",
            "[75]\ttraining's l2: 3.05344\ttraining's rmse: 1.74741\tvalid_1's l2: 5.83699\tvalid_1's rmse: 2.41599\n",
            "[76]\ttraining's l2: 3.04835\ttraining's rmse: 1.74595\tvalid_1's l2: 5.83965\tvalid_1's rmse: 2.41654\n",
            "[77]\ttraining's l2: 3.04118\ttraining's rmse: 1.7439\tvalid_1's l2: 5.84194\tvalid_1's rmse: 2.41701\n",
            "[78]\ttraining's l2: 3.03417\ttraining's rmse: 1.74189\tvalid_1's l2: 5.84483\tvalid_1's rmse: 2.41761\n",
            "[79]\ttraining's l2: 3.02833\ttraining's rmse: 1.74021\tvalid_1's l2: 5.8462\tvalid_1's rmse: 2.41789\n",
            "[80]\ttraining's l2: 3.02211\ttraining's rmse: 1.73842\tvalid_1's l2: 5.84814\tvalid_1's rmse: 2.41829\n",
            "[81]\ttraining's l2: 3.01466\ttraining's rmse: 1.73628\tvalid_1's l2: 5.8502\tvalid_1's rmse: 2.41872\n",
            "[82]\ttraining's l2: 3.00911\ttraining's rmse: 1.73468\tvalid_1's l2: 5.85053\tvalid_1's rmse: 2.41879\n",
            "[83]\ttraining's l2: 3.00072\ttraining's rmse: 1.73226\tvalid_1's l2: 5.85021\tvalid_1's rmse: 2.41872\n",
            "[84]\ttraining's l2: 2.99446\ttraining's rmse: 1.73045\tvalid_1's l2: 5.85225\tvalid_1's rmse: 2.41914\n",
            "[85]\ttraining's l2: 2.98917\ttraining's rmse: 1.72892\tvalid_1's l2: 5.853\tvalid_1's rmse: 2.4193\n",
            "[86]\ttraining's l2: 2.98437\ttraining's rmse: 1.72753\tvalid_1's l2: 5.85353\tvalid_1's rmse: 2.41941\n",
            "[87]\ttraining's l2: 2.97675\ttraining's rmse: 1.72533\tvalid_1's l2: 5.85335\tvalid_1's rmse: 2.41937\n",
            "[88]\ttraining's l2: 2.96986\ttraining's rmse: 1.72333\tvalid_1's l2: 5.85167\tvalid_1's rmse: 2.41902\n",
            "[89]\ttraining's l2: 2.96187\ttraining's rmse: 1.72101\tvalid_1's l2: 5.85067\tvalid_1's rmse: 2.41881\n",
            "[90]\ttraining's l2: 2.95455\ttraining's rmse: 1.71888\tvalid_1's l2: 5.85121\tvalid_1's rmse: 2.41893\n",
            "[91]\ttraining's l2: 2.94894\ttraining's rmse: 1.71725\tvalid_1's l2: 5.85274\tvalid_1's rmse: 2.41924\n",
            "[92]\ttraining's l2: 2.9432\ttraining's rmse: 1.71558\tvalid_1's l2: 5.85374\tvalid_1's rmse: 2.41945\n",
            "[93]\ttraining's l2: 2.93904\ttraining's rmse: 1.71436\tvalid_1's l2: 5.85409\tvalid_1's rmse: 2.41952\n",
            "[94]\ttraining's l2: 2.9337\ttraining's rmse: 1.7128\tvalid_1's l2: 5.85414\tvalid_1's rmse: 2.41953\n",
            "[95]\ttraining's l2: 2.92641\ttraining's rmse: 1.71067\tvalid_1's l2: 5.85406\tvalid_1's rmse: 2.41952\n",
            "[96]\ttraining's l2: 2.92224\ttraining's rmse: 1.70946\tvalid_1's l2: 5.85407\tvalid_1's rmse: 2.41952\n",
            "[97]\ttraining's l2: 2.9184\ttraining's rmse: 1.70833\tvalid_1's l2: 5.85366\tvalid_1's rmse: 2.41943\n",
            "[98]\ttraining's l2: 2.9134\ttraining's rmse: 1.70687\tvalid_1's l2: 5.85689\tvalid_1's rmse: 2.4201\n",
            "[99]\ttraining's l2: 2.90444\ttraining's rmse: 1.70424\tvalid_1's l2: 5.85496\tvalid_1's rmse: 2.4197\n",
            "[100]\ttraining's l2: 2.89942\ttraining's rmse: 1.70277\tvalid_1's l2: 5.85662\tvalid_1's rmse: 2.42005\n",
            "[101]\ttraining's l2: 2.89453\ttraining's rmse: 1.70133\tvalid_1's l2: 5.85807\tvalid_1's rmse: 2.42035\n",
            "[102]\ttraining's l2: 2.89093\ttraining's rmse: 1.70027\tvalid_1's l2: 5.85802\tvalid_1's rmse: 2.42033\n",
            "[103]\ttraining's l2: 2.88802\ttraining's rmse: 1.69942\tvalid_1's l2: 5.85743\tvalid_1's rmse: 2.42021\n",
            "[104]\ttraining's l2: 2.88369\ttraining's rmse: 1.69814\tvalid_1's l2: 5.8578\tvalid_1's rmse: 2.42029\n",
            "[105]\ttraining's l2: 2.8759\ttraining's rmse: 1.69585\tvalid_1's l2: 5.85744\tvalid_1's rmse: 2.42022\n",
            "[106]\ttraining's l2: 2.86935\ttraining's rmse: 1.69391\tvalid_1's l2: 5.85717\tvalid_1's rmse: 2.42016\n",
            "[107]\ttraining's l2: 2.86496\ttraining's rmse: 1.69262\tvalid_1's l2: 5.85699\tvalid_1's rmse: 2.42012\n",
            "[108]\ttraining's l2: 2.86139\ttraining's rmse: 1.69156\tvalid_1's l2: 5.85794\tvalid_1's rmse: 2.42032\n",
            "[109]\ttraining's l2: 2.85472\ttraining's rmse: 1.68959\tvalid_1's l2: 5.8569\tvalid_1's rmse: 2.4201\n",
            "[110]\ttraining's l2: 2.84708\ttraining's rmse: 1.68733\tvalid_1's l2: 5.85557\tvalid_1's rmse: 2.41983\n",
            "[111]\ttraining's l2: 2.84019\ttraining's rmse: 1.68529\tvalid_1's l2: 5.85547\tvalid_1's rmse: 2.41981\n",
            "[112]\ttraining's l2: 2.8366\ttraining's rmse: 1.68422\tvalid_1's l2: 5.85788\tvalid_1's rmse: 2.42031\n",
            "[113]\ttraining's l2: 2.83281\ttraining's rmse: 1.68309\tvalid_1's l2: 5.85781\tvalid_1's rmse: 2.42029\n",
            "[114]\ttraining's l2: 2.82668\ttraining's rmse: 1.68127\tvalid_1's l2: 5.85954\tvalid_1's rmse: 2.42065\n",
            "[115]\ttraining's l2: 2.82084\ttraining's rmse: 1.67953\tvalid_1's l2: 5.85984\tvalid_1's rmse: 2.42071\n",
            "[116]\ttraining's l2: 2.81332\ttraining's rmse: 1.6773\tvalid_1's l2: 5.86132\tvalid_1's rmse: 2.42102\n",
            "[117]\ttraining's l2: 2.80929\ttraining's rmse: 1.67609\tvalid_1's l2: 5.86352\tvalid_1's rmse: 2.42147\n",
            "[118]\ttraining's l2: 2.80547\ttraining's rmse: 1.67495\tvalid_1's l2: 5.86496\tvalid_1's rmse: 2.42177\n",
            "[119]\ttraining's l2: 2.80227\ttraining's rmse: 1.674\tvalid_1's l2: 5.86669\tvalid_1's rmse: 2.42212\n",
            "[120]\ttraining's l2: 2.79894\ttraining's rmse: 1.673\tvalid_1's l2: 5.86737\tvalid_1's rmse: 2.42227\n",
            "[121]\ttraining's l2: 2.79221\ttraining's rmse: 1.67099\tvalid_1's l2: 5.86746\tvalid_1's rmse: 2.42228\n",
            "[122]\ttraining's l2: 2.78862\ttraining's rmse: 1.66992\tvalid_1's l2: 5.867\tvalid_1's rmse: 2.42219\n",
            "[123]\ttraining's l2: 2.78236\ttraining's rmse: 1.66804\tvalid_1's l2: 5.86836\tvalid_1's rmse: 2.42247\n",
            "[124]\ttraining's l2: 2.77688\ttraining's rmse: 1.6664\tvalid_1's l2: 5.86963\tvalid_1's rmse: 2.42273\n",
            "[125]\ttraining's l2: 2.77396\ttraining's rmse: 1.66552\tvalid_1's l2: 5.8689\tvalid_1's rmse: 2.42258\n",
            "[126]\ttraining's l2: 2.76756\ttraining's rmse: 1.6636\tvalid_1's l2: 5.86945\tvalid_1's rmse: 2.4227\n",
            "[127]\ttraining's l2: 2.763\ttraining's rmse: 1.66223\tvalid_1's l2: 5.87079\tvalid_1's rmse: 2.42297\n",
            "[128]\ttraining's l2: 2.75811\ttraining's rmse: 1.66075\tvalid_1's l2: 5.86958\tvalid_1's rmse: 2.42272\n",
            "[129]\ttraining's l2: 2.7516\ttraining's rmse: 1.65879\tvalid_1's l2: 5.86939\tvalid_1's rmse: 2.42268\n",
            "[130]\ttraining's l2: 2.74627\ttraining's rmse: 1.65719\tvalid_1's l2: 5.86896\tvalid_1's rmse: 2.42259\n",
            "[131]\ttraining's l2: 2.74111\ttraining's rmse: 1.65563\tvalid_1's l2: 5.871\tvalid_1's rmse: 2.42301\n",
            "[132]\ttraining's l2: 2.7356\ttraining's rmse: 1.65397\tvalid_1's l2: 5.87379\tvalid_1's rmse: 2.42359\n",
            "[133]\ttraining's l2: 2.72875\ttraining's rmse: 1.65189\tvalid_1's l2: 5.87242\tvalid_1's rmse: 2.42331\n",
            "[134]\ttraining's l2: 2.72131\ttraining's rmse: 1.64964\tvalid_1's l2: 5.87378\tvalid_1's rmse: 2.42359\n",
            "[135]\ttraining's l2: 2.71677\ttraining's rmse: 1.64826\tvalid_1's l2: 5.87524\tvalid_1's rmse: 2.42389\n",
            "[136]\ttraining's l2: 2.71218\ttraining's rmse: 1.64687\tvalid_1's l2: 5.87453\tvalid_1's rmse: 2.42374\n",
            "[137]\ttraining's l2: 2.7083\ttraining's rmse: 1.64569\tvalid_1's l2: 5.87466\tvalid_1's rmse: 2.42377\n",
            "[138]\ttraining's l2: 2.70514\ttraining's rmse: 1.64473\tvalid_1's l2: 5.87595\tvalid_1's rmse: 2.42404\n",
            "[139]\ttraining's l2: 2.70215\ttraining's rmse: 1.64382\tvalid_1's l2: 5.87651\tvalid_1's rmse: 2.42415\n",
            "[140]\ttraining's l2: 2.69645\ttraining's rmse: 1.64209\tvalid_1's l2: 5.87796\tvalid_1's rmse: 2.42445\n",
            "[141]\ttraining's l2: 2.69254\ttraining's rmse: 1.6409\tvalid_1's l2: 5.88026\tvalid_1's rmse: 2.42492\n",
            "[142]\ttraining's l2: 2.6889\ttraining's rmse: 1.63979\tvalid_1's l2: 5.87919\tvalid_1's rmse: 2.4247\n",
            "[143]\ttraining's l2: 2.6848\ttraining's rmse: 1.63854\tvalid_1's l2: 5.87901\tvalid_1's rmse: 2.42467\n",
            "[144]\ttraining's l2: 2.68134\ttraining's rmse: 1.63748\tvalid_1's l2: 5.87941\tvalid_1's rmse: 2.42475\n",
            "[145]\ttraining's l2: 2.67789\ttraining's rmse: 1.63643\tvalid_1's l2: 5.88076\tvalid_1's rmse: 2.42503\n",
            "[146]\ttraining's l2: 2.6739\ttraining's rmse: 1.63521\tvalid_1's l2: 5.883\tvalid_1's rmse: 2.42549\n",
            "[147]\ttraining's l2: 2.66779\ttraining's rmse: 1.63334\tvalid_1's l2: 5.88279\tvalid_1's rmse: 2.42545\n",
            "[148]\ttraining's l2: 2.66431\ttraining's rmse: 1.63227\tvalid_1's l2: 5.88244\tvalid_1's rmse: 2.42537\n",
            "[149]\ttraining's l2: 2.65846\ttraining's rmse: 1.63048\tvalid_1's l2: 5.88419\tvalid_1's rmse: 2.42574\n",
            "[150]\ttraining's l2: 2.65376\ttraining's rmse: 1.62904\tvalid_1's l2: 5.8856\tvalid_1's rmse: 2.42602\n",
            "[151]\ttraining's l2: 2.65066\ttraining's rmse: 1.62808\tvalid_1's l2: 5.88546\tvalid_1's rmse: 2.426\n",
            "[152]\ttraining's l2: 2.6446\ttraining's rmse: 1.62622\tvalid_1's l2: 5.88479\tvalid_1's rmse: 2.42586\n",
            "[153]\ttraining's l2: 2.63969\ttraining's rmse: 1.62471\tvalid_1's l2: 5.88538\tvalid_1's rmse: 2.42598\n",
            "[154]\ttraining's l2: 2.63528\ttraining's rmse: 1.62336\tvalid_1's l2: 5.88556\tvalid_1's rmse: 2.42602\n",
            "[155]\ttraining's l2: 2.63323\ttraining's rmse: 1.62272\tvalid_1's l2: 5.88522\tvalid_1's rmse: 2.42595\n",
            "[156]\ttraining's l2: 2.63126\ttraining's rmse: 1.62212\tvalid_1's l2: 5.88652\tvalid_1's rmse: 2.42622\n",
            "[157]\ttraining's l2: 2.62813\ttraining's rmse: 1.62115\tvalid_1's l2: 5.88694\tvalid_1's rmse: 2.4263\n",
            "[158]\ttraining's l2: 2.62521\ttraining's rmse: 1.62025\tvalid_1's l2: 5.88843\tvalid_1's rmse: 2.42661\n",
            "[159]\ttraining's l2: 2.62138\ttraining's rmse: 1.61907\tvalid_1's l2: 5.88938\tvalid_1's rmse: 2.4268\n",
            "[160]\ttraining's l2: 2.61647\ttraining's rmse: 1.61755\tvalid_1's l2: 5.88953\tvalid_1's rmse: 2.42684\n",
            "[161]\ttraining's l2: 2.61297\ttraining's rmse: 1.61647\tvalid_1's l2: 5.89219\tvalid_1's rmse: 2.42738\n",
            "[162]\ttraining's l2: 2.61018\ttraining's rmse: 1.6156\tvalid_1's l2: 5.8918\tvalid_1's rmse: 2.4273\n",
            "[163]\ttraining's l2: 2.60447\ttraining's rmse: 1.61384\tvalid_1's l2: 5.8919\tvalid_1's rmse: 2.42732\n",
            "[164]\ttraining's l2: 2.60042\ttraining's rmse: 1.61258\tvalid_1's l2: 5.89103\tvalid_1's rmse: 2.42714\n",
            "[165]\ttraining's l2: 2.597\ttraining's rmse: 1.61152\tvalid_1's l2: 5.8917\tvalid_1's rmse: 2.42728\n",
            "[166]\ttraining's l2: 2.59113\ttraining's rmse: 1.6097\tvalid_1's l2: 5.89301\tvalid_1's rmse: 2.42755\n",
            "[167]\ttraining's l2: 2.5879\ttraining's rmse: 1.60869\tvalid_1's l2: 5.89414\tvalid_1's rmse: 2.42778\n",
            "[168]\ttraining's l2: 2.58518\ttraining's rmse: 1.60785\tvalid_1's l2: 5.89613\tvalid_1's rmse: 2.42819\n",
            "[169]\ttraining's l2: 2.58246\ttraining's rmse: 1.607\tvalid_1's l2: 5.89641\tvalid_1's rmse: 2.42825\n",
            "[170]\ttraining's l2: 2.58083\ttraining's rmse: 1.6065\tvalid_1's l2: 5.89748\tvalid_1's rmse: 2.42847\n",
            "[171]\ttraining's l2: 2.57871\ttraining's rmse: 1.60584\tvalid_1's l2: 5.89796\tvalid_1's rmse: 2.42857\n",
            "[172]\ttraining's l2: 2.57635\ttraining's rmse: 1.6051\tvalid_1's l2: 5.8976\tvalid_1's rmse: 2.4285\n",
            "[173]\ttraining's l2: 2.57047\ttraining's rmse: 1.60327\tvalid_1's l2: 5.89949\tvalid_1's rmse: 2.42889\n",
            "[174]\ttraining's l2: 2.56663\ttraining's rmse: 1.60207\tvalid_1's l2: 5.89923\tvalid_1's rmse: 2.42883\n",
            "[175]\ttraining's l2: 2.56469\ttraining's rmse: 1.60146\tvalid_1's l2: 5.89943\tvalid_1's rmse: 2.42888\n",
            "[176]\ttraining's l2: 2.56176\ttraining's rmse: 1.60055\tvalid_1's l2: 5.89993\tvalid_1's rmse: 2.42898\n",
            "[177]\ttraining's l2: 2.5586\ttraining's rmse: 1.59956\tvalid_1's l2: 5.90035\tvalid_1's rmse: 2.42906\n",
            "[178]\ttraining's l2: 2.55578\ttraining's rmse: 1.59868\tvalid_1's l2: 5.89885\tvalid_1's rmse: 2.42875\n",
            "[179]\ttraining's l2: 2.55385\ttraining's rmse: 1.59808\tvalid_1's l2: 5.89902\tvalid_1's rmse: 2.42879\n",
            "[180]\ttraining's l2: 2.55144\ttraining's rmse: 1.59732\tvalid_1's l2: 5.90108\tvalid_1's rmse: 2.42921\n",
            "[181]\ttraining's l2: 2.54636\ttraining's rmse: 1.59573\tvalid_1's l2: 5.90186\tvalid_1's rmse: 2.42937\n",
            "[182]\ttraining's l2: 2.54274\ttraining's rmse: 1.5946\tvalid_1's l2: 5.90234\tvalid_1's rmse: 2.42947\n",
            "[183]\ttraining's l2: 2.5385\ttraining's rmse: 1.59327\tvalid_1's l2: 5.90166\tvalid_1's rmse: 2.42933\n",
            "[184]\ttraining's l2: 2.53475\ttraining's rmse: 1.59209\tvalid_1's l2: 5.90265\tvalid_1's rmse: 2.42954\n",
            "[185]\ttraining's l2: 2.52895\ttraining's rmse: 1.59027\tvalid_1's l2: 5.90379\tvalid_1's rmse: 2.42977\n",
            "[186]\ttraining's l2: 2.5258\ttraining's rmse: 1.58928\tvalid_1's l2: 5.90258\tvalid_1's rmse: 2.42952\n",
            "[187]\ttraining's l2: 2.52296\ttraining's rmse: 1.58838\tvalid_1's l2: 5.90391\tvalid_1's rmse: 2.4298\n",
            "[188]\ttraining's l2: 2.51412\ttraining's rmse: 1.5856\tvalid_1's l2: 5.89007\tvalid_1's rmse: 2.42695\n",
            "[189]\ttraining's l2: 2.50952\ttraining's rmse: 1.58415\tvalid_1's l2: 5.8916\tvalid_1's rmse: 2.42726\n",
            "[190]\ttraining's l2: 2.50501\ttraining's rmse: 1.58272\tvalid_1's l2: 5.89492\tvalid_1's rmse: 2.42795\n",
            "[191]\ttraining's l2: 2.50256\ttraining's rmse: 1.58195\tvalid_1's l2: 5.89678\tvalid_1's rmse: 2.42833\n",
            "[192]\ttraining's l2: 2.49896\ttraining's rmse: 1.58081\tvalid_1's l2: 5.89653\tvalid_1's rmse: 2.42828\n",
            "[193]\ttraining's l2: 2.49632\ttraining's rmse: 1.57997\tvalid_1's l2: 5.89829\tvalid_1's rmse: 2.42864\n",
            "[194]\ttraining's l2: 2.49472\ttraining's rmse: 1.57947\tvalid_1's l2: 5.90028\tvalid_1's rmse: 2.42905\n",
            "[195]\ttraining's l2: 2.49035\ttraining's rmse: 1.57808\tvalid_1's l2: 5.90229\tvalid_1's rmse: 2.42946\n",
            "[196]\ttraining's l2: 2.48848\ttraining's rmse: 1.57749\tvalid_1's l2: 5.904\tvalid_1's rmse: 2.42982\n",
            "[197]\ttraining's l2: 2.48356\ttraining's rmse: 1.57593\tvalid_1's l2: 5.90329\tvalid_1's rmse: 2.42967\n",
            "[198]\ttraining's l2: 2.48124\ttraining's rmse: 1.5752\tvalid_1's l2: 5.90384\tvalid_1's rmse: 2.42978\n",
            "[199]\ttraining's l2: 2.47861\ttraining's rmse: 1.57436\tvalid_1's l2: 5.90407\tvalid_1's rmse: 2.42983\n",
            "[200]\ttraining's l2: 2.4749\ttraining's rmse: 1.57318\tvalid_1's l2: 5.90516\tvalid_1's rmse: 2.43005\n",
            "Did not meet early stopping. Best iteration is:\n",
            "[200]\ttraining's l2: 2.4749\ttraining's rmse: 1.57318\tvalid_1's l2: 5.90516\tvalid_1's rmse: 2.43005\n",
            "CPU times: user 35.3 s, sys: 330 ms, total: 35.6 s\n",
            "Wall time: 18.6 s\n"
          ],
          "name": "stdout"
        }
      ]
    },
    {
      "metadata": {
        "id": "KR4TV1SLlRS-",
        "colab_type": "code",
        "colab": {
          "base_uri": "https://localhost:8080/",
          "height": 51
        },
        "outputId": "966c90c6-5912-4551-ab68-6134252647c3"
      },
      "cell_type": "code",
      "source": [
        "%%time\n",
        "pickle.dump(model_LGB, open(filename, 'wb'))\n"
      ],
      "execution_count": 12,
      "outputs": [
        {
          "output_type": "stream",
          "text": [
            "CPU times: user 184 ms, sys: 4.02 ms, total: 188 ms\n",
            "Wall time: 366 ms\n"
          ],
          "name": "stdout"
        }
      ]
    },
    {
      "metadata": {
        "id": "ex8X3eQP_cRN",
        "colab_type": "text"
      },
      "cell_type": "markdown",
      "source": [
        "# Predict / Output"
      ]
    },
    {
      "metadata": {
        "id": "ufrMRIH19c05",
        "colab_type": "code",
        "colab": {
          "base_uri": "https://localhost:8080/",
          "height": 51
        },
        "outputId": "17efb620-9a9c-44a2-b28c-ed15671ef6d1"
      },
      "cell_type": "code",
      "source": [
        "%%time\n",
        "\n",
        "model = pickle.load(open('model_LGB.sav', 'rb'))"
      ],
      "execution_count": 13,
      "outputs": [
        {
          "output_type": "stream",
          "text": [
            "CPU times: user 32.5 ms, sys: 2.96 ms, total: 35.4 ms\n",
            "Wall time: 29.6 ms\n"
          ],
          "name": "stdout"
        }
      ]
    },
    {
      "metadata": {
        "id": "eW2V42ZV8jg5",
        "colab_type": "code",
        "colab": {
          "base_uri": "https://localhost:8080/",
          "height": 51
        },
        "outputId": "f48bc2a7-60db-46d9-ab0b-d7e942a36bb2"
      },
      "cell_type": "code",
      "source": [
        "%%time\n",
        "df_user_train = pd.read_csv('user_train.csv', index_col = 0, dtype={'fullVisitorId': 'str'})\n",
        "df_user_test = pd.read_csv('user_test.csv', index_col = 0, dtype={'fullVisitorId': 'str'})\n"
      ],
      "execution_count": 14,
      "outputs": [
        {
          "output_type": "stream",
          "text": [
            "CPU times: user 4.76 s, sys: 247 ms, total: 5.01 s\n",
            "Wall time: 5.79 s\n"
          ],
          "name": "stdout"
        }
      ]
    },
    {
      "metadata": {
        "id": "6oNx0QIG81nE",
        "colab_type": "code",
        "colab": {
          "base_uri": "https://localhost:8080/",
          "height": 34
        },
        "outputId": "3eae1455-0e01-47ce-fe58-1f0211af8157"
      },
      "cell_type": "code",
      "source": [
        "\n",
        "df_y = df_user_train['transactionRevenue']\n",
        "df_x = df_user_train.drop(['transactionRevenue'], axis=1)\n",
        "df_tgt = df_user_test.drop(['transactionRevenue'], axis=1)\n",
        "\n",
        "df_x.shape, df_y.shape, df_tgt.shape\n"
      ],
      "execution_count": 15,
      "outputs": [
        {
          "output_type": "execute_result",
          "data": {
            "text/plain": [
              "((714167, 23), (714167,), (617242, 23))"
            ]
          },
          "metadata": {
            "tags": []
          },
          "execution_count": 15
        }
      ]
    },
    {
      "metadata": {
        "id": "o4mDYws28VCk",
        "colab_type": "code",
        "colab": {
          "base_uri": "https://localhost:8080/",
          "height": 68
        },
        "outputId": "59115e8b-bf81-44cd-8277-25f4fcb1ce47"
      },
      "cell_type": "code",
      "source": [
        "%%time\n",
        "\n",
        "from sklearn.metrics import mean_squared_error\n",
        "\n",
        "pred = model.predict(df_x)\n",
        "mse = mean_squared_error(df_y, pred)\n",
        "rmse = np.sqrt(mse)\n",
        "print(rmse)"
      ],
      "execution_count": 17,
      "outputs": [
        {
          "output_type": "stream",
          "text": [
            "1.825505501479145\n",
            "CPU times: user 22.3 s, sys: 67.8 ms, total: 22.4 s\n",
            "Wall time: 11.5 s\n"
          ],
          "name": "stdout"
        }
      ]
    },
    {
      "metadata": {
        "id": "CVxJYyAo8U_O",
        "colab_type": "code",
        "colab": {
          "base_uri": "https://localhost:8080/",
          "height": 51
        },
        "outputId": "97c33e40-7c0c-40e9-bd58-12ecda589ad8"
      },
      "cell_type": "code",
      "source": [
        "%%time\n",
        "pred_tgt = model.predict(df_tgt)\n"
      ],
      "execution_count": 18,
      "outputs": [
        {
          "output_type": "stream",
          "text": [
            "CPU times: user 19.2 s, sys: 63.9 ms, total: 19.2 s\n",
            "Wall time: 9.86 s\n"
          ],
          "name": "stdout"
        }
      ]
    },
    {
      "metadata": {
        "id": "l9meIvhh8U8L",
        "colab_type": "code",
        "colab": {
          "base_uri": "https://localhost:8080/",
          "height": 34
        },
        "outputId": "6a57bd58-e0ca-45ce-bdd3-01c64b88dd11"
      },
      "cell_type": "code",
      "source": [
        "pred_tgt.min(),pred_tgt.max(),len(pred_tgt[pred_tgt>0]) / len(pred_tgt)  "
      ],
      "execution_count": 20,
      "outputs": [
        {
          "output_type": "execute_result",
          "data": {
            "text/plain": [
              "(-17.62574618750795, 123.55485937634258, 0.7848671995748832)"
            ]
          },
          "metadata": {
            "tags": []
          },
          "execution_count": 20
        }
      ]
    },
    {
      "metadata": {
        "id": "2H8GV7bq8U6K",
        "colab_type": "code",
        "colab": {}
      },
      "cell_type": "code",
      "source": [
        "pred_tgt[pred_tgt<0] = 0\n",
        "df_out = pd.DataFrame(index = df_tgt.index)\n",
        "df_out['PredictedLogRevenue'] = pred_tgt\n"
      ],
      "execution_count": 0,
      "outputs": []
    },
    {
      "metadata": {
        "id": "qjuxQSXI8U3v",
        "colab_type": "code",
        "colab": {
          "base_uri": "https://localhost:8080/",
          "height": 233
        },
        "outputId": "39a5b1e8-def9-4d9f-ef07-3ac60f44ecae"
      },
      "cell_type": "code",
      "source": [
        "df_out.head()"
      ],
      "execution_count": 22,
      "outputs": [
        {
          "output_type": "execute_result",
          "data": {
            "text/html": [
              "<div>\n",
              "<style scoped>\n",
              "    .dataframe tbody tr th:only-of-type {\n",
              "        vertical-align: middle;\n",
              "    }\n",
              "\n",
              "    .dataframe tbody tr th {\n",
              "        vertical-align: top;\n",
              "    }\n",
              "\n",
              "    .dataframe thead th {\n",
              "        text-align: right;\n",
              "    }\n",
              "</style>\n",
              "<table border=\"1\" class=\"dataframe\">\n",
              "  <thead>\n",
              "    <tr style=\"text-align: right;\">\n",
              "      <th></th>\n",
              "      <th>PredictedLogRevenue</th>\n",
              "    </tr>\n",
              "    <tr>\n",
              "      <th>fullVisitorId</th>\n",
              "      <th></th>\n",
              "    </tr>\n",
              "  </thead>\n",
              "  <tbody>\n",
              "    <tr>\n",
              "      <th>0000000259678714014</th>\n",
              "      <td>0.501595</td>\n",
              "    </tr>\n",
              "    <tr>\n",
              "      <th>0000049363351866189</th>\n",
              "      <td>0.000000</td>\n",
              "    </tr>\n",
              "    <tr>\n",
              "      <th>0000053049821714864</th>\n",
              "      <td>0.000000</td>\n",
              "    </tr>\n",
              "    <tr>\n",
              "      <th>0000059488412965267</th>\n",
              "      <td>0.000545</td>\n",
              "    </tr>\n",
              "    <tr>\n",
              "      <th>0000085840370633780</th>\n",
              "      <td>0.000239</td>\n",
              "    </tr>\n",
              "  </tbody>\n",
              "</table>\n",
              "</div>"
            ],
            "text/plain": [
              "                     PredictedLogRevenue\n",
              "fullVisitorId                           \n",
              "0000000259678714014             0.501595\n",
              "0000049363351866189             0.000000\n",
              "0000053049821714864             0.000000\n",
              "0000059488412965267             0.000545\n",
              "0000085840370633780             0.000239"
            ]
          },
          "metadata": {
            "tags": []
          },
          "execution_count": 22
        }
      ]
    },
    {
      "metadata": {
        "id": "K584rugV8-pc",
        "colab_type": "code",
        "colab": {
          "base_uri": "https://localhost:8080/",
          "height": 295
        },
        "outputId": "4301ddc5-7acb-4936-d29d-b162728bd1cf"
      },
      "cell_type": "code",
      "source": [
        "df_out.describe()"
      ],
      "execution_count": 23,
      "outputs": [
        {
          "output_type": "execute_result",
          "data": {
            "text/html": [
              "<div>\n",
              "<style scoped>\n",
              "    .dataframe tbody tr th:only-of-type {\n",
              "        vertical-align: middle;\n",
              "    }\n",
              "\n",
              "    .dataframe tbody tr th {\n",
              "        vertical-align: top;\n",
              "    }\n",
              "\n",
              "    .dataframe thead th {\n",
              "        text-align: right;\n",
              "    }\n",
              "</style>\n",
              "<table border=\"1\" class=\"dataframe\">\n",
              "  <thead>\n",
              "    <tr style=\"text-align: right;\">\n",
              "      <th></th>\n",
              "      <th>PredictedLogRevenue</th>\n",
              "    </tr>\n",
              "  </thead>\n",
              "  <tbody>\n",
              "    <tr>\n",
              "      <th>count</th>\n",
              "      <td>617242.000000</td>\n",
              "    </tr>\n",
              "    <tr>\n",
              "      <th>mean</th>\n",
              "      <td>0.195767</td>\n",
              "    </tr>\n",
              "    <tr>\n",
              "      <th>std</th>\n",
              "      <td>1.377942</td>\n",
              "    </tr>\n",
              "    <tr>\n",
              "      <th>min</th>\n",
              "      <td>0.000000</td>\n",
              "    </tr>\n",
              "    <tr>\n",
              "      <th>25%</th>\n",
              "      <td>0.000239</td>\n",
              "    </tr>\n",
              "    <tr>\n",
              "      <th>50%</th>\n",
              "      <td>0.000239</td>\n",
              "    </tr>\n",
              "    <tr>\n",
              "      <th>75%</th>\n",
              "      <td>0.001224</td>\n",
              "    </tr>\n",
              "    <tr>\n",
              "      <th>max</th>\n",
              "      <td>123.554859</td>\n",
              "    </tr>\n",
              "  </tbody>\n",
              "</table>\n",
              "</div>"
            ],
            "text/plain": [
              "       PredictedLogRevenue\n",
              "count        617242.000000\n",
              "mean              0.195767\n",
              "std               1.377942\n",
              "min               0.000000\n",
              "25%               0.000239\n",
              "50%               0.000239\n",
              "75%               0.001224\n",
              "max             123.554859"
            ]
          },
          "metadata": {
            "tags": []
          },
          "execution_count": 23
        }
      ]
    },
    {
      "metadata": {
        "id": "EnMs4GSP8-mc",
        "colab_type": "code",
        "colab": {
          "base_uri": "https://localhost:8080/",
          "height": 51
        },
        "outputId": "5240d02b-607b-4ffa-fb49-95c91a6abb13"
      },
      "cell_type": "code",
      "source": [
        "%%time\n",
        "df_out.to_csv('output_LGB.csv')"
      ],
      "execution_count": 24,
      "outputs": [
        {
          "output_type": "stream",
          "text": [
            "CPU times: user 1.34 s, sys: 29 ms, total: 1.37 s\n",
            "Wall time: 2.08 s\n"
          ],
          "name": "stdout"
        }
      ]
    },
    {
      "metadata": {
        "id": "ohw4cX8ORZcs",
        "colab_type": "code",
        "colab": {}
      },
      "cell_type": "code",
      "source": [
        ""
      ],
      "execution_count": 0,
      "outputs": []
    }
  ]
}