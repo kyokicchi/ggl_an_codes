{
  "nbformat": 4,
  "nbformat_minor": 0,
  "metadata": {
    "colab": {
      "name": "trainLGBmodel.ipynb",
      "version": "0.3.2",
      "provenance": [],
      "collapsed_sections": [],
      "include_colab_link": true
    },
    "kernelspec": {
      "name": "python3",
      "display_name": "Python 3"
    },
    "accelerator": "GPU"
  },
  "cells": [
    {
      "cell_type": "markdown",
      "metadata": {
        "id": "view-in-github",
        "colab_type": "text"
      },
      "source": [
        "<a href=\"https://colab.research.google.com/github/kyokicchi/ggl_an_codes/blob/master/LGBmodel.ipynb\" target=\"_parent\"><img src=\"https://colab.research.google.com/assets/colab-badge.svg\" alt=\"Open In Colab\"/></a>"
      ]
    },
    {
      "metadata": {
        "id": "IAe1xrU__tk3",
        "colab_type": "text"
      },
      "cell_type": "markdown",
      "source": [
        "# initialize & load"
      ]
    },
    {
      "metadata": {
        "id": "H8X_jxlYnrn3",
        "colab_type": "code",
        "outputId": "730773e3-b552-4029-a0f0-d5cc8ea05c6f",
        "colab": {
          "base_uri": "https://localhost:8080/",
          "height": 152
        }
      },
      "cell_type": "code",
      "source": [
        "!pip install lightgbm"
      ],
      "execution_count": 1,
      "outputs": [
        {
          "output_type": "stream",
          "text": [
            "Collecting lightgbm\n",
            "\u001b[?25l  Downloading https://files.pythonhosted.org/packages/78/7e/bc87e7951cfaa998cffaf39e6c721f5bd04efb2e139486206356edb289a5/lightgbm-2.2.1-py2.py3-none-manylinux1_x86_64.whl (1.1MB)\n",
            "\u001b[K    100% |████████████████████████████████| 1.1MB 15.8MB/s \n",
            "\u001b[?25hRequirement already satisfied: numpy in /usr/local/lib/python3.6/dist-packages (from lightgbm) (1.14.6)\n",
            "Requirement already satisfied: scipy in /usr/local/lib/python3.6/dist-packages (from lightgbm) (0.19.1)\n",
            "Requirement already satisfied: scikit-learn in /usr/local/lib/python3.6/dist-packages (from lightgbm) (0.19.2)\n",
            "Installing collected packages: lightgbm\n",
            "Successfully installed lightgbm-2.2.1\n"
          ],
          "name": "stdout"
        }
      ]
    },
    {
      "metadata": {
        "id": "7PrvKZYHs9n0",
        "colab_type": "code",
        "colab": {}
      },
      "cell_type": "code",
      "source": [
        "import lightgbm as lgb\n",
        "\n",
        "from google.colab import drive\n",
        "from google.colab import files\n",
        "\n",
        "import numpy as np\n",
        "import pandas as pd\n",
        "\n",
        "from sklearn.model_selection import train_test_split\n",
        "import pickle"
      ],
      "execution_count": 0,
      "outputs": []
    },
    {
      "metadata": {
        "id": "Uujx3hEhjfnX",
        "colab_type": "code",
        "outputId": "0c0aa020-aec1-4a02-c831-47ca1b51fc8f",
        "colab": {
          "base_uri": "https://localhost:8080/",
          "height": 121
        }
      },
      "cell_type": "code",
      "source": [
        "drive.mount('/content/gdrive')"
      ],
      "execution_count": 3,
      "outputs": [
        {
          "output_type": "stream",
          "text": [
            "Go to this URL in a browser: https://accounts.google.com/o/oauth2/auth?client_id=947318989803-6bn6qk8qdgf4n4g3pfee6491hc0brc4i.apps.googleusercontent.com&redirect_uri=urn%3Aietf%3Awg%3Aoauth%3A2.0%3Aoob&scope=email%20https%3A%2F%2Fwww.googleapis.com%2Fauth%2Fdocs.test%20https%3A%2F%2Fwww.googleapis.com%2Fauth%2Fdrive%20https%3A%2F%2Fwww.googleapis.com%2Fauth%2Fdrive.photos.readonly%20https%3A%2F%2Fwww.googleapis.com%2Fauth%2Fpeopleapi.readonly&response_type=code\n",
            "\n",
            "Enter your authorization code:\n",
            "··········\n",
            "Mounted at /content/gdrive\n"
          ],
          "name": "stdout"
        }
      ]
    },
    {
      "metadata": {
        "id": "LT06pjlMus4d",
        "colab_type": "code",
        "outputId": "ce27289c-ea39-4316-eb49-57d9020cecf7",
        "colab": {
          "base_uri": "https://localhost:8080/",
          "height": 68
        }
      },
      "cell_type": "code",
      "source": [
        "%cd ../content/gdrive/My Drive/projects/ggl_an/\n",
        "%ls"
      ],
      "execution_count": 4,
      "outputs": [
        {
          "output_type": "stream",
          "text": [
            "/content/gdrive/My Drive/projects/ggl_an\n",
            "model_LGB.sav  output_LGB.csv  user_test.csv    user_train.csv\n",
            "model_NN.h5    output_NN.csv   user_test_n.csv  user_train_n.csv\n"
          ],
          "name": "stdout"
        }
      ]
    },
    {
      "metadata": {
        "id": "8mAcQ8lo8Ixk",
        "colab_type": "code",
        "colab": {
          "base_uri": "https://localhost:8080/",
          "height": 51
        },
        "outputId": "cfcd390f-b168-4cd0-8f07-0cf204374b54"
      },
      "cell_type": "code",
      "source": [
        "%%time\n",
        "\n",
        "df_train = pd.read_csv('user_train.csv', index_col = 0, dtype={'fullVisitorId': 'str'})\n",
        "df_test = pd.read_csv('user_test.csv', index_col = 0, dtype={'fullVisitorId': 'str'})\n",
        "\n",
        "df_y = df_train['transactionRevenue']\n",
        "df_x = df_train.drop(['transactionRevenue'], axis=1)\n",
        "df_tgt = df_test.drop(['transactionRevenue'], axis=1)\n",
        "\n",
        "filename = 'model_LGB.sav'\n",
        "model = pickle.load(open(filename, 'rb'))"
      ],
      "execution_count": 5,
      "outputs": [
        {
          "output_type": "stream",
          "text": [
            "CPU times: user 4.69 s, sys: 641 ms, total: 5.33 s\n",
            "Wall time: 8.88 s\n"
          ],
          "name": "stdout"
        }
      ]
    },
    {
      "metadata": {
        "id": "6oNx0QIG81nE",
        "colab_type": "code",
        "outputId": "5b10e83d-0ac1-4645-e024-00bf207a47e8",
        "colab": {
          "base_uri": "https://localhost:8080/",
          "height": 34
        }
      },
      "cell_type": "code",
      "source": [
        "df_x.shape, df_y.shape, df_tgt.shape"
      ],
      "execution_count": 6,
      "outputs": [
        {
          "output_type": "execute_result",
          "data": {
            "text/plain": [
              "((714167, 23), (714167,), (617242, 23))"
            ]
          },
          "metadata": {
            "tags": []
          },
          "execution_count": 6
        }
      ]
    },
    {
      "metadata": {
        "id": "sYWeiNW0j9cr",
        "colab_type": "code",
        "outputId": "34b64d76-f1dd-416c-e522-6fa82b31224f",
        "colab": {
          "base_uri": "https://localhost:8080/",
          "height": 51
        }
      },
      "cell_type": "code",
      "source": [
        "%%time\n",
        "x_train, x_test, y_train, y_test = train_test_split(df_x, df_y)"
      ],
      "execution_count": 7,
      "outputs": [
        {
          "output_type": "stream",
          "text": [
            "CPU times: user 461 ms, sys: 7.13 ms, total: 468 ms\n",
            "Wall time: 468 ms\n"
          ],
          "name": "stdout"
        }
      ]
    },
    {
      "metadata": {
        "id": "-I9DFbOsJBPm",
        "colab_type": "code",
        "colab": {
          "base_uri": "https://localhost:8080/",
          "height": 34
        },
        "outputId": "4a01b83e-8f3d-4622-dd50-b0f5369f4dfb"
      },
      "cell_type": "code",
      "source": [
        "x_train.shape, y_train.shape, x_test.shape,  y_test.shape "
      ],
      "execution_count": 8,
      "outputs": [
        {
          "output_type": "execute_result",
          "data": {
            "text/plain": [
              "((535625, 23), (535625,), (178542, 23), (178542,))"
            ]
          },
          "metadata": {
            "tags": []
          },
          "execution_count": 8
        }
      ]
    },
    {
      "metadata": {
        "id": "TGrVT1Le4e7M",
        "colab_type": "code",
        "colab": {}
      },
      "cell_type": "code",
      "source": [
        "from sklearn.model_selection import GridSearchCV\n",
        "\n",
        "def applyGSCV(model, param, X, Y, N):\n",
        "    res = GridSearchCV(model, param, cv=N)\n",
        "    res.fit(X, Y)\n",
        "    return res"
      ],
      "execution_count": 0,
      "outputs": []
    },
    {
      "metadata": {
        "id": "Z8oIeaT9JVE-",
        "colab_type": "code",
        "colab": {}
      },
      "cell_type": "code",
      "source": [
        "model = lgb.LGBMRegressor()\n",
        "\n",
        "param = dict(\n",
        "#    colsample_bytree=0.8,\n",
        "    learning_rate = [0.05],\n",
        "    max_depth = [10], \n",
        "#    min_child_samples=20,\n",
        "    n_estimators=[100],\n",
        "    num_leaves = [50],\n",
        "    reg_alpha = [0.2],\n",
        "    reg_lambda = [0.0]\n",
        ")"
      ],
      "execution_count": 0,
      "outputs": []
    },
    {
      "metadata": {
        "id": "lyCSOn5jJRhn",
        "colab_type": "code",
        "colab": {
          "base_uri": "https://localhost:8080/",
          "height": 51
        },
        "outputId": "2662d128-f65d-4a7c-ed50-df2f01461ac0"
      },
      "cell_type": "code",
      "source": [
        "%%time\n",
        "\n",
        "model_LGB = applyGSCV(model, param, x_train, y_train, 3)"
      ],
      "execution_count": 57,
      "outputs": [
        {
          "output_type": "stream",
          "text": [
            "CPU times: user 1min 43s, sys: 650 ms, total: 1min 44s\n",
            "Wall time: 55.2 s\n"
          ],
          "name": "stdout"
        }
      ]
    },
    {
      "metadata": {
        "id": "5LGbglpv5_80",
        "colab_type": "code",
        "outputId": "12e72c38-cdf6-46f1-b333-7f00e357fb97",
        "colab": {
          "base_uri": "https://localhost:8080/",
          "height": 135
        }
      },
      "cell_type": "code",
      "source": [
        "print(model_LGB.best_score_)\n",
        "print(model_LGB.best_estimator_)"
      ],
      "execution_count": 58,
      "outputs": [
        {
          "output_type": "stream",
          "text": [
            "0.41486557372198285\n",
            "LGBMRegressor(boosting_type='gbdt', class_weight=None, colsample_bytree=1.0,\n",
            "       importance_type='split', learning_rate=0.05, max_depth=10,\n",
            "       min_child_samples=20, min_child_weight=0.001, min_split_gain=0.0,\n",
            "       n_estimators=100, n_jobs=-1, num_leaves=50, objective=None,\n",
            "       random_state=None, reg_alpha=0.2, reg_lambda=0.0, silent=True,\n",
            "       subsample=1.0, subsample_for_bin=200000, subsample_freq=0)\n"
          ],
          "name": "stdout"
        }
      ]
    },
    {
      "metadata": {
        "id": "8jkTgZ_oRnS-",
        "colab_type": "text"
      },
      "cell_type": "markdown",
      "source": [
        "https://lightgbm.readthedocs.io/en/latest/_modules/lightgbm/sklearn.html"
      ]
    },
    {
      "metadata": {
        "id": "ItMWaVwslMJi",
        "colab_type": "code",
        "outputId": "ff55cc15-4777-49b7-c0ad-290280bf893a",
        "colab": {
          "base_uri": "https://localhost:8080/",
          "height": 5906
        }
      },
      "cell_type": "code",
      "source": [
        "%%time\n",
        "\n",
        "model = lgb.LGBMRegressor(colsample_bytree=0.8,learning_rate=0.01,max_depth = -1, objective = 'regression',\n",
        "       min_child_samples=20,n_estimators=500,num_leaves=100,\n",
        "       reg_alpha=0.4, reg_lambda=0.4)\n",
        "\n",
        "model.fit(x_train, y_train,\n",
        "          eval_set=[(x_train, y_train),(x_test, y_test)],\n",
        "          eval_metric='rmse', early_stopping_rounds = 100)"
      ],
      "execution_count": 65,
      "outputs": [
        {
          "output_type": "stream",
          "text": [
            "[1]\ttraining's l2: 8.57621\ttraining's rmse: 2.92852\tvalid_1's l2: 7.48858\tvalid_1's rmse: 2.73653\n",
            "Training until validation scores don't improve for 100 rounds.\n",
            "[2]\ttraining's l2: 8.50439\ttraining's rmse: 2.91623\tvalid_1's l2: 7.42071\tvalid_1's rmse: 2.7241\n",
            "[3]\ttraining's l2: 8.43682\ttraining's rmse: 2.90462\tvalid_1's l2: 7.35804\tvalid_1's rmse: 2.71257\n",
            "[4]\ttraining's l2: 8.37014\ttraining's rmse: 2.89312\tvalid_1's l2: 7.2977\tvalid_1's rmse: 2.70143\n",
            "[5]\ttraining's l2: 8.30475\ttraining's rmse: 2.8818\tvalid_1's l2: 7.23828\tvalid_1's rmse: 2.69041\n",
            "[6]\ttraining's l2: 8.23737\ttraining's rmse: 2.87008\tvalid_1's l2: 7.17753\tvalid_1's rmse: 2.67909\n",
            "[7]\ttraining's l2: 8.17167\ttraining's rmse: 2.85861\tvalid_1's l2: 7.11714\tvalid_1's rmse: 2.6678\n",
            "[8]\ttraining's l2: 8.10698\ttraining's rmse: 2.84728\tvalid_1's l2: 7.05739\tvalid_1's rmse: 2.65657\n",
            "[9]\ttraining's l2: 8.04448\ttraining's rmse: 2.83628\tvalid_1's l2: 7.00008\tvalid_1's rmse: 2.64577\n",
            "[10]\ttraining's l2: 7.98221\ttraining's rmse: 2.82528\tvalid_1's l2: 6.94379\tvalid_1's rmse: 2.63511\n",
            "[11]\ttraining's l2: 7.9212\ttraining's rmse: 2.81446\tvalid_1's l2: 6.88749\tvalid_1's rmse: 2.6244\n",
            "[12]\ttraining's l2: 7.86179\ttraining's rmse: 2.80389\tvalid_1's l2: 6.83278\tvalid_1's rmse: 2.61396\n",
            "[13]\ttraining's l2: 7.80289\ttraining's rmse: 2.79337\tvalid_1's l2: 6.77923\tvalid_1's rmse: 2.6037\n",
            "[14]\ttraining's l2: 7.74536\ttraining's rmse: 2.78305\tvalid_1's l2: 6.72735\tvalid_1's rmse: 2.59371\n",
            "[15]\ttraining's l2: 7.68848\ttraining's rmse: 2.77281\tvalid_1's l2: 6.67622\tvalid_1's rmse: 2.58384\n",
            "[16]\ttraining's l2: 7.63275\ttraining's rmse: 2.76274\tvalid_1's l2: 6.62599\tvalid_1's rmse: 2.5741\n",
            "[17]\ttraining's l2: 7.57903\ttraining's rmse: 2.753\tvalid_1's l2: 6.57716\tvalid_1's rmse: 2.5646\n",
            "[18]\ttraining's l2: 7.52794\ttraining's rmse: 2.74371\tvalid_1's l2: 6.53351\tvalid_1's rmse: 2.55607\n",
            "[19]\ttraining's l2: 7.47486\ttraining's rmse: 2.73402\tvalid_1's l2: 6.48659\tvalid_1's rmse: 2.54688\n",
            "[20]\ttraining's l2: 7.42316\ttraining's rmse: 2.72455\tvalid_1's l2: 6.44167\tvalid_1's rmse: 2.53804\n",
            "[21]\ttraining's l2: 7.37259\ttraining's rmse: 2.71525\tvalid_1's l2: 6.39634\tvalid_1's rmse: 2.5291\n",
            "[22]\ttraining's l2: 7.32229\ttraining's rmse: 2.70597\tvalid_1's l2: 6.35379\tvalid_1's rmse: 2.52067\n",
            "[23]\ttraining's l2: 7.27335\ttraining's rmse: 2.69692\tvalid_1's l2: 6.31049\tvalid_1's rmse: 2.51207\n",
            "[24]\ttraining's l2: 7.22519\ttraining's rmse: 2.68797\tvalid_1's l2: 6.26796\tvalid_1's rmse: 2.50359\n",
            "[25]\ttraining's l2: 7.1803\ttraining's rmse: 2.67961\tvalid_1's l2: 6.23003\tvalid_1's rmse: 2.496\n",
            "[26]\ttraining's l2: 7.13623\ttraining's rmse: 2.67137\tvalid_1's l2: 6.19206\tvalid_1's rmse: 2.48838\n",
            "[27]\ttraining's l2: 7.09074\ttraining's rmse: 2.66284\tvalid_1's l2: 6.15194\tvalid_1's rmse: 2.48031\n",
            "[28]\ttraining's l2: 7.04567\ttraining's rmse: 2.65437\tvalid_1's l2: 6.11394\tvalid_1's rmse: 2.47264\n",
            "[29]\ttraining's l2: 7.00157\ttraining's rmse: 2.64605\tvalid_1's l2: 6.07594\tvalid_1's rmse: 2.46494\n",
            "[30]\ttraining's l2: 6.95841\ttraining's rmse: 2.63788\tvalid_1's l2: 6.03799\tvalid_1's rmse: 2.45723\n",
            "[31]\ttraining's l2: 6.91595\ttraining's rmse: 2.62982\tvalid_1's l2: 6.00092\tvalid_1's rmse: 2.44968\n",
            "[32]\ttraining's l2: 6.87604\ttraining's rmse: 2.62222\tvalid_1's l2: 5.96629\tvalid_1's rmse: 2.4426\n",
            "[33]\ttraining's l2: 6.83514\ttraining's rmse: 2.61441\tvalid_1's l2: 5.93054\tvalid_1's rmse: 2.43527\n",
            "[34]\ttraining's l2: 6.79458\ttraining's rmse: 2.60664\tvalid_1's l2: 5.89714\tvalid_1's rmse: 2.4284\n",
            "[35]\ttraining's l2: 6.75525\ttraining's rmse: 2.59909\tvalid_1's l2: 5.86407\tvalid_1's rmse: 2.42158\n",
            "[36]\ttraining's l2: 6.71599\ttraining's rmse: 2.59152\tvalid_1's l2: 5.8319\tvalid_1's rmse: 2.41493\n",
            "[37]\ttraining's l2: 6.67954\ttraining's rmse: 2.58448\tvalid_1's l2: 5.80181\tvalid_1's rmse: 2.4087\n",
            "[38]\ttraining's l2: 6.64196\ttraining's rmse: 2.5772\tvalid_1's l2: 5.76992\tvalid_1's rmse: 2.40207\n",
            "[39]\ttraining's l2: 6.60531\ttraining's rmse: 2.57008\tvalid_1's l2: 5.73867\tvalid_1's rmse: 2.39555\n",
            "[40]\ttraining's l2: 6.57124\ttraining's rmse: 2.56344\tvalid_1's l2: 5.71155\tvalid_1's rmse: 2.38988\n",
            "[41]\ttraining's l2: 6.53575\ttraining's rmse: 2.55651\tvalid_1's l2: 5.682\tvalid_1's rmse: 2.38369\n",
            "[42]\ttraining's l2: 6.5027\ttraining's rmse: 2.55004\tvalid_1's l2: 5.65527\tvalid_1's rmse: 2.37808\n",
            "[43]\ttraining's l2: 6.46822\ttraining's rmse: 2.54327\tvalid_1's l2: 5.6262\tvalid_1's rmse: 2.37196\n",
            "[44]\ttraining's l2: 6.43446\ttraining's rmse: 2.53662\tvalid_1's l2: 5.59868\tvalid_1's rmse: 2.36615\n",
            "[45]\ttraining's l2: 6.40236\ttraining's rmse: 2.53029\tvalid_1's l2: 5.57161\tvalid_1's rmse: 2.36043\n",
            "[46]\ttraining's l2: 6.36985\ttraining's rmse: 2.52386\tvalid_1's l2: 5.54525\tvalid_1's rmse: 2.35483\n",
            "[47]\ttraining's l2: 6.33784\ttraining's rmse: 2.51751\tvalid_1's l2: 5.51901\tvalid_1's rmse: 2.34926\n",
            "[48]\ttraining's l2: 6.30651\ttraining's rmse: 2.51128\tvalid_1's l2: 5.49337\tvalid_1's rmse: 2.34379\n",
            "[49]\ttraining's l2: 6.27716\ttraining's rmse: 2.50543\tvalid_1's l2: 5.47149\tvalid_1's rmse: 2.33912\n",
            "[50]\ttraining's l2: 6.24694\ttraining's rmse: 2.49939\tvalid_1's l2: 5.44666\tvalid_1's rmse: 2.33381\n",
            "[51]\ttraining's l2: 6.2177\ttraining's rmse: 2.49353\tvalid_1's l2: 5.42299\tvalid_1's rmse: 2.32873\n",
            "[52]\ttraining's l2: 6.18782\ttraining's rmse: 2.48753\tvalid_1's l2: 5.40016\tvalid_1's rmse: 2.32382\n",
            "[53]\ttraining's l2: 6.15889\ttraining's rmse: 2.48171\tvalid_1's l2: 5.37764\tvalid_1's rmse: 2.31897\n",
            "[54]\ttraining's l2: 6.13171\ttraining's rmse: 2.47623\tvalid_1's l2: 5.35607\tvalid_1's rmse: 2.31432\n",
            "[55]\ttraining's l2: 6.10333\ttraining's rmse: 2.47049\tvalid_1's l2: 5.3348\tvalid_1's rmse: 2.30972\n",
            "[56]\ttraining's l2: 6.07812\ttraining's rmse: 2.46538\tvalid_1's l2: 5.3162\tvalid_1's rmse: 2.30569\n",
            "[57]\ttraining's l2: 6.05053\ttraining's rmse: 2.45978\tvalid_1's l2: 5.29582\tvalid_1's rmse: 2.30127\n",
            "[58]\ttraining's l2: 6.02372\ttraining's rmse: 2.45433\tvalid_1's l2: 5.27612\tvalid_1's rmse: 2.29698\n",
            "[59]\ttraining's l2: 5.99817\ttraining's rmse: 2.44912\tvalid_1's l2: 5.25602\tvalid_1's rmse: 2.2926\n",
            "[60]\ttraining's l2: 5.97219\ttraining's rmse: 2.44381\tvalid_1's l2: 5.23595\tvalid_1's rmse: 2.28822\n",
            "[61]\ttraining's l2: 5.94658\ttraining's rmse: 2.43856\tvalid_1's l2: 5.21784\tvalid_1's rmse: 2.28426\n",
            "[62]\ttraining's l2: 5.92157\ttraining's rmse: 2.43343\tvalid_1's l2: 5.1986\tvalid_1's rmse: 2.28004\n",
            "[63]\ttraining's l2: 5.89808\ttraining's rmse: 2.4286\tvalid_1's l2: 5.18199\tvalid_1's rmse: 2.2764\n",
            "[64]\ttraining's l2: 5.87405\ttraining's rmse: 2.42364\tvalid_1's l2: 5.16574\tvalid_1's rmse: 2.27283\n",
            "[65]\ttraining's l2: 5.8515\ttraining's rmse: 2.41899\tvalid_1's l2: 5.14928\tvalid_1's rmse: 2.2692\n",
            "[66]\ttraining's l2: 5.82812\ttraining's rmse: 2.41415\tvalid_1's l2: 5.13318\tvalid_1's rmse: 2.26565\n",
            "[67]\ttraining's l2: 5.80548\ttraining's rmse: 2.40946\tvalid_1's l2: 5.11473\tvalid_1's rmse: 2.26158\n",
            "[68]\ttraining's l2: 5.7831\ttraining's rmse: 2.40481\tvalid_1's l2: 5.09837\tvalid_1's rmse: 2.25796\n",
            "[69]\ttraining's l2: 5.76069\ttraining's rmse: 2.40014\tvalid_1's l2: 5.08227\tvalid_1's rmse: 2.25439\n",
            "[70]\ttraining's l2: 5.73869\ttraining's rmse: 2.39556\tvalid_1's l2: 5.06579\tvalid_1's rmse: 2.25073\n",
            "[71]\ttraining's l2: 5.71791\ttraining's rmse: 2.39121\tvalid_1's l2: 5.05031\tvalid_1's rmse: 2.24729\n",
            "[72]\ttraining's l2: 5.69657\ttraining's rmse: 2.38675\tvalid_1's l2: 5.03533\tvalid_1's rmse: 2.24395\n",
            "[73]\ttraining's l2: 5.67607\ttraining's rmse: 2.38245\tvalid_1's l2: 5.02082\tvalid_1's rmse: 2.24072\n",
            "[74]\ttraining's l2: 5.65651\ttraining's rmse: 2.37834\tvalid_1's l2: 5.0062\tvalid_1's rmse: 2.23745\n",
            "[75]\ttraining's l2: 5.63746\ttraining's rmse: 2.37433\tvalid_1's l2: 4.99327\tvalid_1's rmse: 2.23456\n",
            "[76]\ttraining's l2: 5.61725\ttraining's rmse: 2.37007\tvalid_1's l2: 4.97969\tvalid_1's rmse: 2.23152\n",
            "[77]\ttraining's l2: 5.5977\ttraining's rmse: 2.36595\tvalid_1's l2: 4.96514\tvalid_1's rmse: 2.22826\n",
            "[78]\ttraining's l2: 5.57965\ttraining's rmse: 2.36213\tvalid_1's l2: 4.95221\tvalid_1's rmse: 2.22536\n",
            "[79]\ttraining's l2: 5.56012\ttraining's rmse: 2.35799\tvalid_1's l2: 4.93884\tvalid_1's rmse: 2.22235\n",
            "[80]\ttraining's l2: 5.54237\ttraining's rmse: 2.35422\tvalid_1's l2: 4.92559\tvalid_1's rmse: 2.21937\n",
            "[81]\ttraining's l2: 5.52369\ttraining's rmse: 2.35025\tvalid_1's l2: 4.91263\tvalid_1's rmse: 2.21644\n",
            "[82]\ttraining's l2: 5.50566\ttraining's rmse: 2.34641\tvalid_1's l2: 4.89953\tvalid_1's rmse: 2.21349\n",
            "[83]\ttraining's l2: 5.48724\ttraining's rmse: 2.34248\tvalid_1's l2: 4.88718\tvalid_1's rmse: 2.2107\n",
            "[84]\ttraining's l2: 5.46978\ttraining's rmse: 2.33876\tvalid_1's l2: 4.87462\tvalid_1's rmse: 2.20786\n",
            "[85]\ttraining's l2: 5.4527\ttraining's rmse: 2.3351\tvalid_1's l2: 4.86305\tvalid_1's rmse: 2.20523\n",
            "[86]\ttraining's l2: 5.43562\ttraining's rmse: 2.33144\tvalid_1's l2: 4.85133\tvalid_1's rmse: 2.20257\n",
            "[87]\ttraining's l2: 5.42004\ttraining's rmse: 2.3281\tvalid_1's l2: 4.83953\tvalid_1's rmse: 2.19989\n",
            "[88]\ttraining's l2: 5.4036\ttraining's rmse: 2.32456\tvalid_1's l2: 4.82843\tvalid_1's rmse: 2.19737\n",
            "[89]\ttraining's l2: 5.3878\ttraining's rmse: 2.32116\tvalid_1's l2: 4.81786\tvalid_1's rmse: 2.19496\n",
            "[90]\ttraining's l2: 5.37241\ttraining's rmse: 2.31785\tvalid_1's l2: 4.80675\tvalid_1's rmse: 2.19243\n",
            "[91]\ttraining's l2: 5.35634\ttraining's rmse: 2.31438\tvalid_1's l2: 4.79575\tvalid_1's rmse: 2.18992\n",
            "[92]\ttraining's l2: 5.34144\ttraining's rmse: 2.31116\tvalid_1's l2: 4.78516\tvalid_1's rmse: 2.1875\n",
            "[93]\ttraining's l2: 5.326\ttraining's rmse: 2.30781\tvalid_1's l2: 4.77528\tvalid_1's rmse: 2.18524\n",
            "[94]\ttraining's l2: 5.3115\ttraining's rmse: 2.30467\tvalid_1's l2: 4.76593\tvalid_1's rmse: 2.1831\n",
            "[95]\ttraining's l2: 5.29641\ttraining's rmse: 2.30139\tvalid_1's l2: 4.75681\tvalid_1's rmse: 2.18101\n",
            "[96]\ttraining's l2: 5.28196\ttraining's rmse: 2.29825\tvalid_1's l2: 4.7467\tvalid_1's rmse: 2.17869\n",
            "[97]\ttraining's l2: 5.26747\ttraining's rmse: 2.2951\tvalid_1's l2: 4.73818\tvalid_1's rmse: 2.17674\n",
            "[98]\ttraining's l2: 5.25372\ttraining's rmse: 2.2921\tvalid_1's l2: 4.72847\tvalid_1's rmse: 2.17451\n",
            "[99]\ttraining's l2: 5.23951\ttraining's rmse: 2.289\tvalid_1's l2: 4.71992\tvalid_1's rmse: 2.17254\n",
            "[100]\ttraining's l2: 5.22618\ttraining's rmse: 2.28608\tvalid_1's l2: 4.71185\tvalid_1's rmse: 2.17068\n",
            "[101]\ttraining's l2: 5.21272\ttraining's rmse: 2.28314\tvalid_1's l2: 4.70396\tvalid_1's rmse: 2.16886\n",
            "[102]\ttraining's l2: 5.19942\ttraining's rmse: 2.28022\tvalid_1's l2: 4.6959\tvalid_1's rmse: 2.167\n",
            "[103]\ttraining's l2: 5.18624\ttraining's rmse: 2.27733\tvalid_1's l2: 4.68732\tvalid_1's rmse: 2.16502\n",
            "[104]\ttraining's l2: 5.17312\ttraining's rmse: 2.27445\tvalid_1's l2: 4.67965\tvalid_1's rmse: 2.16325\n",
            "[105]\ttraining's l2: 5.16089\ttraining's rmse: 2.27176\tvalid_1's l2: 4.67237\tvalid_1's rmse: 2.16157\n",
            "[106]\ttraining's l2: 5.14817\ttraining's rmse: 2.26896\tvalid_1's l2: 4.66478\tvalid_1's rmse: 2.15981\n",
            "[107]\ttraining's l2: 5.13575\ttraining's rmse: 2.26622\tvalid_1's l2: 4.65766\tvalid_1's rmse: 2.15816\n",
            "[108]\ttraining's l2: 5.12338\ttraining's rmse: 2.26349\tvalid_1's l2: 4.64965\tvalid_1's rmse: 2.1563\n",
            "[109]\ttraining's l2: 5.11142\ttraining's rmse: 2.26085\tvalid_1's l2: 4.64237\tvalid_1's rmse: 2.15462\n",
            "[110]\ttraining's l2: 5.0993\ttraining's rmse: 2.25816\tvalid_1's l2: 4.63553\tvalid_1's rmse: 2.15303\n",
            "[111]\ttraining's l2: 5.08751\ttraining's rmse: 2.25555\tvalid_1's l2: 4.62916\tvalid_1's rmse: 2.15155\n",
            "[112]\ttraining's l2: 5.0764\ttraining's rmse: 2.25309\tvalid_1's l2: 4.62365\tvalid_1's rmse: 2.15027\n",
            "[113]\ttraining's l2: 5.06557\ttraining's rmse: 2.25068\tvalid_1's l2: 4.61826\tvalid_1's rmse: 2.14901\n",
            "[114]\ttraining's l2: 5.05397\ttraining's rmse: 2.2481\tvalid_1's l2: 4.61152\tvalid_1's rmse: 2.14745\n",
            "[115]\ttraining's l2: 5.04334\ttraining's rmse: 2.24574\tvalid_1's l2: 4.60558\tvalid_1's rmse: 2.14606\n",
            "[116]\ttraining's l2: 5.03222\ttraining's rmse: 2.24326\tvalid_1's l2: 4.5996\tvalid_1's rmse: 2.14467\n",
            "[117]\ttraining's l2: 5.0211\ttraining's rmse: 2.24078\tvalid_1's l2: 4.59355\tvalid_1's rmse: 2.14326\n",
            "[118]\ttraining's l2: 5.00997\ttraining's rmse: 2.2383\tvalid_1's l2: 4.58689\tvalid_1's rmse: 2.1417\n",
            "[119]\ttraining's l2: 4.99976\ttraining's rmse: 2.23601\tvalid_1's l2: 4.58146\tvalid_1's rmse: 2.14043\n",
            "[120]\ttraining's l2: 4.989\ttraining's rmse: 2.23361\tvalid_1's l2: 4.57596\tvalid_1's rmse: 2.13915\n",
            "[121]\ttraining's l2: 4.97887\ttraining's rmse: 2.23134\tvalid_1's l2: 4.57101\tvalid_1's rmse: 2.13799\n",
            "[122]\ttraining's l2: 4.96885\ttraining's rmse: 2.22909\tvalid_1's l2: 4.56612\tvalid_1's rmse: 2.13685\n",
            "[123]\ttraining's l2: 4.95879\ttraining's rmse: 2.22683\tvalid_1's l2: 4.56151\tvalid_1's rmse: 2.13577\n",
            "[124]\ttraining's l2: 4.94905\ttraining's rmse: 2.22465\tvalid_1's l2: 4.55649\tvalid_1's rmse: 2.13459\n",
            "[125]\ttraining's l2: 4.93937\ttraining's rmse: 2.22247\tvalid_1's l2: 4.55182\tvalid_1's rmse: 2.1335\n",
            "[126]\ttraining's l2: 4.92968\ttraining's rmse: 2.22029\tvalid_1's l2: 4.54793\tvalid_1's rmse: 2.13259\n",
            "[127]\ttraining's l2: 4.92019\ttraining's rmse: 2.21815\tvalid_1's l2: 4.54358\tvalid_1's rmse: 2.13157\n",
            "[128]\ttraining's l2: 4.91068\ttraining's rmse: 2.216\tvalid_1's l2: 4.5386\tvalid_1's rmse: 2.1304\n",
            "[129]\ttraining's l2: 4.90152\ttraining's rmse: 2.21394\tvalid_1's l2: 4.5342\tvalid_1's rmse: 2.12937\n",
            "[130]\ttraining's l2: 4.89224\ttraining's rmse: 2.21184\tvalid_1's l2: 4.52992\tvalid_1's rmse: 2.12836\n",
            "[131]\ttraining's l2: 4.88306\ttraining's rmse: 2.20977\tvalid_1's l2: 4.52521\tvalid_1's rmse: 2.12725\n",
            "[132]\ttraining's l2: 4.8746\ttraining's rmse: 2.20785\tvalid_1's l2: 4.52127\tvalid_1's rmse: 2.12633\n",
            "[133]\ttraining's l2: 4.866\ttraining's rmse: 2.2059\tvalid_1's l2: 4.51812\tvalid_1's rmse: 2.12559\n",
            "[134]\ttraining's l2: 4.85762\ttraining's rmse: 2.204\tvalid_1's l2: 4.51481\tvalid_1's rmse: 2.12481\n",
            "[135]\ttraining's l2: 4.8489\ttraining's rmse: 2.20202\tvalid_1's l2: 4.51154\tvalid_1's rmse: 2.12404\n",
            "[136]\ttraining's l2: 4.84057\ttraining's rmse: 2.20013\tvalid_1's l2: 4.5073\tvalid_1's rmse: 2.12304\n",
            "[137]\ttraining's l2: 4.83238\ttraining's rmse: 2.19827\tvalid_1's l2: 4.50355\tvalid_1's rmse: 2.12216\n",
            "[138]\ttraining's l2: 4.82483\ttraining's rmse: 2.19655\tvalid_1's l2: 4.50068\tvalid_1's rmse: 2.12148\n",
            "[139]\ttraining's l2: 4.81653\ttraining's rmse: 2.19466\tvalid_1's l2: 4.49714\tvalid_1's rmse: 2.12065\n",
            "[140]\ttraining's l2: 4.8086\ttraining's rmse: 2.19285\tvalid_1's l2: 4.49421\tvalid_1's rmse: 2.11996\n",
            "[141]\ttraining's l2: 4.80047\ttraining's rmse: 2.191\tvalid_1's l2: 4.49111\tvalid_1's rmse: 2.11922\n",
            "[142]\ttraining's l2: 4.7925\ttraining's rmse: 2.18918\tvalid_1's l2: 4.48728\tvalid_1's rmse: 2.11832\n",
            "[143]\ttraining's l2: 4.78505\ttraining's rmse: 2.18748\tvalid_1's l2: 4.48517\tvalid_1's rmse: 2.11782\n",
            "[144]\ttraining's l2: 4.77747\ttraining's rmse: 2.18574\tvalid_1's l2: 4.48253\tvalid_1's rmse: 2.1172\n",
            "[145]\ttraining's l2: 4.77017\ttraining's rmse: 2.18407\tvalid_1's l2: 4.48061\tvalid_1's rmse: 2.11675\n",
            "[146]\ttraining's l2: 4.76243\ttraining's rmse: 2.1823\tvalid_1's l2: 4.47673\tvalid_1's rmse: 2.11583\n",
            "[147]\ttraining's l2: 4.75495\ttraining's rmse: 2.18059\tvalid_1's l2: 4.47393\tvalid_1's rmse: 2.11517\n",
            "[148]\ttraining's l2: 4.74802\ttraining's rmse: 2.179\tvalid_1's l2: 4.47077\tvalid_1's rmse: 2.11442\n",
            "[149]\ttraining's l2: 4.74108\ttraining's rmse: 2.1774\tvalid_1's l2: 4.4685\tvalid_1's rmse: 2.11388\n",
            "[150]\ttraining's l2: 4.73377\ttraining's rmse: 2.17572\tvalid_1's l2: 4.46511\tvalid_1's rmse: 2.11308\n",
            "[151]\ttraining's l2: 4.72696\ttraining's rmse: 2.17416\tvalid_1's l2: 4.46346\tvalid_1's rmse: 2.11269\n",
            "[152]\ttraining's l2: 4.71992\ttraining's rmse: 2.17254\tvalid_1's l2: 4.46086\tvalid_1's rmse: 2.11208\n",
            "[153]\ttraining's l2: 4.71313\ttraining's rmse: 2.17098\tvalid_1's l2: 4.4591\tvalid_1's rmse: 2.11166\n",
            "[154]\ttraining's l2: 4.70677\ttraining's rmse: 2.16951\tvalid_1's l2: 4.45782\tvalid_1's rmse: 2.11136\n",
            "[155]\ttraining's l2: 4.69974\ttraining's rmse: 2.16789\tvalid_1's l2: 4.45481\tvalid_1's rmse: 2.11064\n",
            "[156]\ttraining's l2: 4.69318\ttraining's rmse: 2.16637\tvalid_1's l2: 4.45238\tvalid_1's rmse: 2.11007\n",
            "[157]\ttraining's l2: 4.68686\ttraining's rmse: 2.16492\tvalid_1's l2: 4.44966\tvalid_1's rmse: 2.10942\n",
            "[158]\ttraining's l2: 4.68027\ttraining's rmse: 2.16339\tvalid_1's l2: 4.44694\tvalid_1's rmse: 2.10878\n",
            "[159]\ttraining's l2: 4.6738\ttraining's rmse: 2.1619\tvalid_1's l2: 4.44548\tvalid_1's rmse: 2.10843\n",
            "[160]\ttraining's l2: 4.66741\ttraining's rmse: 2.16042\tvalid_1's l2: 4.44331\tvalid_1's rmse: 2.10792\n",
            "[161]\ttraining's l2: 4.66108\ttraining's rmse: 2.15895\tvalid_1's l2: 4.44098\tvalid_1's rmse: 2.10736\n",
            "[162]\ttraining's l2: 4.65489\ttraining's rmse: 2.15752\tvalid_1's l2: 4.43918\tvalid_1's rmse: 2.10694\n",
            "[163]\ttraining's l2: 4.64863\ttraining's rmse: 2.15607\tvalid_1's l2: 4.43713\tvalid_1's rmse: 2.10645\n",
            "[164]\ttraining's l2: 4.64242\ttraining's rmse: 2.15463\tvalid_1's l2: 4.43488\tvalid_1's rmse: 2.10591\n",
            "[165]\ttraining's l2: 4.63639\ttraining's rmse: 2.15323\tvalid_1's l2: 4.43309\tvalid_1's rmse: 2.10549\n",
            "[166]\ttraining's l2: 4.63041\ttraining's rmse: 2.15184\tvalid_1's l2: 4.4309\tvalid_1's rmse: 2.10497\n",
            "[167]\ttraining's l2: 4.62457\ttraining's rmse: 2.15048\tvalid_1's l2: 4.42938\tvalid_1's rmse: 2.10461\n",
            "[168]\ttraining's l2: 4.61863\ttraining's rmse: 2.1491\tvalid_1's l2: 4.42718\tvalid_1's rmse: 2.10409\n",
            "[169]\ttraining's l2: 4.61296\ttraining's rmse: 2.14778\tvalid_1's l2: 4.42542\tvalid_1's rmse: 2.10367\n",
            "[170]\ttraining's l2: 4.60727\ttraining's rmse: 2.14645\tvalid_1's l2: 4.42378\tvalid_1's rmse: 2.10328\n",
            "[171]\ttraining's l2: 4.60193\ttraining's rmse: 2.14521\tvalid_1's l2: 4.42217\tvalid_1's rmse: 2.1029\n",
            "[172]\ttraining's l2: 4.59623\ttraining's rmse: 2.14388\tvalid_1's l2: 4.42068\tvalid_1's rmse: 2.10254\n",
            "[173]\ttraining's l2: 4.5911\ttraining's rmse: 2.14268\tvalid_1's l2: 4.41927\tvalid_1's rmse: 2.10221\n",
            "[174]\ttraining's l2: 4.58583\ttraining's rmse: 2.14145\tvalid_1's l2: 4.41772\tvalid_1's rmse: 2.10184\n",
            "[175]\ttraining's l2: 4.58023\ttraining's rmse: 2.14015\tvalid_1's l2: 4.41613\tvalid_1's rmse: 2.10146\n",
            "[176]\ttraining's l2: 4.57472\ttraining's rmse: 2.13886\tvalid_1's l2: 4.41526\tvalid_1's rmse: 2.10125\n",
            "[177]\ttraining's l2: 4.56976\ttraining's rmse: 2.1377\tvalid_1's l2: 4.41427\tvalid_1's rmse: 2.10102\n",
            "[178]\ttraining's l2: 4.56452\ttraining's rmse: 2.13647\tvalid_1's l2: 4.41313\tvalid_1's rmse: 2.10074\n",
            "[179]\ttraining's l2: 4.55938\ttraining's rmse: 2.13527\tvalid_1's l2: 4.41193\tvalid_1's rmse: 2.10046\n",
            "[180]\ttraining's l2: 4.55431\ttraining's rmse: 2.13408\tvalid_1's l2: 4.41021\tvalid_1's rmse: 2.10005\n",
            "[181]\ttraining's l2: 4.54934\ttraining's rmse: 2.13292\tvalid_1's l2: 4.40929\tvalid_1's rmse: 2.09983\n",
            "[182]\ttraining's l2: 4.54412\ttraining's rmse: 2.13169\tvalid_1's l2: 4.40843\tvalid_1's rmse: 2.09963\n",
            "[183]\ttraining's l2: 4.53922\ttraining's rmse: 2.13054\tvalid_1's l2: 4.40788\tvalid_1's rmse: 2.0995\n",
            "[184]\ttraining's l2: 4.53416\ttraining's rmse: 2.12936\tvalid_1's l2: 4.40667\tvalid_1's rmse: 2.09921\n",
            "[185]\ttraining's l2: 4.52915\ttraining's rmse: 2.12818\tvalid_1's l2: 4.40527\tvalid_1's rmse: 2.09887\n",
            "[186]\ttraining's l2: 4.52427\ttraining's rmse: 2.12703\tvalid_1's l2: 4.40341\tvalid_1's rmse: 2.09843\n",
            "[187]\ttraining's l2: 4.5197\ttraining's rmse: 2.12596\tvalid_1's l2: 4.40253\tvalid_1's rmse: 2.09822\n",
            "[188]\ttraining's l2: 4.51513\ttraining's rmse: 2.12488\tvalid_1's l2: 4.40277\tvalid_1's rmse: 2.09828\n",
            "[189]\ttraining's l2: 4.51087\ttraining's rmse: 2.12388\tvalid_1's l2: 4.40132\tvalid_1's rmse: 2.09793\n",
            "[190]\ttraining's l2: 4.50615\ttraining's rmse: 2.12277\tvalid_1's l2: 4.40042\tvalid_1's rmse: 2.09772\n",
            "[191]\ttraining's l2: 4.50135\ttraining's rmse: 2.12164\tvalid_1's l2: 4.40003\tvalid_1's rmse: 2.09762\n",
            "[192]\ttraining's l2: 4.49651\ttraining's rmse: 2.1205\tvalid_1's l2: 4.39908\tvalid_1's rmse: 2.0974\n",
            "[193]\ttraining's l2: 4.49162\ttraining's rmse: 2.11935\tvalid_1's l2: 4.39832\tvalid_1's rmse: 2.09722\n",
            "[194]\ttraining's l2: 4.48754\ttraining's rmse: 2.11838\tvalid_1's l2: 4.39814\tvalid_1's rmse: 2.09718\n",
            "[195]\ttraining's l2: 4.48321\ttraining's rmse: 2.11736\tvalid_1's l2: 4.3976\tvalid_1's rmse: 2.09705\n",
            "[196]\ttraining's l2: 4.47891\ttraining's rmse: 2.11634\tvalid_1's l2: 4.39686\tvalid_1's rmse: 2.09687\n",
            "[197]\ttraining's l2: 4.47468\ttraining's rmse: 2.11534\tvalid_1's l2: 4.39603\tvalid_1's rmse: 2.09667\n",
            "[198]\ttraining's l2: 4.47022\ttraining's rmse: 2.11429\tvalid_1's l2: 4.39546\tvalid_1's rmse: 2.09654\n",
            "[199]\ttraining's l2: 4.46567\ttraining's rmse: 2.11321\tvalid_1's l2: 4.39445\tvalid_1's rmse: 2.09629\n",
            "[200]\ttraining's l2: 4.46131\ttraining's rmse: 2.11218\tvalid_1's l2: 4.3941\tvalid_1's rmse: 2.09621\n",
            "[201]\ttraining's l2: 4.45471\ttraining's rmse: 2.11062\tvalid_1's l2: 4.39272\tvalid_1's rmse: 2.09588\n",
            "[202]\ttraining's l2: 4.45046\ttraining's rmse: 2.10961\tvalid_1's l2: 4.39192\tvalid_1's rmse: 2.09569\n",
            "[203]\ttraining's l2: 4.44643\ttraining's rmse: 2.10866\tvalid_1's l2: 4.39104\tvalid_1's rmse: 2.09548\n",
            "[204]\ttraining's l2: 4.4423\ttraining's rmse: 2.10768\tvalid_1's l2: 4.39074\tvalid_1's rmse: 2.09541\n",
            "[205]\ttraining's l2: 4.43817\ttraining's rmse: 2.1067\tvalid_1's l2: 4.3904\tvalid_1's rmse: 2.09533\n",
            "[206]\ttraining's l2: 4.43157\ttraining's rmse: 2.10513\tvalid_1's l2: 4.38933\tvalid_1's rmse: 2.09507\n",
            "[207]\ttraining's l2: 4.4275\ttraining's rmse: 2.10416\tvalid_1's l2: 4.38889\tvalid_1's rmse: 2.09497\n",
            "[208]\ttraining's l2: 4.42105\ttraining's rmse: 2.10263\tvalid_1's l2: 4.38878\tvalid_1's rmse: 2.09494\n",
            "[209]\ttraining's l2: 4.4136\ttraining's rmse: 2.10086\tvalid_1's l2: 4.38684\tvalid_1's rmse: 2.09448\n",
            "[210]\ttraining's l2: 4.40979\ttraining's rmse: 2.09995\tvalid_1's l2: 4.38631\tvalid_1's rmse: 2.09435\n",
            "[211]\ttraining's l2: 4.4061\ttraining's rmse: 2.09907\tvalid_1's l2: 4.38578\tvalid_1's rmse: 2.09422\n",
            "[212]\ttraining's l2: 4.3988\ttraining's rmse: 2.09733\tvalid_1's l2: 4.38462\tvalid_1's rmse: 2.09395\n",
            "[213]\ttraining's l2: 4.39478\ttraining's rmse: 2.09637\tvalid_1's l2: 4.38378\tvalid_1's rmse: 2.09375\n",
            "[214]\ttraining's l2: 4.38749\ttraining's rmse: 2.09463\tvalid_1's l2: 4.3821\tvalid_1's rmse: 2.09335\n",
            "[215]\ttraining's l2: 4.38343\ttraining's rmse: 2.09366\tvalid_1's l2: 4.38174\tvalid_1's rmse: 2.09326\n",
            "[216]\ttraining's l2: 4.37647\ttraining's rmse: 2.092\tvalid_1's l2: 4.38039\tvalid_1's rmse: 2.09294\n",
            "[217]\ttraining's l2: 4.37072\ttraining's rmse: 2.09063\tvalid_1's l2: 4.3801\tvalid_1's rmse: 2.09287\n",
            "[218]\ttraining's l2: 4.36372\ttraining's rmse: 2.08895\tvalid_1's l2: 4.37862\tvalid_1's rmse: 2.09252\n",
            "[219]\ttraining's l2: 4.35992\ttraining's rmse: 2.08804\tvalid_1's l2: 4.37897\tvalid_1's rmse: 2.0926\n",
            "[220]\ttraining's l2: 4.35322\ttraining's rmse: 2.08644\tvalid_1's l2: 4.37792\tvalid_1's rmse: 2.09235\n",
            "[221]\ttraining's l2: 4.3467\ttraining's rmse: 2.08487\tvalid_1's l2: 4.37687\tvalid_1's rmse: 2.0921\n",
            "[222]\ttraining's l2: 4.34308\ttraining's rmse: 2.08401\tvalid_1's l2: 4.37667\tvalid_1's rmse: 2.09205\n",
            "[223]\ttraining's l2: 4.33952\ttraining's rmse: 2.08315\tvalid_1's l2: 4.3769\tvalid_1's rmse: 2.0921\n",
            "[224]\ttraining's l2: 4.33312\ttraining's rmse: 2.08162\tvalid_1's l2: 4.3757\tvalid_1's rmse: 2.09182\n",
            "[225]\ttraining's l2: 4.32981\ttraining's rmse: 2.08082\tvalid_1's l2: 4.37565\tvalid_1's rmse: 2.09181\n",
            "[226]\ttraining's l2: 4.32322\ttraining's rmse: 2.07924\tvalid_1's l2: 4.37437\tvalid_1's rmse: 2.0915\n",
            "[227]\ttraining's l2: 4.31962\ttraining's rmse: 2.07837\tvalid_1's l2: 4.37436\tvalid_1's rmse: 2.0915\n",
            "[228]\ttraining's l2: 4.31599\ttraining's rmse: 2.07749\tvalid_1's l2: 4.37413\tvalid_1's rmse: 2.09144\n",
            "[229]\ttraining's l2: 4.31245\ttraining's rmse: 2.07664\tvalid_1's l2: 4.37358\tvalid_1's rmse: 2.09131\n",
            "[230]\ttraining's l2: 4.30601\ttraining's rmse: 2.07509\tvalid_1's l2: 4.37237\tvalid_1's rmse: 2.09102\n",
            "[231]\ttraining's l2: 4.29988\ttraining's rmse: 2.07361\tvalid_1's l2: 4.3713\tvalid_1's rmse: 2.09077\n",
            "[232]\ttraining's l2: 4.29386\ttraining's rmse: 2.07216\tvalid_1's l2: 4.37034\tvalid_1's rmse: 2.09054\n",
            "[233]\ttraining's l2: 4.29033\ttraining's rmse: 2.07131\tvalid_1's l2: 4.36972\tvalid_1's rmse: 2.09039\n",
            "[234]\ttraining's l2: 4.28419\ttraining's rmse: 2.06983\tvalid_1's l2: 4.3698\tvalid_1's rmse: 2.09041\n",
            "[235]\ttraining's l2: 4.28075\ttraining's rmse: 2.069\tvalid_1's l2: 4.36975\tvalid_1's rmse: 2.09039\n",
            "[236]\ttraining's l2: 4.27478\ttraining's rmse: 2.06755\tvalid_1's l2: 4.36926\tvalid_1's rmse: 2.09028\n",
            "[237]\ttraining's l2: 4.27182\ttraining's rmse: 2.06684\tvalid_1's l2: 4.36955\tvalid_1's rmse: 2.09035\n",
            "[238]\ttraining's l2: 4.26614\ttraining's rmse: 2.06546\tvalid_1's l2: 4.36937\tvalid_1's rmse: 2.0903\n",
            "[239]\ttraining's l2: 4.26296\ttraining's rmse: 2.06469\tvalid_1's l2: 4.36963\tvalid_1's rmse: 2.09037\n",
            "[240]\ttraining's l2: 4.26005\ttraining's rmse: 2.06399\tvalid_1's l2: 4.36996\tvalid_1's rmse: 2.09045\n",
            "[241]\ttraining's l2: 4.25421\ttraining's rmse: 2.06257\tvalid_1's l2: 4.37033\tvalid_1's rmse: 2.09053\n",
            "[242]\ttraining's l2: 4.24867\ttraining's rmse: 2.06123\tvalid_1's l2: 4.37029\tvalid_1's rmse: 2.09052\n",
            "[243]\ttraining's l2: 4.24315\ttraining's rmse: 2.05989\tvalid_1's l2: 4.36903\tvalid_1's rmse: 2.09022\n",
            "[244]\ttraining's l2: 4.23749\ttraining's rmse: 2.05852\tvalid_1's l2: 4.36935\tvalid_1's rmse: 2.0903\n",
            "[245]\ttraining's l2: 4.2319\ttraining's rmse: 2.05716\tvalid_1's l2: 4.37\tvalid_1's rmse: 2.09045\n",
            "[246]\ttraining's l2: 4.22634\ttraining's rmse: 2.05581\tvalid_1's l2: 4.36951\tvalid_1's rmse: 2.09034\n",
            "[247]\ttraining's l2: 4.22083\ttraining's rmse: 2.05446\tvalid_1's l2: 4.37034\tvalid_1's rmse: 2.09054\n",
            "[248]\ttraining's l2: 4.21589\ttraining's rmse: 2.05326\tvalid_1's l2: 4.37022\tvalid_1's rmse: 2.09051\n",
            "[249]\ttraining's l2: 4.21069\ttraining's rmse: 2.052\tvalid_1's l2: 4.3705\tvalid_1's rmse: 2.09057\n",
            "[250]\ttraining's l2: 4.20536\ttraining's rmse: 2.0507\tvalid_1's l2: 4.37135\tvalid_1's rmse: 2.09078\n",
            "[251]\ttraining's l2: 4.20022\ttraining's rmse: 2.04944\tvalid_1's l2: 4.37215\tvalid_1's rmse: 2.09097\n",
            "[252]\ttraining's l2: 4.19512\ttraining's rmse: 2.0482\tvalid_1's l2: 4.37318\tvalid_1's rmse: 2.09121\n",
            "[253]\ttraining's l2: 4.19024\ttraining's rmse: 2.04701\tvalid_1's l2: 4.37427\tvalid_1's rmse: 2.09148\n",
            "[254]\ttraining's l2: 4.18527\ttraining's rmse: 2.04579\tvalid_1's l2: 4.3741\tvalid_1's rmse: 2.09143\n",
            "[255]\ttraining's l2: 4.18039\ttraining's rmse: 2.0446\tvalid_1's l2: 4.37497\tvalid_1's rmse: 2.09164\n",
            "[256]\ttraining's l2: 4.17761\ttraining's rmse: 2.04392\tvalid_1's l2: 4.37575\tvalid_1's rmse: 2.09183\n",
            "[257]\ttraining's l2: 4.17281\ttraining's rmse: 2.04275\tvalid_1's l2: 4.37693\tvalid_1's rmse: 2.09211\n",
            "[258]\ttraining's l2: 4.16798\ttraining's rmse: 2.04156\tvalid_1's l2: 4.37811\tvalid_1's rmse: 2.09239\n",
            "[259]\ttraining's l2: 4.16323\ttraining's rmse: 2.0404\tvalid_1's l2: 4.37928\tvalid_1's rmse: 2.09267\n",
            "[260]\ttraining's l2: 4.15818\ttraining's rmse: 2.03916\tvalid_1's l2: 4.37953\tvalid_1's rmse: 2.09273\n",
            "[261]\ttraining's l2: 4.15353\ttraining's rmse: 2.03802\tvalid_1's l2: 4.38055\tvalid_1's rmse: 2.09298\n",
            "[262]\ttraining's l2: 4.14874\ttraining's rmse: 2.03685\tvalid_1's l2: 4.38059\tvalid_1's rmse: 2.09299\n",
            "[263]\ttraining's l2: 4.1441\ttraining's rmse: 2.03571\tvalid_1's l2: 4.38198\tvalid_1's rmse: 2.09332\n",
            "[264]\ttraining's l2: 4.13948\ttraining's rmse: 2.03457\tvalid_1's l2: 4.38328\tvalid_1's rmse: 2.09363\n",
            "[265]\ttraining's l2: 4.13482\ttraining's rmse: 2.03343\tvalid_1's l2: 4.38256\tvalid_1's rmse: 2.09346\n",
            "[266]\ttraining's l2: 4.13025\ttraining's rmse: 2.0323\tvalid_1's l2: 4.38376\tvalid_1's rmse: 2.09374\n",
            "[267]\ttraining's l2: 4.1262\ttraining's rmse: 2.0313\tvalid_1's l2: 4.38358\tvalid_1's rmse: 2.0937\n",
            "[268]\ttraining's l2: 4.12163\ttraining's rmse: 2.03018\tvalid_1's l2: 4.38514\tvalid_1's rmse: 2.09407\n",
            "[269]\ttraining's l2: 4.11703\ttraining's rmse: 2.02905\tvalid_1's l2: 4.38668\tvalid_1's rmse: 2.09444\n",
            "[270]\ttraining's l2: 4.11278\ttraining's rmse: 2.028\tvalid_1's l2: 4.38803\tvalid_1's rmse: 2.09476\n",
            "[271]\ttraining's l2: 4.1085\ttraining's rmse: 2.02694\tvalid_1's l2: 4.38908\tvalid_1's rmse: 2.09501\n",
            "[272]\ttraining's l2: 4.10447\ttraining's rmse: 2.02595\tvalid_1's l2: 4.39097\tvalid_1's rmse: 2.09546\n",
            "[273]\ttraining's l2: 4.10002\ttraining's rmse: 2.02485\tvalid_1's l2: 4.39204\tvalid_1's rmse: 2.09572\n",
            "[274]\ttraining's l2: 4.09596\ttraining's rmse: 2.02385\tvalid_1's l2: 4.39319\tvalid_1's rmse: 2.09599\n",
            "[275]\ttraining's l2: 4.09186\ttraining's rmse: 2.02283\tvalid_1's l2: 4.39458\tvalid_1's rmse: 2.09633\n",
            "[276]\ttraining's l2: 4.08638\ttraining's rmse: 2.02148\tvalid_1's l2: 4.39201\tvalid_1's rmse: 2.09571\n",
            "[277]\ttraining's l2: 4.08233\ttraining's rmse: 2.02048\tvalid_1's l2: 4.39359\tvalid_1's rmse: 2.09609\n",
            "[278]\ttraining's l2: 4.07824\ttraining's rmse: 2.01947\tvalid_1's l2: 4.39503\tvalid_1's rmse: 2.09643\n",
            "[279]\ttraining's l2: 4.0744\ttraining's rmse: 2.01852\tvalid_1's l2: 4.39631\tvalid_1's rmse: 2.09674\n",
            "[280]\ttraining's l2: 4.07025\ttraining's rmse: 2.01749\tvalid_1's l2: 4.39803\tvalid_1's rmse: 2.09715\n",
            "[281]\ttraining's l2: 4.06652\ttraining's rmse: 2.01656\tvalid_1's l2: 4.39977\tvalid_1's rmse: 2.09756\n",
            "[282]\ttraining's l2: 4.06266\ttraining's rmse: 2.0156\tvalid_1's l2: 4.40107\tvalid_1's rmse: 2.09787\n",
            "[283]\ttraining's l2: 4.05889\ttraining's rmse: 2.01467\tvalid_1's l2: 4.4024\tvalid_1's rmse: 2.09819\n",
            "[284]\ttraining's l2: 4.055\ttraining's rmse: 2.0137\tvalid_1's l2: 4.40402\tvalid_1's rmse: 2.09857\n",
            "[285]\ttraining's l2: 4.05141\ttraining's rmse: 2.01281\tvalid_1's l2: 4.40537\tvalid_1's rmse: 2.0989\n",
            "[286]\ttraining's l2: 4.04774\ttraining's rmse: 2.0119\tvalid_1's l2: 4.40675\tvalid_1's rmse: 2.09923\n",
            "[287]\ttraining's l2: 4.0442\ttraining's rmse: 2.01102\tvalid_1's l2: 4.40795\tvalid_1's rmse: 2.09951\n",
            "[288]\ttraining's l2: 4.04069\ttraining's rmse: 2.01015\tvalid_1's l2: 4.40897\tvalid_1's rmse: 2.09976\n",
            "[289]\ttraining's l2: 4.03713\ttraining's rmse: 2.00926\tvalid_1's l2: 4.40993\tvalid_1's rmse: 2.09998\n",
            "[290]\ttraining's l2: 4.03377\ttraining's rmse: 2.00843\tvalid_1's l2: 4.41109\tvalid_1's rmse: 2.10026\n",
            "[291]\ttraining's l2: 4.03043\ttraining's rmse: 2.00759\tvalid_1's l2: 4.41287\tvalid_1's rmse: 2.10068\n",
            "[292]\ttraining's l2: 4.02699\ttraining's rmse: 2.00674\tvalid_1's l2: 4.41447\tvalid_1's rmse: 2.10106\n",
            "[293]\ttraining's l2: 4.0236\ttraining's rmse: 2.00589\tvalid_1's l2: 4.41636\tvalid_1's rmse: 2.10151\n",
            "[294]\ttraining's l2: 4.02027\ttraining's rmse: 2.00506\tvalid_1's l2: 4.41788\tvalid_1's rmse: 2.10188\n",
            "[295]\ttraining's l2: 4.01679\ttraining's rmse: 2.00419\tvalid_1's l2: 4.41961\tvalid_1's rmse: 2.10229\n",
            "[296]\ttraining's l2: 4.01357\ttraining's rmse: 2.00339\tvalid_1's l2: 4.421\tvalid_1's rmse: 2.10262\n",
            "[297]\ttraining's l2: 4.01026\ttraining's rmse: 2.00256\tvalid_1's l2: 4.4226\tvalid_1's rmse: 2.103\n",
            "[298]\ttraining's l2: 4.00704\ttraining's rmse: 2.00176\tvalid_1's l2: 4.42398\tvalid_1's rmse: 2.10333\n",
            "[299]\ttraining's l2: 4.00358\ttraining's rmse: 2.0009\tvalid_1's l2: 4.42537\tvalid_1's rmse: 2.10366\n",
            "[300]\ttraining's l2: 4.00034\ttraining's rmse: 2.00009\tvalid_1's l2: 4.42693\tvalid_1's rmse: 2.10403\n",
            "[301]\ttraining's l2: 3.99702\ttraining's rmse: 1.99926\tvalid_1's l2: 4.42822\tvalid_1's rmse: 2.10433\n",
            "[302]\ttraining's l2: 3.99373\ttraining's rmse: 1.99843\tvalid_1's l2: 4.43029\tvalid_1's rmse: 2.10483\n",
            "[303]\ttraining's l2: 3.99055\ttraining's rmse: 1.99764\tvalid_1's l2: 4.43177\tvalid_1's rmse: 2.10518\n",
            "[304]\ttraining's l2: 3.98749\ttraining's rmse: 1.99687\tvalid_1's l2: 4.43301\tvalid_1's rmse: 2.10547\n",
            "[305]\ttraining's l2: 3.98431\ttraining's rmse: 1.99607\tvalid_1's l2: 4.43476\tvalid_1's rmse: 2.10589\n",
            "[306]\ttraining's l2: 3.98114\ttraining's rmse: 1.99528\tvalid_1's l2: 4.43658\tvalid_1's rmse: 2.10632\n",
            "[307]\ttraining's l2: 3.97822\ttraining's rmse: 1.99455\tvalid_1's l2: 4.43812\tvalid_1's rmse: 2.10668\n",
            "[308]\ttraining's l2: 3.97539\ttraining's rmse: 1.99384\tvalid_1's l2: 4.43948\tvalid_1's rmse: 2.10701\n",
            "[309]\ttraining's l2: 3.97321\ttraining's rmse: 1.99329\tvalid_1's l2: 4.43896\tvalid_1's rmse: 2.10688\n",
            "[310]\ttraining's l2: 3.97026\ttraining's rmse: 1.99255\tvalid_1's l2: 4.44053\tvalid_1's rmse: 2.10726\n",
            "[311]\ttraining's l2: 3.96746\ttraining's rmse: 1.99185\tvalid_1's l2: 4.44172\tvalid_1's rmse: 2.10754\n",
            "[312]\ttraining's l2: 3.96458\ttraining's rmse: 1.99112\tvalid_1's l2: 4.44314\tvalid_1's rmse: 2.10788\n",
            "[313]\ttraining's l2: 3.96251\ttraining's rmse: 1.99061\tvalid_1's l2: 4.44236\tvalid_1's rmse: 2.10769\n",
            "[314]\ttraining's l2: 3.95959\ttraining's rmse: 1.98987\tvalid_1's l2: 4.44406\tvalid_1's rmse: 2.10809\n",
            "[315]\ttraining's l2: 3.9573\ttraining's rmse: 1.9893\tvalid_1's l2: 4.44355\tvalid_1's rmse: 2.10797\n",
            "[316]\ttraining's l2: 3.95459\ttraining's rmse: 1.98862\tvalid_1's l2: 4.44443\tvalid_1's rmse: 2.10818\n",
            "[317]\ttraining's l2: 3.95257\ttraining's rmse: 1.98811\tvalid_1's l2: 4.4441\tvalid_1's rmse: 2.1081\n",
            "[318]\ttraining's l2: 3.94898\ttraining's rmse: 1.9872\tvalid_1's l2: 4.44287\tvalid_1's rmse: 2.10781\n",
            "[319]\ttraining's l2: 3.94692\ttraining's rmse: 1.98669\tvalid_1's l2: 4.44217\tvalid_1's rmse: 2.10765\n",
            "[320]\ttraining's l2: 3.94366\ttraining's rmse: 1.98586\tvalid_1's l2: 4.44177\tvalid_1's rmse: 2.10755\n",
            "[321]\ttraining's l2: 3.94142\ttraining's rmse: 1.9853\tvalid_1's l2: 4.44148\tvalid_1's rmse: 2.10748\n",
            "[322]\ttraining's l2: 3.9392\ttraining's rmse: 1.98474\tvalid_1's l2: 4.44116\tvalid_1's rmse: 2.10741\n",
            "[323]\ttraining's l2: 3.93703\ttraining's rmse: 1.98419\tvalid_1's l2: 4.44113\tvalid_1's rmse: 2.1074\n",
            "[324]\ttraining's l2: 3.93453\ttraining's rmse: 1.98357\tvalid_1's l2: 4.44286\tvalid_1's rmse: 2.10781\n",
            "[325]\ttraining's l2: 3.93255\ttraining's rmse: 1.98307\tvalid_1's l2: 4.44285\tvalid_1's rmse: 2.10781\n",
            "[326]\ttraining's l2: 3.9304\ttraining's rmse: 1.98252\tvalid_1's l2: 4.44284\tvalid_1's rmse: 2.1078\n",
            "[327]\ttraining's l2: 3.92776\ttraining's rmse: 1.98186\tvalid_1's l2: 4.44356\tvalid_1's rmse: 2.10798\n",
            "[328]\ttraining's l2: 3.9258\ttraining's rmse: 1.98136\tvalid_1's l2: 4.44336\tvalid_1's rmse: 2.10793\n",
            "[329]\ttraining's l2: 3.92385\ttraining's rmse: 1.98087\tvalid_1's l2: 4.44306\tvalid_1's rmse: 2.10786\n",
            "[330]\ttraining's l2: 3.92032\ttraining's rmse: 1.97998\tvalid_1's l2: 4.4417\tvalid_1's rmse: 2.10753\n",
            "[331]\ttraining's l2: 3.91804\ttraining's rmse: 1.9794\tvalid_1's l2: 4.44102\tvalid_1's rmse: 2.10737\n",
            "[332]\ttraining's l2: 3.91548\ttraining's rmse: 1.97876\tvalid_1's l2: 4.44253\tvalid_1's rmse: 2.10773\n",
            "[333]\ttraining's l2: 3.91341\ttraining's rmse: 1.97823\tvalid_1's l2: 4.44194\tvalid_1's rmse: 2.10759\n",
            "[334]\ttraining's l2: 3.91156\ttraining's rmse: 1.97777\tvalid_1's l2: 4.44173\tvalid_1's rmse: 2.10754\n",
            "[335]\ttraining's l2: 3.90964\ttraining's rmse: 1.97728\tvalid_1's l2: 4.4415\tvalid_1's rmse: 2.10749\n",
            "[336]\ttraining's l2: 3.90763\ttraining's rmse: 1.97677\tvalid_1's l2: 4.44102\tvalid_1's rmse: 2.10737\n",
            "[337]\ttraining's l2: 3.905\ttraining's rmse: 1.97611\tvalid_1's l2: 4.44294\tvalid_1's rmse: 2.10783\n",
            "[338]\ttraining's l2: 3.90306\ttraining's rmse: 1.97562\tvalid_1's l2: 4.44185\tvalid_1's rmse: 2.10757\n",
            "[339]\ttraining's l2: 3.90138\ttraining's rmse: 1.97519\tvalid_1's l2: 4.44133\tvalid_1's rmse: 2.10745\n",
            "[340]\ttraining's l2: 3.898\ttraining's rmse: 1.97434\tvalid_1's l2: 4.44031\tvalid_1's rmse: 2.10721\n",
            "[341]\ttraining's l2: 3.89588\ttraining's rmse: 1.9738\tvalid_1's l2: 4.44004\tvalid_1's rmse: 2.10714\n",
            "[342]\ttraining's l2: 3.89317\ttraining's rmse: 1.97311\tvalid_1's l2: 4.44196\tvalid_1's rmse: 2.1076\n",
            "[343]\ttraining's l2: 3.89105\ttraining's rmse: 1.97258\tvalid_1's l2: 4.44136\tvalid_1's rmse: 2.10745\n",
            "Early stopping, best iteration is:\n",
            "[243]\ttraining's l2: 4.24315\ttraining's rmse: 2.05989\tvalid_1's l2: 4.36903\tvalid_1's rmse: 2.09022\n",
            "CPU times: user 28.4 s, sys: 431 ms, total: 28.9 s\n",
            "Wall time: 15 s\n"
          ],
          "name": "stdout"
        }
      ]
    },
    {
      "metadata": {
        "id": "DJHDViGGHbYA",
        "colab_type": "text"
      },
      "cell_type": "markdown",
      "source": [
        "# evaluate model"
      ]
    },
    {
      "metadata": {
        "id": "l2eTTyDOKp4-",
        "colab_type": "code",
        "colab": {
          "base_uri": "https://localhost:8080/",
          "height": 283
        },
        "outputId": "65ebac15-c410-4e63-e300-0d29634a1ac0"
      },
      "cell_type": "code",
      "source": [
        "y = model.evals_result_['training']['rmse']\n",
        "z = model.evals_result_['valid_1']['rmse']\n",
        "x = range(len(y))\n",
        "\n",
        "\n",
        "import matplotlib.pyplot as plt\n",
        "%matplotlib inline\n",
        "\n",
        "plt.plot(x, y, color='cornflowerblue', label = 'train')\n",
        "plt.plot(x, z, color='red', label = 'val')\n",
        "plt.legend(loc=\"upper right\")\n",
        "plt.ylim(0, 3)\n",
        "plt.grid(True)\n",
        "plt.xlabel('epoch')\n",
        "plt.ylabel('mean absolute error')\n",
        "plt.show()"
      ],
      "execution_count": 66,
      "outputs": [
        {
          "output_type": "display_data",
          "data": {
            "image/png": "[encoded data removed]",
            "text/plain": [
              "<matplotlib.figure.Figure at 0x7fa312a77518>"
            ]
          },
          "metadata": {
            "tags": []
          }
        }
      ]
    },
    {
      "metadata": {
        "id": "o4mDYws28VCk",
        "colab_type": "code",
        "outputId": "4758c9a8-4eec-4278-f40a-1b11aff7b265",
        "colab": {
          "base_uri": "https://localhost:8080/",
          "height": 68
        }
      },
      "cell_type": "code",
      "source": [
        "%%time\n",
        "from sklearn.metrics import mean_squared_error\n",
        "\n",
        "pred = model.predict(df_x)\n",
        "mse = mean_squared_error(df_y, pred)\n",
        "rmse = np.sqrt(mse)\n",
        "print(rmse)"
      ],
      "execution_count": 67,
      "outputs": [
        {
          "output_type": "stream",
          "text": [
            "2.067514889659896\n",
            "CPU times: user 11.8 s, sys: 10 ms, total: 11.8 s\n",
            "Wall time: 6.07 s\n"
          ],
          "name": "stdout"
        }
      ]
    },
    {
      "metadata": {
        "id": "KR4TV1SLlRS-",
        "colab_type": "code",
        "outputId": "487c3bcf-c2e9-4cd4-b260-297e4a35ae1f",
        "colab": {
          "base_uri": "https://localhost:8080/",
          "height": 51
        }
      },
      "cell_type": "code",
      "source": [
        "%%time\n",
        "pickle.dump(model_LGB, open(filename, 'wb'))"
      ],
      "execution_count": 68,
      "outputs": [
        {
          "output_type": "stream",
          "text": [
            "CPU times: user 27.9 ms, sys: 0 ns, total: 27.9 ms\n",
            "Wall time: 24.1 ms\n"
          ],
          "name": "stdout"
        }
      ]
    },
    {
      "metadata": {
        "id": "ex8X3eQP_cRN",
        "colab_type": "text"
      },
      "cell_type": "markdown",
      "source": [
        "# Predict / Output"
      ]
    },
    {
      "metadata": {
        "id": "2H8GV7bq8U6K",
        "colab_type": "code",
        "colab": {
          "base_uri": "https://localhost:8080/",
          "height": 51
        },
        "outputId": "d9d56402-e1c8-4218-c456-a77b6eb1f2ea"
      },
      "cell_type": "code",
      "source": [
        "%%time\n",
        "pred_tgt = model.predict(df_tgt)\n",
        "pred_tgt[pred_tgt<0] = 0\n",
        "df_out = pd.DataFrame(index = df_tgt.index)\n",
        "df_out['PredictedLogRevenue'] = pred_tgt\n",
        "\n",
        "df_out.to_csv('output_LGB.csv')"
      ],
      "execution_count": 69,
      "outputs": [
        {
          "output_type": "stream",
          "text": [
            "CPU times: user 11.4 s, sys: 41 ms, total: 11.5 s\n",
            "Wall time: 6.69 s\n"
          ],
          "name": "stdout"
        }
      ]
    },
    {
      "metadata": {
        "id": "qjuxQSXI8U3v",
        "colab_type": "code",
        "outputId": "721f3d55-2664-44f6-952a-4c0e82011a12",
        "colab": {
          "base_uri": "https://localhost:8080/",
          "height": 233
        }
      },
      "cell_type": "code",
      "source": [
        "df_out.head()"
      ],
      "execution_count": 24,
      "outputs": [
        {
          "output_type": "execute_result",
          "data": {
            "text/html": [
              "<div>\n",
              "<style scoped>\n",
              "    .dataframe tbody tr th:only-of-type {\n",
              "        vertical-align: middle;\n",
              "    }\n",
              "\n",
              "    .dataframe tbody tr th {\n",
              "        vertical-align: top;\n",
              "    }\n",
              "\n",
              "    .dataframe thead th {\n",
              "        text-align: right;\n",
              "    }\n",
              "</style>\n",
              "<table border=\"1\" class=\"dataframe\">\n",
              "  <thead>\n",
              "    <tr style=\"text-align: right;\">\n",
              "      <th></th>\n",
              "      <th>PredictedLogRevenue</th>\n",
              "    </tr>\n",
              "    <tr>\n",
              "      <th>fullVisitorId</th>\n",
              "      <th></th>\n",
              "    </tr>\n",
              "  </thead>\n",
              "  <tbody>\n",
              "    <tr>\n",
              "      <th>0000000259678714014</th>\n",
              "      <td>0.426934</td>\n",
              "    </tr>\n",
              "    <tr>\n",
              "      <th>0000049363351866189</th>\n",
              "      <td>0.003023</td>\n",
              "    </tr>\n",
              "    <tr>\n",
              "      <th>0000053049821714864</th>\n",
              "      <td>0.000000</td>\n",
              "    </tr>\n",
              "    <tr>\n",
              "      <th>0000059488412965267</th>\n",
              "      <td>0.003023</td>\n",
              "    </tr>\n",
              "    <tr>\n",
              "      <th>0000085840370633780</th>\n",
              "      <td>0.000695</td>\n",
              "    </tr>\n",
              "  </tbody>\n",
              "</table>\n",
              "</div>"
            ],
            "text/plain": [
              "                     PredictedLogRevenue\n",
              "fullVisitorId                           \n",
              "0000000259678714014             0.426934\n",
              "0000049363351866189             0.003023\n",
              "0000053049821714864             0.000000\n",
              "0000059488412965267             0.003023\n",
              "0000085840370633780             0.000695"
            ]
          },
          "metadata": {
            "tags": []
          },
          "execution_count": 24
        }
      ]
    },
    {
      "metadata": {
        "id": "K584rugV8-pc",
        "colab_type": "code",
        "outputId": "ec6f10b5-63f5-412f-a79c-0d773938963b",
        "colab": {
          "base_uri": "https://localhost:8080/",
          "height": 295
        }
      },
      "cell_type": "code",
      "source": [
        "df_out.describe()"
      ],
      "execution_count": 25,
      "outputs": [
        {
          "output_type": "execute_result",
          "data": {
            "text/html": [
              "<div>\n",
              "<style scoped>\n",
              "    .dataframe tbody tr th:only-of-type {\n",
              "        vertical-align: middle;\n",
              "    }\n",
              "\n",
              "    .dataframe tbody tr th {\n",
              "        vertical-align: top;\n",
              "    }\n",
              "\n",
              "    .dataframe thead th {\n",
              "        text-align: right;\n",
              "    }\n",
              "</style>\n",
              "<table border=\"1\" class=\"dataframe\">\n",
              "  <thead>\n",
              "    <tr style=\"text-align: right;\">\n",
              "      <th></th>\n",
              "      <th>PredictedLogRevenue</th>\n",
              "    </tr>\n",
              "  </thead>\n",
              "  <tbody>\n",
              "    <tr>\n",
              "      <th>count</th>\n",
              "      <td>617242.000000</td>\n",
              "    </tr>\n",
              "    <tr>\n",
              "      <th>mean</th>\n",
              "      <td>0.197157</td>\n",
              "    </tr>\n",
              "    <tr>\n",
              "      <th>std</th>\n",
              "      <td>1.467492</td>\n",
              "    </tr>\n",
              "    <tr>\n",
              "      <th>min</th>\n",
              "      <td>0.000000</td>\n",
              "    </tr>\n",
              "    <tr>\n",
              "      <th>25%</th>\n",
              "      <td>0.000695</td>\n",
              "    </tr>\n",
              "    <tr>\n",
              "      <th>50%</th>\n",
              "      <td>0.000695</td>\n",
              "    </tr>\n",
              "    <tr>\n",
              "      <th>75%</th>\n",
              "      <td>0.000695</td>\n",
              "    </tr>\n",
              "    <tr>\n",
              "      <th>max</th>\n",
              "      <td>200.307625</td>\n",
              "    </tr>\n",
              "  </tbody>\n",
              "</table>\n",
              "</div>"
            ],
            "text/plain": [
              "       PredictedLogRevenue\n",
              "count        617242.000000\n",
              "mean              0.197157\n",
              "std               1.467492\n",
              "min               0.000000\n",
              "25%               0.000695\n",
              "50%               0.000695\n",
              "75%               0.000695\n",
              "max             200.307625"
            ]
          },
          "metadata": {
            "tags": []
          },
          "execution_count": 25
        }
      ]
    },
    {
      "metadata": {
        "id": "ohw4cX8ORZcs",
        "colab_type": "code",
        "colab": {}
      },
      "cell_type": "code",
      "source": [
        ""
      ],
      "execution_count": 0,
      "outputs": []
    }
  ]
}