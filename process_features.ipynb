{
 "cells": [
  {
   "cell_type": "markdown",
   "metadata": {},
   "source": [
    "\n",
    "https://www.kaggle.com/julian3833/1-quick-start-read-csv-and-flatten-json-fields\n",
    "\n",
    "https://www.kaggle.com/artgor/nn-baseline\n",
    "\n",
    "https://www.kaggle.com/ogrellier/user-level-lightgbm-lb-1-4480\n",
    "\n",
    "https://www.kaggle.com/dimitreoliveira/deep-learning-keras-ga-revenue-prediction\n"
   ]
  },
  {
   "cell_type": "markdown",
   "metadata": {},
   "source": [
    "# parse CSV"
   ]
  },
  {
   "cell_type": "code",
   "execution_count": 2,
   "metadata": {
    "_cell_guid": "b1076dfc-b9ad-4769-8c92-a6c4dae69d19",
    "_uuid": "8f2839f25d086af736a60e9eeb907d3b93b6e0e5"
   },
   "outputs": [
    {
     "name": "stdout",
     "output_type": "stream",
     "text": [
      "['test_adj.csv', 'test_dropped.csv', 'train_dropped.csv', 'user_test.csv', 'train_orig.csv', 'test_parsed.csv', 'user_test_n.csv', 'train_parsed.csv', 'train_adj.csv', 'test_orig.csv', 'user_train.csv', 'user_train_n.csv']\n"
     ]
    }
   ],
   "source": [
    "import os\n",
    "import json\n",
    "import numpy as np\n",
    "import pandas as pd\n",
    "from pandas.io.json import json_normalize\n",
    "from sklearn.preprocessing import LabelEncoder\n",
    "\n",
    "path = '../data/'\n",
    "print(os.listdir(path))"
   ]
  },
  {
   "cell_type": "code",
   "execution_count": 2,
   "metadata": {
    "_uuid": "4a23799ac3b6e7d5b1eb451ba69ab6d2fa74b585"
   },
   "outputs": [],
   "source": [
    "def load_df(csv_path, nrows=None):\n",
    "    JSON_COLUMNS = ['device', 'geoNetwork', 'totals', 'trafficSource']\n",
    "    \n",
    "    df = pd.read_csv(csv_path, \n",
    "                     converters={column: json.loads for column in JSON_COLUMNS}, \n",
    "                     dtype={'fullVisitorId': 'str'}, \n",
    "                     nrows=nrows)\n",
    "    \n",
    "    for column in JSON_COLUMNS:\n",
    "        column_as_df = json_normalize(df[column])\n",
    "        df = df.drop(column, axis=1).merge(column_as_df, right_index=True, left_index=True)\n",
    "    return df"
   ]
  },
  {
   "cell_type": "code",
   "execution_count": 5,
   "metadata": {
    "_uuid": "a9f9fce9f30e29128f38851a2023569677d88cf3"
   },
   "outputs": [
    {
     "name": "stdout",
     "output_type": "stream",
     "text": [
      "CPU times: user 1min 47s, sys: 3.06 s, total: 1min 50s\n",
      "Wall time: 1min 50s\n"
     ]
    }
   ],
   "source": [
    "%%time\n",
    "df_train = load_df(path + 'train_orig.csv')\n",
    "df_test = load_df(path + 'test_orig.csv')\n",
    "\n",
    "df_train.to_csv(path + 'train_parsed.csv')\n",
    "df_test.to_csv(path + 'test_parsed.csv')"
   ]
  },
  {
   "cell_type": "markdown",
   "metadata": {
    "_uuid": "630c9e566ecd7d55591dbf5279a48079e960b97b"
   },
   "source": [
    "# drop columns"
   ]
  },
  {
   "cell_type": "code",
   "execution_count": 3,
   "metadata": {},
   "outputs": [
    {
     "name": "stdout",
     "output_type": "stream",
     "text": [
      "['test_adj.csv', 'test_dropped.csv', 'train_dropped.csv', 'user_test.csv', 'train_orig.csv', 'test_parsed.csv', 'user_test_n.csv', 'train_parsed.csv', 'train_adj.csv', 'test_orig.csv', 'user_train.csv', 'user_train_n.csv']\n"
     ]
    }
   ],
   "source": [
    "import os\n",
    "import json\n",
    "import numpy as np\n",
    "import pandas as pd\n",
    "from pandas.io.json import json_normalize\n",
    "from sklearn.preprocessing import LabelEncoder\n",
    "\n",
    "path = '../data/'\n",
    "print(os.listdir(path))"
   ]
  },
  {
   "cell_type": "code",
   "execution_count": 27,
   "metadata": {},
   "outputs": [
    {
     "name": "stderr",
     "output_type": "stream",
     "text": [
      "<string>:2: DtypeWarning: Columns (50) have mixed types. Specify dtype option on import or set low_memory=False.\n"
     ]
    },
    {
     "name": "stdout",
     "output_type": "stream",
     "text": [
      "CPU times: user 21.9 s, sys: 852 ms, total: 22.8 s\n",
      "Wall time: 22.4 s\n"
     ]
    }
   ],
   "source": [
    "%%time\n",
    "df_train = pd.read_csv(path +'train_parsed.csv', index_col = 0, dtype={'fullVisitorId': 'str'})\n",
    "df_test = pd.read_csv(path +'test_parsed.csv', index_col = 0, dtype={'fullVisitorId': 'str'})"
   ]
  },
  {
   "cell_type": "markdown",
   "metadata": {},
   "source": [
    "## Align total # of colums"
   ]
  },
  {
   "cell_type": "code",
   "execution_count": 28,
   "metadata": {},
   "outputs": [
    {
     "name": "stdout",
     "output_type": "stream",
     "text": [
      "(903653, 55) (804684, 53)\n"
     ]
    }
   ],
   "source": [
    "print(df_train.shape, df_test.shape, )"
   ]
  },
  {
   "cell_type": "code",
   "execution_count": 29,
   "metadata": {},
   "outputs": [
    {
     "name": "stdout",
     "output_type": "stream",
     "text": [
      "CPU times: user 417 ms, sys: 188 ms, total: 606 ms\n",
      "Wall time: 604 ms\n"
     ]
    }
   ],
   "source": [
    "%%time\n",
    "df_train, df_test = df_train.align(df_test, join='outer', axis=1)"
   ]
  },
  {
   "cell_type": "code",
   "execution_count": 30,
   "metadata": {},
   "outputs": [
    {
     "name": "stdout",
     "output_type": "stream",
     "text": [
      "(903653, 55) (804684, 55)\n"
     ]
    }
   ],
   "source": [
    "print(df_train.shape, df_test.shape, )"
   ]
  },
  {
   "cell_type": "markdown",
   "metadata": {},
   "source": [
    "## determine columns to drop"
   ]
  },
  {
   "cell_type": "code",
   "execution_count": 35,
   "metadata": {},
   "outputs": [
    {
     "name": "stdout",
     "output_type": "stream",
     "text": [
      "not unique\n",
      "['adwordsClickInfo.criteriaParameters', 'adwordsClickInfo.isVideoAd', 'bounces', 'browserSize', 'browserVersion', 'campaignCode', 'cityId', 'flashVersion', 'isTrueDirect', 'language', 'latitude', 'longitude', 'mobileDeviceBranding', 'mobileDeviceInfo', 'mobileDeviceMarketingName', 'mobileDeviceModel', 'mobileInputSelector', 'networkLocation', 'newVisits', 'operatingSystemVersion', 'screenColors', 'screenResolution', 'socialEngagementType', 'visits']\n",
      "\n",
      "high null ratio\n",
      "['adContent', 'adwordsClickInfo.adNetworkType', 'adwordsClickInfo.gclId', 'adwordsClickInfo.isVideoAd', 'adwordsClickInfo.page', 'adwordsClickInfo.slot', 'campaignCode', 'isTrueDirect', 'referralPath', 'transactionRevenue']\n",
      "\n",
      "not much variance\n",
      "['adwordsClickInfo.page', 'bounces', 'newVisits', 'visits']\n",
      "CPU times: user 4.85 s, sys: 43.6 ms, total: 4.89 s\n",
      "Wall time: 4.57 s\n"
     ]
    }
   ],
   "source": [
    "%%time\n",
    "\n",
    "cols_not_unique = [col for col in df_train.columns if df_train[col].nunique() < 2]\n",
    "\n",
    "cols_null_ratio_high = [col for col in df_train.columns if sum(df_train[col].isnull()) / len(df_train) >= 0.6]\n",
    "\n",
    "cols_not_much_var = []\n",
    "df_num = df_train.select_dtypes(include=[np.number])\n",
    "df_var = df_num.var()\n",
    "for x in df_num:\n",
    "    if df_var[x] <= 30:\n",
    "        cols_not_much_var.append(x)\n",
    "\n",
    "\n",
    "print('not unique')\n",
    "print(cols_not_unique)\n",
    "print()\n",
    "print('high null ratio')\n",
    "print(cols_null_ratio_high)\n",
    "print()\n",
    "print('not much variance')\n",
    "print(cols_not_much_var)\n"
   ]
  },
  {
   "cell_type": "code",
   "execution_count": 112,
   "metadata": {},
   "outputs": [
    {
     "name": "stdout",
     "output_type": "stream",
     "text": [
      "['mobileInputSelector', 'socialEngagementType', 'screenResolution', 'visits', 'language', 'mobileDeviceModel', 'browserVersion', 'screenColors', 'mobileDeviceMarketingName', 'newVisits', 'adwordsClickInfo.criteriaParameters', 'adContent', 'mobileDeviceInfo', 'longitude', 'operatingSystemVersion', 'cityId', 'referralPath', 'mobileDeviceBranding', 'campaignCode', 'browserSize', 'flashVersion', 'latitude', 'adwordsClickInfo.gclId', 'networkLocation', 'bounces']\n"
     ]
    }
   ],
   "source": [
    "keep_cols = ['fullVisitorId','transactionRevenue','isTrueDirect',\n",
    "             'adwordsClickInfo.adNetworkType','adwordsClickInfo.isVideoAd','adwordsClickInfo.page',\n",
    "             'adwordsClickInfo.slot']\n",
    "\n",
    "del_cols = []\n",
    "del_cols.extend(cols_not_unique)\n",
    "del_cols.extend(cols_null_ratio_high)\n",
    "del_cols.extend(cols_not_much_var)\n",
    "del_cols = list(set(del_cols))\n",
    "\n",
    "del_cols = [x for x in del_cols if x not in keep_cols]\n",
    "\n",
    "print(del_cols)"
   ]
  },
  {
   "cell_type": "code",
   "execution_count": 113,
   "metadata": {},
   "outputs": [],
   "source": [
    "df_train.drop(del_cols, axis=1, inplace=True)\n",
    "df_test.drop(del_cols, axis=1, inplace=True)"
   ]
  },
  {
   "cell_type": "code",
   "execution_count": 114,
   "metadata": {},
   "outputs": [
    {
     "name": "stdout",
     "output_type": "stream",
     "text": [
      "(903653, 30) (804684, 30)\n"
     ]
    }
   ],
   "source": [
    "print(df_train.shape, df_test.shape, )"
   ]
  },
  {
   "cell_type": "code",
   "execution_count": 115,
   "metadata": {},
   "outputs": [
    {
     "name": "stdout",
     "output_type": "stream",
     "text": [
      "CPU times: user 29.2 s, sys: 1.17 s, total: 30.4 s\n",
      "Wall time: 30.2 s\n"
     ]
    }
   ],
   "source": [
    "%%time\n",
    "df_train = df_train.fillna(0)\n",
    "df_train.replace(to_replace=np.nan, value=0, inplace=True)\n",
    "\n",
    "df_test = df_test.fillna(0)\n",
    "df_test.replace(to_replace=np.nan, value=0, inplace=True)\n",
    "\n",
    "df_train.to_csv(path + 'train_dropped.csv')\n",
    "df_test.to_csv(path + 'test_dropped.csv')"
   ]
  },
  {
   "cell_type": "markdown",
   "metadata": {},
   "source": [
    "# process columns"
   ]
  },
  {
   "cell_type": "code",
   "execution_count": 1,
   "metadata": {
    "scrolled": true
   },
   "outputs": [
    {
     "name": "stdout",
     "output_type": "stream",
     "text": [
      "['test_adj.csv', 'test_dropped.csv', 'train_dropped.csv', 'user_test.csv', 'train_orig.csv', 'test_parsed.csv', 'user_test_n.csv', 'train_parsed.csv', 'train_adj.csv', 'test_orig.csv', 'user_train.csv', 'user_train_n.csv']\n"
     ]
    }
   ],
   "source": [
    "import os\n",
    "import json\n",
    "import numpy as np\n",
    "import pandas as pd\n",
    "from pandas.io.json import json_normalize\n",
    "from sklearn.preprocessing import LabelEncoder\n",
    "\n",
    "path = '../data/'\n",
    "print(os.listdir(path))"
   ]
  },
  {
   "cell_type": "code",
   "execution_count": 2,
   "metadata": {},
   "outputs": [
    {
     "name": "stdout",
     "output_type": "stream",
     "text": [
      "CPU times: user 9.28 s, sys: 501 ms, total: 9.78 s\n",
      "Wall time: 9.47 s\n"
     ]
    }
   ],
   "source": [
    "%%time\n",
    "df_train = pd.read_csv(path +'train_dropped.csv', index_col = 0, dtype={'fullVisitorId': 'str'})\n",
    "df_test = pd.read_csv(path +'test_dropped.csv', index_col = 0, dtype={'fullVisitorId': 'str'})"
   ]
  },
  {
   "cell_type": "markdown",
   "metadata": {
    "_uuid": "073dad5a0d127383ed96406b2b2a6de70cd10272"
   },
   "source": [
    "## only for train dataset"
   ]
  },
  {
   "cell_type": "code",
   "execution_count": 3,
   "metadata": {
    "_uuid": "337145bd03ef1d0bcfadb9ec4b5dbc54b4202b34"
   },
   "outputs": [],
   "source": [
    "# to float and log\n",
    "df_train['transactionRevenue'] = df_train['transactionRevenue'].astype(float)\n",
    "df_train['transactionRevenue'] = np.log1p(df_train['transactionRevenue'].fillna(0))\n"
   ]
  },
  {
   "cell_type": "markdown",
   "metadata": {},
   "source": [
    "## to both train and test datasets"
   ]
  },
  {
   "cell_type": "code",
   "execution_count": 4,
   "metadata": {
    "scrolled": true
   },
   "outputs": [
    {
     "name": "stdout",
     "output_type": "stream",
     "text": [
      "(903653, 30) (804684, 30)\n",
      "Index(['adwordsClickInfo.adNetworkType', 'adwordsClickInfo.isVideoAd',\n",
      "       'adwordsClickInfo.page', 'adwordsClickInfo.slot', 'browser', 'campaign',\n",
      "       'channelGrouping', 'city', 'continent', 'country', 'date',\n",
      "       'deviceCategory', 'fullVisitorId', 'hits', 'isMobile', 'isTrueDirect',\n",
      "       'keyword', 'medium', 'metro', 'networkDomain', 'operatingSystem',\n",
      "       'pageviews', 'region', 'sessionId', 'source', 'subContinent',\n",
      "       'transactionRevenue', 'visitId', 'visitNumber', 'visitStartTime'],\n",
      "      dtype='object')\n"
     ]
    }
   ],
   "source": [
    "print(df_train.shape,df_test.shape)\n",
    "print(df_train.columns)"
   ]
  },
  {
   "cell_type": "markdown",
   "metadata": {},
   "source": [
    "### trim items too minor"
   ]
  },
  {
   "cell_type": "code",
   "execution_count": 5,
   "metadata": {},
   "outputs": [],
   "source": [
    "def grpMinorItems(df, col, N):\n",
    "    l_top = df[col].value_counts().index[:N].tolist()\n",
    "    df[col] = df[col].apply(lambda x: x if x in l_top else col + '_minor')\n",
    "    return df"
   ]
  },
  {
   "cell_type": "code",
   "execution_count": 6,
   "metadata": {},
   "outputs": [
    {
     "name": "stdout",
     "output_type": "stream",
     "text": [
      "['browser', 'campaign', 'channelGrouping', 'city', 'continent', 'country', 'keyword', 'medium', 'metro', 'networkDomain', 'operatingSystem', 'region', 'source', 'subContinent']\n",
      "CPU times: user 3.56 s, sys: 56.2 ms, total: 3.62 s\n",
      "Wall time: 3.19 s\n"
     ]
    }
   ],
   "source": [
    "%%time\n",
    "n_top = 5\n",
    "l_col = []\n",
    "dont_touch = ['fullVisitorId','sessionId']\n",
    "\n",
    "for x in df_train.select_dtypes('object').columns:\n",
    "    if len(df_train[x].value_counts().index) > n_top:\n",
    "        l_col.append(x)\n",
    "\n",
    "l_col = [x for x in l_col if x not in dont_touch]\n",
    "print(l_col)"
   ]
  },
  {
   "cell_type": "code",
   "execution_count": 57,
   "metadata": {
    "scrolled": true
   },
   "outputs": [
    {
     "name": "stdout",
     "output_type": "stream",
     "text": [
      "CPU times: user 7.42 s, sys: 55.4 ms, total: 7.47 s\n",
      "Wall time: 7.48 s\n"
     ]
    }
   ],
   "source": [
    "%%time\n",
    "for x in l_col:\n",
    "    df_train = grpMinorItems(df_train,x,n_top)\n",
    "    df_test = grpMinorItems(df_test,x,n_top)\n"
   ]
  },
  {
   "cell_type": "code",
   "execution_count": 59,
   "metadata": {},
   "outputs": [
    {
     "data": {
      "text/plain": [
       "adwordsClickInfo.adNetworkType         3\n",
       "adwordsClickInfo.isVideoAd             2\n",
       "adwordsClickInfo.page                  9\n",
       "adwordsClickInfo.slot                  3\n",
       "browser                                6\n",
       "campaign                               6\n",
       "channelGrouping                        6\n",
       "city                                   6\n",
       "continent                              6\n",
       "country                                6\n",
       "date                                 366\n",
       "deviceCategory                         3\n",
       "fullVisitorId                     714167\n",
       "hits                                 274\n",
       "isMobile                               2\n",
       "isTrueDirect                           2\n",
       "keyword                                6\n",
       "medium                                 6\n",
       "metro                                  6\n",
       "networkDomain                          6\n",
       "operatingSystem                        6\n",
       "pageviews                            214\n",
       "region                                 6\n",
       "sessionId                         902755\n",
       "source                                 6\n",
       "subContinent                           6\n",
       "transactionRevenue                  5333\n",
       "visitId                           886303\n",
       "visitNumber                          384\n",
       "visitStartTime                    887159\n",
       "dtype: int64"
      ]
     },
     "execution_count": 59,
     "metadata": {},
     "output_type": "execute_result"
    }
   ],
   "source": [
    "df_train.nunique()"
   ]
  },
  {
   "cell_type": "markdown",
   "metadata": {},
   "source": [
    "### manually delete columns"
   ]
  },
  {
   "cell_type": "code",
   "execution_count": 60,
   "metadata": {},
   "outputs": [
    {
     "name": "stdout",
     "output_type": "stream",
     "text": [
      "CPU times: user 704 ms, sys: 192 ms, total: 896 ms\n",
      "Wall time: 895 ms\n"
     ]
    }
   ],
   "source": [
    "%%time\n",
    "\n",
    "del_cols = ['sessionId','visitId','visitStartTime']\n",
    "\n",
    "for x in del_cols:\n",
    "    df_train.drop(x, axis=1, inplace=True)\n",
    "    df_test.drop(x, axis=1, inplace=True)\n"
   ]
  },
  {
   "cell_type": "code",
   "execution_count": 61,
   "metadata": {},
   "outputs": [
    {
     "name": "stdout",
     "output_type": "stream",
     "text": [
      "(903653, 27) (804684, 27)\n"
     ]
    }
   ],
   "source": [
    "print(df_train.shape,df_test.shape)"
   ]
  },
  {
   "cell_type": "markdown",
   "metadata": {},
   "source": [
    "### analyze date"
   ]
  },
  {
   "cell_type": "code",
   "execution_count": 62,
   "metadata": {},
   "outputs": [
    {
     "name": "stdout",
     "output_type": "stream",
     "text": [
      "CPU times: user 3.26 s, sys: 56 ms, total: 3.32 s\n",
      "Wall time: 2.59 s\n"
     ]
    }
   ],
   "source": [
    "%%time\n",
    "def dateCol(df):\n",
    "\n",
    "    df['date'] = pd.to_datetime(df['date'].apply(lambda x: str(x)[:4] + '-' + str(x)[4:6] + '-' + str(x)[6:]))\n",
    "    df['month'] = df['date'].dt.month\n",
    "    df['weekday'] = df['date'].dt.weekday\n",
    "    df['weekend'] = df['weekday'].apply(lambda x: 1 if x>=5 else 0)\n",
    "    \n",
    "    return df\n",
    "\n",
    "df_train = dateCol(df_train)\n",
    "df_test = dateCol(df_test)"
   ]
  },
  {
   "cell_type": "markdown",
   "metadata": {},
   "source": [
    "### access count column"
   ]
  },
  {
   "cell_type": "code",
   "execution_count": 63,
   "metadata": {
    "scrolled": true
   },
   "outputs": [
    {
     "name": "stdout",
     "output_type": "stream",
     "text": [
      "CPU times: user 3.55 s, sys: 27.8 ms, total: 3.58 s\n",
      "Wall time: 2.99 s\n"
     ]
    }
   ],
   "source": [
    "%%time\n",
    "def userCount(df):\n",
    "    df['cnt_per_day'] = df[['fullVisitorId','date']].groupby(['fullVisitorId','date'])['date'].transform('count')\n",
    "    return df\n",
    "\n",
    "df_train = userCount(df_train)\n",
    "df_test = userCount(df_test)"
   ]
  },
  {
   "cell_type": "markdown",
   "metadata": {},
   "source": [
    "### category string to numbers"
   ]
  },
  {
   "cell_type": "code",
   "execution_count": 64,
   "metadata": {},
   "outputs": [
    {
     "data": {
      "text/plain": [
       "['adwordsClickInfo.adNetworkType',\n",
       " 'adwordsClickInfo.isVideoAd',\n",
       " 'adwordsClickInfo.slot',\n",
       " 'browser',\n",
       " 'campaign',\n",
       " 'channelGrouping',\n",
       " 'city',\n",
       " 'continent',\n",
       " 'country',\n",
       " 'deviceCategory',\n",
       " 'isMobile',\n",
       " 'isTrueDirect',\n",
       " 'keyword',\n",
       " 'medium',\n",
       " 'metro',\n",
       " 'networkDomain',\n",
       " 'operatingSystem',\n",
       " 'region',\n",
       " 'source',\n",
       " 'subContinent']"
      ]
     },
     "execution_count": 64,
     "metadata": {},
     "output_type": "execute_result"
    }
   ],
   "source": [
    "no_touch = ['fullVisitorId','transactionRevenue']\n",
    "cat_cols = [x for x in df_train.columns if df_train[x].dtypes == 'object' or df_train[x].dtypes == 'bool']\n",
    "cat_cols = [x for x in cat_cols if df_train[x].nunique() <= 100]\n",
    "cat_cols = [x for x in cat_cols if x not in no_touch]\n",
    "\n",
    "cat_cols"
   ]
  },
  {
   "cell_type": "code",
   "execution_count": 65,
   "metadata": {
    "scrolled": true
   },
   "outputs": [
    {
     "name": "stdout",
     "output_type": "stream",
     "text": [
      "CPU times: user 1min 24s, sys: 10 s, total: 1min 34s\n",
      "Wall time: 1min 14s\n"
     ]
    }
   ],
   "source": [
    "%%time\n",
    "\n",
    "for col in cat_cols:\n",
    "    lbl = LabelEncoder()\n",
    "    lbl.fit(list(df_train[col].values.astype('str')) + list(df_test[col].values.astype('str')))\n",
    "    df_train[col] = lbl.transform(list(df_train[col].values.astype('str')))\n",
    "    df_test[col] = lbl.transform(list(df_test[col].values.astype('str')))\n"
   ]
  },
  {
   "cell_type": "code",
   "execution_count": 66,
   "metadata": {},
   "outputs": [
    {
     "name": "stdout",
     "output_type": "stream",
     "text": [
      "CPU times: user 378 ms, sys: 576 ms, total: 955 ms\n",
      "Wall time: 481 ms\n"
     ]
    }
   ],
   "source": [
    "%%time\n",
    "l = {}\n",
    "for x in df_train.columns:\n",
    "    l[x] = x.replace(' ','').replace('(','').replace(')','').replace('-','')[:20]\n",
    "\n",
    "df_train = df_train.rename(columns=l)\n",
    "df_test = df_test.rename(columns=l)\n",
    "\n"
   ]
  },
  {
   "cell_type": "code",
   "execution_count": 67,
   "metadata": {
    "scrolled": true
   },
   "outputs": [
    {
     "data": {
      "text/plain": [
       "['adwordsClickInfo.adN',\n",
       " 'adwordsClickInfo.isV',\n",
       " 'adwordsClickInfo.pag',\n",
       " 'adwordsClickInfo.slo',\n",
       " 'browser',\n",
       " 'campaign',\n",
       " 'channelGrouping',\n",
       " 'city',\n",
       " 'continent',\n",
       " 'country',\n",
       " 'deviceCategory',\n",
       " 'hits',\n",
       " 'isMobile',\n",
       " 'isTrueDirect',\n",
       " 'keyword',\n",
       " 'medium',\n",
       " 'metro',\n",
       " 'networkDomain',\n",
       " 'operatingSystem',\n",
       " 'pageviews',\n",
       " 'region',\n",
       " 'source',\n",
       " 'subContinent',\n",
       " 'visitNumber',\n",
       " 'month',\n",
       " 'weekday',\n",
       " 'weekend',\n",
       " 'cnt_per_day']"
      ]
     },
     "execution_count": 67,
     "metadata": {},
     "output_type": "execute_result"
    }
   ],
   "source": [
    "no_touch = ['fullVisitorId','transactionRevenue','date']\n",
    "l_float = [x for x in df_train.columns if x not in no_touch]\n",
    "l_float"
   ]
  },
  {
   "cell_type": "code",
   "execution_count": 68,
   "metadata": {},
   "outputs": [
    {
     "name": "stdout",
     "output_type": "stream",
     "text": [
      "CPU times: user 9.11 s, sys: 2.38 s, total: 11.5 s\n",
      "Wall time: 6.26 s\n"
     ]
    }
   ],
   "source": [
    "%%time\n",
    "\n",
    "df_train[l_float] = df_train[l_float].values.astype('float')\n",
    "df_test[l_float] = df_test[l_float].values.astype('float')"
   ]
  },
  {
   "cell_type": "code",
   "execution_count": 69,
   "metadata": {},
   "outputs": [
    {
     "data": {
      "text/plain": [
       "((903653, 31), (804684, 31))"
      ]
     },
     "execution_count": 69,
     "metadata": {},
     "output_type": "execute_result"
    }
   ],
   "source": [
    "df_train.shape, df_test.shape"
   ]
  },
  {
   "cell_type": "markdown",
   "metadata": {},
   "source": [
    "### save adjusted DFs"
   ]
  },
  {
   "cell_type": "code",
   "execution_count": 70,
   "metadata": {
    "_uuid": "ae3e561aa4b02f0c0f5585ecbf7e39d163605930"
   },
   "outputs": [
    {
     "name": "stdout",
     "output_type": "stream",
     "text": [
      "CPU times: user 33.1 s, sys: 278 ms, total: 33.4 s\n",
      "Wall time: 33.5 s\n"
     ]
    }
   ],
   "source": [
    "%%time\n",
    "df_train.to_csv(path + 'train_adj.csv')\n",
    "df_test.to_csv(path + 'test_adj.csv')"
   ]
  },
  {
   "cell_type": "code",
   "execution_count": 71,
   "metadata": {},
   "outputs": [
    {
     "name": "stdout",
     "output_type": "stream",
     "text": [
      "<class 'pandas.core.frame.DataFrame'>\n",
      "Int64Index: 903653 entries, 0 to 903652\n",
      "Data columns (total 31 columns):\n",
      "adwordsClickInfo.adN    903653 non-null float64\n",
      "adwordsClickInfo.isV    903653 non-null float64\n",
      "adwordsClickInfo.pag    903653 non-null float64\n",
      "adwordsClickInfo.slo    903653 non-null float64\n",
      "browser                 903653 non-null float64\n",
      "campaign                903653 non-null float64\n",
      "channelGrouping         903653 non-null float64\n",
      "city                    903653 non-null float64\n",
      "continent               903653 non-null float64\n",
      "country                 903653 non-null float64\n",
      "date                    903653 non-null datetime64[ns]\n",
      "deviceCategory          903653 non-null float64\n",
      "fullVisitorId           903653 non-null object\n",
      "hits                    903653 non-null float64\n",
      "isMobile                903653 non-null float64\n",
      "isTrueDirect            903653 non-null float64\n",
      "keyword                 903653 non-null float64\n",
      "medium                  903653 non-null float64\n",
      "metro                   903653 non-null float64\n",
      "networkDomain           903653 non-null float64\n",
      "operatingSystem         903653 non-null float64\n",
      "pageviews               903653 non-null float64\n",
      "region                  903653 non-null float64\n",
      "source                  903653 non-null float64\n",
      "subContinent            903653 non-null float64\n",
      "transactionRevenue      903653 non-null float64\n",
      "visitNumber             903653 non-null float64\n",
      "month                   903653 non-null float64\n",
      "weekday                 903653 non-null float64\n",
      "weekend                 903653 non-null float64\n",
      "cnt_per_day             903653 non-null float64\n",
      "dtypes: datetime64[ns](1), float64(29), object(1)\n",
      "memory usage: 220.6+ MB\n"
     ]
    }
   ],
   "source": [
    "df_train.info()"
   ]
  },
  {
   "cell_type": "markdown",
   "metadata": {},
   "source": [
    "# create new dataset: aggregated by users"
   ]
  },
  {
   "cell_type": "code",
   "execution_count": 72,
   "metadata": {
    "scrolled": true
   },
   "outputs": [
    {
     "name": "stdout",
     "output_type": "stream",
     "text": [
      "['test_adj.csv', 'test_dropped.csv', 'train_dropped.csv', 'user_test.csv', 'train_orig.csv', 'test_parsed.csv', 'user_test_n.csv', 'train_parsed.csv', 'train_adj.csv', 'test_orig.csv', 'user_train.csv', 'user_train_n.csv']\n"
     ]
    }
   ],
   "source": [
    "import os\n",
    "import json\n",
    "import numpy as np\n",
    "import pandas as pd\n",
    "from pandas.io.json import json_normalize\n",
    "from sklearn.preprocessing import LabelEncoder\n",
    "\n",
    "path = '../data/'\n",
    "print(os.listdir(path))"
   ]
  },
  {
   "cell_type": "code",
   "execution_count": 73,
   "metadata": {},
   "outputs": [
    {
     "name": "stdout",
     "output_type": "stream",
     "text": [
      "CPU times: user 5.23 s, sys: 320 ms, total: 5.55 s\n",
      "Wall time: 5.23 s\n"
     ]
    }
   ],
   "source": [
    "%%time\n",
    "df_train = pd.read_csv(path +'train_adj.csv', index_col = 0, dtype={'fullVisitorId': 'str'})\n",
    "df_test = pd.read_csv(path +'test_adj.csv', index_col = 0, dtype={'fullVisitorId': 'str'})"
   ]
  },
  {
   "cell_type": "code",
   "execution_count": 74,
   "metadata": {},
   "outputs": [
    {
     "data": {
      "text/plain": [
       "((903653, 31), (804684, 31))"
      ]
     },
     "execution_count": 74,
     "metadata": {},
     "output_type": "execute_result"
    }
   ],
   "source": [
    "df_train.shape, df_test.shape"
   ]
  },
  {
   "cell_type": "code",
   "execution_count": 75,
   "metadata": {},
   "outputs": [],
   "source": [
    "def statCols(df):\n",
    "    df['access_Days'] = df.groupby(['fullVisitorId','date'])['date'].transform('count')\n",
    "    \n",
    "    df['avg_hitperDay'] = df.groupby(['fullVisitorId','date'])['hits'].transform('mean')\n",
    "    df['ttl_hitbyUser'] = df.groupby(['fullVisitorId'])['hits'].transform('sum')\n",
    "\n",
    "    df['avg_viewperDay'] = df.groupby(['fullVisitorId','date'])['pageviews'].transform('mean')\n",
    "    df['ttl_viewbyUser'] = df.groupby(['fullVisitorId'])['pageviews'].transform('sum')\n",
    "\n",
    "    return df"
   ]
  },
  {
   "cell_type": "code",
   "execution_count": 76,
   "metadata": {},
   "outputs": [
    {
     "name": "stdout",
     "output_type": "stream",
     "text": [
      "CPU times: user 17.2 s, sys: 876 ms, total: 18 s\n",
      "Wall time: 14.8 s\n"
     ]
    }
   ],
   "source": [
    "%%time\n",
    "df_train = statCols(df_train)\n",
    "df_test = statCols(df_test)"
   ]
  },
  {
   "cell_type": "code",
   "execution_count": 77,
   "metadata": {},
   "outputs": [
    {
     "data": {
      "text/html": [
       "<div>\n",
       "<style scoped>\n",
       "    .dataframe tbody tr th:only-of-type {\n",
       "        vertical-align: middle;\n",
       "    }\n",
       "\n",
       "    .dataframe tbody tr th {\n",
       "        vertical-align: top;\n",
       "    }\n",
       "\n",
       "    .dataframe thead th {\n",
       "        text-align: right;\n",
       "    }\n",
       "</style>\n",
       "<table border=\"1\" class=\"dataframe\">\n",
       "  <thead>\n",
       "    <tr style=\"text-align: right;\">\n",
       "      <th></th>\n",
       "      <th>adwordsClickInfo.adN</th>\n",
       "      <th>adwordsClickInfo.isV</th>\n",
       "      <th>adwordsClickInfo.pag</th>\n",
       "      <th>adwordsClickInfo.slo</th>\n",
       "      <th>browser</th>\n",
       "      <th>campaign</th>\n",
       "      <th>channelGrouping</th>\n",
       "      <th>city</th>\n",
       "      <th>continent</th>\n",
       "      <th>country</th>\n",
       "      <th>...</th>\n",
       "      <th>visitNumber</th>\n",
       "      <th>month</th>\n",
       "      <th>weekday</th>\n",
       "      <th>weekend</th>\n",
       "      <th>cnt_per_day</th>\n",
       "      <th>access_Days</th>\n",
       "      <th>avg_hitperDay</th>\n",
       "      <th>ttl_hitbyUser</th>\n",
       "      <th>avg_viewperDay</th>\n",
       "      <th>ttl_viewbyUser</th>\n",
       "    </tr>\n",
       "  </thead>\n",
       "  <tbody>\n",
       "    <tr>\n",
       "      <th>count</th>\n",
       "      <td>903653.000000</td>\n",
       "      <td>903653.000000</td>\n",
       "      <td>903653.000000</td>\n",
       "      <td>903653.000000</td>\n",
       "      <td>903653.000000</td>\n",
       "      <td>903653.000000</td>\n",
       "      <td>903653.000000</td>\n",
       "      <td>903653.000000</td>\n",
       "      <td>903653.000000</td>\n",
       "      <td>903653.000000</td>\n",
       "      <td>...</td>\n",
       "      <td>903653.000000</td>\n",
       "      <td>903653.000000</td>\n",
       "      <td>903653.000000</td>\n",
       "      <td>903653.000000</td>\n",
       "      <td>903653.000000</td>\n",
       "      <td>903653.000000</td>\n",
       "      <td>903653.000000</td>\n",
       "      <td>903653.000000</td>\n",
       "      <td>903653.000000</td>\n",
       "      <td>903653.000000</td>\n",
       "    </tr>\n",
       "    <tr>\n",
       "      <th>mean</th>\n",
       "      <td>0.047504</td>\n",
       "      <td>0.023748</td>\n",
       "      <td>0.023941</td>\n",
       "      <td>0.070686</td>\n",
       "      <td>2.154672</td>\n",
       "      <td>0.181626</td>\n",
       "      <td>2.795041</td>\n",
       "      <td>4.194165</td>\n",
       "      <td>1.726616</td>\n",
       "      <td>4.643241</td>\n",
       "      <td>...</td>\n",
       "      <td>2.264897</td>\n",
       "      <td>6.987671</td>\n",
       "      <td>2.735183</td>\n",
       "      <td>0.219117</td>\n",
       "      <td>1.193563</td>\n",
       "      <td>1.193563</td>\n",
       "      <td>4.596538</td>\n",
       "      <td>18.775357</td>\n",
       "      <td>3.849338</td>\n",
       "      <td>15.311467</td>\n",
       "    </tr>\n",
       "    <tr>\n",
       "      <th>std</th>\n",
       "      <td>0.304589</td>\n",
       "      <td>0.152263</td>\n",
       "      <td>0.155811</td>\n",
       "      <td>0.453814</td>\n",
       "      <td>1.792610</td>\n",
       "      <td>0.878937</td>\n",
       "      <td>1.774419</td>\n",
       "      <td>1.295288</td>\n",
       "      <td>0.888616</td>\n",
       "      <td>1.452390</td>\n",
       "      <td>...</td>\n",
       "      <td>9.283735</td>\n",
       "      <td>3.484576</td>\n",
       "      <td>1.929072</td>\n",
       "      <td>0.413649</td>\n",
       "      <td>0.611397</td>\n",
       "      <td>0.611397</td>\n",
       "      <td>9.027772</td>\n",
       "      <td>123.174505</td>\n",
       "      <td>6.587883</td>\n",
       "      <td>100.218298</td>\n",
       "    </tr>\n",
       "    <tr>\n",
       "      <th>min</th>\n",
       "      <td>0.000000</td>\n",
       "      <td>0.000000</td>\n",
       "      <td>0.000000</td>\n",
       "      <td>0.000000</td>\n",
       "      <td>1.000000</td>\n",
       "      <td>0.000000</td>\n",
       "      <td>0.000000</td>\n",
       "      <td>0.000000</td>\n",
       "      <td>0.000000</td>\n",
       "      <td>0.000000</td>\n",
       "      <td>...</td>\n",
       "      <td>1.000000</td>\n",
       "      <td>1.000000</td>\n",
       "      <td>0.000000</td>\n",
       "      <td>0.000000</td>\n",
       "      <td>1.000000</td>\n",
       "      <td>1.000000</td>\n",
       "      <td>1.000000</td>\n",
       "      <td>1.000000</td>\n",
       "      <td>0.000000</td>\n",
       "      <td>0.000000</td>\n",
       "    </tr>\n",
       "    <tr>\n",
       "      <th>25%</th>\n",
       "      <td>0.000000</td>\n",
       "      <td>0.000000</td>\n",
       "      <td>0.000000</td>\n",
       "      <td>0.000000</td>\n",
       "      <td>1.000000</td>\n",
       "      <td>0.000000</td>\n",
       "      <td>2.000000</td>\n",
       "      <td>4.000000</td>\n",
       "      <td>1.000000</td>\n",
       "      <td>4.000000</td>\n",
       "      <td>...</td>\n",
       "      <td>1.000000</td>\n",
       "      <td>4.000000</td>\n",
       "      <td>1.000000</td>\n",
       "      <td>0.000000</td>\n",
       "      <td>1.000000</td>\n",
       "      <td>1.000000</td>\n",
       "      <td>1.000000</td>\n",
       "      <td>1.000000</td>\n",
       "      <td>1.000000</td>\n",
       "      <td>1.000000</td>\n",
       "    </tr>\n",
       "    <tr>\n",
       "      <th>50%</th>\n",
       "      <td>0.000000</td>\n",
       "      <td>0.000000</td>\n",
       "      <td>0.000000</td>\n",
       "      <td>0.000000</td>\n",
       "      <td>1.000000</td>\n",
       "      <td>0.000000</td>\n",
       "      <td>2.000000</td>\n",
       "      <td>5.000000</td>\n",
       "      <td>1.000000</td>\n",
       "      <td>4.000000</td>\n",
       "      <td>...</td>\n",
       "      <td>1.000000</td>\n",
       "      <td>7.000000</td>\n",
       "      <td>3.000000</td>\n",
       "      <td>0.000000</td>\n",
       "      <td>1.000000</td>\n",
       "      <td>1.000000</td>\n",
       "      <td>2.000000</td>\n",
       "      <td>2.000000</td>\n",
       "      <td>2.000000</td>\n",
       "      <td>2.000000</td>\n",
       "    </tr>\n",
       "    <tr>\n",
       "      <th>75%</th>\n",
       "      <td>0.000000</td>\n",
       "      <td>0.000000</td>\n",
       "      <td>0.000000</td>\n",
       "      <td>0.000000</td>\n",
       "      <td>4.000000</td>\n",
       "      <td>0.000000</td>\n",
       "      <td>5.000000</td>\n",
       "      <td>5.000000</td>\n",
       "      <td>2.000000</td>\n",
       "      <td>6.000000</td>\n",
       "      <td>...</td>\n",
       "      <td>1.000000</td>\n",
       "      <td>10.000000</td>\n",
       "      <td>4.000000</td>\n",
       "      <td>0.000000</td>\n",
       "      <td>1.000000</td>\n",
       "      <td>1.000000</td>\n",
       "      <td>4.000000</td>\n",
       "      <td>9.000000</td>\n",
       "      <td>4.000000</td>\n",
       "      <td>8.000000</td>\n",
       "    </tr>\n",
       "    <tr>\n",
       "      <th>max</th>\n",
       "      <td>3.000000</td>\n",
       "      <td>1.000000</td>\n",
       "      <td>14.000000</td>\n",
       "      <td>3.000000</td>\n",
       "      <td>6.000000</td>\n",
       "      <td>7.000000</td>\n",
       "      <td>6.000000</td>\n",
       "      <td>5.000000</td>\n",
       "      <td>5.000000</td>\n",
       "      <td>6.000000</td>\n",
       "      <td>...</td>\n",
       "      <td>395.000000</td>\n",
       "      <td>12.000000</td>\n",
       "      <td>6.000000</td>\n",
       "      <td>1.000000</td>\n",
       "      <td>32.000000</td>\n",
       "      <td>32.000000</td>\n",
       "      <td>500.000000</td>\n",
       "      <td>4995.000000</td>\n",
       "      <td>466.000000</td>\n",
       "      <td>4160.000000</td>\n",
       "    </tr>\n",
       "  </tbody>\n",
       "</table>\n",
       "<p>8 rows × 34 columns</p>\n",
       "</div>"
      ],
      "text/plain": [
       "       adwordsClickInfo.adN  adwordsClickInfo.isV  adwordsClickInfo.pag  \\\n",
       "count         903653.000000         903653.000000         903653.000000   \n",
       "mean               0.047504              0.023748              0.023941   \n",
       "std                0.304589              0.152263              0.155811   \n",
       "min                0.000000              0.000000              0.000000   \n",
       "25%                0.000000              0.000000              0.000000   \n",
       "50%                0.000000              0.000000              0.000000   \n",
       "75%                0.000000              0.000000              0.000000   \n",
       "max                3.000000              1.000000             14.000000   \n",
       "\n",
       "       adwordsClickInfo.slo        browser       campaign  channelGrouping  \\\n",
       "count         903653.000000  903653.000000  903653.000000    903653.000000   \n",
       "mean               0.070686       2.154672       0.181626         2.795041   \n",
       "std                0.453814       1.792610       0.878937         1.774419   \n",
       "min                0.000000       1.000000       0.000000         0.000000   \n",
       "25%                0.000000       1.000000       0.000000         2.000000   \n",
       "50%                0.000000       1.000000       0.000000         2.000000   \n",
       "75%                0.000000       4.000000       0.000000         5.000000   \n",
       "max                3.000000       6.000000       7.000000         6.000000   \n",
       "\n",
       "                city      continent        country       ...        \\\n",
       "count  903653.000000  903653.000000  903653.000000       ...         \n",
       "mean        4.194165       1.726616       4.643241       ...         \n",
       "std         1.295288       0.888616       1.452390       ...         \n",
       "min         0.000000       0.000000       0.000000       ...         \n",
       "25%         4.000000       1.000000       4.000000       ...         \n",
       "50%         5.000000       1.000000       4.000000       ...         \n",
       "75%         5.000000       2.000000       6.000000       ...         \n",
       "max         5.000000       5.000000       6.000000       ...         \n",
       "\n",
       "         visitNumber          month        weekday        weekend  \\\n",
       "count  903653.000000  903653.000000  903653.000000  903653.000000   \n",
       "mean        2.264897       6.987671       2.735183       0.219117   \n",
       "std         9.283735       3.484576       1.929072       0.413649   \n",
       "min         1.000000       1.000000       0.000000       0.000000   \n",
       "25%         1.000000       4.000000       1.000000       0.000000   \n",
       "50%         1.000000       7.000000       3.000000       0.000000   \n",
       "75%         1.000000      10.000000       4.000000       0.000000   \n",
       "max       395.000000      12.000000       6.000000       1.000000   \n",
       "\n",
       "         cnt_per_day    access_Days  avg_hitperDay  ttl_hitbyUser  \\\n",
       "count  903653.000000  903653.000000  903653.000000  903653.000000   \n",
       "mean        1.193563       1.193563       4.596538      18.775357   \n",
       "std         0.611397       0.611397       9.027772     123.174505   \n",
       "min         1.000000       1.000000       1.000000       1.000000   \n",
       "25%         1.000000       1.000000       1.000000       1.000000   \n",
       "50%         1.000000       1.000000       2.000000       2.000000   \n",
       "75%         1.000000       1.000000       4.000000       9.000000   \n",
       "max        32.000000      32.000000     500.000000    4995.000000   \n",
       "\n",
       "       avg_viewperDay  ttl_viewbyUser  \n",
       "count   903653.000000   903653.000000  \n",
       "mean         3.849338       15.311467  \n",
       "std          6.587883      100.218298  \n",
       "min          0.000000        0.000000  \n",
       "25%          1.000000        1.000000  \n",
       "50%          2.000000        2.000000  \n",
       "75%          4.000000        8.000000  \n",
       "max        466.000000     4160.000000  \n",
       "\n",
       "[8 rows x 34 columns]"
      ]
     },
     "execution_count": 77,
     "metadata": {},
     "output_type": "execute_result"
    }
   ],
   "source": [
    "df_train.describe()"
   ]
  },
  {
   "cell_type": "code",
   "execution_count": 78,
   "metadata": {},
   "outputs": [],
   "source": [
    "def aggregate_by_users(df):\n",
    "    users = df.groupby(['fullVisitorId']).agg('mean')\n",
    "    users['transactionRevenue'] = df.groupby(['fullVisitorId'])['transactionRevenue'].agg('sum')\n",
    "    users['hits'] = df.groupby(['fullVisitorId'])['hits'].agg('sum')\n",
    "    users['pageviews'] = df.groupby(['fullVisitorId'])['pageviews'].agg('sum')\n",
    "    users['month_min'] = df.groupby(['fullVisitorId'])['month'].agg('min')\n",
    "    users['month_max'] = df.groupby(['fullVisitorId'])['month'].agg('max')\n",
    "    users['weekend_min'] = df.groupby(['fullVisitorId'])['weekend'].agg('min')\n",
    "    users['weekend_max'] = df.groupby(['fullVisitorId'])['weekend'].agg('max')\n",
    "    return users\n"
   ]
  },
  {
   "cell_type": "code",
   "execution_count": 79,
   "metadata": {
    "_uuid": "02cd97d01427fd0b675ec504e14328b0007eac6a",
    "scrolled": false
   },
   "outputs": [
    {
     "name": "stdout",
     "output_type": "stream",
     "text": [
      "CPU times: user 25.4 s, sys: 1.04 s, total: 26.4 s\n",
      "Wall time: 22.5 s\n"
     ]
    }
   ],
   "source": [
    "%%time\n",
    "\n",
    "df_test['transactionRevenue'] = 0\n",
    "\n",
    "df_user_train = aggregate_by_users(df_train)\n",
    "df_user_test = aggregate_by_users(df_test)\n"
   ]
  },
  {
   "cell_type": "code",
   "execution_count": 80,
   "metadata": {},
   "outputs": [
    {
     "name": "stdout",
     "output_type": "stream",
     "text": [
      "(903653, 36) (804684, 36)\n",
      "714167 617242\n",
      "(714167, 38) (617242, 38)\n"
     ]
    }
   ],
   "source": [
    "print(df_train.shape,df_test.shape)\n",
    "print(df_train.fullVisitorId.nunique(),df_test.fullVisitorId.nunique())\n",
    "print(df_user_train.shape,df_user_test.shape)\n"
   ]
  },
  {
   "cell_type": "code",
   "execution_count": 81,
   "metadata": {},
   "outputs": [
    {
     "data": {
      "text/html": [
       "<div>\n",
       "<style scoped>\n",
       "    .dataframe tbody tr th:only-of-type {\n",
       "        vertical-align: middle;\n",
       "    }\n",
       "\n",
       "    .dataframe tbody tr th {\n",
       "        vertical-align: top;\n",
       "    }\n",
       "\n",
       "    .dataframe thead th {\n",
       "        text-align: right;\n",
       "    }\n",
       "</style>\n",
       "<table border=\"1\" class=\"dataframe\">\n",
       "  <thead>\n",
       "    <tr style=\"text-align: right;\">\n",
       "      <th></th>\n",
       "      <th>adwordsClickInfo.adN</th>\n",
       "      <th>adwordsClickInfo.isV</th>\n",
       "      <th>adwordsClickInfo.pag</th>\n",
       "      <th>adwordsClickInfo.slo</th>\n",
       "      <th>browser</th>\n",
       "      <th>campaign</th>\n",
       "      <th>channelGrouping</th>\n",
       "      <th>city</th>\n",
       "      <th>continent</th>\n",
       "      <th>country</th>\n",
       "      <th>...</th>\n",
       "      <th>cnt_per_day</th>\n",
       "      <th>access_Days</th>\n",
       "      <th>avg_hitperDay</th>\n",
       "      <th>ttl_hitbyUser</th>\n",
       "      <th>avg_viewperDay</th>\n",
       "      <th>ttl_viewbyUser</th>\n",
       "      <th>month_min</th>\n",
       "      <th>month_max</th>\n",
       "      <th>weekend_min</th>\n",
       "      <th>weekend_max</th>\n",
       "    </tr>\n",
       "  </thead>\n",
       "  <tbody>\n",
       "    <tr>\n",
       "      <th>count</th>\n",
       "      <td>714167.000000</td>\n",
       "      <td>714167.000000</td>\n",
       "      <td>714167.000000</td>\n",
       "      <td>714167.000000</td>\n",
       "      <td>714167.000000</td>\n",
       "      <td>714167.000000</td>\n",
       "      <td>714167.000000</td>\n",
       "      <td>714167.000000</td>\n",
       "      <td>714167.000000</td>\n",
       "      <td>714167.000000</td>\n",
       "      <td>...</td>\n",
       "      <td>714167.000000</td>\n",
       "      <td>714167.000000</td>\n",
       "      <td>714167.000000</td>\n",
       "      <td>714167.000000</td>\n",
       "      <td>714167.000000</td>\n",
       "      <td>714167.000000</td>\n",
       "      <td>714167.000000</td>\n",
       "      <td>714167.000000</td>\n",
       "      <td>714167.000000</td>\n",
       "      <td>714167.000000</td>\n",
       "    </tr>\n",
       "    <tr>\n",
       "      <th>mean</th>\n",
       "      <td>0.039874</td>\n",
       "      <td>0.019934</td>\n",
       "      <td>0.020129</td>\n",
       "      <td>0.059227</td>\n",
       "      <td>2.274657</td>\n",
       "      <td>0.163012</td>\n",
       "      <td>2.870280</td>\n",
       "      <td>4.263621</td>\n",
       "      <td>1.786760</td>\n",
       "      <td>4.716682</td>\n",
       "      <td>...</td>\n",
       "      <td>1.066602</td>\n",
       "      <td>1.066602</td>\n",
       "      <td>3.917565</td>\n",
       "      <td>5.816112</td>\n",
       "      <td>3.340949</td>\n",
       "      <td>4.870662</td>\n",
       "      <td>6.983504</td>\n",
       "      <td>7.108938</td>\n",
       "      <td>0.215469</td>\n",
       "      <td>0.246599</td>\n",
       "    </tr>\n",
       "    <tr>\n",
       "      <th>std</th>\n",
       "      <td>0.270933</td>\n",
       "      <td>0.135441</td>\n",
       "      <td>0.139650</td>\n",
       "      <td>0.402953</td>\n",
       "      <td>1.845788</td>\n",
       "      <td>0.816637</td>\n",
       "      <td>1.775531</td>\n",
       "      <td>1.254160</td>\n",
       "      <td>0.896831</td>\n",
       "      <td>1.472815</td>\n",
       "      <td>...</td>\n",
       "      <td>0.289029</td>\n",
       "      <td>0.289029</td>\n",
       "      <td>7.276184</td>\n",
       "      <td>18.417008</td>\n",
       "      <td>5.350892</td>\n",
       "      <td>14.128870</td>\n",
       "      <td>3.487806</td>\n",
       "      <td>3.471920</td>\n",
       "      <td>0.411148</td>\n",
       "      <td>0.431032</td>\n",
       "    </tr>\n",
       "    <tr>\n",
       "      <th>min</th>\n",
       "      <td>0.000000</td>\n",
       "      <td>0.000000</td>\n",
       "      <td>0.000000</td>\n",
       "      <td>0.000000</td>\n",
       "      <td>1.000000</td>\n",
       "      <td>0.000000</td>\n",
       "      <td>0.000000</td>\n",
       "      <td>0.000000</td>\n",
       "      <td>0.000000</td>\n",
       "      <td>0.000000</td>\n",
       "      <td>...</td>\n",
       "      <td>1.000000</td>\n",
       "      <td>1.000000</td>\n",
       "      <td>1.000000</td>\n",
       "      <td>1.000000</td>\n",
       "      <td>0.000000</td>\n",
       "      <td>0.000000</td>\n",
       "      <td>1.000000</td>\n",
       "      <td>1.000000</td>\n",
       "      <td>0.000000</td>\n",
       "      <td>0.000000</td>\n",
       "    </tr>\n",
       "    <tr>\n",
       "      <th>25%</th>\n",
       "      <td>0.000000</td>\n",
       "      <td>0.000000</td>\n",
       "      <td>0.000000</td>\n",
       "      <td>0.000000</td>\n",
       "      <td>1.000000</td>\n",
       "      <td>0.000000</td>\n",
       "      <td>2.000000</td>\n",
       "      <td>4.000000</td>\n",
       "      <td>1.000000</td>\n",
       "      <td>4.000000</td>\n",
       "      <td>...</td>\n",
       "      <td>1.000000</td>\n",
       "      <td>1.000000</td>\n",
       "      <td>1.000000</td>\n",
       "      <td>1.000000</td>\n",
       "      <td>1.000000</td>\n",
       "      <td>1.000000</td>\n",
       "      <td>4.000000</td>\n",
       "      <td>4.000000</td>\n",
       "      <td>0.000000</td>\n",
       "      <td>0.000000</td>\n",
       "    </tr>\n",
       "    <tr>\n",
       "      <th>50%</th>\n",
       "      <td>0.000000</td>\n",
       "      <td>0.000000</td>\n",
       "      <td>0.000000</td>\n",
       "      <td>0.000000</td>\n",
       "      <td>1.000000</td>\n",
       "      <td>0.000000</td>\n",
       "      <td>2.000000</td>\n",
       "      <td>5.000000</td>\n",
       "      <td>2.000000</td>\n",
       "      <td>5.000000</td>\n",
       "      <td>...</td>\n",
       "      <td>1.000000</td>\n",
       "      <td>1.000000</td>\n",
       "      <td>1.500000</td>\n",
       "      <td>2.000000</td>\n",
       "      <td>1.333333</td>\n",
       "      <td>2.000000</td>\n",
       "      <td>7.000000</td>\n",
       "      <td>7.000000</td>\n",
       "      <td>0.000000</td>\n",
       "      <td>0.000000</td>\n",
       "    </tr>\n",
       "    <tr>\n",
       "      <th>75%</th>\n",
       "      <td>0.000000</td>\n",
       "      <td>0.000000</td>\n",
       "      <td>0.000000</td>\n",
       "      <td>0.000000</td>\n",
       "      <td>5.000000</td>\n",
       "      <td>0.000000</td>\n",
       "      <td>5.000000</td>\n",
       "      <td>5.000000</td>\n",
       "      <td>3.000000</td>\n",
       "      <td>6.000000</td>\n",
       "      <td>...</td>\n",
       "      <td>1.000000</td>\n",
       "      <td>1.000000</td>\n",
       "      <td>4.000000</td>\n",
       "      <td>4.000000</td>\n",
       "      <td>3.000000</td>\n",
       "      <td>4.000000</td>\n",
       "      <td>10.000000</td>\n",
       "      <td>10.000000</td>\n",
       "      <td>0.000000</td>\n",
       "      <td>0.000000</td>\n",
       "    </tr>\n",
       "    <tr>\n",
       "      <th>max</th>\n",
       "      <td>3.000000</td>\n",
       "      <td>1.000000</td>\n",
       "      <td>14.000000</td>\n",
       "      <td>3.000000</td>\n",
       "      <td>6.000000</td>\n",
       "      <td>7.000000</td>\n",
       "      <td>6.000000</td>\n",
       "      <td>5.000000</td>\n",
       "      <td>5.000000</td>\n",
       "      <td>6.000000</td>\n",
       "      <td>...</td>\n",
       "      <td>27.918919</td>\n",
       "      <td>27.918919</td>\n",
       "      <td>500.000000</td>\n",
       "      <td>4995.000000</td>\n",
       "      <td>466.000000</td>\n",
       "      <td>4160.000000</td>\n",
       "      <td>12.000000</td>\n",
       "      <td>12.000000</td>\n",
       "      <td>1.000000</td>\n",
       "      <td>1.000000</td>\n",
       "    </tr>\n",
       "  </tbody>\n",
       "</table>\n",
       "<p>8 rows × 38 columns</p>\n",
       "</div>"
      ],
      "text/plain": [
       "       adwordsClickInfo.adN  adwordsClickInfo.isV  adwordsClickInfo.pag  \\\n",
       "count         714167.000000         714167.000000         714167.000000   \n",
       "mean               0.039874              0.019934              0.020129   \n",
       "std                0.270933              0.135441              0.139650   \n",
       "min                0.000000              0.000000              0.000000   \n",
       "25%                0.000000              0.000000              0.000000   \n",
       "50%                0.000000              0.000000              0.000000   \n",
       "75%                0.000000              0.000000              0.000000   \n",
       "max                3.000000              1.000000             14.000000   \n",
       "\n",
       "       adwordsClickInfo.slo        browser       campaign  channelGrouping  \\\n",
       "count         714167.000000  714167.000000  714167.000000    714167.000000   \n",
       "mean               0.059227       2.274657       0.163012         2.870280   \n",
       "std                0.402953       1.845788       0.816637         1.775531   \n",
       "min                0.000000       1.000000       0.000000         0.000000   \n",
       "25%                0.000000       1.000000       0.000000         2.000000   \n",
       "50%                0.000000       1.000000       0.000000         2.000000   \n",
       "75%                0.000000       5.000000       0.000000         5.000000   \n",
       "max                3.000000       6.000000       7.000000         6.000000   \n",
       "\n",
       "                city      continent        country      ...        \\\n",
       "count  714167.000000  714167.000000  714167.000000      ...         \n",
       "mean        4.263621       1.786760       4.716682      ...         \n",
       "std         1.254160       0.896831       1.472815      ...         \n",
       "min         0.000000       0.000000       0.000000      ...         \n",
       "25%         4.000000       1.000000       4.000000      ...         \n",
       "50%         5.000000       2.000000       5.000000      ...         \n",
       "75%         5.000000       3.000000       6.000000      ...         \n",
       "max         5.000000       5.000000       6.000000      ...         \n",
       "\n",
       "         cnt_per_day    access_Days  avg_hitperDay  ttl_hitbyUser  \\\n",
       "count  714167.000000  714167.000000  714167.000000  714167.000000   \n",
       "mean        1.066602       1.066602       3.917565       5.816112   \n",
       "std         0.289029       0.289029       7.276184      18.417008   \n",
       "min         1.000000       1.000000       1.000000       1.000000   \n",
       "25%         1.000000       1.000000       1.000000       1.000000   \n",
       "50%         1.000000       1.000000       1.500000       2.000000   \n",
       "75%         1.000000       1.000000       4.000000       4.000000   \n",
       "max        27.918919      27.918919     500.000000    4995.000000   \n",
       "\n",
       "       avg_viewperDay  ttl_viewbyUser      month_min      month_max  \\\n",
       "count   714167.000000   714167.000000  714167.000000  714167.000000   \n",
       "mean         3.340949        4.870662       6.983504       7.108938   \n",
       "std          5.350892       14.128870       3.487806       3.471920   \n",
       "min          0.000000        0.000000       1.000000       1.000000   \n",
       "25%          1.000000        1.000000       4.000000       4.000000   \n",
       "50%          1.333333        2.000000       7.000000       7.000000   \n",
       "75%          3.000000        4.000000      10.000000      10.000000   \n",
       "max        466.000000     4160.000000      12.000000      12.000000   \n",
       "\n",
       "         weekend_min    weekend_max  \n",
       "count  714167.000000  714167.000000  \n",
       "mean        0.215469       0.246599  \n",
       "std         0.411148       0.431032  \n",
       "min         0.000000       0.000000  \n",
       "25%         0.000000       0.000000  \n",
       "50%         0.000000       0.000000  \n",
       "75%         0.000000       0.000000  \n",
       "max         1.000000       1.000000  \n",
       "\n",
       "[8 rows x 38 columns]"
      ]
     },
     "execution_count": 81,
     "metadata": {},
     "output_type": "execute_result"
    }
   ],
   "source": [
    "df_user_train.describe()"
   ]
  },
  {
   "cell_type": "code",
   "execution_count": 86,
   "metadata": {},
   "outputs": [
    {
     "name": "stdout",
     "output_type": "stream",
     "text": [
      "CPU times: user 28.1 s, sys: 468 ms, total: 28.6 s\n",
      "Wall time: 28.2 s\n"
     ]
    }
   ],
   "source": [
    "%%time\n",
    "df_user_train = df_user_train.fillna(0)\n",
    "df_user_test = df_user_test.fillna(0)\n",
    "\n",
    "df_user_train.to_csv(path + 'user_train.csv')\n",
    "df_user_test.to_csv(path + 'user_test.csv')"
   ]
  },
  {
   "cell_type": "markdown",
   "metadata": {},
   "source": [
    "# Normalize"
   ]
  },
  {
   "cell_type": "code",
   "execution_count": 87,
   "metadata": {
    "scrolled": true
   },
   "outputs": [
    {
     "name": "stdout",
     "output_type": "stream",
     "text": [
      "['test_adj.csv', 'test_dropped.csv', 'train_dropped.csv', 'user_test.csv', 'train_orig.csv', 'test_parsed.csv', 'user_test_n.csv', 'train_parsed.csv', 'train_adj.csv', 'test_orig.csv', 'user_train.csv', 'user_train_n.csv']\n"
     ]
    }
   ],
   "source": [
    "import os\n",
    "import json\n",
    "import numpy as np\n",
    "import pandas as pd\n",
    "from pandas.io.json import json_normalize\n",
    "from sklearn.preprocessing import LabelEncoder\n",
    "from sklearn.preprocessing import MinMaxScaler\n",
    "\n",
    "path = '../data/'\n",
    "print(os.listdir(path))"
   ]
  },
  {
   "cell_type": "code",
   "execution_count": 88,
   "metadata": {},
   "outputs": [
    {
     "name": "stdout",
     "output_type": "stream",
     "text": [
      "CPU times: user 5.34 s, sys: 192 ms, total: 5.53 s\n",
      "Wall time: 5.23 s\n"
     ]
    }
   ],
   "source": [
    "%%time\n",
    "df_user_train = pd.read_csv(path +'user_train.csv', index_col = 0, dtype={'fullVisitorId': 'str'})\n",
    "df_user_test = pd.read_csv(path +'user_test.csv', index_col = 0, dtype={'fullVisitorId': 'str'})\n"
   ]
  },
  {
   "cell_type": "code",
   "execution_count": 89,
   "metadata": {},
   "outputs": [
    {
     "name": "stdout",
     "output_type": "stream",
     "text": [
      "(714167, 38) (617242, 38)\n",
      "Index(['adwordsClickInfo.adN', 'adwordsClickInfo.isV', 'adwordsClickInfo.pag',\n",
      "       'adwordsClickInfo.slo', 'browser', 'campaign', 'channelGrouping',\n",
      "       'city', 'continent', 'country', 'deviceCategory', 'hits', 'isMobile',\n",
      "       'isTrueDirect', 'keyword', 'medium', 'metro', 'networkDomain',\n",
      "       'operatingSystem', 'pageviews', 'region', 'source', 'subContinent',\n",
      "       'transactionRevenue', 'visitNumber', 'month', 'weekday', 'weekend',\n",
      "       'cnt_per_day', 'access_Days', 'avg_hitperDay', 'ttl_hitbyUser',\n",
      "       'avg_viewperDay', 'ttl_viewbyUser', 'month_min', 'month_max',\n",
      "       'weekend_min', 'weekend_max'],\n",
      "      dtype='object')\n"
     ]
    }
   ],
   "source": [
    "print(df_user_train.shape,df_user_test.shape)\n",
    "print(df_user_train.columns)"
   ]
  },
  {
   "cell_type": "code",
   "execution_count": 90,
   "metadata": {},
   "outputs": [
    {
     "name": "stdout",
     "output_type": "stream",
     "text": [
      "CPU times: user 4.59 s, sys: 977 ms, total: 5.56 s\n",
      "Wall time: 2.99 s\n"
     ]
    }
   ],
   "source": [
    "%%time\n",
    "\n",
    "tgt = [x for x in df_user_train.columns if x not in ['fullVisitorId','transactionRevenue'] ]\n",
    "\n",
    "sc = MinMaxScaler()\n",
    "df_user_train[tgt] = sc.fit_transform(df_user_train[tgt])\n",
    "df_user_test[tgt] = sc.transform(df_user_test[tgt])"
   ]
  },
  {
   "cell_type": "code",
   "execution_count": 91,
   "metadata": {},
   "outputs": [
    {
     "data": {
      "text/html": [
       "<div>\n",
       "<style scoped>\n",
       "    .dataframe tbody tr th:only-of-type {\n",
       "        vertical-align: middle;\n",
       "    }\n",
       "\n",
       "    .dataframe tbody tr th {\n",
       "        vertical-align: top;\n",
       "    }\n",
       "\n",
       "    .dataframe thead th {\n",
       "        text-align: right;\n",
       "    }\n",
       "</style>\n",
       "<table border=\"1\" class=\"dataframe\">\n",
       "  <thead>\n",
       "    <tr style=\"text-align: right;\">\n",
       "      <th></th>\n",
       "      <th>adwordsClickInfo.adN</th>\n",
       "      <th>adwordsClickInfo.isV</th>\n",
       "      <th>adwordsClickInfo.pag</th>\n",
       "      <th>adwordsClickInfo.slo</th>\n",
       "      <th>browser</th>\n",
       "      <th>campaign</th>\n",
       "      <th>channelGrouping</th>\n",
       "      <th>city</th>\n",
       "      <th>continent</th>\n",
       "      <th>country</th>\n",
       "      <th>...</th>\n",
       "      <th>cnt_per_day</th>\n",
       "      <th>access_Days</th>\n",
       "      <th>avg_hitperDay</th>\n",
       "      <th>ttl_hitbyUser</th>\n",
       "      <th>avg_viewperDay</th>\n",
       "      <th>ttl_viewbyUser</th>\n",
       "      <th>month_min</th>\n",
       "      <th>month_max</th>\n",
       "      <th>weekend_min</th>\n",
       "      <th>weekend_max</th>\n",
       "    </tr>\n",
       "  </thead>\n",
       "  <tbody>\n",
       "    <tr>\n",
       "      <th>count</th>\n",
       "      <td>714167.000000</td>\n",
       "      <td>714167.000000</td>\n",
       "      <td>714167.000000</td>\n",
       "      <td>714167.000000</td>\n",
       "      <td>714167.000000</td>\n",
       "      <td>714167.000000</td>\n",
       "      <td>714167.000000</td>\n",
       "      <td>714167.000000</td>\n",
       "      <td>714167.000000</td>\n",
       "      <td>714167.000000</td>\n",
       "      <td>...</td>\n",
       "      <td>714167.000000</td>\n",
       "      <td>714167.000000</td>\n",
       "      <td>714167.000000</td>\n",
       "      <td>714167.000000</td>\n",
       "      <td>714167.000000</td>\n",
       "      <td>714167.000000</td>\n",
       "      <td>714167.000000</td>\n",
       "      <td>714167.000000</td>\n",
       "      <td>714167.000000</td>\n",
       "      <td>714167.000000</td>\n",
       "    </tr>\n",
       "    <tr>\n",
       "      <th>mean</th>\n",
       "      <td>0.013291</td>\n",
       "      <td>0.019934</td>\n",
       "      <td>0.001438</td>\n",
       "      <td>0.019742</td>\n",
       "      <td>0.254931</td>\n",
       "      <td>0.023287</td>\n",
       "      <td>0.478380</td>\n",
       "      <td>0.852724</td>\n",
       "      <td>0.357352</td>\n",
       "      <td>0.786114</td>\n",
       "      <td>...</td>\n",
       "      <td>0.002474</td>\n",
       "      <td>0.002474</td>\n",
       "      <td>0.005847</td>\n",
       "      <td>0.000964</td>\n",
       "      <td>0.007169</td>\n",
       "      <td>0.001171</td>\n",
       "      <td>0.543955</td>\n",
       "      <td>0.555358</td>\n",
       "      <td>0.215469</td>\n",
       "      <td>0.246599</td>\n",
       "    </tr>\n",
       "    <tr>\n",
       "      <th>std</th>\n",
       "      <td>0.090311</td>\n",
       "      <td>0.135441</td>\n",
       "      <td>0.009975</td>\n",
       "      <td>0.134318</td>\n",
       "      <td>0.369158</td>\n",
       "      <td>0.116662</td>\n",
       "      <td>0.295922</td>\n",
       "      <td>0.250832</td>\n",
       "      <td>0.179366</td>\n",
       "      <td>0.245469</td>\n",
       "      <td>...</td>\n",
       "      <td>0.010737</td>\n",
       "      <td>0.010737</td>\n",
       "      <td>0.014582</td>\n",
       "      <td>0.003688</td>\n",
       "      <td>0.011483</td>\n",
       "      <td>0.003396</td>\n",
       "      <td>0.317073</td>\n",
       "      <td>0.315629</td>\n",
       "      <td>0.411148</td>\n",
       "      <td>0.431032</td>\n",
       "    </tr>\n",
       "    <tr>\n",
       "      <th>min</th>\n",
       "      <td>0.000000</td>\n",
       "      <td>0.000000</td>\n",
       "      <td>0.000000</td>\n",
       "      <td>0.000000</td>\n",
       "      <td>0.000000</td>\n",
       "      <td>0.000000</td>\n",
       "      <td>0.000000</td>\n",
       "      <td>0.000000</td>\n",
       "      <td>0.000000</td>\n",
       "      <td>0.000000</td>\n",
       "      <td>...</td>\n",
       "      <td>0.000000</td>\n",
       "      <td>0.000000</td>\n",
       "      <td>0.000000</td>\n",
       "      <td>0.000000</td>\n",
       "      <td>0.000000</td>\n",
       "      <td>0.000000</td>\n",
       "      <td>0.000000</td>\n",
       "      <td>0.000000</td>\n",
       "      <td>0.000000</td>\n",
       "      <td>0.000000</td>\n",
       "    </tr>\n",
       "    <tr>\n",
       "      <th>25%</th>\n",
       "      <td>0.000000</td>\n",
       "      <td>0.000000</td>\n",
       "      <td>0.000000</td>\n",
       "      <td>0.000000</td>\n",
       "      <td>0.000000</td>\n",
       "      <td>0.000000</td>\n",
       "      <td>0.333333</td>\n",
       "      <td>0.800000</td>\n",
       "      <td>0.200000</td>\n",
       "      <td>0.666667</td>\n",
       "      <td>...</td>\n",
       "      <td>0.000000</td>\n",
       "      <td>0.000000</td>\n",
       "      <td>0.000000</td>\n",
       "      <td>0.000000</td>\n",
       "      <td>0.002146</td>\n",
       "      <td>0.000240</td>\n",
       "      <td>0.272727</td>\n",
       "      <td>0.272727</td>\n",
       "      <td>0.000000</td>\n",
       "      <td>0.000000</td>\n",
       "    </tr>\n",
       "    <tr>\n",
       "      <th>50%</th>\n",
       "      <td>0.000000</td>\n",
       "      <td>0.000000</td>\n",
       "      <td>0.000000</td>\n",
       "      <td>0.000000</td>\n",
       "      <td>0.000000</td>\n",
       "      <td>0.000000</td>\n",
       "      <td>0.333333</td>\n",
       "      <td>1.000000</td>\n",
       "      <td>0.400000</td>\n",
       "      <td>0.833333</td>\n",
       "      <td>...</td>\n",
       "      <td>0.000000</td>\n",
       "      <td>0.000000</td>\n",
       "      <td>0.001002</td>\n",
       "      <td>0.000200</td>\n",
       "      <td>0.002861</td>\n",
       "      <td>0.000481</td>\n",
       "      <td>0.545455</td>\n",
       "      <td>0.545455</td>\n",
       "      <td>0.000000</td>\n",
       "      <td>0.000000</td>\n",
       "    </tr>\n",
       "    <tr>\n",
       "      <th>75%</th>\n",
       "      <td>0.000000</td>\n",
       "      <td>0.000000</td>\n",
       "      <td>0.000000</td>\n",
       "      <td>0.000000</td>\n",
       "      <td>0.800000</td>\n",
       "      <td>0.000000</td>\n",
       "      <td>0.833333</td>\n",
       "      <td>1.000000</td>\n",
       "      <td>0.600000</td>\n",
       "      <td>1.000000</td>\n",
       "      <td>...</td>\n",
       "      <td>0.000000</td>\n",
       "      <td>0.000000</td>\n",
       "      <td>0.006012</td>\n",
       "      <td>0.000601</td>\n",
       "      <td>0.006438</td>\n",
       "      <td>0.000962</td>\n",
       "      <td>0.818182</td>\n",
       "      <td>0.818182</td>\n",
       "      <td>0.000000</td>\n",
       "      <td>0.000000</td>\n",
       "    </tr>\n",
       "    <tr>\n",
       "      <th>max</th>\n",
       "      <td>1.000000</td>\n",
       "      <td>1.000000</td>\n",
       "      <td>1.000000</td>\n",
       "      <td>1.000000</td>\n",
       "      <td>1.000000</td>\n",
       "      <td>1.000000</td>\n",
       "      <td>1.000000</td>\n",
       "      <td>1.000000</td>\n",
       "      <td>1.000000</td>\n",
       "      <td>1.000000</td>\n",
       "      <td>...</td>\n",
       "      <td>1.000000</td>\n",
       "      <td>1.000000</td>\n",
       "      <td>1.000000</td>\n",
       "      <td>1.000000</td>\n",
       "      <td>1.000000</td>\n",
       "      <td>1.000000</td>\n",
       "      <td>1.000000</td>\n",
       "      <td>1.000000</td>\n",
       "      <td>1.000000</td>\n",
       "      <td>1.000000</td>\n",
       "    </tr>\n",
       "  </tbody>\n",
       "</table>\n",
       "<p>8 rows × 38 columns</p>\n",
       "</div>"
      ],
      "text/plain": [
       "       adwordsClickInfo.adN  adwordsClickInfo.isV  adwordsClickInfo.pag  \\\n",
       "count         714167.000000         714167.000000         714167.000000   \n",
       "mean               0.013291              0.019934              0.001438   \n",
       "std                0.090311              0.135441              0.009975   \n",
       "min                0.000000              0.000000              0.000000   \n",
       "25%                0.000000              0.000000              0.000000   \n",
       "50%                0.000000              0.000000              0.000000   \n",
       "75%                0.000000              0.000000              0.000000   \n",
       "max                1.000000              1.000000              1.000000   \n",
       "\n",
       "       adwordsClickInfo.slo        browser       campaign  channelGrouping  \\\n",
       "count         714167.000000  714167.000000  714167.000000    714167.000000   \n",
       "mean               0.019742       0.254931       0.023287         0.478380   \n",
       "std                0.134318       0.369158       0.116662         0.295922   \n",
       "min                0.000000       0.000000       0.000000         0.000000   \n",
       "25%                0.000000       0.000000       0.000000         0.333333   \n",
       "50%                0.000000       0.000000       0.000000         0.333333   \n",
       "75%                0.000000       0.800000       0.000000         0.833333   \n",
       "max                1.000000       1.000000       1.000000         1.000000   \n",
       "\n",
       "                city      continent        country      ...        \\\n",
       "count  714167.000000  714167.000000  714167.000000      ...         \n",
       "mean        0.852724       0.357352       0.786114      ...         \n",
       "std         0.250832       0.179366       0.245469      ...         \n",
       "min         0.000000       0.000000       0.000000      ...         \n",
       "25%         0.800000       0.200000       0.666667      ...         \n",
       "50%         1.000000       0.400000       0.833333      ...         \n",
       "75%         1.000000       0.600000       1.000000      ...         \n",
       "max         1.000000       1.000000       1.000000      ...         \n",
       "\n",
       "         cnt_per_day    access_Days  avg_hitperDay  ttl_hitbyUser  \\\n",
       "count  714167.000000  714167.000000  714167.000000  714167.000000   \n",
       "mean        0.002474       0.002474       0.005847       0.000964   \n",
       "std         0.010737       0.010737       0.014582       0.003688   \n",
       "min         0.000000       0.000000       0.000000       0.000000   \n",
       "25%         0.000000       0.000000       0.000000       0.000000   \n",
       "50%         0.000000       0.000000       0.001002       0.000200   \n",
       "75%         0.000000       0.000000       0.006012       0.000601   \n",
       "max         1.000000       1.000000       1.000000       1.000000   \n",
       "\n",
       "       avg_viewperDay  ttl_viewbyUser      month_min      month_max  \\\n",
       "count   714167.000000   714167.000000  714167.000000  714167.000000   \n",
       "mean         0.007169        0.001171       0.543955       0.555358   \n",
       "std          0.011483        0.003396       0.317073       0.315629   \n",
       "min          0.000000        0.000000       0.000000       0.000000   \n",
       "25%          0.002146        0.000240       0.272727       0.272727   \n",
       "50%          0.002861        0.000481       0.545455       0.545455   \n",
       "75%          0.006438        0.000962       0.818182       0.818182   \n",
       "max          1.000000        1.000000       1.000000       1.000000   \n",
       "\n",
       "         weekend_min    weekend_max  \n",
       "count  714167.000000  714167.000000  \n",
       "mean        0.215469       0.246599  \n",
       "std         0.411148       0.431032  \n",
       "min         0.000000       0.000000  \n",
       "25%         0.000000       0.000000  \n",
       "50%         0.000000       0.000000  \n",
       "75%         0.000000       0.000000  \n",
       "max         1.000000       1.000000  \n",
       "\n",
       "[8 rows x 38 columns]"
      ]
     },
     "execution_count": 91,
     "metadata": {},
     "output_type": "execute_result"
    }
   ],
   "source": [
    "df_user_train.describe()"
   ]
  },
  {
   "cell_type": "code",
   "execution_count": 92,
   "metadata": {},
   "outputs": [
    {
     "name": "stdout",
     "output_type": "stream",
     "text": [
      "CPU times: user 39.1 s, sys: 495 ms, total: 39.6 s\n",
      "Wall time: 40.4 s\n"
     ]
    }
   ],
   "source": [
    "%%time\n",
    "df_user_train.to_csv(path + 'user_train_n.csv')\n",
    "df_user_test.to_csv(path + 'user_test_n.csv')"
   ]
  },
  {
   "cell_type": "markdown",
   "metadata": {},
   "source": [
    "# visualize correlations"
   ]
  },
  {
   "cell_type": "code",
   "execution_count": 93,
   "metadata": {},
   "outputs": [
    {
     "name": "stdout",
     "output_type": "stream",
     "text": [
      "CPU times: user 2.98 s, sys: 136 ms, total: 3.12 s\n",
      "Wall time: 2.96 s\n"
     ]
    }
   ],
   "source": [
    "%%time\n",
    "df_user_train = pd.read_csv(path +'user_train.csv', index_col = 0, dtype={'fullVisitorId': 'str'})\n",
    "df_user_train.drop('transactionRevenue', axis = 1, inplace=True)\n"
   ]
  },
  {
   "cell_type": "code",
   "execution_count": 94,
   "metadata": {
    "scrolled": true
   },
   "outputs": [
    {
     "data": {
      "text/plain": [
       "<matplotlib.axes._subplots.AxesSubplot at 0x7f67e252f860>"
      ]
     },
     "execution_count": 94,
     "metadata": {},
     "output_type": "execute_result"
    },
    {
     "data": {
      "image/png": "[encoded data removed]",
      "text/plain": [
       "<Figure size 1008x864 with 2 Axes>"
      ]
     },
     "metadata": {
      "needs_background": "light"
     },
     "output_type": "display_data"
    }
   ],
   "source": [
    "import matplotlib.pyplot as plt\n",
    "import seaborn as sns\n",
    "%matplotlib inline\n",
    "\n",
    "f , ax = plt.subplots(figsize = (14,12))\n",
    "plt.title('Correlation of Features- HeatMap',y=1,size=16)\n",
    "sns.heatmap(df_user_train.corr(),square = True,  vmax=0.8)\n"
   ]
  },
  {
   "cell_type": "code",
   "execution_count": null,
   "metadata": {},
   "outputs": [],
   "source": []
  }
 ],
 "metadata": {
  "kernelspec": {
   "display_name": "Python 3",
   "language": "python",
   "name": "python3"
  },
  "language_info": {
   "codemirror_mode": {
    "name": "ipython",
    "version": 3
   },
   "file_extension": ".py",
   "mimetype": "text/x-python",
   "name": "python",
   "nbconvert_exporter": "python",
   "pygments_lexer": "ipython3",
   "version": "3.7.0"
  },
  "toc": {
   "base_numbering": 1,
   "nav_menu": {},
   "number_sections": true,
   "sideBar": true,
   "skip_h1_title": false,
   "title_cell": "Table of Contents",
   "title_sidebar": "Contents",
   "toc_cell": false,
   "toc_position": {
    "height": "calc(100% - 180px)",
    "left": "10px",
    "top": "150px",
    "width": "174.026px"
   },
   "toc_section_display": true,
   "toc_window_display": true
  }
 },
 "nbformat": 4,
 "nbformat_minor": 1
}
