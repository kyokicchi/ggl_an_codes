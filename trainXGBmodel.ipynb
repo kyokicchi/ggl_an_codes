{
  "nbformat": 4,
  "nbformat_minor": 0,
  "metadata": {
    "colab": {
      "name": "trainXGBmodel.ipynb",
      "version": "0.3.2",
      "provenance": [],
      "collapsed_sections": [],
      "include_colab_link": true
    },
    "kernelspec": {
      "name": "python3",
      "display_name": "Python 3"
    }
  },
  "cells": [
    {
      "cell_type": "markdown",
      "metadata": {
        "id": "view-in-github",
        "colab_type": "text"
      },
      "source": [
        "[View in Colaboratory](https://colab.research.google.com/github/kyokicchi/kaggle_codes/blob/master/trainXGBmodel.ipynb)"
      ]
    },
    {
      "metadata": {
        "id": "H1yvnM0gtdyG",
        "colab_type": "code",
        "colab": {
          "base_uri": "https://localhost:8080/",
          "height": 68
        },
        "outputId": "41273332-5cfe-4bb4-9ddc-06bd7acbac5b"
      },
      "cell_type": "code",
      "source": [
        "!pip install xgboost"
      ],
      "execution_count": 1,
      "outputs": [
        {
          "output_type": "stream",
          "text": [
            "Requirement already satisfied: xgboost in /usr/local/lib/python3.6/dist-packages (0.7.post4)\n",
            "Requirement already satisfied: numpy in /usr/local/lib/python3.6/dist-packages (from xgboost) (1.14.6)\n",
            "Requirement already satisfied: scipy in /usr/local/lib/python3.6/dist-packages (from xgboost) (0.19.1)\n"
          ],
          "name": "stdout"
        }
      ]
    },
    {
      "metadata": {
        "id": "VBMh7_NNsd81",
        "colab_type": "code",
        "colab": {}
      },
      "cell_type": "code",
      "source": [
        "import xgboost as xgb\n",
        "import numpy as np\n",
        "import pandas as pd\n",
        "from google.colab import drive\n",
        "from google.colab import files\n",
        "import scipy.stats as st\n",
        "from sklearn.model_selection import RandomizedSearchCV\n",
        "from sklearn.model_selection import train_test_split\n",
        "import pickle"
      ],
      "execution_count": 0,
      "outputs": []
    },
    {
      "metadata": {
        "id": "RWA_gSZkupcD",
        "colab_type": "code",
        "colab": {
          "base_uri": "https://localhost:8080/",
          "height": 121
        },
        "outputId": "4bb3484b-9ef0-4c87-ed13-6120636046da"
      },
      "cell_type": "code",
      "source": [
        "drive.mount('/content/gdrive')\n"
      ],
      "execution_count": 3,
      "outputs": [
        {
          "output_type": "stream",
          "text": [
            "Go to this URL in a browser: https://accounts.google.com/o/oauth2/auth?client_id=947318989803-6bn6qk8qdgf4n4g3pfee6491hc0brc4i.apps.googleusercontent.com&redirect_uri=urn%3Aietf%3Awg%3Aoauth%3A2.0%3Aoob&scope=email%20https%3A%2F%2Fwww.googleapis.com%2Fauth%2Fdocs.test%20https%3A%2F%2Fwww.googleapis.com%2Fauth%2Fdrive%20https%3A%2F%2Fwww.googleapis.com%2Fauth%2Fdrive.photos.readonly%20https%3A%2F%2Fwww.googleapis.com%2Fauth%2Fpeopleapi.readonly&response_type=code\n",
            "\n",
            "Enter your authorization code:\n",
            "··········\n",
            "Mounted at /content/gdrive\n"
          ],
          "name": "stdout"
        }
      ]
    },
    {
      "metadata": {
        "id": "4udHYBoasut8",
        "colab_type": "code",
        "colab": {
          "base_uri": "https://localhost:8080/",
          "height": 51
        },
        "outputId": "d5bc3c9d-688d-49fb-fb0a-79e260059669"
      },
      "cell_type": "code",
      "source": [
        "%cd ../content/gdrive/My Drive/projects/\n",
        "%ls"
      ],
      "execution_count": 4,
      "outputs": [
        {
          "output_type": "stream",
          "text": [
            "/content/gdrive/My Drive/projects\n",
            "model_LGB.sav  user_train_wip.csv\n"
          ],
          "name": "stdout"
        }
      ]
    },
    {
      "metadata": {
        "id": "WgV-mt8Yt3kx",
        "colab_type": "code",
        "colab": {}
      },
      "cell_type": "code",
      "source": [
        "s_data = 'user_train_wip.csv'\n",
        "s_col_tgt = 'totals.transactionRevenue_sum'\n",
        "l_col_drop = ['date_min', 'date_max',s_col_tgt]\n",
        "filename = 'model_XGB.sav'"
      ],
      "execution_count": 0,
      "outputs": []
    },
    {
      "metadata": {
        "id": "rLA964tMt3as",
        "colab_type": "code",
        "colab": {
          "base_uri": "https://localhost:8080/",
          "height": 68
        },
        "outputId": "eb413e18-6473-4209-e42b-a18bff0bae84"
      },
      "cell_type": "code",
      "source": [
        "%%time\n",
        "df_train = pd.read_csv(s_data, index_col = 0)\n",
        "df_y = df_train[s_col_tgt]\n",
        "df_x = df_train.drop(l_col_drop, axis=1)"
      ],
      "execution_count": 6,
      "outputs": [
        {
          "output_type": "stream",
          "text": [
            "<string>:2: DtypeWarning: Columns (0) have mixed types. Specify dtype option on import or set low_memory=False.\n"
          ],
          "name": "stderr"
        },
        {
          "output_type": "stream",
          "text": [
            "CPU times: user 11.5 s, sys: 2.64 s, total: 14.1 s\n",
            "Wall time: 16.1 s\n"
          ],
          "name": "stdout"
        }
      ]
    },
    {
      "metadata": {
        "id": "C18Gya6_t7tS",
        "colab_type": "code",
        "colab": {
          "base_uri": "https://localhost:8080/",
          "height": 51
        },
        "outputId": "021c88b3-e66a-4f02-c2f5-6eba3315a933"
      },
      "cell_type": "code",
      "source": [
        "%%time\n",
        "x_train, x_test, y_train, y_test = train_test_split(df_x, df_y)\n",
        "x_eval, x_valid, y_eval, y_valid = train_test_split(x_test, y_test)\n"
      ],
      "execution_count": 7,
      "outputs": [
        {
          "output_type": "stream",
          "text": [
            "CPU times: user 2.24 s, sys: 593 ms, total: 2.83 s\n",
            "Wall time: 2.83 s\n"
          ],
          "name": "stdout"
        }
      ]
    },
    {
      "metadata": {
        "id": "nQGFyaCOsvIv",
        "colab_type": "code",
        "colab": {}
      },
      "cell_type": "code",
      "source": [
        "params = {\n",
        "    \"n_estimators\": st.randint(3, 40),\n",
        "    \"max_depth\": st.randint(3, 40),\n",
        "    \"learning_rate\": st.uniform(0.05, 0.4),\n",
        "    \"colsample_bytree\": st.beta(10, 1),\n",
        "    \"subsample\": st.beta(10, 1),\n",
        "    \"gamma\": st.uniform(0, 10),\n",
        "    'reg_alpha': st.expon(0, 50),\n",
        "    \"min_child_weight\": st.expon(0, 50),\n",
        "}\n",
        "\n",
        "model = xgb.XGBRegressor(**params)"
      ],
      "execution_count": 0,
      "outputs": []
    },
    {
      "metadata": {
        "id": "JYeUVL4C5oYz",
        "colab_type": "code",
        "colab": {}
      },
      "cell_type": "code",
      "source": [
        "model = xgb.XGBRegressor()"
      ],
      "execution_count": 0,
      "outputs": []
    },
    {
      "metadata": {
        "id": "w5r5JL7hxm9z",
        "colab_type": "code",
        "colab": {
          "base_uri": "https://localhost:8080/",
          "height": 152
        },
        "outputId": "6dfdd32e-f451-4b46-db21-53ca7672948f"
      },
      "cell_type": "code",
      "source": [
        "%%time\n",
        "model.fit(x_train,y_train)"
      ],
      "execution_count": 12,
      "outputs": [
        {
          "output_type": "stream",
          "text": [
            "CPU times: user 2min 23s, sys: 387 ms, total: 2min 24s\n",
            "Wall time: 2min 24s\n"
          ],
          "name": "stdout"
        },
        {
          "output_type": "execute_result",
          "data": {
            "text/plain": [
              "XGBRegressor(base_score=0.5, booster='gbtree', colsample_bylevel=1,\n",
              "       colsample_bytree=1, gamma=0, learning_rate=0.1, max_delta_step=0,\n",
              "       max_depth=3, min_child_weight=1, missing=None, n_estimators=100,\n",
              "       n_jobs=1, nthread=None, objective='reg:linear', random_state=0,\n",
              "       reg_alpha=0, reg_lambda=1, scale_pos_weight=1, seed=None,\n",
              "       silent=True, subsample=1)"
            ]
          },
          "metadata": {
            "tags": []
          },
          "execution_count": 12
        }
      ]
    },
    {
      "metadata": {
        "id": "3sMCkdyquKKm",
        "colab_type": "code",
        "colab": {
          "base_uri": "https://localhost:8080/",
          "height": 51
        },
        "outputId": "3548819b-f0ff-4aa6-f5eb-cbbde4876f18"
      },
      "cell_type": "code",
      "source": [
        "%%time\n",
        "pickle.dump(model, open(filename, 'wb'))"
      ],
      "execution_count": 13,
      "outputs": [
        {
          "output_type": "stream",
          "text": [
            "CPU times: user 969 µs, sys: 1.04 ms, total: 2.01 ms\n",
            "Wall time: 10.9 ms\n"
          ],
          "name": "stdout"
        }
      ]
    },
    {
      "metadata": {
        "id": "5Eh7OEBEvcJ1",
        "colab_type": "code",
        "colab": {}
      },
      "cell_type": "code",
      "source": [
        "files.download(filename) "
      ],
      "execution_count": 0,
      "outputs": []
    }
  ]
}