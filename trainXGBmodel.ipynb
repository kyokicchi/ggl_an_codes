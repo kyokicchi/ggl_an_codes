{
  "nbformat": 4,
  "nbformat_minor": 0,
  "metadata": {
    "colab": {
      "name": "trainXGBmodel.ipynb",
      "version": "0.3.2",
      "provenance": [],
      "collapsed_sections": [],
      "include_colab_link": true
    },
    "kernelspec": {
      "name": "python3",
      "display_name": "Python 3"
    },
    "accelerator": "GPU"
  },
  "cells": [
    {
      "cell_type": "markdown",
      "metadata": {
        "id": "view-in-github",
        "colab_type": "text"
      },
      "source": [
        "[View in Colaboratory](https://colab.research.google.com/github/kyokicchi/kaggle_codes/blob/master/trainXGBmodel.ipynb)"
      ]
    },
    {
      "metadata": {
        "id": "H1yvnM0gtdyG",
        "colab_type": "code",
        "colab": {
          "base_uri": "https://localhost:8080/",
          "height": 186
        },
        "outputId": "0b345a13-3315-474d-d693-86b54605763f"
      },
      "cell_type": "code",
      "source": [
        "!pip install --upgrade xgboost"
      ],
      "execution_count": 1,
      "outputs": [
        {
          "output_type": "stream",
          "text": [
            "Collecting xgboost\n",
            "\u001b[?25l  Downloading https://files.pythonhosted.org/packages/8f/15/606f81a2b8a8e82eaa10683cb3f3074905ec65d3bcef949e3f0909f165a5/xgboost-0.80-py2.py3-none-manylinux1_x86_64.whl (15.8MB)\n",
            "\u001b[K    100% |████████████████████████████████| 15.8MB 2.5MB/s \n",
            "\u001b[?25hRequirement already satisfied, skipping upgrade: numpy in /usr/local/lib/python3.6/dist-packages (from xgboost) (1.14.6)\n",
            "Requirement already satisfied, skipping upgrade: scipy in /usr/local/lib/python3.6/dist-packages (from xgboost) (0.19.1)\n",
            "Installing collected packages: xgboost\n",
            "  Found existing installation: xgboost 0.7.post4\n",
            "    Uninstalling xgboost-0.7.post4:\n",
            "      Successfully uninstalled xgboost-0.7.post4\n",
            "Successfully installed xgboost-0.80\n"
          ],
          "name": "stdout"
        }
      ]
    },
    {
      "metadata": {
        "id": "VBMh7_NNsd81",
        "colab_type": "code",
        "colab": {}
      },
      "cell_type": "code",
      "source": [
        "import xgboost as xgb\n",
        "import numpy as np\n",
        "import pandas as pd\n",
        "from google.colab import drive\n",
        "from google.colab import files\n",
        "import scipy.stats as st\n",
        "from sklearn.model_selection import train_test_split\n",
        "from sklearn import model_selection\n",
        "from sklearn.metrics import confusion_matrix, mean_squared_error\n",
        "import pickle\n",
        "import matplotlib.pyplot as plt\n",
        "%matplotlib inline\n",
        "\n"
      ],
      "execution_count": 0,
      "outputs": []
    },
    {
      "metadata": {
        "id": "RWA_gSZkupcD",
        "colab_type": "code",
        "colab": {
          "base_uri": "https://localhost:8080/",
          "height": 121
        },
        "outputId": "6eea6b15-024d-4304-9b89-081b40cd12d3"
      },
      "cell_type": "code",
      "source": [
        "drive.mount('/content/gdrive')\n"
      ],
      "execution_count": 3,
      "outputs": [
        {
          "output_type": "stream",
          "text": [
            "Go to this URL in a browser: https://accounts.google.com/o/oauth2/auth?client_id=947318989803-6bn6qk8qdgf4n4g3pfee6491hc0brc4i.apps.googleusercontent.com&redirect_uri=urn%3Aietf%3Awg%3Aoauth%3A2.0%3Aoob&scope=email%20https%3A%2F%2Fwww.googleapis.com%2Fauth%2Fdocs.test%20https%3A%2F%2Fwww.googleapis.com%2Fauth%2Fdrive%20https%3A%2F%2Fwww.googleapis.com%2Fauth%2Fdrive.photos.readonly%20https%3A%2F%2Fwww.googleapis.com%2Fauth%2Fpeopleapi.readonly&response_type=code\n",
            "\n",
            "Enter your authorization code:\n",
            "··········\n",
            "Mounted at /content/gdrive\n"
          ],
          "name": "stdout"
        }
      ]
    },
    {
      "metadata": {
        "id": "4udHYBoasut8",
        "colab_type": "code",
        "colab": {
          "base_uri": "https://localhost:8080/",
          "height": 68
        },
        "outputId": "feea5de5-9da4-4238-8799-cf7cf1eecbb0"
      },
      "cell_type": "code",
      "source": [
        "%cd ../content/gdrive/My Drive/projects/\n",
        "%ls"
      ],
      "execution_count": 4,
      "outputs": [
        {
          "output_type": "stream",
          "text": [
            "/content/gdrive/My Drive/projects\n",
            "model_LGB.sav  model_XGB.sav  user_test_n.csv\n",
            "model_NN.h5    output.csv     user_train_n.csv\n"
          ],
          "name": "stdout"
        }
      ]
    },
    {
      "metadata": {
        "id": "WgV-mt8Yt3kx",
        "colab_type": "code",
        "colab": {}
      },
      "cell_type": "code",
      "source": [
        "s_data = 'user_train_n.csv'\n",
        "filename = 'model_XGB.sav'\n",
        "s_col_tgt = 'transactionRevenue_sum'\n",
        "l_col_drop = [s_col_tgt]\n"
      ],
      "execution_count": 0,
      "outputs": []
    },
    {
      "metadata": {
        "id": "rLA964tMt3as",
        "colab_type": "code",
        "colab": {
          "base_uri": "https://localhost:8080/",
          "height": 68
        },
        "outputId": "94c54899-9465-439a-cd51-8ac5c565744f"
      },
      "cell_type": "code",
      "source": [
        "%%time\n",
        "df_train = pd.read_csv(s_data, index_col = 0)"
      ],
      "execution_count": 6,
      "outputs": [
        {
          "output_type": "stream",
          "text": [
            "<string>:2: DtypeWarning: Columns (0) have mixed types. Specify dtype option on import or set low_memory=False.\n"
          ],
          "name": "stderr"
        },
        {
          "output_type": "stream",
          "text": [
            "CPU times: user 8.24 s, sys: 1 s, total: 9.24 s\n",
            "Wall time: 12.2 s\n"
          ],
          "name": "stdout"
        }
      ]
    },
    {
      "metadata": {
        "id": "0KbqPI6I-Dj8",
        "colab_type": "code",
        "colab": {
          "base_uri": "https://localhost:8080/",
          "height": 51
        },
        "outputId": "41f834aa-6cd0-490b-a376-3adc011612de"
      },
      "cell_type": "code",
      "source": [
        "%%time\n",
        "df_y = df_train[s_col_tgt]\n",
        "df_x = df_train.drop(l_col_drop, axis=1)"
      ],
      "execution_count": 7,
      "outputs": [
        {
          "output_type": "stream",
          "text": [
            "CPU times: user 61.1 ms, sys: 181 ms, total: 242 ms\n",
            "Wall time: 243 ms\n"
          ],
          "name": "stdout"
        }
      ]
    },
    {
      "metadata": {
        "id": "C18Gya6_t7tS",
        "colab_type": "code",
        "colab": {
          "base_uri": "https://localhost:8080/",
          "height": 51
        },
        "outputId": "17028dd8-6eef-4e42-95e4-a28fd5675f97"
      },
      "cell_type": "code",
      "source": [
        "%%time\n",
        "x_train, x_test, y_train, y_test = train_test_split(df_x, df_y)\n",
        "x_eval, x_valid, y_eval, y_valid = train_test_split(x_test, y_test)\n"
      ],
      "execution_count": 8,
      "outputs": [
        {
          "output_type": "stream",
          "text": [
            "CPU times: user 1.07 s, sys: 137 ms, total: 1.2 s\n",
            "Wall time: 1.2 s\n"
          ],
          "name": "stdout"
        }
      ]
    },
    {
      "metadata": {
        "id": "nQGFyaCOsvIv",
        "colab_type": "code",
        "colab": {
          "base_uri": "https://localhost:8080/",
          "height": 34
        },
        "outputId": "d4013826-0c09-42a6-86b2-6bba2b9e7387"
      },
      "cell_type": "code",
      "source": [
        "%env JOBLIB_TEMP_FOLDER=/tmp\n",
        "\n"
      ],
      "execution_count": 9,
      "outputs": [
        {
          "output_type": "stream",
          "text": [
            "env: JOBLIB_TEMP_FOLDER=/tmp\n"
          ],
          "name": "stdout"
        }
      ]
    },
    {
      "metadata": {
        "id": "wxcOzuHnaM50",
        "colab_type": "code",
        "colab": {}
      },
      "cell_type": "code",
      "source": [
        "model = xgb.XGBRegressor(\n",
        "\n",
        "    n_estimators=100, \n",
        "    max_depth=5,\n",
        "    min_child_weight=1,\n",
        "    gamma=0,\n",
        "    subsample=0.8,\n",
        "    colsample_bytree=0.8,\n",
        ")\n",
        "\n",
        "params = {\n",
        " 'max_depth':[x for x in range(3,10,2)],\n",
        " 'min_child_weight':[x for x in range(1,6,2)]\n",
        "}\n",
        "\n",
        "\n",
        "cv = model_selection.GridSearchCV(estimator = model, param_grid = params, n_jobs=-1, cv=3, verbose = 2)"
      ],
      "execution_count": 0,
      "outputs": []
    },
    {
      "metadata": {
        "id": "y9FxgoVJevK8",
        "colab_type": "code",
        "colab": {
          "base_uri": "https://localhost:8080/",
          "height": 34
        },
        "outputId": "69d367c0-f0f2-4b37-973a-aedf23c9f312"
      },
      "cell_type": "code",
      "source": [
        "x = df_x[:][:5000]\n",
        "y =  df_y[:][:5000]\n",
        "\n",
        "x.shape, y.shape"
      ],
      "execution_count": 20,
      "outputs": [
        {
          "output_type": "execute_result",
          "data": {
            "text/plain": [
              "((5000, 57), (5000,))"
            ]
          },
          "metadata": {
            "tags": []
          },
          "execution_count": 20
        }
      ]
    },
    {
      "metadata": {
        "id": "725Lciv-3g8N",
        "colab_type": "code",
        "colab": {
          "base_uri": "https://localhost:8080/",
          "height": 1489
        },
        "outputId": "e460fc83-5fe6-4e0f-e6e7-8f64be8130f0"
      },
      "cell_type": "code",
      "source": [
        "%%time\n",
        "\n",
        "cv.fit(x,y)\n"
      ],
      "execution_count": 21,
      "outputs": [
        {
          "output_type": "stream",
          "text": [
            "Fitting 3 folds for each of 12 candidates, totalling 36 fits\n",
            "[CV] max_depth=3, min_child_weight=1 .................................\n",
            "[CV] max_depth=3, min_child_weight=1 .................................\n",
            "[CV] .................. max_depth=3, min_child_weight=1, total=   0.4s\n",
            "[CV] max_depth=3, min_child_weight=1 .................................\n",
            "[CV] .................. max_depth=3, min_child_weight=1, total=   0.4s\n",
            "[CV] max_depth=3, min_child_weight=3 .................................\n",
            "[CV] .................. max_depth=3, min_child_weight=1, total=   0.3s\n",
            "[CV] max_depth=3, min_child_weight=3 .................................\n",
            "[CV] .................. max_depth=3, min_child_weight=3, total=   0.3s\n",
            "[CV] max_depth=3, min_child_weight=3 .................................\n",
            "[CV] .................. max_depth=3, min_child_weight=3, total=   0.3s\n",
            "[CV] max_depth=3, min_child_weight=5 .................................\n",
            "[CV] .................. max_depth=3, min_child_weight=3, total=   0.3s\n",
            "[CV] max_depth=3, min_child_weight=5 .................................\n",
            "[CV] .................. max_depth=3, min_child_weight=5, total=   0.3s\n",
            "[CV] max_depth=3, min_child_weight=5 .................................\n",
            "[CV] .................. max_depth=3, min_child_weight=5, total=   0.3s\n",
            "[CV] max_depth=5, min_child_weight=1 .................................\n",
            "[CV] .................. max_depth=3, min_child_weight=5, total=   0.3s\n",
            "[CV] max_depth=5, min_child_weight=1 .................................\n",
            "[CV] .................. max_depth=5, min_child_weight=1, total=   0.5s\n",
            "[CV] max_depth=5, min_child_weight=1 .................................\n",
            "[CV] .................. max_depth=5, min_child_weight=1, total=   0.6s\n",
            "[CV] max_depth=5, min_child_weight=3 .................................\n",
            "[CV] .................. max_depth=5, min_child_weight=1, total=   0.8s\n",
            "[CV] max_depth=5, min_child_weight=3 .................................\n",
            "[CV] .................. max_depth=5, min_child_weight=3, total=   0.8s\n",
            "[CV] max_depth=5, min_child_weight=3 .................................\n",
            "[CV] .................. max_depth=5, min_child_weight=3, total=   0.8s\n",
            "[CV] max_depth=5, min_child_weight=5 .................................\n",
            "[CV] .................. max_depth=5, min_child_weight=3, total=   0.8s\n",
            "[CV] max_depth=5, min_child_weight=5 .................................\n",
            "[CV] .................. max_depth=5, min_child_weight=5, total=   0.8s\n",
            "[CV] max_depth=5, min_child_weight=5 .................................\n",
            "[CV] .................. max_depth=5, min_child_weight=5, total=   0.8s\n",
            "[CV] max_depth=7, min_child_weight=1 .................................\n",
            "[CV] .................. max_depth=5, min_child_weight=5, total=   0.8s\n",
            "[CV] max_depth=7, min_child_weight=1 .................................\n",
            "[CV] .................. max_depth=7, min_child_weight=1, total=   1.0s\n",
            "[CV] max_depth=7, min_child_weight=1 .................................\n",
            "[CV] .................. max_depth=7, min_child_weight=1, total=   1.0s\n",
            "[CV] max_depth=7, min_child_weight=3 .................................\n",
            "[CV] .................. max_depth=7, min_child_weight=1, total=   1.0s\n",
            "[CV] max_depth=7, min_child_weight=3 .................................\n",
            "[CV] .................. max_depth=7, min_child_weight=3, total=   1.0s\n",
            "[CV] max_depth=7, min_child_weight=3 .................................\n",
            "[CV] .................. max_depth=7, min_child_weight=3, total=   1.0s\n",
            "[CV] max_depth=7, min_child_weight=5 .................................\n",
            "[CV] .................. max_depth=7, min_child_weight=3, total=   1.0s\n",
            "[CV] max_depth=7, min_child_weight=5 .................................\n",
            "[CV] .................. max_depth=7, min_child_weight=5, total=   1.0s\n",
            "[CV] max_depth=7, min_child_weight=5 .................................\n",
            "[CV] .................. max_depth=7, min_child_weight=5, total=   1.0s\n",
            "[CV] max_depth=9, min_child_weight=1 .................................\n",
            "[CV] .................. max_depth=7, min_child_weight=5, total=   1.0s\n",
            "[CV] max_depth=9, min_child_weight=1 .................................\n",
            "[CV] .................. max_depth=9, min_child_weight=1, total=   1.1s\n",
            "[CV] max_depth=9, min_child_weight=1 .................................\n",
            "[CV] .................. max_depth=9, min_child_weight=1, total=   1.1s\n",
            "[CV] max_depth=9, min_child_weight=3 .................................\n",
            "[CV] .................. max_depth=9, min_child_weight=1, total=   1.2s\n",
            "[CV] max_depth=9, min_child_weight=3 .................................\n",
            "[CV] .................. max_depth=9, min_child_weight=3, total=   1.3s\n",
            "[CV] max_depth=9, min_child_weight=3 .................................\n",
            "[CV] .................. max_depth=9, min_child_weight=3, total=   1.2s\n",
            "[CV] max_depth=9, min_child_weight=5 .................................\n",
            "[CV] .................. max_depth=9, min_child_weight=3, total=   1.3s\n",
            "[CV] max_depth=9, min_child_weight=5 .................................\n",
            "[CV] .................. max_depth=9, min_child_weight=5, total=   1.2s\n",
            "[CV] max_depth=9, min_child_weight=5 .................................\n",
            "[CV] .................. max_depth=9, min_child_weight=5, total=   1.2s\n",
            "[CV] .................. max_depth=9, min_child_weight=5, total=   1.0s\n"
          ],
          "name": "stdout"
        },
        {
          "output_type": "stream",
          "text": [
            "[Parallel(n_jobs=-1)]: Done  36 out of  36 | elapsed:   15.8s finished\n"
          ],
          "name": "stderr"
        },
        {
          "output_type": "stream",
          "text": [
            "CPU times: user 1.22 s, sys: 93.5 ms, total: 1.31 s\n",
            "Wall time: 16.7 s\n"
          ],
          "name": "stdout"
        },
        {
          "output_type": "execute_result",
          "data": {
            "text/plain": [
              "GridSearchCV(cv=3, error_score='raise',\n",
              "       estimator=XGBRegressor(base_score=0.5, booster='gbtree', colsample_bylevel=1,\n",
              "       colsample_bytree=0.8, gamma=0, learning_rate=0.1, max_delta_step=0,\n",
              "       max_depth=5, min_child_weight=1, missing=None, n_estimators=100,\n",
              "       n_jobs=1, nthread=None, objective='reg:linear', random_state=0,\n",
              "       reg_alpha=0, reg_lambda=1, scale_pos_weight=1, seed=None,\n",
              "       silent=True, subsample=0.8),\n",
              "       fit_params=None, iid=True, n_jobs=-1,\n",
              "       param_grid={'max_depth': [3, 5, 7, 9], 'min_child_weight': [1, 3, 5]},\n",
              "       pre_dispatch='2*n_jobs', refit=True, return_train_score='warn',\n",
              "       scoring=None, verbose=2)"
            ]
          },
          "metadata": {
            "tags": []
          },
          "execution_count": 21
        }
      ]
    },
    {
      "metadata": {
        "id": "7Yfu8-Z_9ISK",
        "colab_type": "code",
        "colab": {
          "base_uri": "https://localhost:8080/",
          "height": 34
        },
        "outputId": "0c724b70-805f-49e8-8ec7-10c9a6353242"
      },
      "cell_type": "code",
      "source": [
        "print(cv.best_params_, cv.best_score_)"
      ],
      "execution_count": 22,
      "outputs": [
        {
          "output_type": "stream",
          "text": [
            "{'max_depth': 5, 'min_child_weight': 5} 0.28820228336545994\n"
          ],
          "name": "stdout"
        }
      ]
    },
    {
      "metadata": {
        "id": "txuGeoCa28JL",
        "colab_type": "code",
        "colab": {
          "base_uri": "https://localhost:8080/",
          "height": 51
        },
        "outputId": "42a6f127-a2a8-499f-fe8a-bbc0302ed373"
      },
      "cell_type": "code",
      "source": [
        "%%time\n",
        "model = xgb.XGBRegressor(**cv.best_params_)\n",
        "model.fit(df_x, df_y)\n"
      ],
      "execution_count": 23,
      "outputs": [
        {
          "output_type": "stream",
          "text": [
            "CPU times: user 2min 54s, sys: 514 ms, total: 2min 55s\n",
            "Wall time: 2min 55s\n"
          ],
          "name": "stdout"
        }
      ]
    },
    {
      "metadata": {
        "id": "3sMCkdyquKKm",
        "colab_type": "code",
        "colab": {
          "base_uri": "https://localhost:8080/",
          "height": 51
        },
        "outputId": "ee052d18-19bb-4531-efe1-32afc3c2772a"
      },
      "cell_type": "code",
      "source": [
        "%%time\n",
        "pickle.dump(model, open(filename, 'wb'))\n",
        "\n",
        "#files.download(filename) "
      ],
      "execution_count": 24,
      "outputs": [
        {
          "output_type": "stream",
          "text": [
            "CPU times: user 35 µs, sys: 2.98 ms, total: 3.01 ms\n",
            "Wall time: 551 ms\n"
          ],
          "name": "stdout"
        }
      ]
    },
    {
      "metadata": {
        "id": "vkrZpuYK28Gk",
        "colab_type": "code",
        "colab": {
          "base_uri": "https://localhost:8080/",
          "height": 34
        },
        "outputId": "90503fe6-1f1a-46e4-8685-1def2bc5d4ba"
      },
      "cell_type": "code",
      "source": [
        "pred = model.predict(x_test)\n",
        "rmse = np.sqrt(mean_squared_error(y_test, pred))\n",
        "print(rmse)"
      ],
      "execution_count": 25,
      "outputs": [
        {
          "output_type": "stream",
          "text": [
            "0.0031198741155470874\n"
          ],
          "name": "stdout"
        }
      ]
    },
    {
      "metadata": {
        "id": "A15QWPOK276j",
        "colab_type": "code",
        "colab": {
          "base_uri": "https://localhost:8080/",
          "height": 1436
        },
        "outputId": "0065c2a4-476c-4ee7-a8ef-716a9b1babee"
      },
      "cell_type": "code",
      "source": [
        "fig, ax = plt.subplots(1, 1, figsize=(7, 25))\n",
        "xgb.plot_importance(model, ax=ax)\n",
        "plt.show()"
      ],
      "execution_count": 26,
      "outputs": [
        {
          "output_type": "display_data",
          "data": {
            "image/png": "[encoded data removed]",
            "text/plain": [
              "<matplotlib.figure.Figure at 0x7ff82b4e0908>"
            ]
          },
          "metadata": {
            "tags": []
          }
        }
      ]
    },
    {
      "metadata": {
        "id": "FpUUhaUaBjgv",
        "colab_type": "code",
        "colab": {}
      },
      "cell_type": "code",
      "source": [
        ""
      ],
      "execution_count": 0,
      "outputs": []
    }
  ]
}