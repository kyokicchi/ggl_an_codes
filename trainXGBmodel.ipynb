{
  "nbformat": 4,
  "nbformat_minor": 0,
  "metadata": {
    "colab": {
      "name": "trainXGBmodel.ipynb",
      "version": "0.3.2",
      "provenance": [],
      "collapsed_sections": [],
      "include_colab_link": true
    },
    "kernelspec": {
      "name": "python3",
      "display_name": "Python 3"
    },
    "accelerator": "GPU"
  },
  "cells": [
    {
      "cell_type": "markdown",
      "metadata": {
        "id": "view-in-github",
        "colab_type": "text"
      },
      "source": [
        "[View in Colaboratory](https://colab.research.google.com/github/kyokicchi/ggl_an_codes/blob/master/trainXGBmodel.ipynb)"
      ]
    },
    {
      "metadata": {
        "id": "H1yvnM0gtdyG",
        "colab_type": "code",
        "outputId": "0b345a13-3315-474d-d693-86b54605763f",
        "colab": {
          "base_uri": "https://localhost:8080/",
          "height": 186
        }
      },
      "cell_type": "code",
      "source": [
        "!pip install --upgrade xgboost"
      ],
      "execution_count": 0,
      "outputs": [
        {
          "output_type": "stream",
          "text": [
            "Collecting xgboost\n",
            "\u001b[?25l  Downloading https://files.pythonhosted.org/packages/8f/15/606f81a2b8a8e82eaa10683cb3f3074905ec65d3bcef949e3f0909f165a5/xgboost-0.80-py2.py3-none-manylinux1_x86_64.whl (15.8MB)\n",
            "\u001b[K    100% |████████████████████████████████| 15.8MB 2.5MB/s \n",
            "\u001b[?25hRequirement already satisfied, skipping upgrade: numpy in /usr/local/lib/python3.6/dist-packages (from xgboost) (1.14.6)\n",
            "Requirement already satisfied, skipping upgrade: scipy in /usr/local/lib/python3.6/dist-packages (from xgboost) (0.19.1)\n",
            "Installing collected packages: xgboost\n",
            "  Found existing installation: xgboost 0.7.post4\n",
            "    Uninstalling xgboost-0.7.post4:\n",
            "      Successfully uninstalled xgboost-0.7.post4\n",
            "Successfully installed xgboost-0.80\n"
          ],
          "name": "stdout"
        }
      ]
    },
    {
      "metadata": {
        "id": "VBMh7_NNsd81",
        "colab_type": "code",
        "colab": {}
      },
      "cell_type": "code",
      "source": [
        "import xgboost as xgb\n",
        "import numpy as np\n",
        "import pandas as pd\n",
        "from google.colab import drive\n",
        "from google.colab import files\n",
        "import scipy.stats as st\n",
        "from sklearn.model_selection import train_test_split\n",
        "from sklearn import model_selection\n",
        "from sklearn.metrics import confusion_matrix, mean_squared_error\n",
        "import pickle\n",
        "import matplotlib.pyplot as plt\n",
        "%matplotlib inline\n",
        "\n"
      ],
      "execution_count": 0,
      "outputs": []
    },
    {
      "metadata": {
        "id": "RWA_gSZkupcD",
        "colab_type": "code",
        "outputId": "c65ea8da-e74a-4faa-f8d8-095a6ed9f048",
        "colab": {
          "base_uri": "https://localhost:8080/",
          "height": 121
        }
      },
      "cell_type": "code",
      "source": [
        "drive.mount('/content/gdrive/')\n"
      ],
      "execution_count": 3,
      "outputs": [
        {
          "output_type": "stream",
          "text": [
            "Go to this URL in a browser: https://accounts.google.com/o/oauth2/auth?client_id=947318989803-6bn6qk8qdgf4n4g3pfee6491hc0brc4i.apps.googleusercontent.com&redirect_uri=urn%3Aietf%3Awg%3Aoauth%3A2.0%3Aoob&scope=email%20https%3A%2F%2Fwww.googleapis.com%2Fauth%2Fdocs.test%20https%3A%2F%2Fwww.googleapis.com%2Fauth%2Fdrive%20https%3A%2F%2Fwww.googleapis.com%2Fauth%2Fdrive.photos.readonly%20https%3A%2F%2Fwww.googleapis.com%2Fauth%2Fpeopleapi.readonly&response_type=code\n",
            "\n",
            "Enter your authorization code:\n",
            "··········\n",
            "Mounted at /content/gdrive/\n"
          ],
          "name": "stdout"
        }
      ]
    },
    {
      "metadata": {
        "id": "4udHYBoasut8",
        "colab_type": "code",
        "outputId": "aa3dc222-1fb3-43d7-f809-d4b315b11c73",
        "colab": {
          "base_uri": "https://localhost:8080/",
          "height": 68
        }
      },
      "cell_type": "code",
      "source": [
        "%cd ../content/gdrive/My Drive/projects/ggl_an/\n",
        "%ls"
      ],
      "execution_count": 4,
      "outputs": [
        {
          "output_type": "stream",
          "text": [
            "/content/gdrive/My Drive/projects/ggl_an\n",
            "model_LGB.sav  model_XGB.sav  user_test_n.csv\n",
            "model_NN.h5    output.csv     user_train_n.csv\n"
          ],
          "name": "stdout"
        }
      ]
    },
    {
      "metadata": {
        "id": "WgV-mt8Yt3kx",
        "colab_type": "code",
        "colab": {}
      },
      "cell_type": "code",
      "source": [
        "s_data = 'user_train_n.csv'\n",
        "filename = 'model_XGB.sav'\n",
        "s_col_tgt = 'transactionRevenue_sum'\n",
        "l_col_drop = [s_col_tgt]\n"
      ],
      "execution_count": 0,
      "outputs": []
    },
    {
      "metadata": {
        "id": "rLA964tMt3as",
        "colab_type": "code",
        "outputId": "b042e69d-a359-4aa4-90da-84fce0bf6e2e",
        "colab": {
          "base_uri": "https://localhost:8080/",
          "height": 68
        }
      },
      "cell_type": "code",
      "source": [
        "%%time\n",
        "df_train = pd.read_csv(s_data, index_col = 0)"
      ],
      "execution_count": 6,
      "outputs": [
        {
          "output_type": "stream",
          "text": [
            "<string>:2: DtypeWarning: Columns (0) have mixed types. Specify dtype option on import or set low_memory=False.\n"
          ],
          "name": "stderr"
        },
        {
          "output_type": "stream",
          "text": [
            "CPU times: user 8.61 s, sys: 1.05 s, total: 9.66 s\n",
            "Wall time: 12.9 s\n"
          ],
          "name": "stdout"
        }
      ]
    },
    {
      "metadata": {
        "id": "0KbqPI6I-Dj8",
        "colab_type": "code",
        "outputId": "2b3fe37c-5d38-4863-f33f-8aafb6e68dce",
        "colab": {
          "base_uri": "https://localhost:8080/",
          "height": 51
        }
      },
      "cell_type": "code",
      "source": [
        "%%time\n",
        "df_y = df_train[s_col_tgt]\n",
        "df_x = df_train.drop(l_col_drop, axis=1)"
      ],
      "execution_count": 7,
      "outputs": [
        {
          "output_type": "stream",
          "text": [
            "CPU times: user 69.9 ms, sys: 184 ms, total: 254 ms\n",
            "Wall time: 254 ms\n"
          ],
          "name": "stdout"
        }
      ]
    },
    {
      "metadata": {
        "id": "C18Gya6_t7tS",
        "colab_type": "code",
        "outputId": "8eac55fe-1ba4-4542-f135-7282cb9add4a",
        "colab": {
          "base_uri": "https://localhost:8080/",
          "height": 51
        }
      },
      "cell_type": "code",
      "source": [
        "%%time\n",
        "x_train, x_test, y_train, y_test = train_test_split(df_x, df_y)\n",
        "x_eval, x_valid, y_eval, y_valid = train_test_split(x_test, y_test)\n"
      ],
      "execution_count": 8,
      "outputs": [
        {
          "output_type": "stream",
          "text": [
            "CPU times: user 1.08 s, sys: 113 ms, total: 1.19 s\n",
            "Wall time: 1.19 s\n"
          ],
          "name": "stdout"
        }
      ]
    },
    {
      "metadata": {
        "id": "nQGFyaCOsvIv",
        "colab_type": "code",
        "outputId": "0128497b-2dff-4933-a9d3-4d62df3faebd",
        "colab": {
          "base_uri": "https://localhost:8080/",
          "height": 34
        }
      },
      "cell_type": "code",
      "source": [
        "%env JOBLIB_TEMP_FOLDER=/tmp\n",
        "\n"
      ],
      "execution_count": 9,
      "outputs": [
        {
          "output_type": "stream",
          "text": [
            "env: JOBLIB_TEMP_FOLDER=/tmp\n"
          ],
          "name": "stdout"
        }
      ]
    },
    {
      "metadata": {
        "id": "wxcOzuHnaM50",
        "colab_type": "code",
        "colab": {}
      },
      "cell_type": "code",
      "source": [
        "model = xgb.XGBRegressor(\n",
        "\n",
        "    n_estimators=100, \n",
        "    max_depth=5,\n",
        "    min_child_weight=1,\n",
        "    gamma=0,\n",
        "    subsample=0.8,\n",
        "    colsample_bytree=0.8,\n",
        ")\n",
        "\n",
        "params = {\n",
        " 'max_depth':[x for x in range(3,10,2)],\n",
        " 'min_child_weight':[x for x in range(1,6,2)]\n",
        "}\n",
        "\n",
        "\n",
        "cv = model_selection.GridSearchCV(estimator = model, param_grid = params, n_jobs=-1, cv=3, verbose = 2)"
      ],
      "execution_count": 0,
      "outputs": []
    },
    {
      "metadata": {
        "id": "y9FxgoVJevK8",
        "colab_type": "code",
        "outputId": "9aef3d71-6cc6-4e5e-8dc4-ae112e58fa86",
        "colab": {
          "base_uri": "https://localhost:8080/",
          "height": 34
        }
      },
      "cell_type": "code",
      "source": [
        "x = df_x[:][:10000]\n",
        "y =  df_y[:][:10000]\n",
        "\n",
        "x.shape, y.shape"
      ],
      "execution_count": 11,
      "outputs": [
        {
          "output_type": "execute_result",
          "data": {
            "text/plain": [
              "((10000, 57), (10000,))"
            ]
          },
          "metadata": {
            "tags": []
          },
          "execution_count": 11
        }
      ]
    },
    {
      "metadata": {
        "id": "725Lciv-3g8N",
        "colab_type": "code",
        "outputId": "5664e1d5-88b5-4310-9e41-6f72add7cb5b",
        "colab": {
          "base_uri": "https://localhost:8080/",
          "height": 1489
        }
      },
      "cell_type": "code",
      "source": [
        "%%time\n",
        "\n",
        "cv.fit(x,y)\n"
      ],
      "execution_count": 12,
      "outputs": [
        {
          "output_type": "stream",
          "text": [
            "Fitting 3 folds for each of 12 candidates, totalling 36 fits\n",
            "[CV] max_depth=3, min_child_weight=1 .................................\n",
            "[CV] max_depth=3, min_child_weight=1 .................................\n",
            "[CV] .................. max_depth=3, min_child_weight=1, total=   1.0s\n",
            "[CV] max_depth=3, min_child_weight=1 .................................\n",
            "[CV] .................. max_depth=3, min_child_weight=1, total=   1.0s\n",
            "[CV] max_depth=3, min_child_weight=3 .................................\n",
            "[CV] .................. max_depth=3, min_child_weight=1, total=   0.8s\n",
            "[CV] max_depth=3, min_child_weight=3 .................................\n",
            "[CV] .................. max_depth=3, min_child_weight=3, total=   0.8s\n",
            "[CV] max_depth=3, min_child_weight=3 .................................\n",
            "[CV] .................. max_depth=3, min_child_weight=3, total=   1.1s\n",
            "[CV] max_depth=3, min_child_weight=5 .................................\n",
            "[CV] .................. max_depth=3, min_child_weight=3, total=   1.1s\n",
            "[CV] max_depth=3, min_child_weight=5 .................................\n",
            "[CV] .................. max_depth=3, min_child_weight=5, total=   1.2s\n",
            "[CV] max_depth=3, min_child_weight=5 .................................\n",
            "[CV] .................. max_depth=3, min_child_weight=5, total=   1.2s\n",
            "[CV] max_depth=5, min_child_weight=1 .................................\n",
            "[CV] .................. max_depth=3, min_child_weight=5, total=   1.2s\n",
            "[CV] max_depth=5, min_child_weight=1 .................................\n",
            "[CV] .................. max_depth=5, min_child_weight=1, total=   2.0s\n",
            "[CV] max_depth=5, min_child_weight=1 .................................\n",
            "[CV] .................. max_depth=5, min_child_weight=1, total=   2.0s\n",
            "[CV] max_depth=5, min_child_weight=3 .................................\n",
            "[CV] .................. max_depth=5, min_child_weight=1, total=   1.9s\n",
            "[CV] max_depth=5, min_child_weight=3 .................................\n",
            "[CV] .................. max_depth=5, min_child_weight=3, total=   1.9s\n",
            "[CV] max_depth=5, min_child_weight=3 .................................\n",
            "[CV] .................. max_depth=5, min_child_weight=3, total=   1.9s\n",
            "[CV] max_depth=5, min_child_weight=5 .................................\n",
            "[CV] .................. max_depth=5, min_child_weight=3, total=   2.0s\n",
            "[CV] max_depth=5, min_child_weight=5 .................................\n",
            "[CV] .................. max_depth=5, min_child_weight=5, total=   1.9s\n",
            "[CV] max_depth=5, min_child_weight=5 .................................\n",
            "[CV] .................. max_depth=5, min_child_weight=5, total=   2.0s\n",
            "[CV] max_depth=7, min_child_weight=1 .................................\n",
            "[CV] .................. max_depth=5, min_child_weight=5, total=   2.0s\n",
            "[CV] max_depth=7, min_child_weight=1 .................................\n",
            "[CV] .................. max_depth=7, min_child_weight=1, total=   2.7s\n",
            "[CV] max_depth=7, min_child_weight=1 .................................\n",
            "[CV] .................. max_depth=7, min_child_weight=1, total=   2.7s\n",
            "[CV] max_depth=7, min_child_weight=3 .................................\n",
            "[CV] .................. max_depth=7, min_child_weight=1, total=   2.7s\n",
            "[CV] max_depth=7, min_child_weight=3 .................................\n",
            "[CV] .................. max_depth=7, min_child_weight=3, total=   2.6s\n",
            "[CV] max_depth=7, min_child_weight=3 .................................\n",
            "[CV] .................. max_depth=7, min_child_weight=3, total=   2.7s\n",
            "[CV] max_depth=7, min_child_weight=5 .................................\n",
            "[CV] .................. max_depth=7, min_child_weight=3, total=   2.7s\n",
            "[CV] max_depth=7, min_child_weight=5 .................................\n",
            "[CV] .................. max_depth=7, min_child_weight=5, total=   2.6s\n",
            "[CV] max_depth=7, min_child_weight=5 .................................\n",
            "[CV] .................. max_depth=7, min_child_weight=5, total=   2.7s\n",
            "[CV] max_depth=9, min_child_weight=1 .................................\n",
            "[CV] .................. max_depth=7, min_child_weight=5, total=   2.6s\n",
            "[CV] max_depth=9, min_child_weight=1 .................................\n",
            "[CV] .................. max_depth=9, min_child_weight=1, total=   3.4s\n",
            "[CV] max_depth=9, min_child_weight=1 .................................\n",
            "[CV] .................. max_depth=9, min_child_weight=1, total=   3.3s\n",
            "[CV] max_depth=9, min_child_weight=3 .................................\n",
            "[CV] .................. max_depth=9, min_child_weight=1, total=   3.4s\n",
            "[CV] max_depth=9, min_child_weight=3 .................................\n",
            "[CV] .................. max_depth=9, min_child_weight=3, total=   3.3s\n",
            "[CV] max_depth=9, min_child_weight=3 .................................\n",
            "[CV] .................. max_depth=9, min_child_weight=3, total=   3.4s\n",
            "[CV] max_depth=9, min_child_weight=5 .................................\n",
            "[CV] .................. max_depth=9, min_child_weight=3, total=   3.3s\n",
            "[CV] max_depth=9, min_child_weight=5 .................................\n",
            "[CV] .................. max_depth=9, min_child_weight=5, total=   3.3s\n",
            "[CV] max_depth=9, min_child_weight=5 .................................\n",
            "[CV] .................. max_depth=9, min_child_weight=5, total=   3.3s\n",
            "[CV] .................. max_depth=9, min_child_weight=5, total=   2.6s\n"
          ],
          "name": "stdout"
        },
        {
          "output_type": "stream",
          "text": [
            "[Parallel(n_jobs=-1)]: Done  36 out of  36 | elapsed:   41.9s finished\n"
          ],
          "name": "stderr"
        },
        {
          "output_type": "stream",
          "text": [
            "CPU times: user 1.91 s, sys: 120 ms, total: 2.03 s\n",
            "Wall time: 43.2 s\n"
          ],
          "name": "stdout"
        },
        {
          "output_type": "execute_result",
          "data": {
            "text/plain": [
              "GridSearchCV(cv=3, error_score='raise',\n",
              "       estimator=XGBRegressor(base_score=0.5, booster='gbtree', colsample_bylevel=1,\n",
              "       colsample_bytree=0.8, gamma=0, learning_rate=0.1, max_delta_step=0,\n",
              "       max_depth=5, min_child_weight=1, missing=None, n_estimators=100,\n",
              "       n_jobs=1, nthread=None, objective='reg:linear', random_state=0,\n",
              "       reg_alpha=0, reg_lambda=1, scale_pos_weight=1, seed=None,\n",
              "       silent=True, subsample=0.8),\n",
              "       fit_params=None, iid=True, n_jobs=-1,\n",
              "       param_grid={'max_depth': [3, 5, 7, 9], 'min_child_weight': [1, 3, 5]},\n",
              "       pre_dispatch='2*n_jobs', refit=True, return_train_score='warn',\n",
              "       scoring=None, verbose=2)"
            ]
          },
          "metadata": {
            "tags": []
          },
          "execution_count": 12
        }
      ]
    },
    {
      "metadata": {
        "id": "7Yfu8-Z_9ISK",
        "colab_type": "code",
        "outputId": "14412548-499d-4eff-f3f3-99285154e040",
        "colab": {
          "base_uri": "https://localhost:8080/",
          "height": 34
        }
      },
      "cell_type": "code",
      "source": [
        "print(cv.best_params_, cv.best_score_)"
      ],
      "execution_count": 14,
      "outputs": [
        {
          "output_type": "stream",
          "text": [
            "{'max_depth': 3, 'min_child_weight': 5} 0.36465305897909195\n"
          ],
          "name": "stdout"
        }
      ]
    },
    {
      "metadata": {
        "id": "txuGeoCa28JL",
        "colab_type": "code",
        "outputId": "d77df6f5-bd76-4269-e97c-53b70a6aa434",
        "colab": {
          "base_uri": "https://localhost:8080/",
          "height": 51
        }
      },
      "cell_type": "code",
      "source": [
        "%%time\n",
        "model = xgb.XGBRegressor(**cv.best_params_)\n",
        "model.fit(df_x, df_y)\n"
      ],
      "execution_count": 15,
      "outputs": [
        {
          "output_type": "stream",
          "text": [
            "CPU times: user 1min 54s, sys: 500 ms, total: 1min 55s\n",
            "Wall time: 1min 55s\n"
          ],
          "name": "stdout"
        }
      ]
    },
    {
      "metadata": {
        "id": "3sMCkdyquKKm",
        "colab_type": "code",
        "outputId": "2e9d9648-138e-427c-dfab-1b11fef47165",
        "colab": {
          "base_uri": "https://localhost:8080/",
          "height": 51
        }
      },
      "cell_type": "code",
      "source": [
        "%%time\n",
        "pickle.dump(model, open(filename, 'wb'))\n",
        "\n",
        "#files.download(filename) "
      ],
      "execution_count": 16,
      "outputs": [
        {
          "output_type": "stream",
          "text": [
            "CPU times: user 2.46 ms, sys: 9 µs, total: 2.47 ms\n",
            "Wall time: 379 ms\n"
          ],
          "name": "stdout"
        }
      ]
    },
    {
      "metadata": {
        "id": "vkrZpuYK28Gk",
        "colab_type": "code",
        "outputId": "a42c2e46-7305-4f7a-b8e6-4fbfabfee7a3",
        "colab": {
          "base_uri": "https://localhost:8080/",
          "height": 34
        }
      },
      "cell_type": "code",
      "source": [
        "pred = model.predict(x_test)\n",
        "rmse = np.sqrt(mean_squared_error(y_test, pred))\n",
        "print(rmse)"
      ],
      "execution_count": 17,
      "outputs": [
        {
          "output_type": "stream",
          "text": [
            "1.9296873029462247\n"
          ],
          "name": "stdout"
        }
      ]
    },
    {
      "metadata": {
        "id": "A15QWPOK276j",
        "colab_type": "code",
        "outputId": "4a541c27-8652-48c3-8be8-0123e8a89863",
        "colab": {
          "base_uri": "https://localhost:8080/",
          "height": 1436
        }
      },
      "cell_type": "code",
      "source": [
        "fig, ax = plt.subplots(1, 1, figsize=(7, 25))\n",
        "xgb.plot_importance(model, ax=ax)\n",
        "plt.show()"
      ],
      "execution_count": 18,
      "outputs": [
        {
          "output_type": "display_data",
          "data": {
            "image/png": "[encoded data removed]",
            "text/plain": [
              "<matplotlib.figure.Figure at 0x7f7cf12d7a20>"
            ]
          },
          "metadata": {
            "tags": []
          }
        }
      ]
    },
    {
      "metadata": {
        "id": "FpUUhaUaBjgv",
        "colab_type": "code",
        "colab": {}
      },
      "cell_type": "code",
      "source": [
        ""
      ],
      "execution_count": 0,
      "outputs": []
    }
  ]
}