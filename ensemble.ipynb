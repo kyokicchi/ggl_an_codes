{
  "nbformat": 4,
  "nbformat_minor": 0,
  "metadata": {
    "colab": {
      "name": "trainNNmodel.ipynb",
      "version": "0.3.2",
      "provenance": [],
      "collapsed_sections": []
    },
    "kernelspec": {
      "display_name": "Python 3",
      "language": "python",
      "name": "python3"
    },
    "accelerator": "GPU"
  },
  "cells": [
    {
      "metadata": {
        "colab_type": "code",
        "id": "uTLbBtpszx1d",
        "colab": {}
      },
      "cell_type": "code",
      "source": [
        "from google.colab import drive\n",
        "from google.colab import files\n",
        "\n",
        "import numpy as np\n",
        "import pandas as pd\n"
      ],
      "execution_count": 0,
      "outputs": []
    },
    {
      "metadata": {
        "colab_type": "code",
        "id": "xPuIYqTaz_VT",
        "outputId": "ed5bd327-76d2-45b2-a23a-e418e936ac9a",
        "colab": {
          "base_uri": "https://localhost:8080/",
          "height": 121
        }
      },
      "cell_type": "code",
      "source": [
        "drive.mount('/content/gdrive')"
      ],
      "execution_count": 2,
      "outputs": [
        {
          "output_type": "stream",
          "text": [
            "Go to this URL in a browser: https://accounts.google.com/o/oauth2/auth?client_id=947318989803-6bn6qk8qdgf4n4g3pfee6491hc0brc4i.apps.googleusercontent.com&redirect_uri=urn%3Aietf%3Awg%3Aoauth%3A2.0%3Aoob&scope=email%20https%3A%2F%2Fwww.googleapis.com%2Fauth%2Fdocs.test%20https%3A%2F%2Fwww.googleapis.com%2Fauth%2Fdrive%20https%3A%2F%2Fwww.googleapis.com%2Fauth%2Fdrive.photos.readonly%20https%3A%2F%2Fwww.googleapis.com%2Fauth%2Fpeopleapi.readonly&response_type=code\n",
            "\n",
            "Enter your authorization code:\n",
            "··········\n",
            "Mounted at /content/gdrive\n"
          ],
          "name": "stdout"
        }
      ]
    },
    {
      "metadata": {
        "colab_type": "code",
        "id": "OfYn9ovCz7tr",
        "outputId": "433af379-2a76-4c45-91b4-13d313dadeb7",
        "colab": {
          "base_uri": "https://localhost:8080/",
          "height": 68
        }
      },
      "cell_type": "code",
      "source": [
        "%cd ../content/gdrive/My Drive/projects/ggl_an/\n",
        "%ls"
      ],
      "execution_count": 3,
      "outputs": [
        {
          "output_type": "stream",
          "text": [
            "/content/gdrive/My Drive/projects/ggl_an\n",
            "model_LGB.sav  output_LGB.csv  user_test.csv    user_train.csv\n",
            "model_NN.h5    output_NN.csv   user_test_n.csv  user_train_n.csv\n"
          ],
          "name": "stdout"
        }
      ]
    },
    {
      "metadata": {
        "colab_type": "code",
        "id": "6oNx0QIG81nE",
        "outputId": "bc5dfc24-28a4-4987-b1ab-9ec66e6bf705",
        "colab": {
          "base_uri": "https://localhost:8080/",
          "height": 51
        }
      },
      "cell_type": "code",
      "source": [
        "%%time\n",
        "\n",
        "df_NN = pd.read_csv('output_NN.csv', index_col = 0, dtype={'fullVisitorId': 'str'})\n",
        "df_LGB = pd.read_csv('output_LGB.csv', index_col = 0, dtype={'fullVisitorId': 'str'})\n",
        "\n",
        "df_NN.columns = ['NN_pred']\n",
        "df_LGB.columns = ['LGB_pred']\n"
      ],
      "execution_count": 15,
      "outputs": [
        {
          "output_type": "stream",
          "text": [
            "CPU times: user 2.21 s, sys: 117 ms, total: 2.32 s\n",
            "Wall time: 2.39 s\n"
          ],
          "name": "stdout"
        }
      ]
    },
    {
      "metadata": {
        "id": "PP0f8GQGYLqq",
        "colab_type": "code",
        "colab": {
          "base_uri": "https://localhost:8080/",
          "height": 295
        },
        "outputId": "d20b6e69-8a74-440c-9709-b5d868bbb1ce"
      },
      "cell_type": "code",
      "source": [
        "df_all = pd.concat((df_NN,df_LGB),axis = 1)\n",
        "df_all.describe()"
      ],
      "execution_count": 16,
      "outputs": [
        {
          "output_type": "execute_result",
          "data": {
            "text/html": [
              "<div>\n",
              "<style scoped>\n",
              "    .dataframe tbody tr th:only-of-type {\n",
              "        vertical-align: middle;\n",
              "    }\n",
              "\n",
              "    .dataframe tbody tr th {\n",
              "        vertical-align: top;\n",
              "    }\n",
              "\n",
              "    .dataframe thead th {\n",
              "        text-align: right;\n",
              "    }\n",
              "</style>\n",
              "<table border=\"1\" class=\"dataframe\">\n",
              "  <thead>\n",
              "    <tr style=\"text-align: right;\">\n",
              "      <th></th>\n",
              "      <th>NN_pred</th>\n",
              "      <th>LGB_pred</th>\n",
              "    </tr>\n",
              "  </thead>\n",
              "  <tbody>\n",
              "    <tr>\n",
              "      <th>count</th>\n",
              "      <td>617242.000000</td>\n",
              "      <td>617242.000000</td>\n",
              "    </tr>\n",
              "    <tr>\n",
              "      <th>mean</th>\n",
              "      <td>0.247548</td>\n",
              "      <td>0.221480</td>\n",
              "    </tr>\n",
              "    <tr>\n",
              "      <th>std</th>\n",
              "      <td>1.439989</td>\n",
              "      <td>1.325335</td>\n",
              "    </tr>\n",
              "    <tr>\n",
              "      <th>min</th>\n",
              "      <td>0.000000</td>\n",
              "      <td>0.000000</td>\n",
              "    </tr>\n",
              "    <tr>\n",
              "      <th>25%</th>\n",
              "      <td>0.000000</td>\n",
              "      <td>0.016143</td>\n",
              "    </tr>\n",
              "    <tr>\n",
              "      <th>50%</th>\n",
              "      <td>0.007620</td>\n",
              "      <td>0.016143</td>\n",
              "    </tr>\n",
              "    <tr>\n",
              "      <th>75%</th>\n",
              "      <td>0.026244</td>\n",
              "      <td>0.016143</td>\n",
              "    </tr>\n",
              "    <tr>\n",
              "      <th>max</th>\n",
              "      <td>174.396260</td>\n",
              "      <td>131.467144</td>\n",
              "    </tr>\n",
              "  </tbody>\n",
              "</table>\n",
              "</div>"
            ],
            "text/plain": [
              "             NN_pred       LGB_pred\n",
              "count  617242.000000  617242.000000\n",
              "mean        0.247548       0.221480\n",
              "std         1.439989       1.325335\n",
              "min         0.000000       0.000000\n",
              "25%         0.000000       0.016143\n",
              "50%         0.007620       0.016143\n",
              "75%         0.026244       0.016143\n",
              "max       174.396260     131.467144"
            ]
          },
          "metadata": {
            "tags": []
          },
          "execution_count": 16
        }
      ]
    },
    {
      "metadata": {
        "id": "qEhTuMgcYLoP",
        "colab_type": "code",
        "colab": {
          "base_uri": "https://localhost:8080/",
          "height": 295
        },
        "outputId": "6fea1698-2781-46da-b857-7953c11cba83"
      },
      "cell_type": "code",
      "source": [
        "df_all['predictedLogRevenue'] = (df_all['NN_pred'] + df_all['LGB_pred'])/2\n",
        "df_all.describe()"
      ],
      "execution_count": 17,
      "outputs": [
        {
          "output_type": "execute_result",
          "data": {
            "text/html": [
              "<div>\n",
              "<style scoped>\n",
              "    .dataframe tbody tr th:only-of-type {\n",
              "        vertical-align: middle;\n",
              "    }\n",
              "\n",
              "    .dataframe tbody tr th {\n",
              "        vertical-align: top;\n",
              "    }\n",
              "\n",
              "    .dataframe thead th {\n",
              "        text-align: right;\n",
              "    }\n",
              "</style>\n",
              "<table border=\"1\" class=\"dataframe\">\n",
              "  <thead>\n",
              "    <tr style=\"text-align: right;\">\n",
              "      <th></th>\n",
              "      <th>NN_pred</th>\n",
              "      <th>LGB_pred</th>\n",
              "      <th>predictedLogRevenue</th>\n",
              "    </tr>\n",
              "  </thead>\n",
              "  <tbody>\n",
              "    <tr>\n",
              "      <th>count</th>\n",
              "      <td>617242.000000</td>\n",
              "      <td>617242.000000</td>\n",
              "      <td>617242.000000</td>\n",
              "    </tr>\n",
              "    <tr>\n",
              "      <th>mean</th>\n",
              "      <td>0.247548</td>\n",
              "      <td>0.221480</td>\n",
              "      <td>0.234514</td>\n",
              "    </tr>\n",
              "    <tr>\n",
              "      <th>std</th>\n",
              "      <td>1.439989</td>\n",
              "      <td>1.325335</td>\n",
              "      <td>1.339719</td>\n",
              "    </tr>\n",
              "    <tr>\n",
              "      <th>min</th>\n",
              "      <td>0.000000</td>\n",
              "      <td>0.000000</td>\n",
              "      <td>0.000000</td>\n",
              "    </tr>\n",
              "    <tr>\n",
              "      <th>25%</th>\n",
              "      <td>0.000000</td>\n",
              "      <td>0.016143</td>\n",
              "      <td>0.008071</td>\n",
              "    </tr>\n",
              "    <tr>\n",
              "      <th>50%</th>\n",
              "      <td>0.007620</td>\n",
              "      <td>0.016143</td>\n",
              "      <td>0.012038</td>\n",
              "    </tr>\n",
              "    <tr>\n",
              "      <th>75%</th>\n",
              "      <td>0.026244</td>\n",
              "      <td>0.016143</td>\n",
              "      <td>0.022896</td>\n",
              "    </tr>\n",
              "    <tr>\n",
              "      <th>max</th>\n",
              "      <td>174.396260</td>\n",
              "      <td>131.467144</td>\n",
              "      <td>143.444353</td>\n",
              "    </tr>\n",
              "  </tbody>\n",
              "</table>\n",
              "</div>"
            ],
            "text/plain": [
              "             NN_pred       LGB_pred  predictedLogRevenue\n",
              "count  617242.000000  617242.000000        617242.000000\n",
              "mean        0.247548       0.221480             0.234514\n",
              "std         1.439989       1.325335             1.339719\n",
              "min         0.000000       0.000000             0.000000\n",
              "25%         0.000000       0.016143             0.008071\n",
              "50%         0.007620       0.016143             0.012038\n",
              "75%         0.026244       0.016143             0.022896\n",
              "max       174.396260     131.467144           143.444353"
            ]
          },
          "metadata": {
            "tags": []
          },
          "execution_count": 17
        }
      ]
    },
    {
      "metadata": {
        "id": "nKVWItmTYLmX",
        "colab_type": "code",
        "colab": {
          "base_uri": "https://localhost:8080/",
          "height": 141
        },
        "outputId": "73969120-5060-424c-d7de-79866b240133"
      },
      "cell_type": "code",
      "source": [
        "df_all.corr()"
      ],
      "execution_count": 18,
      "outputs": [
        {
          "output_type": "execute_result",
          "data": {
            "text/html": [
              "<div>\n",
              "<style scoped>\n",
              "    .dataframe tbody tr th:only-of-type {\n",
              "        vertical-align: middle;\n",
              "    }\n",
              "\n",
              "    .dataframe tbody tr th {\n",
              "        vertical-align: top;\n",
              "    }\n",
              "\n",
              "    .dataframe thead th {\n",
              "        text-align: right;\n",
              "    }\n",
              "</style>\n",
              "<table border=\"1\" class=\"dataframe\">\n",
              "  <thead>\n",
              "    <tr style=\"text-align: right;\">\n",
              "      <th></th>\n",
              "      <th>NN_pred</th>\n",
              "      <th>LGB_pred</th>\n",
              "      <th>predictedLogRevenue</th>\n",
              "    </tr>\n",
              "  </thead>\n",
              "  <tbody>\n",
              "    <tr>\n",
              "      <th>NN_pred</th>\n",
              "      <td>1.000000</td>\n",
              "      <td>0.877485</td>\n",
              "      <td>0.971454</td>\n",
              "    </tr>\n",
              "    <tr>\n",
              "      <th>LGB_pred</th>\n",
              "      <td>0.877485</td>\n",
              "      <td>1.000000</td>\n",
              "      <td>0.966212</td>\n",
              "    </tr>\n",
              "    <tr>\n",
              "      <th>predictedLogRevenue</th>\n",
              "      <td>0.971454</td>\n",
              "      <td>0.966212</td>\n",
              "      <td>1.000000</td>\n",
              "    </tr>\n",
              "  </tbody>\n",
              "</table>\n",
              "</div>"
            ],
            "text/plain": [
              "                      NN_pred  LGB_pred  predictedLogRevenue\n",
              "NN_pred              1.000000  0.877485             0.971454\n",
              "LGB_pred             0.877485  1.000000             0.966212\n",
              "predictedLogRevenue  0.971454  0.966212             1.000000"
            ]
          },
          "metadata": {
            "tags": []
          },
          "execution_count": 18
        }
      ]
    },
    {
      "metadata": {
        "colab_type": "code",
        "id": "2H8GV7bq8U6K",
        "outputId": "4794535e-bbaa-431a-f96e-238a3e5c112f",
        "colab": {
          "base_uri": "https://localhost:8080/",
          "height": 51
        }
      },
      "cell_type": "code",
      "source": [
        "%%time\n",
        "\n",
        "df_all.drop('NN_pred',axis = 1, inplace=True)\n",
        "df_all.drop('LGB_pred',axis = 1, inplace=True)\n",
        "df_all[df_all < 0] = 0"
      ],
      "execution_count": 19,
      "outputs": [
        {
          "output_type": "stream",
          "text": [
            "CPU times: user 58.3 ms, sys: 2.01 ms, total: 60.3 ms\n",
            "Wall time: 62.6 ms\n"
          ],
          "name": "stdout"
        }
      ]
    },
    {
      "metadata": {
        "id": "XhSIqdrNaIMY",
        "colab_type": "code",
        "colab": {}
      },
      "cell_type": "code",
      "source": [
        "df_all.to_csv('output_ens.csv')"
      ],
      "execution_count": 0,
      "outputs": []
    },
    {
      "metadata": {
        "id": "fCPmqzGtaQPJ",
        "colab_type": "code",
        "colab": {
          "base_uri": "https://localhost:8080/",
          "height": 295
        },
        "outputId": "70cbc6df-fdf1-4d18-d3f3-9de427501a75"
      },
      "cell_type": "code",
      "source": [
        "df_all.describe()"
      ],
      "execution_count": 20,
      "outputs": [
        {
          "output_type": "execute_result",
          "data": {
            "text/html": [
              "<div>\n",
              "<style scoped>\n",
              "    .dataframe tbody tr th:only-of-type {\n",
              "        vertical-align: middle;\n",
              "    }\n",
              "\n",
              "    .dataframe tbody tr th {\n",
              "        vertical-align: top;\n",
              "    }\n",
              "\n",
              "    .dataframe thead th {\n",
              "        text-align: right;\n",
              "    }\n",
              "</style>\n",
              "<table border=\"1\" class=\"dataframe\">\n",
              "  <thead>\n",
              "    <tr style=\"text-align: right;\">\n",
              "      <th></th>\n",
              "      <th>predictedLogRevenue</th>\n",
              "    </tr>\n",
              "  </thead>\n",
              "  <tbody>\n",
              "    <tr>\n",
              "      <th>count</th>\n",
              "      <td>617242.000000</td>\n",
              "    </tr>\n",
              "    <tr>\n",
              "      <th>mean</th>\n",
              "      <td>0.234514</td>\n",
              "    </tr>\n",
              "    <tr>\n",
              "      <th>std</th>\n",
              "      <td>1.339719</td>\n",
              "    </tr>\n",
              "    <tr>\n",
              "      <th>min</th>\n",
              "      <td>0.000000</td>\n",
              "    </tr>\n",
              "    <tr>\n",
              "      <th>25%</th>\n",
              "      <td>0.008071</td>\n",
              "    </tr>\n",
              "    <tr>\n",
              "      <th>50%</th>\n",
              "      <td>0.012038</td>\n",
              "    </tr>\n",
              "    <tr>\n",
              "      <th>75%</th>\n",
              "      <td>0.022896</td>\n",
              "    </tr>\n",
              "    <tr>\n",
              "      <th>max</th>\n",
              "      <td>143.444353</td>\n",
              "    </tr>\n",
              "  </tbody>\n",
              "</table>\n",
              "</div>"
            ],
            "text/plain": [
              "       predictedLogRevenue\n",
              "count        617242.000000\n",
              "mean              0.234514\n",
              "std               1.339719\n",
              "min               0.000000\n",
              "25%               0.008071\n",
              "50%               0.012038\n",
              "75%               0.022896\n",
              "max             143.444353"
            ]
          },
          "metadata": {
            "tags": []
          },
          "execution_count": 20
        }
      ]
    },
    {
      "metadata": {
        "colab_type": "code",
        "id": "qjuxQSXI8U3v",
        "outputId": "d8fac323-b16f-4cf5-abdb-4b26378c0944",
        "colab": {
          "base_uri": "https://localhost:8080/",
          "height": 233
        }
      },
      "cell_type": "code",
      "source": [
        "df_all.head()"
      ],
      "execution_count": 23,
      "outputs": [
        {
          "output_type": "execute_result",
          "data": {
            "text/html": [
              "<div>\n",
              "<style scoped>\n",
              "    .dataframe tbody tr th:only-of-type {\n",
              "        vertical-align: middle;\n",
              "    }\n",
              "\n",
              "    .dataframe tbody tr th {\n",
              "        vertical-align: top;\n",
              "    }\n",
              "\n",
              "    .dataframe thead th {\n",
              "        text-align: right;\n",
              "    }\n",
              "</style>\n",
              "<table border=\"1\" class=\"dataframe\">\n",
              "  <thead>\n",
              "    <tr style=\"text-align: right;\">\n",
              "      <th></th>\n",
              "      <th>predictedLogRevenue</th>\n",
              "    </tr>\n",
              "    <tr>\n",
              "      <th>fullVisitorId</th>\n",
              "      <th></th>\n",
              "    </tr>\n",
              "  </thead>\n",
              "  <tbody>\n",
              "    <tr>\n",
              "      <th>0000000259678714014</th>\n",
              "      <td>1.026191</td>\n",
              "    </tr>\n",
              "    <tr>\n",
              "      <th>0000049363351866189</th>\n",
              "      <td>0.019333</td>\n",
              "    </tr>\n",
              "    <tr>\n",
              "      <th>0000053049821714864</th>\n",
              "      <td>0.008071</td>\n",
              "    </tr>\n",
              "    <tr>\n",
              "      <th>0000059488412965267</th>\n",
              "      <td>0.019404</td>\n",
              "    </tr>\n",
              "    <tr>\n",
              "      <th>0000085840370633780</th>\n",
              "      <td>0.028617</td>\n",
              "    </tr>\n",
              "  </tbody>\n",
              "</table>\n",
              "</div>"
            ],
            "text/plain": [
              "                     predictedLogRevenue\n",
              "fullVisitorId                           \n",
              "0000000259678714014             1.026191\n",
              "0000049363351866189             0.019333\n",
              "0000053049821714864             0.008071\n",
              "0000059488412965267             0.019404\n",
              "0000085840370633780             0.028617"
            ]
          },
          "metadata": {
            "tags": []
          },
          "execution_count": 23
        }
      ]
    },
    {
      "metadata": {
        "colab_type": "code",
        "id": "K584rugV8-pc",
        "outputId": "af8d4ccd-4f8b-450e-ac4a-617f37745712",
        "colab": {
          "base_uri": "https://localhost:8080/",
          "height": 118
        }
      },
      "cell_type": "code",
      "source": [
        "df_all.info()"
      ],
      "execution_count": 24,
      "outputs": [
        {
          "output_type": "stream",
          "text": [
            "<class 'pandas.core.frame.DataFrame'>\n",
            "Index: 617242 entries, 0000000259678714014 to 9999997304197521748\n",
            "Data columns (total 1 columns):\n",
            "predictedLogRevenue    617242 non-null float64\n",
            "dtypes: float64(1)\n",
            "memory usage: 9.4+ MB\n"
          ],
          "name": "stdout"
        }
      ]
    }
  ]
}