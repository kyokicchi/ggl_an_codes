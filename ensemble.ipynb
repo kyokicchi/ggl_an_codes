{
  "nbformat": 4,
  "nbformat_minor": 0,
  "metadata": {
    "colab": {
      "name": "trainNNmodel.ipynb",
      "version": "0.3.2",
      "provenance": [],
      "collapsed_sections": []
    },
    "kernelspec": {
      "display_name": "Python 3",
      "language": "python",
      "name": "python3"
    },
    "accelerator": "GPU"
  },
  "cells": [
    {
      "metadata": {
        "colab_type": "code",
        "id": "uTLbBtpszx1d",
        "colab": {}
      },
      "cell_type": "code",
      "source": [
        "from google.colab import drive\n",
        "from google.colab import files\n",
        "\n",
        "import numpy as np\n",
        "import pandas as pd\n"
      ],
      "execution_count": 0,
      "outputs": []
    },
    {
      "metadata": {
        "colab_type": "code",
        "id": "xPuIYqTaz_VT",
        "colab": {}
      },
      "cell_type": "code",
      "source": [
        "drive.mount('/content/gdrive')"
      ],
      "execution_count": 0,
      "outputs": []
    },
    {
      "metadata": {
        "colab_type": "code",
        "id": "OfYn9ovCz7tr",
        "colab": {}
      },
      "cell_type": "code",
      "source": [
        "%cd ../content/gdrive/My Drive/projects/ggl_an/\n",
        "%ls"
      ],
      "execution_count": 0,
      "outputs": []
    },
    {
      "metadata": {
        "colab_type": "code",
        "id": "6oNx0QIG81nE",
        "colab": {}
      },
      "cell_type": "code",
      "source": [
        "%%time\n",
        "filename = 'model_NN.h5'\n",
        "model = load_model(filename)\n",
        "\n",
        "df_train = pd.read_csv('user_train_n.csv', index_col = 0, dtype={'fullVisitorId': 'str'})\n",
        "df_test = pd.read_csv('user_test_n.csv', index_col = 0, dtype={'fullVisitorId': 'str'})\n",
        "\n",
        "df_y = df_train['transactionRevenue']\n",
        "df_x = df_train.drop(['transactionRevenue'], axis=1)\n",
        "df_tgt = df_test.drop(['transactionRevenue'], axis=1)"
      ],
      "execution_count": 0,
      "outputs": []
    },
    {
      "metadata": {
        "colab_type": "code",
        "id": "2H8GV7bq8U6K",
        "colab": {}
      },
      "cell_type": "code",
      "source": [
        "%%time\n",
        "\n",
        "pred_tgt[pred_tgt<0] = 0\n",
        "df_out = pd.DataFrame(index = df_tgt.index)\n",
        "df_out['PredictedLogRevenue'] = pred_tgt\n",
        "\n",
        "df_out.to_csv('output_NN.csv')"
      ],
      "execution_count": 0,
      "outputs": []
    },
    {
      "metadata": {
        "colab_type": "code",
        "id": "qjuxQSXI8U3v",
        "colab": {}
      },
      "cell_type": "code",
      "source": [
        "df_out.head()"
      ],
      "execution_count": 0,
      "outputs": []
    },
    {
      "metadata": {
        "colab_type": "code",
        "id": "K584rugV8-pc",
        "colab": {}
      },
      "cell_type": "code",
      "source": [
        "df_out.info()"
      ],
      "execution_count": 0,
      "outputs": []
    },
    {
      "metadata": {
        "colab_type": "code",
        "id": "EnMs4GSP8-mc",
        "colab": {}
      },
      "cell_type": "code",
      "source": [
        "df_out.describe()"
      ],
      "execution_count": 0,
      "outputs": []
    }
  ]
}