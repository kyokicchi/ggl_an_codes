{
 "cells": [
  {
   "cell_type": "code",
   "execution_count": null,
   "metadata": {
    "colab": {
     "base_uri": "https://localhost:8080/",
     "height": 34
    },
    "colab_type": "code",
    "id": "uTLbBtpszx1d",
    "outputId": "de0fd860-f430-4218-ab8a-7edc8cbadf78"
   },
   "outputs": [],
   "source": [
    "from google.colab import drive\n",
    "from google.colab import files\n",
    "\n",
    "import numpy as np\n",
    "import pandas as pd\n"
   ]
  },
  {
   "cell_type": "code",
   "execution_count": null,
   "metadata": {
    "colab": {
     "base_uri": "https://localhost:8080/",
     "height": 121
    },
    "colab_type": "code",
    "id": "xPuIYqTaz_VT",
    "outputId": "c91a7d57-17e5-43e6-c921-6ed40c66c936"
   },
   "outputs": [],
   "source": [
    "drive.mount('/content/gdrive')"
   ]
  },
  {
   "cell_type": "code",
   "execution_count": null,
   "metadata": {
    "colab": {
     "base_uri": "https://localhost:8080/",
     "height": 68
    },
    "colab_type": "code",
    "id": "OfYn9ovCz7tr",
    "outputId": "fbf69558-82ee-4706-a592-ecad5c980a58"
   },
   "outputs": [],
   "source": [
    "%cd ../content/gdrive/My Drive/projects/ggl_an/\n",
    "%ls"
   ]
  },
  {
   "cell_type": "code",
   "execution_count": null,
   "metadata": {
    "colab": {
     "base_uri": "https://localhost:8080/",
     "height": 51
    },
    "colab_type": "code",
    "id": "6oNx0QIG81nE",
    "outputId": "26e48be7-8413-4fe1-a0ad-cf41b1bf1be3"
   },
   "outputs": [],
   "source": [
    "%%time\n",
    "filename = 'model_NN.h5'\n",
    "model = load_model(filename)\n",
    "\n",
    "df_train = pd.read_csv('user_train_n.csv', index_col = 0, dtype={'fullVisitorId': 'str'})\n",
    "df_test = pd.read_csv('user_test_n.csv', index_col = 0, dtype={'fullVisitorId': 'str'})\n",
    "\n",
    "df_y = df_train['transactionRevenue']\n",
    "df_x = df_train.drop(['transactionRevenue'], axis=1)\n",
    "df_tgt = df_test.drop(['transactionRevenue'], axis=1)"
   ]
  },
  {
   "cell_type": "code",
   "execution_count": null,
   "metadata": {
    "colab": {
     "base_uri": "https://localhost:8080/",
     "height": 51
    },
    "colab_type": "code",
    "id": "2H8GV7bq8U6K",
    "outputId": "246deec1-963e-4e76-8c08-89b601d71e60"
   },
   "outputs": [],
   "source": [
    "%%time\n",
    "\n",
    "pred_tgt[pred_tgt<0] = 0\n",
    "df_out = pd.DataFrame(index = df_tgt.index)\n",
    "df_out['PredictedLogRevenue'] = pred_tgt\n",
    "\n",
    "df_out.to_csv('output_NN.csv')"
   ]
  },
  {
   "cell_type": "code",
   "execution_count": null,
   "metadata": {
    "colab": {
     "base_uri": "https://localhost:8080/",
     "height": 233
    },
    "colab_type": "code",
    "id": "qjuxQSXI8U3v",
    "outputId": "3204d8d5-e04d-44c7-e7b2-ec0a123b945c"
   },
   "outputs": [],
   "source": [
    "df_out.head()"
   ]
  },
  {
   "cell_type": "code",
   "execution_count": null,
   "metadata": {
    "colab": {
     "base_uri": "https://localhost:8080/",
     "height": 118
    },
    "colab_type": "code",
    "id": "K584rugV8-pc",
    "outputId": "eed70726-96de-405a-e03c-e88c2698c480"
   },
   "outputs": [],
   "source": [
    "df_out.info()"
   ]
  },
  {
   "cell_type": "code",
   "execution_count": null,
   "metadata": {
    "colab": {
     "base_uri": "https://localhost:8080/",
     "height": 295
    },
    "colab_type": "code",
    "id": "EnMs4GSP8-mc",
    "outputId": "67522ea1-b74c-4c47-9916-24490e9f4ba4"
   },
   "outputs": [],
   "source": [
    "df_out.describe()"
   ]
  }
 ],
 "metadata": {
  "accelerator": "GPU",
  "colab": {
   "collapsed_sections": [],
   "include_colab_link": true,
   "name": "trainNNmodel.ipynb",
   "provenance": [],
   "version": "0.3.2"
  },
  "kernelspec": {
   "display_name": "Python 3",
   "language": "python",
   "name": "python3"
  },
  "language_info": {
   "codemirror_mode": {
    "name": "ipython",
    "version": 3
   },
   "file_extension": ".py",
   "mimetype": "text/x-python",
   "name": "python",
   "nbconvert_exporter": "python",
   "pygments_lexer": "ipython3",
   "version": "3.7.0"
  },
  "toc": {
   "base_numbering": 1,
   "nav_menu": {},
   "number_sections": true,
   "sideBar": true,
   "skip_h1_title": false,
   "title_cell": "Table of Contents",
   "title_sidebar": "Contents",
   "toc_cell": false,
   "toc_position": {},
   "toc_section_display": true,
   "toc_window_display": false
  }
 },
 "nbformat": 4,
 "nbformat_minor": 1
}
