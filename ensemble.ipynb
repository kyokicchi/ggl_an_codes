{
  "nbformat": 4,
  "nbformat_minor": 0,
  "metadata": {
    "colab": {
      "name": "trainNNmodel.ipynb",
      "version": "0.3.2",
      "provenance": [],
      "collapsed_sections": []
    },
    "kernelspec": {
      "display_name": "Python 3",
      "language": "python",
      "name": "python3"
    },
    "accelerator": "GPU"
  },
  "cells": [
    {
      "metadata": {
        "colab_type": "code",
        "id": "uTLbBtpszx1d",
        "colab": {}
      },
      "cell_type": "code",
      "source": [
        "from google.colab import drive\n",
        "from google.colab import files\n",
        "\n",
        "import numpy as np\n",
        "import pandas as pd\n"
      ],
      "execution_count": 0,
      "outputs": []
    },
    {
      "metadata": {
        "colab_type": "code",
        "id": "xPuIYqTaz_VT",
        "outputId": "ccd1c20e-886d-4a10-b8d4-572f0198600e",
        "colab": {
          "base_uri": "https://localhost:8080/",
          "height": 121
        }
      },
      "cell_type": "code",
      "source": [
        "drive.mount('/content/gdrive')"
      ],
      "execution_count": 2,
      "outputs": [
        {
          "output_type": "stream",
          "text": [
            "Go to this URL in a browser: https://accounts.google.com/o/oauth2/auth?client_id=947318989803-6bn6qk8qdgf4n4g3pfee6491hc0brc4i.apps.googleusercontent.com&redirect_uri=urn%3Aietf%3Awg%3Aoauth%3A2.0%3Aoob&scope=email%20https%3A%2F%2Fwww.googleapis.com%2Fauth%2Fdocs.test%20https%3A%2F%2Fwww.googleapis.com%2Fauth%2Fdrive%20https%3A%2F%2Fwww.googleapis.com%2Fauth%2Fdrive.photos.readonly%20https%3A%2F%2Fwww.googleapis.com%2Fauth%2Fpeopleapi.readonly&response_type=code\n",
            "\n",
            "Enter your authorization code:\n",
            "··········\n",
            "Mounted at /content/gdrive\n"
          ],
          "name": "stdout"
        }
      ]
    },
    {
      "metadata": {
        "colab_type": "code",
        "id": "OfYn9ovCz7tr",
        "outputId": "4c3ebde4-6b2d-4b92-ea84-7fee0c47ed25",
        "colab": {
          "base_uri": "https://localhost:8080/",
          "height": 68
        }
      },
      "cell_type": "code",
      "source": [
        "%cd ../content/gdrive/My Drive/projects/ggl_an/\n",
        "%ls"
      ],
      "execution_count": 3,
      "outputs": [
        {
          "output_type": "stream",
          "text": [
            "/content/gdrive/My Drive/projects/ggl_an\n",
            "model_LGB.sav  output_ens.csv  output_NN.csv  user_test_n.csv  user_train_n.csv\n",
            "model_NN.h5    output_LGB.csv  user_test.csv  user_train.csv\n"
          ],
          "name": "stdout"
        }
      ]
    },
    {
      "metadata": {
        "colab_type": "code",
        "id": "6oNx0QIG81nE",
        "outputId": "7cee525e-8c01-46e1-922c-2e5fd59c46df",
        "colab": {
          "base_uri": "https://localhost:8080/",
          "height": 51
        }
      },
      "cell_type": "code",
      "source": [
        "%%time\n",
        "\n",
        "df_NN = pd.read_csv('output_NN.csv', index_col = 0, dtype={'fullVisitorId': 'str'})\n",
        "df_LGB = pd.read_csv('output_LGB.csv', index_col = 0, dtype={'fullVisitorId': 'str'})\n",
        "\n",
        "df_NN.columns = ['NN_pred']\n",
        "df_LGB.columns = ['LGB_pred']\n"
      ],
      "execution_count": 4,
      "outputs": [
        {
          "output_type": "stream",
          "text": [
            "CPU times: user 1.48 s, sys: 129 ms, total: 1.61 s\n",
            "Wall time: 3.82 s\n"
          ],
          "name": "stdout"
        }
      ]
    },
    {
      "metadata": {
        "id": "PP0f8GQGYLqq",
        "colab_type": "code",
        "outputId": "5c51919e-46c6-41aa-b323-69b7909402f3",
        "colab": {
          "base_uri": "https://localhost:8080/",
          "height": 295
        }
      },
      "cell_type": "code",
      "source": [
        "df_all = pd.concat((df_NN,df_LGB),axis = 1)\n",
        "df_all.describe()"
      ],
      "execution_count": 5,
      "outputs": [
        {
          "output_type": "execute_result",
          "data": {
            "text/html": [
              "<div>\n",
              "<style scoped>\n",
              "    .dataframe tbody tr th:only-of-type {\n",
              "        vertical-align: middle;\n",
              "    }\n",
              "\n",
              "    .dataframe tbody tr th {\n",
              "        vertical-align: top;\n",
              "    }\n",
              "\n",
              "    .dataframe thead th {\n",
              "        text-align: right;\n",
              "    }\n",
              "</style>\n",
              "<table border=\"1\" class=\"dataframe\">\n",
              "  <thead>\n",
              "    <tr style=\"text-align: right;\">\n",
              "      <th></th>\n",
              "      <th>NN_pred</th>\n",
              "      <th>LGB_pred</th>\n",
              "    </tr>\n",
              "  </thead>\n",
              "  <tbody>\n",
              "    <tr>\n",
              "      <th>count</th>\n",
              "      <td>617242.000000</td>\n",
              "      <td>617242.000000</td>\n",
              "    </tr>\n",
              "    <tr>\n",
              "      <th>mean</th>\n",
              "      <td>0.195547</td>\n",
              "      <td>0.221480</td>\n",
              "    </tr>\n",
              "    <tr>\n",
              "      <th>std</th>\n",
              "      <td>1.414657</td>\n",
              "      <td>1.325335</td>\n",
              "    </tr>\n",
              "    <tr>\n",
              "      <th>min</th>\n",
              "      <td>0.000000</td>\n",
              "      <td>0.000000</td>\n",
              "    </tr>\n",
              "    <tr>\n",
              "      <th>25%</th>\n",
              "      <td>0.003840</td>\n",
              "      <td>0.016143</td>\n",
              "    </tr>\n",
              "    <tr>\n",
              "      <th>50%</th>\n",
              "      <td>0.005478</td>\n",
              "      <td>0.016143</td>\n",
              "    </tr>\n",
              "    <tr>\n",
              "      <th>75%</th>\n",
              "      <td>0.009249</td>\n",
              "      <td>0.016143</td>\n",
              "    </tr>\n",
              "    <tr>\n",
              "      <th>max</th>\n",
              "      <td>170.747440</td>\n",
              "      <td>131.467144</td>\n",
              "    </tr>\n",
              "  </tbody>\n",
              "</table>\n",
              "</div>"
            ],
            "text/plain": [
              "             NN_pred       LGB_pred\n",
              "count  617242.000000  617242.000000\n",
              "mean        0.195547       0.221480\n",
              "std         1.414657       1.325335\n",
              "min         0.000000       0.000000\n",
              "25%         0.003840       0.016143\n",
              "50%         0.005478       0.016143\n",
              "75%         0.009249       0.016143\n",
              "max       170.747440     131.467144"
            ]
          },
          "metadata": {
            "tags": []
          },
          "execution_count": 5
        }
      ]
    },
    {
      "metadata": {
        "id": "qEhTuMgcYLoP",
        "colab_type": "code",
        "outputId": "d521874f-b214-4018-d564-4ff34fe7ddcd",
        "colab": {
          "base_uri": "https://localhost:8080/",
          "height": 295
        }
      },
      "cell_type": "code",
      "source": [
        "df_all['predictedLogRevenue'] = (df_all['NN_pred'] + df_all['LGB_pred'])/2\n",
        "df_all.describe()"
      ],
      "execution_count": 6,
      "outputs": [
        {
          "output_type": "execute_result",
          "data": {
            "text/html": [
              "<div>\n",
              "<style scoped>\n",
              "    .dataframe tbody tr th:only-of-type {\n",
              "        vertical-align: middle;\n",
              "    }\n",
              "\n",
              "    .dataframe tbody tr th {\n",
              "        vertical-align: top;\n",
              "    }\n",
              "\n",
              "    .dataframe thead th {\n",
              "        text-align: right;\n",
              "    }\n",
              "</style>\n",
              "<table border=\"1\" class=\"dataframe\">\n",
              "  <thead>\n",
              "    <tr style=\"text-align: right;\">\n",
              "      <th></th>\n",
              "      <th>NN_pred</th>\n",
              "      <th>LGB_pred</th>\n",
              "      <th>predictedLogRevenue</th>\n",
              "    </tr>\n",
              "  </thead>\n",
              "  <tbody>\n",
              "    <tr>\n",
              "      <th>count</th>\n",
              "      <td>617242.000000</td>\n",
              "      <td>617242.000000</td>\n",
              "      <td>617242.000000</td>\n",
              "    </tr>\n",
              "    <tr>\n",
              "      <th>mean</th>\n",
              "      <td>0.195547</td>\n",
              "      <td>0.221480</td>\n",
              "      <td>0.208513</td>\n",
              "    </tr>\n",
              "    <tr>\n",
              "      <th>std</th>\n",
              "      <td>1.414657</td>\n",
              "      <td>1.325335</td>\n",
              "      <td>1.280478</td>\n",
              "    </tr>\n",
              "    <tr>\n",
              "      <th>min</th>\n",
              "      <td>0.000000</td>\n",
              "      <td>0.000000</td>\n",
              "      <td>0.000000</td>\n",
              "    </tr>\n",
              "    <tr>\n",
              "      <th>25%</th>\n",
              "      <td>0.003840</td>\n",
              "      <td>0.016143</td>\n",
              "      <td>0.009988</td>\n",
              "    </tr>\n",
              "    <tr>\n",
              "      <th>50%</th>\n",
              "      <td>0.005478</td>\n",
              "      <td>0.016143</td>\n",
              "      <td>0.010851</td>\n",
              "    </tr>\n",
              "    <tr>\n",
              "      <th>75%</th>\n",
              "      <td>0.009249</td>\n",
              "      <td>0.016143</td>\n",
              "      <td>0.013478</td>\n",
              "    </tr>\n",
              "    <tr>\n",
              "      <th>max</th>\n",
              "      <td>170.747440</td>\n",
              "      <td>131.467144</td>\n",
              "      <td>104.088443</td>\n",
              "    </tr>\n",
              "  </tbody>\n",
              "</table>\n",
              "</div>"
            ],
            "text/plain": [
              "             NN_pred       LGB_pred  predictedLogRevenue\n",
              "count  617242.000000  617242.000000        617242.000000\n",
              "mean        0.195547       0.221480             0.208513\n",
              "std         1.414657       1.325335             1.280478\n",
              "min         0.000000       0.000000             0.000000\n",
              "25%         0.003840       0.016143             0.009988\n",
              "50%         0.005478       0.016143             0.010851\n",
              "75%         0.009249       0.016143             0.013478\n",
              "max       170.747440     131.467144           104.088443"
            ]
          },
          "metadata": {
            "tags": []
          },
          "execution_count": 6
        }
      ]
    },
    {
      "metadata": {
        "id": "nKVWItmTYLmX",
        "colab_type": "code",
        "outputId": "78713d95-8515-46ae-d8ea-a4cd6cd64172",
        "colab": {
          "base_uri": "https://localhost:8080/",
          "height": 141
        }
      },
      "cell_type": "code",
      "source": [
        "df_all.corr()"
      ],
      "execution_count": 7,
      "outputs": [
        {
          "output_type": "execute_result",
          "data": {
            "text/html": [
              "<div>\n",
              "<style scoped>\n",
              "    .dataframe tbody tr th:only-of-type {\n",
              "        vertical-align: middle;\n",
              "    }\n",
              "\n",
              "    .dataframe tbody tr th {\n",
              "        vertical-align: top;\n",
              "    }\n",
              "\n",
              "    .dataframe thead th {\n",
              "        text-align: right;\n",
              "    }\n",
              "</style>\n",
              "<table border=\"1\" class=\"dataframe\">\n",
              "  <thead>\n",
              "    <tr style=\"text-align: right;\">\n",
              "      <th></th>\n",
              "      <th>NN_pred</th>\n",
              "      <th>LGB_pred</th>\n",
              "      <th>predictedLogRevenue</th>\n",
              "    </tr>\n",
              "  </thead>\n",
              "  <tbody>\n",
              "    <tr>\n",
              "      <th>NN_pred</th>\n",
              "      <td>1.000000</td>\n",
              "      <td>0.746904</td>\n",
              "      <td>0.938928</td>\n",
              "    </tr>\n",
              "    <tr>\n",
              "      <th>LGB_pred</th>\n",
              "      <td>0.746904</td>\n",
              "      <td>1.000000</td>\n",
              "      <td>0.930101</td>\n",
              "    </tr>\n",
              "    <tr>\n",
              "      <th>predictedLogRevenue</th>\n",
              "      <td>0.938928</td>\n",
              "      <td>0.930101</td>\n",
              "      <td>1.000000</td>\n",
              "    </tr>\n",
              "  </tbody>\n",
              "</table>\n",
              "</div>"
            ],
            "text/plain": [
              "                      NN_pred  LGB_pred  predictedLogRevenue\n",
              "NN_pred              1.000000  0.746904             0.938928\n",
              "LGB_pred             0.746904  1.000000             0.930101\n",
              "predictedLogRevenue  0.938928  0.930101             1.000000"
            ]
          },
          "metadata": {
            "tags": []
          },
          "execution_count": 7
        }
      ]
    },
    {
      "metadata": {
        "colab_type": "code",
        "id": "2H8GV7bq8U6K",
        "outputId": "547797c6-d6cd-4d79-ad6f-d0a0680f1485",
        "colab": {
          "base_uri": "https://localhost:8080/",
          "height": 51
        }
      },
      "cell_type": "code",
      "source": [
        "%%time\n",
        "\n",
        "df_all.drop('NN_pred',axis = 1, inplace=True)\n",
        "df_all.drop('LGB_pred',axis = 1, inplace=True)\n",
        "df_all[df_all < 0] = 0"
      ],
      "execution_count": 8,
      "outputs": [
        {
          "output_type": "stream",
          "text": [
            "CPU times: user 10.6 ms, sys: 3.11 ms, total: 13.7 ms\n",
            "Wall time: 14 ms\n"
          ],
          "name": "stdout"
        }
      ]
    },
    {
      "metadata": {
        "id": "XhSIqdrNaIMY",
        "colab_type": "code",
        "colab": {}
      },
      "cell_type": "code",
      "source": [
        "df_all.to_csv('output_ens.csv')"
      ],
      "execution_count": 0,
      "outputs": []
    },
    {
      "metadata": {
        "id": "fCPmqzGtaQPJ",
        "colab_type": "code",
        "outputId": "ee458dfb-aadf-43b4-ed80-5804383daeb7",
        "colab": {
          "base_uri": "https://localhost:8080/",
          "height": 295
        }
      },
      "cell_type": "code",
      "source": [
        "df_all.describe()"
      ],
      "execution_count": 10,
      "outputs": [
        {
          "output_type": "execute_result",
          "data": {
            "text/html": [
              "<div>\n",
              "<style scoped>\n",
              "    .dataframe tbody tr th:only-of-type {\n",
              "        vertical-align: middle;\n",
              "    }\n",
              "\n",
              "    .dataframe tbody tr th {\n",
              "        vertical-align: top;\n",
              "    }\n",
              "\n",
              "    .dataframe thead th {\n",
              "        text-align: right;\n",
              "    }\n",
              "</style>\n",
              "<table border=\"1\" class=\"dataframe\">\n",
              "  <thead>\n",
              "    <tr style=\"text-align: right;\">\n",
              "      <th></th>\n",
              "      <th>predictedLogRevenue</th>\n",
              "    </tr>\n",
              "  </thead>\n",
              "  <tbody>\n",
              "    <tr>\n",
              "      <th>count</th>\n",
              "      <td>617242.000000</td>\n",
              "    </tr>\n",
              "    <tr>\n",
              "      <th>mean</th>\n",
              "      <td>0.208513</td>\n",
              "    </tr>\n",
              "    <tr>\n",
              "      <th>std</th>\n",
              "      <td>1.280478</td>\n",
              "    </tr>\n",
              "    <tr>\n",
              "      <th>min</th>\n",
              "      <td>0.000000</td>\n",
              "    </tr>\n",
              "    <tr>\n",
              "      <th>25%</th>\n",
              "      <td>0.009988</td>\n",
              "    </tr>\n",
              "    <tr>\n",
              "      <th>50%</th>\n",
              "      <td>0.010851</td>\n",
              "    </tr>\n",
              "    <tr>\n",
              "      <th>75%</th>\n",
              "      <td>0.013478</td>\n",
              "    </tr>\n",
              "    <tr>\n",
              "      <th>max</th>\n",
              "      <td>104.088443</td>\n",
              "    </tr>\n",
              "  </tbody>\n",
              "</table>\n",
              "</div>"
            ],
            "text/plain": [
              "       predictedLogRevenue\n",
              "count        617242.000000\n",
              "mean              0.208513\n",
              "std               1.280478\n",
              "min               0.000000\n",
              "25%               0.009988\n",
              "50%               0.010851\n",
              "75%               0.013478\n",
              "max             104.088443"
            ]
          },
          "metadata": {
            "tags": []
          },
          "execution_count": 10
        }
      ]
    },
    {
      "metadata": {
        "colab_type": "code",
        "id": "qjuxQSXI8U3v",
        "outputId": "b537ea67-d687-4dac-d371-6ffc6fb8ba25",
        "colab": {
          "base_uri": "https://localhost:8080/",
          "height": 233
        }
      },
      "cell_type": "code",
      "source": [
        "df_all.head()"
      ],
      "execution_count": 11,
      "outputs": [
        {
          "output_type": "execute_result",
          "data": {
            "text/html": [
              "<div>\n",
              "<style scoped>\n",
              "    .dataframe tbody tr th:only-of-type {\n",
              "        vertical-align: middle;\n",
              "    }\n",
              "\n",
              "    .dataframe tbody tr th {\n",
              "        vertical-align: top;\n",
              "    }\n",
              "\n",
              "    .dataframe thead th {\n",
              "        text-align: right;\n",
              "    }\n",
              "</style>\n",
              "<table border=\"1\" class=\"dataframe\">\n",
              "  <thead>\n",
              "    <tr style=\"text-align: right;\">\n",
              "      <th></th>\n",
              "      <th>predictedLogRevenue</th>\n",
              "    </tr>\n",
              "    <tr>\n",
              "      <th>fullVisitorId</th>\n",
              "      <th></th>\n",
              "    </tr>\n",
              "  </thead>\n",
              "  <tbody>\n",
              "    <tr>\n",
              "      <th>0000000259678714014</th>\n",
              "      <td>0.608124</td>\n",
              "    </tr>\n",
              "    <tr>\n",
              "      <th>0000049363351866189</th>\n",
              "      <td>0.011403</td>\n",
              "    </tr>\n",
              "    <tr>\n",
              "      <th>0000053049821714864</th>\n",
              "      <td>0.009922</td>\n",
              "    </tr>\n",
              "    <tr>\n",
              "      <th>0000059488412965267</th>\n",
              "      <td>0.021072</td>\n",
              "    </tr>\n",
              "    <tr>\n",
              "      <th>0000085840370633780</th>\n",
              "      <td>0.040247</td>\n",
              "    </tr>\n",
              "  </tbody>\n",
              "</table>\n",
              "</div>"
            ],
            "text/plain": [
              "                     predictedLogRevenue\n",
              "fullVisitorId                           \n",
              "0000000259678714014             0.608124\n",
              "0000049363351866189             0.011403\n",
              "0000053049821714864             0.009922\n",
              "0000059488412965267             0.021072\n",
              "0000085840370633780             0.040247"
            ]
          },
          "metadata": {
            "tags": []
          },
          "execution_count": 11
        }
      ]
    },
    {
      "metadata": {
        "colab_type": "code",
        "id": "K584rugV8-pc",
        "outputId": "7b7c38f3-3e3e-43cd-e2b4-d48f6cd9b145",
        "colab": {
          "base_uri": "https://localhost:8080/",
          "height": 118
        }
      },
      "cell_type": "code",
      "source": [
        "df_all.info()"
      ],
      "execution_count": 12,
      "outputs": [
        {
          "output_type": "stream",
          "text": [
            "<class 'pandas.core.frame.DataFrame'>\n",
            "Index: 617242 entries, 0000000259678714014 to 9999997304197521748\n",
            "Data columns (total 1 columns):\n",
            "predictedLogRevenue    617242 non-null float64\n",
            "dtypes: float64(1)\n",
            "memory usage: 9.4+ MB\n"
          ],
          "name": "stdout"
        }
      ]
    },
    {
      "metadata": {
        "id": "_nm9zImHxoSx",
        "colab_type": "code",
        "colab": {}
      },
      "cell_type": "code",
      "source": [
        ""
      ],
      "execution_count": 0,
      "outputs": []
    }
  ]
}