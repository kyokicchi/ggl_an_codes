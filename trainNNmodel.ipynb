{
  "nbformat": 4,
  "nbformat_minor": 0,
  "metadata": {
    "colab": {
      "name": "trainNNmodel.ipynb",
      "version": "0.3.2",
      "provenance": [],
      "collapsed_sections": [],
      "include_colab_link": true
    },
    "kernelspec": {
      "name": "python3",
      "display_name": "Python 3"
    },
    "accelerator": "GPU"
  },
  "cells": [
    {
      "cell_type": "markdown",
      "metadata": {
        "id": "view-in-github",
        "colab_type": "text"
      },
      "source": [
        "[View in Colaboratory](https://colab.research.google.com/github/kyokicchi/kaggle_codes/blob/master/trainNNmodel.ipynb)"
      ]
    },
    {
      "metadata": {
        "id": "Qq_8KnnX5o9d",
        "colab_type": "code",
        "colab": {
          "base_uri": "https://localhost:8080/",
          "height": 34
        },
        "outputId": "4a63515f-40a1-4249-9df2-42bc2bc7b909"
      },
      "cell_type": "code",
      "source": [
        "!pip install tqdm\n",
        "from tqdm import tqdm"
      ],
      "execution_count": 1,
      "outputs": [
        {
          "output_type": "stream",
          "text": [
            "Requirement already satisfied: tqdm in /usr/local/lib/python3.6/dist-packages (4.26.0)\n"
          ],
          "name": "stdout"
        }
      ]
    },
    {
      "metadata": {
        "id": "uTLbBtpszx1d",
        "colab_type": "code",
        "colab": {
          "base_uri": "https://localhost:8080/",
          "height": 34
        },
        "outputId": "a4cc3089-1c2b-48c3-e38b-a2ae5af48bb1"
      },
      "cell_type": "code",
      "source": [
        "import numpy as np\n",
        "import pandas as pd\n",
        "from google.colab import drive\n",
        "from google.colab import files\n",
        "import pickle\n",
        "import matplotlib.pyplot as plt\n",
        "%matplotlib inline\n",
        "from keras import models\n",
        "from keras import layers\n",
        "\n",
        "from keras.models import load_model\n"
      ],
      "execution_count": 2,
      "outputs": [
        {
          "output_type": "stream",
          "text": [
            "Using TensorFlow backend.\n"
          ],
          "name": "stderr"
        }
      ]
    },
    {
      "metadata": {
        "id": "xPuIYqTaz_VT",
        "colab_type": "code",
        "colab": {
          "base_uri": "https://localhost:8080/",
          "height": 121
        },
        "outputId": "5e6a1aed-a18e-41b6-d5b1-1c7e89e6c5b4"
      },
      "cell_type": "code",
      "source": [
        "drive.mount('/content/gdrive')"
      ],
      "execution_count": 3,
      "outputs": [
        {
          "output_type": "stream",
          "text": [
            "Go to this URL in a browser: https://accounts.google.com/o/oauth2/auth?client_id=947318989803-6bn6qk8qdgf4n4g3pfee6491hc0brc4i.apps.googleusercontent.com&redirect_uri=urn%3Aietf%3Awg%3Aoauth%3A2.0%3Aoob&scope=email%20https%3A%2F%2Fwww.googleapis.com%2Fauth%2Fdocs.test%20https%3A%2F%2Fwww.googleapis.com%2Fauth%2Fdrive%20https%3A%2F%2Fwww.googleapis.com%2Fauth%2Fdrive.photos.readonly%20https%3A%2F%2Fwww.googleapis.com%2Fauth%2Fpeopleapi.readonly&response_type=code\n",
            "\n",
            "Enter your authorization code:\n",
            "··········\n",
            "Mounted at /content/gdrive\n"
          ],
          "name": "stdout"
        }
      ]
    },
    {
      "metadata": {
        "id": "OfYn9ovCz7tr",
        "colab_type": "code",
        "colab": {
          "base_uri": "https://localhost:8080/",
          "height": 51
        },
        "outputId": "215ed32a-05c4-4df9-c58e-11d2068d0a68"
      },
      "cell_type": "code",
      "source": [
        "%cd ../content/gdrive/My Drive/projects/\n",
        "%ls"
      ],
      "execution_count": 4,
      "outputs": [
        {
          "output_type": "stream",
          "text": [
            "/content/gdrive/My Drive/projects\n",
            "model_LGB.sav  model_NN.h5  model_XGB.sav  user_train_wip.csv\n"
          ],
          "name": "stdout"
        }
      ]
    },
    {
      "metadata": {
        "id": "pHlvGsudz_SD",
        "colab_type": "code",
        "colab": {}
      },
      "cell_type": "code",
      "source": [
        "s_data = 'user_train_wip.csv'\n",
        "s_col_tgt = 'totals.transactionRevenue_sum'\n",
        "l_col_drop = ['date_min', 'date_max',s_col_tgt]\n",
        "filename = 'model_NN.h5'"
      ],
      "execution_count": 0,
      "outputs": []
    },
    {
      "metadata": {
        "id": "BfDpMe_zz_Pm",
        "colab_type": "code",
        "colab": {
          "base_uri": "https://localhost:8080/",
          "height": 68
        },
        "outputId": "21fb6c75-76b2-4b98-ad04-4baab86297a8"
      },
      "cell_type": "code",
      "source": [
        "%%time\n",
        "df_train = pd.read_csv(s_data, index_col = 0)\n",
        "df_y = df_train[s_col_tgt]\n",
        "df_x = df_train.drop(l_col_drop, axis=1)"
      ],
      "execution_count": 6,
      "outputs": [
        {
          "output_type": "stream",
          "text": [
            "<string>:2: DtypeWarning: Columns (0) have mixed types. Specify dtype option on import or set low_memory=False.\n"
          ],
          "name": "stderr"
        },
        {
          "output_type": "stream",
          "text": [
            "CPU times: user 9.88 s, sys: 1.83 s, total: 11.7 s\n",
            "Wall time: 13.8 s\n"
          ],
          "name": "stdout"
        }
      ]
    },
    {
      "metadata": {
        "id": "497BuD1i2lys",
        "colab_type": "code",
        "colab": {}
      },
      "cell_type": "code",
      "source": [
        "def build_model(N_col):\n",
        "    model = models.Sequential()\n",
        "    model.add(layers.Dense(120, activation='relu', input_shape=(N_col,)))\n",
        "    model.add(layers.Dense(60, activation='relu'))\n",
        "    model.add(layers.Dense(1))\n",
        "    model.compile(optimizer='rmsprop', loss='mse', metrics=['mae'])\n",
        "    return model"
      ],
      "execution_count": 0,
      "outputs": []
    },
    {
      "metadata": {
        "id": "kLBy81di22p0",
        "colab_type": "code",
        "colab": {
          "base_uri": "https://localhost:8080/",
          "height": 745
        },
        "outputId": "25b46c18-206a-482d-969e-c90e130c4eda"
      },
      "cell_type": "code",
      "source": [
        "%%time\n",
        "epochs = 100\n",
        "batch_size = df_x.shape[0] // 4\n",
        "validation_split = 0.1\n",
        "\n",
        "model = build_model(df_x.shape[1])\n",
        "\n",
        "history = model.fit(df_x_n,\n",
        "                    df_y,\n",
        "                    epochs=epochs,\n",
        "                    batch_size=batch_size,\n",
        "                    validation_split = validation_split,\n",
        "                    verbose=1)"
      ],
      "execution_count": 16,
      "outputs": [
        {
          "output_type": "stream",
          "text": [
            "Train on 642750 samples, validate on 71417 samples\n",
            "Epoch 1/20\n",
            "642750/642750 [==============================] - 3s 5us/step - loss: 7.1839 - mean_absolute_error: 0.7156 - val_loss: 6.6078 - val_mean_absolute_error: 0.6457\n",
            "Epoch 2/20\n",
            "642750/642750 [==============================] - 3s 4us/step - loss: 6.4181 - mean_absolute_error: 0.6325 - val_loss: 6.1331 - val_mean_absolute_error: 0.6519\n",
            "Epoch 3/20\n",
            "642750/642750 [==============================] - 3s 4us/step - loss: 6.0711 - mean_absolute_error: 0.6063 - val_loss: 5.8160 - val_mean_absolute_error: 0.6096\n",
            "Epoch 4/20\n",
            "642750/642750 [==============================] - 3s 4us/step - loss: 5.8598 - mean_absolute_error: 0.5786 - val_loss: 5.6210 - val_mean_absolute_error: 0.5756\n",
            "Epoch 5/20\n",
            "642750/642750 [==============================] - 3s 4us/step - loss: 5.7467 - mean_absolute_error: 0.5662 - val_loss: 5.4865 - val_mean_absolute_error: 0.5668\n",
            "Epoch 6/20\n",
            "642750/642750 [==============================] - 3s 4us/step - loss: 5.6360 - mean_absolute_error: 0.5481 - val_loss: 5.3928 - val_mean_absolute_error: 0.5501\n",
            "Epoch 7/20\n",
            "642750/642750 [==============================] - 3s 4us/step - loss: 5.5813 - mean_absolute_error: 0.5431 - val_loss: 5.3366 - val_mean_absolute_error: 0.5455\n",
            "Epoch 8/20\n",
            "642750/642750 [==============================] - 3s 4us/step - loss: 5.5037 - mean_absolute_error: 0.5309 - val_loss: 5.2845 - val_mean_absolute_error: 0.5231\n",
            "Epoch 9/20\n",
            "642750/642750 [==============================] - 3s 4us/step - loss: 5.4841 - mean_absolute_error: 0.5327 - val_loss: 5.2029 - val_mean_absolute_error: 0.5293\n",
            "Epoch 10/20\n",
            "642750/642750 [==============================] - 3s 4us/step - loss: 5.3967 - mean_absolute_error: 0.5198 - val_loss: 5.1778 - val_mean_absolute_error: 0.5222\n",
            "Epoch 11/20\n",
            "642750/642750 [==============================] - 3s 4us/step - loss: 5.3517 - mean_absolute_error: 0.5161 - val_loss: 5.1087 - val_mean_absolute_error: 0.5219\n",
            "Epoch 12/20\n",
            "642750/642750 [==============================] - 3s 4us/step - loss: 5.3149 - mean_absolute_error: 0.5188 - val_loss: 5.0467 - val_mean_absolute_error: 0.5165\n",
            "Epoch 13/20\n",
            "642750/642750 [==============================] - 3s 4us/step - loss: 5.2560 - mean_absolute_error: 0.5109 - val_loss: 5.0970 - val_mean_absolute_error: 0.4887\n",
            "Epoch 14/20\n",
            "642750/642750 [==============================] - 3s 4us/step - loss: 5.2326 - mean_absolute_error: 0.5080 - val_loss: 4.9755 - val_mean_absolute_error: 0.5124\n",
            "Epoch 15/20\n",
            "642750/642750 [==============================] - 3s 4us/step - loss: 5.2148 - mean_absolute_error: 0.5103 - val_loss: 4.9209 - val_mean_absolute_error: 0.5054\n",
            "Epoch 16/20\n",
            "642750/642750 [==============================] - 3s 4us/step - loss: 5.1569 - mean_absolute_error: 0.4969 - val_loss: 4.9591 - val_mean_absolute_error: 0.5441\n",
            "Epoch 17/20\n",
            "642750/642750 [==============================] - 3s 4us/step - loss: 5.1300 - mean_absolute_error: 0.4989 - val_loss: 4.8745 - val_mean_absolute_error: 0.4995\n",
            "Epoch 18/20\n",
            "642750/642750 [==============================] - 3s 4us/step - loss: 5.1277 - mean_absolute_error: 0.5027 - val_loss: 4.8651 - val_mean_absolute_error: 0.4951\n",
            "Epoch 19/20\n",
            "642750/642750 [==============================] - 3s 4us/step - loss: 5.0643 - mean_absolute_error: 0.4885 - val_loss: 4.8400 - val_mean_absolute_error: 0.4961\n",
            "Epoch 20/20\n",
            "642750/642750 [==============================] - 3s 4us/step - loss: 5.0516 - mean_absolute_error: 0.4923 - val_loss: 4.8760 - val_mean_absolute_error: 0.4863\n",
            "CPU times: user 55.4 s, sys: 1.97 s, total: 57.3 s\n",
            "Wall time: 57.5 s\n"
          ],
          "name": "stdout"
        }
      ]
    },
    {
      "metadata": {
        "id": "pGGlQlmjEPO1",
        "colab_type": "code",
        "colab": {
          "base_uri": "https://localhost:8080/",
          "height": 1371
        },
        "outputId": "9fd4098e-1d68-4b0e-d677-57e57c4236a8"
      },
      "cell_type": "code",
      "source": [
        "history.history"
      ],
      "execution_count": 17,
      "outputs": [
        {
          "output_type": "execute_result",
          "data": {
            "text/plain": [
              "{'loss': [7.183908417270324,\n",
              "  6.418111772214518,\n",
              "  6.0710556971706895,\n",
              "  5.859757112557208,\n",
              "  5.746675712595835,\n",
              "  5.636035587202478,\n",
              "  5.581309080958506,\n",
              "  5.503680412058049,\n",
              "  5.48405404166923,\n",
              "  5.396708119198396,\n",
              "  5.3517089691295645,\n",
              "  5.314908481488104,\n",
              "  5.255970798360378,\n",
              "  5.232628522425577,\n",
              "  5.214772127612191,\n",
              "  5.156930138748566,\n",
              "  5.1299544567729845,\n",
              "  5.127744800058704,\n",
              "  5.0643212132210955,\n",
              "  5.051607366203566],\n",
              " 'mean_absolute_error': [0.7155841849555954,\n",
              "  0.6325175649041288,\n",
              "  0.6063436634667603,\n",
              "  0.5786133144023307,\n",
              "  0.5662259822316505,\n",
              "  0.548102342424018,\n",
              "  0.5430998631323047,\n",
              "  0.5309256000168265,\n",
              "  0.5326516616673657,\n",
              "  0.5198339888299314,\n",
              "  0.516109000472696,\n",
              "  0.5188012905317445,\n",
              "  0.5108542860203428,\n",
              "  0.5080162788448237,\n",
              "  0.5102644673769968,\n",
              "  0.49685484219598935,\n",
              "  0.4989293239567355,\n",
              "  0.5026637511070672,\n",
              "  0.4884830578576262,\n",
              "  0.4923030541871411],\n",
              " 'val_loss': [6.607828617095947,\n",
              "  6.133114337921143,\n",
              "  5.816047668457031,\n",
              "  5.620965957641602,\n",
              "  5.486466884613037,\n",
              "  5.39284086227417,\n",
              "  5.336599826812744,\n",
              "  5.2844624519348145,\n",
              "  5.202879905700684,\n",
              "  5.177797794342041,\n",
              "  5.108723163604736,\n",
              "  5.046689033508301,\n",
              "  5.0969672203063965,\n",
              "  4.9754743576049805,\n",
              "  4.920854091644287,\n",
              "  4.959102630615234,\n",
              "  4.8745245933532715,\n",
              "  4.8651347160339355,\n",
              "  4.839964389801025,\n",
              "  4.876005172729492],\n",
              " 'val_mean_absolute_error': [0.6456992626190186,\n",
              "  0.6519050598144531,\n",
              "  0.6095794439315796,\n",
              "  0.5756025910377502,\n",
              "  0.5667776465415955,\n",
              "  0.5500653982162476,\n",
              "  0.5455482006072998,\n",
              "  0.5231399536132812,\n",
              "  0.5293307304382324,\n",
              "  0.5221897959709167,\n",
              "  0.5219249129295349,\n",
              "  0.5164721608161926,\n",
              "  0.48874610662460327,\n",
              "  0.5124022960662842,\n",
              "  0.505430281162262,\n",
              "  0.5440567135810852,\n",
              "  0.49953222274780273,\n",
              "  0.49510517716407776,\n",
              "  0.49614042043685913,\n",
              "  0.48626837134361267]}"
            ]
          },
          "metadata": {
            "tags": []
          },
          "execution_count": 17
        }
      ]
    },
    {
      "metadata": {
        "id": "E9tsa19a7Htb",
        "colab_type": "code",
        "colab": {
          "base_uri": "https://localhost:8080/",
          "height": 51
        },
        "outputId": "ebf147c0-7937-4822-820a-22ec19505740"
      },
      "cell_type": "code",
      "source": [
        "%%time\n",
        "model.save(filename)"
      ],
      "execution_count": 18,
      "outputs": [
        {
          "output_type": "stream",
          "text": [
            "CPU times: user 48.1 ms, sys: 6.01 ms, total: 54.1 ms\n",
            "Wall time: 394 ms\n"
          ],
          "name": "stdout"
        }
      ]
    },
    {
      "metadata": {
        "id": "pud61R7d7HrA",
        "colab_type": "code",
        "colab": {}
      },
      "cell_type": "code",
      "source": [
        "files.download(filename)"
      ],
      "execution_count": 0,
      "outputs": []
    }
  ]
}