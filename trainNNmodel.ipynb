{
  "nbformat": 4,
  "nbformat_minor": 0,
  "metadata": {
    "colab": {
      "name": "trainNNmodel.ipynb",
      "version": "0.3.2",
      "provenance": [],
      "collapsed_sections": [],
      "include_colab_link": true
    },
    "kernelspec": {
      "name": "python3",
      "display_name": "Python 3"
    },
    "accelerator": "GPU"
  },
  "cells": [
    {
      "cell_type": "markdown",
      "metadata": {
        "id": "view-in-github",
        "colab_type": "text"
      },
      "source": [
        "[View in Colaboratory](https://colab.research.google.com/github/kyokicchi/kaggle_codes/blob/master/trainNNmodel.ipynb)"
      ]
    },
    {
      "metadata": {
        "id": "Qq_8KnnX5o9d",
        "colab_type": "code",
        "colab": {
          "base_uri": "https://localhost:8080/",
          "height": 34
        },
        "outputId": "aef65db8-329c-4ecf-df4f-13ad15c6744b"
      },
      "cell_type": "code",
      "source": [
        "!pip install tqdm\n",
        "from tqdm import tqdm"
      ],
      "execution_count": 1,
      "outputs": [
        {
          "output_type": "stream",
          "text": [
            "Requirement already satisfied: tqdm in /usr/local/lib/python3.6/dist-packages (4.26.0)\n"
          ],
          "name": "stdout"
        }
      ]
    },
    {
      "metadata": {
        "id": "uTLbBtpszx1d",
        "colab_type": "code",
        "colab": {
          "base_uri": "https://localhost:8080/",
          "height": 34
        },
        "outputId": "acaf4421-0373-4274-b37e-d37544a815a9"
      },
      "cell_type": "code",
      "source": [
        "import numpy as np\n",
        "import pandas as pd\n",
        "from google.colab import drive\n",
        "from google.colab import files\n",
        "import pickle\n",
        "import matplotlib.pyplot as plt\n",
        "%matplotlib inline\n",
        "from keras import models\n",
        "from keras import layers\n",
        "\n",
        "from keras.models import load_model\n"
      ],
      "execution_count": 2,
      "outputs": [
        {
          "output_type": "stream",
          "text": [
            "Using TensorFlow backend.\n"
          ],
          "name": "stderr"
        }
      ]
    },
    {
      "metadata": {
        "id": "xPuIYqTaz_VT",
        "colab_type": "code",
        "colab": {
          "base_uri": "https://localhost:8080/",
          "height": 121
        },
        "outputId": "40838cc0-d8b5-4241-9726-0a950e19d250"
      },
      "cell_type": "code",
      "source": [
        "drive.mount('/content/gdrive')"
      ],
      "execution_count": 3,
      "outputs": [
        {
          "output_type": "stream",
          "text": [
            "Go to this URL in a browser: https://accounts.google.com/o/oauth2/auth?client_id=947318989803-6bn6qk8qdgf4n4g3pfee6491hc0brc4i.apps.googleusercontent.com&redirect_uri=urn%3Aietf%3Awg%3Aoauth%3A2.0%3Aoob&scope=email%20https%3A%2F%2Fwww.googleapis.com%2Fauth%2Fdocs.test%20https%3A%2F%2Fwww.googleapis.com%2Fauth%2Fdrive%20https%3A%2F%2Fwww.googleapis.com%2Fauth%2Fdrive.photos.readonly%20https%3A%2F%2Fwww.googleapis.com%2Fauth%2Fpeopleapi.readonly&response_type=code\n",
            "\n",
            "Enter your authorization code:\n",
            "··········\n",
            "Mounted at /content/gdrive\n"
          ],
          "name": "stdout"
        }
      ]
    },
    {
      "metadata": {
        "id": "OfYn9ovCz7tr",
        "colab_type": "code",
        "colab": {
          "base_uri": "https://localhost:8080/",
          "height": 51
        },
        "outputId": "4fb8c78b-4c3e-4c25-e4f0-97b9b8445e8e"
      },
      "cell_type": "code",
      "source": [
        "%cd ../content/gdrive/My Drive/projects/\n",
        "%ls"
      ],
      "execution_count": 4,
      "outputs": [
        {
          "output_type": "stream",
          "text": [
            "/content/gdrive/My Drive/projects\n",
            "model_LGB.sav  model_NN.h5  model_XGB.sav  user_train_wip.csv\n"
          ],
          "name": "stdout"
        }
      ]
    },
    {
      "metadata": {
        "id": "pHlvGsudz_SD",
        "colab_type": "code",
        "colab": {}
      },
      "cell_type": "code",
      "source": [
        "s_data = 'user_train_wip.csv'\n",
        "s_col_tgt = 'totals.transactionRevenue_sum'\n",
        "l_col_drop = ['date_min', 'date_max',s_col_tgt]\n",
        "filename = 'model_NN.h5'"
      ],
      "execution_count": 0,
      "outputs": []
    },
    {
      "metadata": {
        "id": "BfDpMe_zz_Pm",
        "colab_type": "code",
        "colab": {
          "base_uri": "https://localhost:8080/",
          "height": 68
        },
        "outputId": "359e4249-2271-470f-f812-91f49cbee7c1"
      },
      "cell_type": "code",
      "source": [
        "%%time\n",
        "df_train = pd.read_csv(s_data, index_col = 0)\n",
        "df_y = df_train[s_col_tgt]\n",
        "df_x = df_train.drop(l_col_drop, axis=1)"
      ],
      "execution_count": 6,
      "outputs": [
        {
          "output_type": "stream",
          "text": [
            "<string>:2: DtypeWarning: Columns (0) have mixed types. Specify dtype option on import or set low_memory=False.\n"
          ],
          "name": "stderr"
        },
        {
          "output_type": "stream",
          "text": [
            "CPU times: user 10.4 s, sys: 1.99 s, total: 12.4 s\n",
            "Wall time: 14.4 s\n"
          ],
          "name": "stdout"
        }
      ]
    },
    {
      "metadata": {
        "id": "fcyUNqZyz_Mb",
        "colab_type": "code",
        "colab": {
          "base_uri": "https://localhost:8080/",
          "height": 51
        },
        "outputId": "572533b2-0671-45b6-c2c7-2002bafeca88"
      },
      "cell_type": "code",
      "source": [
        "%%time\n",
        "from sklearn.preprocessing import StandardScaler\n",
        "sc = StandardScaler()\n",
        "df_x_n = pd.DataFrame(sc.fit_transform(df_x.fillna(0)),columns=df_x.columns)\n",
        "df_x_n"
      ],
      "execution_count": 7,
      "outputs": [
        {
          "output_type": "stream",
          "text": [
            "CPU times: user 2.26 s, sys: 1.13 s, total: 3.39 s\n",
            "Wall time: 3.45 s\n"
          ],
          "name": "stdout"
        }
      ]
    },
    {
      "metadata": {
        "id": "497BuD1i2lys",
        "colab_type": "code",
        "colab": {}
      },
      "cell_type": "code",
      "source": [
        "def build_model(N_col):\n",
        "    model = models.Sequential()\n",
        "    model.add(layers.Dense(64, activation='relu', input_shape=(N_col,)))\n",
        "    model.add(layers.Dense(64, activation='relu'))\n",
        "    model.add(layers.Dense(1))\n",
        "    model.compile(optimizer='rmsprop', loss='mse', metrics=['mae'])\n",
        "    return model"
      ],
      "execution_count": 0,
      "outputs": []
    },
    {
      "metadata": {
        "id": "kLBy81di22p0",
        "colab_type": "code",
        "colab": {
          "base_uri": "https://localhost:8080/",
          "height": 728
        },
        "outputId": "c5dabf0e-cc4c-41e7-bedb-789588fcce17"
      },
      "cell_type": "code",
      "source": [
        "%%time\n",
        "epochs = 20\n",
        "batch_size = 350000\n",
        "\n",
        "model = build_model(df_x.shape[1])\n",
        "\n",
        "history = model.fit(df_x.fillna(0),#df_x_n\n",
        "                    df_y,\n",
        "                    epochs=epochs,\n",
        "                    batch_size=batch_size,\n",
        "                    verbose=1)"
      ],
      "execution_count": 8,
      "outputs": [
        {
          "output_type": "stream",
          "text": [
            "Epoch 1/20\n",
            "714167/714167 [==============================] - 4s 6us/step - loss: 6254739037930.0752 - mean_absolute_error: 228334.2973\n",
            "Epoch 2/20\n",
            "714167/714167 [==============================] - 3s 4us/step - loss: 5913788517.3457 - mean_absolute_error: 8576.5387\n",
            "Epoch 3/20\n",
            "714167/714167 [==============================] - 3s 4us/step - loss: 59966519.4686 - mean_absolute_error: 778.5649\n",
            "Epoch 4/20\n",
            "714167/714167 [==============================] - 3s 4us/step - loss: 54555258.0783 - mean_absolute_error: 697.7294\n",
            "Epoch 5/20\n",
            "714167/714167 [==============================] - 3s 4us/step - loss: 1580600409.0068 - mean_absolute_error: 3762.4957\n",
            "Epoch 6/20\n",
            "714167/714167 [==============================] - 3s 4us/step - loss: 40377330942.4475 - mean_absolute_error: 25061.3812\n",
            "Epoch 7/20\n",
            "714167/714167 [==============================] - 3s 4us/step - loss: 147433094281.4062 - mean_absolute_error: 47177.8314\n",
            "Epoch 8/20\n",
            "714167/714167 [==============================] - 3s 4us/step - loss: 632134555664.0217 - mean_absolute_error: 98613.5223\n",
            "Epoch 9/20\n",
            "714167/714167 [==============================] - 3s 4us/step - loss: 577804770433.3652 - mean_absolute_error: 94160.5061\n",
            "Epoch 10/20\n",
            "714167/714167 [==============================] - 3s 4us/step - loss: 56558491809.0459 - mean_absolute_error: 29684.4853\n",
            "Epoch 11/20\n",
            "714167/714167 [==============================] - 3s 4us/step - loss: 50806993858.3292 - mean_absolute_error: 28114.0793\n",
            "Epoch 12/20\n",
            "714167/714167 [==============================] - 3s 4us/step - loss: 332635707703.2548 - mean_absolute_error: 71228.7200\n",
            "Epoch 13/20\n",
            "714167/714167 [==============================] - 3s 4us/step - loss: 637622636177.6084 - mean_absolute_error: 99641.5775\n",
            "Epoch 14/20\n",
            "714167/714167 [==============================] - 3s 4us/step - loss: 218767323395.4157 - mean_absolute_error: 58252.7655\n",
            "Epoch 15/20\n",
            "714167/714167 [==============================] - 3s 4us/step - loss: 167069277653.7699 - mean_absolute_error: 51053.0951\n",
            "Epoch 16/20\n",
            "714167/714167 [==============================] - 3s 4us/step - loss: 288826575311.6947 - mean_absolute_error: 67024.5373\n",
            "Epoch 17/20\n",
            "714167/714167 [==============================] - 3s 4us/step - loss: 309701487162.4984 - mean_absolute_error: 69458.1172\n",
            "Epoch 18/20\n",
            "714167/714167 [==============================] - 3s 4us/step - loss: 304098914531.8254 - mean_absolute_error: 68846.3243\n",
            "Epoch 19/20\n",
            "714167/714167 [==============================] - 3s 4us/step - loss: 504191940672.9901 - mean_absolute_error: 88345.7104\n",
            "Epoch 20/20\n",
            "714167/714167 [==============================] - 3s 4us/step - loss: 120532048694.0338 - mean_absolute_error: 43376.3434\n",
            "CPU times: user 58.1 s, sys: 2.99 s, total: 1min 1s\n",
            "Wall time: 1min 1s\n"
          ],
          "name": "stdout"
        }
      ]
    },
    {
      "metadata": {
        "id": "pGGlQlmjEPO1",
        "colab_type": "code",
        "colab": {
          "base_uri": "https://localhost:8080/",
          "height": 917
        },
        "outputId": "e7f0b664-9917-4d49-835f-8a591b19fc24"
      },
      "cell_type": "code",
      "source": [
        "history.history"
      ],
      "execution_count": 15,
      "outputs": [
        {
          "output_type": "execute_result",
          "data": {
            "text/plain": [
              "{'loss': [8.564659477529949,\n",
              "  7.46198294669111,\n",
              "  6.934467788110956,\n",
              "  6.564304266775209,\n",
              "  6.270706642836594,\n",
              "  6.058307173662174,\n",
              "  5.906127979676258,\n",
              "  5.7581761899735096,\n",
              "  5.755019950471297,\n",
              "  5.652122472863003],\n",
              " 'mean_absolute_error': [0.6080875236581412,\n",
              "  0.5780460474334104,\n",
              "  0.6057166252831829,\n",
              "  0.6067252476955787,\n",
              "  0.5999682404565487,\n",
              "  0.5918505922535273,\n",
              "  0.5818488258317185,\n",
              "  0.5593260598749341,\n",
              "  0.5811313638354567,\n",
              "  0.5535816328732629]}"
            ]
          },
          "metadata": {
            "tags": []
          },
          "execution_count": 15
        }
      ]
    },
    {
      "metadata": {
        "id": "E9tsa19a7Htb",
        "colab_type": "code",
        "colab": {
          "base_uri": "https://localhost:8080/",
          "height": 51
        },
        "outputId": "c64d3be2-6be3-422f-8a3c-0d1d7ec7c4d9"
      },
      "cell_type": "code",
      "source": [
        "%%time\n",
        "model.save(filename)"
      ],
      "execution_count": 9,
      "outputs": [
        {
          "output_type": "stream",
          "text": [
            "CPU times: user 49.9 ms, sys: 8.31 ms, total: 58.2 ms\n",
            "Wall time: 561 ms\n"
          ],
          "name": "stdout"
        }
      ]
    },
    {
      "metadata": {
        "id": "pud61R7d7HrA",
        "colab_type": "code",
        "colab": {}
      },
      "cell_type": "code",
      "source": [
        "files.download(filename)"
      ],
      "execution_count": 0,
      "outputs": []
    },
    {
      "metadata": {
        "id": "cOwIwcLI7HPy",
        "colab_type": "code",
        "colab": {}
      },
      "cell_type": "code",
      "source": [
        ""
      ],
      "execution_count": 0,
      "outputs": []
    }
  ]
}