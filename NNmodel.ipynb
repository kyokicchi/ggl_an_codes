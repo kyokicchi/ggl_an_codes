{
  "nbformat": 4,
  "nbformat_minor": 0,
  "metadata": {
    "colab": {
      "name": "trainNNmodel.ipynb",
      "version": "0.3.2",
      "provenance": [],
      "collapsed_sections": [],
      "include_colab_link": true
    },
    "kernelspec": {
      "name": "python3",
      "display_name": "Python 3"
    },
    "accelerator": "GPU"
  },
  "cells": [
    {
      "cell_type": "markdown",
      "metadata": {
        "id": "view-in-github",
        "colab_type": "text"
      },
      "source": [
        "<a href=\"https://colab.research.google.com/github/kyokicchi/ggl_an_codes/blob/master/NNmodel.ipynb\" target=\"_parent\"><img src=\"https://colab.research.google.com/assets/colab-badge.svg\" alt=\"Open In Colab\"/></a>"
      ]
    },
    {
      "metadata": {
        "id": "BFaLXotRBPpU",
        "colab_type": "text"
      },
      "cell_type": "markdown",
      "source": [
        "# Train model"
      ]
    },
    {
      "metadata": {
        "id": "uTLbBtpszx1d",
        "colab_type": "code",
        "outputId": "f42ed03b-a3a4-4052-d11c-90ee38c2fc8e",
        "colab": {
          "base_uri": "https://localhost:8080/",
          "height": 34
        }
      },
      "cell_type": "code",
      "source": [
        "import numpy as np\n",
        "import pandas as pd\n",
        "from google.colab import drive\n",
        "from google.colab import files\n",
        "import pickle\n",
        "import matplotlib.pyplot as plt\n",
        "%matplotlib inline\n",
        "from keras import models\n",
        "from keras import layers\n",
        "\n",
        "from keras.models import load_model\n"
      ],
      "execution_count": 1,
      "outputs": [
        {
          "output_type": "stream",
          "text": [
            "Using TensorFlow backend.\n"
          ],
          "name": "stderr"
        }
      ]
    },
    {
      "metadata": {
        "id": "xPuIYqTaz_VT",
        "colab_type": "code",
        "outputId": "ac711c3d-fa2a-4421-b0ac-641a178f4e31",
        "colab": {
          "base_uri": "https://localhost:8080/",
          "height": 121
        }
      },
      "cell_type": "code",
      "source": [
        "drive.mount('/content/gdrive')"
      ],
      "execution_count": 2,
      "outputs": [
        {
          "output_type": "stream",
          "text": [
            "Go to this URL in a browser: https://accounts.google.com/o/oauth2/auth?client_id=947318989803-6bn6qk8qdgf4n4g3pfee6491hc0brc4i.apps.googleusercontent.com&redirect_uri=urn%3Aietf%3Awg%3Aoauth%3A2.0%3Aoob&scope=email%20https%3A%2F%2Fwww.googleapis.com%2Fauth%2Fdocs.test%20https%3A%2F%2Fwww.googleapis.com%2Fauth%2Fdrive%20https%3A%2F%2Fwww.googleapis.com%2Fauth%2Fdrive.photos.readonly%20https%3A%2F%2Fwww.googleapis.com%2Fauth%2Fpeopleapi.readonly&response_type=code\n",
            "\n",
            "Enter your authorization code:\n",
            "··········\n",
            "Mounted at /content/gdrive\n"
          ],
          "name": "stdout"
        }
      ]
    },
    {
      "metadata": {
        "id": "OfYn9ovCz7tr",
        "colab_type": "code",
        "outputId": "b76436e3-4af3-449c-bbda-c80898ee0abf",
        "colab": {
          "base_uri": "https://localhost:8080/",
          "height": 68
        }
      },
      "cell_type": "code",
      "source": [
        "%cd ../content/gdrive/My Drive/projects/ggl_an/\n",
        "%ls"
      ],
      "execution_count": 3,
      "outputs": [
        {
          "output_type": "stream",
          "text": [
            "/content/gdrive/My Drive/projects/ggl_an\n",
            "model_LGB.sav   user_test.csv    user_train.csv\n",
            "output_LGB.csv  user_test_n.csv  user_train_n.csv\n"
          ],
          "name": "stdout"
        }
      ]
    },
    {
      "metadata": {
        "id": "pHlvGsudz_SD",
        "colab_type": "code",
        "colab": {}
      },
      "cell_type": "code",
      "source": [
        "s_data = 'user_train_n.csv'\n",
        "s_col_tgt = 'transactionRevenue'\n",
        "l_col_drop = [s_col_tgt]\n",
        "filename = 'model_NN.h5'"
      ],
      "execution_count": 0,
      "outputs": []
    },
    {
      "metadata": {
        "id": "BfDpMe_zz_Pm",
        "colab_type": "code",
        "outputId": "4dc98943-53fb-437d-d9f3-ef00a51fc889",
        "colab": {
          "base_uri": "https://localhost:8080/",
          "height": 68
        }
      },
      "cell_type": "code",
      "source": [
        "%%time\n",
        "df_train = pd.read_csv(s_data, index_col = 0)"
      ],
      "execution_count": 5,
      "outputs": [
        {
          "output_type": "stream",
          "text": [
            "CPU times: user 3.7 s, sys: 411 ms, total: 4.11 s\n",
            "Wall time: 5.88 s\n"
          ],
          "name": "stdout"
        },
        {
          "output_type": "stream",
          "text": [
            "<string>:2: DtypeWarning: Columns (0) have mixed types. Specify dtype option on import or set low_memory=False.\n"
          ],
          "name": "stderr"
        }
      ]
    },
    {
      "metadata": {
        "id": "b0CS9HlACW-O",
        "colab_type": "code",
        "outputId": "db473e22-694f-4a8e-8f03-cd5ea7236600",
        "colab": {
          "base_uri": "https://localhost:8080/",
          "height": 51
        }
      },
      "cell_type": "code",
      "source": [
        "%%time\n",
        "df_y = df_train[s_col_tgt]\n",
        "df_x = df_train.drop(l_col_drop, axis=1)"
      ],
      "execution_count": 6,
      "outputs": [
        {
          "output_type": "stream",
          "text": [
            "CPU times: user 36.3 ms, sys: 61.9 ms, total: 98.2 ms\n",
            "Wall time: 106 ms\n"
          ],
          "name": "stdout"
        }
      ]
    },
    {
      "metadata": {
        "id": "497BuD1i2lys",
        "colab_type": "code",
        "colab": {}
      },
      "cell_type": "code",
      "source": [
        "from keras import optimizers\n",
        "\n",
        "\n",
        "def build_model(N_col):\n",
        "    model = models.Sequential()\n",
        "    model.add(layers.Dense(120, activation='relu', input_shape=(N_col,)))\n",
        "    model.add(layers.Dense(60, activation='relu'))\n",
        "    model.add(layers.Dropout(0.1))\n",
        "    model.add(layers.Dense(30, activation='relu'))\n",
        "    model.add(layers.Dropout(0.1))\n",
        "    model.add(layers.Dense(30, activation='relu'))\n",
        "    model.add(layers.Dropout(0.1))\n",
        "    model.add(layers.Dense(60, activation='relu'))\n",
        "    model.add(layers.Dropout(0.1))\n",
        "    model.add(layers.Dense(120, activation='relu'))\n",
        "    model.add(layers.Dropout(0.1))\n",
        "    model.add(layers.Dense(10, activation='relu'))\n",
        "    model.add(layers.Dense(1))\n",
        "    model.compile(optimizer=optimizers.adam(lr=0.01), loss='mse', metrics=['mae'])\n",
        "    return model"
      ],
      "execution_count": 0,
      "outputs": []
    },
    {
      "metadata": {
        "id": "kLBy81di22p0",
        "colab_type": "code",
        "outputId": "a3c2f786-e1c9-4a14-bdaf-a2245910f5a3",
        "colab": {
          "base_uri": "https://localhost:8080/",
          "height": 6837
        }
      },
      "cell_type": "code",
      "source": [
        "%%time\n",
        "epochs = 200\n",
        "batch_size = df_x.shape[0] // 5\n",
        "validation_split = 0.1\n",
        "\n",
        "model = build_model(df_x.shape[1])\n",
        "\n",
        "history = model.fit(df_x,\n",
        "                    df_y,\n",
        "                    epochs=epochs,\n",
        "                    batch_size=batch_size,\n",
        "                    validation_split = validation_split,\n",
        "                    verbose=1)"
      ],
      "execution_count": 47,
      "outputs": [
        {
          "output_type": "stream",
          "text": [
            "Train on 642750 samples, validate on 71417 samples\n",
            "Epoch 1/200\n",
            "642750/642750 [==============================] - 2s 3us/step - loss: 8.4392 - mean_absolute_error: 0.5353 - val_loss: 8.5391 - val_mean_absolute_error: 0.4301\n",
            "Epoch 2/200\n",
            "642750/642750 [==============================] - 1s 2us/step - loss: 8.2814 - mean_absolute_error: 0.5966 - val_loss: 8.2360 - val_mean_absolute_error: 0.5818\n",
            "Epoch 3/200\n",
            "642750/642750 [==============================] - 1s 2us/step - loss: 7.9498 - mean_absolute_error: 0.5409 - val_loss: 7.5553 - val_mean_absolute_error: 0.4256\n",
            "Epoch 4/200\n",
            "642750/642750 [==============================] - 1s 2us/step - loss: 7.3958 - mean_absolute_error: 0.4634 - val_loss: 6.9442 - val_mean_absolute_error: 0.5555\n",
            "Epoch 5/200\n",
            "642750/642750 [==============================] - 1s 2us/step - loss: 7.0633 - mean_absolute_error: 0.4661 - val_loss: 6.3283 - val_mean_absolute_error: 0.3931\n",
            "Epoch 6/200\n",
            "642750/642750 [==============================] - 1s 2us/step - loss: 6.4872 - mean_absolute_error: 0.4261 - val_loss: 6.0742 - val_mean_absolute_error: 0.3784\n",
            "Epoch 7/200\n",
            "642750/642750 [==============================] - 1s 2us/step - loss: 6.2774 - mean_absolute_error: 0.4002 - val_loss: 5.8829 - val_mean_absolute_error: 0.3771\n",
            "Epoch 8/200\n",
            "642750/642750 [==============================] - 1s 2us/step - loss: 6.0038 - mean_absolute_error: 0.4024 - val_loss: 5.7116 - val_mean_absolute_error: 0.3469\n",
            "Epoch 9/200\n",
            "642750/642750 [==============================] - 1s 2us/step - loss: 5.8953 - mean_absolute_error: 0.3921 - val_loss: 5.5804 - val_mean_absolute_error: 0.4842\n",
            "Epoch 10/200\n",
            "642750/642750 [==============================] - 1s 2us/step - loss: 5.7712 - mean_absolute_error: 0.4035 - val_loss: 5.2614 - val_mean_absolute_error: 0.3915\n",
            "Epoch 11/200\n",
            "642750/642750 [==============================] - 1s 2us/step - loss: 5.7663 - mean_absolute_error: 0.4078 - val_loss: 5.3364 - val_mean_absolute_error: 0.3773\n",
            "Epoch 12/200\n",
            "642750/642750 [==============================] - 1s 2us/step - loss: 5.8017 - mean_absolute_error: 0.3824 - val_loss: 5.5470 - val_mean_absolute_error: 0.5343\n",
            "Epoch 13/200\n",
            "642750/642750 [==============================] - 1s 2us/step - loss: 5.8080 - mean_absolute_error: 0.4290 - val_loss: 5.4118 - val_mean_absolute_error: 0.4689\n",
            "Epoch 14/200\n",
            "642750/642750 [==============================] - 1s 2us/step - loss: 5.5958 - mean_absolute_error: 0.4191 - val_loss: 5.2998 - val_mean_absolute_error: 0.4232\n",
            "Epoch 15/200\n",
            "642750/642750 [==============================] - 1s 2us/step - loss: 5.5380 - mean_absolute_error: 0.3990 - val_loss: 5.3200 - val_mean_absolute_error: 0.4747\n",
            "Epoch 16/200\n",
            "642750/642750 [==============================] - 1s 2us/step - loss: 5.3809 - mean_absolute_error: 0.3984 - val_loss: 5.2028 - val_mean_absolute_error: 0.4595\n",
            "Epoch 17/200\n",
            "642750/642750 [==============================] - 1s 2us/step - loss: 5.5764 - mean_absolute_error: 0.3974 - val_loss: 5.3855 - val_mean_absolute_error: 0.4342\n",
            "Epoch 18/200\n",
            "642750/642750 [==============================] - 1s 2us/step - loss: 5.4459 - mean_absolute_error: 0.3774 - val_loss: 5.2288 - val_mean_absolute_error: 0.4132\n",
            "Epoch 19/200\n",
            "642750/642750 [==============================] - 1s 2us/step - loss: 5.3321 - mean_absolute_error: 0.3902 - val_loss: 5.1197 - val_mean_absolute_error: 0.4000\n",
            "Epoch 20/200\n",
            "642750/642750 [==============================] - 1s 2us/step - loss: 5.2965 - mean_absolute_error: 0.3753 - val_loss: 5.3002 - val_mean_absolute_error: 0.3660\n",
            "Epoch 21/200\n",
            "642750/642750 [==============================] - 1s 2us/step - loss: 5.3217 - mean_absolute_error: 0.3721 - val_loss: 5.1852 - val_mean_absolute_error: 0.3537\n",
            "Epoch 22/200\n",
            "642750/642750 [==============================] - 1s 2us/step - loss: 5.2863 - mean_absolute_error: 0.3698 - val_loss: 5.2412 - val_mean_absolute_error: 0.4243\n",
            "Epoch 23/200\n",
            "642750/642750 [==============================] - 1s 2us/step - loss: 5.2470 - mean_absolute_error: 0.3695 - val_loss: 5.3523 - val_mean_absolute_error: 0.3966\n",
            "Epoch 24/200\n",
            "642750/642750 [==============================] - 1s 2us/step - loss: 5.3001 - mean_absolute_error: 0.3871 - val_loss: 5.2187 - val_mean_absolute_error: 0.3497\n",
            "Epoch 25/200\n",
            "642750/642750 [==============================] - 1s 2us/step - loss: 5.3127 - mean_absolute_error: 0.3593 - val_loss: 5.4704 - val_mean_absolute_error: 0.3760\n",
            "Epoch 26/200\n",
            "642750/642750 [==============================] - 1s 2us/step - loss: 5.2793 - mean_absolute_error: 0.3756 - val_loss: 5.3322 - val_mean_absolute_error: 0.3400\n",
            "Epoch 27/200\n",
            "642750/642750 [==============================] - 1s 2us/step - loss: 5.1488 - mean_absolute_error: 0.3543 - val_loss: 5.1100 - val_mean_absolute_error: 0.4174\n",
            "Epoch 28/200\n",
            "642750/642750 [==============================] - 1s 2us/step - loss: 5.1205 - mean_absolute_error: 0.3994 - val_loss: 5.2241 - val_mean_absolute_error: 0.4081\n",
            "Epoch 29/200\n",
            "642750/642750 [==============================] - 1s 2us/step - loss: 5.0352 - mean_absolute_error: 0.3596 - val_loss: 5.3424 - val_mean_absolute_error: 0.4331\n",
            "Epoch 30/200\n",
            "642750/642750 [==============================] - 1s 2us/step - loss: 5.1491 - mean_absolute_error: 0.3816 - val_loss: 5.2823 - val_mean_absolute_error: 0.3346\n",
            "Epoch 31/200\n",
            "642750/642750 [==============================] - 1s 2us/step - loss: 5.5452 - mean_absolute_error: 0.3818 - val_loss: 5.0029 - val_mean_absolute_error: 0.4115\n",
            "Epoch 32/200\n",
            "642750/642750 [==============================] - 1s 2us/step - loss: 5.1474 - mean_absolute_error: 0.3544 - val_loss: 5.4862 - val_mean_absolute_error: 0.3958\n",
            "Epoch 33/200\n",
            "642750/642750 [==============================] - 1s 2us/step - loss: 5.4961 - mean_absolute_error: 0.4009 - val_loss: 5.6211 - val_mean_absolute_error: 0.3502\n",
            "Epoch 34/200\n",
            "642750/642750 [==============================] - 1s 2us/step - loss: 5.4075 - mean_absolute_error: 0.3401 - val_loss: 5.3026 - val_mean_absolute_error: 0.3710\n",
            "Epoch 35/200\n",
            "642750/642750 [==============================] - 1s 2us/step - loss: 5.1726 - mean_absolute_error: 0.3995 - val_loss: 4.9958 - val_mean_absolute_error: 0.4467\n",
            "Epoch 36/200\n",
            "642750/642750 [==============================] - 1s 2us/step - loss: 5.1966 - mean_absolute_error: 0.3670 - val_loss: 4.9537 - val_mean_absolute_error: 0.3996\n",
            "Epoch 37/200\n",
            "642750/642750 [==============================] - 1s 2us/step - loss: 5.1161 - mean_absolute_error: 0.3899 - val_loss: 5.2067 - val_mean_absolute_error: 0.3666\n",
            "Epoch 38/200\n",
            "642750/642750 [==============================] - 1s 2us/step - loss: 4.8458 - mean_absolute_error: 0.3556 - val_loss: 5.0249 - val_mean_absolute_error: 0.3838\n",
            "Epoch 39/200\n",
            "642750/642750 [==============================] - 1s 2us/step - loss: 4.8697 - mean_absolute_error: 0.3755 - val_loss: 4.9710 - val_mean_absolute_error: 0.4149\n",
            "Epoch 40/200\n",
            "642750/642750 [==============================] - 1s 2us/step - loss: 4.7422 - mean_absolute_error: 0.3744 - val_loss: 5.2176 - val_mean_absolute_error: 0.3833\n",
            "Epoch 41/200\n",
            "642750/642750 [==============================] - 1s 2us/step - loss: 4.7260 - mean_absolute_error: 0.3679 - val_loss: 5.0331 - val_mean_absolute_error: 0.3582\n",
            "Epoch 42/200\n",
            "642750/642750 [==============================] - 1s 2us/step - loss: 4.8650 - mean_absolute_error: 0.3699 - val_loss: 5.3892 - val_mean_absolute_error: 0.3899\n",
            "Epoch 43/200\n",
            "642750/642750 [==============================] - 1s 2us/step - loss: 4.9635 - mean_absolute_error: 0.3591 - val_loss: 5.1170 - val_mean_absolute_error: 0.3305\n",
            "Epoch 44/200\n",
            "642750/642750 [==============================] - 1s 2us/step - loss: 4.8897 - mean_absolute_error: 0.3678 - val_loss: 5.2325 - val_mean_absolute_error: 0.3828\n",
            "Epoch 45/200\n",
            "642750/642750 [==============================] - 1s 2us/step - loss: 4.6962 - mean_absolute_error: 0.3581 - val_loss: 5.0101 - val_mean_absolute_error: 0.3864\n",
            "Epoch 46/200\n",
            "642750/642750 [==============================] - 1s 2us/step - loss: 4.7108 - mean_absolute_error: 0.3779 - val_loss: 5.2245 - val_mean_absolute_error: 0.3637\n",
            "Epoch 47/200\n",
            "642750/642750 [==============================] - 1s 2us/step - loss: 4.8600 - mean_absolute_error: 0.3427 - val_loss: 5.1141 - val_mean_absolute_error: 0.3344\n",
            "Epoch 48/200\n",
            "642750/642750 [==============================] - 1s 2us/step - loss: 4.7694 - mean_absolute_error: 0.3874 - val_loss: 5.1654 - val_mean_absolute_error: 0.3637\n",
            "Epoch 49/200\n",
            "642750/642750 [==============================] - 1s 2us/step - loss: 4.8141 - mean_absolute_error: 0.3480 - val_loss: 5.6544 - val_mean_absolute_error: 0.3538\n",
            "Epoch 50/200\n",
            "642750/642750 [==============================] - 1s 2us/step - loss: 5.1132 - mean_absolute_error: 0.3610 - val_loss: 5.2510 - val_mean_absolute_error: 0.3493\n",
            "Epoch 51/200\n",
            "642750/642750 [==============================] - 1s 2us/step - loss: 4.7956 - mean_absolute_error: 0.3888 - val_loss: 5.3090 - val_mean_absolute_error: 0.4494\n",
            "Epoch 52/200\n",
            "642750/642750 [==============================] - 1s 2us/step - loss: 5.0632 - mean_absolute_error: 0.3678 - val_loss: 5.1535 - val_mean_absolute_error: 0.3079\n",
            "Epoch 53/200\n",
            "642750/642750 [==============================] - 1s 2us/step - loss: 4.8353 - mean_absolute_error: 0.3331 - val_loss: 5.1994 - val_mean_absolute_error: 0.3518\n",
            "Epoch 54/200\n",
            "642750/642750 [==============================] - 1s 2us/step - loss: 4.6295 - mean_absolute_error: 0.3758 - val_loss: 5.0225 - val_mean_absolute_error: 0.3538\n",
            "Epoch 55/200\n",
            "642750/642750 [==============================] - 1s 2us/step - loss: 4.5580 - mean_absolute_error: 0.3646 - val_loss: 5.1147 - val_mean_absolute_error: 0.3886\n",
            "Epoch 56/200\n",
            "642750/642750 [==============================] - 1s 2us/step - loss: 4.5667 - mean_absolute_error: 0.3805 - val_loss: 4.9760 - val_mean_absolute_error: 0.3737\n",
            "Epoch 57/200\n",
            "642750/642750 [==============================] - 1s 2us/step - loss: 4.4672 - mean_absolute_error: 0.3755 - val_loss: 5.1557 - val_mean_absolute_error: 0.4024\n",
            "Epoch 58/200\n",
            "642750/642750 [==============================] - 1s 2us/step - loss: 4.6104 - mean_absolute_error: 0.3657 - val_loss: 4.8866 - val_mean_absolute_error: 0.3483\n",
            "Epoch 59/200\n",
            "642750/642750 [==============================] - 1s 2us/step - loss: 4.6829 - mean_absolute_error: 0.3795 - val_loss: 5.5702 - val_mean_absolute_error: 0.3913\n",
            "Epoch 60/200\n",
            "642750/642750 [==============================] - 1s 2us/step - loss: 4.9820 - mean_absolute_error: 0.3305 - val_loss: 5.1479 - val_mean_absolute_error: 0.3113\n",
            "Epoch 61/200\n",
            "642750/642750 [==============================] - 1s 2us/step - loss: 4.7006 - mean_absolute_error: 0.3574 - val_loss: 5.0487 - val_mean_absolute_error: 0.3936\n",
            "Epoch 62/200\n",
            "642750/642750 [==============================] - 1s 2us/step - loss: 4.5589 - mean_absolute_error: 0.3728 - val_loss: 5.2365 - val_mean_absolute_error: 0.3317\n",
            "Epoch 63/200\n",
            "642750/642750 [==============================] - 1s 2us/step - loss: 4.5003 - mean_absolute_error: 0.3268 - val_loss: 5.0620 - val_mean_absolute_error: 0.3522\n",
            "Epoch 64/200\n",
            "642750/642750 [==============================] - 1s 2us/step - loss: 4.5776 - mean_absolute_error: 0.3705 - val_loss: 4.8414 - val_mean_absolute_error: 0.3830\n",
            "Epoch 65/200\n",
            "642750/642750 [==============================] - 1s 2us/step - loss: 4.5331 - mean_absolute_error: 0.3621 - val_loss: 4.9500 - val_mean_absolute_error: 0.3379\n",
            "Epoch 66/200\n",
            "642750/642750 [==============================] - 1s 2us/step - loss: 4.5355 - mean_absolute_error: 0.3522 - val_loss: 5.2723 - val_mean_absolute_error: 0.3008\n",
            "Epoch 67/200\n",
            "642750/642750 [==============================] - 1s 2us/step - loss: 4.5378 - mean_absolute_error: 0.3388 - val_loss: 5.2779 - val_mean_absolute_error: 0.4145\n",
            "Epoch 68/200\n",
            "642750/642750 [==============================] - 1s 2us/step - loss: 4.6390 - mean_absolute_error: 0.3946 - val_loss: 5.3272 - val_mean_absolute_error: 0.3122\n",
            "Epoch 69/200\n",
            "642750/642750 [==============================] - 1s 2us/step - loss: 4.6342 - mean_absolute_error: 0.3708 - val_loss: 5.0858 - val_mean_absolute_error: 0.3177\n",
            "Epoch 70/200\n",
            "642750/642750 [==============================] - 1s 2us/step - loss: 4.5887 - mean_absolute_error: 0.3060 - val_loss: 5.1517 - val_mean_absolute_error: 0.3729\n",
            "Epoch 71/200\n",
            "642750/642750 [==============================] - 1s 2us/step - loss: 4.6052 - mean_absolute_error: 0.3875 - val_loss: 5.0083 - val_mean_absolute_error: 0.3706\n",
            "Epoch 72/200\n",
            "642750/642750 [==============================] - 1s 2us/step - loss: 4.4863 - mean_absolute_error: 0.3392 - val_loss: 5.0595 - val_mean_absolute_error: 0.4138\n",
            "Epoch 73/200\n",
            "642750/642750 [==============================] - 1s 2us/step - loss: 4.3612 - mean_absolute_error: 0.3928 - val_loss: 4.8194 - val_mean_absolute_error: 0.4001\n",
            "Epoch 74/200\n",
            "642750/642750 [==============================] - 1s 2us/step - loss: 4.3927 - mean_absolute_error: 0.3639 - val_loss: 4.9990 - val_mean_absolute_error: 0.3817\n",
            "Epoch 75/200\n",
            "642750/642750 [==============================] - 1s 2us/step - loss: 4.3421 - mean_absolute_error: 0.3500 - val_loss: 4.8671 - val_mean_absolute_error: 0.3388\n",
            "Epoch 76/200\n",
            "642750/642750 [==============================] - 1s 2us/step - loss: 4.2752 - mean_absolute_error: 0.3424 - val_loss: 4.9552 - val_mean_absolute_error: 0.3753\n",
            "Epoch 77/200\n",
            "642750/642750 [==============================] - 1s 2us/step - loss: 4.3202 - mean_absolute_error: 0.3560 - val_loss: 4.9852 - val_mean_absolute_error: 0.3158\n",
            "Epoch 78/200\n",
            "642750/642750 [==============================] - 1s 2us/step - loss: 4.5000 - mean_absolute_error: 0.3406 - val_loss: 4.9937 - val_mean_absolute_error: 0.3234\n",
            "Epoch 79/200\n",
            "642750/642750 [==============================] - 1s 2us/step - loss: 4.3182 - mean_absolute_error: 0.3740 - val_loss: 4.9876 - val_mean_absolute_error: 0.3466\n",
            "Epoch 80/200\n",
            "642750/642750 [==============================] - 1s 2us/step - loss: 4.3406 - mean_absolute_error: 0.3210 - val_loss: 4.9194 - val_mean_absolute_error: 0.3384\n",
            "Epoch 81/200\n",
            "642750/642750 [==============================] - 1s 2us/step - loss: 4.3875 - mean_absolute_error: 0.3552 - val_loss: 4.8581 - val_mean_absolute_error: 0.3695\n",
            "Epoch 82/200\n",
            "642750/642750 [==============================] - 1s 2us/step - loss: 4.3104 - mean_absolute_error: 0.3398 - val_loss: 4.8724 - val_mean_absolute_error: 0.4265\n",
            "Epoch 83/200\n",
            "642750/642750 [==============================] - 1s 2us/step - loss: 4.3406 - mean_absolute_error: 0.3619 - val_loss: 5.0811 - val_mean_absolute_error: 0.3467\n",
            "Epoch 84/200\n",
            "642750/642750 [==============================] - 1s 2us/step - loss: 4.3224 - mean_absolute_error: 0.3333 - val_loss: 4.7712 - val_mean_absolute_error: 0.3794\n",
            "Epoch 85/200\n",
            "642750/642750 [==============================] - 1s 2us/step - loss: 4.2571 - mean_absolute_error: 0.3646 - val_loss: 5.0840 - val_mean_absolute_error: 0.3511\n",
            "Epoch 86/200\n",
            "642750/642750 [==============================] - 1s 2us/step - loss: 4.3563 - mean_absolute_error: 0.3286 - val_loss: 4.9109 - val_mean_absolute_error: 0.3313\n",
            "Epoch 87/200\n",
            "642750/642750 [==============================] - 1s 2us/step - loss: 4.5397 - mean_absolute_error: 0.3516 - val_loss: 5.0425 - val_mean_absolute_error: 0.4379\n",
            "Epoch 88/200\n",
            "642750/642750 [==============================] - 1s 2us/step - loss: 4.2604 - mean_absolute_error: 0.3546 - val_loss: 4.9119 - val_mean_absolute_error: 0.3524\n",
            "Epoch 89/200\n",
            "642750/642750 [==============================] - 1s 2us/step - loss: 4.1801 - mean_absolute_error: 0.3509 - val_loss: 5.1066 - val_mean_absolute_error: 0.3530\n",
            "Epoch 90/200\n",
            "642750/642750 [==============================] - 1s 2us/step - loss: 4.1861 - mean_absolute_error: 0.3372 - val_loss: 4.9188 - val_mean_absolute_error: 0.3534\n",
            "Epoch 91/200\n",
            "642750/642750 [==============================] - 1s 2us/step - loss: 4.2837 - mean_absolute_error: 0.3409 - val_loss: 5.0949 - val_mean_absolute_error: 0.4327\n",
            "Epoch 92/200\n",
            "642750/642750 [==============================] - 1s 2us/step - loss: 4.5049 - mean_absolute_error: 0.3480 - val_loss: 5.2278 - val_mean_absolute_error: 0.3305\n",
            "Epoch 93/200\n",
            "642750/642750 [==============================] - 1s 2us/step - loss: 4.4280 - mean_absolute_error: 0.3793 - val_loss: 5.2858 - val_mean_absolute_error: 0.3113\n",
            "Epoch 94/200\n",
            "642750/642750 [==============================] - 1s 2us/step - loss: 4.6151 - mean_absolute_error: 0.3112 - val_loss: 5.3308 - val_mean_absolute_error: 0.3855\n",
            "Epoch 95/200\n",
            "642750/642750 [==============================] - 1s 2us/step - loss: 4.5957 - mean_absolute_error: 0.3741 - val_loss: 4.9181 - val_mean_absolute_error: 0.3551\n",
            "Epoch 96/200\n",
            "642750/642750 [==============================] - 1s 2us/step - loss: 4.3651 - mean_absolute_error: 0.3658 - val_loss: 4.8528 - val_mean_absolute_error: 0.3814\n",
            "Epoch 97/200\n",
            "642750/642750 [==============================] - 1s 2us/step - loss: 4.4165 - mean_absolute_error: 0.3407 - val_loss: 5.1421 - val_mean_absolute_error: 0.3842\n",
            "Epoch 98/200\n",
            "642750/642750 [==============================] - 1s 2us/step - loss: 4.3402 - mean_absolute_error: 0.3493 - val_loss: 5.2479 - val_mean_absolute_error: 0.3480\n",
            "Epoch 99/200\n",
            "642750/642750 [==============================] - 1s 2us/step - loss: 4.3124 - mean_absolute_error: 0.3610 - val_loss: 5.0073 - val_mean_absolute_error: 0.3499\n",
            "Epoch 100/200\n",
            "642750/642750 [==============================] - 1s 2us/step - loss: 4.3862 - mean_absolute_error: 0.3440 - val_loss: 5.1257 - val_mean_absolute_error: 0.3736\n",
            "Epoch 101/200\n",
            "642750/642750 [==============================] - 1s 2us/step - loss: 4.3221 - mean_absolute_error: 0.3346 - val_loss: 5.1634 - val_mean_absolute_error: 0.3166\n",
            "Epoch 102/200\n",
            "642750/642750 [==============================] - 1s 2us/step - loss: 4.6917 - mean_absolute_error: 0.3570 - val_loss: 5.0528 - val_mean_absolute_error: 0.3595\n",
            "Epoch 103/200\n",
            "642750/642750 [==============================] - 1s 2us/step - loss: 4.6041 - mean_absolute_error: 0.3293 - val_loss: 4.5941 - val_mean_absolute_error: 0.4446\n",
            "Epoch 104/200\n",
            "642750/642750 [==============================] - 1s 2us/step - loss: 4.6334 - mean_absolute_error: 0.3622 - val_loss: 5.0820 - val_mean_absolute_error: 0.3510\n",
            "Epoch 105/200\n",
            "642750/642750 [==============================] - 1s 2us/step - loss: 4.5623 - mean_absolute_error: 0.3327 - val_loss: 5.0066 - val_mean_absolute_error: 0.3779\n",
            "Epoch 106/200\n",
            "642750/642750 [==============================] - 1s 2us/step - loss: 4.7062 - mean_absolute_error: 0.3709 - val_loss: 5.0790 - val_mean_absolute_error: 0.4022\n",
            "Epoch 107/200\n",
            "642750/642750 [==============================] - 1s 2us/step - loss: 4.5759 - mean_absolute_error: 0.3368 - val_loss: 4.7811 - val_mean_absolute_error: 0.3247\n",
            "Epoch 108/200\n",
            "642750/642750 [==============================] - 1s 2us/step - loss: 4.4144 - mean_absolute_error: 0.3403 - val_loss: 5.2684 - val_mean_absolute_error: 0.4098\n",
            "Epoch 109/200\n",
            "642750/642750 [==============================] - 1s 2us/step - loss: 4.3541 - mean_absolute_error: 0.3330 - val_loss: 5.0073 - val_mean_absolute_error: 0.3562\n",
            "Epoch 110/200\n",
            "642750/642750 [==============================] - 1s 2us/step - loss: 4.3752 - mean_absolute_error: 0.3806 - val_loss: 5.0346 - val_mean_absolute_error: 0.3492\n",
            "Epoch 111/200\n",
            "642750/642750 [==============================] - 1s 2us/step - loss: 4.4674 - mean_absolute_error: 0.3374 - val_loss: 5.1592 - val_mean_absolute_error: 0.3110\n",
            "Epoch 112/200\n",
            "642750/642750 [==============================] - 1s 2us/step - loss: 4.5114 - mean_absolute_error: 0.3689 - val_loss: 5.2319 - val_mean_absolute_error: 0.3172\n",
            "Epoch 113/200\n",
            "642750/642750 [==============================] - 1s 2us/step - loss: 4.6026 - mean_absolute_error: 0.3302 - val_loss: 5.1826 - val_mean_absolute_error: 0.3957\n",
            "Epoch 114/200\n",
            "642750/642750 [==============================] - 1s 2us/step - loss: 4.3186 - mean_absolute_error: 0.3800 - val_loss: 5.0330 - val_mean_absolute_error: 0.3617\n",
            "Epoch 115/200\n",
            "642750/642750 [==============================] - 1s 2us/step - loss: 4.2063 - mean_absolute_error: 0.3424 - val_loss: 5.0758 - val_mean_absolute_error: 0.4348\n",
            "Epoch 116/200\n",
            "642750/642750 [==============================] - 1s 2us/step - loss: 4.2779 - mean_absolute_error: 0.3577 - val_loss: 5.0798 - val_mean_absolute_error: 0.3829\n",
            "Epoch 117/200\n",
            "642750/642750 [==============================] - 1s 2us/step - loss: 4.2283 - mean_absolute_error: 0.3325 - val_loss: 5.0118 - val_mean_absolute_error: 0.3581\n",
            "Epoch 118/200\n",
            "642750/642750 [==============================] - 1s 2us/step - loss: 4.2602 - mean_absolute_error: 0.3431 - val_loss: 5.3324 - val_mean_absolute_error: 0.3760\n",
            "Epoch 119/200\n",
            "642750/642750 [==============================] - 1s 2us/step - loss: 4.6706 - mean_absolute_error: 0.3420 - val_loss: 5.3159 - val_mean_absolute_error: 0.3131\n",
            "Epoch 120/200\n",
            "642750/642750 [==============================] - 1s 2us/step - loss: 4.4338 - mean_absolute_error: 0.3383 - val_loss: 5.0122 - val_mean_absolute_error: 0.4323\n",
            "Epoch 121/200\n",
            "642750/642750 [==============================] - 1s 2us/step - loss: 4.4007 - mean_absolute_error: 0.3627 - val_loss: 4.5720 - val_mean_absolute_error: 0.3071\n",
            "Epoch 122/200\n",
            "642750/642750 [==============================] - 1s 2us/step - loss: 4.2507 - mean_absolute_error: 0.3395 - val_loss: 5.0003 - val_mean_absolute_error: 0.3515\n",
            "Epoch 123/200\n",
            "642750/642750 [==============================] - 1s 2us/step - loss: 4.1696 - mean_absolute_error: 0.3271 - val_loss: 4.7826 - val_mean_absolute_error: 0.3801\n",
            "Epoch 124/200\n",
            "642750/642750 [==============================] - 1s 2us/step - loss: 4.5414 - mean_absolute_error: 0.3858 - val_loss: 5.2377 - val_mean_absolute_error: 0.3551\n",
            "Epoch 125/200\n",
            "642750/642750 [==============================] - 1s 2us/step - loss: 4.4364 - mean_absolute_error: 0.3011 - val_loss: 4.7908 - val_mean_absolute_error: 0.3310\n",
            "Epoch 126/200\n",
            "642750/642750 [==============================] - 1s 2us/step - loss: 4.6291 - mean_absolute_error: 0.3543 - val_loss: 5.4033 - val_mean_absolute_error: 0.4327\n",
            "Epoch 127/200\n",
            "642750/642750 [==============================] - 1s 2us/step - loss: 4.7046 - mean_absolute_error: 0.3878 - val_loss: 4.7252 - val_mean_absolute_error: 0.3430\n",
            "Epoch 128/200\n",
            "642750/642750 [==============================] - 1s 2us/step - loss: 4.6640 - mean_absolute_error: 0.3267 - val_loss: 5.1832 - val_mean_absolute_error: 0.6330\n",
            "Epoch 129/200\n",
            "642750/642750 [==============================] - 1s 2us/step - loss: 4.3896 - mean_absolute_error: 0.4351 - val_loss: 4.9724 - val_mean_absolute_error: 0.3601\n",
            "Epoch 130/200\n",
            "642750/642750 [==============================] - 1s 2us/step - loss: 4.2816 - mean_absolute_error: 0.3202 - val_loss: 4.9435 - val_mean_absolute_error: 0.3781\n",
            "Epoch 131/200\n",
            "642750/642750 [==============================] - 1s 2us/step - loss: 4.2205 - mean_absolute_error: 0.3469 - val_loss: 4.7418 - val_mean_absolute_error: 0.3465\n",
            "Epoch 132/200\n",
            "642750/642750 [==============================] - 1s 2us/step - loss: 4.2739 - mean_absolute_error: 0.3196 - val_loss: 4.8245 - val_mean_absolute_error: 0.3665\n",
            "Epoch 133/200\n",
            "642750/642750 [==============================] - 1s 2us/step - loss: 4.1777 - mean_absolute_error: 0.3596 - val_loss: 4.9333 - val_mean_absolute_error: 0.3567\n",
            "Epoch 134/200\n",
            "642750/642750 [==============================] - 1s 2us/step - loss: 4.2509 - mean_absolute_error: 0.3174 - val_loss: 5.2391 - val_mean_absolute_error: 0.4704\n",
            "Epoch 135/200\n",
            "642750/642750 [==============================] - 1s 2us/step - loss: 4.2945 - mean_absolute_error: 0.3746 - val_loss: 5.0804 - val_mean_absolute_error: 0.4070\n",
            "Epoch 136/200\n",
            "642750/642750 [==============================] - 1s 2us/step - loss: 4.1924 - mean_absolute_error: 0.3338 - val_loss: 4.9918 - val_mean_absolute_error: 0.4862\n",
            "Epoch 137/200\n",
            "642750/642750 [==============================] - 1s 2us/step - loss: 4.3281 - mean_absolute_error: 0.3707 - val_loss: 5.0839 - val_mean_absolute_error: 0.4472\n",
            "Epoch 138/200\n",
            "642750/642750 [==============================] - 1s 2us/step - loss: 4.1393 - mean_absolute_error: 0.3358 - val_loss: 4.9534 - val_mean_absolute_error: 0.3906\n",
            "Epoch 139/200\n",
            "642750/642750 [==============================] - 1s 2us/step - loss: 4.2552 - mean_absolute_error: 0.3482 - val_loss: 4.9655 - val_mean_absolute_error: 0.4107\n",
            "Epoch 140/200\n",
            "642750/642750 [==============================] - 1s 2us/step - loss: 4.2176 - mean_absolute_error: 0.3364 - val_loss: 5.2352 - val_mean_absolute_error: 0.4694\n",
            "Epoch 141/200\n",
            "642750/642750 [==============================] - 1s 2us/step - loss: 4.3688 - mean_absolute_error: 0.3501 - val_loss: 4.6511 - val_mean_absolute_error: 0.3310\n",
            "Epoch 142/200\n",
            "642750/642750 [==============================] - 1s 2us/step - loss: 4.2244 - mean_absolute_error: 0.3439 - val_loss: 4.9719 - val_mean_absolute_error: 0.4300\n",
            "Epoch 143/200\n",
            "642750/642750 [==============================] - 1s 2us/step - loss: 4.1689 - mean_absolute_error: 0.3469 - val_loss: 4.9095 - val_mean_absolute_error: 0.3158\n",
            "Epoch 144/200\n",
            "642750/642750 [==============================] - 1s 2us/step - loss: 4.3098 - mean_absolute_error: 0.3218 - val_loss: 5.4483 - val_mean_absolute_error: 0.4194\n",
            "Epoch 145/200\n",
            "642750/642750 [==============================] - 1s 2us/step - loss: 4.5216 - mean_absolute_error: 0.3553 - val_loss: 4.8967 - val_mean_absolute_error: 0.3192\n",
            "Epoch 146/200\n",
            "642750/642750 [==============================] - 1s 2us/step - loss: 4.2373 - mean_absolute_error: 0.3217 - val_loss: 4.8873 - val_mean_absolute_error: 0.4821\n",
            "Epoch 147/200\n",
            "642750/642750 [==============================] - 1s 2us/step - loss: 4.3799 - mean_absolute_error: 0.3856 - val_loss: 4.8920 - val_mean_absolute_error: 0.3426\n",
            "Epoch 148/200\n",
            "642750/642750 [==============================] - 1s 2us/step - loss: 4.2745 - mean_absolute_error: 0.3015 - val_loss: 5.3171 - val_mean_absolute_error: 0.4062\n",
            "Epoch 149/200\n",
            "642750/642750 [==============================] - 1s 2us/step - loss: 4.2606 - mean_absolute_error: 0.3592 - val_loss: 5.1984 - val_mean_absolute_error: 0.4101\n",
            "Epoch 150/200\n",
            "642750/642750 [==============================] - 1s 2us/step - loss: 4.1568 - mean_absolute_error: 0.3413 - val_loss: 4.8314 - val_mean_absolute_error: 0.4463\n",
            "Epoch 151/200\n",
            "642750/642750 [==============================] - 1s 2us/step - loss: 4.1116 - mean_absolute_error: 0.3675 - val_loss: 5.1643 - val_mean_absolute_error: 0.4006\n",
            "Epoch 152/200\n",
            "642750/642750 [==============================] - 1s 2us/step - loss: 4.1396 - mean_absolute_error: 0.3187 - val_loss: 4.9289 - val_mean_absolute_error: 0.3651\n",
            "Epoch 153/200\n",
            "642750/642750 [==============================] - 1s 2us/step - loss: 4.0362 - mean_absolute_error: 0.3528 - val_loss: 5.0077 - val_mean_absolute_error: 0.3942\n",
            "Epoch 154/200\n",
            "642750/642750 [==============================] - 1s 2us/step - loss: 4.0627 - mean_absolute_error: 0.3414 - val_loss: 5.0848 - val_mean_absolute_error: 0.3706\n",
            "Epoch 155/200\n",
            "642750/642750 [==============================] - 1s 2us/step - loss: 4.1931 - mean_absolute_error: 0.3346 - val_loss: 4.7755 - val_mean_absolute_error: 0.3313\n",
            "Epoch 156/200\n",
            "642750/642750 [==============================] - 1s 2us/step - loss: 4.0592 - mean_absolute_error: 0.3485 - val_loss: 4.8068 - val_mean_absolute_error: 0.3276\n",
            "Epoch 157/200\n",
            "642750/642750 [==============================] - 1s 2us/step - loss: 4.1041 - mean_absolute_error: 0.3192 - val_loss: 4.8819 - val_mean_absolute_error: 0.3396\n",
            "Epoch 158/200\n",
            "642750/642750 [==============================] - 1s 2us/step - loss: 4.2135 - mean_absolute_error: 0.3425 - val_loss: 4.8020 - val_mean_absolute_error: 0.3579\n",
            "Epoch 159/200\n",
            "642750/642750 [==============================] - 1s 2us/step - loss: 4.1468 - mean_absolute_error: 0.3520 - val_loss: 4.9937 - val_mean_absolute_error: 0.3525\n",
            "Epoch 160/200\n",
            "642750/642750 [==============================] - 1s 2us/step - loss: 4.1114 - mean_absolute_error: 0.3362 - val_loss: 5.0646 - val_mean_absolute_error: 0.3734\n",
            "Epoch 161/200\n",
            "642750/642750 [==============================] - 1s 2us/step - loss: 4.1120 - mean_absolute_error: 0.3398 - val_loss: 4.8290 - val_mean_absolute_error: 0.3562\n",
            "Epoch 162/200\n",
            "642750/642750 [==============================] - 1s 2us/step - loss: 3.9454 - mean_absolute_error: 0.3411 - val_loss: 4.7831 - val_mean_absolute_error: 0.3383\n",
            "Epoch 163/200\n",
            "642750/642750 [==============================] - 1s 2us/step - loss: 4.0389 - mean_absolute_error: 0.3190 - val_loss: 4.8758 - val_mean_absolute_error: 0.3369\n",
            "Epoch 164/200\n",
            "642750/642750 [==============================] - 1s 2us/step - loss: 4.1469 - mean_absolute_error: 0.3515 - val_loss: 4.7946 - val_mean_absolute_error: 0.3549\n",
            "Epoch 165/200\n",
            "642750/642750 [==============================] - 1s 2us/step - loss: 4.0589 - mean_absolute_error: 0.3263 - val_loss: 5.1990 - val_mean_absolute_error: 0.4535\n",
            "Epoch 166/200\n",
            "642750/642750 [==============================] - 1s 2us/step - loss: 4.0452 - mean_absolute_error: 0.3438 - val_loss: 4.8738 - val_mean_absolute_error: 0.3645\n",
            "Epoch 167/200\n",
            "642750/642750 [==============================] - 1s 2us/step - loss: 3.9375 - mean_absolute_error: 0.3456 - val_loss: 4.7980 - val_mean_absolute_error: 0.3955\n",
            "Epoch 168/200\n",
            "642750/642750 [==============================] - 1s 2us/step - loss: 4.0685 - mean_absolute_error: 0.3268 - val_loss: 4.8570 - val_mean_absolute_error: 0.3674\n",
            "Epoch 169/200\n",
            "642750/642750 [==============================] - 1s 2us/step - loss: 3.9494 - mean_absolute_error: 0.3373 - val_loss: 4.9439 - val_mean_absolute_error: 0.3694\n",
            "Epoch 170/200\n",
            "642750/642750 [==============================] - 1s 2us/step - loss: 3.9759 - mean_absolute_error: 0.3326 - val_loss: 4.9806 - val_mean_absolute_error: 0.3268\n",
            "Epoch 171/200\n",
            "642750/642750 [==============================] - 1s 2us/step - loss: 4.0330 - mean_absolute_error: 0.3378 - val_loss: 5.1961 - val_mean_absolute_error: 0.3393\n",
            "Epoch 172/200\n",
            "642750/642750 [==============================] - 1s 2us/step - loss: 4.6049 - mean_absolute_error: 0.3584 - val_loss: 4.8248 - val_mean_absolute_error: 0.3058\n",
            "Epoch 173/200\n",
            "642750/642750 [==============================] - 1s 2us/step - loss: 4.5671 - mean_absolute_error: 0.3154 - val_loss: 4.9901 - val_mean_absolute_error: 0.4026\n",
            "Epoch 174/200\n",
            "642750/642750 [==============================] - 1s 2us/step - loss: 4.5090 - mean_absolute_error: 0.3790 - val_loss: 5.0391 - val_mean_absolute_error: 0.3449\n",
            "Epoch 175/200\n",
            "642750/642750 [==============================] - 1s 2us/step - loss: 4.2346 - mean_absolute_error: 0.3289 - val_loss: 4.9150 - val_mean_absolute_error: 0.3727\n",
            "Epoch 176/200\n",
            "642750/642750 [==============================] - 1s 2us/step - loss: 4.2487 - mean_absolute_error: 0.3683 - val_loss: 4.9363 - val_mean_absolute_error: 0.3437\n",
            "Epoch 177/200\n",
            "642750/642750 [==============================] - 1s 2us/step - loss: 4.0781 - mean_absolute_error: 0.3262 - val_loss: 4.8817 - val_mean_absolute_error: 0.3679\n",
            "Epoch 178/200\n",
            "642750/642750 [==============================] - 1s 2us/step - loss: 4.0443 - mean_absolute_error: 0.3670 - val_loss: 4.9367 - val_mean_absolute_error: 0.3342\n",
            "Epoch 179/200\n",
            "642750/642750 [==============================] - 1s 2us/step - loss: 4.0773 - mean_absolute_error: 0.3267 - val_loss: 4.9022 - val_mean_absolute_error: 0.3266\n",
            "Epoch 180/200\n",
            "642750/642750 [==============================] - 1s 2us/step - loss: 3.9181 - mean_absolute_error: 0.3328 - val_loss: 4.9390 - val_mean_absolute_error: 0.3212\n",
            "Epoch 181/200\n",
            "642750/642750 [==============================] - 1s 2us/step - loss: 3.9530 - mean_absolute_error: 0.3308 - val_loss: 4.9977 - val_mean_absolute_error: 0.3862\n",
            "Epoch 182/200\n",
            "642750/642750 [==============================] - 1s 2us/step - loss: 4.0284 - mean_absolute_error: 0.3383 - val_loss: 4.9760 - val_mean_absolute_error: 0.3917\n",
            "Epoch 183/200\n",
            "642750/642750 [==============================] - 1s 2us/step - loss: 4.0755 - mean_absolute_error: 0.3485 - val_loss: 4.7608 - val_mean_absolute_error: 0.3422\n",
            "Epoch 184/200\n",
            "642750/642750 [==============================] - 1s 2us/step - loss: 4.1803 - mean_absolute_error: 0.3274 - val_loss: 4.7692 - val_mean_absolute_error: 0.3848\n",
            "Epoch 185/200\n",
            "642750/642750 [==============================] - 1s 2us/step - loss: 4.0492 - mean_absolute_error: 0.3387 - val_loss: 4.8276 - val_mean_absolute_error: 0.3447\n",
            "Epoch 186/200\n",
            "642750/642750 [==============================] - 1s 2us/step - loss: 3.9902 - mean_absolute_error: 0.3429 - val_loss: 5.0155 - val_mean_absolute_error: 0.3636\n",
            "Epoch 187/200\n",
            "642750/642750 [==============================] - 1s 2us/step - loss: 3.9738 - mean_absolute_error: 0.3234 - val_loss: 4.9890 - val_mean_absolute_error: 0.3718\n",
            "Epoch 188/200\n",
            "642750/642750 [==============================] - 1s 2us/step - loss: 4.0597 - mean_absolute_error: 0.3234 - val_loss: 4.8498 - val_mean_absolute_error: 0.3555\n",
            "Epoch 189/200\n",
            "642750/642750 [==============================] - 1s 2us/step - loss: 4.0320 - mean_absolute_error: 0.3456 - val_loss: 4.7127 - val_mean_absolute_error: 0.3566\n",
            "Epoch 190/200\n",
            "642750/642750 [==============================] - 1s 2us/step - loss: 3.9410 - mean_absolute_error: 0.3338 - val_loss: 5.0079 - val_mean_absolute_error: 0.3637\n",
            "Epoch 191/200\n",
            "642750/642750 [==============================] - 1s 2us/step - loss: 3.9124 - mean_absolute_error: 0.3349 - val_loss: 4.9608 - val_mean_absolute_error: 0.3617\n",
            "Epoch 192/200\n",
            "642750/642750 [==============================] - 1s 2us/step - loss: 3.8902 - mean_absolute_error: 0.3349 - val_loss: 4.8617 - val_mean_absolute_error: 0.3308\n",
            "Epoch 193/200\n",
            "642750/642750 [==============================] - 1s 2us/step - loss: 3.9565 - mean_absolute_error: 0.3174 - val_loss: 4.7607 - val_mean_absolute_error: 0.3646\n",
            "Epoch 194/200\n",
            "642750/642750 [==============================] - 1s 2us/step - loss: 3.8297 - mean_absolute_error: 0.3432 - val_loss: 4.9371 - val_mean_absolute_error: 0.3841\n",
            "Epoch 195/200\n",
            "642750/642750 [==============================] - 1s 2us/step - loss: 4.0132 - mean_absolute_error: 0.3353 - val_loss: 5.1543 - val_mean_absolute_error: 0.3180\n",
            "Epoch 196/200\n",
            "642750/642750 [==============================] - 1s 2us/step - loss: 4.3743 - mean_absolute_error: 0.3465 - val_loss: 4.8882 - val_mean_absolute_error: 0.3073\n",
            "Epoch 197/200\n",
            "642750/642750 [==============================] - 1s 2us/step - loss: 4.3247 - mean_absolute_error: 0.3176 - val_loss: 4.8352 - val_mean_absolute_error: 0.4356\n",
            "Epoch 198/200\n",
            "642750/642750 [==============================] - 1s 2us/step - loss: 4.5200 - mean_absolute_error: 0.3890 - val_loss: 5.0147 - val_mean_absolute_error: 0.3368\n",
            "Epoch 199/200\n",
            "642750/642750 [==============================] - 1s 2us/step - loss: 4.2656 - mean_absolute_error: 0.3229 - val_loss: 5.2843 - val_mean_absolute_error: 0.4510\n",
            "Epoch 200/200\n",
            "642750/642750 [==============================] - 1s 2us/step - loss: 4.2172 - mean_absolute_error: 0.3418 - val_loss: 5.1989 - val_mean_absolute_error: 0.4703\n",
            "CPU times: user 2min 53s, sys: 23.7 s, total: 3min 17s\n",
            "Wall time: 3min 46s\n"
          ],
          "name": "stdout"
        }
      ]
    },
    {
      "metadata": {
        "id": "pGGlQlmjEPO1",
        "colab_type": "code",
        "colab": {}
      },
      "cell_type": "code",
      "source": [
        "#history.history"
      ],
      "execution_count": 0,
      "outputs": []
    },
    {
      "metadata": {
        "id": "E9tsa19a7Htb",
        "colab_type": "code",
        "outputId": "e562467a-7fa9-4a85-e4eb-361b57040104",
        "colab": {
          "base_uri": "https://localhost:8080/",
          "height": 51
        }
      },
      "cell_type": "code",
      "source": [
        "%%time\n",
        "model.save(filename)\n",
        "\n",
        "#files.download(filename)"
      ],
      "execution_count": 48,
      "outputs": [
        {
          "output_type": "stream",
          "text": [
            "CPU times: user 604 ms, sys: 17.4 ms, total: 621 ms\n",
            "Wall time: 640 ms\n"
          ],
          "name": "stdout"
        }
      ]
    },
    {
      "metadata": {
        "id": "hqUYvvk0BSoC",
        "colab_type": "text"
      },
      "cell_type": "markdown",
      "source": [
        "# Predict / Output"
      ]
    },
    {
      "metadata": {
        "colab_type": "code",
        "outputId": "ac711c3d-fa2a-4421-b0ac-641a178f4e31",
        "id": "QJhP_m-zCz6B",
        "colab": {
          "base_uri": "https://localhost:8080/",
          "height": 121
        }
      },
      "cell_type": "code",
      "source": [
        "from google.colab import drive\n",
        "from google.colab import files\n",
        "\n",
        "drive.mount('/content/gdrive')"
      ],
      "execution_count": 0,
      "outputs": [
        {
          "output_type": "stream",
          "text": [
            "Go to this URL in a browser: https://accounts.google.com/o/oauth2/auth?client_id=947318989803-6bn6qk8qdgf4n4g3pfee6491hc0brc4i.apps.googleusercontent.com&redirect_uri=urn%3Aietf%3Awg%3Aoauth%3A2.0%3Aoob&scope=email%20https%3A%2F%2Fwww.googleapis.com%2Fauth%2Fdocs.test%20https%3A%2F%2Fwww.googleapis.com%2Fauth%2Fdrive%20https%3A%2F%2Fwww.googleapis.com%2Fauth%2Fdrive.photos.readonly%20https%3A%2F%2Fwww.googleapis.com%2Fauth%2Fpeopleapi.readonly&response_type=code\n",
            "\n",
            "Enter your authorization code:\n",
            "··········\n",
            "Mounted at /content/gdrive\n"
          ],
          "name": "stdout"
        }
      ]
    },
    {
      "metadata": {
        "colab_type": "code",
        "outputId": "b76436e3-4af3-449c-bbda-c80898ee0abf",
        "id": "eEGS9Bn2Cz6E",
        "colab": {
          "base_uri": "https://localhost:8080/",
          "height": 68
        }
      },
      "cell_type": "code",
      "source": [
        "%cd ../content/gdrive/My Drive/projects/ggl_an/\n",
        "%ls"
      ],
      "execution_count": 0,
      "outputs": [
        {
          "output_type": "stream",
          "text": [
            "/content/gdrive/My Drive/projects/ggl_an\n",
            "model_LGB.sav   user_test.csv    user_train.csv\n",
            "output_LGB.csv  user_test_n.csv  user_train_n.csv\n"
          ],
          "name": "stdout"
        }
      ]
    },
    {
      "metadata": {
        "id": "TseyqpQyBSaU",
        "colab_type": "code",
        "colab": {}
      },
      "cell_type": "code",
      "source": [
        "import numpy as np\n",
        "import pandas as pd\n",
        "\n",
        "from keras import models\n",
        "from keras import layers\n",
        "from keras.models import load_model\n",
        "\n",
        "\n",
        "filename = 'model_NN.h5'\n",
        "model = load_model(filename)"
      ],
      "execution_count": 0,
      "outputs": []
    },
    {
      "metadata": {
        "id": "n64xkSF_BSX6",
        "colab_type": "code",
        "colab": {
          "base_uri": "https://localhost:8080/",
          "height": 51
        },
        "outputId": "7c14808e-f16c-42c9-ea1e-f9dc0d00bb99"
      },
      "cell_type": "code",
      "source": [
        "%%time\n",
        "df_user_train = pd.read_csv('user_train_n.csv', index_col = 0, dtype={'fullVisitorId': 'str'})\n",
        "df_user_test = pd.read_csv('user_test_n.csv', index_col = 0, dtype={'fullVisitorId': 'str'})\n"
      ],
      "execution_count": 27,
      "outputs": [
        {
          "output_type": "stream",
          "text": [
            "CPU times: user 6.49 s, sys: 316 ms, total: 6.8 s\n",
            "Wall time: 7.09 s\n"
          ],
          "name": "stdout"
        }
      ]
    },
    {
      "metadata": {
        "id": "6oNx0QIG81nE",
        "colab_type": "code",
        "colab": {
          "base_uri": "https://localhost:8080/",
          "height": 34
        },
        "outputId": "b4298f9b-512c-4403-bc88-b2b491aad9b8"
      },
      "cell_type": "code",
      "source": [
        "\n",
        "df_y = df_user_train['transactionRevenue']\n",
        "df_x = df_user_train.drop(['transactionRevenue'], axis=1)\n",
        "df_tgt = df_user_test.drop(['transactionRevenue'], axis=1)\n",
        "\n",
        "df_x.shape, df_y.shape, df_tgt.shape\n"
      ],
      "execution_count": 28,
      "outputs": [
        {
          "output_type": "execute_result",
          "data": {
            "text/plain": [
              "((714167, 23), (714167,), (617242, 23))"
            ]
          },
          "metadata": {
            "tags": []
          },
          "execution_count": 28
        }
      ]
    },
    {
      "metadata": {
        "id": "o4mDYws28VCk",
        "colab_type": "code",
        "colab": {
          "base_uri": "https://localhost:8080/",
          "height": 68
        },
        "outputId": "a34c84cb-98fe-4466-db9e-9f2772ff002a"
      },
      "cell_type": "code",
      "source": [
        "%%time\n",
        "\n",
        "from sklearn.metrics import mean_squared_error\n",
        "\n",
        "pred = model.predict(df_x)\n",
        "mse = mean_squared_error(df_y, pred)\n",
        "rmse = np.sqrt(mse)\n",
        "print(rmse)"
      ],
      "execution_count": 49,
      "outputs": [
        {
          "output_type": "stream",
          "text": [
            "2.048579998484373\n",
            "CPU times: user 34.6 s, sys: 3.72 s, total: 38.3 s\n",
            "Wall time: 30 s\n"
          ],
          "name": "stdout"
        }
      ]
    },
    {
      "metadata": {
        "id": "CVxJYyAo8U_O",
        "colab_type": "code",
        "colab": {
          "base_uri": "https://localhost:8080/",
          "height": 51
        },
        "outputId": "3412594a-373e-4270-bd2e-5e30cc72c2d7"
      },
      "cell_type": "code",
      "source": [
        "%%time\n",
        "pred_tgt = model.predict(df_tgt)\n"
      ],
      "execution_count": 50,
      "outputs": [
        {
          "output_type": "stream",
          "text": [
            "CPU times: user 29.8 s, sys: 3.18 s, total: 32.9 s\n",
            "Wall time: 25.8 s\n"
          ],
          "name": "stdout"
        }
      ]
    },
    {
      "metadata": {
        "id": "l9meIvhh8U8L",
        "colab_type": "code",
        "colab": {
          "base_uri": "https://localhost:8080/",
          "height": 34
        },
        "outputId": "555f885a-6a63-4c32-e4ee-a376cad9fb14"
      },
      "cell_type": "code",
      "source": [
        "pred_tgt.shape, pred_tgt.max(), pred_tgt.min(), len(pred_tgt[pred_tgt>=1.5])/len(pred_tgt)"
      ],
      "execution_count": 62,
      "outputs": [
        {
          "output_type": "execute_result",
          "data": {
            "text/plain": [
              "((617242, 1), 256.72137, 0.012220674, 0.05903843225185584)"
            ]
          },
          "metadata": {
            "tags": []
          },
          "execution_count": 62
        }
      ]
    },
    {
      "metadata": {
        "id": "Yj2QLsV-9xem",
        "colab_type": "code",
        "colab": {
          "base_uri": "https://localhost:8080/",
          "height": 85
        },
        "outputId": "5dafb559-c24d-4f83-ff60-f3a5ceb61036"
      },
      "cell_type": "code",
      "source": [
        "print(len(df_y[df_y<=0.1]) - len(df_y[df_y==0]))\n",
        "\n",
        "print(len(pred_tgt[pred_tgt<=0.1]) - len(pred_tgt[pred_tgt==0]))\n",
        "\n",
        "print(len(df_y[df_y>0]) / len(df_y) )\n",
        "\n",
        "print(len(pred_tgt[pred_tgt>1]) / len(pred_tgt) )"
      ],
      "execution_count": 84,
      "outputs": [
        {
          "output_type": "stream",
          "text": [
            "0\n",
            "539750\n",
            "0.013996726255903731\n",
            "0.07120383901289931\n"
          ],
          "name": "stdout"
        }
      ]
    },
    {
      "metadata": {
        "id": "2H8GV7bq8U6K",
        "colab_type": "code",
        "colab": {}
      },
      "cell_type": "code",
      "source": [
        "pred_tgt[pred_tgt<0] = 0\n",
        "df_out = pd.DataFrame(index = df_tgt.index)\n",
        "df_out['PredictedLogRevenue'] = pred_tgt\n"
      ],
      "execution_count": 0,
      "outputs": []
    },
    {
      "metadata": {
        "id": "qjuxQSXI8U3v",
        "colab_type": "code",
        "colab": {
          "base_uri": "https://localhost:8080/",
          "height": 233
        },
        "outputId": "7f041a4c-123d-4773-bcca-f18b7d177f39"
      },
      "cell_type": "code",
      "source": [
        "df_out.head()"
      ],
      "execution_count": 86,
      "outputs": [
        {
          "output_type": "execute_result",
          "data": {
            "text/html": [
              "<div>\n",
              "<style scoped>\n",
              "    .dataframe tbody tr th:only-of-type {\n",
              "        vertical-align: middle;\n",
              "    }\n",
              "\n",
              "    .dataframe tbody tr th {\n",
              "        vertical-align: top;\n",
              "    }\n",
              "\n",
              "    .dataframe thead th {\n",
              "        text-align: right;\n",
              "    }\n",
              "</style>\n",
              "<table border=\"1\" class=\"dataframe\">\n",
              "  <thead>\n",
              "    <tr style=\"text-align: right;\">\n",
              "      <th></th>\n",
              "      <th>PredictedLogRevenue</th>\n",
              "    </tr>\n",
              "    <tr>\n",
              "      <th>fullVisitorId</th>\n",
              "      <th></th>\n",
              "    </tr>\n",
              "  </thead>\n",
              "  <tbody>\n",
              "    <tr>\n",
              "      <th>0000000259678714014</th>\n",
              "      <td>3.900114</td>\n",
              "    </tr>\n",
              "    <tr>\n",
              "      <th>0000049363351866189</th>\n",
              "      <td>0.000000</td>\n",
              "    </tr>\n",
              "    <tr>\n",
              "      <th>0000053049821714864</th>\n",
              "      <td>0.000000</td>\n",
              "    </tr>\n",
              "    <tr>\n",
              "      <th>0000059488412965267</th>\n",
              "      <td>0.000000</td>\n",
              "    </tr>\n",
              "    <tr>\n",
              "      <th>0000085840370633780</th>\n",
              "      <td>0.000000</td>\n",
              "    </tr>\n",
              "  </tbody>\n",
              "</table>\n",
              "</div>"
            ],
            "text/plain": [
              "                     PredictedLogRevenue\n",
              "fullVisitorId                           \n",
              "0000000259678714014             3.900114\n",
              "0000049363351866189             0.000000\n",
              "0000053049821714864             0.000000\n",
              "0000059488412965267             0.000000\n",
              "0000085840370633780             0.000000"
            ]
          },
          "metadata": {
            "tags": []
          },
          "execution_count": 86
        }
      ]
    },
    {
      "metadata": {
        "id": "K584rugV8-pc",
        "colab_type": "code",
        "colab": {
          "base_uri": "https://localhost:8080/",
          "height": 295
        },
        "outputId": "7787eba4-2e91-47b6-83d2-74886dd682ac"
      },
      "cell_type": "code",
      "source": [
        "df_out.describe()"
      ],
      "execution_count": 87,
      "outputs": [
        {
          "output_type": "execute_result",
          "data": {
            "text/html": [
              "<div>\n",
              "<style scoped>\n",
              "    .dataframe tbody tr th:only-of-type {\n",
              "        vertical-align: middle;\n",
              "    }\n",
              "\n",
              "    .dataframe tbody tr th {\n",
              "        vertical-align: top;\n",
              "    }\n",
              "\n",
              "    .dataframe thead th {\n",
              "        text-align: right;\n",
              "    }\n",
              "</style>\n",
              "<table border=\"1\" class=\"dataframe\">\n",
              "  <thead>\n",
              "    <tr style=\"text-align: right;\">\n",
              "      <th></th>\n",
              "      <th>PredictedLogRevenue</th>\n",
              "    </tr>\n",
              "  </thead>\n",
              "  <tbody>\n",
              "    <tr>\n",
              "      <th>count</th>\n",
              "      <td>617242.000000</td>\n",
              "    </tr>\n",
              "    <tr>\n",
              "      <th>mean</th>\n",
              "      <td>0.329575</td>\n",
              "    </tr>\n",
              "    <tr>\n",
              "      <th>std</th>\n",
              "      <td>1.717417</td>\n",
              "    </tr>\n",
              "    <tr>\n",
              "      <th>min</th>\n",
              "      <td>0.000000</td>\n",
              "    </tr>\n",
              "    <tr>\n",
              "      <th>25%</th>\n",
              "      <td>0.000000</td>\n",
              "    </tr>\n",
              "    <tr>\n",
              "      <th>50%</th>\n",
              "      <td>0.000000</td>\n",
              "    </tr>\n",
              "    <tr>\n",
              "      <th>75%</th>\n",
              "      <td>0.000000</td>\n",
              "    </tr>\n",
              "    <tr>\n",
              "      <th>max</th>\n",
              "      <td>256.721375</td>\n",
              "    </tr>\n",
              "  </tbody>\n",
              "</table>\n",
              "</div>"
            ],
            "text/plain": [
              "       PredictedLogRevenue\n",
              "count        617242.000000\n",
              "mean              0.329575\n",
              "std               1.717417\n",
              "min               0.000000\n",
              "25%               0.000000\n",
              "50%               0.000000\n",
              "75%               0.000000\n",
              "max             256.721375"
            ]
          },
          "metadata": {
            "tags": []
          },
          "execution_count": 87
        }
      ]
    },
    {
      "metadata": {
        "id": "EnMs4GSP8-mc",
        "colab_type": "code",
        "colab": {
          "base_uri": "https://localhost:8080/",
          "height": 51
        },
        "outputId": "42a54885-fead-44f2-9785-cb63dfba9177"
      },
      "cell_type": "code",
      "source": [
        "%%time\n",
        "df_out.to_csv('output_NN.csv')"
      ],
      "execution_count": 88,
      "outputs": [
        {
          "output_type": "stream",
          "text": [
            "CPU times: user 797 ms, sys: 20.8 ms, total: 817 ms\n",
            "Wall time: 892 ms\n"
          ],
          "name": "stdout"
        }
      ]
    },
    {
      "metadata": {
        "id": "eLD734KcBSTO",
        "colab_type": "code",
        "colab": {}
      },
      "cell_type": "code",
      "source": [
        ""
      ],
      "execution_count": 0,
      "outputs": []
    },
    {
      "metadata": {
        "id": "HCYvg4og5SCb",
        "colab_type": "code",
        "colab": {}
      },
      "cell_type": "code",
      "source": [
        ""
      ],
      "execution_count": 0,
      "outputs": []
    }
  ]
}