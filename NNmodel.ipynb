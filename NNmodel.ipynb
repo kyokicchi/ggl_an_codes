{
  "nbformat": 4,
  "nbformat_minor": 0,
  "metadata": {
    "colab": {
      "name": "trainNNmodel.ipynb",
      "version": "0.3.2",
      "provenance": [],
      "collapsed_sections": [],
      "include_colab_link": true
    },
    "kernelspec": {
      "name": "python3",
      "display_name": "Python 3"
    },
    "accelerator": "GPU"
  },
  "cells": [
    {
      "cell_type": "markdown",
      "metadata": {
        "id": "view-in-github",
        "colab_type": "text"
      },
      "source": [
        "<a href=\"https://colab.research.google.com/github/kyokicchi/ggl_an_codes/blob/master/NNmodel.ipynb\" target=\"_parent\"><img src=\"https://colab.research.google.com/assets/colab-badge.svg\" alt=\"Open In Colab\"/></a>"
      ]
    },
    {
      "metadata": {
        "id": "BFaLXotRBPpU",
        "colab_type": "text"
      },
      "cell_type": "markdown",
      "source": [
        "# initialize & load"
      ]
    },
    {
      "metadata": {
        "id": "uTLbBtpszx1d",
        "colab_type": "code",
        "outputId": "de0fd860-f430-4218-ab8a-7edc8cbadf78",
        "colab": {
          "base_uri": "https://localhost:8080/",
          "height": 34
        }
      },
      "cell_type": "code",
      "source": [
        "from google.colab import drive\n",
        "from google.colab import files\n",
        "\n",
        "import numpy as np\n",
        "import pandas as pd\n",
        "\n",
        "from keras import models\n",
        "from keras import layers\n",
        "from keras.models import load_model"
      ],
      "execution_count": 1,
      "outputs": [
        {
          "output_type": "stream",
          "text": [
            "Using TensorFlow backend.\n"
          ],
          "name": "stderr"
        }
      ]
    },
    {
      "metadata": {
        "id": "xPuIYqTaz_VT",
        "colab_type": "code",
        "outputId": "c91a7d57-17e5-43e6-c921-6ed40c66c936",
        "colab": {
          "base_uri": "https://localhost:8080/",
          "height": 121
        }
      },
      "cell_type": "code",
      "source": [
        "drive.mount('/content/gdrive')"
      ],
      "execution_count": 2,
      "outputs": [
        {
          "output_type": "stream",
          "text": [
            "Go to this URL in a browser: https://accounts.google.com/o/oauth2/auth?client_id=947318989803-6bn6qk8qdgf4n4g3pfee6491hc0brc4i.apps.googleusercontent.com&redirect_uri=urn%3Aietf%3Awg%3Aoauth%3A2.0%3Aoob&scope=email%20https%3A%2F%2Fwww.googleapis.com%2Fauth%2Fdocs.test%20https%3A%2F%2Fwww.googleapis.com%2Fauth%2Fdrive%20https%3A%2F%2Fwww.googleapis.com%2Fauth%2Fdrive.photos.readonly%20https%3A%2F%2Fwww.googleapis.com%2Fauth%2Fpeopleapi.readonly&response_type=code\n",
            "\n",
            "Enter your authorization code:\n",
            "··········\n",
            "Mounted at /content/gdrive\n"
          ],
          "name": "stdout"
        }
      ]
    },
    {
      "metadata": {
        "id": "OfYn9ovCz7tr",
        "colab_type": "code",
        "outputId": "fbf69558-82ee-4706-a592-ecad5c980a58",
        "colab": {
          "base_uri": "https://localhost:8080/",
          "height": 68
        }
      },
      "cell_type": "code",
      "source": [
        "%cd ../content/gdrive/My Drive/projects/ggl_an/\n",
        "%ls"
      ],
      "execution_count": 3,
      "outputs": [
        {
          "output_type": "stream",
          "text": [
            "/content/gdrive/My Drive/projects/ggl_an\n",
            "model_LGB.sav  output_LGB.csv  user_test.csv    user_train.csv\n",
            "model_NN.h5    output_NN.csv   user_test_n.csv  user_train_n.csv\n"
          ],
          "name": "stdout"
        }
      ]
    },
    {
      "metadata": {
        "id": "6oNx0QIG81nE",
        "colab_type": "code",
        "outputId": "26e48be7-8413-4fe1-a0ad-cf41b1bf1be3",
        "colab": {
          "base_uri": "https://localhost:8080/",
          "height": 51
        }
      },
      "cell_type": "code",
      "source": [
        "%%time\n",
        "filename = 'model_NN.h5'\n",
        "model = load_model(filename)\n",
        "\n",
        "df_train = pd.read_csv('user_train_n.csv', index_col = 0, dtype={'fullVisitorId': 'str'})\n",
        "df_test = pd.read_csv('user_test_n.csv', index_col = 0, dtype={'fullVisitorId': 'str'})\n",
        "\n",
        "df_y = df_train['transactionRevenue']\n",
        "df_x = df_train.drop(['transactionRevenue'], axis=1)\n",
        "df_tgt = df_test.drop(['transactionRevenue'], axis=1)"
      ],
      "execution_count": 4,
      "outputs": [
        {
          "output_type": "stream",
          "text": [
            "CPU times: user 11.3 s, sys: 1.51 s, total: 12.8 s\n",
            "Wall time: 20.3 s\n"
          ],
          "name": "stdout"
        }
      ]
    },
    {
      "metadata": {
        "id": "cBwwI8hduWOE",
        "colab_type": "code",
        "outputId": "25bf0518-2f6c-4ea9-8dea-cd1c9150b3c7",
        "colab": {
          "base_uri": "https://localhost:8080/",
          "height": 34
        }
      },
      "cell_type": "code",
      "source": [
        "print(df_x.shape, df_y.shape, df_tgt.shape)"
      ],
      "execution_count": 5,
      "outputs": [
        {
          "output_type": "stream",
          "text": [
            "(714167, 37) (714167,) (617242, 37)\n"
          ],
          "name": "stdout"
        }
      ]
    },
    {
      "metadata": {
        "id": "c78zRuC5s_pH",
        "colab_type": "text"
      },
      "cell_type": "markdown",
      "source": [
        "# train model"
      ]
    },
    {
      "metadata": {
        "colab_type": "code",
        "id": "r7THGQk8rMH9",
        "colab": {}
      },
      "cell_type": "code",
      "source": [
        "from keras import optimizers\n",
        "\n",
        "\n",
        "def build_model(N_col):\n",
        "  rate = 0.001\n",
        "  model = models.Sequential()\n",
        "  model.add(layers.Dense(N_col * 4, activation='relu', input_shape=(N_col,)))\n",
        "  model.add(layers.Dense(100, activation='relu'))\n",
        "  model.add(layers.Dropout(0.1))\n",
        "  model.add(layers.Dense(400, activation='relu'))\n",
        "  model.add(layers.Dropout(0.1))\n",
        "  model.add(layers.Dense(100, activation='relu'))\n",
        "  model.add(layers.Dense(1))\n",
        "  model.compile(optimizer=optimizers.adam(lr = rate), loss='mse', metrics=['mae'])\n",
        "  return model"
      ],
      "execution_count": 0,
      "outputs": []
    },
    {
      "metadata": {
        "colab_type": "code",
        "id": "Pg8l05Z2rL-s",
        "outputId": "7bc4111a-6def-4031-d8d9-96db6c67ea53",
        "colab": {
          "base_uri": "https://localhost:8080/",
          "height": 3452
        }
      },
      "cell_type": "code",
      "source": [
        "%%time\n",
        "epochs = 100\n",
        "#epochs = 500\n",
        "batch_size = df_x.shape[0] // 4\n",
        "validation_split = 0.1\n",
        "\n",
        "model = build_model(df_x.shape[1])\n",
        "\n",
        "history = model.fit(df_x,\n",
        "                    df_y,\n",
        "                    epochs=epochs,\n",
        "                    batch_size=batch_size,\n",
        "                    validation_split = validation_split,\n",
        "                    verbose=1)"
      ],
      "execution_count": 7,
      "outputs": [
        {
          "output_type": "stream",
          "text": [
            "Train on 642750 samples, validate on 71417 samples\n",
            "Epoch 1/100\n",
            "642750/642750 [==============================] - 3s 4us/step - loss: 8.3639 - mean_absolute_error: 0.5006 - val_loss: 8.4595 - val_mean_absolute_error: 0.4975\n",
            "Epoch 2/100\n",
            "642750/642750 [==============================] - 2s 2us/step - loss: 8.2351 - mean_absolute_error: 0.5330 - val_loss: 8.3036 - val_mean_absolute_error: 0.6101\n",
            "Epoch 3/100\n",
            "642750/642750 [==============================] - 2s 2us/step - loss: 8.0901 - mean_absolute_error: 0.6513 - val_loss: 8.1865 - val_mean_absolute_error: 0.7032\n",
            "Epoch 4/100\n",
            "642750/642750 [==============================] - 2s 2us/step - loss: 7.9711 - mean_absolute_error: 0.7085 - val_loss: 8.0325 - val_mean_absolute_error: 0.6402\n",
            "Epoch 5/100\n",
            "642750/642750 [==============================] - 2s 2us/step - loss: 7.8305 - mean_absolute_error: 0.6457 - val_loss: 7.9080 - val_mean_absolute_error: 0.6150\n",
            "Epoch 6/100\n",
            "642750/642750 [==============================] - 2s 2us/step - loss: 7.7040 - mean_absolute_error: 0.6333 - val_loss: 7.7917 - val_mean_absolute_error: 0.5902\n",
            "Epoch 7/100\n",
            "642750/642750 [==============================] - 2s 3us/step - loss: 7.5830 - mean_absolute_error: 0.5918 - val_loss: 7.6951 - val_mean_absolute_error: 0.5072\n",
            "Epoch 8/100\n",
            "642750/642750 [==============================] - 2s 2us/step - loss: 7.4764 - mean_absolute_error: 0.5588 - val_loss: 7.5988 - val_mean_absolute_error: 0.5099\n",
            "Epoch 9/100\n",
            "642750/642750 [==============================] - 2s 2us/step - loss: 7.3866 - mean_absolute_error: 0.5468 - val_loss: 7.4830 - val_mean_absolute_error: 0.4778\n",
            "Epoch 10/100\n",
            "642750/642750 [==============================] - 2s 2us/step - loss: 7.2766 - mean_absolute_error: 0.5264 - val_loss: 7.3566 - val_mean_absolute_error: 0.4835\n",
            "Epoch 11/100\n",
            "642750/642750 [==============================] - 2s 2us/step - loss: 7.1602 - mean_absolute_error: 0.5222 - val_loss: 7.2030 - val_mean_absolute_error: 0.4951\n",
            "Epoch 12/100\n",
            "642750/642750 [==============================] - 2s 3us/step - loss: 7.0245 - mean_absolute_error: 0.5098 - val_loss: 7.0286 - val_mean_absolute_error: 0.5027\n",
            "Epoch 13/100\n",
            "642750/642750 [==============================] - 2s 2us/step - loss: 6.8928 - mean_absolute_error: 0.5123 - val_loss: 6.8599 - val_mean_absolute_error: 0.4476\n",
            "Epoch 14/100\n",
            "642750/642750 [==============================] - 2s 2us/step - loss: 6.7088 - mean_absolute_error: 0.4990 - val_loss: 6.6099 - val_mean_absolute_error: 0.4736\n",
            "Epoch 15/100\n",
            "642750/642750 [==============================] - 2s 2us/step - loss: 6.5296 - mean_absolute_error: 0.5052 - val_loss: 6.3773 - val_mean_absolute_error: 0.4435\n",
            "Epoch 16/100\n",
            "642750/642750 [==============================] - 2s 2us/step - loss: 6.3192 - mean_absolute_error: 0.4892 - val_loss: 6.1958 - val_mean_absolute_error: 0.4018\n",
            "Epoch 17/100\n",
            "642750/642750 [==============================] - 2s 2us/step - loss: 6.2522 - mean_absolute_error: 0.4954 - val_loss: 6.2357 - val_mean_absolute_error: 0.3872\n",
            "Epoch 18/100\n",
            "642750/642750 [==============================] - 2s 2us/step - loss: 6.2011 - mean_absolute_error: 0.5121 - val_loss: 5.9986 - val_mean_absolute_error: 0.3650\n",
            "Epoch 19/100\n",
            "642750/642750 [==============================] - 2s 2us/step - loss: 6.0920 - mean_absolute_error: 0.4348 - val_loss: 5.6702 - val_mean_absolute_error: 0.4268\n",
            "Epoch 20/100\n",
            "642750/642750 [==============================] - 2s 2us/step - loss: 5.9899 - mean_absolute_error: 0.4193 - val_loss: 5.6508 - val_mean_absolute_error: 0.5212\n",
            "Epoch 21/100\n",
            "642750/642750 [==============================] - 2s 2us/step - loss: 5.9180 - mean_absolute_error: 0.4825 - val_loss: 5.5771 - val_mean_absolute_error: 0.4063\n",
            "Epoch 22/100\n",
            "642750/642750 [==============================] - 2s 2us/step - loss: 5.8483 - mean_absolute_error: 0.4732 - val_loss: 5.5757 - val_mean_absolute_error: 0.3924\n",
            "Epoch 23/100\n",
            "642750/642750 [==============================] - 2s 2us/step - loss: 5.7827 - mean_absolute_error: 0.4323 - val_loss: 5.4486 - val_mean_absolute_error: 0.4265\n",
            "Epoch 24/100\n",
            "642750/642750 [==============================] - 2s 2us/step - loss: 5.7429 - mean_absolute_error: 0.4269 - val_loss: 5.4042 - val_mean_absolute_error: 0.4145\n",
            "Epoch 25/100\n",
            "642750/642750 [==============================] - 2s 2us/step - loss: 5.7062 - mean_absolute_error: 0.4336 - val_loss: 5.3561 - val_mean_absolute_error: 0.3912\n",
            "Epoch 26/100\n",
            "642750/642750 [==============================] - 2s 2us/step - loss: 5.6467 - mean_absolute_error: 0.4345 - val_loss: 5.3217 - val_mean_absolute_error: 0.3751\n",
            "Epoch 27/100\n",
            "642750/642750 [==============================] - 2s 2us/step - loss: 5.6125 - mean_absolute_error: 0.4246 - val_loss: 5.2998 - val_mean_absolute_error: 0.3675\n",
            "Epoch 28/100\n",
            "642750/642750 [==============================] - 2s 2us/step - loss: 5.5635 - mean_absolute_error: 0.4166 - val_loss: 5.2202 - val_mean_absolute_error: 0.3845\n",
            "Epoch 29/100\n",
            "642750/642750 [==============================] - 2s 2us/step - loss: 5.5216 - mean_absolute_error: 0.4148 - val_loss: 5.1886 - val_mean_absolute_error: 0.3762\n",
            "Epoch 30/100\n",
            "642750/642750 [==============================] - 2s 2us/step - loss: 5.4674 - mean_absolute_error: 0.4106 - val_loss: 5.1338 - val_mean_absolute_error: 0.4184\n",
            "Epoch 31/100\n",
            "642750/642750 [==============================] - 2s 2us/step - loss: 5.4511 - mean_absolute_error: 0.4144 - val_loss: 5.0784 - val_mean_absolute_error: 0.3841\n",
            "Epoch 32/100\n",
            "642750/642750 [==============================] - 2s 2us/step - loss: 5.3958 - mean_absolute_error: 0.4075 - val_loss: 5.0364 - val_mean_absolute_error: 0.4040\n",
            "Epoch 33/100\n",
            "642750/642750 [==============================] - 2s 2us/step - loss: 5.3467 - mean_absolute_error: 0.4117 - val_loss: 4.9981 - val_mean_absolute_error: 0.3836\n",
            "Epoch 34/100\n",
            "642750/642750 [==============================] - 2s 2us/step - loss: 5.2932 - mean_absolute_error: 0.4021 - val_loss: 4.9472 - val_mean_absolute_error: 0.3963\n",
            "Epoch 35/100\n",
            "642750/642750 [==============================] - 2s 2us/step - loss: 5.2418 - mean_absolute_error: 0.4032 - val_loss: 4.9593 - val_mean_absolute_error: 0.4296\n",
            "Epoch 36/100\n",
            "642750/642750 [==============================] - 2s 3us/step - loss: 5.3132 - mean_absolute_error: 0.3995 - val_loss: 4.9307 - val_mean_absolute_error: 0.4225\n",
            "Epoch 37/100\n",
            "642750/642750 [==============================] - 2s 2us/step - loss: 5.2157 - mean_absolute_error: 0.4014 - val_loss: 4.8836 - val_mean_absolute_error: 0.3996\n",
            "Epoch 38/100\n",
            "642750/642750 [==============================] - 2s 2us/step - loss: 5.2339 - mean_absolute_error: 0.3901 - val_loss: 4.8409 - val_mean_absolute_error: 0.3812\n",
            "Epoch 39/100\n",
            "642750/642750 [==============================] - 2s 2us/step - loss: 5.1562 - mean_absolute_error: 0.3961 - val_loss: 4.8213 - val_mean_absolute_error: 0.3798\n",
            "Epoch 40/100\n",
            "642750/642750 [==============================] - 2s 2us/step - loss: 5.1033 - mean_absolute_error: 0.3877 - val_loss: 4.7975 - val_mean_absolute_error: 0.3644\n",
            "Epoch 41/100\n",
            "642750/642750 [==============================] - 2s 2us/step - loss: 5.0726 - mean_absolute_error: 0.3829 - val_loss: 4.7572 - val_mean_absolute_error: 0.3799\n",
            "Epoch 42/100\n",
            "642750/642750 [==============================] - 2s 2us/step - loss: 5.0622 - mean_absolute_error: 0.3879 - val_loss: 4.7720 - val_mean_absolute_error: 0.3852\n",
            "Epoch 43/100\n",
            "642750/642750 [==============================] - 2s 2us/step - loss: 5.0219 - mean_absolute_error: 0.3893 - val_loss: 4.7283 - val_mean_absolute_error: 0.3591\n",
            "Epoch 44/100\n",
            "642750/642750 [==============================] - 2s 2us/step - loss: 5.0154 - mean_absolute_error: 0.3824 - val_loss: 4.7198 - val_mean_absolute_error: 0.3703\n",
            "Epoch 45/100\n",
            "642750/642750 [==============================] - 2s 2us/step - loss: 5.0108 - mean_absolute_error: 0.3902 - val_loss: 4.7496 - val_mean_absolute_error: 0.3437\n",
            "Epoch 46/100\n",
            "642750/642750 [==============================] - 2s 2us/step - loss: 4.9317 - mean_absolute_error: 0.3739 - val_loss: 4.6914 - val_mean_absolute_error: 0.3485\n",
            "Epoch 47/100\n",
            "642750/642750 [==============================] - 2s 2us/step - loss: 4.9051 - mean_absolute_error: 0.3866 - val_loss: 4.7068 - val_mean_absolute_error: 0.3552\n",
            "Epoch 48/100\n",
            "642750/642750 [==============================] - 2s 3us/step - loss: 4.9120 - mean_absolute_error: 0.3777 - val_loss: 4.6648 - val_mean_absolute_error: 0.3725\n",
            "Epoch 49/100\n",
            "642750/642750 [==============================] - 2s 2us/step - loss: 4.8731 - mean_absolute_error: 0.3829 - val_loss: 4.6695 - val_mean_absolute_error: 0.3946\n",
            "Epoch 50/100\n",
            "642750/642750 [==============================] - 2s 2us/step - loss: 4.9856 - mean_absolute_error: 0.3784 - val_loss: 4.6794 - val_mean_absolute_error: 0.3350\n",
            "Epoch 51/100\n",
            "642750/642750 [==============================] - 2s 3us/step - loss: 4.8562 - mean_absolute_error: 0.3763 - val_loss: 4.7058 - val_mean_absolute_error: 0.3349\n",
            "Epoch 52/100\n",
            "642750/642750 [==============================] - 2s 2us/step - loss: 4.8358 - mean_absolute_error: 0.3796 - val_loss: 4.6606 - val_mean_absolute_error: 0.3559\n",
            "Epoch 53/100\n",
            "642750/642750 [==============================] - 2s 2us/step - loss: 4.7942 - mean_absolute_error: 0.3723 - val_loss: 4.6078 - val_mean_absolute_error: 0.3807\n",
            "Epoch 54/100\n",
            "642750/642750 [==============================] - 2s 2us/step - loss: 4.8227 - mean_absolute_error: 0.3727 - val_loss: 4.6604 - val_mean_absolute_error: 0.4160\n",
            "Epoch 55/100\n",
            "642750/642750 [==============================] - 2s 2us/step - loss: 4.8132 - mean_absolute_error: 0.3886 - val_loss: 4.6143 - val_mean_absolute_error: 0.3522\n",
            "Epoch 56/100\n",
            "642750/642750 [==============================] - 2s 2us/step - loss: 4.7632 - mean_absolute_error: 0.3668 - val_loss: 4.6186 - val_mean_absolute_error: 0.3321\n",
            "Epoch 57/100\n",
            "642750/642750 [==============================] - 2s 2us/step - loss: 4.7922 - mean_absolute_error: 0.3635 - val_loss: 4.6528 - val_mean_absolute_error: 0.3262\n",
            "Epoch 58/100\n",
            "642750/642750 [==============================] - 2s 2us/step - loss: 4.7116 - mean_absolute_error: 0.3773 - val_loss: 4.5873 - val_mean_absolute_error: 0.3485\n",
            "Epoch 59/100\n",
            "642750/642750 [==============================] - 2s 3us/step - loss: 4.6654 - mean_absolute_error: 0.3623 - val_loss: 4.5610 - val_mean_absolute_error: 0.3386\n",
            "Epoch 60/100\n",
            "642750/642750 [==============================] - 2s 3us/step - loss: 4.6864 - mean_absolute_error: 0.3749 - val_loss: 4.5759 - val_mean_absolute_error: 0.3708\n",
            "Epoch 61/100\n",
            "642750/642750 [==============================] - 2s 2us/step - loss: 4.6751 - mean_absolute_error: 0.3766 - val_loss: 4.5540 - val_mean_absolute_error: 0.3779\n",
            "Epoch 62/100\n",
            "642750/642750 [==============================] - 2s 2us/step - loss: 4.6646 - mean_absolute_error: 0.3680 - val_loss: 4.5428 - val_mean_absolute_error: 0.3686\n",
            "Epoch 63/100\n",
            "642750/642750 [==============================] - 2s 2us/step - loss: 4.6031 - mean_absolute_error: 0.3744 - val_loss: 4.5836 - val_mean_absolute_error: 0.3679\n",
            "Epoch 64/100\n",
            "642750/642750 [==============================] - 2s 2us/step - loss: 4.5845 - mean_absolute_error: 0.3649 - val_loss: 4.5285 - val_mean_absolute_error: 0.3698\n",
            "Epoch 65/100\n",
            "642750/642750 [==============================] - 2s 2us/step - loss: 4.5633 - mean_absolute_error: 0.3714 - val_loss: 4.5051 - val_mean_absolute_error: 0.3552\n",
            "Epoch 66/100\n",
            "642750/642750 [==============================] - 2s 2us/step - loss: 4.5411 - mean_absolute_error: 0.3644 - val_loss: 4.5411 - val_mean_absolute_error: 0.3429\n",
            "Epoch 67/100\n",
            "642750/642750 [==============================] - 2s 2us/step - loss: 4.5590 - mean_absolute_error: 0.3707 - val_loss: 4.5042 - val_mean_absolute_error: 0.3676\n",
            "Epoch 68/100\n",
            "642750/642750 [==============================] - 2s 2us/step - loss: 4.5418 - mean_absolute_error: 0.3680 - val_loss: 4.4998 - val_mean_absolute_error: 0.3692\n",
            "Epoch 69/100\n",
            "642750/642750 [==============================] - 2s 2us/step - loss: 4.5476 - mean_absolute_error: 0.3663 - val_loss: 4.5320 - val_mean_absolute_error: 0.3456\n",
            "Epoch 70/100\n",
            "642750/642750 [==============================] - 2s 2us/step - loss: 4.4812 - mean_absolute_error: 0.3658 - val_loss: 4.5320 - val_mean_absolute_error: 0.3380\n",
            "Epoch 71/100\n",
            "642750/642750 [==============================] - 2s 2us/step - loss: 4.4806 - mean_absolute_error: 0.3519 - val_loss: 4.4905 - val_mean_absolute_error: 0.3757\n",
            "Epoch 72/100\n",
            "642750/642750 [==============================] - 2s 2us/step - loss: 4.4654 - mean_absolute_error: 0.3711 - val_loss: 4.5098 - val_mean_absolute_error: 0.3606\n",
            "Epoch 73/100\n",
            "642750/642750 [==============================] - 2s 2us/step - loss: 4.4335 - mean_absolute_error: 0.3603 - val_loss: 4.5002 - val_mean_absolute_error: 0.3593\n",
            "Epoch 74/100\n",
            "642750/642750 [==============================] - 2s 2us/step - loss: 4.4600 - mean_absolute_error: 0.3619 - val_loss: 4.4928 - val_mean_absolute_error: 0.3405\n",
            "Epoch 75/100\n",
            "642750/642750 [==============================] - 2s 2us/step - loss: 4.4283 - mean_absolute_error: 0.3577 - val_loss: 4.4949 - val_mean_absolute_error: 0.3496\n",
            "Epoch 76/100\n",
            "642750/642750 [==============================] - 2s 2us/step - loss: 4.4070 - mean_absolute_error: 0.3641 - val_loss: 4.4940 - val_mean_absolute_error: 0.3349\n",
            "Epoch 77/100\n",
            "642750/642750 [==============================] - 2s 2us/step - loss: 4.3799 - mean_absolute_error: 0.3594 - val_loss: 4.5535 - val_mean_absolute_error: 0.3943\n",
            "Epoch 78/100\n",
            "642750/642750 [==============================] - 2s 2us/step - loss: 4.4046 - mean_absolute_error: 0.3567 - val_loss: 4.4920 - val_mean_absolute_error: 0.3752\n",
            "Epoch 79/100\n",
            "642750/642750 [==============================] - 2s 2us/step - loss: 4.3882 - mean_absolute_error: 0.3621 - val_loss: 4.4876 - val_mean_absolute_error: 0.3516\n",
            "Epoch 80/100\n",
            "642750/642750 [==============================] - 2s 2us/step - loss: 4.3258 - mean_absolute_error: 0.3587 - val_loss: 4.4885 - val_mean_absolute_error: 0.3447\n",
            "Epoch 81/100\n",
            "642750/642750 [==============================] - 2s 2us/step - loss: 4.3549 - mean_absolute_error: 0.3649 - val_loss: 4.5526 - val_mean_absolute_error: 0.3230\n",
            "Epoch 82/100\n",
            "642750/642750 [==============================] - 2s 3us/step - loss: 4.3600 - mean_absolute_error: 0.3492 - val_loss: 4.5427 - val_mean_absolute_error: 0.3266\n",
            "Epoch 83/100\n",
            "642750/642750 [==============================] - 2s 3us/step - loss: 4.2963 - mean_absolute_error: 0.3605 - val_loss: 4.5091 - val_mean_absolute_error: 0.3264\n",
            "Epoch 84/100\n",
            "642750/642750 [==============================] - 2s 2us/step - loss: 4.3654 - mean_absolute_error: 0.3554 - val_loss: 4.4935 - val_mean_absolute_error: 0.3630\n",
            "Epoch 85/100\n",
            "642750/642750 [==============================] - 2s 2us/step - loss: 4.3027 - mean_absolute_error: 0.3521 - val_loss: 4.4998 - val_mean_absolute_error: 0.3950\n",
            "Epoch 86/100\n",
            "642750/642750 [==============================] - 2s 3us/step - loss: 4.3305 - mean_absolute_error: 0.3621 - val_loss: 4.4917 - val_mean_absolute_error: 0.3845\n",
            "Epoch 87/100\n",
            "642750/642750 [==============================] - 2s 3us/step - loss: 4.3075 - mean_absolute_error: 0.3607 - val_loss: 4.4415 - val_mean_absolute_error: 0.3538\n",
            "Epoch 88/100\n",
            "642750/642750 [==============================] - 2s 2us/step - loss: 4.2440 - mean_absolute_error: 0.3543 - val_loss: 4.4597 - val_mean_absolute_error: 0.3505\n",
            "Epoch 89/100\n",
            "642750/642750 [==============================] - 2s 3us/step - loss: 4.2599 - mean_absolute_error: 0.3471 - val_loss: 4.4271 - val_mean_absolute_error: 0.3518\n",
            "Epoch 90/100\n",
            "642750/642750 [==============================] - 2s 2us/step - loss: 4.2606 - mean_absolute_error: 0.3502 - val_loss: 4.4886 - val_mean_absolute_error: 0.3313\n",
            "Epoch 91/100\n",
            "642750/642750 [==============================] - 2s 2us/step - loss: 4.2407 - mean_absolute_error: 0.3507 - val_loss: 4.5029 - val_mean_absolute_error: 0.3275\n",
            "Epoch 92/100\n",
            "642750/642750 [==============================] - 2s 2us/step - loss: 4.2630 - mean_absolute_error: 0.3521 - val_loss: 4.4651 - val_mean_absolute_error: 0.3204\n",
            "Epoch 93/100\n",
            "642750/642750 [==============================] - 2s 2us/step - loss: 4.2299 - mean_absolute_error: 0.3492 - val_loss: 4.4819 - val_mean_absolute_error: 0.3340\n",
            "Epoch 94/100\n",
            "642750/642750 [==============================] - 2s 2us/step - loss: 4.2391 - mean_absolute_error: 0.3468 - val_loss: 4.4786 - val_mean_absolute_error: 0.3216\n",
            "Epoch 95/100\n",
            "642750/642750 [==============================] - 2s 3us/step - loss: 4.2424 - mean_absolute_error: 0.3507 - val_loss: 4.5672 - val_mean_absolute_error: 0.3189\n",
            "Epoch 96/100\n",
            "642750/642750 [==============================] - 2s 2us/step - loss: 4.2761 - mean_absolute_error: 0.3517 - val_loss: 4.5396 - val_mean_absolute_error: 0.3182\n",
            "Epoch 97/100\n",
            "642750/642750 [==============================] - 2s 2us/step - loss: 4.1851 - mean_absolute_error: 0.3519 - val_loss: 4.4502 - val_mean_absolute_error: 0.3351\n",
            "Epoch 98/100\n",
            "642750/642750 [==============================] - 2s 3us/step - loss: 4.1514 - mean_absolute_error: 0.3556 - val_loss: 4.4856 - val_mean_absolute_error: 0.3268\n",
            "Epoch 99/100\n",
            "642750/642750 [==============================] - 2s 2us/step - loss: 4.1299 - mean_absolute_error: 0.3536 - val_loss: 4.4501 - val_mean_absolute_error: 0.3390\n",
            "Epoch 100/100\n",
            "642750/642750 [==============================] - 2s 2us/step - loss: 4.1046 - mean_absolute_error: 0.3412 - val_loss: 4.4525 - val_mean_absolute_error: 0.3614\n",
            "CPU times: user 2min, sys: 18.7 s, total: 2min 18s\n",
            "Wall time: 2min 41s\n"
          ],
          "name": "stdout"
        }
      ]
    },
    {
      "metadata": {
        "id": "1IB6PzAEtEnx",
        "colab_type": "text"
      },
      "cell_type": "markdown",
      "source": [
        "# evaluate model"
      ]
    },
    {
      "metadata": {
        "colab_type": "code",
        "id": "7iKUf05jrLrg",
        "outputId": "ac38e4b1-e107-4469-db96-56c3595d4357",
        "colab": {
          "base_uri": "https://localhost:8080/",
          "height": 283
        }
      },
      "cell_type": "code",
      "source": [
        "#dir(history)\n",
        "#history.history\n",
        "\n",
        "x = history.epoch\n",
        "y = history.history['mean_absolute_error']\n",
        "z = history.history['val_mean_absolute_error']\n",
        "\n",
        "import matplotlib.pyplot as plt\n",
        "%matplotlib inline\n",
        "\n",
        "plt.plot(x, y, color='cornflowerblue', label = 'train')\n",
        "plt.plot(x, z, color='red', label = 'val')\n",
        "plt.legend(loc=\"upper left\")\n",
        "plt.ylim(0, 1)\n",
        "plt.grid(True)\n",
        "plt.xlabel('epoch')\n",
        "plt.ylabel('mean absolute error')\n",
        "plt.show()"
      ],
      "execution_count": 8,
      "outputs": [
        {
          "output_type": "display_data",
          "data": {
            "image/png": "[encoded data removed]",
            "text/plain": [
              "<matplotlib.figure.Figure at 0x7fe725d0df28>"
            ]
          },
          "metadata": {
            "tags": []
          }
        }
      ]
    },
    {
      "metadata": {
        "id": "EA0hZIO0stXb",
        "colab_type": "code",
        "outputId": "bfb3ec96-5ff3-4cd2-bab4-eda5b6f0e52e",
        "colab": {
          "base_uri": "https://localhost:8080/",
          "height": 68
        }
      },
      "cell_type": "code",
      "source": [
        "%%time\n",
        "\n",
        "from sklearn.metrics import mean_squared_error\n",
        "\n",
        "pred = model.predict(df_x)\n",
        "mse = mean_squared_error(df_y, pred)\n",
        "rmse = np.sqrt(mse)\n",
        "print(rmse)"
      ],
      "execution_count": 9,
      "outputs": [
        {
          "output_type": "stream",
          "text": [
            "2.01942573754925\n",
            "CPU times: user 29.4 s, sys: 3.55 s, total: 32.9 s\n",
            "Wall time: 22.4 s\n"
          ],
          "name": "stdout"
        }
      ]
    },
    {
      "metadata": {
        "id": "3uAM4Dswu2he",
        "colab_type": "text"
      },
      "cell_type": "markdown",
      "source": [
        "2.122997035400416\n",
        "\n",
        "2.07703580318282\n",
        "\n",
        "2.158526362017965\n",
        "\n",
        "2.1637144539984035\n",
        "\n",
        "1.8298523021188284\n",
        "\n",
        "2.01942573754925"
      ]
    },
    {
      "metadata": {
        "id": "7l28eDSNr8n_",
        "colab_type": "code",
        "outputId": "b5b49869-e456-4e2c-8252-5c80eda6ac2f",
        "colab": {
          "base_uri": "https://localhost:8080/",
          "height": 51
        }
      },
      "cell_type": "code",
      "source": [
        "%%time\n",
        "model.save(filename)\n",
        "\n",
        "#files.download(filename)"
      ],
      "execution_count": 10,
      "outputs": [
        {
          "output_type": "stream",
          "text": [
            "CPU times: user 144 ms, sys: 14.7 ms, total: 159 ms\n",
            "Wall time: 179 ms\n"
          ],
          "name": "stdout"
        }
      ]
    },
    {
      "metadata": {
        "id": "8RS_Q44XtNZ8",
        "colab_type": "text"
      },
      "cell_type": "markdown",
      "source": [
        "# predict & output"
      ]
    },
    {
      "metadata": {
        "id": "CVxJYyAo8U_O",
        "colab_type": "code",
        "outputId": "6c6b9393-8f45-43c7-f3ee-a813f9571d9b",
        "colab": {
          "base_uri": "https://localhost:8080/",
          "height": 51
        }
      },
      "cell_type": "code",
      "source": [
        "%%time\n",
        "pred_tgt = model.predict(df_tgt)\n"
      ],
      "execution_count": 11,
      "outputs": [
        {
          "output_type": "stream",
          "text": [
            "CPU times: user 24.7 s, sys: 3.19 s, total: 27.8 s\n",
            "Wall time: 19.1 s\n"
          ],
          "name": "stdout"
        }
      ]
    },
    {
      "metadata": {
        "id": "2H8GV7bq8U6K",
        "colab_type": "code",
        "outputId": "246deec1-963e-4e76-8c08-89b601d71e60",
        "colab": {
          "base_uri": "https://localhost:8080/",
          "height": 51
        }
      },
      "cell_type": "code",
      "source": [
        "%%time\n",
        "\n",
        "pred_tgt[pred_tgt<0] = 0\n",
        "df_out = pd.DataFrame(index = df_tgt.index)\n",
        "df_out['PredictedLogRevenue'] = pred_tgt\n",
        "\n",
        "df_out.to_csv('output_NN.csv')"
      ],
      "execution_count": 12,
      "outputs": [
        {
          "output_type": "stream",
          "text": [
            "CPU times: user 1.14 s, sys: 21.4 ms, total: 1.16 s\n",
            "Wall time: 2.43 s\n"
          ],
          "name": "stdout"
        }
      ]
    },
    {
      "metadata": {
        "id": "qjuxQSXI8U3v",
        "colab_type": "code",
        "outputId": "3204d8d5-e04d-44c7-e7b2-ec0a123b945c",
        "colab": {
          "base_uri": "https://localhost:8080/",
          "height": 233
        }
      },
      "cell_type": "code",
      "source": [
        "df_out.head()"
      ],
      "execution_count": 13,
      "outputs": [
        {
          "output_type": "execute_result",
          "data": {
            "text/html": [
              "<div>\n",
              "<style scoped>\n",
              "    .dataframe tbody tr th:only-of-type {\n",
              "        vertical-align: middle;\n",
              "    }\n",
              "\n",
              "    .dataframe tbody tr th {\n",
              "        vertical-align: top;\n",
              "    }\n",
              "\n",
              "    .dataframe thead th {\n",
              "        text-align: right;\n",
              "    }\n",
              "</style>\n",
              "<table border=\"1\" class=\"dataframe\">\n",
              "  <thead>\n",
              "    <tr style=\"text-align: right;\">\n",
              "      <th></th>\n",
              "      <th>PredictedLogRevenue</th>\n",
              "    </tr>\n",
              "    <tr>\n",
              "      <th>fullVisitorId</th>\n",
              "      <th></th>\n",
              "    </tr>\n",
              "  </thead>\n",
              "  <tbody>\n",
              "    <tr>\n",
              "      <th>0000000259678714014</th>\n",
              "      <td>1.694345</td>\n",
              "    </tr>\n",
              "    <tr>\n",
              "      <th>0000049363351866189</th>\n",
              "      <td>0.022524</td>\n",
              "    </tr>\n",
              "    <tr>\n",
              "      <th>0000053049821714864</th>\n",
              "      <td>0.000000</td>\n",
              "    </tr>\n",
              "    <tr>\n",
              "      <th>0000059488412965267</th>\n",
              "      <td>0.022665</td>\n",
              "    </tr>\n",
              "    <tr>\n",
              "      <th>0000085840370633780</th>\n",
              "      <td>0.041092</td>\n",
              "    </tr>\n",
              "  </tbody>\n",
              "</table>\n",
              "</div>"
            ],
            "text/plain": [
              "                     PredictedLogRevenue\n",
              "fullVisitorId                           \n",
              "0000000259678714014             1.694345\n",
              "0000049363351866189             0.022524\n",
              "0000053049821714864             0.000000\n",
              "0000059488412965267             0.022665\n",
              "0000085840370633780             0.041092"
            ]
          },
          "metadata": {
            "tags": []
          },
          "execution_count": 13
        }
      ]
    },
    {
      "metadata": {
        "id": "K584rugV8-pc",
        "colab_type": "code",
        "outputId": "eed70726-96de-405a-e03c-e88c2698c480",
        "colab": {
          "base_uri": "https://localhost:8080/",
          "height": 118
        }
      },
      "cell_type": "code",
      "source": [
        "df_out.info()"
      ],
      "execution_count": 14,
      "outputs": [
        {
          "output_type": "stream",
          "text": [
            "<class 'pandas.core.frame.DataFrame'>\n",
            "Index: 617242 entries, 0000000259678714014 to 9999997304197521748\n",
            "Data columns (total 1 columns):\n",
            "PredictedLogRevenue    617242 non-null float32\n",
            "dtypes: float32(1)\n",
            "memory usage: 7.1+ MB\n"
          ],
          "name": "stdout"
        }
      ]
    },
    {
      "metadata": {
        "id": "EnMs4GSP8-mc",
        "colab_type": "code",
        "outputId": "67522ea1-b74c-4c47-9916-24490e9f4ba4",
        "colab": {
          "base_uri": "https://localhost:8080/",
          "height": 295
        }
      },
      "cell_type": "code",
      "source": [
        "df_out.describe()"
      ],
      "execution_count": 15,
      "outputs": [
        {
          "output_type": "execute_result",
          "data": {
            "text/html": [
              "<div>\n",
              "<style scoped>\n",
              "    .dataframe tbody tr th:only-of-type {\n",
              "        vertical-align: middle;\n",
              "    }\n",
              "\n",
              "    .dataframe tbody tr th {\n",
              "        vertical-align: top;\n",
              "    }\n",
              "\n",
              "    .dataframe thead th {\n",
              "        text-align: right;\n",
              "    }\n",
              "</style>\n",
              "<table border=\"1\" class=\"dataframe\">\n",
              "  <thead>\n",
              "    <tr style=\"text-align: right;\">\n",
              "      <th></th>\n",
              "      <th>PredictedLogRevenue</th>\n",
              "    </tr>\n",
              "  </thead>\n",
              "  <tbody>\n",
              "    <tr>\n",
              "      <th>count</th>\n",
              "      <td>617242.000000</td>\n",
              "    </tr>\n",
              "    <tr>\n",
              "      <th>mean</th>\n",
              "      <td>0.247548</td>\n",
              "    </tr>\n",
              "    <tr>\n",
              "      <th>std</th>\n",
              "      <td>1.439989</td>\n",
              "    </tr>\n",
              "    <tr>\n",
              "      <th>min</th>\n",
              "      <td>0.000000</td>\n",
              "    </tr>\n",
              "    <tr>\n",
              "      <th>25%</th>\n",
              "      <td>0.000000</td>\n",
              "    </tr>\n",
              "    <tr>\n",
              "      <th>50%</th>\n",
              "      <td>0.007620</td>\n",
              "    </tr>\n",
              "    <tr>\n",
              "      <th>75%</th>\n",
              "      <td>0.026244</td>\n",
              "    </tr>\n",
              "    <tr>\n",
              "      <th>max</th>\n",
              "      <td>174.396255</td>\n",
              "    </tr>\n",
              "  </tbody>\n",
              "</table>\n",
              "</div>"
            ],
            "text/plain": [
              "       PredictedLogRevenue\n",
              "count        617242.000000\n",
              "mean              0.247548\n",
              "std               1.439989\n",
              "min               0.000000\n",
              "25%               0.000000\n",
              "50%               0.007620\n",
              "75%               0.026244\n",
              "max             174.396255"
            ]
          },
          "metadata": {
            "tags": []
          },
          "execution_count": 15
        }
      ]
    }
  ]
}