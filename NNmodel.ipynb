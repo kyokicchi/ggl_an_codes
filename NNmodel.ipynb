{
  "nbformat": 4,
  "nbformat_minor": 0,
  "metadata": {
    "colab": {
      "name": "trainNNmodel.ipynb",
      "version": "0.3.2",
      "provenance": [],
      "collapsed_sections": [],
      "include_colab_link": true
    },
    "kernelspec": {
      "name": "python3",
      "display_name": "Python 3"
    },
    "accelerator": "GPU"
  },
  "cells": [
    {
      "cell_type": "markdown",
      "metadata": {
        "id": "view-in-github",
        "colab_type": "text"
      },
      "source": [
        "<a href=\"https://colab.research.google.com/github/kyokicchi/ggl_an_codes/blob/master/NNmodel.ipynb\" target=\"_parent\"><img src=\"https://colab.research.google.com/assets/colab-badge.svg\" alt=\"Open In Colab\"/></a>"
      ]
    },
    {
      "metadata": {
        "id": "BFaLXotRBPpU",
        "colab_type": "text"
      },
      "cell_type": "markdown",
      "source": [
        "# initialize & load"
      ]
    },
    {
      "metadata": {
        "id": "uTLbBtpszx1d",
        "colab_type": "code",
        "colab": {
          "base_uri": "https://localhost:8080/",
          "height": 34
        },
        "outputId": "3f2d5527-6fa4-4411-dbbb-54614ff5a1dd"
      },
      "cell_type": "code",
      "source": [
        "from google.colab import drive\n",
        "from google.colab import files\n",
        "\n",
        "import numpy as np\n",
        "import pandas as pd\n",
        "\n",
        "from keras import models\n",
        "from keras import layers\n",
        "from keras.models import load_model"
      ],
      "execution_count": 1,
      "outputs": [
        {
          "output_type": "stream",
          "text": [
            "Using TensorFlow backend.\n"
          ],
          "name": "stderr"
        }
      ]
    },
    {
      "metadata": {
        "id": "xPuIYqTaz_VT",
        "colab_type": "code",
        "colab": {
          "base_uri": "https://localhost:8080/",
          "height": 121
        },
        "outputId": "5fe8c314-fcf5-4e18-c0e2-e1a0e79e096b"
      },
      "cell_type": "code",
      "source": [
        "drive.mount('/content/gdrive')"
      ],
      "execution_count": 2,
      "outputs": [
        {
          "output_type": "stream",
          "text": [
            "Go to this URL in a browser: https://accounts.google.com/o/oauth2/auth?client_id=947318989803-6bn6qk8qdgf4n4g3pfee6491hc0brc4i.apps.googleusercontent.com&redirect_uri=urn%3Aietf%3Awg%3Aoauth%3A2.0%3Aoob&scope=email%20https%3A%2F%2Fwww.googleapis.com%2Fauth%2Fdocs.test%20https%3A%2F%2Fwww.googleapis.com%2Fauth%2Fdrive%20https%3A%2F%2Fwww.googleapis.com%2Fauth%2Fdrive.photos.readonly%20https%3A%2F%2Fwww.googleapis.com%2Fauth%2Fpeopleapi.readonly&response_type=code\n",
            "\n",
            "Enter your authorization code:\n",
            "··········\n",
            "Mounted at /content/gdrive\n"
          ],
          "name": "stdout"
        }
      ]
    },
    {
      "metadata": {
        "id": "OfYn9ovCz7tr",
        "colab_type": "code",
        "colab": {
          "base_uri": "https://localhost:8080/",
          "height": 68
        },
        "outputId": "e9f49ccb-fbdb-4ed4-d65b-fe3b5dd2d45f"
      },
      "cell_type": "code",
      "source": [
        "%cd ../content/gdrive/My Drive/projects/ggl_an/\n",
        "%ls"
      ],
      "execution_count": 3,
      "outputs": [
        {
          "output_type": "stream",
          "text": [
            "/content/gdrive/My Drive/projects/ggl_an\n",
            "model_LGB.sav  output_LGB.csv  user_test.csv    user_train.csv\n",
            "model_NN.h5    output_NN.csv   user_test_n.csv  user_train_n.csv\n"
          ],
          "name": "stdout"
        }
      ]
    },
    {
      "metadata": {
        "id": "6oNx0QIG81nE",
        "colab_type": "code",
        "colab": {
          "base_uri": "https://localhost:8080/",
          "height": 68
        },
        "outputId": "78d39669-e789-46cc-f475-a844e7f1fffc"
      },
      "cell_type": "code",
      "source": [
        "%%time\n",
        "filename = 'model_NN.h5'\n",
        "model = load_model(filename)\n",
        "\n",
        "df_train = pd.read_csv('user_train_n.csv', index_col = 0)\n",
        "df_test = pd.read_csv('user_test_n.csv', index_col = 0)\n",
        "\n",
        "df_y = df_train['transactionRevenue']\n",
        "df_x = df_train.drop(['transactionRevenue'], axis=1)\n",
        "df_tgt = df_test.drop(['transactionRevenue'], axis=1)"
      ],
      "execution_count": 5,
      "outputs": [
        {
          "output_type": "stream",
          "text": [
            "<string>:2: DtypeWarning: Columns (0) have mixed types. Specify dtype option on import or set low_memory=False.\n"
          ],
          "name": "stderr"
        },
        {
          "output_type": "stream",
          "text": [
            "CPU times: user 8.7 s, sys: 867 ms, total: 9.57 s\n",
            "Wall time: 13.4 s\n"
          ],
          "name": "stdout"
        }
      ]
    },
    {
      "metadata": {
        "id": "cBwwI8hduWOE",
        "colab_type": "code",
        "colab": {
          "base_uri": "https://localhost:8080/",
          "height": 34
        },
        "outputId": "56849a32-6e7b-4beb-cc97-6e6ff23acf7b"
      },
      "cell_type": "code",
      "source": [
        "print(df_x.shape, df_y.shape, df_tgt.shape)"
      ],
      "execution_count": 6,
      "outputs": [
        {
          "output_type": "stream",
          "text": [
            "(714167, 23) (714167,) (617242, 23)\n"
          ],
          "name": "stdout"
        }
      ]
    },
    {
      "metadata": {
        "id": "c78zRuC5s_pH",
        "colab_type": "text"
      },
      "cell_type": "markdown",
      "source": [
        "# train model"
      ]
    },
    {
      "metadata": {
        "colab_type": "code",
        "id": "r7THGQk8rMH9",
        "colab": {}
      },
      "cell_type": "code",
      "source": [
        "from keras import optimizers\n",
        "\n",
        "\n",
        "def build_model(N_col):\n",
        "  rate = 0.001\n",
        "  model = models.Sequential()\n",
        "  model.add(layers.Dense(N_col * 4, activation='relu', input_shape=(N_col,)))\n",
        "  model.add(layers.Dense(100, activation='relu'))\n",
        "  model.add(layers.Dropout(0.1))\n",
        "  model.add(layers.Dense(200, activation='relu'))\n",
        "  model.add(layers.Dropout(0.1))\n",
        "  model.add(layers.Dense(100, activation='relu'))\n",
        "  model.add(layers.Dense(50, activation='relu'))\n",
        "  model.add(layers.Dense(1))\n",
        "  model.compile(optimizer=optimizers.adam(lr = rate), loss='mse', metrics=['mae'])\n",
        "  return model"
      ],
      "execution_count": 0,
      "outputs": []
    },
    {
      "metadata": {
        "colab_type": "code",
        "id": "Pg8l05Z2rL-s",
        "colab": {
          "base_uri": "https://localhost:8080/",
          "height": 3452
        },
        "outputId": "d6934559-7463-4c3a-fc2a-f12e18e56ccb"
      },
      "cell_type": "code",
      "source": [
        "%%time\n",
        "epochs = 100\n",
        "batch_size = df_x.shape[0] // 4\n",
        "validation_split = 0.1\n",
        "\n",
        "model = build_model(df_x.shape[1])\n",
        "\n",
        "history = model.fit(df_x,\n",
        "                    df_y,\n",
        "                    epochs=epochs,\n",
        "                    batch_size=batch_size,\n",
        "                    validation_split = validation_split,\n",
        "                    verbose=1)"
      ],
      "execution_count": 63,
      "outputs": [
        {
          "output_type": "stream",
          "text": [
            "Train on 642750 samples, validate on 71417 samples\n",
            "Epoch 1/100\n",
            "642750/642750 [==============================] - 3s 4us/step - loss: 8.4031 - mean_absolute_error: 0.3928 - val_loss: 8.5266 - val_mean_absolute_error: 0.5809\n",
            "Epoch 2/100\n",
            "642750/642750 [==============================] - 1s 2us/step - loss: 8.3382 - mean_absolute_error: 0.6177 - val_loss: 8.4742 - val_mean_absolute_error: 0.6168\n",
            "Epoch 3/100\n",
            "642750/642750 [==============================] - 1s 2us/step - loss: 8.2790 - mean_absolute_error: 0.5786 - val_loss: 8.4063 - val_mean_absolute_error: 0.5187\n",
            "Epoch 4/100\n",
            "642750/642750 [==============================] - 1s 2us/step - loss: 8.2048 - mean_absolute_error: 0.5252 - val_loss: 8.3116 - val_mean_absolute_error: 0.5584\n",
            "Epoch 5/100\n",
            "642750/642750 [==============================] - 1s 2us/step - loss: 8.1138 - mean_absolute_error: 0.5664 - val_loss: 8.2142 - val_mean_absolute_error: 0.5373\n",
            "Epoch 6/100\n",
            "642750/642750 [==============================] - 1s 2us/step - loss: 8.0146 - mean_absolute_error: 0.5362 - val_loss: 8.0993 - val_mean_absolute_error: 0.5214\n",
            "Epoch 7/100\n",
            "642750/642750 [==============================] - 1s 2us/step - loss: 7.8950 - mean_absolute_error: 0.5242 - val_loss: 7.9484 - val_mean_absolute_error: 0.5094\n",
            "Epoch 8/100\n",
            "642750/642750 [==============================] - 1s 2us/step - loss: 7.7527 - mean_absolute_error: 0.5419 - val_loss: 7.7889 - val_mean_absolute_error: 0.5066\n",
            "Epoch 9/100\n",
            "642750/642750 [==============================] - 1s 2us/step - loss: 7.6089 - mean_absolute_error: 0.4933 - val_loss: 7.6330 - val_mean_absolute_error: 0.4651\n",
            "Epoch 10/100\n",
            "642750/642750 [==============================] - 1s 2us/step - loss: 7.4727 - mean_absolute_error: 0.4862 - val_loss: 7.4924 - val_mean_absolute_error: 0.4965\n",
            "Epoch 11/100\n",
            "642750/642750 [==============================] - 1s 2us/step - loss: 7.3501 - mean_absolute_error: 0.4907 - val_loss: 7.3508 - val_mean_absolute_error: 0.4521\n",
            "Epoch 12/100\n",
            "642750/642750 [==============================] - 1s 2us/step - loss: 7.2515 - mean_absolute_error: 0.4801 - val_loss: 7.1667 - val_mean_absolute_error: 0.4475\n",
            "Epoch 13/100\n",
            "642750/642750 [==============================] - 1s 2us/step - loss: 7.0662 - mean_absolute_error: 0.4833 - val_loss: 6.9184 - val_mean_absolute_error: 0.4397\n",
            "Epoch 14/100\n",
            "642750/642750 [==============================] - 1s 2us/step - loss: 6.8913 - mean_absolute_error: 0.4749 - val_loss: 6.6324 - val_mean_absolute_error: 0.4713\n",
            "Epoch 15/100\n",
            "642750/642750 [==============================] - 1s 2us/step - loss: 6.6908 - mean_absolute_error: 0.4807 - val_loss: 6.3943 - val_mean_absolute_error: 0.4954\n",
            "Epoch 16/100\n",
            "642750/642750 [==============================] - 1s 2us/step - loss: 6.5493 - mean_absolute_error: 0.4573 - val_loss: 6.1672 - val_mean_absolute_error: 0.4574\n",
            "Epoch 17/100\n",
            "642750/642750 [==============================] - 1s 2us/step - loss: 6.3979 - mean_absolute_error: 0.4494 - val_loss: 6.0313 - val_mean_absolute_error: 0.4192\n",
            "Epoch 18/100\n",
            "642750/642750 [==============================] - 1s 2us/step - loss: 6.3102 - mean_absolute_error: 0.4238 - val_loss: 5.9448 - val_mean_absolute_error: 0.4423\n",
            "Epoch 19/100\n",
            "642750/642750 [==============================] - 1s 2us/step - loss: 6.2082 - mean_absolute_error: 0.4313 - val_loss: 5.8454 - val_mean_absolute_error: 0.4190\n",
            "Epoch 20/100\n",
            "642750/642750 [==============================] - 1s 2us/step - loss: 6.1321 - mean_absolute_error: 0.4206 - val_loss: 5.7691 - val_mean_absolute_error: 0.4074\n",
            "Epoch 21/100\n",
            "642750/642750 [==============================] - 1s 2us/step - loss: 6.0513 - mean_absolute_error: 0.4285 - val_loss: 5.6973 - val_mean_absolute_error: 0.4198\n",
            "Epoch 22/100\n",
            "642750/642750 [==============================] - 1s 2us/step - loss: 6.0000 - mean_absolute_error: 0.4335 - val_loss: 5.6395 - val_mean_absolute_error: 0.4004\n",
            "Epoch 23/100\n",
            "642750/642750 [==============================] - 1s 2us/step - loss: 5.9332 - mean_absolute_error: 0.4321 - val_loss: 5.6169 - val_mean_absolute_error: 0.3834\n",
            "Epoch 24/100\n",
            "642750/642750 [==============================] - 1s 2us/step - loss: 5.9088 - mean_absolute_error: 0.4385 - val_loss: 5.5635 - val_mean_absolute_error: 0.3777\n",
            "Epoch 25/100\n",
            "642750/642750 [==============================] - 1s 2us/step - loss: 5.8448 - mean_absolute_error: 0.4208 - val_loss: 5.4954 - val_mean_absolute_error: 0.3831\n",
            "Epoch 26/100\n",
            "642750/642750 [==============================] - 1s 2us/step - loss: 5.7998 - mean_absolute_error: 0.4117 - val_loss: 5.4001 - val_mean_absolute_error: 0.4211\n",
            "Epoch 27/100\n",
            "642750/642750 [==============================] - 1s 2us/step - loss: 5.7112 - mean_absolute_error: 0.4103 - val_loss: 5.3667 - val_mean_absolute_error: 0.4440\n",
            "Epoch 28/100\n",
            "642750/642750 [==============================] - 1s 2us/step - loss: 5.6960 - mean_absolute_error: 0.4096 - val_loss: 5.3171 - val_mean_absolute_error: 0.4143\n",
            "Epoch 29/100\n",
            "642750/642750 [==============================] - 1s 2us/step - loss: 5.6245 - mean_absolute_error: 0.4118 - val_loss: 5.2650 - val_mean_absolute_error: 0.3619\n",
            "Epoch 30/100\n",
            "642750/642750 [==============================] - 1s 2us/step - loss: 5.5574 - mean_absolute_error: 0.4109 - val_loss: 5.2378 - val_mean_absolute_error: 0.3531\n",
            "Epoch 31/100\n",
            "642750/642750 [==============================] - 1s 2us/step - loss: 5.5190 - mean_absolute_error: 0.3971 - val_loss: 5.1417 - val_mean_absolute_error: 0.3819\n",
            "Epoch 32/100\n",
            "642750/642750 [==============================] - 1s 2us/step - loss: 5.4785 - mean_absolute_error: 0.3970 - val_loss: 5.0960 - val_mean_absolute_error: 0.3864\n",
            "Epoch 33/100\n",
            "642750/642750 [==============================] - 1s 2us/step - loss: 5.4403 - mean_absolute_error: 0.3874 - val_loss: 5.0588 - val_mean_absolute_error: 0.3868\n",
            "Epoch 34/100\n",
            "642750/642750 [==============================] - 1s 2us/step - loss: 5.4570 - mean_absolute_error: 0.3935 - val_loss: 5.0310 - val_mean_absolute_error: 0.4002\n",
            "Epoch 35/100\n",
            "642750/642750 [==============================] - 1s 2us/step - loss: 5.3790 - mean_absolute_error: 0.3939 - val_loss: 4.9869 - val_mean_absolute_error: 0.3794\n",
            "Epoch 36/100\n",
            "642750/642750 [==============================] - 1s 2us/step - loss: 5.3441 - mean_absolute_error: 0.3844 - val_loss: 4.9601 - val_mean_absolute_error: 0.4008\n",
            "Epoch 37/100\n",
            "642750/642750 [==============================] - 1s 2us/step - loss: 5.2930 - mean_absolute_error: 0.3865 - val_loss: 4.9440 - val_mean_absolute_error: 0.3940\n",
            "Epoch 38/100\n",
            "642750/642750 [==============================] - 1s 2us/step - loss: 5.3392 - mean_absolute_error: 0.3763 - val_loss: 4.9135 - val_mean_absolute_error: 0.3999\n",
            "Epoch 39/100\n",
            "642750/642750 [==============================] - 1s 2us/step - loss: 5.2700 - mean_absolute_error: 0.3872 - val_loss: 4.9098 - val_mean_absolute_error: 0.3904\n",
            "Epoch 40/100\n",
            "642750/642750 [==============================] - 1s 2us/step - loss: 5.2396 - mean_absolute_error: 0.3822 - val_loss: 4.8752 - val_mean_absolute_error: 0.3723\n",
            "Epoch 41/100\n",
            "642750/642750 [==============================] - 1s 2us/step - loss: 5.2579 - mean_absolute_error: 0.3758 - val_loss: 4.9115 - val_mean_absolute_error: 0.3511\n",
            "Epoch 42/100\n",
            "642750/642750 [==============================] - 1s 2us/step - loss: 5.2041 - mean_absolute_error: 0.3848 - val_loss: 4.9604 - val_mean_absolute_error: 0.3275\n",
            "Epoch 43/100\n",
            "642750/642750 [==============================] - 1s 2us/step - loss: 5.2094 - mean_absolute_error: 0.3817 - val_loss: 4.9890 - val_mean_absolute_error: 0.3279\n",
            "Epoch 44/100\n",
            "642750/642750 [==============================] - 1s 2us/step - loss: 5.2063 - mean_absolute_error: 0.3712 - val_loss: 4.9700 - val_mean_absolute_error: 0.3298\n",
            "Epoch 45/100\n",
            "642750/642750 [==============================] - 1s 2us/step - loss: 5.1979 - mean_absolute_error: 0.3788 - val_loss: 4.9454 - val_mean_absolute_error: 0.3391\n",
            "Epoch 46/100\n",
            "642750/642750 [==============================] - 1s 2us/step - loss: 5.1667 - mean_absolute_error: 0.3694 - val_loss: 4.8902 - val_mean_absolute_error: 0.3418\n",
            "Epoch 47/100\n",
            "642750/642750 [==============================] - 1s 2us/step - loss: 5.1307 - mean_absolute_error: 0.3716 - val_loss: 4.8598 - val_mean_absolute_error: 0.3602\n",
            "Epoch 48/100\n",
            "642750/642750 [==============================] - 1s 2us/step - loss: 5.1216 - mean_absolute_error: 0.3669 - val_loss: 4.8489 - val_mean_absolute_error: 0.3621\n",
            "Epoch 49/100\n",
            "642750/642750 [==============================] - 1s 2us/step - loss: 5.1447 - mean_absolute_error: 0.3665 - val_loss: 4.8338 - val_mean_absolute_error: 0.3706\n",
            "Epoch 50/100\n",
            "642750/642750 [==============================] - 1s 2us/step - loss: 5.1053 - mean_absolute_error: 0.3723 - val_loss: 4.8367 - val_mean_absolute_error: 0.3724\n",
            "Epoch 51/100\n",
            "642750/642750 [==============================] - 1s 2us/step - loss: 5.0983 - mean_absolute_error: 0.3721 - val_loss: 4.8497 - val_mean_absolute_error: 0.3588\n",
            "Epoch 52/100\n",
            "642750/642750 [==============================] - 1s 2us/step - loss: 5.0764 - mean_absolute_error: 0.3706 - val_loss: 4.8539 - val_mean_absolute_error: 0.3487\n",
            "Epoch 53/100\n",
            "642750/642750 [==============================] - 1s 2us/step - loss: 5.0962 - mean_absolute_error: 0.3792 - val_loss: 4.9129 - val_mean_absolute_error: 0.3367\n",
            "Epoch 54/100\n",
            "642750/642750 [==============================] - 1s 2us/step - loss: 5.1152 - mean_absolute_error: 0.3660 - val_loss: 4.9033 - val_mean_absolute_error: 0.3290\n",
            "Epoch 55/100\n",
            "642750/642750 [==============================] - 1s 2us/step - loss: 5.0970 - mean_absolute_error: 0.3640 - val_loss: 4.8658 - val_mean_absolute_error: 0.3433\n",
            "Epoch 56/100\n",
            "642750/642750 [==============================] - 1s 2us/step - loss: 5.0616 - mean_absolute_error: 0.3754 - val_loss: 4.8887 - val_mean_absolute_error: 0.3448\n",
            "Epoch 57/100\n",
            "642750/642750 [==============================] - 1s 2us/step - loss: 5.0678 - mean_absolute_error: 0.3655 - val_loss: 4.8544 - val_mean_absolute_error: 0.3498\n",
            "Epoch 58/100\n",
            "642750/642750 [==============================] - 1s 2us/step - loss: 5.0701 - mean_absolute_error: 0.3665 - val_loss: 4.8452 - val_mean_absolute_error: 0.3450\n",
            "Epoch 59/100\n",
            "642750/642750 [==============================] - 1s 2us/step - loss: 5.0337 - mean_absolute_error: 0.3687 - val_loss: 4.8757 - val_mean_absolute_error: 0.3432\n",
            "Epoch 60/100\n",
            "642750/642750 [==============================] - 1s 2us/step - loss: 5.0292 - mean_absolute_error: 0.3579 - val_loss: 4.8072 - val_mean_absolute_error: 0.3517\n",
            "Epoch 61/100\n",
            "642750/642750 [==============================] - 1s 2us/step - loss: 5.0319 - mean_absolute_error: 0.3614 - val_loss: 4.8265 - val_mean_absolute_error: 0.3824\n",
            "Epoch 62/100\n",
            "642750/642750 [==============================] - 1s 2us/step - loss: 5.0211 - mean_absolute_error: 0.3632 - val_loss: 4.8689 - val_mean_absolute_error: 0.3973\n",
            "Epoch 63/100\n",
            "642750/642750 [==============================] - 1s 2us/step - loss: 5.0049 - mean_absolute_error: 0.3665 - val_loss: 4.8604 - val_mean_absolute_error: 0.4035\n",
            "Epoch 64/100\n",
            "642750/642750 [==============================] - 1s 2us/step - loss: 4.9845 - mean_absolute_error: 0.3680 - val_loss: 4.7960 - val_mean_absolute_error: 0.3707\n",
            "Epoch 65/100\n",
            "642750/642750 [==============================] - 1s 2us/step - loss: 4.9864 - mean_absolute_error: 0.3675 - val_loss: 4.8459 - val_mean_absolute_error: 0.3456\n",
            "Epoch 66/100\n",
            "642750/642750 [==============================] - 1s 2us/step - loss: 4.9489 - mean_absolute_error: 0.3710 - val_loss: 4.8350 - val_mean_absolute_error: 0.3423\n",
            "Epoch 67/100\n",
            "642750/642750 [==============================] - 1s 2us/step - loss: 4.9259 - mean_absolute_error: 0.3717 - val_loss: 4.8634 - val_mean_absolute_error: 0.3392\n",
            "Epoch 68/100\n",
            "642750/642750 [==============================] - 1s 2us/step - loss: 4.9173 - mean_absolute_error: 0.3569 - val_loss: 4.8021 - val_mean_absolute_error: 0.3499\n",
            "Epoch 69/100\n",
            "642750/642750 [==============================] - 1s 2us/step - loss: 4.9828 - mean_absolute_error: 0.3588 - val_loss: 4.7797 - val_mean_absolute_error: 0.3589\n",
            "Epoch 70/100\n",
            "642750/642750 [==============================] - 1s 2us/step - loss: 4.9548 - mean_absolute_error: 0.3692 - val_loss: 4.7881 - val_mean_absolute_error: 0.3513\n",
            "Epoch 71/100\n",
            "642750/642750 [==============================] - 1s 2us/step - loss: 4.9197 - mean_absolute_error: 0.3510 - val_loss: 4.8066 - val_mean_absolute_error: 0.3528\n",
            "Epoch 72/100\n",
            "642750/642750 [==============================] - 1s 2us/step - loss: 4.9919 - mean_absolute_error: 0.3668 - val_loss: 4.8352 - val_mean_absolute_error: 0.3544\n",
            "Epoch 73/100\n",
            "642750/642750 [==============================] - 1s 2us/step - loss: 4.9005 - mean_absolute_error: 0.3523 - val_loss: 4.8189 - val_mean_absolute_error: 0.3706\n",
            "Epoch 74/100\n",
            "642750/642750 [==============================] - 1s 2us/step - loss: 4.8864 - mean_absolute_error: 0.3606 - val_loss: 4.7903 - val_mean_absolute_error: 0.3557\n",
            "Epoch 75/100\n",
            "642750/642750 [==============================] - 1s 2us/step - loss: 4.8860 - mean_absolute_error: 0.3680 - val_loss: 4.8054 - val_mean_absolute_error: 0.3525\n",
            "Epoch 76/100\n",
            "642750/642750 [==============================] - 1s 2us/step - loss: 4.9055 - mean_absolute_error: 0.3619 - val_loss: 4.8116 - val_mean_absolute_error: 0.3496\n",
            "Epoch 77/100\n",
            "642750/642750 [==============================] - 1s 2us/step - loss: 4.8477 - mean_absolute_error: 0.3634 - val_loss: 4.8862 - val_mean_absolute_error: 0.3537\n",
            "Epoch 78/100\n",
            "642750/642750 [==============================] - 1s 2us/step - loss: 4.8792 - mean_absolute_error: 0.3588 - val_loss: 4.8311 - val_mean_absolute_error: 0.3383\n",
            "Epoch 79/100\n",
            "642750/642750 [==============================] - 1s 2us/step - loss: 4.8188 - mean_absolute_error: 0.3501 - val_loss: 4.8271 - val_mean_absolute_error: 0.3402\n",
            "Epoch 80/100\n",
            "642750/642750 [==============================] - 1s 2us/step - loss: 4.8336 - mean_absolute_error: 0.3620 - val_loss: 4.8186 - val_mean_absolute_error: 0.3493\n",
            "Epoch 81/100\n",
            "642750/642750 [==============================] - 1s 2us/step - loss: 4.8359 - mean_absolute_error: 0.3540 - val_loss: 4.8299 - val_mean_absolute_error: 0.3434\n",
            "Epoch 82/100\n",
            "642750/642750 [==============================] - 1s 2us/step - loss: 4.8530 - mean_absolute_error: 0.3589 - val_loss: 4.8605 - val_mean_absolute_error: 0.3596\n",
            "Epoch 83/100\n",
            "642750/642750 [==============================] - 1s 2us/step - loss: 4.8052 - mean_absolute_error: 0.3556 - val_loss: 4.8141 - val_mean_absolute_error: 0.3453\n",
            "Epoch 84/100\n",
            "642750/642750 [==============================] - 1s 2us/step - loss: 4.8258 - mean_absolute_error: 0.3569 - val_loss: 4.8323 - val_mean_absolute_error: 0.3677\n",
            "Epoch 85/100\n",
            "642750/642750 [==============================] - 1s 2us/step - loss: 4.8132 - mean_absolute_error: 0.3556 - val_loss: 4.7838 - val_mean_absolute_error: 0.3558\n",
            "Epoch 86/100\n",
            "642750/642750 [==============================] - 1s 2us/step - loss: 4.7092 - mean_absolute_error: 0.3509 - val_loss: 4.8299 - val_mean_absolute_error: 0.3796\n",
            "Epoch 87/100\n",
            "642750/642750 [==============================] - 1s 2us/step - loss: 4.7242 - mean_absolute_error: 0.3607 - val_loss: 4.8435 - val_mean_absolute_error: 0.3720\n",
            "Epoch 88/100\n",
            "642750/642750 [==============================] - 1s 2us/step - loss: 4.8226 - mean_absolute_error: 0.3542 - val_loss: 4.8989 - val_mean_absolute_error: 0.3749\n",
            "Epoch 89/100\n",
            "642750/642750 [==============================] - 1s 2us/step - loss: 4.7593 - mean_absolute_error: 0.3523 - val_loss: 4.8816 - val_mean_absolute_error: 0.3771\n",
            "Epoch 90/100\n",
            "642750/642750 [==============================] - 1s 2us/step - loss: 4.7642 - mean_absolute_error: 0.3614 - val_loss: 4.8198 - val_mean_absolute_error: 0.3599\n",
            "Epoch 91/100\n",
            "642750/642750 [==============================] - 1s 2us/step - loss: 4.7547 - mean_absolute_error: 0.3525 - val_loss: 4.8156 - val_mean_absolute_error: 0.3569\n",
            "Epoch 92/100\n",
            "642750/642750 [==============================] - 1s 2us/step - loss: 4.7342 - mean_absolute_error: 0.3538 - val_loss: 4.8408 - val_mean_absolute_error: 0.3587\n",
            "Epoch 93/100\n",
            "642750/642750 [==============================] - 1s 2us/step - loss: 4.6640 - mean_absolute_error: 0.3581 - val_loss: 4.8418 - val_mean_absolute_error: 0.3510\n",
            "Epoch 94/100\n",
            "642750/642750 [==============================] - 1s 2us/step - loss: 4.6793 - mean_absolute_error: 0.3542 - val_loss: 4.8573 - val_mean_absolute_error: 0.3421\n",
            "Epoch 95/100\n",
            "642750/642750 [==============================] - 1s 2us/step - loss: 4.6702 - mean_absolute_error: 0.3638 - val_loss: 4.8808 - val_mean_absolute_error: 0.3494\n",
            "Epoch 96/100\n",
            "642750/642750 [==============================] - 1s 2us/step - loss: 4.7432 - mean_absolute_error: 0.3457 - val_loss: 4.8651 - val_mean_absolute_error: 0.3399\n",
            "Epoch 97/100\n",
            "642750/642750 [==============================] - 1s 2us/step - loss: 4.6712 - mean_absolute_error: 0.3737 - val_loss: 4.9969 - val_mean_absolute_error: 0.3349\n",
            "Epoch 98/100\n",
            "642750/642750 [==============================] - 1s 2us/step - loss: 4.7209 - mean_absolute_error: 0.3496 - val_loss: 5.0284 - val_mean_absolute_error: 0.3129\n",
            "Epoch 99/100\n",
            "642750/642750 [==============================] - 1s 2us/step - loss: 4.7623 - mean_absolute_error: 0.3631 - val_loss: 4.9912 - val_mean_absolute_error: 0.3277\n",
            "Epoch 100/100\n",
            "642750/642750 [==============================] - 1s 2us/step - loss: 4.7243 - mean_absolute_error: 0.3524 - val_loss: 4.9678 - val_mean_absolute_error: 0.3240\n",
            "CPU times: user 1min 25s, sys: 12.9 s, total: 1min 38s\n",
            "Wall time: 1min 51s\n"
          ],
          "name": "stdout"
        }
      ]
    },
    {
      "metadata": {
        "id": "1IB6PzAEtEnx",
        "colab_type": "text"
      },
      "cell_type": "markdown",
      "source": [
        "# evaluate model"
      ]
    },
    {
      "metadata": {
        "colab_type": "code",
        "id": "7iKUf05jrLrg",
        "colab": {
          "base_uri": "https://localhost:8080/",
          "height": 286
        },
        "outputId": "99b77be9-4919-43e5-ae5e-1764fc796ccb"
      },
      "cell_type": "code",
      "source": [
        "#dir(history)\n",
        "#history.history\n",
        "\n",
        "x = history.epoch\n",
        "y = history.history['mean_absolute_error']\n",
        "z = history.history['val_mean_absolute_error']\n",
        "\n",
        "import matplotlib.pyplot as plt\n",
        "%matplotlib inline\n",
        "\n",
        "plt.plot(x, y, color='cornflowerblue')\n",
        "plt.plot(x, z, color='red')\n",
        "plt.legend(loc=\"upper left\")\n",
        "plt.ylim(0, 1)\n",
        "plt.grid(True)\n",
        "plt.show()"
      ],
      "execution_count": 64,
      "outputs": [
        {
          "output_type": "stream",
          "text": [
            "No handles with labels found to put in legend.\n"
          ],
          "name": "stderr"
        },
        {
          "output_type": "display_data",
          "data": {
            "image/png": "[encoded data removed]",
            "text/plain": [
              "<matplotlib.figure.Figure at 0x7f09de468f60>"
            ]
          },
          "metadata": {
            "tags": []
          }
        }
      ]
    },
    {
      "metadata": {
        "id": "EA0hZIO0stXb",
        "colab_type": "code",
        "colab": {
          "base_uri": "https://localhost:8080/",
          "height": 68
        },
        "outputId": "62ecc2eb-1c5b-480d-8dbd-34545193520a"
      },
      "cell_type": "code",
      "source": [
        "%%time\n",
        "\n",
        "from sklearn.metrics import mean_squared_error\n",
        "\n",
        "pred = model.predict(df_x)\n",
        "mse = mean_squared_error(df_y, pred)\n",
        "rmse = np.sqrt(mse)\n",
        "print(rmse)"
      ],
      "execution_count": 65,
      "outputs": [
        {
          "output_type": "stream",
          "text": [
            "2.1637144539984035\n",
            "CPU times: user 37.9 s, sys: 3.88 s, total: 41.8 s\n",
            "Wall time: 33.5 s\n"
          ],
          "name": "stdout"
        }
      ]
    },
    {
      "metadata": {
        "id": "3uAM4Dswu2he",
        "colab_type": "text"
      },
      "cell_type": "markdown",
      "source": [
        "2.048579998484373\n",
        "\n",
        "2.08106061338436\n",
        "\n",
        "2.894300942225228\n",
        "\n",
        "2.122997035400416\n",
        "\n",
        "2.07703580318282\n",
        "\n",
        "2.158526362017965\n",
        "\n",
        "2.1637144539984035"
      ]
    },
    {
      "metadata": {
        "id": "7l28eDSNr8n_",
        "colab_type": "code",
        "colab": {
          "base_uri": "https://localhost:8080/",
          "height": 51
        },
        "outputId": "3526cdef-ae6f-4cd0-a0ff-d76bf5afc54f"
      },
      "cell_type": "code",
      "source": [
        "%%time\n",
        "model.save(filename)\n",
        "\n",
        "#files.download(filename)"
      ],
      "execution_count": 66,
      "outputs": [
        {
          "output_type": "stream",
          "text": [
            "CPU times: user 1.45 s, sys: 22.1 ms, total: 1.47 s\n",
            "Wall time: 1.49 s\n"
          ],
          "name": "stdout"
        }
      ]
    },
    {
      "metadata": {
        "id": "8RS_Q44XtNZ8",
        "colab_type": "text"
      },
      "cell_type": "markdown",
      "source": [
        "# predict & output"
      ]
    },
    {
      "metadata": {
        "id": "CVxJYyAo8U_O",
        "colab_type": "code",
        "colab": {
          "base_uri": "https://localhost:8080/",
          "height": 51
        },
        "outputId": "d6bb8ee9-961c-43dc-f945-e2181fce330f"
      },
      "cell_type": "code",
      "source": [
        "%%time\n",
        "pred_tgt = model.predict(df_tgt)\n"
      ],
      "execution_count": 67,
      "outputs": [
        {
          "output_type": "stream",
          "text": [
            "CPU times: user 32.5 s, sys: 3.07 s, total: 35.6 s\n",
            "Wall time: 28.4 s\n"
          ],
          "name": "stdout"
        }
      ]
    },
    {
      "metadata": {
        "id": "2H8GV7bq8U6K",
        "colab_type": "code",
        "colab": {
          "base_uri": "https://localhost:8080/",
          "height": 51
        },
        "outputId": "3e0a81b7-19b7-4510-b1aa-2332ea1f2b33"
      },
      "cell_type": "code",
      "source": [
        "%%time\n",
        "\n",
        "pred_tgt[pred_tgt<0] = 0\n",
        "df_out = pd.DataFrame(index = df_tgt.index)\n",
        "df_out['PredictedLogRevenue'] = pred_tgt\n",
        "\n",
        "df_out.to_csv('output_NN.csv')"
      ],
      "execution_count": 68,
      "outputs": [
        {
          "output_type": "stream",
          "text": [
            "CPU times: user 1.11 s, sys: 21.3 ms, total: 1.14 s\n",
            "Wall time: 1.22 s\n"
          ],
          "name": "stdout"
        }
      ]
    },
    {
      "metadata": {
        "id": "l9meIvhh8U8L",
        "colab_type": "code",
        "colab": {
          "base_uri": "https://localhost:8080/",
          "height": 34
        },
        "outputId": "48ba2888-3386-4aa2-d60a-ea3f9331ecf4"
      },
      "cell_type": "code",
      "source": [
        "pred_tgt.shape, pred_tgt.max(), pred_tgt.min(), len(pred_tgt[pred_tgt>=0.1])/len(pred_tgt)"
      ],
      "execution_count": 69,
      "outputs": [
        {
          "output_type": "execute_result",
          "data": {
            "text/plain": [
              "((617242, 1), 242.2466, 0.0, 0.06329122127139761)"
            ]
          },
          "metadata": {
            "tags": []
          },
          "execution_count": 69
        }
      ]
    },
    {
      "metadata": {
        "id": "qjuxQSXI8U3v",
        "colab_type": "code",
        "colab": {
          "base_uri": "https://localhost:8080/",
          "height": 233
        },
        "outputId": "bbd180dd-a3cf-4917-810d-5f25270444b3"
      },
      "cell_type": "code",
      "source": [
        "df_out.head()"
      ],
      "execution_count": 70,
      "outputs": [
        {
          "output_type": "execute_result",
          "data": {
            "text/html": [
              "<div>\n",
              "<style scoped>\n",
              "    .dataframe tbody tr th:only-of-type {\n",
              "        vertical-align: middle;\n",
              "    }\n",
              "\n",
              "    .dataframe tbody tr th {\n",
              "        vertical-align: top;\n",
              "    }\n",
              "\n",
              "    .dataframe thead th {\n",
              "        text-align: right;\n",
              "    }\n",
              "</style>\n",
              "<table border=\"1\" class=\"dataframe\">\n",
              "  <thead>\n",
              "    <tr style=\"text-align: right;\">\n",
              "      <th></th>\n",
              "      <th>PredictedLogRevenue</th>\n",
              "    </tr>\n",
              "    <tr>\n",
              "      <th>fullVisitorId</th>\n",
              "      <th></th>\n",
              "    </tr>\n",
              "  </thead>\n",
              "  <tbody>\n",
              "    <tr>\n",
              "      <th>259678714014</th>\n",
              "      <td>0.612885</td>\n",
              "    </tr>\n",
              "    <tr>\n",
              "      <th>49363351866189</th>\n",
              "      <td>0.001378</td>\n",
              "    </tr>\n",
              "    <tr>\n",
              "      <th>53049821714864</th>\n",
              "      <td>0.000000</td>\n",
              "    </tr>\n",
              "    <tr>\n",
              "      <th>59488412965267</th>\n",
              "      <td>0.000000</td>\n",
              "    </tr>\n",
              "    <tr>\n",
              "      <th>85840370633780</th>\n",
              "      <td>0.004142</td>\n",
              "    </tr>\n",
              "  </tbody>\n",
              "</table>\n",
              "</div>"
            ],
            "text/plain": [
              "                PredictedLogRevenue\n",
              "fullVisitorId                      \n",
              "259678714014               0.612885\n",
              "49363351866189             0.001378\n",
              "53049821714864             0.000000\n",
              "59488412965267             0.000000\n",
              "85840370633780             0.004142"
            ]
          },
          "metadata": {
            "tags": []
          },
          "execution_count": 70
        }
      ]
    },
    {
      "metadata": {
        "id": "K584rugV8-pc",
        "colab_type": "code",
        "colab": {
          "base_uri": "https://localhost:8080/",
          "height": 295
        },
        "outputId": "0ac20321-e6e1-41f6-ca64-267e78bb0648"
      },
      "cell_type": "code",
      "source": [
        "df_out.describe()"
      ],
      "execution_count": 71,
      "outputs": [
        {
          "output_type": "execute_result",
          "data": {
            "text/html": [
              "<div>\n",
              "<style scoped>\n",
              "    .dataframe tbody tr th:only-of-type {\n",
              "        vertical-align: middle;\n",
              "    }\n",
              "\n",
              "    .dataframe tbody tr th {\n",
              "        vertical-align: top;\n",
              "    }\n",
              "\n",
              "    .dataframe thead th {\n",
              "        text-align: right;\n",
              "    }\n",
              "</style>\n",
              "<table border=\"1\" class=\"dataframe\">\n",
              "  <thead>\n",
              "    <tr style=\"text-align: right;\">\n",
              "      <th></th>\n",
              "      <th>PredictedLogRevenue</th>\n",
              "    </tr>\n",
              "  </thead>\n",
              "  <tbody>\n",
              "    <tr>\n",
              "      <th>count</th>\n",
              "      <td>617242.000000</td>\n",
              "    </tr>\n",
              "    <tr>\n",
              "      <th>mean</th>\n",
              "      <td>0.160495</td>\n",
              "    </tr>\n",
              "    <tr>\n",
              "      <th>std</th>\n",
              "      <td>1.286057</td>\n",
              "    </tr>\n",
              "    <tr>\n",
              "      <th>min</th>\n",
              "      <td>0.000000</td>\n",
              "    </tr>\n",
              "    <tr>\n",
              "      <th>25%</th>\n",
              "      <td>0.000000</td>\n",
              "    </tr>\n",
              "    <tr>\n",
              "      <th>50%</th>\n",
              "      <td>0.000612</td>\n",
              "    </tr>\n",
              "    <tr>\n",
              "      <th>75%</th>\n",
              "      <td>0.005102</td>\n",
              "    </tr>\n",
              "    <tr>\n",
              "      <th>max</th>\n",
              "      <td>242.246597</td>\n",
              "    </tr>\n",
              "  </tbody>\n",
              "</table>\n",
              "</div>"
            ],
            "text/plain": [
              "       PredictedLogRevenue\n",
              "count        617242.000000\n",
              "mean              0.160495\n",
              "std               1.286057\n",
              "min               0.000000\n",
              "25%               0.000000\n",
              "50%               0.000612\n",
              "75%               0.005102\n",
              "max             242.246597"
            ]
          },
          "metadata": {
            "tags": []
          },
          "execution_count": 71
        }
      ]
    },
    {
      "metadata": {
        "id": "EnMs4GSP8-mc",
        "colab_type": "code",
        "colab": {}
      },
      "cell_type": "code",
      "source": [
        ""
      ],
      "execution_count": 0,
      "outputs": []
    }
  ]
}