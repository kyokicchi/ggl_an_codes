{
  "nbformat": 4,
  "nbformat_minor": 0,
  "metadata": {
    "colab": {
      "name": "trainNNmodel.ipynb",
      "version": "0.3.2",
      "provenance": [],
      "collapsed_sections": [],
      "include_colab_link": true
    },
    "kernelspec": {
      "name": "python3",
      "display_name": "Python 3"
    },
    "accelerator": "GPU"
  },
  "cells": [
    {
      "cell_type": "markdown",
      "metadata": {
        "id": "view-in-github",
        "colab_type": "text"
      },
      "source": [
        "<a href=\"https://colab.research.google.com/github/kyokicchi/ggl_an_codes/blob/master/NNmodel.ipynb\" target=\"_parent\"><img src=\"https://colab.research.google.com/assets/colab-badge.svg\" alt=\"Open In Colab\"/></a>"
      ]
    },
    {
      "metadata": {
        "id": "BFaLXotRBPpU",
        "colab_type": "text"
      },
      "cell_type": "markdown",
      "source": [
        "# initialize & load"
      ]
    },
    {
      "metadata": {
        "id": "uTLbBtpszx1d",
        "colab_type": "code",
        "colab": {
          "base_uri": "https://localhost:8080/",
          "height": 34
        },
        "outputId": "3f2d5527-6fa4-4411-dbbb-54614ff5a1dd"
      },
      "cell_type": "code",
      "source": [
        "from google.colab import drive\n",
        "from google.colab import files\n",
        "\n",
        "import numpy as np\n",
        "import pandas as pd\n",
        "\n",
        "from keras import models\n",
        "from keras import layers\n",
        "from keras.models import load_model"
      ],
      "execution_count": 1,
      "outputs": [
        {
          "output_type": "stream",
          "text": [
            "Using TensorFlow backend.\n"
          ],
          "name": "stderr"
        }
      ]
    },
    {
      "metadata": {
        "id": "xPuIYqTaz_VT",
        "colab_type": "code",
        "colab": {
          "base_uri": "https://localhost:8080/",
          "height": 121
        },
        "outputId": "5fe8c314-fcf5-4e18-c0e2-e1a0e79e096b"
      },
      "cell_type": "code",
      "source": [
        "drive.mount('/content/gdrive')"
      ],
      "execution_count": 2,
      "outputs": [
        {
          "output_type": "stream",
          "text": [
            "Go to this URL in a browser: https://accounts.google.com/o/oauth2/auth?client_id=947318989803-6bn6qk8qdgf4n4g3pfee6491hc0brc4i.apps.googleusercontent.com&redirect_uri=urn%3Aietf%3Awg%3Aoauth%3A2.0%3Aoob&scope=email%20https%3A%2F%2Fwww.googleapis.com%2Fauth%2Fdocs.test%20https%3A%2F%2Fwww.googleapis.com%2Fauth%2Fdrive%20https%3A%2F%2Fwww.googleapis.com%2Fauth%2Fdrive.photos.readonly%20https%3A%2F%2Fwww.googleapis.com%2Fauth%2Fpeopleapi.readonly&response_type=code\n",
            "\n",
            "Enter your authorization code:\n",
            "··········\n",
            "Mounted at /content/gdrive\n"
          ],
          "name": "stdout"
        }
      ]
    },
    {
      "metadata": {
        "id": "OfYn9ovCz7tr",
        "colab_type": "code",
        "colab": {
          "base_uri": "https://localhost:8080/",
          "height": 68
        },
        "outputId": "e9f49ccb-fbdb-4ed4-d65b-fe3b5dd2d45f"
      },
      "cell_type": "code",
      "source": [
        "%cd ../content/gdrive/My Drive/projects/ggl_an/\n",
        "%ls"
      ],
      "execution_count": 3,
      "outputs": [
        {
          "output_type": "stream",
          "text": [
            "/content/gdrive/My Drive/projects/ggl_an\n",
            "model_LGB.sav  output_LGB.csv  user_test.csv    user_train.csv\n",
            "model_NN.h5    output_NN.csv   user_test_n.csv  user_train_n.csv\n"
          ],
          "name": "stdout"
        }
      ]
    },
    {
      "metadata": {
        "id": "6oNx0QIG81nE",
        "colab_type": "code",
        "colab": {
          "base_uri": "https://localhost:8080/",
          "height": 68
        },
        "outputId": "78d39669-e789-46cc-f475-a844e7f1fffc"
      },
      "cell_type": "code",
      "source": [
        "%%time\n",
        "filename = 'model_NN.h5'\n",
        "model = load_model(filename)\n",
        "\n",
        "df_train = pd.read_csv('user_train_n.csv', index_col = 0)\n",
        "df_test = pd.read_csv('user_test_n.csv', index_col = 0)\n",
        "\n",
        "df_y = df_train['transactionRevenue']\n",
        "df_x = df_train.drop(['transactionRevenue'], axis=1)\n",
        "df_tgt = df_test.drop(['transactionRevenue'], axis=1)"
      ],
      "execution_count": 5,
      "outputs": [
        {
          "output_type": "stream",
          "text": [
            "<string>:2: DtypeWarning: Columns (0) have mixed types. Specify dtype option on import or set low_memory=False.\n"
          ],
          "name": "stderr"
        },
        {
          "output_type": "stream",
          "text": [
            "CPU times: user 8.7 s, sys: 867 ms, total: 9.57 s\n",
            "Wall time: 13.4 s\n"
          ],
          "name": "stdout"
        }
      ]
    },
    {
      "metadata": {
        "id": "cBwwI8hduWOE",
        "colab_type": "code",
        "colab": {
          "base_uri": "https://localhost:8080/",
          "height": 34
        },
        "outputId": "56849a32-6e7b-4beb-cc97-6e6ff23acf7b"
      },
      "cell_type": "code",
      "source": [
        "print(df_x.shape, df_y.shape, df_tgt.shape)"
      ],
      "execution_count": 6,
      "outputs": [
        {
          "output_type": "stream",
          "text": [
            "(714167, 23) (714167,) (617242, 23)\n"
          ],
          "name": "stdout"
        }
      ]
    },
    {
      "metadata": {
        "id": "c78zRuC5s_pH",
        "colab_type": "text"
      },
      "cell_type": "markdown",
      "source": [
        "# train model"
      ]
    },
    {
      "metadata": {
        "colab_type": "code",
        "id": "r7THGQk8rMH9",
        "colab": {}
      },
      "cell_type": "code",
      "source": [
        "from keras import optimizers\n",
        "\n",
        "\n",
        "def build_model(N_col):\n",
        "    model = models.Sequential()\n",
        "    model.add(layers.Dense(120, activation='relu', input_shape=(N_col,)))\n",
        "    model.add(layers.Dense(60, activation='relu'))\n",
        "    model.add(layers.Dropout(0.1))\n",
        "    model.add(layers.Dense(30, activation='relu'))\n",
        "    model.add(layers.Dropout(0.1))\n",
        "    model.add(layers.Dense(30, activation='relu'))\n",
        "    model.add(layers.Dropout(0.1))\n",
        "    model.add(layers.Dense(60, activation='relu'))\n",
        "    model.add(layers.Dropout(0.1))\n",
        "    model.add(layers.Dense(120, activation='relu'))\n",
        "    model.add(layers.Dropout(0.1))\n",
        "    model.add(layers.Dense(10, activation='relu'))\n",
        "    model.add(layers.Dense(1))\n",
        "    model.compile(optimizer=optimizers.adam(lr=0.01), loss='mse', metrics=['mae'])\n",
        "    return model"
      ],
      "execution_count": 0,
      "outputs": []
    },
    {
      "metadata": {
        "colab_type": "code",
        "id": "Pg8l05Z2rL-s",
        "colab": {}
      },
      "cell_type": "code",
      "source": [
        "%%time\n",
        "epochs = 200\n",
        "batch_size = df_x.shape[0] // 5\n",
        "validation_split = 0.1\n",
        "\n",
        "model = build_model(df_x.shape[1])\n",
        "\n",
        "history = model.fit(df_x,\n",
        "                    df_y,\n",
        "                    epochs=epochs,\n",
        "                    batch_size=batch_size,\n",
        "                    validation_split = validation_split,\n",
        "                    verbose=1)"
      ],
      "execution_count": 0,
      "outputs": []
    },
    {
      "metadata": {
        "id": "1IB6PzAEtEnx",
        "colab_type": "text"
      },
      "cell_type": "markdown",
      "source": [
        "# evaluate model"
      ]
    },
    {
      "metadata": {
        "colab_type": "code",
        "id": "7iKUf05jrLrg",
        "colab": {}
      },
      "cell_type": "code",
      "source": [
        "#history.history"
      ],
      "execution_count": 0,
      "outputs": []
    },
    {
      "metadata": {
        "id": "EA0hZIO0stXb",
        "colab_type": "code",
        "colab": {
          "base_uri": "https://localhost:8080/",
          "height": 68
        },
        "outputId": "57baf056-6b87-4768-d477-225a44f3ea17"
      },
      "cell_type": "code",
      "source": [
        "%%time\n",
        "\n",
        "from sklearn.metrics import mean_squared_error\n",
        "\n",
        "pred = model.predict(df_x)\n",
        "mse = mean_squared_error(df_y, pred)\n",
        "rmse = np.sqrt(mse)\n",
        "print(rmse)"
      ],
      "execution_count": 7,
      "outputs": [
        {
          "output_type": "stream",
          "text": [
            "2.048579998484373\n",
            "CPU times: user 36.2 s, sys: 3.91 s, total: 40.1 s\n",
            "Wall time: 32.5 s\n"
          ],
          "name": "stdout"
        }
      ]
    },
    {
      "metadata": {
        "id": "3uAM4Dswu2he",
        "colab_type": "text"
      },
      "cell_type": "markdown",
      "source": [
        "2.048579998484373"
      ]
    },
    {
      "metadata": {
        "id": "7l28eDSNr8n_",
        "colab_type": "code",
        "colab": {}
      },
      "cell_type": "code",
      "source": [
        "%%time\n",
        "model.save(filename)\n",
        "\n",
        "#files.download(filename)"
      ],
      "execution_count": 0,
      "outputs": []
    },
    {
      "metadata": {
        "id": "8RS_Q44XtNZ8",
        "colab_type": "text"
      },
      "cell_type": "markdown",
      "source": [
        "# predict & output"
      ]
    },
    {
      "metadata": {
        "id": "CVxJYyAo8U_O",
        "colab_type": "code",
        "colab": {}
      },
      "cell_type": "code",
      "source": [
        "%%time\n",
        "pred_tgt = model.predict(df_tgt)\n"
      ],
      "execution_count": 0,
      "outputs": []
    },
    {
      "metadata": {
        "id": "2H8GV7bq8U6K",
        "colab_type": "code",
        "colab": {}
      },
      "cell_type": "code",
      "source": [
        "%%time\n",
        "\n",
        "pred_tgt[pred_tgt<0] = 0\n",
        "df_out = pd.DataFrame(index = df_tgt.index)\n",
        "df_out['PredictedLogRevenue'] = pred_tgt\n",
        "\n",
        "df_out.to_csv('output_NN.csv')"
      ],
      "execution_count": 0,
      "outputs": []
    },
    {
      "metadata": {
        "id": "l9meIvhh8U8L",
        "colab_type": "code",
        "colab": {}
      },
      "cell_type": "code",
      "source": [
        "pred_tgt.shape, pred_tgt.max(), pred_tgt.min(), len(pred_tgt[pred_tgt>=1.5])/len(pred_tgt)"
      ],
      "execution_count": 0,
      "outputs": []
    },
    {
      "metadata": {
        "id": "Yj2QLsV-9xem",
        "colab_type": "code",
        "colab": {}
      },
      "cell_type": "code",
      "source": [
        "print(len(df_y[df_y<=0.1]) - len(df_y[df_y==0]))\n",
        "\n",
        "print(len(pred_tgt[pred_tgt<=0.1]) - len(pred_tgt[pred_tgt==0]))\n",
        "\n",
        "print(len(df_y[df_y>0]) / len(df_y) )\n",
        "\n",
        "print(len(pred_tgt[pred_tgt>1]) / len(pred_tgt) )"
      ],
      "execution_count": 0,
      "outputs": []
    },
    {
      "metadata": {
        "id": "qjuxQSXI8U3v",
        "colab_type": "code",
        "colab": {}
      },
      "cell_type": "code",
      "source": [
        "df_out.head()"
      ],
      "execution_count": 0,
      "outputs": []
    },
    {
      "metadata": {
        "id": "K584rugV8-pc",
        "colab_type": "code",
        "colab": {}
      },
      "cell_type": "code",
      "source": [
        "df_out.describe()"
      ],
      "execution_count": 0,
      "outputs": []
    },
    {
      "metadata": {
        "id": "EnMs4GSP8-mc",
        "colab_type": "code",
        "colab": {}
      },
      "cell_type": "code",
      "source": [
        ""
      ],
      "execution_count": 0,
      "outputs": []
    }
  ]
}