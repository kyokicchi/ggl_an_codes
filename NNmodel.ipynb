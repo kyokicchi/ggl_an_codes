{
  "nbformat": 4,
  "nbformat_minor": 0,
  "metadata": {
    "colab": {
      "name": "trainNNmodel.ipynb",
      "version": "0.3.2",
      "provenance": [],
      "collapsed_sections": [],
      "include_colab_link": true
    },
    "kernelspec": {
      "name": "python3",
      "display_name": "Python 3"
    },
    "accelerator": "GPU"
  },
  "cells": [
    {
      "cell_type": "markdown",
      "metadata": {
        "id": "view-in-github",
        "colab_type": "text"
      },
      "source": [
        "<a href=\"https://colab.research.google.com/github/kyokicchi/ggl_an_codes/blob/master/trainNNmodel.ipynb\" target=\"_parent\"><img src=\"https://colab.research.google.com/assets/colab-badge.svg\" alt=\"Open In Colab\"/></a>"
      ]
    },
    {
      "metadata": {
        "id": "uTLbBtpszx1d",
        "colab_type": "code",
        "outputId": "07d5dd95-9500-41b0-dae9-955193501f60",
        "colab": {
          "base_uri": "https://localhost:8080/",
          "height": 34
        }
      },
      "cell_type": "code",
      "source": [
        "import numpy as np\n",
        "import pandas as pd\n",
        "from google.colab import drive\n",
        "from google.colab import files\n",
        "import pickle\n",
        "import matplotlib.pyplot as plt\n",
        "%matplotlib inline\n",
        "from keras import models\n",
        "from keras import layers\n",
        "\n",
        "from keras.models import load_model\n"
      ],
      "execution_count": 1,
      "outputs": [
        {
          "output_type": "stream",
          "text": [
            "Using TensorFlow backend.\n"
          ],
          "name": "stderr"
        }
      ]
    },
    {
      "metadata": {
        "id": "xPuIYqTaz_VT",
        "colab_type": "code",
        "outputId": "a46f7b3d-b28c-4bae-c765-b50d511411a5",
        "colab": {
          "base_uri": "https://localhost:8080/",
          "height": 121
        }
      },
      "cell_type": "code",
      "source": [
        "drive.mount('/content/gdrive')"
      ],
      "execution_count": 2,
      "outputs": [
        {
          "output_type": "stream",
          "text": [
            "Go to this URL in a browser: https://accounts.google.com/o/oauth2/auth?client_id=947318989803-6bn6qk8qdgf4n4g3pfee6491hc0brc4i.apps.googleusercontent.com&redirect_uri=urn%3Aietf%3Awg%3Aoauth%3A2.0%3Aoob&scope=email%20https%3A%2F%2Fwww.googleapis.com%2Fauth%2Fdocs.test%20https%3A%2F%2Fwww.googleapis.com%2Fauth%2Fdrive%20https%3A%2F%2Fwww.googleapis.com%2Fauth%2Fdrive.photos.readonly%20https%3A%2F%2Fwww.googleapis.com%2Fauth%2Fpeopleapi.readonly&response_type=code\n",
            "\n",
            "Enter your authorization code:\n",
            "··········\n",
            "Mounted at /content/gdrive\n"
          ],
          "name": "stdout"
        }
      ]
    },
    {
      "metadata": {
        "id": "OfYn9ovCz7tr",
        "colab_type": "code",
        "outputId": "67e97c33-e5f6-4244-a850-4a83bc3f50a0",
        "colab": {
          "base_uri": "https://localhost:8080/",
          "height": 51
        }
      },
      "cell_type": "code",
      "source": [
        "%cd ../content/gdrive/My Drive/projects/ggl_an/\n",
        "%ls"
      ],
      "execution_count": 3,
      "outputs": [
        {
          "output_type": "stream",
          "text": [
            "/content/gdrive/My Drive/projects/ggl_an\n",
            "model_LGB.sav  user_train.csv  user_train_n.csv\n"
          ],
          "name": "stdout"
        }
      ]
    },
    {
      "metadata": {
        "id": "pHlvGsudz_SD",
        "colab_type": "code",
        "colab": {}
      },
      "cell_type": "code",
      "source": [
        "s_data = 'user_train_n.csv'\n",
        "s_col_tgt = 'transactionRevenue'\n",
        "l_col_drop = [s_col_tgt]\n",
        "filename = 'model_NN.h5'"
      ],
      "execution_count": 0,
      "outputs": []
    },
    {
      "metadata": {
        "id": "BfDpMe_zz_Pm",
        "colab_type": "code",
        "outputId": "1ae5568b-2e6e-41ab-b652-a273c6a9c581",
        "colab": {
          "base_uri": "https://localhost:8080/",
          "height": 68
        }
      },
      "cell_type": "code",
      "source": [
        "%%time\n",
        "df_train = pd.read_csv(s_data, index_col = 0)"
      ],
      "execution_count": 5,
      "outputs": [
        {
          "output_type": "stream",
          "text": [
            "<string>:2: DtypeWarning: Columns (0) have mixed types. Specify dtype option on import or set low_memory=False.\n"
          ],
          "name": "stderr"
        },
        {
          "output_type": "stream",
          "text": [
            "CPU times: user 3.35 s, sys: 441 ms, total: 3.79 s\n",
            "Wall time: 5.7 s\n"
          ],
          "name": "stdout"
        }
      ]
    },
    {
      "metadata": {
        "id": "b0CS9HlACW-O",
        "colab_type": "code",
        "outputId": "ddb7d27e-90bc-4b52-9585-5ea4de414cf3",
        "colab": {
          "base_uri": "https://localhost:8080/",
          "height": 51
        }
      },
      "cell_type": "code",
      "source": [
        "%%time\n",
        "df_y = df_train[s_col_tgt]\n",
        "df_x = df_train.drop(l_col_drop, axis=1)"
      ],
      "execution_count": 6,
      "outputs": [
        {
          "output_type": "stream",
          "text": [
            "CPU times: user 27.8 ms, sys: 70.1 ms, total: 97.9 ms\n",
            "Wall time: 111 ms\n"
          ],
          "name": "stdout"
        }
      ]
    },
    {
      "metadata": {
        "id": "497BuD1i2lys",
        "colab_type": "code",
        "colab": {}
      },
      "cell_type": "code",
      "source": [
        "from keras import optimizers\n",
        "\n",
        "\n",
        "def build_model(N_col):\n",
        "    model = models.Sequential()\n",
        "    model.add(layers.Dense(120, activation='relu', input_shape=(N_col,)))\n",
        "    model.add(layers.Dropout(0.1))\n",
        "    model.add(layers.Dense(60, activation='relu'))\n",
        "    model.add(layers.Dropout(0.1))\n",
        "    model.add(layers.Dense(1))\n",
        "    model.compile(optimizer=optimizers.adam(lr=0.01), loss='mse', metrics=['mae'])\n",
        "    return model"
      ],
      "execution_count": 0,
      "outputs": []
    },
    {
      "metadata": {
        "id": "kLBy81di22p0",
        "colab_type": "code",
        "outputId": "500b617d-e14c-4ac4-cc95-fe27fdba4ca1",
        "colab": {
          "base_uri": "https://localhost:8080/",
          "height": 3452
        }
      },
      "cell_type": "code",
      "source": [
        "%%time\n",
        "epochs = 100\n",
        "batch_size = df_x.shape[0] // 4\n",
        "validation_split = 0.1\n",
        "\n",
        "model = build_model(df_x.shape[1])\n",
        "\n",
        "history = model.fit(df_x,\n",
        "                    df_y,\n",
        "                    epochs=epochs,\n",
        "                    batch_size=batch_size,\n",
        "                    validation_split = validation_split,\n",
        "                    verbose=1)"
      ],
      "execution_count": 12,
      "outputs": [
        {
          "output_type": "stream",
          "text": [
            "Train on 642750 samples, validate on 71417 samples\n",
            "Epoch 1/100\n",
            "642750/642750 [==============================] - 1s 2us/step - loss: 8.4628 - mean_absolute_error: 0.6207 - val_loss: 8.4997 - val_mean_absolute_error: 0.8899\n",
            "Epoch 2/100\n",
            "642750/642750 [==============================] - 1s 1us/step - loss: 8.2293 - mean_absolute_error: 0.7066 - val_loss: 8.2374 - val_mean_absolute_error: 0.4715\n",
            "Epoch 3/100\n",
            "642750/642750 [==============================] - 1s 1us/step - loss: 8.0049 - mean_absolute_error: 0.5851 - val_loss: 8.0228 - val_mean_absolute_error: 0.5977\n",
            "Epoch 4/100\n",
            "642750/642750 [==============================] - 1s 1us/step - loss: 7.8245 - mean_absolute_error: 0.5832 - val_loss: 7.7889 - val_mean_absolute_error: 0.5924\n",
            "Epoch 5/100\n",
            "642750/642750 [==============================] - 1s 1us/step - loss: 7.5924 - mean_absolute_error: 0.5745 - val_loss: 7.5215 - val_mean_absolute_error: 0.5179\n",
            "Epoch 6/100\n",
            "642750/642750 [==============================] - 1s 1us/step - loss: 7.3317 - mean_absolute_error: 0.5590 - val_loss: 7.1776 - val_mean_absolute_error: 0.4720\n",
            "Epoch 7/100\n",
            "642750/642750 [==============================] - 1s 1us/step - loss: 7.0117 - mean_absolute_error: 0.5021 - val_loss: 6.8178 - val_mean_absolute_error: 0.4415\n",
            "Epoch 8/100\n",
            "642750/642750 [==============================] - 1s 1us/step - loss: 6.7056 - mean_absolute_error: 0.4744 - val_loss: 6.4202 - val_mean_absolute_error: 0.4825\n",
            "Epoch 9/100\n",
            "642750/642750 [==============================] - 1s 1us/step - loss: 6.4439 - mean_absolute_error: 0.4908 - val_loss: 6.1290 - val_mean_absolute_error: 0.3963\n",
            "Epoch 10/100\n",
            "642750/642750 [==============================] - 1s 1us/step - loss: 6.2559 - mean_absolute_error: 0.4467 - val_loss: 5.8445 - val_mean_absolute_error: 0.3772\n",
            "Epoch 11/100\n",
            "642750/642750 [==============================] - 1s 1us/step - loss: 6.1282 - mean_absolute_error: 0.4265 - val_loss: 5.6652 - val_mean_absolute_error: 0.3885\n",
            "Epoch 12/100\n",
            "642750/642750 [==============================] - 1s 1us/step - loss: 6.0735 - mean_absolute_error: 0.4144 - val_loss: 5.5433 - val_mean_absolute_error: 0.4185\n",
            "Epoch 13/100\n",
            "642750/642750 [==============================] - 1s 1us/step - loss: 5.9683 - mean_absolute_error: 0.4188 - val_loss: 5.5973 - val_mean_absolute_error: 0.4893\n",
            "Epoch 14/100\n",
            "642750/642750 [==============================] - 1s 1us/step - loss: 5.9257 - mean_absolute_error: 0.4241 - val_loss: 5.5021 - val_mean_absolute_error: 0.4194\n",
            "Epoch 15/100\n",
            "642750/642750 [==============================] - 1s 1us/step - loss: 5.8134 - mean_absolute_error: 0.4278 - val_loss: 5.4336 - val_mean_absolute_error: 0.4462\n",
            "Epoch 16/100\n",
            "642750/642750 [==============================] - 1s 1us/step - loss: 5.7309 - mean_absolute_error: 0.4301 - val_loss: 5.3584 - val_mean_absolute_error: 0.4066\n",
            "Epoch 17/100\n",
            "642750/642750 [==============================] - 1s 1us/step - loss: 5.6440 - mean_absolute_error: 0.4121 - val_loss: 5.2649 - val_mean_absolute_error: 0.4117\n",
            "Epoch 18/100\n",
            "642750/642750 [==============================] - 1s 1us/step - loss: 5.6180 - mean_absolute_error: 0.4150 - val_loss: 5.2708 - val_mean_absolute_error: 0.3546\n",
            "Epoch 19/100\n",
            "642750/642750 [==============================] - 1s 1us/step - loss: 5.5616 - mean_absolute_error: 0.3957 - val_loss: 5.1653 - val_mean_absolute_error: 0.3831\n",
            "Epoch 20/100\n",
            "642750/642750 [==============================] - 1s 1us/step - loss: 5.4868 - mean_absolute_error: 0.3981 - val_loss: 5.1135 - val_mean_absolute_error: 0.3955\n",
            "Epoch 21/100\n",
            "642750/642750 [==============================] - 1s 1us/step - loss: 5.4292 - mean_absolute_error: 0.4047 - val_loss: 5.1279 - val_mean_absolute_error: 0.3563\n",
            "Epoch 22/100\n",
            "642750/642750 [==============================] - 1s 1us/step - loss: 5.3906 - mean_absolute_error: 0.3880 - val_loss: 5.0711 - val_mean_absolute_error: 0.4026\n",
            "Epoch 23/100\n",
            "642750/642750 [==============================] - 1s 1us/step - loss: 5.3714 - mean_absolute_error: 0.3934 - val_loss: 5.0463 - val_mean_absolute_error: 0.3597\n",
            "Epoch 24/100\n",
            "642750/642750 [==============================] - 1s 1us/step - loss: 5.3495 - mean_absolute_error: 0.3807 - val_loss: 5.0005 - val_mean_absolute_error: 0.3680\n",
            "Epoch 25/100\n",
            "642750/642750 [==============================] - 1s 1us/step - loss: 5.3101 - mean_absolute_error: 0.3773 - val_loss: 5.0174 - val_mean_absolute_error: 0.4166\n",
            "Epoch 26/100\n",
            "642750/642750 [==============================] - 1s 1us/step - loss: 5.2980 - mean_absolute_error: 0.3835 - val_loss: 5.0127 - val_mean_absolute_error: 0.3471\n",
            "Epoch 27/100\n",
            "642750/642750 [==============================] - 1s 1us/step - loss: 5.2709 - mean_absolute_error: 0.3765 - val_loss: 4.9882 - val_mean_absolute_error: 0.3484\n",
            "Epoch 28/100\n",
            "642750/642750 [==============================] - 1s 1us/step - loss: 5.2849 - mean_absolute_error: 0.3673 - val_loss: 4.9737 - val_mean_absolute_error: 0.3589\n",
            "Epoch 29/100\n",
            "642750/642750 [==============================] - 1s 1us/step - loss: 5.2652 - mean_absolute_error: 0.3747 - val_loss: 4.9709 - val_mean_absolute_error: 0.3433\n",
            "Epoch 30/100\n",
            "642750/642750 [==============================] - 1s 1us/step - loss: 5.2819 - mean_absolute_error: 0.3705 - val_loss: 4.9537 - val_mean_absolute_error: 0.3862\n",
            "Epoch 31/100\n",
            "642750/642750 [==============================] - 1s 1us/step - loss: 5.2373 - mean_absolute_error: 0.3722 - val_loss: 4.9422 - val_mean_absolute_error: 0.4030\n",
            "Epoch 32/100\n",
            "642750/642750 [==============================] - 1s 1us/step - loss: 5.2417 - mean_absolute_error: 0.3716 - val_loss: 4.9767 - val_mean_absolute_error: 0.4189\n",
            "Epoch 33/100\n",
            "642750/642750 [==============================] - 1s 1us/step - loss: 5.2236 - mean_absolute_error: 0.3792 - val_loss: 4.9369 - val_mean_absolute_error: 0.4030\n",
            "Epoch 34/100\n",
            "642750/642750 [==============================] - 1s 1us/step - loss: 5.1752 - mean_absolute_error: 0.3766 - val_loss: 4.9223 - val_mean_absolute_error: 0.3857\n",
            "Epoch 35/100\n",
            "642750/642750 [==============================] - 1s 1us/step - loss: 5.2125 - mean_absolute_error: 0.3701 - val_loss: 4.8856 - val_mean_absolute_error: 0.4008\n",
            "Epoch 36/100\n",
            "642750/642750 [==============================] - 1s 1us/step - loss: 5.1904 - mean_absolute_error: 0.3780 - val_loss: 4.9072 - val_mean_absolute_error: 0.4003\n",
            "Epoch 37/100\n",
            "642750/642750 [==============================] - 1s 1us/step - loss: 5.1014 - mean_absolute_error: 0.3648 - val_loss: 4.8717 - val_mean_absolute_error: 0.3938\n",
            "Epoch 38/100\n",
            "642750/642750 [==============================] - 1s 1us/step - loss: 5.1316 - mean_absolute_error: 0.3707 - val_loss: 4.8676 - val_mean_absolute_error: 0.3800\n",
            "Epoch 39/100\n",
            "642750/642750 [==============================] - 1s 1us/step - loss: 5.1160 - mean_absolute_error: 0.3618 - val_loss: 4.8886 - val_mean_absolute_error: 0.3980\n",
            "Epoch 40/100\n",
            "642750/642750 [==============================] - 1s 1us/step - loss: 5.1478 - mean_absolute_error: 0.3641 - val_loss: 4.8262 - val_mean_absolute_error: 0.3865\n",
            "Epoch 41/100\n",
            "642750/642750 [==============================] - 1s 1us/step - loss: 5.1226 - mean_absolute_error: 0.3634 - val_loss: 4.8701 - val_mean_absolute_error: 0.4123\n",
            "Epoch 42/100\n",
            "642750/642750 [==============================] - 1s 1us/step - loss: 5.2233 - mean_absolute_error: 0.3657 - val_loss: 4.8347 - val_mean_absolute_error: 0.4075\n",
            "Epoch 43/100\n",
            "642750/642750 [==============================] - 1s 1us/step - loss: 5.2008 - mean_absolute_error: 0.3620 - val_loss: 4.9037 - val_mean_absolute_error: 0.4330\n",
            "Epoch 44/100\n",
            "642750/642750 [==============================] - 1s 1us/step - loss: 5.1051 - mean_absolute_error: 0.3719 - val_loss: 4.8778 - val_mean_absolute_error: 0.4070\n",
            "Epoch 45/100\n",
            "642750/642750 [==============================] - 1s 1us/step - loss: 5.0944 - mean_absolute_error: 0.3695 - val_loss: 4.8191 - val_mean_absolute_error: 0.3939\n",
            "Epoch 46/100\n",
            "642750/642750 [==============================] - 1s 1us/step - loss: 5.0960 - mean_absolute_error: 0.3780 - val_loss: 4.8359 - val_mean_absolute_error: 0.3530\n",
            "Epoch 47/100\n",
            "642750/642750 [==============================] - 1s 1us/step - loss: 5.0983 - mean_absolute_error: 0.3733 - val_loss: 4.8413 - val_mean_absolute_error: 0.3499\n",
            "Epoch 48/100\n",
            "642750/642750 [==============================] - 1s 1us/step - loss: 5.1115 - mean_absolute_error: 0.3741 - val_loss: 4.7977 - val_mean_absolute_error: 0.3580\n",
            "Epoch 49/100\n",
            "642750/642750 [==============================] - 1s 1us/step - loss: 5.0622 - mean_absolute_error: 0.3627 - val_loss: 4.7570 - val_mean_absolute_error: 0.3645\n",
            "Epoch 50/100\n",
            "642750/642750 [==============================] - 1s 1us/step - loss: 5.2062 - mean_absolute_error: 0.3718 - val_loss: 4.7811 - val_mean_absolute_error: 0.3688\n",
            "Epoch 51/100\n",
            "642750/642750 [==============================] - 1s 1us/step - loss: 5.0470 - mean_absolute_error: 0.3645 - val_loss: 4.7611 - val_mean_absolute_error: 0.3625\n",
            "Epoch 52/100\n",
            "642750/642750 [==============================] - 1s 1us/step - loss: 5.0511 - mean_absolute_error: 0.3656 - val_loss: 4.7728 - val_mean_absolute_error: 0.3673\n",
            "Epoch 53/100\n",
            "642750/642750 [==============================] - 1s 1us/step - loss: 5.0759 - mean_absolute_error: 0.3656 - val_loss: 4.7596 - val_mean_absolute_error: 0.3763\n",
            "Epoch 54/100\n",
            "642750/642750 [==============================] - 1s 1us/step - loss: 5.0009 - mean_absolute_error: 0.3640 - val_loss: 4.8123 - val_mean_absolute_error: 0.4143\n",
            "Epoch 55/100\n",
            "642750/642750 [==============================] - 1s 1us/step - loss: 5.0968 - mean_absolute_error: 0.3615 - val_loss: 4.8012 - val_mean_absolute_error: 0.4060\n",
            "Epoch 56/100\n",
            "642750/642750 [==============================] - 1s 1us/step - loss: 5.0730 - mean_absolute_error: 0.3622 - val_loss: 4.8826 - val_mean_absolute_error: 0.4404\n",
            "Epoch 57/100\n",
            "642750/642750 [==============================] - 1s 1us/step - loss: 5.0367 - mean_absolute_error: 0.3659 - val_loss: 4.7940 - val_mean_absolute_error: 0.3948\n",
            "Epoch 58/100\n",
            "642750/642750 [==============================] - 1s 1us/step - loss: 4.9698 - mean_absolute_error: 0.3663 - val_loss: 4.7714 - val_mean_absolute_error: 0.3782\n",
            "Epoch 59/100\n",
            "642750/642750 [==============================] - 1s 1us/step - loss: 5.0517 - mean_absolute_error: 0.3806 - val_loss: 4.7852 - val_mean_absolute_error: 0.3493\n",
            "Epoch 60/100\n",
            "642750/642750 [==============================] - 1s 1us/step - loss: 5.0124 - mean_absolute_error: 0.3551 - val_loss: 4.7860 - val_mean_absolute_error: 0.3432\n",
            "Epoch 61/100\n",
            "642750/642750 [==============================] - 1s 1us/step - loss: 5.0441 - mean_absolute_error: 0.3732 - val_loss: 4.7650 - val_mean_absolute_error: 0.3558\n",
            "Epoch 62/100\n",
            "642750/642750 [==============================] - 1s 1us/step - loss: 5.0178 - mean_absolute_error: 0.3593 - val_loss: 4.7293 - val_mean_absolute_error: 0.3540\n",
            "Epoch 63/100\n",
            "642750/642750 [==============================] - 1s 1us/step - loss: 4.9600 - mean_absolute_error: 0.3695 - val_loss: 4.7868 - val_mean_absolute_error: 0.3984\n",
            "Epoch 64/100\n",
            "642750/642750 [==============================] - 1s 1us/step - loss: 4.9996 - mean_absolute_error: 0.3704 - val_loss: 4.7512 - val_mean_absolute_error: 0.3680\n",
            "Epoch 65/100\n",
            "642750/642750 [==============================] - 1s 1us/step - loss: 4.9797 - mean_absolute_error: 0.3637 - val_loss: 4.7433 - val_mean_absolute_error: 0.3928\n",
            "Epoch 66/100\n",
            "642750/642750 [==============================] - 1s 1us/step - loss: 4.9948 - mean_absolute_error: 0.3667 - val_loss: 4.7168 - val_mean_absolute_error: 0.3606\n",
            "Epoch 67/100\n",
            "642750/642750 [==============================] - 1s 1us/step - loss: 4.9946 - mean_absolute_error: 0.3669 - val_loss: 4.7721 - val_mean_absolute_error: 0.3503\n",
            "Epoch 68/100\n",
            "642750/642750 [==============================] - 1s 1us/step - loss: 4.9784 - mean_absolute_error: 0.3653 - val_loss: 4.8149 - val_mean_absolute_error: 0.3399\n",
            "Epoch 69/100\n",
            "642750/642750 [==============================] - 1s 1us/step - loss: 4.9559 - mean_absolute_error: 0.3654 - val_loss: 4.8418 - val_mean_absolute_error: 0.3349\n",
            "Epoch 70/100\n",
            "642750/642750 [==============================] - 1s 1us/step - loss: 4.9540 - mean_absolute_error: 0.3600 - val_loss: 4.8088 - val_mean_absolute_error: 0.3352\n",
            "Epoch 71/100\n",
            "642750/642750 [==============================] - 1s 1us/step - loss: 4.8799 - mean_absolute_error: 0.3606 - val_loss: 4.7714 - val_mean_absolute_error: 0.3511\n",
            "Epoch 72/100\n",
            "642750/642750 [==============================] - 1s 1us/step - loss: 4.8711 - mean_absolute_error: 0.3659 - val_loss: 4.7853 - val_mean_absolute_error: 0.3492\n",
            "Epoch 73/100\n",
            "642750/642750 [==============================] - 1s 1us/step - loss: 4.9308 - mean_absolute_error: 0.3589 - val_loss: 4.7394 - val_mean_absolute_error: 0.3518\n",
            "Epoch 74/100\n",
            "642750/642750 [==============================] - 1s 1us/step - loss: 4.9797 - mean_absolute_error: 0.3569 - val_loss: 4.7022 - val_mean_absolute_error: 0.3554\n",
            "Epoch 75/100\n",
            "642750/642750 [==============================] - 1s 1us/step - loss: 4.8367 - mean_absolute_error: 0.3616 - val_loss: 4.7204 - val_mean_absolute_error: 0.3579\n",
            "Epoch 76/100\n",
            "642750/642750 [==============================] - 1s 1us/step - loss: 4.9882 - mean_absolute_error: 0.3570 - val_loss: 4.7354 - val_mean_absolute_error: 0.3576\n",
            "Epoch 77/100\n",
            "642750/642750 [==============================] - 1s 1us/step - loss: 4.8747 - mean_absolute_error: 0.3682 - val_loss: 4.7626 - val_mean_absolute_error: 0.3394\n",
            "Epoch 78/100\n",
            "642750/642750 [==============================] - 1s 1us/step - loss: 4.9209 - mean_absolute_error: 0.3536 - val_loss: 4.7239 - val_mean_absolute_error: 0.3542\n",
            "Epoch 79/100\n",
            "642750/642750 [==============================] - 1s 1us/step - loss: 4.9025 - mean_absolute_error: 0.3649 - val_loss: 4.7417 - val_mean_absolute_error: 0.3579\n",
            "Epoch 80/100\n",
            "642750/642750 [==============================] - 1s 1us/step - loss: 4.8210 - mean_absolute_error: 0.3629 - val_loss: 4.7142 - val_mean_absolute_error: 0.3574\n",
            "Epoch 81/100\n",
            "642750/642750 [==============================] - 1s 1us/step - loss: 4.8331 - mean_absolute_error: 0.3621 - val_loss: 4.7036 - val_mean_absolute_error: 0.3457\n",
            "Epoch 82/100\n",
            "642750/642750 [==============================] - 1s 1us/step - loss: 4.8037 - mean_absolute_error: 0.3584 - val_loss: 4.7506 - val_mean_absolute_error: 0.3420\n",
            "Epoch 83/100\n",
            "642750/642750 [==============================] - 1s 1us/step - loss: 4.8261 - mean_absolute_error: 0.3634 - val_loss: 4.7813 - val_mean_absolute_error: 0.3389\n",
            "Epoch 84/100\n",
            "642750/642750 [==============================] - 1s 1us/step - loss: 4.7876 - mean_absolute_error: 0.3519 - val_loss: 4.7638 - val_mean_absolute_error: 0.3626\n",
            "Epoch 85/100\n",
            "642750/642750 [==============================] - 1s 1us/step - loss: 4.7818 - mean_absolute_error: 0.3638 - val_loss: 4.6852 - val_mean_absolute_error: 0.3779\n",
            "Epoch 86/100\n",
            "642750/642750 [==============================] - 1s 1us/step - loss: 4.8434 - mean_absolute_error: 0.3567 - val_loss: 4.6635 - val_mean_absolute_error: 0.3412\n",
            "Epoch 87/100\n",
            "642750/642750 [==============================] - 1s 1us/step - loss: 4.8112 - mean_absolute_error: 0.3576 - val_loss: 4.7288 - val_mean_absolute_error: 0.3334\n",
            "Epoch 88/100\n",
            "642750/642750 [==============================] - 1s 1us/step - loss: 4.9288 - mean_absolute_error: 0.3500 - val_loss: 4.7717 - val_mean_absolute_error: 0.3291\n",
            "Epoch 89/100\n",
            "642750/642750 [==============================] - 1s 1us/step - loss: 4.8298 - mean_absolute_error: 0.3521 - val_loss: 4.7005 - val_mean_absolute_error: 0.3490\n",
            "Epoch 90/100\n",
            "642750/642750 [==============================] - 1s 1us/step - loss: 4.7979 - mean_absolute_error: 0.3582 - val_loss: 4.7533 - val_mean_absolute_error: 0.3500\n",
            "Epoch 91/100\n",
            "642750/642750 [==============================] - 1s 1us/step - loss: 4.7713 - mean_absolute_error: 0.3578 - val_loss: 4.7440 - val_mean_absolute_error: 0.3536\n",
            "Epoch 92/100\n",
            "642750/642750 [==============================] - 1s 1us/step - loss: 4.7483 - mean_absolute_error: 0.3546 - val_loss: 4.7438 - val_mean_absolute_error: 0.3538\n",
            "Epoch 93/100\n",
            "642750/642750 [==============================] - 1s 1us/step - loss: 4.7445 - mean_absolute_error: 0.3593 - val_loss: 4.7039 - val_mean_absolute_error: 0.3545\n",
            "Epoch 94/100\n",
            "642750/642750 [==============================] - 1s 1us/step - loss: 4.6957 - mean_absolute_error: 0.3562 - val_loss: 4.6440 - val_mean_absolute_error: 0.3571\n",
            "Epoch 95/100\n",
            "642750/642750 [==============================] - 1s 1us/step - loss: 4.8128 - mean_absolute_error: 0.3567 - val_loss: 4.6131 - val_mean_absolute_error: 0.3763\n",
            "Epoch 96/100\n",
            "642750/642750 [==============================] - 1s 1us/step - loss: 4.7003 - mean_absolute_error: 0.3638 - val_loss: 4.6641 - val_mean_absolute_error: 0.3552\n",
            "Epoch 97/100\n",
            "642750/642750 [==============================] - 1s 1us/step - loss: 4.7107 - mean_absolute_error: 0.3541 - val_loss: 4.6728 - val_mean_absolute_error: 0.3491\n",
            "Epoch 98/100\n",
            "642750/642750 [==============================] - 1s 1us/step - loss: 4.8732 - mean_absolute_error: 0.3648 - val_loss: 4.6571 - val_mean_absolute_error: 0.3678\n",
            "Epoch 99/100\n",
            "642750/642750 [==============================] - 1s 1us/step - loss: 4.8014 - mean_absolute_error: 0.3493 - val_loss: 4.7982 - val_mean_absolute_error: 0.3965\n",
            "Epoch 100/100\n",
            "642750/642750 [==============================] - 1s 1us/step - loss: 4.7630 - mean_absolute_error: 0.3500 - val_loss: 4.7159 - val_mean_absolute_error: 0.3983\n",
            "CPU times: user 1min 8s, sys: 6.22 s, total: 1min 14s\n",
            "Wall time: 1min 20s\n"
          ],
          "name": "stdout"
        }
      ]
    },
    {
      "metadata": {
        "id": "pGGlQlmjEPO1",
        "colab_type": "code",
        "colab": {}
      },
      "cell_type": "code",
      "source": [
        "#history.history"
      ],
      "execution_count": 0,
      "outputs": []
    },
    {
      "metadata": {
        "id": "E9tsa19a7Htb",
        "colab_type": "code",
        "outputId": "1637c2c9-985b-4f25-d176-8b5833efcdc2",
        "colab": {
          "base_uri": "https://localhost:8080/",
          "height": 51
        }
      },
      "cell_type": "code",
      "source": [
        "%%time\n",
        "model.save(filename)\n",
        "\n",
        "#files.download(filename)"
      ],
      "execution_count": 14,
      "outputs": [
        {
          "output_type": "stream",
          "text": [
            "CPU times: user 77 ms, sys: 14 ms, total: 91 ms\n",
            "Wall time: 107 ms\n"
          ],
          "name": "stdout"
        }
      ]
    },
    {
      "metadata": {
        "id": "HCYvg4og5SCb",
        "colab_type": "code",
        "colab": {}
      },
      "cell_type": "code",
      "source": [
        ""
      ],
      "execution_count": 0,
      "outputs": []
    }
  ]
}
