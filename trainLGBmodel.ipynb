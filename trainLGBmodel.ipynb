{
  "nbformat": 4,
  "nbformat_minor": 0,
  "metadata": {
    "colab": {
      "name": "trainLGBmodel.ipynb",
      "version": "0.3.2",
      "provenance": [],
      "collapsed_sections": [],
      "include_colab_link": true
    },
    "kernelspec": {
      "name": "python3",
      "display_name": "Python 3"
    },
    "accelerator": "GPU"
  },
  "cells": [
    {
      "cell_type": "markdown",
      "metadata": {
        "id": "view-in-github",
        "colab_type": "text"
      },
      "source": [
        "[View in Colaboratory](https://colab.research.google.com/github/kyokicchi/ggl_an_codes/blob/master/trainLGBmodel.ipynb)"
      ]
    },
    {
      "metadata": {
        "id": "H8X_jxlYnrn3",
        "colab_type": "code",
        "outputId": "f4bac17d-6426-46ee-baa0-a5bb6ebd608c",
        "colab": {
          "base_uri": "https://localhost:8080/",
          "height": 152
        }
      },
      "cell_type": "code",
      "source": [
        "!pip install lightgbm"
      ],
      "execution_count": 1,
      "outputs": [
        {
          "output_type": "stream",
          "text": [
            "Collecting lightgbm\n",
            "\u001b[?25l  Downloading https://files.pythonhosted.org/packages/78/7e/bc87e7951cfaa998cffaf39e6c721f5bd04efb2e139486206356edb289a5/lightgbm-2.2.1-py2.py3-none-manylinux1_x86_64.whl (1.1MB)\n",
            "\u001b[K    100% |████████████████████████████████| 1.1MB 7.7MB/s \n",
            "\u001b[?25hRequirement already satisfied: numpy in /usr/local/lib/python3.6/dist-packages (from lightgbm) (1.14.6)\n",
            "Requirement already satisfied: scikit-learn in /usr/local/lib/python3.6/dist-packages (from lightgbm) (0.19.2)\n",
            "Requirement already satisfied: scipy in /usr/local/lib/python3.6/dist-packages (from lightgbm) (0.19.1)\n",
            "Installing collected packages: lightgbm\n",
            "Successfully installed lightgbm-2.2.1\n"
          ],
          "name": "stdout"
        }
      ]
    },
    {
      "metadata": {
        "id": "7PrvKZYHs9n0",
        "colab_type": "code",
        "colab": {}
      },
      "cell_type": "code",
      "source": [
        "import lightgbm as lgb\n",
        "import numpy as np\n",
        "import pandas as pd\n",
        "from google.colab import drive\n",
        "from google.colab import files\n",
        "from sklearn.model_selection import train_test_split\n",
        "import pickle"
      ],
      "execution_count": 0,
      "outputs": []
    },
    {
      "metadata": {
        "id": "Uujx3hEhjfnX",
        "colab_type": "code",
        "outputId": "316691cf-b49d-47e5-beba-8906c258cf97",
        "colab": {
          "base_uri": "https://localhost:8080/",
          "height": 121
        }
      },
      "cell_type": "code",
      "source": [
        "drive.mount('/content/gdrive')"
      ],
      "execution_count": 3,
      "outputs": [
        {
          "output_type": "stream",
          "text": [
            "Go to this URL in a browser: https://accounts.google.com/o/oauth2/auth?client_id=947318989803-6bn6qk8qdgf4n4g3pfee6491hc0brc4i.apps.googleusercontent.com&redirect_uri=urn%3Aietf%3Awg%3Aoauth%3A2.0%3Aoob&scope=email%20https%3A%2F%2Fwww.googleapis.com%2Fauth%2Fdocs.test%20https%3A%2F%2Fwww.googleapis.com%2Fauth%2Fdrive%20https%3A%2F%2Fwww.googleapis.com%2Fauth%2Fdrive.photos.readonly%20https%3A%2F%2Fwww.googleapis.com%2Fauth%2Fpeopleapi.readonly&response_type=code\n",
            "\n",
            "Enter your authorization code:\n",
            "··········\n",
            "Mounted at /content/gdrive\n"
          ],
          "name": "stdout"
        }
      ]
    },
    {
      "metadata": {
        "id": "LT06pjlMus4d",
        "colab_type": "code",
        "outputId": "32086a31-1ed9-4e33-9b9f-68872b1ffeea",
        "colab": {
          "base_uri": "https://localhost:8080/",
          "height": 68
        }
      },
      "cell_type": "code",
      "source": [
        "%cd ../content/gdrive/My Drive/projects/ggl_an/\n",
        "%ls"
      ],
      "execution_count": 4,
      "outputs": [
        {
          "output_type": "stream",
          "text": [
            "/content/gdrive/My Drive/projects/ggl_an\n",
            "model_LGB.sav  model_XGB.sav  user_test.csv    user_train.csv\n",
            "model_NN.h5    output.csv     user_test_n.csv  user_train_n.csv\n"
          ],
          "name": "stdout"
        }
      ]
    },
    {
      "metadata": {
        "id": "8mAcQ8lo8Ixk",
        "colab_type": "code",
        "colab": {}
      },
      "cell_type": "code",
      "source": [
        "s_data = 'user_train.csv'\n",
        "filename = 'model_LGB.sav'\n",
        "s_col_tgt = 'transactionRevenue'\n",
        "l_col_drop = [s_col_tgt]"
      ],
      "execution_count": 0,
      "outputs": []
    },
    {
      "metadata": {
        "id": "dOrJ1yGmnbrk",
        "colab_type": "code",
        "outputId": "641130da-405d-4391-b0b2-b836172c5dc6",
        "colab": {
          "base_uri": "https://localhost:8080/",
          "height": 68
        }
      },
      "cell_type": "code",
      "source": [
        "%%time\n",
        "df_train = pd.read_csv(s_data, index_col = 0)"
      ],
      "execution_count": 6,
      "outputs": [
        {
          "output_type": "stream",
          "text": [
            "CPU times: user 2.94 s, sys: 519 ms, total: 3.46 s\n",
            "Wall time: 5.02 s\n"
          ],
          "name": "stdout"
        },
        {
          "output_type": "stream",
          "text": [
            "<string>:2: DtypeWarning: Columns (0) have mixed types. Specify dtype option on import or set low_memory=False.\n"
          ],
          "name": "stderr"
        }
      ]
    },
    {
      "metadata": {
        "id": "EtSbg4yv8Ch-",
        "colab_type": "code",
        "outputId": "dd21f133-40dc-44d6-f569-91ec31384800",
        "colab": {
          "base_uri": "https://localhost:8080/",
          "height": 51
        }
      },
      "cell_type": "code",
      "source": [
        "%%time\n",
        "df_y = df_train[s_col_tgt]\n",
        "df_x = df_train.drop(l_col_drop, axis=1)"
      ],
      "execution_count": 9,
      "outputs": [
        {
          "output_type": "stream",
          "text": [
            "CPU times: user 43.4 ms, sys: 107 ms, total: 150 ms\n",
            "Wall time: 149 ms\n"
          ],
          "name": "stdout"
        }
      ]
    },
    {
      "metadata": {
        "id": "sYWeiNW0j9cr",
        "colab_type": "code",
        "outputId": "a0375da4-49ca-46e6-b6ca-44138f19c3d2",
        "colab": {
          "base_uri": "https://localhost:8080/",
          "height": 51
        }
      },
      "cell_type": "code",
      "source": [
        "%%time\n",
        "x_train, x_test, y_train, y_test = train_test_split(df_x, df_y)\n",
        "x_eval, x_valid, y_eval, y_valid = train_test_split(x_test, y_test)\n",
        "\n"
      ],
      "execution_count": 10,
      "outputs": [
        {
          "output_type": "stream",
          "text": [
            "CPU times: user 979 ms, sys: 47.4 ms, total: 1.03 s\n",
            "Wall time: 1.03 s\n"
          ],
          "name": "stdout"
        }
      ]
    },
    {
      "metadata": {
        "id": "A9vk5vnLlGFL",
        "colab_type": "code",
        "colab": {}
      },
      "cell_type": "code",
      "source": [
        "\n",
        "params = {\n",
        "    'learning_rate': 0.08,\n",
        "    'n_estimators': 1000,\n",
        "    'num_leaves': 128,\n",
        "    'subsample': 0.2217,\n",
        "    'colsample_bytree': 0.6810,\n",
        "    'min_split_gain': np.power(10.0, -4.9380),\n",
        "    'reg_alpha': np.power(10.0, -3.2454),\n",
        "    'reg_lambda': np.power(10.0, -4.8571),\n",
        "    'min_child_weight': np.power(10.0, 2),\n",
        "    'silent': True\n",
        "}\n",
        "\n",
        "model = lgb.LGBMRegressor(**params)\n",
        "\n"
      ],
      "execution_count": 0,
      "outputs": []
    },
    {
      "metadata": {
        "id": "ItMWaVwslMJi",
        "colab_type": "code",
        "outputId": "dd2b9d59-1d03-4476-dadf-aedc675a780d",
        "colab": {
          "base_uri": "https://localhost:8080/",
          "height": 7971
        }
      },
      "cell_type": "code",
      "source": [
        "%%time\n",
        "model.fit(x_train, \n",
        "          y_train,\n",
        "          eval_set=[(x_train, y_train),(x_eval, y_eval)],\n",
        "          eval_metric='rmse',\n",
        "          early_stopping_rounds = 300)"
      ],
      "execution_count": 17,
      "outputs": [
        {
          "output_type": "stream",
          "text": [
            "[1]\ttraining's l2: 8.18662\ttraining's rmse: 2.86123\tvalid_1's l2: 7.73974\tvalid_1's rmse: 2.78204\n",
            "Training until validation scores don't improve for 300 rounds.\n",
            "[2]\ttraining's l2: 7.83252\ttraining's rmse: 2.79866\tvalid_1's l2: 7.39949\tvalid_1's rmse: 2.7202\n",
            "[3]\ttraining's l2: 7.53654\ttraining's rmse: 2.74528\tvalid_1's l2: 7.11135\tvalid_1's rmse: 2.66671\n",
            "[4]\ttraining's l2: 7.28971\ttraining's rmse: 2.69995\tvalid_1's l2: 6.8709\tvalid_1's rmse: 2.62124\n",
            "[5]\ttraining's l2: 7.06006\ttraining's rmse: 2.65708\tvalid_1's l2: 6.65733\tvalid_1's rmse: 2.58018\n",
            "[6]\ttraining's l2: 6.87297\ttraining's rmse: 2.62164\tvalid_1's l2: 6.48487\tvalid_1's rmse: 2.54654\n",
            "[7]\ttraining's l2: 6.70875\ttraining's rmse: 2.59013\tvalid_1's l2: 6.3211\tvalid_1's rmse: 2.51418\n",
            "[8]\ttraining's l2: 6.55133\ttraining's rmse: 2.55956\tvalid_1's l2: 6.18107\tvalid_1's rmse: 2.48618\n",
            "[9]\ttraining's l2: 6.4267\ttraining's rmse: 2.53509\tvalid_1's l2: 6.07134\tvalid_1's rmse: 2.46401\n",
            "[10]\ttraining's l2: 6.3115\ttraining's rmse: 2.51227\tvalid_1's l2: 5.97162\tvalid_1's rmse: 2.44369\n",
            "[11]\ttraining's l2: 6.20658\ttraining's rmse: 2.4913\tvalid_1's l2: 5.88151\tvalid_1's rmse: 2.42518\n",
            "[12]\ttraining's l2: 6.10639\ttraining's rmse: 2.47111\tvalid_1's l2: 5.79959\tvalid_1's rmse: 2.40823\n",
            "[13]\ttraining's l2: 6.03168\ttraining's rmse: 2.45595\tvalid_1's l2: 5.73894\tvalid_1's rmse: 2.39561\n",
            "[14]\ttraining's l2: 5.95677\ttraining's rmse: 2.44065\tvalid_1's l2: 5.67557\tvalid_1's rmse: 2.38234\n",
            "[15]\ttraining's l2: 5.8882\ttraining's rmse: 2.42656\tvalid_1's l2: 5.61891\tvalid_1's rmse: 2.37042\n",
            "[16]\ttraining's l2: 5.83609\ttraining's rmse: 2.4158\tvalid_1's l2: 5.57941\tvalid_1's rmse: 2.36208\n",
            "[17]\ttraining's l2: 5.78709\ttraining's rmse: 2.40564\tvalid_1's l2: 5.54355\tvalid_1's rmse: 2.35448\n",
            "[18]\ttraining's l2: 5.73666\ttraining's rmse: 2.39513\tvalid_1's l2: 5.50486\tvalid_1's rmse: 2.34624\n",
            "[19]\ttraining's l2: 5.69399\ttraining's rmse: 2.38621\tvalid_1's l2: 5.47737\tvalid_1's rmse: 2.34038\n",
            "[20]\ttraining's l2: 5.66091\ttraining's rmse: 2.37927\tvalid_1's l2: 5.45618\tvalid_1's rmse: 2.33585\n",
            "[21]\ttraining's l2: 5.61762\ttraining's rmse: 2.37015\tvalid_1's l2: 5.42755\tvalid_1's rmse: 2.32971\n",
            "[22]\ttraining's l2: 5.57695\ttraining's rmse: 2.36156\tvalid_1's l2: 5.40017\tvalid_1's rmse: 2.32383\n",
            "[23]\ttraining's l2: 5.54754\ttraining's rmse: 2.35532\tvalid_1's l2: 5.38076\tvalid_1's rmse: 2.31965\n",
            "[24]\ttraining's l2: 5.51452\ttraining's rmse: 2.3483\tvalid_1's l2: 5.36567\tvalid_1's rmse: 2.31639\n",
            "[25]\ttraining's l2: 5.48113\ttraining's rmse: 2.34118\tvalid_1's l2: 5.34512\tvalid_1's rmse: 2.31195\n",
            "[26]\ttraining's l2: 5.45308\ttraining's rmse: 2.33518\tvalid_1's l2: 5.3339\tvalid_1's rmse: 2.30952\n",
            "[27]\ttraining's l2: 5.42826\ttraining's rmse: 2.32986\tvalid_1's l2: 5.32027\tvalid_1's rmse: 2.30657\n",
            "[28]\ttraining's l2: 5.40208\ttraining's rmse: 2.32424\tvalid_1's l2: 5.3084\tvalid_1's rmse: 2.304\n",
            "[29]\ttraining's l2: 5.37903\ttraining's rmse: 2.31927\tvalid_1's l2: 5.29608\tvalid_1's rmse: 2.30132\n",
            "[30]\ttraining's l2: 5.3554\ttraining's rmse: 2.31417\tvalid_1's l2: 5.28547\tvalid_1's rmse: 2.29902\n",
            "[31]\ttraining's l2: 5.33489\ttraining's rmse: 2.30974\tvalid_1's l2: 5.27828\tvalid_1's rmse: 2.29745\n",
            "[32]\ttraining's l2: 5.31525\ttraining's rmse: 2.30548\tvalid_1's l2: 5.26951\tvalid_1's rmse: 2.29554\n",
            "[33]\ttraining's l2: 5.30409\ttraining's rmse: 2.30306\tvalid_1's l2: 5.26207\tvalid_1's rmse: 2.29392\n",
            "[34]\ttraining's l2: 5.28214\ttraining's rmse: 2.29829\tvalid_1's l2: 5.2528\tvalid_1's rmse: 2.2919\n",
            "[35]\ttraining's l2: 5.26772\ttraining's rmse: 2.29515\tvalid_1's l2: 5.24818\tvalid_1's rmse: 2.29089\n",
            "[36]\ttraining's l2: 5.24593\ttraining's rmse: 2.2904\tvalid_1's l2: 5.23614\tvalid_1's rmse: 2.28826\n",
            "[37]\ttraining's l2: 5.22972\ttraining's rmse: 2.28686\tvalid_1's l2: 5.23504\tvalid_1's rmse: 2.28802\n",
            "[38]\ttraining's l2: 5.20948\ttraining's rmse: 2.28243\tvalid_1's l2: 5.22562\tvalid_1's rmse: 2.28596\n",
            "[39]\ttraining's l2: 5.19067\ttraining's rmse: 2.2783\tvalid_1's l2: 5.21659\tvalid_1's rmse: 2.28398\n",
            "[40]\ttraining's l2: 5.17325\ttraining's rmse: 2.27448\tvalid_1's l2: 5.21294\tvalid_1's rmse: 2.28319\n",
            "[41]\ttraining's l2: 5.15973\ttraining's rmse: 2.2715\tvalid_1's l2: 5.20935\tvalid_1's rmse: 2.2824\n",
            "[42]\ttraining's l2: 5.14513\ttraining's rmse: 2.26829\tvalid_1's l2: 5.20546\tvalid_1's rmse: 2.28155\n",
            "[43]\ttraining's l2: 5.1305\ttraining's rmse: 2.26506\tvalid_1's l2: 5.20034\tvalid_1's rmse: 2.28042\n",
            "[44]\ttraining's l2: 5.11737\ttraining's rmse: 2.26216\tvalid_1's l2: 5.19628\tvalid_1's rmse: 2.27954\n",
            "[45]\ttraining's l2: 5.10455\ttraining's rmse: 2.25932\tvalid_1's l2: 5.19072\tvalid_1's rmse: 2.27831\n",
            "[46]\ttraining's l2: 5.09324\ttraining's rmse: 2.25682\tvalid_1's l2: 5.18671\tvalid_1's rmse: 2.27743\n",
            "[47]\ttraining's l2: 5.0777\ttraining's rmse: 2.25338\tvalid_1's l2: 5.18345\tvalid_1's rmse: 2.27672\n",
            "[48]\ttraining's l2: 5.06819\ttraining's rmse: 2.25126\tvalid_1's l2: 5.1796\tvalid_1's rmse: 2.27587\n",
            "[49]\ttraining's l2: 5.05312\ttraining's rmse: 2.24792\tvalid_1's l2: 5.1738\tvalid_1's rmse: 2.2746\n",
            "[50]\ttraining's l2: 5.04046\ttraining's rmse: 2.2451\tvalid_1's l2: 5.16821\tvalid_1's rmse: 2.27337\n",
            "[51]\ttraining's l2: 5.03008\ttraining's rmse: 2.24278\tvalid_1's l2: 5.16489\tvalid_1's rmse: 2.27264\n",
            "[52]\ttraining's l2: 5.01857\ttraining's rmse: 2.24022\tvalid_1's l2: 5.16089\tvalid_1's rmse: 2.27176\n",
            "[53]\ttraining's l2: 5.00563\ttraining's rmse: 2.23733\tvalid_1's l2: 5.15578\tvalid_1's rmse: 2.27064\n",
            "[54]\ttraining's l2: 4.99365\ttraining's rmse: 2.23465\tvalid_1's l2: 5.1528\tvalid_1's rmse: 2.26998\n",
            "[55]\ttraining's l2: 4.9813\ttraining's rmse: 2.23188\tvalid_1's l2: 5.14971\tvalid_1's rmse: 2.2693\n",
            "[56]\ttraining's l2: 4.96643\ttraining's rmse: 2.22855\tvalid_1's l2: 5.14658\tvalid_1's rmse: 2.26861\n",
            "[57]\ttraining's l2: 4.9529\ttraining's rmse: 2.22551\tvalid_1's l2: 5.14598\tvalid_1's rmse: 2.26847\n",
            "[58]\ttraining's l2: 4.94199\ttraining's rmse: 2.22306\tvalid_1's l2: 5.14266\tvalid_1's rmse: 2.26774\n",
            "[59]\ttraining's l2: 4.93339\ttraining's rmse: 2.22112\tvalid_1's l2: 5.1381\tvalid_1's rmse: 2.26674\n",
            "[60]\ttraining's l2: 4.92281\ttraining's rmse: 2.21874\tvalid_1's l2: 5.13339\tvalid_1's rmse: 2.2657\n",
            "[61]\ttraining's l2: 4.91393\ttraining's rmse: 2.21674\tvalid_1's l2: 5.13122\tvalid_1's rmse: 2.26522\n",
            "[62]\ttraining's l2: 4.90441\ttraining's rmse: 2.21459\tvalid_1's l2: 5.12832\tvalid_1's rmse: 2.26458\n",
            "[63]\ttraining's l2: 4.89115\ttraining's rmse: 2.21159\tvalid_1's l2: 5.12181\tvalid_1's rmse: 2.26314\n",
            "[64]\ttraining's l2: 4.8813\ttraining's rmse: 2.20937\tvalid_1's l2: 5.1196\tvalid_1's rmse: 2.26265\n",
            "[65]\ttraining's l2: 4.87348\ttraining's rmse: 2.2076\tvalid_1's l2: 5.11848\tvalid_1's rmse: 2.26241\n",
            "[66]\ttraining's l2: 4.86486\ttraining's rmse: 2.20564\tvalid_1's l2: 5.11472\tvalid_1's rmse: 2.26157\n",
            "[67]\ttraining's l2: 4.85799\ttraining's rmse: 2.20408\tvalid_1's l2: 5.11159\tvalid_1's rmse: 2.26088\n",
            "[68]\ttraining's l2: 4.85055\ttraining's rmse: 2.2024\tvalid_1's l2: 5.11057\tvalid_1's rmse: 2.26066\n",
            "[69]\ttraining's l2: 4.84231\ttraining's rmse: 2.20053\tvalid_1's l2: 5.10347\tvalid_1's rmse: 2.25909\n",
            "[70]\ttraining's l2: 4.83562\ttraining's rmse: 2.199\tvalid_1's l2: 5.10415\tvalid_1's rmse: 2.25924\n",
            "[71]\ttraining's l2: 4.82723\ttraining's rmse: 2.1971\tvalid_1's l2: 5.10423\tvalid_1's rmse: 2.25925\n",
            "[72]\ttraining's l2: 4.81852\ttraining's rmse: 2.19511\tvalid_1's l2: 5.10268\tvalid_1's rmse: 2.25891\n",
            "[73]\ttraining's l2: 4.80894\ttraining's rmse: 2.19293\tvalid_1's l2: 5.10131\tvalid_1's rmse: 2.25861\n",
            "[74]\ttraining's l2: 4.80185\ttraining's rmse: 2.19131\tvalid_1's l2: 5.10166\tvalid_1's rmse: 2.25868\n",
            "[75]\ttraining's l2: 4.79328\ttraining's rmse: 2.18936\tvalid_1's l2: 5.10121\tvalid_1's rmse: 2.25859\n",
            "[76]\ttraining's l2: 4.78655\ttraining's rmse: 2.18782\tvalid_1's l2: 5.10082\tvalid_1's rmse: 2.2585\n",
            "[77]\ttraining's l2: 4.77778\ttraining's rmse: 2.18581\tvalid_1's l2: 5.09573\tvalid_1's rmse: 2.25737\n",
            "[78]\ttraining's l2: 4.77129\ttraining's rmse: 2.18433\tvalid_1's l2: 5.09638\tvalid_1's rmse: 2.25752\n",
            "[79]\ttraining's l2: 4.76438\ttraining's rmse: 2.18274\tvalid_1's l2: 5.09674\tvalid_1's rmse: 2.2576\n",
            "[80]\ttraining's l2: 4.7575\ttraining's rmse: 2.18117\tvalid_1's l2: 5.09488\tvalid_1's rmse: 2.25718\n",
            "[81]\ttraining's l2: 4.74914\ttraining's rmse: 2.17925\tvalid_1's l2: 5.0954\tvalid_1's rmse: 2.2573\n",
            "[82]\ttraining's l2: 4.74227\ttraining's rmse: 2.17768\tvalid_1's l2: 5.09507\tvalid_1's rmse: 2.25723\n",
            "[83]\ttraining's l2: 4.73216\ttraining's rmse: 2.17535\tvalid_1's l2: 5.09323\tvalid_1's rmse: 2.25682\n",
            "[84]\ttraining's l2: 4.72691\ttraining's rmse: 2.17414\tvalid_1's l2: 5.09296\tvalid_1's rmse: 2.25676\n",
            "[85]\ttraining's l2: 4.72076\ttraining's rmse: 2.17273\tvalid_1's l2: 5.08952\tvalid_1's rmse: 2.256\n",
            "[86]\ttraining's l2: 4.71313\ttraining's rmse: 2.17097\tvalid_1's l2: 5.0862\tvalid_1's rmse: 2.25526\n",
            "[87]\ttraining's l2: 4.70759\ttraining's rmse: 2.1697\tvalid_1's l2: 5.08684\tvalid_1's rmse: 2.2554\n",
            "[88]\ttraining's l2: 4.70136\ttraining's rmse: 2.16826\tvalid_1's l2: 5.08821\tvalid_1's rmse: 2.25571\n",
            "[89]\ttraining's l2: 4.69475\ttraining's rmse: 2.16674\tvalid_1's l2: 5.08839\tvalid_1's rmse: 2.25575\n",
            "[90]\ttraining's l2: 4.68671\ttraining's rmse: 2.16488\tvalid_1's l2: 5.0862\tvalid_1's rmse: 2.25526\n",
            "[91]\ttraining's l2: 4.68109\ttraining's rmse: 2.16358\tvalid_1's l2: 5.08852\tvalid_1's rmse: 2.25578\n",
            "[92]\ttraining's l2: 4.6734\ttraining's rmse: 2.16181\tvalid_1's l2: 5.08851\tvalid_1's rmse: 2.25577\n",
            "[93]\ttraining's l2: 4.66711\ttraining's rmse: 2.16035\tvalid_1's l2: 5.08683\tvalid_1's rmse: 2.2554\n",
            "[94]\ttraining's l2: 4.66125\ttraining's rmse: 2.15899\tvalid_1's l2: 5.08522\tvalid_1's rmse: 2.25504\n",
            "[95]\ttraining's l2: 4.65604\ttraining's rmse: 2.15778\tvalid_1's l2: 5.08574\tvalid_1's rmse: 2.25516\n",
            "[96]\ttraining's l2: 4.64893\ttraining's rmse: 2.15614\tvalid_1's l2: 5.08192\tvalid_1's rmse: 2.25431\n",
            "[97]\ttraining's l2: 4.64078\ttraining's rmse: 2.15425\tvalid_1's l2: 5.08\tvalid_1's rmse: 2.25389\n",
            "[98]\ttraining's l2: 4.6333\ttraining's rmse: 2.15251\tvalid_1's l2: 5.07745\tvalid_1's rmse: 2.25332\n",
            "[99]\ttraining's l2: 4.62538\ttraining's rmse: 2.15067\tvalid_1's l2: 5.07801\tvalid_1's rmse: 2.25344\n",
            "[100]\ttraining's l2: 4.61829\ttraining's rmse: 2.14902\tvalid_1's l2: 5.07695\tvalid_1's rmse: 2.25321\n",
            "[101]\ttraining's l2: 4.61033\ttraining's rmse: 2.14717\tvalid_1's l2: 5.07787\tvalid_1's rmse: 2.25341\n",
            "[102]\ttraining's l2: 4.60562\ttraining's rmse: 2.14607\tvalid_1's l2: 5.07745\tvalid_1's rmse: 2.25332\n",
            "[103]\ttraining's l2: 4.59965\ttraining's rmse: 2.14468\tvalid_1's l2: 5.07654\tvalid_1's rmse: 2.25312\n",
            "[104]\ttraining's l2: 4.59449\ttraining's rmse: 2.14348\tvalid_1's l2: 5.07636\tvalid_1's rmse: 2.25308\n",
            "[105]\ttraining's l2: 4.58798\ttraining's rmse: 2.14196\tvalid_1's l2: 5.07451\tvalid_1's rmse: 2.25267\n",
            "[106]\ttraining's l2: 4.58033\ttraining's rmse: 2.14017\tvalid_1's l2: 5.0755\tvalid_1's rmse: 2.25289\n",
            "[107]\ttraining's l2: 4.57362\ttraining's rmse: 2.1386\tvalid_1's l2: 5.07413\tvalid_1's rmse: 2.25258\n",
            "[108]\ttraining's l2: 4.56872\ttraining's rmse: 2.13746\tvalid_1's l2: 5.07391\tvalid_1's rmse: 2.25253\n",
            "[109]\ttraining's l2: 4.56331\ttraining's rmse: 2.13619\tvalid_1's l2: 5.07259\tvalid_1's rmse: 2.25224\n",
            "[110]\ttraining's l2: 4.55617\ttraining's rmse: 2.13452\tvalid_1's l2: 5.07212\tvalid_1's rmse: 2.25214\n",
            "[111]\ttraining's l2: 4.55018\ttraining's rmse: 2.13312\tvalid_1's l2: 5.0687\tvalid_1's rmse: 2.25138\n",
            "[112]\ttraining's l2: 4.54301\ttraining's rmse: 2.13143\tvalid_1's l2: 5.07058\tvalid_1's rmse: 2.2518\n",
            "[113]\ttraining's l2: 4.53642\ttraining's rmse: 2.12989\tvalid_1's l2: 5.06669\tvalid_1's rmse: 2.25093\n",
            "[114]\ttraining's l2: 4.52888\ttraining's rmse: 2.12812\tvalid_1's l2: 5.06455\tvalid_1's rmse: 2.25046\n",
            "[115]\ttraining's l2: 4.52121\ttraining's rmse: 2.12631\tvalid_1's l2: 5.06295\tvalid_1's rmse: 2.2501\n",
            "[116]\ttraining's l2: 4.51669\ttraining's rmse: 2.12525\tvalid_1's l2: 5.06318\tvalid_1's rmse: 2.25015\n",
            "[117]\ttraining's l2: 4.51205\ttraining's rmse: 2.12416\tvalid_1's l2: 5.06303\tvalid_1's rmse: 2.25012\n",
            "[118]\ttraining's l2: 4.50273\ttraining's rmse: 2.12196\tvalid_1's l2: 5.06168\tvalid_1's rmse: 2.24982\n",
            "[119]\ttraining's l2: 4.49697\ttraining's rmse: 2.12061\tvalid_1's l2: 5.06313\tvalid_1's rmse: 2.25014\n",
            "[120]\ttraining's l2: 4.49071\ttraining's rmse: 2.11913\tvalid_1's l2: 5.06178\tvalid_1's rmse: 2.24984\n",
            "[121]\ttraining's l2: 4.48468\ttraining's rmse: 2.11771\tvalid_1's l2: 5.06002\tvalid_1's rmse: 2.24945\n",
            "[122]\ttraining's l2: 4.47587\ttraining's rmse: 2.11563\tvalid_1's l2: 5.05727\tvalid_1's rmse: 2.24884\n",
            "[123]\ttraining's l2: 4.46914\ttraining's rmse: 2.11403\tvalid_1's l2: 5.05501\tvalid_1's rmse: 2.24834\n",
            "[124]\ttraining's l2: 4.46291\ttraining's rmse: 2.11256\tvalid_1's l2: 5.05657\tvalid_1's rmse: 2.24868\n",
            "[125]\ttraining's l2: 4.45677\ttraining's rmse: 2.11111\tvalid_1's l2: 5.05708\tvalid_1's rmse: 2.2488\n",
            "[126]\ttraining's l2: 4.44948\ttraining's rmse: 2.10938\tvalid_1's l2: 5.05823\tvalid_1's rmse: 2.24905\n",
            "[127]\ttraining's l2: 4.4443\ttraining's rmse: 2.10815\tvalid_1's l2: 5.0575\tvalid_1's rmse: 2.24889\n",
            "[128]\ttraining's l2: 4.43781\ttraining's rmse: 2.10661\tvalid_1's l2: 5.05668\tvalid_1's rmse: 2.24871\n",
            "[129]\ttraining's l2: 4.43355\ttraining's rmse: 2.1056\tvalid_1's l2: 5.05639\tvalid_1's rmse: 2.24864\n",
            "[130]\ttraining's l2: 4.42842\ttraining's rmse: 2.10438\tvalid_1's l2: 5.05344\tvalid_1's rmse: 2.24799\n",
            "[131]\ttraining's l2: 4.42466\ttraining's rmse: 2.10349\tvalid_1's l2: 5.05284\tvalid_1's rmse: 2.24785\n",
            "[132]\ttraining's l2: 4.41921\ttraining's rmse: 2.10219\tvalid_1's l2: 5.05095\tvalid_1's rmse: 2.24743\n",
            "[133]\ttraining's l2: 4.41329\ttraining's rmse: 2.10078\tvalid_1's l2: 5.04958\tvalid_1's rmse: 2.24713\n",
            "[134]\ttraining's l2: 4.4076\ttraining's rmse: 2.09943\tvalid_1's l2: 5.04493\tvalid_1's rmse: 2.24609\n",
            "[135]\ttraining's l2: 4.40176\ttraining's rmse: 2.09804\tvalid_1's l2: 5.04589\tvalid_1's rmse: 2.24631\n",
            "[136]\ttraining's l2: 4.39603\ttraining's rmse: 2.09667\tvalid_1's l2: 5.04369\tvalid_1's rmse: 2.24582\n",
            "[137]\ttraining's l2: 4.39079\ttraining's rmse: 2.09542\tvalid_1's l2: 5.04406\tvalid_1's rmse: 2.2459\n",
            "[138]\ttraining's l2: 4.38128\ttraining's rmse: 2.09315\tvalid_1's l2: 5.03752\tvalid_1's rmse: 2.24444\n",
            "[139]\ttraining's l2: 4.37515\ttraining's rmse: 2.09169\tvalid_1's l2: 5.03936\tvalid_1's rmse: 2.24485\n",
            "[140]\ttraining's l2: 4.36829\ttraining's rmse: 2.09005\tvalid_1's l2: 5.03619\tvalid_1's rmse: 2.24414\n",
            "[141]\ttraining's l2: 4.36392\ttraining's rmse: 2.089\tvalid_1's l2: 5.0368\tvalid_1's rmse: 2.24428\n",
            "[142]\ttraining's l2: 4.35953\ttraining's rmse: 2.08795\tvalid_1's l2: 5.03869\tvalid_1's rmse: 2.2447\n",
            "[143]\ttraining's l2: 4.35593\ttraining's rmse: 2.08709\tvalid_1's l2: 5.03962\tvalid_1's rmse: 2.24491\n",
            "[144]\ttraining's l2: 4.35336\ttraining's rmse: 2.08647\tvalid_1's l2: 5.04028\tvalid_1's rmse: 2.24506\n",
            "[145]\ttraining's l2: 4.34808\ttraining's rmse: 2.08521\tvalid_1's l2: 5.03884\tvalid_1's rmse: 2.24474\n",
            "[146]\ttraining's l2: 4.34112\ttraining's rmse: 2.08354\tvalid_1's l2: 5.03901\tvalid_1's rmse: 2.24477\n",
            "[147]\ttraining's l2: 4.3358\ttraining's rmse: 2.08226\tvalid_1's l2: 5.03929\tvalid_1's rmse: 2.24484\n",
            "[148]\ttraining's l2: 4.33047\ttraining's rmse: 2.08098\tvalid_1's l2: 5.03855\tvalid_1's rmse: 2.24467\n",
            "[149]\ttraining's l2: 4.32623\ttraining's rmse: 2.07996\tvalid_1's l2: 5.03789\tvalid_1's rmse: 2.24452\n",
            "[150]\ttraining's l2: 4.32136\ttraining's rmse: 2.07879\tvalid_1's l2: 5.0383\tvalid_1's rmse: 2.24462\n",
            "[151]\ttraining's l2: 4.31665\ttraining's rmse: 2.07766\tvalid_1's l2: 5.03756\tvalid_1's rmse: 2.24445\n",
            "[152]\ttraining's l2: 4.31092\ttraining's rmse: 2.07628\tvalid_1's l2: 5.03765\tvalid_1's rmse: 2.24447\n",
            "[153]\ttraining's l2: 4.30169\ttraining's rmse: 2.07405\tvalid_1's l2: 5.02767\tvalid_1's rmse: 2.24225\n",
            "[154]\ttraining's l2: 4.29647\ttraining's rmse: 2.07279\tvalid_1's l2: 5.02928\tvalid_1's rmse: 2.2426\n",
            "[155]\ttraining's l2: 4.29204\ttraining's rmse: 2.07172\tvalid_1's l2: 5.02975\tvalid_1's rmse: 2.24271\n",
            "[156]\ttraining's l2: 4.28878\ttraining's rmse: 2.07094\tvalid_1's l2: 5.02932\tvalid_1's rmse: 2.24261\n",
            "[157]\ttraining's l2: 4.28443\ttraining's rmse: 2.06989\tvalid_1's l2: 5.02766\tvalid_1's rmse: 2.24224\n",
            "[158]\ttraining's l2: 4.28081\ttraining's rmse: 2.06901\tvalid_1's l2: 5.02914\tvalid_1's rmse: 2.24258\n",
            "[159]\ttraining's l2: 4.27473\ttraining's rmse: 2.06754\tvalid_1's l2: 5.03013\tvalid_1's rmse: 2.2428\n",
            "[160]\ttraining's l2: 4.26861\ttraining's rmse: 2.06606\tvalid_1's l2: 5.02986\tvalid_1's rmse: 2.24274\n",
            "[161]\ttraining's l2: 4.26509\ttraining's rmse: 2.06521\tvalid_1's l2: 5.03001\tvalid_1's rmse: 2.24277\n",
            "[162]\ttraining's l2: 4.26044\ttraining's rmse: 2.06408\tvalid_1's l2: 5.02977\tvalid_1's rmse: 2.24272\n",
            "[163]\ttraining's l2: 4.25467\ttraining's rmse: 2.06268\tvalid_1's l2: 5.02859\tvalid_1's rmse: 2.24245\n",
            "[164]\ttraining's l2: 4.25119\ttraining's rmse: 2.06184\tvalid_1's l2: 5.03029\tvalid_1's rmse: 2.24283\n",
            "[165]\ttraining's l2: 4.24456\ttraining's rmse: 2.06023\tvalid_1's l2: 5.03167\tvalid_1's rmse: 2.24314\n",
            "[166]\ttraining's l2: 4.23881\ttraining's rmse: 2.05884\tvalid_1's l2: 5.03191\tvalid_1's rmse: 2.24319\n",
            "[167]\ttraining's l2: 4.23373\ttraining's rmse: 2.0576\tvalid_1's l2: 5.03271\tvalid_1's rmse: 2.24337\n",
            "[168]\ttraining's l2: 4.22976\ttraining's rmse: 2.05664\tvalid_1's l2: 5.03337\tvalid_1's rmse: 2.24352\n",
            "[169]\ttraining's l2: 4.22467\ttraining's rmse: 2.0554\tvalid_1's l2: 5.03313\tvalid_1's rmse: 2.24346\n",
            "[170]\ttraining's l2: 4.2205\ttraining's rmse: 2.05439\tvalid_1's l2: 5.03242\tvalid_1's rmse: 2.2433\n",
            "[171]\ttraining's l2: 4.21727\ttraining's rmse: 2.0536\tvalid_1's l2: 5.03208\tvalid_1's rmse: 2.24323\n",
            "[172]\ttraining's l2: 4.21204\ttraining's rmse: 2.05233\tvalid_1's l2: 5.03278\tvalid_1's rmse: 2.24339\n",
            "[173]\ttraining's l2: 4.20678\ttraining's rmse: 2.05104\tvalid_1's l2: 5.03013\tvalid_1's rmse: 2.24279\n",
            "[174]\ttraining's l2: 4.20186\ttraining's rmse: 2.04984\tvalid_1's l2: 5.03166\tvalid_1's rmse: 2.24314\n",
            "[175]\ttraining's l2: 4.19727\ttraining's rmse: 2.04872\tvalid_1's l2: 5.03283\tvalid_1's rmse: 2.2434\n",
            "[176]\ttraining's l2: 4.19376\ttraining's rmse: 2.04787\tvalid_1's l2: 5.0329\tvalid_1's rmse: 2.24341\n",
            "[177]\ttraining's l2: 4.18658\ttraining's rmse: 2.04611\tvalid_1's l2: 5.02857\tvalid_1's rmse: 2.24245\n",
            "[178]\ttraining's l2: 4.18239\ttraining's rmse: 2.04509\tvalid_1's l2: 5.03131\tvalid_1's rmse: 2.24306\n",
            "[179]\ttraining's l2: 4.17886\ttraining's rmse: 2.04423\tvalid_1's l2: 5.03098\tvalid_1's rmse: 2.24298\n",
            "[180]\ttraining's l2: 4.17527\ttraining's rmse: 2.04335\tvalid_1's l2: 5.03209\tvalid_1's rmse: 2.24323\n",
            "[181]\ttraining's l2: 4.17037\ttraining's rmse: 2.04215\tvalid_1's l2: 5.03237\tvalid_1's rmse: 2.24329\n",
            "[182]\ttraining's l2: 4.16564\ttraining's rmse: 2.04099\tvalid_1's l2: 5.03208\tvalid_1's rmse: 2.24323\n",
            "[183]\ttraining's l2: 4.15975\ttraining's rmse: 2.03955\tvalid_1's l2: 5.03283\tvalid_1's rmse: 2.2434\n",
            "[184]\ttraining's l2: 4.15539\ttraining's rmse: 2.03848\tvalid_1's l2: 5.03271\tvalid_1's rmse: 2.24337\n",
            "[185]\ttraining's l2: 4.15102\ttraining's rmse: 2.0374\tvalid_1's l2: 5.03298\tvalid_1's rmse: 2.24343\n",
            "[186]\ttraining's l2: 4.14676\ttraining's rmse: 2.03636\tvalid_1's l2: 5.03206\tvalid_1's rmse: 2.24323\n",
            "[187]\ttraining's l2: 4.14239\ttraining's rmse: 2.03529\tvalid_1's l2: 5.03264\tvalid_1's rmse: 2.24336\n",
            "[188]\ttraining's l2: 4.13791\ttraining's rmse: 2.03419\tvalid_1's l2: 5.03328\tvalid_1's rmse: 2.2435\n",
            "[189]\ttraining's l2: 4.13337\ttraining's rmse: 2.03307\tvalid_1's l2: 5.03572\tvalid_1's rmse: 2.24404\n",
            "[190]\ttraining's l2: 4.12992\ttraining's rmse: 2.03222\tvalid_1's l2: 5.0369\tvalid_1's rmse: 2.2443\n",
            "[191]\ttraining's l2: 4.12642\ttraining's rmse: 2.03136\tvalid_1's l2: 5.03723\tvalid_1's rmse: 2.24438\n",
            "[192]\ttraining's l2: 4.12195\ttraining's rmse: 2.03026\tvalid_1's l2: 5.03681\tvalid_1's rmse: 2.24428\n",
            "[193]\ttraining's l2: 4.11889\ttraining's rmse: 2.0295\tvalid_1's l2: 5.03834\tvalid_1's rmse: 2.24463\n",
            "[194]\ttraining's l2: 4.11473\ttraining's rmse: 2.02848\tvalid_1's l2: 5.03952\tvalid_1's rmse: 2.24489\n",
            "[195]\ttraining's l2: 4.10953\ttraining's rmse: 2.0272\tvalid_1's l2: 5.03911\tvalid_1's rmse: 2.2448\n",
            "[196]\ttraining's l2: 4.10566\ttraining's rmse: 2.02624\tvalid_1's l2: 5.03824\tvalid_1's rmse: 2.2446\n",
            "[197]\ttraining's l2: 4.10189\ttraining's rmse: 2.02531\tvalid_1's l2: 5.03905\tvalid_1's rmse: 2.24478\n",
            "[198]\ttraining's l2: 4.09769\ttraining's rmse: 2.02428\tvalid_1's l2: 5.03811\tvalid_1's rmse: 2.24457\n",
            "[199]\ttraining's l2: 4.09406\ttraining's rmse: 2.02338\tvalid_1's l2: 5.03903\tvalid_1's rmse: 2.24478\n",
            "[200]\ttraining's l2: 4.09038\ttraining's rmse: 2.02247\tvalid_1's l2: 5.03847\tvalid_1's rmse: 2.24465\n",
            "[201]\ttraining's l2: 4.08613\ttraining's rmse: 2.02142\tvalid_1's l2: 5.03926\tvalid_1's rmse: 2.24483\n",
            "[202]\ttraining's l2: 4.08222\ttraining's rmse: 2.02045\tvalid_1's l2: 5.04071\tvalid_1's rmse: 2.24515\n",
            "[203]\ttraining's l2: 4.07885\ttraining's rmse: 2.01962\tvalid_1's l2: 5.04184\tvalid_1's rmse: 2.24541\n",
            "[204]\ttraining's l2: 4.07462\ttraining's rmse: 2.01857\tvalid_1's l2: 5.04304\tvalid_1's rmse: 2.24567\n",
            "[205]\ttraining's l2: 4.07133\ttraining's rmse: 2.01775\tvalid_1's l2: 5.04261\tvalid_1's rmse: 2.24558\n",
            "[206]\ttraining's l2: 4.06653\ttraining's rmse: 2.01656\tvalid_1's l2: 5.04413\tvalid_1's rmse: 2.24591\n",
            "[207]\ttraining's l2: 4.06271\ttraining's rmse: 2.01562\tvalid_1's l2: 5.04574\tvalid_1's rmse: 2.24627\n",
            "[208]\ttraining's l2: 4.05924\ttraining's rmse: 2.01475\tvalid_1's l2: 5.04659\tvalid_1's rmse: 2.24646\n",
            "[209]\ttraining's l2: 4.05596\ttraining's rmse: 2.01394\tvalid_1's l2: 5.0479\tvalid_1's rmse: 2.24675\n",
            "[210]\ttraining's l2: 4.05268\ttraining's rmse: 2.01313\tvalid_1's l2: 5.04815\tvalid_1's rmse: 2.24681\n",
            "[211]\ttraining's l2: 4.04854\ttraining's rmse: 2.0121\tvalid_1's l2: 5.04795\tvalid_1's rmse: 2.24677\n",
            "[212]\ttraining's l2: 4.04485\ttraining's rmse: 2.01118\tvalid_1's l2: 5.04983\tvalid_1's rmse: 2.24718\n",
            "[213]\ttraining's l2: 4.04162\ttraining's rmse: 2.01038\tvalid_1's l2: 5.04987\tvalid_1's rmse: 2.24719\n",
            "[214]\ttraining's l2: 4.03823\ttraining's rmse: 2.00953\tvalid_1's l2: 5.05135\tvalid_1's rmse: 2.24752\n",
            "[215]\ttraining's l2: 4.03423\ttraining's rmse: 2.00854\tvalid_1's l2: 5.0525\tvalid_1's rmse: 2.24778\n",
            "[216]\ttraining's l2: 4.02877\ttraining's rmse: 2.00718\tvalid_1's l2: 5.05324\tvalid_1's rmse: 2.24794\n",
            "[217]\ttraining's l2: 4.02581\ttraining's rmse: 2.00644\tvalid_1's l2: 5.05599\tvalid_1's rmse: 2.24855\n",
            "[218]\ttraining's l2: 4.02295\ttraining's rmse: 2.00573\tvalid_1's l2: 5.05633\tvalid_1's rmse: 2.24863\n",
            "[219]\ttraining's l2: 4.02033\ttraining's rmse: 2.00508\tvalid_1's l2: 5.05636\tvalid_1's rmse: 2.24864\n",
            "[220]\ttraining's l2: 4.01737\ttraining's rmse: 2.00434\tvalid_1's l2: 5.05711\tvalid_1's rmse: 2.2488\n",
            "[221]\ttraining's l2: 4.01218\ttraining's rmse: 2.00304\tvalid_1's l2: 5.05531\tvalid_1's rmse: 2.2484\n",
            "[222]\ttraining's l2: 4.00867\ttraining's rmse: 2.00217\tvalid_1's l2: 5.0552\tvalid_1's rmse: 2.24838\n",
            "[223]\ttraining's l2: 4.00552\ttraining's rmse: 2.00138\tvalid_1's l2: 5.05544\tvalid_1's rmse: 2.24843\n",
            "[224]\ttraining's l2: 4.00192\ttraining's rmse: 2.00048\tvalid_1's l2: 5.05737\tvalid_1's rmse: 2.24886\n",
            "[225]\ttraining's l2: 3.99836\ttraining's rmse: 1.99959\tvalid_1's l2: 5.05807\tvalid_1's rmse: 2.24902\n",
            "[226]\ttraining's l2: 3.99503\ttraining's rmse: 1.99876\tvalid_1's l2: 5.0571\tvalid_1's rmse: 2.2488\n",
            "[227]\ttraining's l2: 3.99196\ttraining's rmse: 1.99799\tvalid_1's l2: 5.05749\tvalid_1's rmse: 2.24889\n",
            "[228]\ttraining's l2: 3.98904\ttraining's rmse: 1.99726\tvalid_1's l2: 5.05723\tvalid_1's rmse: 2.24883\n",
            "[229]\ttraining's l2: 3.98476\ttraining's rmse: 1.99619\tvalid_1's l2: 5.05484\tvalid_1's rmse: 2.2483\n",
            "[230]\ttraining's l2: 3.98123\ttraining's rmse: 1.9953\tvalid_1's l2: 5.05644\tvalid_1's rmse: 2.24865\n",
            "[231]\ttraining's l2: 3.97735\ttraining's rmse: 1.99433\tvalid_1's l2: 5.05687\tvalid_1's rmse: 2.24875\n",
            "[232]\ttraining's l2: 3.97066\ttraining's rmse: 1.99265\tvalid_1's l2: 5.05442\tvalid_1's rmse: 2.2482\n",
            "[233]\ttraining's l2: 3.96741\ttraining's rmse: 1.99184\tvalid_1's l2: 5.05634\tvalid_1's rmse: 2.24863\n",
            "[234]\ttraining's l2: 3.96337\ttraining's rmse: 1.99082\tvalid_1's l2: 5.05632\tvalid_1's rmse: 2.24863\n",
            "[235]\ttraining's l2: 3.95978\ttraining's rmse: 1.98992\tvalid_1's l2: 5.05518\tvalid_1's rmse: 2.24837\n",
            "[236]\ttraining's l2: 3.95754\ttraining's rmse: 1.98936\tvalid_1's l2: 5.05562\tvalid_1's rmse: 2.24847\n",
            "[237]\ttraining's l2: 3.9537\ttraining's rmse: 1.98839\tvalid_1's l2: 5.05701\tvalid_1's rmse: 2.24878\n",
            "[238]\ttraining's l2: 3.95023\ttraining's rmse: 1.98752\tvalid_1's l2: 5.05741\tvalid_1's rmse: 2.24887\n",
            "[239]\ttraining's l2: 3.94589\ttraining's rmse: 1.98643\tvalid_1's l2: 5.057\tvalid_1's rmse: 2.24878\n",
            "[240]\ttraining's l2: 3.94243\ttraining's rmse: 1.98556\tvalid_1's l2: 5.05767\tvalid_1's rmse: 2.24893\n",
            "[241]\ttraining's l2: 3.93759\ttraining's rmse: 1.98434\tvalid_1's l2: 5.05682\tvalid_1's rmse: 2.24874\n",
            "[242]\ttraining's l2: 3.93448\ttraining's rmse: 1.98355\tvalid_1's l2: 5.05675\tvalid_1's rmse: 2.24872\n",
            "[243]\ttraining's l2: 3.93102\ttraining's rmse: 1.98268\tvalid_1's l2: 5.05636\tvalid_1's rmse: 2.24864\n",
            "[244]\ttraining's l2: 3.92709\ttraining's rmse: 1.98169\tvalid_1's l2: 5.05755\tvalid_1's rmse: 2.2489\n",
            "[245]\ttraining's l2: 3.92005\ttraining's rmse: 1.97991\tvalid_1's l2: 5.05543\tvalid_1's rmse: 2.24843\n",
            "[246]\ttraining's l2: 3.91423\ttraining's rmse: 1.97844\tvalid_1's l2: 5.04916\tvalid_1's rmse: 2.24703\n",
            "[247]\ttraining's l2: 3.91112\ttraining's rmse: 1.97766\tvalid_1's l2: 5.05\tvalid_1's rmse: 2.24722\n",
            "[248]\ttraining's l2: 3.9065\ttraining's rmse: 1.97649\tvalid_1's l2: 5.04893\tvalid_1's rmse: 2.24698\n",
            "[249]\ttraining's l2: 3.90106\ttraining's rmse: 1.97511\tvalid_1's l2: 5.04716\tvalid_1's rmse: 2.24659\n",
            "[250]\ttraining's l2: 3.8982\ttraining's rmse: 1.97439\tvalid_1's l2: 5.04675\tvalid_1's rmse: 2.2465\n",
            "[251]\ttraining's l2: 3.89522\ttraining's rmse: 1.97363\tvalid_1's l2: 5.04858\tvalid_1's rmse: 2.2469\n",
            "[252]\ttraining's l2: 3.89248\ttraining's rmse: 1.97294\tvalid_1's l2: 5.04975\tvalid_1's rmse: 2.24716\n",
            "[253]\ttraining's l2: 3.88915\ttraining's rmse: 1.97209\tvalid_1's l2: 5.0495\tvalid_1's rmse: 2.24711\n",
            "[254]\ttraining's l2: 3.88387\ttraining's rmse: 1.97075\tvalid_1's l2: 5.05056\tvalid_1's rmse: 2.24734\n",
            "[255]\ttraining's l2: 3.88122\ttraining's rmse: 1.97008\tvalid_1's l2: 5.05239\tvalid_1's rmse: 2.24775\n",
            "[256]\ttraining's l2: 3.87849\ttraining's rmse: 1.96939\tvalid_1's l2: 5.05331\tvalid_1's rmse: 2.24796\n",
            "[257]\ttraining's l2: 3.87606\ttraining's rmse: 1.96877\tvalid_1's l2: 5.05418\tvalid_1's rmse: 2.24815\n",
            "[258]\ttraining's l2: 3.87345\ttraining's rmse: 1.96811\tvalid_1's l2: 5.05571\tvalid_1's rmse: 2.24849\n",
            "[259]\ttraining's l2: 3.87094\ttraining's rmse: 1.96747\tvalid_1's l2: 5.05495\tvalid_1's rmse: 2.24832\n",
            "[260]\ttraining's l2: 3.86813\ttraining's rmse: 1.96676\tvalid_1's l2: 5.05549\tvalid_1's rmse: 2.24844\n",
            "[261]\ttraining's l2: 3.8647\ttraining's rmse: 1.96588\tvalid_1's l2: 5.05638\tvalid_1's rmse: 2.24864\n",
            "[262]\ttraining's l2: 3.86144\ttraining's rmse: 1.96505\tvalid_1's l2: 5.05553\tvalid_1's rmse: 2.24845\n",
            "[263]\ttraining's l2: 3.85777\ttraining's rmse: 1.96412\tvalid_1's l2: 5.05676\tvalid_1's rmse: 2.24872\n",
            "[264]\ttraining's l2: 3.85493\ttraining's rmse: 1.9634\tvalid_1's l2: 5.0574\tvalid_1's rmse: 2.24887\n",
            "[265]\ttraining's l2: 3.8517\ttraining's rmse: 1.96258\tvalid_1's l2: 5.05865\tvalid_1's rmse: 2.24914\n",
            "[266]\ttraining's l2: 3.84879\ttraining's rmse: 1.96183\tvalid_1's l2: 5.058\tvalid_1's rmse: 2.249\n",
            "[267]\ttraining's l2: 3.84535\ttraining's rmse: 1.96096\tvalid_1's l2: 5.0578\tvalid_1's rmse: 2.24895\n",
            "[268]\ttraining's l2: 3.84293\ttraining's rmse: 1.96034\tvalid_1's l2: 5.05825\tvalid_1's rmse: 2.24905\n",
            "[269]\ttraining's l2: 3.84071\ttraining's rmse: 1.95977\tvalid_1's l2: 5.05808\tvalid_1's rmse: 2.24902\n",
            "[270]\ttraining's l2: 3.83848\ttraining's rmse: 1.9592\tvalid_1's l2: 5.06014\tvalid_1's rmse: 2.24947\n",
            "[271]\ttraining's l2: 3.83584\ttraining's rmse: 1.95853\tvalid_1's l2: 5.05969\tvalid_1's rmse: 2.24938\n",
            "[272]\ttraining's l2: 3.83097\ttraining's rmse: 1.95729\tvalid_1's l2: 5.05645\tvalid_1's rmse: 2.24866\n",
            "[273]\ttraining's l2: 3.82822\ttraining's rmse: 1.95658\tvalid_1's l2: 5.05578\tvalid_1's rmse: 2.24851\n",
            "[274]\ttraining's l2: 3.82608\ttraining's rmse: 1.95604\tvalid_1's l2: 5.05727\tvalid_1's rmse: 2.24884\n",
            "[275]\ttraining's l2: 3.82297\ttraining's rmse: 1.95524\tvalid_1's l2: 5.05801\tvalid_1's rmse: 2.249\n",
            "[276]\ttraining's l2: 3.81965\ttraining's rmse: 1.95439\tvalid_1's l2: 5.05985\tvalid_1's rmse: 2.24941\n",
            "[277]\ttraining's l2: 3.81616\ttraining's rmse: 1.9535\tvalid_1's l2: 5.06079\tvalid_1's rmse: 2.24962\n",
            "[278]\ttraining's l2: 3.8132\ttraining's rmse: 1.95274\tvalid_1's l2: 5.06046\tvalid_1's rmse: 2.24955\n",
            "[279]\ttraining's l2: 3.81075\ttraining's rmse: 1.95212\tvalid_1's l2: 5.06098\tvalid_1's rmse: 2.24966\n",
            "[280]\ttraining's l2: 3.80767\ttraining's rmse: 1.95132\tvalid_1's l2: 5.06176\tvalid_1's rmse: 2.24984\n",
            "[281]\ttraining's l2: 3.80494\ttraining's rmse: 1.95063\tvalid_1's l2: 5.0621\tvalid_1's rmse: 2.24991\n",
            "[282]\ttraining's l2: 3.80091\ttraining's rmse: 1.94959\tvalid_1's l2: 5.0607\tvalid_1's rmse: 2.2496\n",
            "[283]\ttraining's l2: 3.79829\ttraining's rmse: 1.94892\tvalid_1's l2: 5.06133\tvalid_1's rmse: 2.24974\n",
            "[284]\ttraining's l2: 3.79587\ttraining's rmse: 1.9483\tvalid_1's l2: 5.06216\tvalid_1's rmse: 2.24992\n",
            "[285]\ttraining's l2: 3.79157\ttraining's rmse: 1.9472\tvalid_1's l2: 5.06376\tvalid_1's rmse: 2.25028\n",
            "[286]\ttraining's l2: 3.78904\ttraining's rmse: 1.94655\tvalid_1's l2: 5.06527\tvalid_1's rmse: 2.25061\n",
            "[287]\ttraining's l2: 3.78632\ttraining's rmse: 1.94585\tvalid_1's l2: 5.0654\tvalid_1's rmse: 2.25064\n",
            "[288]\ttraining's l2: 3.78332\ttraining's rmse: 1.94508\tvalid_1's l2: 5.06514\tvalid_1's rmse: 2.25059\n",
            "[289]\ttraining's l2: 3.77852\ttraining's rmse: 1.94384\tvalid_1's l2: 5.06335\tvalid_1's rmse: 2.25019\n",
            "[290]\ttraining's l2: 3.77439\ttraining's rmse: 1.94278\tvalid_1's l2: 5.06408\tvalid_1's rmse: 2.25035\n",
            "[291]\ttraining's l2: 3.77189\ttraining's rmse: 1.94214\tvalid_1's l2: 5.06389\tvalid_1's rmse: 2.25031\n",
            "[292]\ttraining's l2: 3.76889\ttraining's rmse: 1.94136\tvalid_1's l2: 5.06463\tvalid_1's rmse: 2.25047\n",
            "[293]\ttraining's l2: 3.76639\ttraining's rmse: 1.94072\tvalid_1's l2: 5.06496\tvalid_1's rmse: 2.25055\n",
            "[294]\ttraining's l2: 3.76302\ttraining's rmse: 1.93985\tvalid_1's l2: 5.06487\tvalid_1's rmse: 2.25053\n",
            "[295]\ttraining's l2: 3.76063\ttraining's rmse: 1.93923\tvalid_1's l2: 5.06585\tvalid_1's rmse: 2.25074\n",
            "[296]\ttraining's l2: 3.75719\ttraining's rmse: 1.93835\tvalid_1's l2: 5.06646\tvalid_1's rmse: 2.25088\n",
            "[297]\ttraining's l2: 3.75472\ttraining's rmse: 1.93771\tvalid_1's l2: 5.06723\tvalid_1's rmse: 2.25105\n",
            "[298]\ttraining's l2: 3.75308\ttraining's rmse: 1.93729\tvalid_1's l2: 5.06828\tvalid_1's rmse: 2.25128\n",
            "[299]\ttraining's l2: 3.74995\ttraining's rmse: 1.93648\tvalid_1's l2: 5.06987\tvalid_1's rmse: 2.25164\n",
            "[300]\ttraining's l2: 3.74713\ttraining's rmse: 1.93575\tvalid_1's l2: 5.06935\tvalid_1's rmse: 2.25152\n",
            "[301]\ttraining's l2: 3.74306\ttraining's rmse: 1.9347\tvalid_1's l2: 5.06856\tvalid_1's rmse: 2.25135\n",
            "[302]\ttraining's l2: 3.74011\ttraining's rmse: 1.93394\tvalid_1's l2: 5.06959\tvalid_1's rmse: 2.25157\n",
            "[303]\ttraining's l2: 3.73673\ttraining's rmse: 1.93306\tvalid_1's l2: 5.07023\tvalid_1's rmse: 2.25172\n",
            "[304]\ttraining's l2: 3.73305\ttraining's rmse: 1.93211\tvalid_1's l2: 5.07098\tvalid_1's rmse: 2.25188\n",
            "[305]\ttraining's l2: 3.73067\ttraining's rmse: 1.9315\tvalid_1's l2: 5.07184\tvalid_1's rmse: 2.25207\n",
            "[306]\ttraining's l2: 3.72847\ttraining's rmse: 1.93092\tvalid_1's l2: 5.07148\tvalid_1's rmse: 2.25199\n",
            "[307]\ttraining's l2: 3.72579\ttraining's rmse: 1.93023\tvalid_1's l2: 5.0714\tvalid_1's rmse: 2.25198\n",
            "[308]\ttraining's l2: 3.72229\ttraining's rmse: 1.92932\tvalid_1's l2: 5.07224\tvalid_1's rmse: 2.25216\n",
            "[309]\ttraining's l2: 3.71966\ttraining's rmse: 1.92864\tvalid_1's l2: 5.07347\tvalid_1's rmse: 2.25244\n",
            "[310]\ttraining's l2: 3.71506\ttraining's rmse: 1.92745\tvalid_1's l2: 5.07172\tvalid_1's rmse: 2.25205\n",
            "[311]\ttraining's l2: 3.71183\ttraining's rmse: 1.92661\tvalid_1's l2: 5.07175\tvalid_1's rmse: 2.25205\n",
            "[312]\ttraining's l2: 3.70913\ttraining's rmse: 1.92591\tvalid_1's l2: 5.07227\tvalid_1's rmse: 2.25217\n",
            "[313]\ttraining's l2: 3.70686\ttraining's rmse: 1.92532\tvalid_1's l2: 5.07187\tvalid_1's rmse: 2.25208\n",
            "[314]\ttraining's l2: 3.70425\ttraining's rmse: 1.92464\tvalid_1's l2: 5.07308\tvalid_1's rmse: 2.25235\n",
            "[315]\ttraining's l2: 3.70047\ttraining's rmse: 1.92366\tvalid_1's l2: 5.07373\tvalid_1's rmse: 2.25249\n",
            "[316]\ttraining's l2: 3.69671\ttraining's rmse: 1.92268\tvalid_1's l2: 5.0738\tvalid_1's rmse: 2.25251\n",
            "[317]\ttraining's l2: 3.69329\ttraining's rmse: 1.92179\tvalid_1's l2: 5.07344\tvalid_1's rmse: 2.25243\n",
            "[318]\ttraining's l2: 3.69033\ttraining's rmse: 1.92102\tvalid_1's l2: 5.07385\tvalid_1's rmse: 2.25252\n",
            "[319]\ttraining's l2: 3.68795\ttraining's rmse: 1.9204\tvalid_1's l2: 5.07517\tvalid_1's rmse: 2.25281\n",
            "[320]\ttraining's l2: 3.6857\ttraining's rmse: 1.91982\tvalid_1's l2: 5.07485\tvalid_1's rmse: 2.25274\n",
            "[321]\ttraining's l2: 3.68181\ttraining's rmse: 1.9188\tvalid_1's l2: 5.07379\tvalid_1's rmse: 2.25251\n",
            "[322]\ttraining's l2: 3.6776\ttraining's rmse: 1.91771\tvalid_1's l2: 5.07278\tvalid_1's rmse: 2.25228\n",
            "[323]\ttraining's l2: 3.67471\ttraining's rmse: 1.91695\tvalid_1's l2: 5.0733\tvalid_1's rmse: 2.2524\n",
            "[324]\ttraining's l2: 3.6721\ttraining's rmse: 1.91627\tvalid_1's l2: 5.07494\tvalid_1's rmse: 2.25276\n",
            "[325]\ttraining's l2: 3.66947\ttraining's rmse: 1.91558\tvalid_1's l2: 5.07467\tvalid_1's rmse: 2.2527\n",
            "[326]\ttraining's l2: 3.66683\ttraining's rmse: 1.9149\tvalid_1's l2: 5.07533\tvalid_1's rmse: 2.25285\n",
            "[327]\ttraining's l2: 3.66096\ttraining's rmse: 1.91336\tvalid_1's l2: 5.07406\tvalid_1's rmse: 2.25257\n",
            "[328]\ttraining's l2: 3.65798\ttraining's rmse: 1.91259\tvalid_1's l2: 5.07493\tvalid_1's rmse: 2.25276\n",
            "[329]\ttraining's l2: 3.6555\ttraining's rmse: 1.91194\tvalid_1's l2: 5.07517\tvalid_1's rmse: 2.25281\n",
            "[330]\ttraining's l2: 3.65241\ttraining's rmse: 1.91113\tvalid_1's l2: 5.07561\tvalid_1's rmse: 2.25291\n",
            "[331]\ttraining's l2: 3.64935\ttraining's rmse: 1.91033\tvalid_1's l2: 5.07692\tvalid_1's rmse: 2.2532\n",
            "[332]\ttraining's l2: 3.64619\ttraining's rmse: 1.9095\tvalid_1's l2: 5.07757\tvalid_1's rmse: 2.25335\n",
            "[333]\ttraining's l2: 3.64304\ttraining's rmse: 1.90868\tvalid_1's l2: 5.07686\tvalid_1's rmse: 2.25319\n",
            "[334]\ttraining's l2: 3.64049\ttraining's rmse: 1.90801\tvalid_1's l2: 5.07691\tvalid_1's rmse: 2.2532\n",
            "[335]\ttraining's l2: 3.63862\ttraining's rmse: 1.90752\tvalid_1's l2: 5.07699\tvalid_1's rmse: 2.25322\n",
            "[336]\ttraining's l2: 3.63587\ttraining's rmse: 1.9068\tvalid_1's l2: 5.07803\tvalid_1's rmse: 2.25345\n",
            "[337]\ttraining's l2: 3.63218\ttraining's rmse: 1.90583\tvalid_1's l2: 5.07744\tvalid_1's rmse: 2.25332\n",
            "[338]\ttraining's l2: 3.62964\ttraining's rmse: 1.90516\tvalid_1's l2: 5.07773\tvalid_1's rmse: 2.25338\n",
            "[339]\ttraining's l2: 3.62708\ttraining's rmse: 1.90449\tvalid_1's l2: 5.07862\tvalid_1's rmse: 2.25358\n",
            "[340]\ttraining's l2: 3.62295\ttraining's rmse: 1.9034\tvalid_1's l2: 5.07943\tvalid_1's rmse: 2.25376\n",
            "[341]\ttraining's l2: 3.62089\ttraining's rmse: 1.90286\tvalid_1's l2: 5.07886\tvalid_1's rmse: 2.25363\n",
            "[342]\ttraining's l2: 3.61821\ttraining's rmse: 1.90216\tvalid_1's l2: 5.07939\tvalid_1's rmse: 2.25375\n",
            "[343]\ttraining's l2: 3.61538\ttraining's rmse: 1.90142\tvalid_1's l2: 5.07923\tvalid_1's rmse: 2.25372\n",
            "[344]\ttraining's l2: 3.61276\ttraining's rmse: 1.90073\tvalid_1's l2: 5.07937\tvalid_1's rmse: 2.25374\n",
            "[345]\ttraining's l2: 3.61039\ttraining's rmse: 1.9001\tvalid_1's l2: 5.07942\tvalid_1's rmse: 2.25376\n",
            "[346]\ttraining's l2: 3.60706\ttraining's rmse: 1.89923\tvalid_1's l2: 5.081\tvalid_1's rmse: 2.25411\n",
            "[347]\ttraining's l2: 3.60304\ttraining's rmse: 1.89817\tvalid_1's l2: 5.08102\tvalid_1's rmse: 2.25411\n",
            "[348]\ttraining's l2: 3.59976\ttraining's rmse: 1.8973\tvalid_1's l2: 5.08053\tvalid_1's rmse: 2.254\n",
            "[349]\ttraining's l2: 3.59739\ttraining's rmse: 1.89668\tvalid_1's l2: 5.0815\tvalid_1's rmse: 2.25422\n",
            "[350]\ttraining's l2: 3.59546\ttraining's rmse: 1.89617\tvalid_1's l2: 5.08172\tvalid_1's rmse: 2.25427\n",
            "[351]\ttraining's l2: 3.59076\ttraining's rmse: 1.89493\tvalid_1's l2: 5.07926\tvalid_1's rmse: 2.25372\n",
            "[352]\ttraining's l2: 3.58889\ttraining's rmse: 1.89444\tvalid_1's l2: 5.0793\tvalid_1's rmse: 2.25373\n",
            "[353]\ttraining's l2: 3.58655\ttraining's rmse: 1.89382\tvalid_1's l2: 5.07942\tvalid_1's rmse: 2.25376\n",
            "[354]\ttraining's l2: 3.58222\ttraining's rmse: 1.89268\tvalid_1's l2: 5.07792\tvalid_1's rmse: 2.25342\n",
            "[355]\ttraining's l2: 3.58031\ttraining's rmse: 1.89217\tvalid_1's l2: 5.07729\tvalid_1's rmse: 2.25329\n",
            "[356]\ttraining's l2: 3.57788\ttraining's rmse: 1.89153\tvalid_1's l2: 5.07742\tvalid_1's rmse: 2.25331\n",
            "[357]\ttraining's l2: 3.57501\ttraining's rmse: 1.89077\tvalid_1's l2: 5.07823\tvalid_1's rmse: 2.25349\n",
            "[358]\ttraining's l2: 3.57255\ttraining's rmse: 1.89012\tvalid_1's l2: 5.07902\tvalid_1's rmse: 2.25367\n",
            "[359]\ttraining's l2: 3.57025\ttraining's rmse: 1.88951\tvalid_1's l2: 5.0809\tvalid_1's rmse: 2.25409\n",
            "[360]\ttraining's l2: 3.56706\ttraining's rmse: 1.88867\tvalid_1's l2: 5.08232\tvalid_1's rmse: 2.2544\n",
            "[361]\ttraining's l2: 3.56266\ttraining's rmse: 1.8875\tvalid_1's l2: 5.08187\tvalid_1's rmse: 2.2543\n",
            "[362]\ttraining's l2: 3.56029\ttraining's rmse: 1.88687\tvalid_1's l2: 5.08265\tvalid_1's rmse: 2.25447\n",
            "[363]\ttraining's l2: 3.55751\ttraining's rmse: 1.88614\tvalid_1's l2: 5.08181\tvalid_1's rmse: 2.25429\n",
            "[364]\ttraining's l2: 3.55523\ttraining's rmse: 1.88553\tvalid_1's l2: 5.08324\tvalid_1's rmse: 2.2546\n",
            "[365]\ttraining's l2: 3.55246\ttraining's rmse: 1.8848\tvalid_1's l2: 5.08371\tvalid_1's rmse: 2.25471\n",
            "[366]\ttraining's l2: 3.54961\ttraining's rmse: 1.88404\tvalid_1's l2: 5.0839\tvalid_1's rmse: 2.25475\n",
            "[367]\ttraining's l2: 3.54697\ttraining's rmse: 1.88334\tvalid_1's l2: 5.0825\tvalid_1's rmse: 2.25444\n",
            "[368]\ttraining's l2: 3.54389\ttraining's rmse: 1.88252\tvalid_1's l2: 5.08254\tvalid_1's rmse: 2.25445\n",
            "[369]\ttraining's l2: 3.54118\ttraining's rmse: 1.8818\tvalid_1's l2: 5.08398\tvalid_1's rmse: 2.25477\n",
            "[370]\ttraining's l2: 3.53806\ttraining's rmse: 1.88097\tvalid_1's l2: 5.08372\tvalid_1's rmse: 2.25471\n",
            "[371]\ttraining's l2: 3.53382\ttraining's rmse: 1.87985\tvalid_1's l2: 5.0834\tvalid_1's rmse: 2.25464\n",
            "[372]\ttraining's l2: 3.53109\ttraining's rmse: 1.87912\tvalid_1's l2: 5.08389\tvalid_1's rmse: 2.25475\n",
            "[373]\ttraining's l2: 3.52806\ttraining's rmse: 1.87831\tvalid_1's l2: 5.0839\tvalid_1's rmse: 2.25475\n",
            "[374]\ttraining's l2: 3.52596\ttraining's rmse: 1.87775\tvalid_1's l2: 5.08439\tvalid_1's rmse: 2.25486\n",
            "[375]\ttraining's l2: 3.52276\ttraining's rmse: 1.8769\tvalid_1's l2: 5.08472\tvalid_1's rmse: 2.25493\n",
            "[376]\ttraining's l2: 3.51838\ttraining's rmse: 1.87574\tvalid_1's l2: 5.08507\tvalid_1's rmse: 2.25501\n",
            "[377]\ttraining's l2: 3.51528\ttraining's rmse: 1.87491\tvalid_1's l2: 5.08526\tvalid_1's rmse: 2.25505\n",
            "[378]\ttraining's l2: 3.51246\ttraining's rmse: 1.87416\tvalid_1's l2: 5.08439\tvalid_1's rmse: 2.25486\n",
            "[379]\ttraining's l2: 3.50949\ttraining's rmse: 1.87336\tvalid_1's l2: 5.08451\tvalid_1's rmse: 2.25489\n",
            "[380]\ttraining's l2: 3.50661\ttraining's rmse: 1.87259\tvalid_1's l2: 5.08724\tvalid_1's rmse: 2.25549\n",
            "[381]\ttraining's l2: 3.5029\ttraining's rmse: 1.8716\tvalid_1's l2: 5.08704\tvalid_1's rmse: 2.25545\n",
            "[382]\ttraining's l2: 3.50048\ttraining's rmse: 1.87096\tvalid_1's l2: 5.08808\tvalid_1's rmse: 2.25568\n",
            "[383]\ttraining's l2: 3.49851\ttraining's rmse: 1.87043\tvalid_1's l2: 5.08866\tvalid_1's rmse: 2.25581\n",
            "[384]\ttraining's l2: 3.49549\ttraining's rmse: 1.86962\tvalid_1's l2: 5.08906\tvalid_1's rmse: 2.25589\n",
            "[385]\ttraining's l2: 3.49293\ttraining's rmse: 1.86894\tvalid_1's l2: 5.08849\tvalid_1's rmse: 2.25577\n",
            "[386]\ttraining's l2: 3.49045\ttraining's rmse: 1.86827\tvalid_1's l2: 5.08932\tvalid_1's rmse: 2.25595\n",
            "[387]\ttraining's l2: 3.48715\ttraining's rmse: 1.86739\tvalid_1's l2: 5.0896\tvalid_1's rmse: 2.25601\n",
            "[388]\ttraining's l2: 3.48413\ttraining's rmse: 1.86658\tvalid_1's l2: 5.08909\tvalid_1's rmse: 2.2559\n",
            "[389]\ttraining's l2: 3.48187\ttraining's rmse: 1.86598\tvalid_1's l2: 5.0897\tvalid_1's rmse: 2.25604\n",
            "[390]\ttraining's l2: 3.47977\ttraining's rmse: 1.86541\tvalid_1's l2: 5.09053\tvalid_1's rmse: 2.25622\n",
            "[391]\ttraining's l2: 3.47723\ttraining's rmse: 1.86473\tvalid_1's l2: 5.0908\tvalid_1's rmse: 2.25628\n",
            "[392]\ttraining's l2: 3.47489\ttraining's rmse: 1.8641\tvalid_1's l2: 5.0902\tvalid_1's rmse: 2.25615\n",
            "[393]\ttraining's l2: 3.47235\ttraining's rmse: 1.86342\tvalid_1's l2: 5.0914\tvalid_1's rmse: 2.25641\n",
            "[394]\ttraining's l2: 3.47022\ttraining's rmse: 1.86285\tvalid_1's l2: 5.09211\tvalid_1's rmse: 2.25657\n",
            "[395]\ttraining's l2: 3.46535\ttraining's rmse: 1.86155\tvalid_1's l2: 5.09204\tvalid_1's rmse: 2.25656\n",
            "[396]\ttraining's l2: 3.46272\ttraining's rmse: 1.86084\tvalid_1's l2: 5.09214\tvalid_1's rmse: 2.25658\n",
            "[397]\ttraining's l2: 3.45936\ttraining's rmse: 1.85993\tvalid_1's l2: 5.09074\tvalid_1's rmse: 2.25627\n",
            "[398]\ttraining's l2: 3.45708\ttraining's rmse: 1.85932\tvalid_1's l2: 5.09294\tvalid_1's rmse: 2.25675\n",
            "[399]\ttraining's l2: 3.45474\ttraining's rmse: 1.85869\tvalid_1's l2: 5.09452\tvalid_1's rmse: 2.2571\n",
            "[400]\ttraining's l2: 3.45293\ttraining's rmse: 1.85821\tvalid_1's l2: 5.09476\tvalid_1's rmse: 2.25716\n",
            "[401]\ttraining's l2: 3.45096\ttraining's rmse: 1.85768\tvalid_1's l2: 5.09446\tvalid_1's rmse: 2.25709\n",
            "[402]\ttraining's l2: 3.4483\ttraining's rmse: 1.85696\tvalid_1's l2: 5.09356\tvalid_1's rmse: 2.25689\n",
            "[403]\ttraining's l2: 3.44613\ttraining's rmse: 1.85638\tvalid_1's l2: 5.09419\tvalid_1's rmse: 2.25703\n",
            "[404]\ttraining's l2: 3.4434\ttraining's rmse: 1.85564\tvalid_1's l2: 5.09456\tvalid_1's rmse: 2.25711\n",
            "[405]\ttraining's l2: 3.43926\ttraining's rmse: 1.85452\tvalid_1's l2: 5.09437\tvalid_1's rmse: 2.25707\n",
            "[406]\ttraining's l2: 3.43646\ttraining's rmse: 1.85377\tvalid_1's l2: 5.09564\tvalid_1's rmse: 2.25735\n",
            "[407]\ttraining's l2: 3.43224\ttraining's rmse: 1.85263\tvalid_1's l2: 5.09542\tvalid_1's rmse: 2.2573\n",
            "[408]\ttraining's l2: 3.42954\ttraining's rmse: 1.8519\tvalid_1's l2: 5.09444\tvalid_1's rmse: 2.25709\n",
            "[409]\ttraining's l2: 3.42744\ttraining's rmse: 1.85133\tvalid_1's l2: 5.09375\tvalid_1's rmse: 2.25693\n",
            "[410]\ttraining's l2: 3.42476\ttraining's rmse: 1.85061\tvalid_1's l2: 5.0956\tvalid_1's rmse: 2.25734\n",
            "[411]\ttraining's l2: 3.42224\ttraining's rmse: 1.84993\tvalid_1's l2: 5.09353\tvalid_1's rmse: 2.25688\n",
            "[412]\ttraining's l2: 3.41946\ttraining's rmse: 1.84918\tvalid_1's l2: 5.09546\tvalid_1's rmse: 2.25731\n",
            "[413]\ttraining's l2: 3.41708\ttraining's rmse: 1.84853\tvalid_1's l2: 5.09574\tvalid_1's rmse: 2.25738\n",
            "[414]\ttraining's l2: 3.41521\ttraining's rmse: 1.84803\tvalid_1's l2: 5.09644\tvalid_1's rmse: 2.25753\n",
            "[415]\ttraining's l2: 3.41319\ttraining's rmse: 1.84748\tvalid_1's l2: 5.09587\tvalid_1's rmse: 2.2574\n",
            "[416]\ttraining's l2: 3.41008\ttraining's rmse: 1.84664\tvalid_1's l2: 5.09756\tvalid_1's rmse: 2.25778\n",
            "[417]\ttraining's l2: 3.40843\ttraining's rmse: 1.84619\tvalid_1's l2: 5.09752\tvalid_1's rmse: 2.25777\n",
            "[418]\ttraining's l2: 3.40653\ttraining's rmse: 1.84568\tvalid_1's l2: 5.09838\tvalid_1's rmse: 2.25796\n",
            "[419]\ttraining's l2: 3.40382\ttraining's rmse: 1.84494\tvalid_1's l2: 5.09999\tvalid_1's rmse: 2.25832\n",
            "[420]\ttraining's l2: 3.40182\ttraining's rmse: 1.8444\tvalid_1's l2: 5.09985\tvalid_1's rmse: 2.25828\n",
            "[421]\ttraining's l2: 3.39808\ttraining's rmse: 1.84339\tvalid_1's l2: 5.10013\tvalid_1's rmse: 2.25835\n",
            "[422]\ttraining's l2: 3.39578\ttraining's rmse: 1.84277\tvalid_1's l2: 5.09961\tvalid_1's rmse: 2.25823\n",
            "[423]\ttraining's l2: 3.39158\ttraining's rmse: 1.84162\tvalid_1's l2: 5.10073\tvalid_1's rmse: 2.25848\n",
            "[424]\ttraining's l2: 3.38911\ttraining's rmse: 1.84095\tvalid_1's l2: 5.1012\tvalid_1's rmse: 2.25858\n",
            "[425]\ttraining's l2: 3.38645\ttraining's rmse: 1.84023\tvalid_1's l2: 5.09922\tvalid_1's rmse: 2.25815\n",
            "[426]\ttraining's l2: 3.38457\ttraining's rmse: 1.83972\tvalid_1's l2: 5.09948\tvalid_1's rmse: 2.2582\n",
            "[427]\ttraining's l2: 3.38225\ttraining's rmse: 1.83909\tvalid_1's l2: 5.1002\tvalid_1's rmse: 2.25836\n",
            "[428]\ttraining's l2: 3.38044\ttraining's rmse: 1.8386\tvalid_1's l2: 5.101\tvalid_1's rmse: 2.25854\n",
            "[429]\ttraining's l2: 3.37877\ttraining's rmse: 1.83814\tvalid_1's l2: 5.10161\tvalid_1's rmse: 2.25868\n",
            "[430]\ttraining's l2: 3.37705\ttraining's rmse: 1.83768\tvalid_1's l2: 5.10237\tvalid_1's rmse: 2.25884\n",
            "[431]\ttraining's l2: 3.37558\ttraining's rmse: 1.83728\tvalid_1's l2: 5.10122\tvalid_1's rmse: 2.25859\n",
            "[432]\ttraining's l2: 3.37203\ttraining's rmse: 1.83631\tvalid_1's l2: 5.10163\tvalid_1's rmse: 2.25868\n",
            "[433]\ttraining's l2: 3.36984\ttraining's rmse: 1.83571\tvalid_1's l2: 5.10084\tvalid_1's rmse: 2.2585\n",
            "[434]\ttraining's l2: 3.36691\ttraining's rmse: 1.83491\tvalid_1's l2: 5.10184\tvalid_1's rmse: 2.25873\n",
            "[435]\ttraining's l2: 3.36549\ttraining's rmse: 1.83453\tvalid_1's l2: 5.10219\tvalid_1's rmse: 2.2588\n",
            "[436]\ttraining's l2: 3.36354\ttraining's rmse: 1.834\tvalid_1's l2: 5.10244\tvalid_1's rmse: 2.25886\n",
            "[437]\ttraining's l2: 3.36179\ttraining's rmse: 1.83352\tvalid_1's l2: 5.10205\tvalid_1's rmse: 2.25877\n",
            "[438]\ttraining's l2: 3.36012\ttraining's rmse: 1.83306\tvalid_1's l2: 5.10203\tvalid_1's rmse: 2.25877\n",
            "[439]\ttraining's l2: 3.35797\ttraining's rmse: 1.83248\tvalid_1's l2: 5.10199\tvalid_1's rmse: 2.25876\n",
            "[440]\ttraining's l2: 3.35454\ttraining's rmse: 1.83154\tvalid_1's l2: 5.10105\tvalid_1's rmse: 2.25855\n",
            "[441]\ttraining's l2: 3.3527\ttraining's rmse: 1.83104\tvalid_1's l2: 5.10215\tvalid_1's rmse: 2.25879\n",
            "[442]\ttraining's l2: 3.35051\ttraining's rmse: 1.83044\tvalid_1's l2: 5.10247\tvalid_1's rmse: 2.25887\n",
            "[443]\ttraining's l2: 3.34879\ttraining's rmse: 1.82997\tvalid_1's l2: 5.10259\tvalid_1's rmse: 2.25889\n",
            "[444]\ttraining's l2: 3.34675\ttraining's rmse: 1.82941\tvalid_1's l2: 5.10347\tvalid_1's rmse: 2.25909\n",
            "[445]\ttraining's l2: 3.34429\ttraining's rmse: 1.82874\tvalid_1's l2: 5.10465\tvalid_1's rmse: 2.25935\n",
            "[446]\ttraining's l2: 3.34158\ttraining's rmse: 1.828\tvalid_1's l2: 5.10451\tvalid_1's rmse: 2.25932\n",
            "[447]\ttraining's l2: 3.33882\ttraining's rmse: 1.82724\tvalid_1's l2: 5.10611\tvalid_1's rmse: 2.25967\n",
            "[448]\ttraining's l2: 3.33662\ttraining's rmse: 1.82664\tvalid_1's l2: 5.10692\tvalid_1's rmse: 2.25985\n",
            "[449]\ttraining's l2: 3.33177\ttraining's rmse: 1.82531\tvalid_1's l2: 5.10428\tvalid_1's rmse: 2.25926\n",
            "[450]\ttraining's l2: 3.33005\ttraining's rmse: 1.82484\tvalid_1's l2: 5.10563\tvalid_1's rmse: 2.25956\n",
            "[451]\ttraining's l2: 3.32546\ttraining's rmse: 1.82358\tvalid_1's l2: 5.10405\tvalid_1's rmse: 2.25921\n",
            "[452]\ttraining's l2: 3.32246\ttraining's rmse: 1.82276\tvalid_1's l2: 5.10531\tvalid_1's rmse: 2.25949\n",
            "[453]\ttraining's l2: 3.32037\ttraining's rmse: 1.82219\tvalid_1's l2: 5.10506\tvalid_1's rmse: 2.25944\n",
            "[454]\ttraining's l2: 3.31812\ttraining's rmse: 1.82157\tvalid_1's l2: 5.10466\tvalid_1's rmse: 2.25935\n",
            "[455]\ttraining's l2: 3.31589\ttraining's rmse: 1.82096\tvalid_1's l2: 5.10593\tvalid_1's rmse: 2.25963\n",
            "[456]\ttraining's l2: 3.3142\ttraining's rmse: 1.8205\tvalid_1's l2: 5.1067\tvalid_1's rmse: 2.2598\n",
            "[457]\ttraining's l2: 3.31214\ttraining's rmse: 1.81993\tvalid_1's l2: 5.10657\tvalid_1's rmse: 2.25977\n",
            "Early stopping, best iteration is:\n",
            "[157]\ttraining's l2: 4.28443\ttraining's rmse: 2.06989\tvalid_1's l2: 5.02766\tvalid_1's rmse: 2.24224\n",
            "CPU times: user 1min 11s, sys: 1.42 s, total: 1min 12s\n",
            "Wall time: 37.9 s\n"
          ],
          "name": "stdout"
        },
        {
          "output_type": "execute_result",
          "data": {
            "text/plain": [
              "LGBMRegressor(boosting_type='gbdt', class_weight=None, colsample_bytree=0.681,\n",
              "       importance_type='split', learning_rate=0.08, max_depth=-1,\n",
              "       min_child_samples=20, min_child_weight=100.0,\n",
              "       min_split_gain=1.153453257821093e-05, n_estimators=1000, n_jobs=-1,\n",
              "       num_leaves=128, objective=None, random_state=None,\n",
              "       reg_alpha=0.0005683292391383383, reg_lambda=1.3896326196366016e-05,\n",
              "       silent=True, subsample=0.2217, subsample_for_bin=200000,\n",
              "       subsample_freq=0)"
            ]
          },
          "metadata": {
            "tags": []
          },
          "execution_count": 17
        }
      ]
    },
    {
      "metadata": {
        "id": "KR4TV1SLlRS-",
        "colab_type": "code",
        "outputId": "6ae7f739-38c0-4f40-bf7e-c987771aee13",
        "colab": {
          "base_uri": "https://localhost:8080/",
          "height": 51
        }
      },
      "cell_type": "code",
      "source": [
        "%%time\n",
        "pickle.dump(model, open(filename, 'wb'))\n",
        "\n",
        "# files.download(filename) "
      ],
      "execution_count": 18,
      "outputs": [
        {
          "output_type": "stream",
          "text": [
            "CPU times: user 115 ms, sys: 1.01 ms, total: 116 ms\n",
            "Wall time: 696 ms\n"
          ],
          "name": "stdout"
        }
      ]
    },
    {
      "metadata": {
        "id": "ufrMRIH19c05",
        "colab_type": "code",
        "colab": {}
      },
      "cell_type": "code",
      "source": [
        ""
      ],
      "execution_count": 0,
      "outputs": []
    }
  ]
}