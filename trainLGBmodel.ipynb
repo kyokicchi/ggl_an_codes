{
  "nbformat": 4,
  "nbformat_minor": 0,
  "metadata": {
    "colab": {
      "name": "trainLGBmodel.ipynb",
      "version": "0.3.2",
      "provenance": [],
      "collapsed_sections": [],
      "include_colab_link": true
    },
    "kernelspec": {
      "name": "python3",
      "display_name": "Python 3"
    },
    "accelerator": "GPU"
  },
  "cells": [
    {
      "cell_type": "markdown",
      "metadata": {
        "id": "view-in-github",
        "colab_type": "text"
      },
      "source": [
        "[View in Colaboratory](https://colab.research.google.com/github/kyokicchi/ggl_an_codes/blob/master/trainLGBmodel.ipynb)"
      ]
    },
    {
      "metadata": {
        "id": "H8X_jxlYnrn3",
        "colab_type": "code",
        "outputId": "8054b54d-aa53-48ec-d02c-f8d92a4231bd",
        "colab": {
          "base_uri": "https://localhost:8080/",
          "height": 152
        }
      },
      "cell_type": "code",
      "source": [
        "!pip install lightgbm"
      ],
      "execution_count": 1,
      "outputs": [
        {
          "output_type": "stream",
          "text": [
            "Collecting lightgbm\n",
            "\u001b[?25l  Downloading https://files.pythonhosted.org/packages/78/7e/bc87e7951cfaa998cffaf39e6c721f5bd04efb2e139486206356edb289a5/lightgbm-2.2.1-py2.py3-none-manylinux1_x86_64.whl (1.1MB)\n",
            "\u001b[K    100% |████████████████████████████████| 1.1MB 11.9MB/s \n",
            "\u001b[?25hRequirement already satisfied: scikit-learn in /usr/local/lib/python3.6/dist-packages (from lightgbm) (0.19.2)\n",
            "Requirement already satisfied: numpy in /usr/local/lib/python3.6/dist-packages (from lightgbm) (1.14.6)\n",
            "Requirement already satisfied: scipy in /usr/local/lib/python3.6/dist-packages (from lightgbm) (0.19.1)\n",
            "Installing collected packages: lightgbm\n",
            "Successfully installed lightgbm-2.2.1\n"
          ],
          "name": "stdout"
        }
      ]
    },
    {
      "metadata": {
        "id": "7PrvKZYHs9n0",
        "colab_type": "code",
        "colab": {}
      },
      "cell_type": "code",
      "source": [
        "import lightgbm as lgb\n",
        "import numpy as np\n",
        "import pandas as pd\n",
        "from google.colab import drive\n",
        "from google.colab import files\n",
        "from sklearn.model_selection import train_test_split\n",
        "import pickle"
      ],
      "execution_count": 0,
      "outputs": []
    },
    {
      "metadata": {
        "id": "Uujx3hEhjfnX",
        "colab_type": "code",
        "outputId": "13f374af-8a20-4989-f117-c680f75e9c3e",
        "colab": {
          "base_uri": "https://localhost:8080/",
          "height": 121
        }
      },
      "cell_type": "code",
      "source": [
        "drive.mount('/content/gdrive')"
      ],
      "execution_count": 3,
      "outputs": [
        {
          "output_type": "stream",
          "text": [
            "Go to this URL in a browser: https://accounts.google.com/o/oauth2/auth?client_id=947318989803-6bn6qk8qdgf4n4g3pfee6491hc0brc4i.apps.googleusercontent.com&redirect_uri=urn%3Aietf%3Awg%3Aoauth%3A2.0%3Aoob&scope=email%20https%3A%2F%2Fwww.googleapis.com%2Fauth%2Fdocs.test%20https%3A%2F%2Fwww.googleapis.com%2Fauth%2Fdrive%20https%3A%2F%2Fwww.googleapis.com%2Fauth%2Fdrive.photos.readonly%20https%3A%2F%2Fwww.googleapis.com%2Fauth%2Fpeopleapi.readonly&response_type=code\n",
            "\n",
            "Enter your authorization code:\n",
            "··········\n",
            "Mounted at /content/gdrive\n"
          ],
          "name": "stdout"
        }
      ]
    },
    {
      "metadata": {
        "id": "LT06pjlMus4d",
        "colab_type": "code",
        "outputId": "97b80345-b2eb-4bb1-f21f-24691c1e4253",
        "colab": {
          "base_uri": "https://localhost:8080/",
          "height": 68
        }
      },
      "cell_type": "code",
      "source": [
        "%cd ../content/gdrive/My Drive/projects/ggl_an/\n",
        "%ls"
      ],
      "execution_count": 4,
      "outputs": [
        {
          "output_type": "stream",
          "text": [
            "/content/gdrive/My Drive/projects/ggl_an\n",
            "model_LGB.sav  model_XGB.sav  user_test_n.csv\n",
            "model_NN.h5    output.csv     user_train_n.csv\n"
          ],
          "name": "stdout"
        }
      ]
    },
    {
      "metadata": {
        "id": "8mAcQ8lo8Ixk",
        "colab_type": "code",
        "colab": {}
      },
      "cell_type": "code",
      "source": [
        "s_data = 'user_train_n.csv'\n",
        "filename = 'model_LGB.sav'\n",
        "s_col_tgt = 'transactionRevenue_sum'\n",
        "l_col_drop = [s_col_tgt]"
      ],
      "execution_count": 0,
      "outputs": []
    },
    {
      "metadata": {
        "id": "dOrJ1yGmnbrk",
        "colab_type": "code",
        "outputId": "1e7c383d-e1b6-40c1-90f4-fafcdf6658ea",
        "colab": {
          "base_uri": "https://localhost:8080/",
          "height": 68
        }
      },
      "cell_type": "code",
      "source": [
        "%%time\n",
        "df_train = pd.read_csv(s_data, index_col = 0)"
      ],
      "execution_count": 6,
      "outputs": [
        {
          "output_type": "stream",
          "text": [
            "<string>:2: DtypeWarning: Columns (0) have mixed types. Specify dtype option on import or set low_memory=False.\n"
          ],
          "name": "stderr"
        },
        {
          "output_type": "stream",
          "text": [
            "CPU times: user 8.34 s, sys: 1.04 s, total: 9.37 s\n",
            "Wall time: 12.4 s\n"
          ],
          "name": "stdout"
        }
      ]
    },
    {
      "metadata": {
        "id": "EtSbg4yv8Ch-",
        "colab_type": "code",
        "outputId": "95a64de1-371b-4fb9-cdcd-7cca332b18ce",
        "colab": {
          "base_uri": "https://localhost:8080/",
          "height": 51
        }
      },
      "cell_type": "code",
      "source": [
        "%%time\n",
        "df_y = df_train[s_col_tgt]\n",
        "df_x = df_train.drop(l_col_drop, axis=1)"
      ],
      "execution_count": 7,
      "outputs": [
        {
          "output_type": "stream",
          "text": [
            "CPU times: user 65 ms, sys: 186 ms, total: 251 ms\n",
            "Wall time: 250 ms\n"
          ],
          "name": "stdout"
        }
      ]
    },
    {
      "metadata": {
        "id": "sYWeiNW0j9cr",
        "colab_type": "code",
        "outputId": "3d9b8f3d-4176-4503-8ebd-1a2c7960b8c9",
        "colab": {
          "base_uri": "https://localhost:8080/",
          "height": 51
        }
      },
      "cell_type": "code",
      "source": [
        "%%time\n",
        "x_train, x_test, y_train, y_test = train_test_split(df_x, df_y)\n",
        "x_eval, x_valid, y_eval, y_valid = train_test_split(x_test, y_test)\n",
        "\n"
      ],
      "execution_count": 9,
      "outputs": [
        {
          "output_type": "stream",
          "text": [
            "CPU times: user 944 ms, sys: 139 ms, total: 1.08 s\n",
            "Wall time: 1.09 s\n"
          ],
          "name": "stdout"
        }
      ]
    },
    {
      "metadata": {
        "id": "A9vk5vnLlGFL",
        "colab_type": "code",
        "colab": {}
      },
      "cell_type": "code",
      "source": [
        "\n",
        "params = {\n",
        "    'learning_rate': 0.03,\n",
        "    'n_estimators': 200,\n",
        "    'num_leaves': 128,\n",
        "    'subsample': 0.2217,\n",
        "    'colsample_bytree': 0.6810,\n",
        "    'min_split_gain': np.power(10.0, -4.9380),\n",
        "    'reg_alpha': np.power(10.0, -3.2454),\n",
        "    'reg_lambda': np.power(10.0, -4.8571),\n",
        "    'min_child_weight': np.power(10.0, 2),\n",
        "    'silent': True\n",
        "}\n",
        "\n",
        "model = lgb.LGBMRegressor(**params)\n",
        "\n"
      ],
      "execution_count": 0,
      "outputs": []
    },
    {
      "metadata": {
        "id": "ItMWaVwslMJi",
        "colab_type": "code",
        "outputId": "aa7ac5a2-2abe-4fad-9dc1-a0ff0b5294fe",
        "colab": {
          "base_uri": "https://localhost:8080/",
          "height": 3621
        }
      },
      "cell_type": "code",
      "source": [
        "%%time\n",
        "model.fit(x_train, \n",
        "          y_train,\n",
        "          eval_set=[(x_train, y_train),(x_eval, y_eval)],\n",
        "          eval_metric='rmse',\n",
        "          early_stopping_rounds=100)"
      ],
      "execution_count": 11,
      "outputs": [
        {
          "output_type": "stream",
          "text": [
            "[1]\ttraining's rmse: 2.90526\ttraining's l2: 8.44056\tvalid_1's rmse: 2.79103\tvalid_1's l2: 7.78984\n",
            "Training until validation scores don't improve for 100 rounds.\n",
            "[2]\ttraining's rmse: 2.87437\ttraining's l2: 8.26202\tvalid_1's rmse: 2.76125\tvalid_1's l2: 7.6245\n",
            "[3]\ttraining's rmse: 2.84412\ttraining's l2: 8.08902\tvalid_1's rmse: 2.73133\tvalid_1's l2: 7.46014\n",
            "[4]\ttraining's rmse: 2.81569\ttraining's l2: 7.92809\tvalid_1's rmse: 2.7039\tvalid_1's l2: 7.31108\n",
            "[5]\ttraining's rmse: 2.78798\ttraining's l2: 7.77284\tvalid_1's rmse: 2.6771\tvalid_1's l2: 7.16688\n",
            "[6]\ttraining's rmse: 2.76148\ttraining's l2: 7.6258\tvalid_1's rmse: 2.65108\tvalid_1's l2: 7.0282\n",
            "[7]\ttraining's rmse: 2.73589\ttraining's l2: 7.48507\tvalid_1's rmse: 2.62596\tvalid_1's l2: 6.89565\n",
            "[8]\ttraining's rmse: 2.71249\ttraining's l2: 7.35763\tvalid_1's rmse: 2.60349\tvalid_1's l2: 6.77818\n",
            "[9]\ttraining's rmse: 2.68897\ttraining's l2: 7.23054\tvalid_1's rmse: 2.58064\tvalid_1's l2: 6.65968\n",
            "[10]\ttraining's rmse: 2.66658\ttraining's l2: 7.11063\tvalid_1's rmse: 2.55894\tvalid_1's l2: 6.54816\n",
            "[11]\ttraining's rmse: 2.64536\ttraining's l2: 6.9979\tvalid_1's rmse: 2.53829\tvalid_1's l2: 6.4429\n",
            "[12]\ttraining's rmse: 2.62488\ttraining's l2: 6.89002\tvalid_1's rmse: 2.51836\tvalid_1's l2: 6.34215\n",
            "[13]\ttraining's rmse: 2.60531\ttraining's l2: 6.78762\tvalid_1's rmse: 2.49927\tvalid_1's l2: 6.24636\n",
            "[14]\ttraining's rmse: 2.58751\ttraining's l2: 6.6952\tvalid_1's rmse: 2.48222\tvalid_1's l2: 6.1614\n",
            "[15]\ttraining's rmse: 2.57048\ttraining's l2: 6.60737\tvalid_1's rmse: 2.46622\tvalid_1's l2: 6.08226\n",
            "[16]\ttraining's rmse: 2.55364\ttraining's l2: 6.52109\tvalid_1's rmse: 2.45019\tvalid_1's l2: 6.00342\n",
            "[17]\ttraining's rmse: 2.53833\ttraining's l2: 6.44314\tvalid_1's rmse: 2.43576\tvalid_1's l2: 5.93293\n",
            "[18]\ttraining's rmse: 2.52284\ttraining's l2: 6.36474\tvalid_1's rmse: 2.42132\tvalid_1's l2: 5.86279\n",
            "[19]\ttraining's rmse: 2.508\ttraining's l2: 6.29007\tvalid_1's rmse: 2.40752\tvalid_1's l2: 5.79617\n",
            "[20]\ttraining's rmse: 2.49496\ttraining's l2: 6.22484\tvalid_1's rmse: 2.39515\tvalid_1's l2: 5.73673\n",
            "[21]\ttraining's rmse: 2.48113\ttraining's l2: 6.15601\tvalid_1's rmse: 2.38261\tvalid_1's l2: 5.67684\n",
            "[22]\ttraining's rmse: 2.46833\ttraining's l2: 6.09264\tvalid_1's rmse: 2.37067\tvalid_1's l2: 5.6201\n",
            "[23]\ttraining's rmse: 2.45452\ttraining's l2: 6.02465\tvalid_1's rmse: 2.35734\tvalid_1's l2: 5.55703\n",
            "[24]\ttraining's rmse: 2.44242\ttraining's l2: 5.96542\tvalid_1's rmse: 2.3464\tvalid_1's l2: 5.50557\n",
            "[25]\ttraining's rmse: 2.43101\ttraining's l2: 5.90981\tvalid_1's rmse: 2.33606\tvalid_1's l2: 5.45719\n",
            "[26]\ttraining's rmse: 2.42035\ttraining's l2: 5.85809\tvalid_1's rmse: 2.32628\tvalid_1's l2: 5.41157\n",
            "[27]\ttraining's rmse: 2.4102\ttraining's l2: 5.80906\tvalid_1's rmse: 2.317\tvalid_1's l2: 5.36851\n",
            "[28]\ttraining's rmse: 2.40037\ttraining's l2: 5.7618\tvalid_1's rmse: 2.30831\tvalid_1's l2: 5.32828\n",
            "[29]\ttraining's rmse: 2.39097\ttraining's l2: 5.71676\tvalid_1's rmse: 2.29978\tvalid_1's l2: 5.28897\n",
            "[30]\ttraining's rmse: 2.38172\ttraining's l2: 5.67257\tvalid_1's rmse: 2.29149\tvalid_1's l2: 5.25091\n",
            "[31]\ttraining's rmse: 2.37134\ttraining's l2: 5.62324\tvalid_1's rmse: 2.28201\tvalid_1's l2: 5.20758\n",
            "[32]\ttraining's rmse: 2.36338\ttraining's l2: 5.58558\tvalid_1's rmse: 2.2752\tvalid_1's l2: 5.17653\n",
            "[33]\ttraining's rmse: 2.3555\ttraining's l2: 5.5484\tvalid_1's rmse: 2.26819\tvalid_1's l2: 5.14468\n",
            "[34]\ttraining's rmse: 2.34784\ttraining's l2: 5.51235\tvalid_1's rmse: 2.26175\tvalid_1's l2: 5.1155\n",
            "[35]\ttraining's rmse: 2.34046\ttraining's l2: 5.47774\tvalid_1's rmse: 2.25555\tvalid_1's l2: 5.08749\n",
            "[36]\ttraining's rmse: 2.33188\ttraining's l2: 5.43766\tvalid_1's rmse: 2.24762\tvalid_1's l2: 5.05181\n",
            "[37]\ttraining's rmse: 2.32511\ttraining's l2: 5.40611\tvalid_1's rmse: 2.24176\tvalid_1's l2: 5.02548\n",
            "[38]\ttraining's rmse: 2.31844\ttraining's l2: 5.37518\tvalid_1's rmse: 2.23601\tvalid_1's l2: 4.99975\n",
            "[39]\ttraining's rmse: 2.31235\ttraining's l2: 5.34695\tvalid_1's rmse: 2.23063\tvalid_1's l2: 4.97571\n",
            "[40]\ttraining's rmse: 2.30662\ttraining's l2: 5.32051\tvalid_1's rmse: 2.22585\tvalid_1's l2: 4.95439\n",
            "[41]\ttraining's rmse: 2.30166\ttraining's l2: 5.29766\tvalid_1's rmse: 2.22184\tvalid_1's l2: 4.93659\n",
            "[42]\ttraining's rmse: 2.29577\ttraining's l2: 5.27057\tvalid_1's rmse: 2.21745\tvalid_1's l2: 4.91708\n",
            "[43]\ttraining's rmse: 2.29058\ttraining's l2: 5.24678\tvalid_1's rmse: 2.21335\tvalid_1's l2: 4.89894\n",
            "[44]\ttraining's rmse: 2.28389\ttraining's l2: 5.21615\tvalid_1's rmse: 2.2076\tvalid_1's l2: 4.87349\n",
            "[45]\ttraining's rmse: 2.27902\ttraining's l2: 5.19393\tvalid_1's rmse: 2.20368\tvalid_1's l2: 4.85621\n",
            "[46]\ttraining's rmse: 2.27471\ttraining's l2: 5.1743\tvalid_1's rmse: 2.20018\tvalid_1's l2: 4.84078\n",
            "[47]\ttraining's rmse: 2.27041\ttraining's l2: 5.15478\tvalid_1's rmse: 2.19708\tvalid_1's l2: 4.82714\n",
            "[48]\ttraining's rmse: 2.26585\ttraining's l2: 5.13405\tvalid_1's rmse: 2.19354\tvalid_1's l2: 4.81161\n",
            "[49]\ttraining's rmse: 2.2615\ttraining's l2: 5.11439\tvalid_1's rmse: 2.19029\tvalid_1's l2: 4.79738\n",
            "[50]\ttraining's rmse: 2.25738\ttraining's l2: 5.09577\tvalid_1's rmse: 2.18685\tvalid_1's l2: 4.78233\n",
            "[51]\ttraining's rmse: 2.25235\ttraining's l2: 5.07306\tvalid_1's rmse: 2.18354\tvalid_1's l2: 4.76785\n",
            "[52]\ttraining's rmse: 2.24883\ttraining's l2: 5.05725\tvalid_1's rmse: 2.18138\tvalid_1's l2: 4.75842\n",
            "[53]\ttraining's rmse: 2.24504\ttraining's l2: 5.04022\tvalid_1's rmse: 2.17862\tvalid_1's l2: 4.74641\n",
            "[54]\ttraining's rmse: 2.24125\ttraining's l2: 5.02319\tvalid_1's rmse: 2.17598\tvalid_1's l2: 4.73488\n",
            "[55]\ttraining's rmse: 2.23676\ttraining's l2: 5.00311\tvalid_1's rmse: 2.17349\tvalid_1's l2: 4.72405\n",
            "[56]\ttraining's rmse: 2.23172\ttraining's l2: 4.98057\tvalid_1's rmse: 2.16917\tvalid_1's l2: 4.70528\n",
            "[57]\ttraining's rmse: 2.2285\ttraining's l2: 4.96623\tvalid_1's rmse: 2.1671\tvalid_1's l2: 4.6963\n",
            "[58]\ttraining's rmse: 2.22522\ttraining's l2: 4.95159\tvalid_1's rmse: 2.16508\tvalid_1's l2: 4.68757\n",
            "[59]\ttraining's rmse: 2.22114\ttraining's l2: 4.93345\tvalid_1's rmse: 2.16267\tvalid_1's l2: 4.67716\n",
            "[60]\ttraining's rmse: 2.21803\ttraining's l2: 4.91965\tvalid_1's rmse: 2.16059\tvalid_1's l2: 4.66817\n",
            "[61]\ttraining's rmse: 2.21484\ttraining's l2: 4.90551\tvalid_1's rmse: 2.15865\tvalid_1's l2: 4.65977\n",
            "[62]\ttraining's rmse: 2.21191\ttraining's l2: 4.89252\tvalid_1's rmse: 2.15657\tvalid_1's l2: 4.65079\n",
            "[63]\ttraining's rmse: 2.20912\ttraining's l2: 4.88021\tvalid_1's rmse: 2.15497\tvalid_1's l2: 4.64389\n",
            "[64]\ttraining's rmse: 2.20542\ttraining's l2: 4.86386\tvalid_1's rmse: 2.15327\tvalid_1's l2: 4.63657\n",
            "[65]\ttraining's rmse: 2.202\ttraining's l2: 4.84879\tvalid_1's rmse: 2.15067\tvalid_1's l2: 4.62538\n",
            "[66]\ttraining's rmse: 2.19903\ttraining's l2: 4.83572\tvalid_1's rmse: 2.14869\tvalid_1's l2: 4.61688\n",
            "[67]\ttraining's rmse: 2.1951\ttraining's l2: 4.81847\tvalid_1's rmse: 2.14549\tvalid_1's l2: 4.60311\n",
            "[68]\ttraining's rmse: 2.19171\ttraining's l2: 4.80361\tvalid_1's rmse: 2.14289\tvalid_1's l2: 4.59199\n",
            "[69]\ttraining's rmse: 2.18808\ttraining's l2: 4.78767\tvalid_1's rmse: 2.13999\tvalid_1's l2: 4.57955\n",
            "[70]\ttraining's rmse: 2.18545\ttraining's l2: 4.7762\tvalid_1's rmse: 2.13845\tvalid_1's l2: 4.57296\n",
            "[71]\ttraining's rmse: 2.18292\ttraining's l2: 4.76515\tvalid_1's rmse: 2.13685\tvalid_1's l2: 4.56615\n",
            "[72]\ttraining's rmse: 2.18022\ttraining's l2: 4.75335\tvalid_1's rmse: 2.13519\tvalid_1's l2: 4.55902\n",
            "[73]\ttraining's rmse: 2.17791\ttraining's l2: 4.74328\tvalid_1's rmse: 2.13391\tvalid_1's l2: 4.55359\n",
            "[74]\ttraining's rmse: 2.17539\ttraining's l2: 4.73233\tvalid_1's rmse: 2.13239\tvalid_1's l2: 4.54709\n",
            "[75]\ttraining's rmse: 2.17254\ttraining's l2: 4.71994\tvalid_1's rmse: 2.13131\tvalid_1's l2: 4.54247\n",
            "[76]\ttraining's rmse: 2.16995\ttraining's l2: 4.7087\tvalid_1's rmse: 2.12942\tvalid_1's l2: 4.53441\n",
            "[77]\ttraining's rmse: 2.16748\ttraining's l2: 4.69797\tvalid_1's rmse: 2.12765\tvalid_1's l2: 4.52691\n",
            "[78]\ttraining's rmse: 2.16501\ttraining's l2: 4.68728\tvalid_1's rmse: 2.12582\tvalid_1's l2: 4.5191\n",
            "[79]\ttraining's rmse: 2.162\ttraining's l2: 4.67423\tvalid_1's rmse: 2.1242\tvalid_1's l2: 4.51224\n",
            "[80]\ttraining's rmse: 2.15984\ttraining's l2: 4.6649\tvalid_1's rmse: 2.12309\tvalid_1's l2: 4.50751\n",
            "[81]\ttraining's rmse: 2.15782\ttraining's l2: 4.65619\tvalid_1's rmse: 2.1224\tvalid_1's l2: 4.50457\n",
            "[82]\ttraining's rmse: 2.15569\ttraining's l2: 4.647\tvalid_1's rmse: 2.12105\tvalid_1's l2: 4.49886\n",
            "[83]\ttraining's rmse: 2.15361\ttraining's l2: 4.63803\tvalid_1's rmse: 2.1199\tvalid_1's l2: 4.49398\n",
            "[84]\ttraining's rmse: 2.15151\ttraining's l2: 4.62899\tvalid_1's rmse: 2.11914\tvalid_1's l2: 4.49076\n",
            "[85]\ttraining's rmse: 2.14912\ttraining's l2: 4.61872\tvalid_1's rmse: 2.1184\tvalid_1's l2: 4.4876\n",
            "[86]\ttraining's rmse: 2.14718\ttraining's l2: 4.6104\tvalid_1's rmse: 2.1171\tvalid_1's l2: 4.48212\n",
            "[87]\ttraining's rmse: 2.14436\ttraining's l2: 4.59828\tvalid_1's rmse: 2.11619\tvalid_1's l2: 4.47824\n",
            "[88]\ttraining's rmse: 2.14176\ttraining's l2: 4.58714\tvalid_1's rmse: 2.11544\tvalid_1's l2: 4.4751\n",
            "[89]\ttraining's rmse: 2.13995\ttraining's l2: 4.57939\tvalid_1's rmse: 2.11449\tvalid_1's l2: 4.47106\n",
            "[90]\ttraining's rmse: 2.13804\ttraining's l2: 4.57121\tvalid_1's rmse: 2.11344\tvalid_1's l2: 4.46661\n",
            "[91]\ttraining's rmse: 2.13518\ttraining's l2: 4.559\tvalid_1's rmse: 2.11217\tvalid_1's l2: 4.46128\n",
            "[92]\ttraining's rmse: 2.13246\ttraining's l2: 4.5474\tvalid_1's rmse: 2.11112\tvalid_1's l2: 4.45682\n",
            "[93]\ttraining's rmse: 2.12998\ttraining's l2: 4.5368\tvalid_1's rmse: 2.11016\tvalid_1's l2: 4.45277\n",
            "[94]\ttraining's rmse: 2.12811\ttraining's l2: 4.52886\tvalid_1's rmse: 2.10926\tvalid_1's l2: 4.44899\n",
            "[95]\ttraining's rmse: 2.12582\ttraining's l2: 4.5191\tvalid_1's rmse: 2.10866\tvalid_1's l2: 4.44644\n",
            "[96]\ttraining's rmse: 2.1234\ttraining's l2: 4.50884\tvalid_1's rmse: 2.10793\tvalid_1's l2: 4.44338\n",
            "[97]\ttraining's rmse: 2.12166\ttraining's l2: 4.50146\tvalid_1's rmse: 2.10689\tvalid_1's l2: 4.43899\n",
            "[98]\ttraining's rmse: 2.11979\ttraining's l2: 4.49349\tvalid_1's rmse: 2.10604\tvalid_1's l2: 4.43542\n",
            "[99]\ttraining's rmse: 2.11807\ttraining's l2: 4.4862\tvalid_1's rmse: 2.1058\tvalid_1's l2: 4.43441\n",
            "[100]\ttraining's rmse: 2.11564\ttraining's l2: 4.47593\tvalid_1's rmse: 2.10473\tvalid_1's l2: 4.4299\n",
            "[101]\ttraining's rmse: 2.11329\ttraining's l2: 4.46599\tvalid_1's rmse: 2.1037\tvalid_1's l2: 4.42554\n",
            "[102]\ttraining's rmse: 2.11171\ttraining's l2: 4.4593\tvalid_1's rmse: 2.10306\tvalid_1's l2: 4.42285\n",
            "[103]\ttraining's rmse: 2.11019\ttraining's l2: 4.4529\tvalid_1's rmse: 2.1024\tvalid_1's l2: 4.42009\n",
            "[104]\ttraining's rmse: 2.10864\ttraining's l2: 4.44638\tvalid_1's rmse: 2.10171\tvalid_1's l2: 4.4172\n",
            "[105]\ttraining's rmse: 2.10709\ttraining's l2: 4.43983\tvalid_1's rmse: 2.10126\tvalid_1's l2: 4.4153\n",
            "[106]\ttraining's rmse: 2.10559\ttraining's l2: 4.43351\tvalid_1's rmse: 2.10063\tvalid_1's l2: 4.41266\n",
            "[107]\ttraining's rmse: 2.10395\ttraining's l2: 4.42661\tvalid_1's rmse: 2.10005\tvalid_1's l2: 4.41022\n",
            "[108]\ttraining's rmse: 2.10249\ttraining's l2: 4.42045\tvalid_1's rmse: 2.09955\tvalid_1's l2: 4.40813\n",
            "[109]\ttraining's rmse: 2.10105\ttraining's l2: 4.41443\tvalid_1's rmse: 2.09907\tvalid_1's l2: 4.4061\n",
            "[110]\ttraining's rmse: 2.09966\ttraining's l2: 4.40858\tvalid_1's rmse: 2.09863\tvalid_1's l2: 4.40423\n",
            "[111]\ttraining's rmse: 2.0982\ttraining's l2: 4.40244\tvalid_1's rmse: 2.09809\tvalid_1's l2: 4.40197\n",
            "[112]\ttraining's rmse: 2.09681\ttraining's l2: 4.39659\tvalid_1's rmse: 2.09763\tvalid_1's l2: 4.40007\n",
            "[113]\ttraining's rmse: 2.09527\ttraining's l2: 4.39017\tvalid_1's rmse: 2.09706\tvalid_1's l2: 4.39765\n",
            "[114]\ttraining's rmse: 2.09381\ttraining's l2: 4.38404\tvalid_1's rmse: 2.09697\tvalid_1's l2: 4.39728\n",
            "[115]\ttraining's rmse: 2.09239\ttraining's l2: 4.37812\tvalid_1's rmse: 2.09648\tvalid_1's l2: 4.39522\n",
            "[116]\ttraining's rmse: 2.09073\ttraining's l2: 4.37117\tvalid_1's rmse: 2.09591\tvalid_1's l2: 4.39285\n",
            "[117]\ttraining's rmse: 2.08913\ttraining's l2: 4.36445\tvalid_1's rmse: 2.09585\tvalid_1's l2: 4.39258\n",
            "[118]\ttraining's rmse: 2.08755\ttraining's l2: 4.35786\tvalid_1's rmse: 2.09538\tvalid_1's l2: 4.3906\n",
            "[119]\ttraining's rmse: 2.08622\ttraining's l2: 4.35231\tvalid_1's rmse: 2.09524\tvalid_1's l2: 4.39001\n",
            "[120]\ttraining's rmse: 2.08467\ttraining's l2: 4.34585\tvalid_1's rmse: 2.09466\tvalid_1's l2: 4.38759\n",
            "[121]\ttraining's rmse: 2.08334\ttraining's l2: 4.34031\tvalid_1's rmse: 2.09432\tvalid_1's l2: 4.38617\n",
            "[122]\ttraining's rmse: 2.08187\ttraining's l2: 4.3342\tvalid_1's rmse: 2.09389\tvalid_1's l2: 4.38436\n",
            "[123]\ttraining's rmse: 2.08046\ttraining's l2: 4.32833\tvalid_1's rmse: 2.09368\tvalid_1's l2: 4.38351\n",
            "[124]\ttraining's rmse: 2.07916\ttraining's l2: 4.3229\tvalid_1's rmse: 2.09335\tvalid_1's l2: 4.38213\n",
            "[125]\ttraining's rmse: 2.07774\ttraining's l2: 4.31699\tvalid_1's rmse: 2.09283\tvalid_1's l2: 4.37994\n",
            "[126]\ttraining's rmse: 2.07656\ttraining's l2: 4.31212\tvalid_1's rmse: 2.09262\tvalid_1's l2: 4.37907\n",
            "[127]\ttraining's rmse: 2.07533\ttraining's l2: 4.307\tvalid_1's rmse: 2.0926\tvalid_1's l2: 4.37899\n",
            "[128]\ttraining's rmse: 2.07396\ttraining's l2: 4.30131\tvalid_1's rmse: 2.09206\tvalid_1's l2: 4.37673\n",
            "[129]\ttraining's rmse: 2.07285\ttraining's l2: 4.29669\tvalid_1's rmse: 2.09174\tvalid_1's l2: 4.37538\n",
            "[130]\ttraining's rmse: 2.07156\ttraining's l2: 4.29134\tvalid_1's rmse: 2.09148\tvalid_1's l2: 4.37427\n",
            "[131]\ttraining's rmse: 2.07026\ttraining's l2: 4.28599\tvalid_1's rmse: 2.09109\tvalid_1's l2: 4.37264\n",
            "[132]\ttraining's rmse: 2.06917\ttraining's l2: 4.28147\tvalid_1's rmse: 2.09075\tvalid_1's l2: 4.37124\n",
            "[133]\ttraining's rmse: 2.06805\ttraining's l2: 4.27683\tvalid_1's rmse: 2.0906\tvalid_1's l2: 4.37061\n",
            "[134]\ttraining's rmse: 2.06687\ttraining's l2: 4.27197\tvalid_1's rmse: 2.09073\tvalid_1's l2: 4.37117\n",
            "[135]\ttraining's rmse: 2.06583\ttraining's l2: 4.26767\tvalid_1's rmse: 2.09074\tvalid_1's l2: 4.3712\n",
            "[136]\ttraining's rmse: 2.06484\ttraining's l2: 4.26356\tvalid_1's rmse: 2.09038\tvalid_1's l2: 4.3697\n",
            "[137]\ttraining's rmse: 2.06372\ttraining's l2: 4.25895\tvalid_1's rmse: 2.08996\tvalid_1's l2: 4.36795\n",
            "[138]\ttraining's rmse: 2.06272\ttraining's l2: 4.25483\tvalid_1's rmse: 2.08984\tvalid_1's l2: 4.36743\n",
            "[139]\ttraining's rmse: 2.06165\ttraining's l2: 4.25041\tvalid_1's rmse: 2.08952\tvalid_1's l2: 4.36609\n",
            "[140]\ttraining's rmse: 2.06054\ttraining's l2: 4.24582\tvalid_1's rmse: 2.08927\tvalid_1's l2: 4.36503\n",
            "[141]\ttraining's rmse: 2.05957\ttraining's l2: 4.24184\tvalid_1's rmse: 2.08927\tvalid_1's l2: 4.36504\n",
            "[142]\ttraining's rmse: 2.05855\ttraining's l2: 4.23762\tvalid_1's rmse: 2.08912\tvalid_1's l2: 4.3644\n",
            "[143]\ttraining's rmse: 2.05736\ttraining's l2: 4.23275\tvalid_1's rmse: 2.08888\tvalid_1's l2: 4.3634\n",
            "[144]\ttraining's rmse: 2.05637\ttraining's l2: 4.22866\tvalid_1's rmse: 2.08888\tvalid_1's l2: 4.36342\n",
            "[145]\ttraining's rmse: 2.05554\ttraining's l2: 4.22523\tvalid_1's rmse: 2.08865\tvalid_1's l2: 4.36247\n",
            "[146]\ttraining's rmse: 2.05439\ttraining's l2: 4.22053\tvalid_1's rmse: 2.08825\tvalid_1's l2: 4.36077\n",
            "[147]\ttraining's rmse: 2.05344\ttraining's l2: 4.21664\tvalid_1's rmse: 2.0882\tvalid_1's l2: 4.36057\n",
            "[148]\ttraining's rmse: 2.05247\ttraining's l2: 4.21264\tvalid_1's rmse: 2.08787\tvalid_1's l2: 4.35921\n",
            "[149]\ttraining's rmse: 2.0515\ttraining's l2: 4.20864\tvalid_1's rmse: 2.08766\tvalid_1's l2: 4.35832\n",
            "[150]\ttraining's rmse: 2.0506\ttraining's l2: 4.20497\tvalid_1's rmse: 2.08763\tvalid_1's l2: 4.35819\n",
            "[151]\ttraining's rmse: 2.04976\ttraining's l2: 4.20151\tvalid_1's rmse: 2.08766\tvalid_1's l2: 4.35833\n",
            "[152]\ttraining's rmse: 2.04876\ttraining's l2: 4.19743\tvalid_1's rmse: 2.08727\tvalid_1's l2: 4.3567\n",
            "[153]\ttraining's rmse: 2.04771\ttraining's l2: 4.1931\tvalid_1's rmse: 2.08719\tvalid_1's l2: 4.35636\n",
            "[154]\ttraining's rmse: 2.04682\ttraining's l2: 4.18948\tvalid_1's rmse: 2.08716\tvalid_1's l2: 4.35625\n",
            "[155]\ttraining's rmse: 2.04593\ttraining's l2: 4.18585\tvalid_1's rmse: 2.08722\tvalid_1's l2: 4.3565\n",
            "[156]\ttraining's rmse: 2.04498\ttraining's l2: 4.18196\tvalid_1's rmse: 2.08723\tvalid_1's l2: 4.35654\n",
            "[157]\ttraining's rmse: 2.04402\ttraining's l2: 4.17803\tvalid_1's rmse: 2.08735\tvalid_1's l2: 4.35703\n",
            "[158]\ttraining's rmse: 2.04312\ttraining's l2: 4.17433\tvalid_1's rmse: 2.08714\tvalid_1's l2: 4.35614\n",
            "[159]\ttraining's rmse: 2.04217\ttraining's l2: 4.17047\tvalid_1's rmse: 2.08687\tvalid_1's l2: 4.35504\n",
            "[160]\ttraining's rmse: 2.04132\ttraining's l2: 4.16698\tvalid_1's rmse: 2.08661\tvalid_1's l2: 4.35393\n",
            "[161]\ttraining's rmse: 2.0405\ttraining's l2: 4.16366\tvalid_1's rmse: 2.0865\tvalid_1's l2: 4.35349\n",
            "[162]\ttraining's rmse: 2.0397\ttraining's l2: 4.16036\tvalid_1's rmse: 2.08643\tvalid_1's l2: 4.35319\n",
            "[163]\ttraining's rmse: 2.03884\ttraining's l2: 4.15689\tvalid_1's rmse: 2.08637\tvalid_1's l2: 4.35296\n",
            "[164]\ttraining's rmse: 2.03808\ttraining's l2: 4.15379\tvalid_1's rmse: 2.0862\tvalid_1's l2: 4.35223\n",
            "[165]\ttraining's rmse: 2.03722\ttraining's l2: 4.15028\tvalid_1's rmse: 2.08626\tvalid_1's l2: 4.3525\n",
            "[166]\ttraining's rmse: 2.03639\ttraining's l2: 4.1469\tvalid_1's rmse: 2.08613\tvalid_1's l2: 4.35193\n",
            "[167]\ttraining's rmse: 2.03563\ttraining's l2: 4.14379\tvalid_1's rmse: 2.08597\tvalid_1's l2: 4.35128\n",
            "[168]\ttraining's rmse: 2.03474\ttraining's l2: 4.14019\tvalid_1's rmse: 2.08582\tvalid_1's l2: 4.35064\n",
            "[169]\ttraining's rmse: 2.03394\ttraining's l2: 4.13691\tvalid_1's rmse: 2.08576\tvalid_1's l2: 4.3504\n",
            "[170]\ttraining's rmse: 2.03309\ttraining's l2: 4.13347\tvalid_1's rmse: 2.08559\tvalid_1's l2: 4.34968\n",
            "[171]\ttraining's rmse: 2.03222\ttraining's l2: 4.12993\tvalid_1's rmse: 2.08545\tvalid_1's l2: 4.34911\n",
            "[172]\ttraining's rmse: 2.03152\ttraining's l2: 4.12705\tvalid_1's rmse: 2.08525\tvalid_1's l2: 4.34829\n",
            "[173]\ttraining's rmse: 2.03067\ttraining's l2: 4.12361\tvalid_1's rmse: 2.08525\tvalid_1's l2: 4.34826\n",
            "[174]\ttraining's rmse: 2.02991\ttraining's l2: 4.12054\tvalid_1's rmse: 2.08508\tvalid_1's l2: 4.34757\n",
            "[175]\ttraining's rmse: 2.02915\ttraining's l2: 4.11744\tvalid_1's rmse: 2.08502\tvalid_1's l2: 4.34729\n",
            "[176]\ttraining's rmse: 2.0283\ttraining's l2: 4.114\tvalid_1's rmse: 2.08491\tvalid_1's l2: 4.34683\n",
            "[177]\ttraining's rmse: 2.02748\ttraining's l2: 4.11066\tvalid_1's rmse: 2.0847\tvalid_1's l2: 4.34596\n",
            "[178]\ttraining's rmse: 2.02672\ttraining's l2: 4.10761\tvalid_1's rmse: 2.08471\tvalid_1's l2: 4.34602\n",
            "[179]\ttraining's rmse: 2.02596\ttraining's l2: 4.1045\tvalid_1's rmse: 2.08453\tvalid_1's l2: 4.34526\n",
            "[180]\ttraining's rmse: 2.02519\ttraining's l2: 4.10141\tvalid_1's rmse: 2.08436\tvalid_1's l2: 4.34458\n",
            "[181]\ttraining's rmse: 2.02431\ttraining's l2: 4.09784\tvalid_1's rmse: 2.08438\tvalid_1's l2: 4.34462\n",
            "[182]\ttraining's rmse: 2.02345\ttraining's l2: 4.09435\tvalid_1's rmse: 2.08454\tvalid_1's l2: 4.34529\n",
            "[183]\ttraining's rmse: 2.0228\ttraining's l2: 4.09173\tvalid_1's rmse: 2.0844\tvalid_1's l2: 4.34474\n",
            "[184]\ttraining's rmse: 2.02198\ttraining's l2: 4.08842\tvalid_1's rmse: 2.08422\tvalid_1's l2: 4.34398\n",
            "[185]\ttraining's rmse: 2.02124\ttraining's l2: 4.0854\tvalid_1's rmse: 2.08387\tvalid_1's l2: 4.34249\n",
            "[186]\ttraining's rmse: 2.02055\ttraining's l2: 4.08263\tvalid_1's rmse: 2.08384\tvalid_1's l2: 4.34237\n",
            "[187]\ttraining's rmse: 2.01968\ttraining's l2: 4.07909\tvalid_1's rmse: 2.08378\tvalid_1's l2: 4.34212\n",
            "[188]\ttraining's rmse: 2.01895\ttraining's l2: 4.07615\tvalid_1's rmse: 2.08372\tvalid_1's l2: 4.3419\n",
            "[189]\ttraining's rmse: 2.01828\ttraining's l2: 4.07345\tvalid_1's rmse: 2.08379\tvalid_1's l2: 4.34219\n",
            "[190]\ttraining's rmse: 2.0175\ttraining's l2: 4.07032\tvalid_1's rmse: 2.08375\tvalid_1's l2: 4.342\n",
            "[191]\ttraining's rmse: 2.01688\ttraining's l2: 4.0678\tvalid_1's rmse: 2.0838\tvalid_1's l2: 4.34224\n",
            "[192]\ttraining's rmse: 2.01612\ttraining's l2: 4.06472\tvalid_1's rmse: 2.08391\tvalid_1's l2: 4.3427\n",
            "[193]\ttraining's rmse: 2.01554\ttraining's l2: 4.06239\tvalid_1's rmse: 2.08381\tvalid_1's l2: 4.34228\n",
            "[194]\ttraining's rmse: 2.01488\ttraining's l2: 4.05973\tvalid_1's rmse: 2.08376\tvalid_1's l2: 4.34204\n",
            "[195]\ttraining's rmse: 2.01417\ttraining's l2: 4.05689\tvalid_1's rmse: 2.08348\tvalid_1's l2: 4.34087\n",
            "[196]\ttraining's rmse: 2.01346\ttraining's l2: 4.05402\tvalid_1's rmse: 2.08333\tvalid_1's l2: 4.34027\n",
            "[197]\ttraining's rmse: 2.0128\ttraining's l2: 4.05137\tvalid_1's rmse: 2.08335\tvalid_1's l2: 4.34035\n",
            "[198]\ttraining's rmse: 2.01219\ttraining's l2: 4.0489\tvalid_1's rmse: 2.08329\tvalid_1's l2: 4.34008\n",
            "[199]\ttraining's rmse: 2.0113\ttraining's l2: 4.04531\tvalid_1's rmse: 2.08328\tvalid_1's l2: 4.34004\n",
            "[200]\ttraining's rmse: 2.01047\ttraining's l2: 4.04198\tvalid_1's rmse: 2.08337\tvalid_1's l2: 4.34043\n",
            "Did not meet early stopping. Best iteration is:\n",
            "[200]\ttraining's rmse: 2.01047\ttraining's l2: 4.04198\tvalid_1's rmse: 2.08337\tvalid_1's l2: 4.34043\n",
            "CPU times: user 51.5 s, sys: 1.02 s, total: 52.5 s\n",
            "Wall time: 27.7 s\n"
          ],
          "name": "stdout"
        },
        {
          "output_type": "execute_result",
          "data": {
            "text/plain": [
              "LGBMRegressor(boosting_type='gbdt', class_weight=None, colsample_bytree=0.681,\n",
              "       importance_type='split', learning_rate=0.03, max_depth=-1,\n",
              "       min_child_samples=20, min_child_weight=100.0,\n",
              "       min_split_gain=1.153453257821093e-05, n_estimators=200, n_jobs=-1,\n",
              "       num_leaves=128, objective=None, random_state=None,\n",
              "       reg_alpha=0.0005683292391383383, reg_lambda=1.3896326196366016e-05,\n",
              "       silent=True, subsample=0.2217, subsample_for_bin=200000,\n",
              "       subsample_freq=0)"
            ]
          },
          "metadata": {
            "tags": []
          },
          "execution_count": 11
        }
      ]
    },
    {
      "metadata": {
        "id": "KR4TV1SLlRS-",
        "colab_type": "code",
        "outputId": "4488df51-9e2c-4397-8b3a-25c681703e99",
        "colab": {
          "base_uri": "https://localhost:8080/",
          "height": 51
        }
      },
      "cell_type": "code",
      "source": [
        "%%time\n",
        "pickle.dump(model, open(filename, 'wb'))\n",
        "\n",
        "# files.download(filename) "
      ],
      "execution_count": 12,
      "outputs": [
        {
          "output_type": "stream",
          "text": [
            "CPU times: user 233 ms, sys: 3.07 ms, total: 236 ms\n",
            "Wall time: 933 ms\n"
          ],
          "name": "stdout"
        }
      ]
    },
    {
      "metadata": {
        "id": "ufrMRIH19c05",
        "colab_type": "code",
        "colab": {}
      },
      "cell_type": "code",
      "source": [
        ""
      ],
      "execution_count": 0,
      "outputs": []
    }
  ]
}