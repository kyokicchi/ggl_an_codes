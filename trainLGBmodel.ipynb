{
  "nbformat": 4,
  "nbformat_minor": 0,
  "metadata": {
    "colab": {
      "name": "trainLGBmodel.ipynb",
      "version": "0.3.2",
      "provenance": [],
      "collapsed_sections": [],
      "include_colab_link": true
    },
    "kernelspec": {
      "name": "python3",
      "display_name": "Python 3"
    },
    "accelerator": "GPU"
  },
  "cells": [
    {
      "cell_type": "markdown",
      "metadata": {
        "id": "view-in-github",
        "colab_type": "text"
      },
      "source": [
        "[View in Colaboratory](https://colab.research.google.com/github/kyokicchi/kaggle_codes/blob/master/trainLGBmodel.ipynb)"
      ]
    },
    {
      "metadata": {
        "id": "H8X_jxlYnrn3",
        "colab_type": "code",
        "colab": {
          "base_uri": "https://localhost:8080/",
          "height": 152
        },
        "outputId": "440b5ba5-dd7f-4926-86e6-d0deb93bad5b"
      },
      "cell_type": "code",
      "source": [
        "!pip install lightgbm"
      ],
      "execution_count": 1,
      "outputs": [
        {
          "output_type": "stream",
          "text": [
            "Collecting lightgbm\n",
            "\u001b[?25l  Downloading https://files.pythonhosted.org/packages/78/7e/bc87e7951cfaa998cffaf39e6c721f5bd04efb2e139486206356edb289a5/lightgbm-2.2.1-py2.py3-none-manylinux1_x86_64.whl (1.1MB)\n",
            "\u001b[K    100% |████████████████████████████████| 1.1MB 15.6MB/s \n",
            "\u001b[?25hRequirement already satisfied: scipy in /usr/local/lib/python3.6/dist-packages (from lightgbm) (0.19.1)\n",
            "Requirement already satisfied: numpy in /usr/local/lib/python3.6/dist-packages (from lightgbm) (1.14.6)\n",
            "Requirement already satisfied: scikit-learn in /usr/local/lib/python3.6/dist-packages (from lightgbm) (0.19.2)\n",
            "Installing collected packages: lightgbm\n",
            "Successfully installed lightgbm-2.2.1\n"
          ],
          "name": "stdout"
        }
      ]
    },
    {
      "metadata": {
        "id": "7PrvKZYHs9n0",
        "colab_type": "code",
        "colab": {}
      },
      "cell_type": "code",
      "source": [
        "import lightgbm as lgb\n",
        "import numpy as np\n",
        "import pandas as pd\n",
        "from google.colab import drive\n",
        "from google.colab import files\n",
        "from sklearn.model_selection import train_test_split\n",
        "import pickle"
      ],
      "execution_count": 0,
      "outputs": []
    },
    {
      "metadata": {
        "id": "Uujx3hEhjfnX",
        "colab_type": "code",
        "colab": {
          "base_uri": "https://localhost:8080/",
          "height": 138
        },
        "outputId": "d00c26e9-8bbc-4734-905d-4b6330581386"
      },
      "cell_type": "code",
      "source": [
        "drive.mount('/content/gdrive')"
      ],
      "execution_count": 3,
      "outputs": [
        {
          "output_type": "stream",
          "text": [
            "Go to this URL in a browser: https://accounts.google.com/o/oauth2/auth?client_id=947318989803-6bn6qk8qdgf4n4g3pfee6491hc0brc4i.apps.googleusercontent.com&redirect_uri=urn%3Aietf%3Awg%3Aoauth%3A2.0%3Aoob&scope=email%20https%3A%2F%2Fwww.googleapis.com%2Fauth%2Fdocs.test%20https%3A%2F%2Fwww.googleapis.com%2Fauth%2Fdrive%20https%3A%2F%2Fwww.googleapis.com%2Fauth%2Fdrive.photos.readonly%20https%3A%2F%2Fwww.googleapis.com%2Fauth%2Fpeopleapi.readonly&response_type=code\n",
            "\n",
            "Enter your authorization code:\n",
            "··········\n",
            "Mounted at /content/gdrive\n",
            "/content/gdrive/My Drive/projects\n"
          ],
          "name": "stdout"
        }
      ]
    },
    {
      "metadata": {
        "id": "LT06pjlMus4d",
        "colab_type": "code",
        "colab": {
          "base_uri": "https://localhost:8080/",
          "height": 68
        },
        "outputId": "188e0c5e-c0eb-4836-f1be-ff40e79fc86f"
      },
      "cell_type": "code",
      "source": [
        "%cd ../content/gdrive/My Drive/projects/\n",
        "%ls"
      ],
      "execution_count": 4,
      "outputs": [
        {
          "output_type": "stream",
          "text": [
            "[Errno 2] No such file or directory: '../content/gdrive/My Drive/projects/'\n",
            "/content/gdrive/My Drive/projects\n",
            "model_LGB.sav  user_train_wip.csv\n"
          ],
          "name": "stdout"
        }
      ]
    },
    {
      "metadata": {
        "id": "dOrJ1yGmnbrk",
        "colab_type": "code",
        "colab": {}
      },
      "cell_type": "code",
      "source": [
        "s_data = 'user_train_wip.csv'\n",
        "s_col_tgt = 'totals.transactionRevenue_sum'\n",
        "l_col_drop = ['date_min', 'date_max',s_col_tgt]\n",
        "filename = 'model_LGB.sav'"
      ],
      "execution_count": 0,
      "outputs": []
    },
    {
      "metadata": {
        "id": "l6Wwt0h6jzio",
        "colab_type": "code",
        "colab": {
          "base_uri": "https://localhost:8080/",
          "height": 68
        },
        "outputId": "562d56e4-c82e-4ff2-a0db-d8ab62c29014"
      },
      "cell_type": "code",
      "source": [
        "%%time\n",
        "df_train = pd.read_csv(s_data, index_col = 0)\n",
        "df_y = df_train[s_col_tgt]\n",
        "df_x = df_train.drop(l_col_drop, axis=1)"
      ],
      "execution_count": 6,
      "outputs": [
        {
          "output_type": "stream",
          "text": [
            "<string>:2: DtypeWarning: Columns (0) have mixed types. Specify dtype option on import or set low_memory=False.\n"
          ],
          "name": "stderr"
        },
        {
          "output_type": "stream",
          "text": [
            "CPU times: user 10 s, sys: 2.03 s, total: 12.1 s\n",
            "Wall time: 14.2 s\n"
          ],
          "name": "stdout"
        }
      ]
    },
    {
      "metadata": {
        "id": "sYWeiNW0j9cr",
        "colab_type": "code",
        "colab": {
          "base_uri": "https://localhost:8080/",
          "height": 51
        },
        "outputId": "739442de-8401-474e-a31c-650d546dc16b"
      },
      "cell_type": "code",
      "source": [
        "%%time\n",
        "x_train, x_test, y_train, y_test = train_test_split(df_x, df_y)\n",
        "x_eval, x_valid, y_eval, y_valid = train_test_split(x_test, y_test)\n",
        "\n"
      ],
      "execution_count": 7,
      "outputs": [
        {
          "output_type": "stream",
          "text": [
            "CPU times: user 1.82 s, sys: 368 ms, total: 2.19 s\n",
            "Wall time: 2.19 s\n"
          ],
          "name": "stdout"
        }
      ]
    },
    {
      "metadata": {
        "id": "A9vk5vnLlGFL",
        "colab_type": "code",
        "colab": {}
      },
      "cell_type": "code",
      "source": [
        "\n",
        "params = {\n",
        "    'learning_rate': 0.03,\n",
        "    'n_estimators': 2000,\n",
        "    'num_leaves': 128,\n",
        "    'subsample': 0.2217,\n",
        "    'colsample_bytree': 0.6810,\n",
        "    'min_split_gain': np.power(10.0, -4.9380),\n",
        "    'reg_alpha': np.power(10.0, -3.2454),\n",
        "    'reg_lambda': np.power(10.0, -4.8571),\n",
        "    'min_child_weight': np.power(10.0, 2),\n",
        "    'silent': True\n",
        "}\n",
        "\n",
        "model = lgb.LGBMRegressor(**params)\n",
        "\n"
      ],
      "execution_count": 0,
      "outputs": []
    },
    {
      "metadata": {
        "id": "ItMWaVwslMJi",
        "colab_type": "code",
        "colab": {
          "base_uri": "https://localhost:8080/",
          "height": 7446
        },
        "outputId": "f2fc73af-d8a8-4b76-8d97-d15647d2d34e"
      },
      "cell_type": "code",
      "source": [
        "%%time\n",
        "model.fit(x_train, \n",
        "          y_train,\n",
        "          eval_set=[(x_train, y_train),(x_eval, y_eval)],\n",
        "          eval_metric='rmse',\n",
        "          early_stopping_rounds=100)"
      ],
      "execution_count": 9,
      "outputs": [
        {
          "output_type": "stream",
          "text": [
            "[1]\ttraining's l2: 7.69578\ttraining's rmse: 2.77413\tvalid_1's l2: 10.7561\tvalid_1's rmse: 3.27965\n",
            "Training until validation scores don't improve for 100 rounds.\n",
            "[2]\ttraining's l2: 7.51179\ttraining's rmse: 2.74076\tvalid_1's l2: 10.5779\tvalid_1's rmse: 3.25236\n",
            "[3]\ttraining's l2: 7.33783\ttraining's rmse: 2.70884\tvalid_1's l2: 10.4111\tvalid_1's rmse: 3.22662\n",
            "[4]\ttraining's l2: 7.17383\ttraining's rmse: 2.6784\tvalid_1's l2: 10.2509\tvalid_1's rmse: 3.2017\n",
            "[5]\ttraining's l2: 7.02014\ttraining's rmse: 2.64956\tvalid_1's l2: 10.1011\tvalid_1's rmse: 3.17822\n",
            "[6]\ttraining's l2: 6.87229\ttraining's rmse: 2.62151\tvalid_1's l2: 9.95633\tvalid_1's rmse: 3.15537\n",
            "[7]\ttraining's l2: 6.73411\ttraining's rmse: 2.59502\tvalid_1's l2: 9.82306\tvalid_1's rmse: 3.13418\n",
            "[8]\ttraining's l2: 6.60543\ttraining's rmse: 2.5701\tvalid_1's l2: 9.69636\tvalid_1's rmse: 3.1139\n",
            "[9]\ttraining's l2: 6.48364\ttraining's rmse: 2.5463\tvalid_1's l2: 9.57874\tvalid_1's rmse: 3.09495\n",
            "[10]\ttraining's l2: 6.3707\ttraining's rmse: 2.52403\tvalid_1's l2: 9.4664\tvalid_1's rmse: 3.07675\n",
            "[11]\ttraining's l2: 6.25923\ttraining's rmse: 2.50184\tvalid_1's l2: 9.35463\tvalid_1's rmse: 3.05853\n",
            "[12]\ttraining's l2: 6.15822\ttraining's rmse: 2.48158\tvalid_1's l2: 9.25644\tvalid_1's rmse: 3.04244\n",
            "[13]\ttraining's l2: 6.05857\ttraining's rmse: 2.46142\tvalid_1's l2: 9.15938\tvalid_1's rmse: 3.02645\n",
            "[14]\ttraining's l2: 5.96375\ttraining's rmse: 2.44208\tvalid_1's l2: 9.06742\tvalid_1's rmse: 3.01122\n",
            "[15]\ttraining's l2: 5.87412\ttraining's rmse: 2.42366\tvalid_1's l2: 8.979\tvalid_1's rmse: 2.9965\n",
            "[16]\ttraining's l2: 5.79109\ttraining's rmse: 2.40647\tvalid_1's l2: 8.8971\tvalid_1's rmse: 2.9828\n",
            "[17]\ttraining's l2: 5.71351\ttraining's rmse: 2.3903\tvalid_1's l2: 8.82258\tvalid_1's rmse: 2.97028\n",
            "[18]\ttraining's l2: 5.63507\ttraining's rmse: 2.37383\tvalid_1's l2: 8.74533\tvalid_1's rmse: 2.95725\n",
            "[19]\ttraining's l2: 5.55987\ttraining's rmse: 2.35794\tvalid_1's l2: 8.67234\tvalid_1's rmse: 2.94488\n",
            "[20]\ttraining's l2: 5.48777\ttraining's rmse: 2.3426\tvalid_1's l2: 8.60521\tvalid_1's rmse: 2.93346\n",
            "[21]\ttraining's l2: 5.41939\ttraining's rmse: 2.32796\tvalid_1's l2: 8.53781\tvalid_1's rmse: 2.92195\n",
            "[22]\ttraining's l2: 5.35539\ttraining's rmse: 2.31417\tvalid_1's l2: 8.47424\tvalid_1's rmse: 2.91106\n",
            "[23]\ttraining's l2: 5.29411\ttraining's rmse: 2.30089\tvalid_1's l2: 8.41306\tvalid_1's rmse: 2.90053\n",
            "[24]\ttraining's l2: 5.23876\ttraining's rmse: 2.28883\tvalid_1's l2: 8.35902\tvalid_1's rmse: 2.8912\n",
            "[25]\ttraining's l2: 5.18187\ttraining's rmse: 2.27637\tvalid_1's l2: 8.30234\tvalid_1's rmse: 2.88138\n",
            "[26]\ttraining's l2: 5.12854\ttraining's rmse: 2.26463\tvalid_1's l2: 8.2484\tvalid_1's rmse: 2.872\n",
            "[27]\ttraining's l2: 5.07639\ttraining's rmse: 2.25309\tvalid_1's l2: 8.19853\tvalid_1's rmse: 2.86331\n",
            "[28]\ttraining's l2: 5.02721\ttraining's rmse: 2.24214\tvalid_1's l2: 8.1529\tvalid_1's rmse: 2.85533\n",
            "[29]\ttraining's l2: 4.98338\ttraining's rmse: 2.23235\tvalid_1's l2: 8.11015\tvalid_1's rmse: 2.84783\n",
            "[30]\ttraining's l2: 4.93941\ttraining's rmse: 2.22248\tvalid_1's l2: 8.06786\tvalid_1's rmse: 2.8404\n",
            "[31]\ttraining's l2: 4.89873\ttraining's rmse: 2.21331\tvalid_1's l2: 8.03183\tvalid_1's rmse: 2.83405\n",
            "[32]\ttraining's l2: 4.85954\ttraining's rmse: 2.20444\tvalid_1's l2: 7.9958\tvalid_1's rmse: 2.82768\n",
            "[33]\ttraining's l2: 4.8219\ttraining's rmse: 2.19588\tvalid_1's l2: 7.9589\tvalid_1's rmse: 2.82115\n",
            "[34]\ttraining's l2: 4.78536\ttraining's rmse: 2.18755\tvalid_1's l2: 7.92425\tvalid_1's rmse: 2.815\n",
            "[35]\ttraining's l2: 4.75012\ttraining's rmse: 2.17948\tvalid_1's l2: 7.89172\tvalid_1's rmse: 2.80922\n",
            "[36]\ttraining's l2: 4.71876\ttraining's rmse: 2.17227\tvalid_1's l2: 7.86357\tvalid_1's rmse: 2.80421\n",
            "[37]\ttraining's l2: 4.68589\ttraining's rmse: 2.16469\tvalid_1's l2: 7.83297\tvalid_1's rmse: 2.79874\n",
            "[38]\ttraining's l2: 4.65405\ttraining's rmse: 2.15733\tvalid_1's l2: 7.80427\tvalid_1's rmse: 2.79361\n",
            "[39]\ttraining's l2: 4.62297\ttraining's rmse: 2.15011\tvalid_1's l2: 7.77743\tvalid_1's rmse: 2.7888\n",
            "[40]\ttraining's l2: 4.596\ttraining's rmse: 2.14383\tvalid_1's l2: 7.75564\tvalid_1's rmse: 2.7849\n",
            "[41]\ttraining's l2: 4.56748\ttraining's rmse: 2.13717\tvalid_1's l2: 7.73149\tvalid_1's rmse: 2.78056\n",
            "[42]\ttraining's l2: 4.5402\ttraining's rmse: 2.13077\tvalid_1's l2: 7.70861\tvalid_1's rmse: 2.77644\n",
            "[43]\ttraining's l2: 4.51476\ttraining's rmse: 2.1248\tvalid_1's l2: 7.6876\tvalid_1's rmse: 2.77265\n",
            "[44]\ttraining's l2: 4.4898\ttraining's rmse: 2.11891\tvalid_1's l2: 7.66625\tvalid_1's rmse: 2.7688\n",
            "[45]\ttraining's l2: 4.46653\ttraining's rmse: 2.11342\tvalid_1's l2: 7.64621\tvalid_1's rmse: 2.76518\n",
            "[46]\ttraining's l2: 4.44352\ttraining's rmse: 2.10797\tvalid_1's l2: 7.62798\tvalid_1's rmse: 2.76188\n",
            "[47]\ttraining's l2: 4.42114\ttraining's rmse: 2.10265\tvalid_1's l2: 7.60875\tvalid_1's rmse: 2.7584\n",
            "[48]\ttraining's l2: 4.40026\ttraining's rmse: 2.09768\tvalid_1's l2: 7.59282\tvalid_1's rmse: 2.75551\n",
            "[49]\ttraining's l2: 4.38046\ttraining's rmse: 2.09296\tvalid_1's l2: 7.57594\tvalid_1's rmse: 2.75244\n",
            "[50]\ttraining's l2: 4.36076\ttraining's rmse: 2.08824\tvalid_1's l2: 7.56\tvalid_1's rmse: 2.74955\n",
            "[51]\ttraining's l2: 4.34304\ttraining's rmse: 2.084\tvalid_1's l2: 7.54506\tvalid_1's rmse: 2.74683\n",
            "[52]\ttraining's l2: 4.32418\ttraining's rmse: 2.07947\tvalid_1's l2: 7.52979\tvalid_1's rmse: 2.74405\n",
            "[53]\ttraining's l2: 4.30688\ttraining's rmse: 2.0753\tvalid_1's l2: 7.51684\tvalid_1's rmse: 2.74169\n",
            "[54]\ttraining's l2: 4.28956\ttraining's rmse: 2.07113\tvalid_1's l2: 7.50726\tvalid_1's rmse: 2.73994\n",
            "[55]\ttraining's l2: 4.27258\ttraining's rmse: 2.06702\tvalid_1's l2: 7.49341\tvalid_1's rmse: 2.73741\n",
            "[56]\ttraining's l2: 4.25474\ttraining's rmse: 2.0627\tvalid_1's l2: 7.47999\tvalid_1's rmse: 2.73496\n",
            "[57]\ttraining's l2: 4.23951\ttraining's rmse: 2.05901\tvalid_1's l2: 7.46892\tvalid_1's rmse: 2.73293\n",
            "[58]\ttraining's l2: 4.22413\ttraining's rmse: 2.05527\tvalid_1's l2: 7.45667\tvalid_1's rmse: 2.73069\n",
            "[59]\ttraining's l2: 4.20721\ttraining's rmse: 2.05115\tvalid_1's l2: 7.43828\tvalid_1's rmse: 2.72732\n",
            "[60]\ttraining's l2: 4.19222\ttraining's rmse: 2.04749\tvalid_1's l2: 7.42791\tvalid_1's rmse: 2.72542\n",
            "[61]\ttraining's l2: 4.17476\ttraining's rmse: 2.04322\tvalid_1's l2: 7.41324\tvalid_1's rmse: 2.72273\n",
            "[62]\ttraining's l2: 4.16076\ttraining's rmse: 2.03979\tvalid_1's l2: 7.40303\tvalid_1's rmse: 2.72085\n",
            "[63]\ttraining's l2: 4.14693\ttraining's rmse: 2.0364\tvalid_1's l2: 7.39334\tvalid_1's rmse: 2.71907\n",
            "[64]\ttraining's l2: 4.13404\ttraining's rmse: 2.03323\tvalid_1's l2: 7.38476\tvalid_1's rmse: 2.71749\n",
            "[65]\ttraining's l2: 4.11923\ttraining's rmse: 2.02959\tvalid_1's l2: 7.36784\tvalid_1's rmse: 2.71438\n",
            "[66]\ttraining's l2: 4.10671\ttraining's rmse: 2.0265\tvalid_1's l2: 7.35832\tvalid_1's rmse: 2.71262\n",
            "[67]\ttraining's l2: 4.09363\ttraining's rmse: 2.02327\tvalid_1's l2: 7.34887\tvalid_1's rmse: 2.71088\n",
            "[68]\ttraining's l2: 4.08035\ttraining's rmse: 2.01999\tvalid_1's l2: 7.33884\tvalid_1's rmse: 2.70903\n",
            "[69]\ttraining's l2: 4.06731\ttraining's rmse: 2.01676\tvalid_1's l2: 7.32842\tvalid_1's rmse: 2.70711\n",
            "[70]\ttraining's l2: 4.05597\ttraining's rmse: 2.01394\tvalid_1's l2: 7.31976\tvalid_1's rmse: 2.70551\n",
            "[71]\ttraining's l2: 4.04524\ttraining's rmse: 2.01128\tvalid_1's l2: 7.31234\tvalid_1's rmse: 2.70413\n",
            "[72]\ttraining's l2: 4.03445\ttraining's rmse: 2.00859\tvalid_1's l2: 7.30514\tvalid_1's rmse: 2.7028\n",
            "[73]\ttraining's l2: 4.0238\ttraining's rmse: 2.00594\tvalid_1's l2: 7.30156\tvalid_1's rmse: 2.70214\n",
            "[74]\ttraining's l2: 4.01384\ttraining's rmse: 2.00346\tvalid_1's l2: 7.29554\tvalid_1's rmse: 2.70103\n",
            "[75]\ttraining's l2: 4.00413\ttraining's rmse: 2.00103\tvalid_1's l2: 7.29177\tvalid_1's rmse: 2.70033\n",
            "[76]\ttraining's l2: 3.99373\ttraining's rmse: 1.99843\tvalid_1's l2: 7.28433\tvalid_1's rmse: 2.69895\n",
            "[77]\ttraining's l2: 3.98075\ttraining's rmse: 1.99518\tvalid_1's l2: 7.27096\tvalid_1's rmse: 2.69647\n",
            "[78]\ttraining's l2: 3.97019\ttraining's rmse: 1.99253\tvalid_1's l2: 7.26254\tvalid_1's rmse: 2.69491\n",
            "[79]\ttraining's l2: 3.95679\ttraining's rmse: 1.98917\tvalid_1's l2: 7.25701\tvalid_1's rmse: 2.69388\n",
            "[80]\ttraining's l2: 3.94784\ttraining's rmse: 1.98692\tvalid_1's l2: 7.25142\tvalid_1's rmse: 2.69285\n",
            "[81]\ttraining's l2: 3.9354\ttraining's rmse: 1.98378\tvalid_1's l2: 7.2374\tvalid_1's rmse: 2.69024\n",
            "[82]\ttraining's l2: 3.92494\ttraining's rmse: 1.98115\tvalid_1's l2: 7.23095\tvalid_1's rmse: 2.68904\n",
            "[83]\ttraining's l2: 3.91464\ttraining's rmse: 1.97855\tvalid_1's l2: 7.22364\tvalid_1's rmse: 2.68768\n",
            "[84]\ttraining's l2: 3.90507\ttraining's rmse: 1.97612\tvalid_1's l2: 7.21726\tvalid_1's rmse: 2.6865\n",
            "[85]\ttraining's l2: 3.89533\ttraining's rmse: 1.97366\tvalid_1's l2: 7.2112\tvalid_1's rmse: 2.68537\n",
            "[86]\ttraining's l2: 3.88586\ttraining's rmse: 1.97126\tvalid_1's l2: 7.2042\tvalid_1's rmse: 2.68406\n",
            "[87]\ttraining's l2: 3.87718\ttraining's rmse: 1.96906\tvalid_1's l2: 7.20239\tvalid_1's rmse: 2.68373\n",
            "[88]\ttraining's l2: 3.86593\ttraining's rmse: 1.9662\tvalid_1's l2: 7.19787\tvalid_1's rmse: 2.68288\n",
            "[89]\ttraining's l2: 3.8535\ttraining's rmse: 1.96303\tvalid_1's l2: 7.19122\tvalid_1's rmse: 2.68165\n",
            "[90]\ttraining's l2: 3.84126\ttraining's rmse: 1.95991\tvalid_1's l2: 7.18393\tvalid_1's rmse: 2.68029\n",
            "[91]\ttraining's l2: 3.83393\ttraining's rmse: 1.95804\tvalid_1's l2: 7.17963\tvalid_1's rmse: 2.67948\n",
            "[92]\ttraining's l2: 3.82579\ttraining's rmse: 1.95596\tvalid_1's l2: 7.17674\tvalid_1's rmse: 2.67894\n",
            "[93]\ttraining's l2: 3.818\ttraining's rmse: 1.95397\tvalid_1's l2: 7.17319\tvalid_1's rmse: 2.67828\n",
            "[94]\ttraining's l2: 3.81034\ttraining's rmse: 1.95201\tvalid_1's l2: 7.1696\tvalid_1's rmse: 2.67761\n",
            "[95]\ttraining's l2: 3.80274\ttraining's rmse: 1.95006\tvalid_1's l2: 7.16564\tvalid_1's rmse: 2.67687\n",
            "[96]\ttraining's l2: 3.79522\ttraining's rmse: 1.94813\tvalid_1's l2: 7.16248\tvalid_1's rmse: 2.67628\n",
            "[97]\ttraining's l2: 3.78739\ttraining's rmse: 1.94612\tvalid_1's l2: 7.16027\tvalid_1's rmse: 2.67587\n",
            "[98]\ttraining's l2: 3.77958\ttraining's rmse: 1.94411\tvalid_1's l2: 7.15687\tvalid_1's rmse: 2.67523\n",
            "[99]\ttraining's l2: 3.77223\ttraining's rmse: 1.94222\tvalid_1's l2: 7.152\tvalid_1's rmse: 2.67432\n",
            "[100]\ttraining's l2: 3.76503\ttraining's rmse: 1.94037\tvalid_1's l2: 7.1463\tvalid_1's rmse: 2.67326\n",
            "[101]\ttraining's l2: 3.75667\ttraining's rmse: 1.93821\tvalid_1's l2: 7.13997\tvalid_1's rmse: 2.67207\n",
            "[102]\ttraining's l2: 3.74929\ttraining's rmse: 1.93631\tvalid_1's l2: 7.13683\tvalid_1's rmse: 2.67148\n",
            "[103]\ttraining's l2: 3.74009\ttraining's rmse: 1.93393\tvalid_1's l2: 7.13492\tvalid_1's rmse: 2.67113\n",
            "[104]\ttraining's l2: 3.73078\ttraining's rmse: 1.93152\tvalid_1's l2: 7.13153\tvalid_1's rmse: 2.67049\n",
            "[105]\ttraining's l2: 3.72448\ttraining's rmse: 1.92989\tvalid_1's l2: 7.12872\tvalid_1's rmse: 2.66997\n",
            "[106]\ttraining's l2: 3.71793\ttraining's rmse: 1.92819\tvalid_1's l2: 7.12646\tvalid_1's rmse: 2.66954\n",
            "[107]\ttraining's l2: 3.71147\ttraining's rmse: 1.92652\tvalid_1's l2: 7.12369\tvalid_1's rmse: 2.66902\n",
            "[108]\ttraining's l2: 3.70486\ttraining's rmse: 1.9248\tvalid_1's l2: 7.12108\tvalid_1's rmse: 2.66854\n",
            "[109]\ttraining's l2: 3.69856\ttraining's rmse: 1.92316\tvalid_1's l2: 7.11519\tvalid_1's rmse: 2.66743\n",
            "[110]\ttraining's l2: 3.69228\ttraining's rmse: 1.92153\tvalid_1's l2: 7.11308\tvalid_1's rmse: 2.66704\n",
            "[111]\ttraining's l2: 3.68549\ttraining's rmse: 1.91976\tvalid_1's l2: 7.10779\tvalid_1's rmse: 2.66604\n",
            "[112]\ttraining's l2: 3.67943\ttraining's rmse: 1.91818\tvalid_1's l2: 7.10561\tvalid_1's rmse: 2.66564\n",
            "[113]\ttraining's l2: 3.6733\ttraining's rmse: 1.91659\tvalid_1's l2: 7.10423\tvalid_1's rmse: 2.66538\n",
            "[114]\ttraining's l2: 3.66654\ttraining's rmse: 1.91482\tvalid_1's l2: 7.10022\tvalid_1's rmse: 2.66462\n",
            "[115]\ttraining's l2: 3.66011\ttraining's rmse: 1.91314\tvalid_1's l2: 7.09575\tvalid_1's rmse: 2.66379\n",
            "[116]\ttraining's l2: 3.65387\ttraining's rmse: 1.91151\tvalid_1's l2: 7.0913\tvalid_1's rmse: 2.66295\n",
            "[117]\ttraining's l2: 3.64743\ttraining's rmse: 1.90982\tvalid_1's l2: 7.0867\tvalid_1's rmse: 2.66209\n",
            "[118]\ttraining's l2: 3.63878\ttraining's rmse: 1.90756\tvalid_1's l2: 7.0855\tvalid_1's rmse: 2.66186\n",
            "[119]\ttraining's l2: 3.6302\ttraining's rmse: 1.90531\tvalid_1's l2: 7.08115\tvalid_1's rmse: 2.66104\n",
            "[120]\ttraining's l2: 3.62415\ttraining's rmse: 1.90372\tvalid_1's l2: 7.07748\tvalid_1's rmse: 2.66035\n",
            "[121]\ttraining's l2: 3.61643\ttraining's rmse: 1.90169\tvalid_1's l2: 7.07488\tvalid_1's rmse: 2.65987\n",
            "[122]\ttraining's l2: 3.60863\ttraining's rmse: 1.89964\tvalid_1's l2: 7.0656\tvalid_1's rmse: 2.65812\n",
            "[123]\ttraining's l2: 3.60075\ttraining's rmse: 1.89756\tvalid_1's l2: 7.05741\tvalid_1's rmse: 2.65658\n",
            "[124]\ttraining's l2: 3.59215\ttraining's rmse: 1.8953\tvalid_1's l2: 7.04805\tvalid_1's rmse: 2.65482\n",
            "[125]\ttraining's l2: 3.58614\ttraining's rmse: 1.89371\tvalid_1's l2: 7.04481\tvalid_1's rmse: 2.65421\n",
            "[126]\ttraining's l2: 3.57806\ttraining's rmse: 1.89158\tvalid_1's l2: 7.04375\tvalid_1's rmse: 2.65401\n",
            "[127]\ttraining's l2: 3.5707\ttraining's rmse: 1.88963\tvalid_1's l2: 7.0357\tvalid_1's rmse: 2.65249\n",
            "[128]\ttraining's l2: 3.56337\ttraining's rmse: 1.88769\tvalid_1's l2: 7.02879\tvalid_1's rmse: 2.65119\n",
            "[129]\ttraining's l2: 3.55615\ttraining's rmse: 1.88578\tvalid_1's l2: 7.0192\tvalid_1's rmse: 2.64938\n",
            "[130]\ttraining's l2: 3.54949\ttraining's rmse: 1.88401\tvalid_1's l2: 7.01234\tvalid_1's rmse: 2.64808\n",
            "[131]\ttraining's l2: 3.54261\ttraining's rmse: 1.88218\tvalid_1's l2: 7.01039\tvalid_1's rmse: 2.64771\n",
            "[132]\ttraining's l2: 3.53536\ttraining's rmse: 1.88025\tvalid_1's l2: 7.00856\tvalid_1's rmse: 2.64737\n",
            "[133]\ttraining's l2: 3.53017\ttraining's rmse: 1.87888\tvalid_1's l2: 7.00472\tvalid_1's rmse: 2.64664\n",
            "[134]\ttraining's l2: 3.52434\ttraining's rmse: 1.87732\tvalid_1's l2: 6.99678\tvalid_1's rmse: 2.64514\n",
            "[135]\ttraining's l2: 3.51851\ttraining's rmse: 1.87577\tvalid_1's l2: 6.99282\tvalid_1's rmse: 2.64439\n",
            "[136]\ttraining's l2: 3.51179\ttraining's rmse: 1.87398\tvalid_1's l2: 6.9922\tvalid_1's rmse: 2.64428\n",
            "[137]\ttraining's l2: 3.50737\ttraining's rmse: 1.8728\tvalid_1's l2: 6.99099\tvalid_1's rmse: 2.64405\n",
            "[138]\ttraining's l2: 3.50095\ttraining's rmse: 1.87108\tvalid_1's l2: 6.98284\tvalid_1's rmse: 2.64251\n",
            "[139]\ttraining's l2: 3.4945\ttraining's rmse: 1.86936\tvalid_1's l2: 6.98021\tvalid_1's rmse: 2.64201\n",
            "[140]\ttraining's l2: 3.48969\ttraining's rmse: 1.86807\tvalid_1's l2: 6.977\tvalid_1's rmse: 2.6414\n",
            "[141]\ttraining's l2: 3.48298\ttraining's rmse: 1.86627\tvalid_1's l2: 6.97449\tvalid_1's rmse: 2.64093\n",
            "[142]\ttraining's l2: 3.47706\ttraining's rmse: 1.86469\tvalid_1's l2: 6.96826\tvalid_1's rmse: 2.63975\n",
            "[143]\ttraining's l2: 3.47214\ttraining's rmse: 1.86337\tvalid_1's l2: 6.96474\tvalid_1's rmse: 2.63908\n",
            "[144]\ttraining's l2: 3.46664\ttraining's rmse: 1.86189\tvalid_1's l2: 6.96401\tvalid_1's rmse: 2.63894\n",
            "[145]\ttraining's l2: 3.45998\ttraining's rmse: 1.8601\tvalid_1's l2: 6.9626\tvalid_1's rmse: 2.63867\n",
            "[146]\ttraining's l2: 3.4559\ttraining's rmse: 1.859\tvalid_1's l2: 6.9611\tvalid_1's rmse: 2.63839\n",
            "[147]\ttraining's l2: 3.45002\ttraining's rmse: 1.85742\tvalid_1's l2: 6.95235\tvalid_1's rmse: 2.63673\n",
            "[148]\ttraining's l2: 3.44417\ttraining's rmse: 1.85585\tvalid_1's l2: 6.94923\tvalid_1's rmse: 2.63614\n",
            "[149]\ttraining's l2: 3.43809\ttraining's rmse: 1.85421\tvalid_1's l2: 6.94304\tvalid_1's rmse: 2.63497\n",
            "[150]\ttraining's l2: 3.43305\ttraining's rmse: 1.85285\tvalid_1's l2: 6.94437\tvalid_1's rmse: 2.63522\n",
            "[151]\ttraining's l2: 3.42959\ttraining's rmse: 1.85192\tvalid_1's l2: 6.94324\tvalid_1's rmse: 2.635\n",
            "[152]\ttraining's l2: 3.42422\ttraining's rmse: 1.85046\tvalid_1's l2: 6.94253\tvalid_1's rmse: 2.63487\n",
            "[153]\ttraining's l2: 3.42046\ttraining's rmse: 1.84945\tvalid_1's l2: 6.94117\tvalid_1's rmse: 2.63461\n",
            "[154]\ttraining's l2: 3.41525\ttraining's rmse: 1.84804\tvalid_1's l2: 6.9385\tvalid_1's rmse: 2.6341\n",
            "[155]\ttraining's l2: 3.41014\ttraining's rmse: 1.84666\tvalid_1's l2: 6.93826\tvalid_1's rmse: 2.63406\n",
            "[156]\ttraining's l2: 3.40568\ttraining's rmse: 1.84545\tvalid_1's l2: 6.93787\tvalid_1's rmse: 2.63398\n",
            "[157]\ttraining's l2: 3.40068\ttraining's rmse: 1.84409\tvalid_1's l2: 6.93454\tvalid_1's rmse: 2.63335\n",
            "[158]\ttraining's l2: 3.39515\ttraining's rmse: 1.84259\tvalid_1's l2: 6.93406\tvalid_1's rmse: 2.63326\n",
            "[159]\ttraining's l2: 3.39159\ttraining's rmse: 1.84163\tvalid_1's l2: 6.93203\tvalid_1's rmse: 2.63288\n",
            "[160]\ttraining's l2: 3.38624\ttraining's rmse: 1.84017\tvalid_1's l2: 6.93116\tvalid_1's rmse: 2.63271\n",
            "[161]\ttraining's l2: 3.38254\ttraining's rmse: 1.83917\tvalid_1's l2: 6.93048\tvalid_1's rmse: 2.63258\n",
            "[162]\ttraining's l2: 3.37855\ttraining's rmse: 1.83808\tvalid_1's l2: 6.92978\tvalid_1's rmse: 2.63245\n",
            "[163]\ttraining's l2: 3.37458\ttraining's rmse: 1.837\tvalid_1's l2: 6.92787\tvalid_1's rmse: 2.63208\n",
            "[164]\ttraining's l2: 3.3697\ttraining's rmse: 1.83568\tvalid_1's l2: 6.92616\tvalid_1's rmse: 2.63176\n",
            "[165]\ttraining's l2: 3.3642\ttraining's rmse: 1.83418\tvalid_1's l2: 6.925\tvalid_1's rmse: 2.63154\n",
            "[166]\ttraining's l2: 3.35851\ttraining's rmse: 1.83262\tvalid_1's l2: 6.92528\tvalid_1's rmse: 2.63159\n",
            "[167]\ttraining's l2: 3.35458\ttraining's rmse: 1.83155\tvalid_1's l2: 6.92415\tvalid_1's rmse: 2.63138\n",
            "[168]\ttraining's l2: 3.35097\ttraining's rmse: 1.83057\tvalid_1's l2: 6.9227\tvalid_1's rmse: 2.6311\n",
            "[169]\ttraining's l2: 3.34683\ttraining's rmse: 1.82943\tvalid_1's l2: 6.92086\tvalid_1's rmse: 2.63075\n",
            "[170]\ttraining's l2: 3.34221\ttraining's rmse: 1.82817\tvalid_1's l2: 6.9179\tvalid_1's rmse: 2.63019\n",
            "[171]\ttraining's l2: 3.33738\ttraining's rmse: 1.82685\tvalid_1's l2: 6.91764\tvalid_1's rmse: 2.63014\n",
            "[172]\ttraining's l2: 3.33395\ttraining's rmse: 1.82591\tvalid_1's l2: 6.91723\tvalid_1's rmse: 2.63006\n",
            "[173]\ttraining's l2: 3.33039\ttraining's rmse: 1.82494\tvalid_1's l2: 6.91502\tvalid_1's rmse: 2.62964\n",
            "[174]\ttraining's l2: 3.32604\ttraining's rmse: 1.82374\tvalid_1's l2: 6.91497\tvalid_1's rmse: 2.62963\n",
            "[175]\ttraining's l2: 3.32232\ttraining's rmse: 1.82272\tvalid_1's l2: 6.91623\tvalid_1's rmse: 2.62987\n",
            "[176]\ttraining's l2: 3.31685\ttraining's rmse: 1.82122\tvalid_1's l2: 6.91636\tvalid_1's rmse: 2.6299\n",
            "[177]\ttraining's l2: 3.31342\ttraining's rmse: 1.82028\tvalid_1's l2: 6.91507\tvalid_1's rmse: 2.62965\n",
            "[178]\ttraining's l2: 3.30848\ttraining's rmse: 1.81892\tvalid_1's l2: 6.91427\tvalid_1's rmse: 2.6295\n",
            "[179]\ttraining's l2: 3.30541\ttraining's rmse: 1.81808\tvalid_1's l2: 6.9136\tvalid_1's rmse: 2.62937\n",
            "[180]\ttraining's l2: 3.30239\ttraining's rmse: 1.81725\tvalid_1's l2: 6.91255\tvalid_1's rmse: 2.62917\n",
            "[181]\ttraining's l2: 3.29868\ttraining's rmse: 1.81623\tvalid_1's l2: 6.9117\tvalid_1's rmse: 2.62901\n",
            "[182]\ttraining's l2: 3.29521\ttraining's rmse: 1.81527\tvalid_1's l2: 6.9095\tvalid_1's rmse: 2.62859\n",
            "[183]\ttraining's l2: 3.29039\ttraining's rmse: 1.81394\tvalid_1's l2: 6.90995\tvalid_1's rmse: 2.62868\n",
            "[184]\ttraining's l2: 3.28659\ttraining's rmse: 1.8129\tvalid_1's l2: 6.90759\tvalid_1's rmse: 2.62823\n",
            "[185]\ttraining's l2: 3.28316\ttraining's rmse: 1.81195\tvalid_1's l2: 6.90479\tvalid_1's rmse: 2.6277\n",
            "[186]\ttraining's l2: 3.27916\ttraining's rmse: 1.81085\tvalid_1's l2: 6.90493\tvalid_1's rmse: 2.62772\n",
            "[187]\ttraining's l2: 3.27587\ttraining's rmse: 1.80994\tvalid_1's l2: 6.9031\tvalid_1's rmse: 2.62737\n",
            "[188]\ttraining's l2: 3.27148\ttraining's rmse: 1.80872\tvalid_1's l2: 6.9047\tvalid_1's rmse: 2.62768\n",
            "[189]\ttraining's l2: 3.26651\ttraining's rmse: 1.80735\tvalid_1's l2: 6.90472\tvalid_1's rmse: 2.62768\n",
            "[190]\ttraining's l2: 3.2636\ttraining's rmse: 1.80654\tvalid_1's l2: 6.90298\tvalid_1's rmse: 2.62735\n",
            "[191]\ttraining's l2: 3.25914\ttraining's rmse: 1.80531\tvalid_1's l2: 6.90361\tvalid_1's rmse: 2.62747\n",
            "[192]\ttraining's l2: 3.25618\ttraining's rmse: 1.80449\tvalid_1's l2: 6.90299\tvalid_1's rmse: 2.62735\n",
            "[193]\ttraining's l2: 3.25155\ttraining's rmse: 1.8032\tvalid_1's l2: 6.90358\tvalid_1's rmse: 2.62747\n",
            "[194]\ttraining's l2: 3.24865\ttraining's rmse: 1.8024\tvalid_1's l2: 6.90306\tvalid_1's rmse: 2.62737\n",
            "[195]\ttraining's l2: 3.24542\ttraining's rmse: 1.8015\tvalid_1's l2: 6.90263\tvalid_1's rmse: 2.62729\n",
            "[196]\ttraining's l2: 3.24245\ttraining's rmse: 1.80068\tvalid_1's l2: 6.9007\tvalid_1's rmse: 2.62692\n",
            "[197]\ttraining's l2: 3.23801\ttraining's rmse: 1.79945\tvalid_1's l2: 6.90037\tvalid_1's rmse: 2.62685\n",
            "[198]\ttraining's l2: 3.23434\ttraining's rmse: 1.79843\tvalid_1's l2: 6.89764\tvalid_1's rmse: 2.62634\n",
            "[199]\ttraining's l2: 3.2298\ttraining's rmse: 1.79717\tvalid_1's l2: 6.89695\tvalid_1's rmse: 2.62621\n",
            "[200]\ttraining's l2: 3.22706\ttraining's rmse: 1.7964\tvalid_1's l2: 6.8967\tvalid_1's rmse: 2.62616\n",
            "[201]\ttraining's l2: 3.22421\ttraining's rmse: 1.79561\tvalid_1's l2: 6.89542\tvalid_1's rmse: 2.62591\n",
            "[202]\ttraining's l2: 3.21965\ttraining's rmse: 1.79434\tvalid_1's l2: 6.89732\tvalid_1's rmse: 2.62628\n",
            "[203]\ttraining's l2: 3.21648\ttraining's rmse: 1.79345\tvalid_1's l2: 6.895\tvalid_1's rmse: 2.62583\n",
            "[204]\ttraining's l2: 3.21317\ttraining's rmse: 1.79253\tvalid_1's l2: 6.89287\tvalid_1's rmse: 2.62543\n",
            "[205]\ttraining's l2: 3.20835\ttraining's rmse: 1.79119\tvalid_1's l2: 6.89383\tvalid_1's rmse: 2.62561\n",
            "[206]\ttraining's l2: 3.20568\ttraining's rmse: 1.79044\tvalid_1's l2: 6.89212\tvalid_1's rmse: 2.62529\n",
            "[207]\ttraining's l2: 3.20151\ttraining's rmse: 1.78928\tvalid_1's l2: 6.89234\tvalid_1's rmse: 2.62533\n",
            "[208]\ttraining's l2: 3.19868\ttraining's rmse: 1.78849\tvalid_1's l2: 6.89091\tvalid_1's rmse: 2.62505\n",
            "[209]\ttraining's l2: 3.19503\ttraining's rmse: 1.78747\tvalid_1's l2: 6.89144\tvalid_1's rmse: 2.62515\n",
            "[210]\ttraining's l2: 3.19035\ttraining's rmse: 1.78616\tvalid_1's l2: 6.89399\tvalid_1's rmse: 2.62564\n",
            "[211]\ttraining's l2: 3.18635\ttraining's rmse: 1.78503\tvalid_1's l2: 6.8947\tvalid_1's rmse: 2.62578\n",
            "[212]\ttraining's l2: 3.18378\ttraining's rmse: 1.78432\tvalid_1's l2: 6.89438\tvalid_1's rmse: 2.62571\n",
            "[213]\ttraining's l2: 3.18131\ttraining's rmse: 1.78362\tvalid_1's l2: 6.89365\tvalid_1's rmse: 2.62558\n",
            "[214]\ttraining's l2: 3.17772\ttraining's rmse: 1.78262\tvalid_1's l2: 6.88901\tvalid_1's rmse: 2.62469\n",
            "[215]\ttraining's l2: 3.17408\ttraining's rmse: 1.78159\tvalid_1's l2: 6.88712\tvalid_1's rmse: 2.62433\n",
            "[216]\ttraining's l2: 3.16966\ttraining's rmse: 1.78035\tvalid_1's l2: 6.88233\tvalid_1's rmse: 2.62342\n",
            "[217]\ttraining's l2: 3.16495\ttraining's rmse: 1.77903\tvalid_1's l2: 6.88378\tvalid_1's rmse: 2.6237\n",
            "[218]\ttraining's l2: 3.16261\ttraining's rmse: 1.77837\tvalid_1's l2: 6.8832\tvalid_1's rmse: 2.62359\n",
            "[219]\ttraining's l2: 3.15985\ttraining's rmse: 1.7776\tvalid_1's l2: 6.88157\tvalid_1's rmse: 2.62327\n",
            "[220]\ttraining's l2: 3.15552\ttraining's rmse: 1.77638\tvalid_1's l2: 6.88341\tvalid_1's rmse: 2.62362\n",
            "[221]\ttraining's l2: 3.15183\ttraining's rmse: 1.77534\tvalid_1's l2: 6.88296\tvalid_1's rmse: 2.62354\n",
            "[222]\ttraining's l2: 3.1495\ttraining's rmse: 1.77468\tvalid_1's l2: 6.88263\tvalid_1's rmse: 2.62348\n",
            "[223]\ttraining's l2: 3.14609\ttraining's rmse: 1.77372\tvalid_1's l2: 6.88119\tvalid_1's rmse: 2.6232\n",
            "[224]\ttraining's l2: 3.14308\ttraining's rmse: 1.77287\tvalid_1's l2: 6.88072\tvalid_1's rmse: 2.62311\n",
            "[225]\ttraining's l2: 3.13994\ttraining's rmse: 1.77199\tvalid_1's l2: 6.88223\tvalid_1's rmse: 2.6234\n",
            "[226]\ttraining's l2: 3.13558\ttraining's rmse: 1.77076\tvalid_1's l2: 6.88263\tvalid_1's rmse: 2.62348\n",
            "[227]\ttraining's l2: 3.13267\ttraining's rmse: 1.76993\tvalid_1's l2: 6.88437\tvalid_1's rmse: 2.62381\n",
            "[228]\ttraining's l2: 3.13021\ttraining's rmse: 1.76924\tvalid_1's l2: 6.88317\tvalid_1's rmse: 2.62358\n",
            "[229]\ttraining's l2: 3.12647\ttraining's rmse: 1.76818\tvalid_1's l2: 6.88272\tvalid_1's rmse: 2.62349\n",
            "[230]\ttraining's l2: 3.12399\ttraining's rmse: 1.76748\tvalid_1's l2: 6.88149\tvalid_1's rmse: 2.62326\n",
            "[231]\ttraining's l2: 3.12114\ttraining's rmse: 1.76667\tvalid_1's l2: 6.87989\tvalid_1's rmse: 2.62295\n",
            "[232]\ttraining's l2: 3.1185\ttraining's rmse: 1.76593\tvalid_1's l2: 6.8788\tvalid_1's rmse: 2.62275\n",
            "[233]\ttraining's l2: 3.11595\ttraining's rmse: 1.7652\tvalid_1's l2: 6.88132\tvalid_1's rmse: 2.62323\n",
            "[234]\ttraining's l2: 3.11141\ttraining's rmse: 1.76392\tvalid_1's l2: 6.88073\tvalid_1's rmse: 2.62312\n",
            "[235]\ttraining's l2: 3.10785\ttraining's rmse: 1.76291\tvalid_1's l2: 6.88092\tvalid_1's rmse: 2.62315\n",
            "[236]\ttraining's l2: 3.10414\ttraining's rmse: 1.76186\tvalid_1's l2: 6.88084\tvalid_1's rmse: 2.62314\n",
            "[237]\ttraining's l2: 3.10102\ttraining's rmse: 1.76097\tvalid_1's l2: 6.88257\tvalid_1's rmse: 2.62347\n",
            "[238]\ttraining's l2: 3.09864\ttraining's rmse: 1.76029\tvalid_1's l2: 6.88135\tvalid_1's rmse: 2.62323\n",
            "[239]\ttraining's l2: 3.09569\ttraining's rmse: 1.75946\tvalid_1's l2: 6.88041\tvalid_1's rmse: 2.62305\n",
            "[240]\ttraining's l2: 3.0923\ttraining's rmse: 1.75849\tvalid_1's l2: 6.88242\tvalid_1's rmse: 2.62344\n",
            "[241]\ttraining's l2: 3.0904\ttraining's rmse: 1.75795\tvalid_1's l2: 6.88246\tvalid_1's rmse: 2.62344\n",
            "[242]\ttraining's l2: 3.08679\ttraining's rmse: 1.75693\tvalid_1's l2: 6.88333\tvalid_1's rmse: 2.62361\n",
            "[243]\ttraining's l2: 3.08456\ttraining's rmse: 1.75629\tvalid_1's l2: 6.88285\tvalid_1's rmse: 2.62352\n",
            "[244]\ttraining's l2: 3.08226\ttraining's rmse: 1.75564\tvalid_1's l2: 6.88148\tvalid_1's rmse: 2.62326\n",
            "[245]\ttraining's l2: 3.07863\ttraining's rmse: 1.7546\tvalid_1's l2: 6.88263\tvalid_1's rmse: 2.62348\n",
            "[246]\ttraining's l2: 3.07529\ttraining's rmse: 1.75365\tvalid_1's l2: 6.88319\tvalid_1's rmse: 2.62358\n",
            "[247]\ttraining's l2: 3.07312\ttraining's rmse: 1.75303\tvalid_1's l2: 6.88343\tvalid_1's rmse: 2.62363\n",
            "[248]\ttraining's l2: 3.07069\ttraining's rmse: 1.75234\tvalid_1's l2: 6.88272\tvalid_1's rmse: 2.62349\n",
            "[249]\ttraining's l2: 3.06706\ttraining's rmse: 1.7513\tvalid_1's l2: 6.88389\tvalid_1's rmse: 2.62372\n",
            "[250]\ttraining's l2: 3.06317\ttraining's rmse: 1.75019\tvalid_1's l2: 6.88299\tvalid_1's rmse: 2.62355\n",
            "[251]\ttraining's l2: 3.06093\ttraining's rmse: 1.74955\tvalid_1's l2: 6.88292\tvalid_1's rmse: 2.62353\n",
            "[252]\ttraining's l2: 3.05852\ttraining's rmse: 1.74886\tvalid_1's l2: 6.88219\tvalid_1's rmse: 2.62339\n",
            "[253]\ttraining's l2: 3.05495\ttraining's rmse: 1.74784\tvalid_1's l2: 6.88331\tvalid_1's rmse: 2.62361\n",
            "[254]\ttraining's l2: 3.05257\ttraining's rmse: 1.74716\tvalid_1's l2: 6.88289\tvalid_1's rmse: 2.62353\n",
            "[255]\ttraining's l2: 3.05018\ttraining's rmse: 1.74648\tvalid_1's l2: 6.88193\tvalid_1's rmse: 2.62334\n",
            "[256]\ttraining's l2: 3.04665\ttraining's rmse: 1.74547\tvalid_1's l2: 6.88232\tvalid_1's rmse: 2.62342\n",
            "[257]\ttraining's l2: 3.04464\ttraining's rmse: 1.74489\tvalid_1's l2: 6.88137\tvalid_1's rmse: 2.62324\n",
            "[258]\ttraining's l2: 3.04263\ttraining's rmse: 1.74431\tvalid_1's l2: 6.88045\tvalid_1's rmse: 2.62306\n",
            "[259]\ttraining's l2: 3.03925\ttraining's rmse: 1.74335\tvalid_1's l2: 6.88048\tvalid_1's rmse: 2.62307\n",
            "[260]\ttraining's l2: 3.03769\ttraining's rmse: 1.7429\tvalid_1's l2: 6.87992\tvalid_1's rmse: 2.62296\n",
            "[261]\ttraining's l2: 3.03389\ttraining's rmse: 1.74181\tvalid_1's l2: 6.87838\tvalid_1's rmse: 2.62267\n",
            "[262]\ttraining's l2: 3.03194\ttraining's rmse: 1.74125\tvalid_1's l2: 6.87804\tvalid_1's rmse: 2.6226\n",
            "[263]\ttraining's l2: 3.02986\ttraining's rmse: 1.74065\tvalid_1's l2: 6.87737\tvalid_1's rmse: 2.62247\n",
            "[264]\ttraining's l2: 3.02679\ttraining's rmse: 1.73977\tvalid_1's l2: 6.87891\tvalid_1's rmse: 2.62277\n",
            "[265]\ttraining's l2: 3.02443\ttraining's rmse: 1.73909\tvalid_1's l2: 6.87775\tvalid_1's rmse: 2.62255\n",
            "[266]\ttraining's l2: 3.02066\ttraining's rmse: 1.738\tvalid_1's l2: 6.87902\tvalid_1's rmse: 2.62279\n",
            "[267]\ttraining's l2: 3.01744\ttraining's rmse: 1.73708\tvalid_1's l2: 6.87964\tvalid_1's rmse: 2.62291\n",
            "[268]\ttraining's l2: 3.0147\ttraining's rmse: 1.73629\tvalid_1's l2: 6.8789\tvalid_1's rmse: 2.62277\n",
            "[269]\ttraining's l2: 3.01177\ttraining's rmse: 1.73545\tvalid_1's l2: 6.88091\tvalid_1's rmse: 2.62315\n",
            "[270]\ttraining's l2: 3.00964\ttraining's rmse: 1.73483\tvalid_1's l2: 6.87967\tvalid_1's rmse: 2.62291\n",
            "[271]\ttraining's l2: 3.00713\ttraining's rmse: 1.73411\tvalid_1's l2: 6.88092\tvalid_1's rmse: 2.62315\n",
            "[272]\ttraining's l2: 3.00527\ttraining's rmse: 1.73357\tvalid_1's l2: 6.88073\tvalid_1's rmse: 2.62311\n",
            "[273]\ttraining's l2: 3.00218\ttraining's rmse: 1.73268\tvalid_1's l2: 6.88278\tvalid_1's rmse: 2.6235\n",
            "[274]\ttraining's l2: 3.00017\ttraining's rmse: 1.7321\tvalid_1's l2: 6.88183\tvalid_1's rmse: 2.62332\n",
            "[275]\ttraining's l2: 2.99802\ttraining's rmse: 1.73148\tvalid_1's l2: 6.88073\tvalid_1's rmse: 2.62311\n",
            "[276]\ttraining's l2: 2.99608\ttraining's rmse: 1.73092\tvalid_1's l2: 6.88075\tvalid_1's rmse: 2.62312\n",
            "[277]\ttraining's l2: 2.99381\ttraining's rmse: 1.73026\tvalid_1's l2: 6.88172\tvalid_1's rmse: 2.6233\n",
            "[278]\ttraining's l2: 2.99034\ttraining's rmse: 1.72926\tvalid_1's l2: 6.88217\tvalid_1's rmse: 2.62339\n",
            "[279]\ttraining's l2: 2.98811\ttraining's rmse: 1.72862\tvalid_1's l2: 6.8831\tvalid_1's rmse: 2.62357\n",
            "[280]\ttraining's l2: 2.98451\ttraining's rmse: 1.72757\tvalid_1's l2: 6.88213\tvalid_1's rmse: 2.62338\n",
            "[281]\ttraining's l2: 2.98257\ttraining's rmse: 1.72701\tvalid_1's l2: 6.8811\tvalid_1's rmse: 2.62318\n",
            "[282]\ttraining's l2: 2.98051\ttraining's rmse: 1.72642\tvalid_1's l2: 6.88223\tvalid_1's rmse: 2.6234\n",
            "[283]\ttraining's l2: 2.97864\ttraining's rmse: 1.72587\tvalid_1's l2: 6.88142\tvalid_1's rmse: 2.62325\n",
            "[284]\ttraining's l2: 2.9761\ttraining's rmse: 1.72514\tvalid_1's l2: 6.88069\tvalid_1's rmse: 2.62311\n",
            "[285]\ttraining's l2: 2.97326\ttraining's rmse: 1.72432\tvalid_1's l2: 6.87958\tvalid_1's rmse: 2.6229\n",
            "[286]\ttraining's l2: 2.97075\ttraining's rmse: 1.72359\tvalid_1's l2: 6.88057\tvalid_1's rmse: 2.62308\n",
            "[287]\ttraining's l2: 2.96791\ttraining's rmse: 1.72276\tvalid_1's l2: 6.87964\tvalid_1's rmse: 2.62291\n",
            "[288]\ttraining's l2: 2.96523\ttraining's rmse: 1.72198\tvalid_1's l2: 6.88217\tvalid_1's rmse: 2.62339\n",
            "[289]\ttraining's l2: 2.96211\ttraining's rmse: 1.72108\tvalid_1's l2: 6.88292\tvalid_1's rmse: 2.62353\n",
            "[290]\ttraining's l2: 2.96058\ttraining's rmse: 1.72063\tvalid_1's l2: 6.88272\tvalid_1's rmse: 2.62349\n",
            "[291]\ttraining's l2: 2.95712\ttraining's rmse: 1.71963\tvalid_1's l2: 6.88083\tvalid_1's rmse: 2.62313\n",
            "[292]\ttraining's l2: 2.95502\ttraining's rmse: 1.71902\tvalid_1's l2: 6.88028\tvalid_1's rmse: 2.62303\n",
            "[293]\ttraining's l2: 2.95178\ttraining's rmse: 1.71807\tvalid_1's l2: 6.88107\tvalid_1's rmse: 2.62318\n",
            "[294]\ttraining's l2: 2.94822\ttraining's rmse: 1.71704\tvalid_1's l2: 6.87989\tvalid_1's rmse: 2.62295\n",
            "[295]\ttraining's l2: 2.94539\ttraining's rmse: 1.71621\tvalid_1's l2: 6.87902\tvalid_1's rmse: 2.62279\n",
            "[296]\ttraining's l2: 2.94309\ttraining's rmse: 1.71554\tvalid_1's l2: 6.87848\tvalid_1's rmse: 2.62269\n",
            "[297]\ttraining's l2: 2.94091\ttraining's rmse: 1.71491\tvalid_1's l2: 6.87776\tvalid_1's rmse: 2.62255\n",
            "[298]\ttraining's l2: 2.9382\ttraining's rmse: 1.71412\tvalid_1's l2: 6.87938\tvalid_1's rmse: 2.62286\n",
            "[299]\ttraining's l2: 2.93501\ttraining's rmse: 1.71319\tvalid_1's l2: 6.88049\tvalid_1's rmse: 2.62307\n",
            "[300]\ttraining's l2: 2.93284\ttraining's rmse: 1.71255\tvalid_1's l2: 6.88017\tvalid_1's rmse: 2.62301\n",
            "[301]\ttraining's l2: 2.93073\ttraining's rmse: 1.71194\tvalid_1's l2: 6.87962\tvalid_1's rmse: 2.6229\n",
            "[302]\ttraining's l2: 2.92821\ttraining's rmse: 1.7112\tvalid_1's l2: 6.87833\tvalid_1's rmse: 2.62266\n",
            "[303]\ttraining's l2: 2.92396\ttraining's rmse: 1.70996\tvalid_1's l2: 6.87853\tvalid_1's rmse: 2.62269\n",
            "[304]\ttraining's l2: 2.92139\ttraining's rmse: 1.70921\tvalid_1's l2: 6.87732\tvalid_1's rmse: 2.62246\n",
            "[305]\ttraining's l2: 2.91808\ttraining's rmse: 1.70824\tvalid_1's l2: 6.87772\tvalid_1's rmse: 2.62254\n",
            "[306]\ttraining's l2: 2.91556\ttraining's rmse: 1.7075\tvalid_1's l2: 6.87999\tvalid_1's rmse: 2.62297\n",
            "[307]\ttraining's l2: 2.91205\ttraining's rmse: 1.70647\tvalid_1's l2: 6.87839\tvalid_1's rmse: 2.62267\n",
            "[308]\ttraining's l2: 2.90982\ttraining's rmse: 1.70582\tvalid_1's l2: 6.87811\tvalid_1's rmse: 2.62261\n",
            "[309]\ttraining's l2: 2.90651\ttraining's rmse: 1.70485\tvalid_1's l2: 6.87982\tvalid_1's rmse: 2.62294\n",
            "[310]\ttraining's l2: 2.90462\ttraining's rmse: 1.70429\tvalid_1's l2: 6.87934\tvalid_1's rmse: 2.62285\n",
            "[311]\ttraining's l2: 2.90161\ttraining's rmse: 1.70341\tvalid_1's l2: 6.88015\tvalid_1's rmse: 2.623\n",
            "[312]\ttraining's l2: 2.89955\ttraining's rmse: 1.70281\tvalid_1's l2: 6.87888\tvalid_1's rmse: 2.62276\n",
            "[313]\ttraining's l2: 2.89772\ttraining's rmse: 1.70227\tvalid_1's l2: 6.8784\tvalid_1's rmse: 2.62267\n",
            "[314]\ttraining's l2: 2.89443\ttraining's rmse: 1.7013\tvalid_1's l2: 6.87962\tvalid_1's rmse: 2.6229\n",
            "[315]\ttraining's l2: 2.89241\ttraining's rmse: 1.70071\tvalid_1's l2: 6.88015\tvalid_1's rmse: 2.623\n",
            "[316]\ttraining's l2: 2.89067\ttraining's rmse: 1.7002\tvalid_1's l2: 6.87927\tvalid_1's rmse: 2.62284\n",
            "[317]\ttraining's l2: 2.88889\ttraining's rmse: 1.69967\tvalid_1's l2: 6.87865\tvalid_1's rmse: 2.62272\n",
            "[318]\ttraining's l2: 2.88695\ttraining's rmse: 1.6991\tvalid_1's l2: 6.87788\tvalid_1's rmse: 2.62257\n",
            "[319]\ttraining's l2: 2.88495\ttraining's rmse: 1.69851\tvalid_1's l2: 6.87919\tvalid_1's rmse: 2.62282\n",
            "[320]\ttraining's l2: 2.882\ttraining's rmse: 1.69764\tvalid_1's l2: 6.87819\tvalid_1's rmse: 2.62263\n",
            "[321]\ttraining's l2: 2.88027\ttraining's rmse: 1.69714\tvalid_1's l2: 6.87681\tvalid_1's rmse: 2.62237\n",
            "[322]\ttraining's l2: 2.87768\ttraining's rmse: 1.69637\tvalid_1's l2: 6.87829\tvalid_1's rmse: 2.62265\n",
            "[323]\ttraining's l2: 2.87496\ttraining's rmse: 1.69557\tvalid_1's l2: 6.87756\tvalid_1's rmse: 2.62251\n",
            "[324]\ttraining's l2: 2.87149\ttraining's rmse: 1.69455\tvalid_1's l2: 6.87635\tvalid_1's rmse: 2.62228\n",
            "[325]\ttraining's l2: 2.86956\ttraining's rmse: 1.69398\tvalid_1's l2: 6.87708\tvalid_1's rmse: 2.62242\n",
            "[326]\ttraining's l2: 2.86737\ttraining's rmse: 1.69333\tvalid_1's l2: 6.87599\tvalid_1's rmse: 2.62221\n",
            "[327]\ttraining's l2: 2.86443\ttraining's rmse: 1.69246\tvalid_1's l2: 6.87675\tvalid_1's rmse: 2.62236\n",
            "[328]\ttraining's l2: 2.86156\ttraining's rmse: 1.69161\tvalid_1's l2: 6.87819\tvalid_1's rmse: 2.62263\n",
            "[329]\ttraining's l2: 2.85926\ttraining's rmse: 1.69093\tvalid_1's l2: 6.87745\tvalid_1's rmse: 2.62249\n",
            "[330]\ttraining's l2: 2.85717\ttraining's rmse: 1.69032\tvalid_1's l2: 6.87659\tvalid_1's rmse: 2.62233\n",
            "[331]\ttraining's l2: 2.85388\ttraining's rmse: 1.68934\tvalid_1's l2: 6.87857\tvalid_1's rmse: 2.6227\n",
            "[332]\ttraining's l2: 2.85199\ttraining's rmse: 1.68878\tvalid_1's l2: 6.87781\tvalid_1's rmse: 2.62256\n",
            "[333]\ttraining's l2: 2.85039\ttraining's rmse: 1.68831\tvalid_1's l2: 6.87691\tvalid_1's rmse: 2.62239\n",
            "[334]\ttraining's l2: 2.8471\ttraining's rmse: 1.68733\tvalid_1's l2: 6.87943\tvalid_1's rmse: 2.62287\n",
            "[335]\ttraining's l2: 2.84433\ttraining's rmse: 1.68651\tvalid_1's l2: 6.87968\tvalid_1's rmse: 2.62291\n",
            "[336]\ttraining's l2: 2.84209\ttraining's rmse: 1.68585\tvalid_1's l2: 6.87914\tvalid_1's rmse: 2.62281\n",
            "[337]\ttraining's l2: 2.83916\ttraining's rmse: 1.68498\tvalid_1's l2: 6.87888\tvalid_1's rmse: 2.62276\n",
            "[338]\ttraining's l2: 2.83731\ttraining's rmse: 1.68443\tvalid_1's l2: 6.88009\tvalid_1's rmse: 2.62299\n",
            "[339]\ttraining's l2: 2.83532\ttraining's rmse: 1.68384\tvalid_1's l2: 6.87933\tvalid_1's rmse: 2.62285\n",
            "[340]\ttraining's l2: 2.8332\ttraining's rmse: 1.68321\tvalid_1's l2: 6.8801\tvalid_1's rmse: 2.62299\n",
            "[341]\ttraining's l2: 2.83046\ttraining's rmse: 1.6824\tvalid_1's l2: 6.88008\tvalid_1's rmse: 2.62299\n",
            "[342]\ttraining's l2: 2.82825\ttraining's rmse: 1.68174\tvalid_1's l2: 6.87992\tvalid_1's rmse: 2.62296\n",
            "[343]\ttraining's l2: 2.82648\ttraining's rmse: 1.68121\tvalid_1's l2: 6.87939\tvalid_1's rmse: 2.62286\n",
            "[344]\ttraining's l2: 2.82448\ttraining's rmse: 1.68062\tvalid_1's l2: 6.88153\tvalid_1's rmse: 2.62327\n",
            "[345]\ttraining's l2: 2.82249\ttraining's rmse: 1.68003\tvalid_1's l2: 6.88317\tvalid_1's rmse: 2.62358\n",
            "[346]\ttraining's l2: 2.81921\ttraining's rmse: 1.67905\tvalid_1's l2: 6.88166\tvalid_1's rmse: 2.62329\n",
            "[347]\ttraining's l2: 2.81622\ttraining's rmse: 1.67816\tvalid_1's l2: 6.88209\tvalid_1's rmse: 2.62337\n",
            "[348]\ttraining's l2: 2.81326\ttraining's rmse: 1.67728\tvalid_1's l2: 6.88084\tvalid_1's rmse: 2.62314\n",
            "[349]\ttraining's l2: 2.81059\ttraining's rmse: 1.67648\tvalid_1's l2: 6.88121\tvalid_1's rmse: 2.62321\n",
            "[350]\ttraining's l2: 2.80801\ttraining's rmse: 1.67571\tvalid_1's l2: 6.87975\tvalid_1's rmse: 2.62293\n",
            "[351]\ttraining's l2: 2.80596\ttraining's rmse: 1.6751\tvalid_1's l2: 6.88156\tvalid_1's rmse: 2.62327\n",
            "[352]\ttraining's l2: 2.80442\ttraining's rmse: 1.67464\tvalid_1's l2: 6.88147\tvalid_1's rmse: 2.62326\n",
            "[353]\ttraining's l2: 2.8028\ttraining's rmse: 1.67416\tvalid_1's l2: 6.87991\tvalid_1's rmse: 2.62296\n",
            "[354]\ttraining's l2: 2.80049\ttraining's rmse: 1.67347\tvalid_1's l2: 6.87996\tvalid_1's rmse: 2.62297\n",
            "[355]\ttraining's l2: 2.79895\ttraining's rmse: 1.67301\tvalid_1's l2: 6.87942\tvalid_1's rmse: 2.62287\n",
            "[356]\ttraining's l2: 2.79682\ttraining's rmse: 1.67237\tvalid_1's l2: 6.88036\tvalid_1's rmse: 2.62304\n",
            "[357]\ttraining's l2: 2.794\ttraining's rmse: 1.67153\tvalid_1's l2: 6.87986\tvalid_1's rmse: 2.62295\n",
            "[358]\ttraining's l2: 2.79208\ttraining's rmse: 1.67095\tvalid_1's l2: 6.87942\tvalid_1's rmse: 2.62287\n",
            "[359]\ttraining's l2: 2.79063\ttraining's rmse: 1.67052\tvalid_1's l2: 6.87941\tvalid_1's rmse: 2.62286\n",
            "[360]\ttraining's l2: 2.78843\ttraining's rmse: 1.66986\tvalid_1's l2: 6.88016\tvalid_1's rmse: 2.62301\n",
            "[361]\ttraining's l2: 2.78566\ttraining's rmse: 1.66903\tvalid_1's l2: 6.8804\tvalid_1's rmse: 2.62305\n",
            "[362]\ttraining's l2: 2.78378\ttraining's rmse: 1.66847\tvalid_1's l2: 6.87948\tvalid_1's rmse: 2.62288\n",
            "[363]\ttraining's l2: 2.78146\ttraining's rmse: 1.66777\tvalid_1's l2: 6.8787\tvalid_1's rmse: 2.62273\n",
            "[364]\ttraining's l2: 2.77854\ttraining's rmse: 1.6669\tvalid_1's l2: 6.87973\tvalid_1's rmse: 2.62292\n",
            "[365]\ttraining's l2: 2.7764\ttraining's rmse: 1.66625\tvalid_1's l2: 6.87763\tvalid_1's rmse: 2.62252\n",
            "[366]\ttraining's l2: 2.77462\ttraining's rmse: 1.66572\tvalid_1's l2: 6.87967\tvalid_1's rmse: 2.62291\n",
            "[367]\ttraining's l2: 2.77201\ttraining's rmse: 1.66494\tvalid_1's l2: 6.87863\tvalid_1's rmse: 2.62271\n",
            "[368]\ttraining's l2: 2.76968\ttraining's rmse: 1.66424\tvalid_1's l2: 6.87839\tvalid_1's rmse: 2.62267\n",
            "[369]\ttraining's l2: 2.76762\ttraining's rmse: 1.66362\tvalid_1's l2: 6.87918\tvalid_1's rmse: 2.62282\n",
            "[370]\ttraining's l2: 2.76544\ttraining's rmse: 1.66296\tvalid_1's l2: 6.88043\tvalid_1's rmse: 2.62306\n",
            "[371]\ttraining's l2: 2.76393\ttraining's rmse: 1.66251\tvalid_1's l2: 6.87969\tvalid_1's rmse: 2.62292\n",
            "[372]\ttraining's l2: 2.76247\ttraining's rmse: 1.66207\tvalid_1's l2: 6.87941\tvalid_1's rmse: 2.62286\n",
            "[373]\ttraining's l2: 2.76026\ttraining's rmse: 1.6614\tvalid_1's l2: 6.88111\tvalid_1's rmse: 2.62319\n",
            "[374]\ttraining's l2: 2.75786\ttraining's rmse: 1.66068\tvalid_1's l2: 6.88028\tvalid_1's rmse: 2.62303\n",
            "[375]\ttraining's l2: 2.75575\ttraining's rmse: 1.66005\tvalid_1's l2: 6.879\tvalid_1's rmse: 2.62279\n",
            "[376]\ttraining's l2: 2.75424\ttraining's rmse: 1.65959\tvalid_1's l2: 6.88\tvalid_1's rmse: 2.62298\n",
            "[377]\ttraining's l2: 2.75222\ttraining's rmse: 1.65898\tvalid_1's l2: 6.87899\tvalid_1's rmse: 2.62278\n",
            "[378]\ttraining's l2: 2.74992\ttraining's rmse: 1.65829\tvalid_1's l2: 6.87908\tvalid_1's rmse: 2.6228\n",
            "[379]\ttraining's l2: 2.74802\ttraining's rmse: 1.65772\tvalid_1's l2: 6.87861\tvalid_1's rmse: 2.62271\n",
            "[380]\ttraining's l2: 2.74515\ttraining's rmse: 1.65685\tvalid_1's l2: 6.87923\tvalid_1's rmse: 2.62283\n",
            "[381]\ttraining's l2: 2.74339\ttraining's rmse: 1.65632\tvalid_1's l2: 6.87917\tvalid_1's rmse: 2.62282\n",
            "[382]\ttraining's l2: 2.74211\ttraining's rmse: 1.65593\tvalid_1's l2: 6.87924\tvalid_1's rmse: 2.62283\n",
            "[383]\ttraining's l2: 2.74066\ttraining's rmse: 1.65549\tvalid_1's l2: 6.8776\tvalid_1's rmse: 2.62252\n",
            "[384]\ttraining's l2: 2.7381\ttraining's rmse: 1.65472\tvalid_1's l2: 6.87767\tvalid_1's rmse: 2.62253\n",
            "[385]\ttraining's l2: 2.73566\ttraining's rmse: 1.65398\tvalid_1's l2: 6.87773\tvalid_1's rmse: 2.62254\n",
            "[386]\ttraining's l2: 2.73345\ttraining's rmse: 1.65331\tvalid_1's l2: 6.87753\tvalid_1's rmse: 2.6225\n",
            "[387]\ttraining's l2: 2.73049\ttraining's rmse: 1.65242\tvalid_1's l2: 6.87862\tvalid_1's rmse: 2.62271\n",
            "[388]\ttraining's l2: 2.72855\ttraining's rmse: 1.65183\tvalid_1's l2: 6.87806\tvalid_1's rmse: 2.62261\n",
            "[389]\ttraining's l2: 2.72658\ttraining's rmse: 1.65124\tvalid_1's l2: 6.87746\tvalid_1's rmse: 2.62249\n",
            "[390]\ttraining's l2: 2.7238\ttraining's rmse: 1.65039\tvalid_1's l2: 6.87924\tvalid_1's rmse: 2.62283\n",
            "[391]\ttraining's l2: 2.72161\ttraining's rmse: 1.64973\tvalid_1's l2: 6.87923\tvalid_1's rmse: 2.62283\n",
            "[392]\ttraining's l2: 2.72024\ttraining's rmse: 1.64932\tvalid_1's l2: 6.8785\tvalid_1's rmse: 2.62269\n",
            "[393]\ttraining's l2: 2.71872\ttraining's rmse: 1.64886\tvalid_1's l2: 6.87968\tvalid_1's rmse: 2.62291\n",
            "[394]\ttraining's l2: 2.71706\ttraining's rmse: 1.64835\tvalid_1's l2: 6.87904\tvalid_1's rmse: 2.62279\n",
            "[395]\ttraining's l2: 2.71528\ttraining's rmse: 1.64781\tvalid_1's l2: 6.87984\tvalid_1's rmse: 2.62294\n",
            "[396]\ttraining's l2: 2.71289\ttraining's rmse: 1.64709\tvalid_1's l2: 6.88164\tvalid_1's rmse: 2.62329\n",
            "[397]\ttraining's l2: 2.71054\ttraining's rmse: 1.64637\tvalid_1's l2: 6.88165\tvalid_1's rmse: 2.62329\n",
            "[398]\ttraining's l2: 2.70886\ttraining's rmse: 1.64586\tvalid_1's l2: 6.88158\tvalid_1's rmse: 2.62328\n",
            "[399]\ttraining's l2: 2.70739\ttraining's rmse: 1.64541\tvalid_1's l2: 6.88095\tvalid_1's rmse: 2.62316\n",
            "[400]\ttraining's l2: 2.70549\ttraining's rmse: 1.64484\tvalid_1's l2: 6.8823\tvalid_1's rmse: 2.62341\n",
            "[401]\ttraining's l2: 2.70381\ttraining's rmse: 1.64433\tvalid_1's l2: 6.88099\tvalid_1's rmse: 2.62316\n",
            "[402]\ttraining's l2: 2.70213\ttraining's rmse: 1.64381\tvalid_1's l2: 6.88227\tvalid_1's rmse: 2.62341\n",
            "[403]\ttraining's l2: 2.69953\ttraining's rmse: 1.64303\tvalid_1's l2: 6.88145\tvalid_1's rmse: 2.62325\n",
            "[404]\ttraining's l2: 2.69725\ttraining's rmse: 1.64233\tvalid_1's l2: 6.88183\tvalid_1's rmse: 2.62333\n",
            "[405]\ttraining's l2: 2.69553\ttraining's rmse: 1.64181\tvalid_1's l2: 6.88147\tvalid_1's rmse: 2.62326\n",
            "[406]\ttraining's l2: 2.69385\ttraining's rmse: 1.6413\tvalid_1's l2: 6.88303\tvalid_1's rmse: 2.62355\n",
            "[407]\ttraining's l2: 2.69265\ttraining's rmse: 1.64093\tvalid_1's l2: 6.88263\tvalid_1's rmse: 2.62348\n",
            "[408]\ttraining's l2: 2.69108\ttraining's rmse: 1.64045\tvalid_1's l2: 6.8841\tvalid_1's rmse: 2.62376\n",
            "[409]\ttraining's l2: 2.68862\ttraining's rmse: 1.6397\tvalid_1's l2: 6.88298\tvalid_1's rmse: 2.62354\n",
            "[410]\ttraining's l2: 2.68678\ttraining's rmse: 1.63914\tvalid_1's l2: 6.88389\tvalid_1's rmse: 2.62372\n",
            "[411]\ttraining's l2: 2.6849\ttraining's rmse: 1.63857\tvalid_1's l2: 6.88508\tvalid_1's rmse: 2.62394\n",
            "[412]\ttraining's l2: 2.68319\ttraining's rmse: 1.63804\tvalid_1's l2: 6.88429\tvalid_1's rmse: 2.62379\n",
            "[413]\ttraining's l2: 2.68128\ttraining's rmse: 1.63746\tvalid_1's l2: 6.88358\tvalid_1's rmse: 2.62366\n",
            "[414]\ttraining's l2: 2.67922\ttraining's rmse: 1.63683\tvalid_1's l2: 6.88547\tvalid_1's rmse: 2.62402\n",
            "[415]\ttraining's l2: 2.67676\ttraining's rmse: 1.63608\tvalid_1's l2: 6.88647\tvalid_1's rmse: 2.62421\n",
            "[416]\ttraining's l2: 2.67454\ttraining's rmse: 1.6354\tvalid_1's l2: 6.88566\tvalid_1's rmse: 2.62405\n",
            "[417]\ttraining's l2: 2.67264\ttraining's rmse: 1.63482\tvalid_1's l2: 6.88771\tvalid_1's rmse: 2.62444\n",
            "[418]\ttraining's l2: 2.67101\ttraining's rmse: 1.63432\tvalid_1's l2: 6.88637\tvalid_1's rmse: 2.62419\n",
            "[419]\ttraining's l2: 2.6686\ttraining's rmse: 1.63359\tvalid_1's l2: 6.88651\tvalid_1's rmse: 2.62422\n",
            "[420]\ttraining's l2: 2.66682\ttraining's rmse: 1.63304\tvalid_1's l2: 6.88482\tvalid_1's rmse: 2.62389\n",
            "[421]\ttraining's l2: 2.66448\ttraining's rmse: 1.63232\tvalid_1's l2: 6.88678\tvalid_1's rmse: 2.62427\n",
            "[422]\ttraining's l2: 2.66339\ttraining's rmse: 1.63199\tvalid_1's l2: 6.88608\tvalid_1's rmse: 2.62413\n",
            "[423]\ttraining's l2: 2.66188\ttraining's rmse: 1.63153\tvalid_1's l2: 6.88803\tvalid_1's rmse: 2.6245\n",
            "[424]\ttraining's l2: 2.66012\ttraining's rmse: 1.63099\tvalid_1's l2: 6.89011\tvalid_1's rmse: 2.6249\n",
            "[425]\ttraining's l2: 2.65883\ttraining's rmse: 1.63059\tvalid_1's l2: 6.88934\tvalid_1's rmse: 2.62476\n",
            "[426]\ttraining's l2: 2.65671\ttraining's rmse: 1.62994\tvalid_1's l2: 6.88958\tvalid_1's rmse: 2.6248\n",
            "Early stopping, best iteration is:\n",
            "[326]\ttraining's l2: 2.86737\ttraining's rmse: 1.69333\tvalid_1's l2: 6.87599\tvalid_1's rmse: 2.62221\n",
            "CPU times: user 3min 31s, sys: 2.46 s, total: 3min 33s\n",
            "Wall time: 1min 52s\n"
          ],
          "name": "stdout"
        },
        {
          "output_type": "execute_result",
          "data": {
            "text/plain": [
              "LGBMRegressor(boosting_type='gbdt', class_weight=None, colsample_bytree=0.681,\n",
              "       importance_type='split', learning_rate=0.03, max_depth=-1,\n",
              "       min_child_samples=20, min_child_weight=100.0,\n",
              "       min_split_gain=1.153453257821093e-05, n_estimators=2000, n_jobs=-1,\n",
              "       num_leaves=128, objective=None, random_state=None,\n",
              "       reg_alpha=0.0005683292391383383, reg_lambda=1.3896326196366016e-05,\n",
              "       silent=True, subsample=0.2217, subsample_for_bin=200000,\n",
              "       subsample_freq=0)"
            ]
          },
          "metadata": {
            "tags": []
          },
          "execution_count": 9
        }
      ]
    },
    {
      "metadata": {
        "id": "KR4TV1SLlRS-",
        "colab_type": "code",
        "colab": {
          "base_uri": "https://localhost:8080/",
          "height": 51
        },
        "outputId": "3de4265f-06a8-4d77-dbd4-ed0031692440"
      },
      "cell_type": "code",
      "source": [
        "%%time\n",
        "pickle.dump(model, open(filename, 'wb'))"
      ],
      "execution_count": 10,
      "outputs": [
        {
          "output_type": "stream",
          "text": [
            "CPU times: user 417 ms, sys: 7.02 ms, total: 424 ms\n",
            "Wall time: 1.21 s\n"
          ],
          "name": "stdout"
        }
      ]
    },
    {
      "metadata": {
        "id": "Wq3yZryLlUXw",
        "colab_type": "code",
        "colab": {}
      },
      "cell_type": "code",
      "source": [
        "files.download(filename) "
      ],
      "execution_count": 0,
      "outputs": []
    },
    {
      "metadata": {
        "id": "Ybg6mIf51CKq",
        "colab_type": "code",
        "colab": {}
      },
      "cell_type": "code",
      "source": [
        ""
      ],
      "execution_count": 0,
      "outputs": []
    }
  ]
}