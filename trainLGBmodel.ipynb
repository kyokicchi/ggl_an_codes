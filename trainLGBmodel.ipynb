{
  "nbformat": 4,
  "nbformat_minor": 0,
  "metadata": {
    "colab": {
      "name": "trainLGBmodel.ipynb",
      "version": "0.3.2",
      "provenance": [],
      "collapsed_sections": [],
      "include_colab_link": true
    },
    "kernelspec": {
      "name": "python3",
      "display_name": "Python 3"
    },
    "accelerator": "GPU"
  },
  "cells": [
    {
      "cell_type": "markdown",
      "metadata": {
        "id": "view-in-github",
        "colab_type": "text"
      },
      "source": [
        "<a href=\"https://colab.research.google.com/github/kyokicchi/ggl_an_codes/blob/master/trainLGBmodel.ipynb\" target=\"_parent\"><img src=\"https://colab.research.google.com/assets/colab-badge.svg\" alt=\"Open In Colab\"/></a>"
      ]
    },
    {
      "metadata": {
        "id": "IAe1xrU__tk3",
        "colab_type": "text"
      },
      "cell_type": "markdown",
      "source": [
        "# Train model"
      ]
    },
    {
      "metadata": {
        "id": "H8X_jxlYnrn3",
        "colab_type": "code",
        "colab": {}
      },
      "cell_type": "code",
      "source": [
        "!pip install lightgbm"
      ],
      "execution_count": 0,
      "outputs": []
    },
    {
      "metadata": {
        "id": "7PrvKZYHs9n0",
        "colab_type": "code",
        "colab": {}
      },
      "cell_type": "code",
      "source": [
        "import lightgbm as lgb\n",
        "import numpy as np\n",
        "import pandas as pd\n",
        "from google.colab import drive\n",
        "from google.colab import files\n",
        "from sklearn.model_selection import train_test_split\n",
        "import pickle"
      ],
      "execution_count": 0,
      "outputs": []
    },
    {
      "metadata": {
        "id": "Uujx3hEhjfnX",
        "colab_type": "code",
        "colab": {}
      },
      "cell_type": "code",
      "source": [
        "drive.mount('/content/gdrive')"
      ],
      "execution_count": 0,
      "outputs": []
    },
    {
      "metadata": {
        "id": "LT06pjlMus4d",
        "colab_type": "code",
        "colab": {}
      },
      "cell_type": "code",
      "source": [
        "%cd ../content/gdrive/My Drive/projects/ggl_an/\n",
        "%ls"
      ],
      "execution_count": 0,
      "outputs": []
    },
    {
      "metadata": {
        "id": "8mAcQ8lo8Ixk",
        "colab_type": "code",
        "colab": {}
      },
      "cell_type": "code",
      "source": [
        "s_data = 'user_train.csv'\n",
        "filename = 'model_LGB.sav'\n",
        "s_col_tgt = 'transactionRevenue'\n",
        "l_col_drop = [s_col_tgt]"
      ],
      "execution_count": 0,
      "outputs": []
    },
    {
      "metadata": {
        "id": "dOrJ1yGmnbrk",
        "colab_type": "code",
        "colab": {}
      },
      "cell_type": "code",
      "source": [
        "%%time\n",
        "df_train = pd.read_csv(s_data, index_col = 0)"
      ],
      "execution_count": 0,
      "outputs": []
    },
    {
      "metadata": {
        "id": "EtSbg4yv8Ch-",
        "colab_type": "code",
        "colab": {}
      },
      "cell_type": "code",
      "source": [
        "%%time\n",
        "df_y = df_train[s_col_tgt]\n",
        "df_x = df_train.drop(l_col_drop, axis=1)"
      ],
      "execution_count": 0,
      "outputs": []
    },
    {
      "metadata": {
        "id": "sYWeiNW0j9cr",
        "colab_type": "code",
        "colab": {}
      },
      "cell_type": "code",
      "source": [
        "%%time\n",
        "x_train, x_test, y_train, y_test = train_test_split(df_x, df_y)\n",
        "\n"
      ],
      "execution_count": 0,
      "outputs": []
    },
    {
      "metadata": {
        "id": "TGrVT1Le4e7M",
        "colab_type": "code",
        "colab": {}
      },
      "cell_type": "code",
      "source": [
        "%%time\n",
        "from sklearn.model_selection import GridSearchCV\n",
        "\n",
        "def applyGSCV(model, param, X, Y):\n",
        "    res = GridSearchCV(model, param, cv=3)\n",
        "    res.fit(X, Y)\n",
        "    return res\n",
        "\n",
        "\n",
        "model = lgb.LGBMRegressor()\n",
        "\n",
        "param = {\n",
        "    'learning_rate': [0.1,0.15],\n",
        "    'n_estimators': [200,500],\n",
        "    'num_leaves': [50,100],\n",
        "}\n",
        "  \n",
        "model_LGB = applyGSCV(model, param, x_train, y_train)\n",
        "\n"
      ],
      "execution_count": 0,
      "outputs": []
    },
    {
      "metadata": {
        "id": "5LGbglpv5_80",
        "colab_type": "code",
        "colab": {}
      },
      "cell_type": "code",
      "source": [
        "print(model_LGB.best_score_)\n",
        "print(model_LGB.best_estimator_)\n"
      ],
      "execution_count": 0,
      "outputs": []
    },
    {
      "metadata": {
        "id": "ItMWaVwslMJi",
        "colab_type": "code",
        "colab": {}
      },
      "cell_type": "code",
      "source": [
        "%%time\n",
        "model = lgb.LGBMRegressor(boosting_type='gbdt', class_weight=None, colsample_bytree=1.0,\n",
        "       importance_type='split', learning_rate=0.1, max_depth=-1,\n",
        "       min_child_samples=20, min_child_weight=0.001, min_split_gain=0.0,\n",
        "       n_estimators=400, n_jobs=-1, num_leaves=50, objective=None,\n",
        "       random_state=None, reg_alpha=0.0, reg_lambda=0.0, silent=True,\n",
        "       subsample=1.0, subsample_for_bin=200000, subsample_freq=0)\n",
        "\n",
        "model.fit(x_train, \n",
        "          y_train,\n",
        "          eval_set=[(x_train, y_train),(x_test, y_test)],\n",
        "          eval_metric='rmse',\n",
        "          early_stopping_rounds = 300)"
      ],
      "execution_count": 0,
      "outputs": []
    },
    {
      "metadata": {
        "id": "KR4TV1SLlRS-",
        "colab_type": "code",
        "colab": {}
      },
      "cell_type": "code",
      "source": [
        "%%time\n",
        "pickle.dump(model_LGB, open(filename, 'wb'))\n"
      ],
      "execution_count": 0,
      "outputs": []
    },
    {
      "metadata": {
        "id": "ex8X3eQP_cRN",
        "colab_type": "text"
      },
      "cell_type": "markdown",
      "source": [
        "# Predict / Output"
      ]
    },
    {
      "metadata": {
        "id": "ufrMRIH19c05",
        "colab_type": "code",
        "colab": {}
      },
      "cell_type": "code",
      "source": [
        "%%time\n",
        "\n",
        "model = pickle.load(open('model_LGB.sav', 'rb'))"
      ],
      "execution_count": 0,
      "outputs": []
    },
    {
      "metadata": {
        "id": "eW2V42ZV8jg5",
        "colab_type": "code",
        "colab": {}
      },
      "cell_type": "code",
      "source": [
        "%%time\n",
        "df_user_train = pd.read_csv('user_train.csv', index_col = 0, dtype={'fullVisitorId': 'str'})\n",
        "df_user_test = pd.read_csv('user_test.csv', index_col = 0, dtype={'fullVisitorId': 'str'})\n"
      ],
      "execution_count": 0,
      "outputs": []
    },
    {
      "metadata": {
        "id": "6oNx0QIG81nE",
        "colab_type": "code",
        "colab": {}
      },
      "cell_type": "code",
      "source": [
        "\n",
        "df_y = df_user_train['transactionRevenue']\n",
        "df_x = df_user_train.drop(['transactionRevenue'], axis=1)\n",
        "df_tgt = df_user_test.drop(['transactionRevenue'], axis=1)\n",
        "\n",
        "df_x.shape, df_y.shape, df_tgt.shape\n"
      ],
      "execution_count": 0,
      "outputs": []
    },
    {
      "metadata": {
        "id": "o4mDYws28VCk",
        "colab_type": "code",
        "colab": {}
      },
      "cell_type": "code",
      "source": [
        "%time\n",
        "\n",
        "from sklearn.metrics import mean_squared_error\n",
        "\n",
        "pred = model.predict(df_x)\n",
        "mse = mean_squared_error(df_y, pred)\n",
        "rmse = np.sqrt(mse)\n",
        "print(rmse)"
      ],
      "execution_count": 0,
      "outputs": []
    },
    {
      "metadata": {
        "id": "CVxJYyAo8U_O",
        "colab_type": "code",
        "colab": {}
      },
      "cell_type": "code",
      "source": [
        "%%time\n",
        "pred_tgt = model.predict(df_tgt)\n"
      ],
      "execution_count": 0,
      "outputs": []
    },
    {
      "metadata": {
        "id": "l9meIvhh8U8L",
        "colab_type": "code",
        "colab": {}
      },
      "cell_type": "code",
      "source": [
        "pred_tgt.shape"
      ],
      "execution_count": 0,
      "outputs": []
    },
    {
      "metadata": {
        "id": "Yj2QLsV-9xem",
        "colab_type": "code",
        "colab": {}
      },
      "cell_type": "code",
      "source": [
        "df_y[df_y<=10.0].value_counts()"
      ],
      "execution_count": 0,
      "outputs": []
    },
    {
      "metadata": {
        "id": "2H8GV7bq8U6K",
        "colab_type": "code",
        "colab": {}
      },
      "cell_type": "code",
      "source": [
        "pred_tgt[pred_tgt<5.0] = 0\n",
        "df_out = pd.DataFrame(index = df_tgt.index)\n",
        "df_out['PredictedLogRevenue'] = pred_tgt\n"
      ],
      "execution_count": 0,
      "outputs": []
    },
    {
      "metadata": {
        "id": "qjuxQSXI8U3v",
        "colab_type": "code",
        "colab": {}
      },
      "cell_type": "code",
      "source": [
        "df_out.head()"
      ],
      "execution_count": 0,
      "outputs": []
    },
    {
      "metadata": {
        "id": "K584rugV8-pc",
        "colab_type": "code",
        "colab": {}
      },
      "cell_type": "code",
      "source": [
        "df_out.describe()"
      ],
      "execution_count": 0,
      "outputs": []
    },
    {
      "metadata": {
        "id": "EnMs4GSP8-mc",
        "colab_type": "code",
        "colab": {}
      },
      "cell_type": "code",
      "source": [
        "%%time\n",
        "df_out.to_csv('output_LGB.csv')"
      ],
      "execution_count": 0,
      "outputs": []
    }
  ]
}