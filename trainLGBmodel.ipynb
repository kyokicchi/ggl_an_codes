{
  "nbformat": 4,
  "nbformat_minor": 0,
  "metadata": {
    "colab": {
      "name": "trainLGBmodel.ipynb",
      "version": "0.3.2",
      "provenance": [],
      "collapsed_sections": [],
      "include_colab_link": true
    },
    "kernelspec": {
      "name": "python3",
      "display_name": "Python 3"
    },
    "accelerator": "GPU"
  },
  "cells": [
    {
      "cell_type": "markdown",
      "metadata": {
        "id": "view-in-github",
        "colab_type": "text"
      },
      "source": [
        "[View in Colaboratory](https://colab.research.google.com/github/kyokicchi/kaggle_codes/blob/master/trainLGBmodel.ipynb)"
      ]
    },
    {
      "metadata": {
        "id": "H8X_jxlYnrn3",
        "colab_type": "code",
        "colab": {
          "base_uri": "https://localhost:8080/",
          "height": 152
        },
        "outputId": "6d301d62-78c0-4012-8e64-98b3d5f7f3c6"
      },
      "cell_type": "code",
      "source": [
        "!pip install lightgbm"
      ],
      "execution_count": 1,
      "outputs": [
        {
          "output_type": "stream",
          "text": [
            "Collecting lightgbm\n",
            "\u001b[?25l  Downloading https://files.pythonhosted.org/packages/78/7e/bc87e7951cfaa998cffaf39e6c721f5bd04efb2e139486206356edb289a5/lightgbm-2.2.1-py2.py3-none-manylinux1_x86_64.whl (1.1MB)\n",
            "\u001b[K    100% |████████████████████████████████| 1.1MB 15.9MB/s \n",
            "\u001b[?25hRequirement already satisfied: scikit-learn in /usr/local/lib/python3.6/dist-packages (from lightgbm) (0.19.2)\n",
            "Requirement already satisfied: numpy in /usr/local/lib/python3.6/dist-packages (from lightgbm) (1.14.6)\n",
            "Requirement already satisfied: scipy in /usr/local/lib/python3.6/dist-packages (from lightgbm) (0.19.1)\n",
            "Installing collected packages: lightgbm\n",
            "Successfully installed lightgbm-2.2.1\n"
          ],
          "name": "stdout"
        }
      ]
    },
    {
      "metadata": {
        "id": "7PrvKZYHs9n0",
        "colab_type": "code",
        "colab": {}
      },
      "cell_type": "code",
      "source": [
        "import lightgbm as lgb\n",
        "import numpy as np\n",
        "import pandas as pd\n",
        "from google.colab import drive\n",
        "from google.colab import files\n",
        "from sklearn.model_selection import train_test_split\n",
        "import pickle"
      ],
      "execution_count": 0,
      "outputs": []
    },
    {
      "metadata": {
        "id": "Uujx3hEhjfnX",
        "colab_type": "code",
        "colab": {
          "base_uri": "https://localhost:8080/",
          "height": 121
        },
        "outputId": "4fc3179a-1f38-4757-fa05-7854907f69ba"
      },
      "cell_type": "code",
      "source": [
        "drive.mount('/content/gdrive')"
      ],
      "execution_count": 3,
      "outputs": [
        {
          "output_type": "stream",
          "text": [
            "Go to this URL in a browser: https://accounts.google.com/o/oauth2/auth?client_id=947318989803-6bn6qk8qdgf4n4g3pfee6491hc0brc4i.apps.googleusercontent.com&redirect_uri=urn%3Aietf%3Awg%3Aoauth%3A2.0%3Aoob&scope=email%20https%3A%2F%2Fwww.googleapis.com%2Fauth%2Fdocs.test%20https%3A%2F%2Fwww.googleapis.com%2Fauth%2Fdrive%20https%3A%2F%2Fwww.googleapis.com%2Fauth%2Fdrive.photos.readonly%20https%3A%2F%2Fwww.googleapis.com%2Fauth%2Fpeopleapi.readonly&response_type=code\n",
            "\n",
            "Enter your authorization code:\n",
            "··········\n",
            "Mounted at /content/gdrive\n"
          ],
          "name": "stdout"
        }
      ]
    },
    {
      "metadata": {
        "id": "LT06pjlMus4d",
        "colab_type": "code",
        "colab": {
          "base_uri": "https://localhost:8080/",
          "height": 68
        },
        "outputId": "50033bd3-4748-4957-c9db-b39c059e53e4"
      },
      "cell_type": "code",
      "source": [
        "%cd ../content/gdrive/My Drive/projects/\n",
        "%ls"
      ],
      "execution_count": 4,
      "outputs": [
        {
          "output_type": "stream",
          "text": [
            "/content/gdrive/My Drive/projects\n",
            "model_LGB.sav  model_XGB.sav  user_test_n.csv\n",
            "model_NN.h5    output.csv     user_train_n.csv\n"
          ],
          "name": "stdout"
        }
      ]
    },
    {
      "metadata": {
        "id": "8mAcQ8lo8Ixk",
        "colab_type": "code",
        "colab": {}
      },
      "cell_type": "code",
      "source": [
        "s_data = 'user_train_n.csv'\n",
        "filename = 'model_LGB.sav'\n",
        "s_col_tgt = 'transactionRevenue_sum'\n",
        "l_col_drop = [s_col_tgt]"
      ],
      "execution_count": 0,
      "outputs": []
    },
    {
      "metadata": {
        "id": "dOrJ1yGmnbrk",
        "colab_type": "code",
        "colab": {
          "base_uri": "https://localhost:8080/",
          "height": 68
        },
        "outputId": "7353de72-5d5e-47d5-a968-c36837fb93e2"
      },
      "cell_type": "code",
      "source": [
        "%%time\n",
        "df_train = pd.read_csv(s_data, index_col = 0)"
      ],
      "execution_count": 6,
      "outputs": [
        {
          "output_type": "stream",
          "text": [
            "<string>:2: DtypeWarning: Columns (0) have mixed types. Specify dtype option on import or set low_memory=False.\n"
          ],
          "name": "stderr"
        },
        {
          "output_type": "stream",
          "text": [
            "CPU times: user 9.17 s, sys: 896 ms, total: 10.1 s\n",
            "Wall time: 13.5 s\n"
          ],
          "name": "stdout"
        }
      ]
    },
    {
      "metadata": {
        "id": "ny30265j8VEf",
        "colab_type": "code",
        "colab": {
          "base_uri": "https://localhost:8080/",
          "height": 321
        },
        "outputId": "2408fd57-ba1c-4ac3-ba04-e4c9f240aedd"
      },
      "cell_type": "code",
      "source": [
        "df_train.columns"
      ],
      "execution_count": 7,
      "outputs": [
        {
          "output_type": "execute_result",
          "data": {
            "text/plain": [
              "Index(['visitNumber_sum', 'visitNumber_min', 'visitNumber_max',\n",
              "       'visitNumber_mean', 'visitStartTime_min', 'visitStartTime_max',\n",
              "       'visitStartTime_mean', 'operatingSystem_min', 'operatingSystem_max',\n",
              "       'operatingSystem_mean', 'country_mean', 'subContinent_mean', 'hits_sum',\n",
              "       'hits_min', 'hits_max', 'hits_mean', 'pageviews_sum', 'pageviews_min',\n",
              "       'pageviews_max', 'pageviews_mean', 'transactionRevenue_sum',\n",
              "       'transactionRevenue_size', 'source_mean', 'month_min', 'month_max',\n",
              "       'month_mean', 'day_min', 'day_max', 'day_mean', 'weekday_mean',\n",
              "       'weekofyear_min', 'weekofyear_max', 'weekofyear_mean', 'weekend_mean',\n",
              "       'browser_cat_mean', 'ads_1_mean', 'ads_2_mean',\n",
              "       'user_cumcnt_per_day_sum', 'user_cumcnt_per_day_min',\n",
              "       'user_cumcnt_per_day_max', 'user_cumcnt_per_day_mean',\n",
              "       'user_sum_per_day_sum', 'user_sum_per_day_min', 'user_sum_per_day_max',\n",
              "       'user_sum_per_day_mean', 'user_cumcnt_sum_ratio_per_day_mean',\n",
              "       'Affiliates_mean', 'Direct_mean', 'Display_mean', 'Organic Search_mean',\n",
              "       'Paid Search_mean', 'Referral_mean', 'Social_mean', 'Africa_mean',\n",
              "       'Americas_mean', 'Asia_mean', 'Europe_mean', 'Oceania_mean'],\n",
              "      dtype='object')"
            ]
          },
          "metadata": {
            "tags": []
          },
          "execution_count": 7
        }
      ]
    },
    {
      "metadata": {
        "id": "EtSbg4yv8Ch-",
        "colab_type": "code",
        "colab": {
          "base_uri": "https://localhost:8080/",
          "height": 51
        },
        "outputId": "65259533-5cfb-4446-c9d5-1ab8b0f0df25"
      },
      "cell_type": "code",
      "source": [
        "%%time\n",
        "df_y = df_train[s_col_tgt]\n",
        "df_x = df_train.drop(l_col_drop, axis=1)"
      ],
      "execution_count": 8,
      "outputs": [
        {
          "output_type": "stream",
          "text": [
            "CPU times: user 59 ms, sys: 178 ms, total: 237 ms\n",
            "Wall time: 237 ms\n"
          ],
          "name": "stdout"
        }
      ]
    },
    {
      "metadata": {
        "id": "sYWeiNW0j9cr",
        "colab_type": "code",
        "colab": {
          "base_uri": "https://localhost:8080/",
          "height": 51
        },
        "outputId": "90f61edc-8ff8-48f9-cb3e-369c60be6bb0"
      },
      "cell_type": "code",
      "source": [
        "%%time\n",
        "x_train, x_test, y_train, y_test = train_test_split(df_x, df_y)\n",
        "x_eval, x_valid, y_eval, y_valid = train_test_split(x_test, y_test)\n",
        "\n"
      ],
      "execution_count": 9,
      "outputs": [
        {
          "output_type": "stream",
          "text": [
            "CPU times: user 1.05 s, sys: 123 ms, total: 1.18 s\n",
            "Wall time: 1.18 s\n"
          ],
          "name": "stdout"
        }
      ]
    },
    {
      "metadata": {
        "id": "A9vk5vnLlGFL",
        "colab_type": "code",
        "colab": {}
      },
      "cell_type": "code",
      "source": [
        "\n",
        "params = {\n",
        "    'learning_rate': 0.03,\n",
        "    'n_estimators': 200,\n",
        "    'num_leaves': 128,\n",
        "    'subsample': 0.2217,\n",
        "    'colsample_bytree': 0.6810,\n",
        "    'min_split_gain': np.power(10.0, -4.9380),\n",
        "    'reg_alpha': np.power(10.0, -3.2454),\n",
        "    'reg_lambda': np.power(10.0, -4.8571),\n",
        "    'min_child_weight': np.power(10.0, 2),\n",
        "    'silent': True\n",
        "}\n",
        "\n",
        "model = lgb.LGBMRegressor(**params)\n",
        "\n"
      ],
      "execution_count": 0,
      "outputs": []
    },
    {
      "metadata": {
        "id": "ItMWaVwslMJi",
        "colab_type": "code",
        "colab": {
          "base_uri": "https://localhost:8080/",
          "height": 3621
        },
        "outputId": "76becef0-f423-476e-d453-ac98c318f2df"
      },
      "cell_type": "code",
      "source": [
        "%%time\n",
        "model.fit(x_train, \n",
        "          y_train,\n",
        "          eval_set=[(x_train, y_train),(x_eval, y_eval)],\n",
        "          eval_metric='rmse',\n",
        "          early_stopping_rounds=100)"
      ],
      "execution_count": 11,
      "outputs": [
        {
          "output_type": "stream",
          "text": [
            "[1]\ttraining's rmse: 0.00487753\ttraining's l2: 2.37903e-05\tvalid_1's rmse: 0.00492602\tvalid_1's l2: 2.42657e-05\n",
            "Training until validation scores don't improve for 100 rounds.\n",
            "[2]\ttraining's rmse: 0.00482719\ttraining's l2: 2.33018e-05\tvalid_1's rmse: 0.00487395\tvalid_1's l2: 2.37554e-05\n",
            "[3]\ttraining's rmse: 0.00477656\ttraining's l2: 2.28155e-05\tvalid_1's rmse: 0.0048226\tvalid_1's l2: 2.32575e-05\n",
            "[4]\ttraining's rmse: 0.0047301\ttraining's l2: 2.23738e-05\tvalid_1's rmse: 0.00477578\tvalid_1's l2: 2.28081e-05\n",
            "[5]\ttraining's rmse: 0.00468431\ttraining's l2: 2.19428e-05\tvalid_1's rmse: 0.00472888\tvalid_1's l2: 2.23623e-05\n",
            "[6]\ttraining's rmse: 0.00464055\ttraining's l2: 2.15347e-05\tvalid_1's rmse: 0.00468408\tvalid_1's l2: 2.19406e-05\n",
            "[7]\ttraining's rmse: 0.00459884\ttraining's l2: 2.11493e-05\tvalid_1's rmse: 0.00464083\tvalid_1's l2: 2.15373e-05\n",
            "[8]\ttraining's rmse: 0.0045595\ttraining's l2: 2.0789e-05\tvalid_1's rmse: 0.00460078\tvalid_1's l2: 2.11672e-05\n",
            "[9]\ttraining's rmse: 0.00452101\ttraining's l2: 2.04395e-05\tvalid_1's rmse: 0.00456154\tvalid_1's l2: 2.08077e-05\n",
            "[10]\ttraining's rmse: 0.00448425\ttraining's l2: 2.01085e-05\tvalid_1's rmse: 0.0045241\tvalid_1's l2: 2.04675e-05\n",
            "[11]\ttraining's rmse: 0.0044489\ttraining's l2: 1.97927e-05\tvalid_1's rmse: 0.00448847\tvalid_1's l2: 2.01464e-05\n",
            "[12]\ttraining's rmse: 0.00441538\ttraining's l2: 1.94956e-05\tvalid_1's rmse: 0.00445481\tvalid_1's l2: 1.98453e-05\n",
            "[13]\ttraining's rmse: 0.00438235\ttraining's l2: 1.9205e-05\tvalid_1's rmse: 0.00442115\tvalid_1's l2: 1.95466e-05\n",
            "[14]\ttraining's rmse: 0.0043526\ttraining's l2: 1.89451e-05\tvalid_1's rmse: 0.00439132\tvalid_1's l2: 1.92837e-05\n",
            "[15]\ttraining's rmse: 0.00432369\ttraining's l2: 1.86943e-05\tvalid_1's rmse: 0.00436155\tvalid_1's l2: 1.90231e-05\n",
            "[16]\ttraining's rmse: 0.00429547\ttraining's l2: 1.84511e-05\tvalid_1's rmse: 0.00433238\tvalid_1's l2: 1.87695e-05\n",
            "[17]\ttraining's rmse: 0.00426968\ttraining's l2: 1.82302e-05\tvalid_1's rmse: 0.00430643\tvalid_1's l2: 1.85453e-05\n",
            "[18]\ttraining's rmse: 0.00424456\ttraining's l2: 1.80163e-05\tvalid_1's rmse: 0.00428127\tvalid_1's l2: 1.83292e-05\n",
            "[19]\ttraining's rmse: 0.00421979\ttraining's l2: 1.78066e-05\tvalid_1's rmse: 0.00425642\tvalid_1's l2: 1.81171e-05\n",
            "[20]\ttraining's rmse: 0.00419827\ttraining's l2: 1.76255e-05\tvalid_1's rmse: 0.00423426\tvalid_1's l2: 1.79289e-05\n",
            "[21]\ttraining's rmse: 0.00417498\ttraining's l2: 1.74305e-05\tvalid_1's rmse: 0.00421157\tvalid_1's l2: 1.77374e-05\n",
            "[22]\ttraining's rmse: 0.00415323\ttraining's l2: 1.72493e-05\tvalid_1's rmse: 0.00418982\tvalid_1's l2: 1.75546e-05\n",
            "[23]\ttraining's rmse: 0.00413351\ttraining's l2: 1.70859e-05\tvalid_1's rmse: 0.00417057\tvalid_1's l2: 1.73936e-05\n",
            "[24]\ttraining's rmse: 0.00411308\ttraining's l2: 1.69175e-05\tvalid_1's rmse: 0.00414944\tvalid_1's l2: 1.72178e-05\n",
            "[25]\ttraining's rmse: 0.00409386\ttraining's l2: 1.67597e-05\tvalid_1's rmse: 0.00413065\tvalid_1's l2: 1.70622e-05\n",
            "[26]\ttraining's rmse: 0.00407589\ttraining's l2: 1.66129e-05\tvalid_1's rmse: 0.00411269\tvalid_1's l2: 1.69142e-05\n",
            "[27]\ttraining's rmse: 0.00405833\ttraining's l2: 1.647e-05\tvalid_1's rmse: 0.00409454\tvalid_1's l2: 1.67653e-05\n",
            "[28]\ttraining's rmse: 0.0040418\ttraining's l2: 1.63362e-05\tvalid_1's rmse: 0.00407852\tvalid_1's l2: 1.66343e-05\n",
            "[29]\ttraining's rmse: 0.00402596\ttraining's l2: 1.62084e-05\tvalid_1's rmse: 0.00406247\tvalid_1's l2: 1.65037e-05\n",
            "[30]\ttraining's rmse: 0.00401035\ttraining's l2: 1.60829e-05\tvalid_1's rmse: 0.00404791\tvalid_1's l2: 1.63856e-05\n",
            "[31]\ttraining's rmse: 0.00399504\ttraining's l2: 1.59604e-05\tvalid_1's rmse: 0.00403302\tvalid_1's l2: 1.62652e-05\n",
            "[32]\ttraining's rmse: 0.00398187\ttraining's l2: 1.58553e-05\tvalid_1's rmse: 0.00401998\tvalid_1's l2: 1.61602e-05\n",
            "[33]\ttraining's rmse: 0.00396898\ttraining's l2: 1.57528e-05\tvalid_1's rmse: 0.00400783\tvalid_1's l2: 1.60627e-05\n",
            "[34]\ttraining's rmse: 0.00395628\ttraining's l2: 1.56521e-05\tvalid_1's rmse: 0.00399566\tvalid_1's l2: 1.59653e-05\n",
            "[35]\ttraining's rmse: 0.00394385\ttraining's l2: 1.55539e-05\tvalid_1's rmse: 0.00398418\tvalid_1's l2: 1.58737e-05\n",
            "[36]\ttraining's rmse: 0.00392976\ttraining's l2: 1.5443e-05\tvalid_1's rmse: 0.00397118\tvalid_1's l2: 1.57703e-05\n",
            "[37]\ttraining's rmse: 0.00391819\ttraining's l2: 1.53522e-05\tvalid_1's rmse: 0.00395992\tvalid_1's l2: 1.5681e-05\n",
            "[38]\ttraining's rmse: 0.00390728\ttraining's l2: 1.52668e-05\tvalid_1's rmse: 0.00394997\tvalid_1's l2: 1.56023e-05\n",
            "[39]\ttraining's rmse: 0.00389653\ttraining's l2: 1.5183e-05\tvalid_1's rmse: 0.00394047\tvalid_1's l2: 1.55273e-05\n",
            "[40]\ttraining's rmse: 0.00388677\ttraining's l2: 1.5107e-05\tvalid_1's rmse: 0.00393113\tvalid_1's l2: 1.54538e-05\n",
            "[41]\ttraining's rmse: 0.00387829\ttraining's l2: 1.50411e-05\tvalid_1's rmse: 0.00392352\tvalid_1's l2: 1.5394e-05\n",
            "[42]\ttraining's rmse: 0.00386886\ttraining's l2: 1.49681e-05\tvalid_1's rmse: 0.00391532\tvalid_1's l2: 1.53297e-05\n",
            "[43]\ttraining's rmse: 0.00385997\ttraining's l2: 1.48993e-05\tvalid_1's rmse: 0.00390719\tvalid_1's l2: 1.52661e-05\n",
            "[44]\ttraining's rmse: 0.00384932\ttraining's l2: 1.48172e-05\tvalid_1's rmse: 0.00389739\tvalid_1's l2: 1.51896e-05\n",
            "[45]\ttraining's rmse: 0.00384118\ttraining's l2: 1.47546e-05\tvalid_1's rmse: 0.00388998\tvalid_1's l2: 1.5132e-05\n",
            "[46]\ttraining's rmse: 0.00383329\ttraining's l2: 1.46941e-05\tvalid_1's rmse: 0.00388265\tvalid_1's l2: 1.5075e-05\n",
            "[47]\ttraining's rmse: 0.00382594\ttraining's l2: 1.46378e-05\tvalid_1's rmse: 0.00387648\tvalid_1's l2: 1.50271e-05\n",
            "[48]\ttraining's rmse: 0.00381805\ttraining's l2: 1.45775e-05\tvalid_1's rmse: 0.00386931\tvalid_1's l2: 1.49716e-05\n",
            "[49]\ttraining's rmse: 0.003811\ttraining's l2: 1.45237e-05\tvalid_1's rmse: 0.00386411\tvalid_1's l2: 1.49313e-05\n",
            "[50]\ttraining's rmse: 0.00380354\ttraining's l2: 1.44669e-05\tvalid_1's rmse: 0.00385755\tvalid_1's l2: 1.48807e-05\n",
            "[51]\ttraining's rmse: 0.00379534\ttraining's l2: 1.44046e-05\tvalid_1's rmse: 0.00385109\tvalid_1's l2: 1.48309e-05\n",
            "[52]\ttraining's rmse: 0.00378935\ttraining's l2: 1.43592e-05\tvalid_1's rmse: 0.00384594\tvalid_1's l2: 1.47912e-05\n",
            "[53]\ttraining's rmse: 0.00378279\ttraining's l2: 1.43095e-05\tvalid_1's rmse: 0.00384066\tvalid_1's l2: 1.47507e-05\n",
            "[54]\ttraining's rmse: 0.00377494\ttraining's l2: 1.42502e-05\tvalid_1's rmse: 0.00383424\tvalid_1's l2: 1.47014e-05\n",
            "[55]\ttraining's rmse: 0.00376941\ttraining's l2: 1.42084e-05\tvalid_1's rmse: 0.00383058\tvalid_1's l2: 1.46734e-05\n",
            "[56]\ttraining's rmse: 0.00376105\ttraining's l2: 1.41455e-05\tvalid_1's rmse: 0.00382386\tvalid_1's l2: 1.46219e-05\n",
            "[57]\ttraining's rmse: 0.00375533\ttraining's l2: 1.41025e-05\tvalid_1's rmse: 0.00381936\tvalid_1's l2: 1.45875e-05\n",
            "[58]\ttraining's rmse: 0.00374844\ttraining's l2: 1.40508e-05\tvalid_1's rmse: 0.00381457\tvalid_1's l2: 1.45509e-05\n",
            "[59]\ttraining's rmse: 0.00374212\ttraining's l2: 1.40034e-05\tvalid_1's rmse: 0.00380963\tvalid_1's l2: 1.45133e-05\n",
            "[60]\ttraining's rmse: 0.00373525\ttraining's l2: 1.39521e-05\tvalid_1's rmse: 0.00380503\tvalid_1's l2: 1.44782e-05\n",
            "[61]\ttraining's rmse: 0.00372858\ttraining's l2: 1.39023e-05\tvalid_1's rmse: 0.00380049\tvalid_1's l2: 1.44437e-05\n",
            "[62]\ttraining's rmse: 0.00372261\ttraining's l2: 1.38578e-05\tvalid_1's rmse: 0.00379618\tvalid_1's l2: 1.4411e-05\n",
            "[63]\ttraining's rmse: 0.00371658\ttraining's l2: 1.3813e-05\tvalid_1's rmse: 0.00379267\tvalid_1's l2: 1.43844e-05\n",
            "[64]\ttraining's rmse: 0.00371182\ttraining's l2: 1.37776e-05\tvalid_1's rmse: 0.00379085\tvalid_1's l2: 1.43706e-05\n",
            "[65]\ttraining's rmse: 0.00370587\ttraining's l2: 1.37334e-05\tvalid_1's rmse: 0.00378692\tvalid_1's l2: 1.43407e-05\n",
            "[66]\ttraining's rmse: 0.0037003\ttraining's l2: 1.36922e-05\tvalid_1's rmse: 0.00378317\tvalid_1's l2: 1.43123e-05\n",
            "[67]\ttraining's rmse: 0.00369523\ttraining's l2: 1.36547e-05\tvalid_1's rmse: 0.00378065\tvalid_1's l2: 1.42933e-05\n",
            "[68]\ttraining's rmse: 0.00369036\ttraining's l2: 1.36188e-05\tvalid_1's rmse: 0.00377889\tvalid_1's l2: 1.428e-05\n",
            "[69]\ttraining's rmse: 0.003686\ttraining's l2: 1.35866e-05\tvalid_1's rmse: 0.00377678\tvalid_1's l2: 1.4264e-05\n",
            "[70]\ttraining's rmse: 0.00368113\ttraining's l2: 1.35507e-05\tvalid_1's rmse: 0.00377453\tvalid_1's l2: 1.42471e-05\n",
            "[71]\ttraining's rmse: 0.00367657\ttraining's l2: 1.35171e-05\tvalid_1's rmse: 0.0037725\tvalid_1's l2: 1.42318e-05\n",
            "[72]\ttraining's rmse: 0.00367177\ttraining's l2: 1.34819e-05\tvalid_1's rmse: 0.00376982\tvalid_1's l2: 1.42115e-05\n",
            "[73]\ttraining's rmse: 0.00366807\ttraining's l2: 1.34547e-05\tvalid_1's rmse: 0.00376843\tvalid_1's l2: 1.4201e-05\n",
            "[74]\ttraining's rmse: 0.00366365\ttraining's l2: 1.34223e-05\tvalid_1's rmse: 0.0037669\tvalid_1's l2: 1.41895e-05\n",
            "[75]\ttraining's rmse: 0.00365951\ttraining's l2: 1.3392e-05\tvalid_1's rmse: 0.00376513\tvalid_1's l2: 1.41762e-05\n",
            "[76]\ttraining's rmse: 0.0036551\ttraining's l2: 1.33598e-05\tvalid_1's rmse: 0.00376252\tvalid_1's l2: 1.41565e-05\n",
            "[77]\ttraining's rmse: 0.00365076\ttraining's l2: 1.33281e-05\tvalid_1's rmse: 0.00376022\tvalid_1's l2: 1.41392e-05\n",
            "[78]\ttraining's rmse: 0.00364657\ttraining's l2: 1.32975e-05\tvalid_1's rmse: 0.00375801\tvalid_1's l2: 1.41226e-05\n",
            "[79]\ttraining's rmse: 0.00364298\ttraining's l2: 1.32713e-05\tvalid_1's rmse: 0.00375622\tvalid_1's l2: 1.41092e-05\n",
            "[80]\ttraining's rmse: 0.00363917\ttraining's l2: 1.32436e-05\tvalid_1's rmse: 0.00375421\tvalid_1's l2: 1.40941e-05\n",
            "[81]\ttraining's rmse: 0.00363596\ttraining's l2: 1.32202e-05\tvalid_1's rmse: 0.00375398\tvalid_1's l2: 1.40923e-05\n",
            "[82]\ttraining's rmse: 0.00363196\ttraining's l2: 1.31911e-05\tvalid_1's rmse: 0.00375201\tvalid_1's l2: 1.40776e-05\n",
            "[83]\ttraining's rmse: 0.00362868\ttraining's l2: 1.31673e-05\tvalid_1's rmse: 0.00375222\tvalid_1's l2: 1.40791e-05\n",
            "[84]\ttraining's rmse: 0.00362487\ttraining's l2: 1.31397e-05\tvalid_1's rmse: 0.00375153\tvalid_1's l2: 1.4074e-05\n",
            "[85]\ttraining's rmse: 0.00362117\ttraining's l2: 1.31129e-05\tvalid_1's rmse: 0.00374976\tvalid_1's l2: 1.40607e-05\n",
            "[86]\ttraining's rmse: 0.00361751\ttraining's l2: 1.30863e-05\tvalid_1's rmse: 0.00374854\tvalid_1's l2: 1.40516e-05\n",
            "[87]\ttraining's rmse: 0.00361425\ttraining's l2: 1.30628e-05\tvalid_1's rmse: 0.00374679\tvalid_1's l2: 1.40384e-05\n",
            "[88]\ttraining's rmse: 0.00361116\ttraining's l2: 1.30405e-05\tvalid_1's rmse: 0.00374689\tvalid_1's l2: 1.40392e-05\n",
            "[89]\ttraining's rmse: 0.00360763\ttraining's l2: 1.3015e-05\tvalid_1's rmse: 0.00374597\tvalid_1's l2: 1.40323e-05\n",
            "[90]\ttraining's rmse: 0.00360424\ttraining's l2: 1.29905e-05\tvalid_1's rmse: 0.00374439\tvalid_1's l2: 1.40205e-05\n",
            "[91]\ttraining's rmse: 0.00360013\ttraining's l2: 1.29609e-05\tvalid_1's rmse: 0.00374081\tvalid_1's l2: 1.39936e-05\n",
            "[92]\ttraining's rmse: 0.00359599\ttraining's l2: 1.29312e-05\tvalid_1's rmse: 0.00373949\tvalid_1's l2: 1.39838e-05\n",
            "[93]\ttraining's rmse: 0.0035918\ttraining's l2: 1.2901e-05\tvalid_1's rmse: 0.00373802\tvalid_1's l2: 1.39728e-05\n",
            "[94]\ttraining's rmse: 0.00358797\ttraining's l2: 1.28735e-05\tvalid_1's rmse: 0.00373684\tvalid_1's l2: 1.3964e-05\n",
            "[95]\ttraining's rmse: 0.00358497\ttraining's l2: 1.2852e-05\tvalid_1's rmse: 0.00373634\tvalid_1's l2: 1.39602e-05\n",
            "[96]\ttraining's rmse: 0.00358168\ttraining's l2: 1.28284e-05\tvalid_1's rmse: 0.00373608\tvalid_1's l2: 1.39583e-05\n",
            "[97]\ttraining's rmse: 0.00357857\ttraining's l2: 1.28062e-05\tvalid_1's rmse: 0.00373551\tvalid_1's l2: 1.3954e-05\n",
            "[98]\ttraining's rmse: 0.00357573\ttraining's l2: 1.27859e-05\tvalid_1's rmse: 0.00373447\tvalid_1's l2: 1.39463e-05\n",
            "[99]\ttraining's rmse: 0.00357282\ttraining's l2: 1.2765e-05\tvalid_1's rmse: 0.00373402\tvalid_1's l2: 1.39429e-05\n",
            "[100]\ttraining's rmse: 0.00357012\ttraining's l2: 1.27457e-05\tvalid_1's rmse: 0.00373281\tvalid_1's l2: 1.39339e-05\n",
            "[101]\ttraining's rmse: 0.00356723\ttraining's l2: 1.27252e-05\tvalid_1's rmse: 0.00373228\tvalid_1's l2: 1.39299e-05\n",
            "[102]\ttraining's rmse: 0.00356415\ttraining's l2: 1.27032e-05\tvalid_1's rmse: 0.00373146\tvalid_1's l2: 1.39238e-05\n",
            "[103]\ttraining's rmse: 0.00356177\ttraining's l2: 1.26862e-05\tvalid_1's rmse: 0.00373107\tvalid_1's l2: 1.39209e-05\n",
            "[104]\ttraining's rmse: 0.00355891\ttraining's l2: 1.26658e-05\tvalid_1's rmse: 0.00373047\tvalid_1's l2: 1.39164e-05\n",
            "[105]\ttraining's rmse: 0.0035558\ttraining's l2: 1.26437e-05\tvalid_1's rmse: 0.00372986\tvalid_1's l2: 1.39118e-05\n",
            "[106]\ttraining's rmse: 0.0035533\ttraining's l2: 1.26259e-05\tvalid_1's rmse: 0.00372924\tvalid_1's l2: 1.39072e-05\n",
            "[107]\ttraining's rmse: 0.00355067\ttraining's l2: 1.26072e-05\tvalid_1's rmse: 0.00372947\tvalid_1's l2: 1.39089e-05\n",
            "[108]\ttraining's rmse: 0.00354825\ttraining's l2: 1.259e-05\tvalid_1's rmse: 0.00372913\tvalid_1's l2: 1.39064e-05\n",
            "[109]\ttraining's rmse: 0.00354598\ttraining's l2: 1.2574e-05\tvalid_1's rmse: 0.00372856\tvalid_1's l2: 1.39022e-05\n",
            "[110]\ttraining's rmse: 0.0035433\ttraining's l2: 1.2555e-05\tvalid_1's rmse: 0.00372767\tvalid_1's l2: 1.38955e-05\n",
            "[111]\ttraining's rmse: 0.00354058\ttraining's l2: 1.25357e-05\tvalid_1's rmse: 0.00372683\tvalid_1's l2: 1.38892e-05\n",
            "[112]\ttraining's rmse: 0.00353829\ttraining's l2: 1.25195e-05\tvalid_1's rmse: 0.00372758\tvalid_1's l2: 1.38949e-05\n",
            "[113]\ttraining's rmse: 0.00353588\ttraining's l2: 1.25024e-05\tvalid_1's rmse: 0.00372674\tvalid_1's l2: 1.38886e-05\n",
            "[114]\ttraining's rmse: 0.00353317\ttraining's l2: 1.24833e-05\tvalid_1's rmse: 0.00372555\tvalid_1's l2: 1.38797e-05\n",
            "[115]\ttraining's rmse: 0.00353102\ttraining's l2: 1.24681e-05\tvalid_1's rmse: 0.00372609\tvalid_1's l2: 1.38838e-05\n",
            "[116]\ttraining's rmse: 0.00352882\ttraining's l2: 1.24526e-05\tvalid_1's rmse: 0.00372538\tvalid_1's l2: 1.38784e-05\n",
            "[117]\ttraining's rmse: 0.00352619\ttraining's l2: 1.2434e-05\tvalid_1's rmse: 0.00372566\tvalid_1's l2: 1.38805e-05\n",
            "[118]\ttraining's rmse: 0.00352363\ttraining's l2: 1.24159e-05\tvalid_1's rmse: 0.00372599\tvalid_1's l2: 1.3883e-05\n",
            "[119]\ttraining's rmse: 0.0035215\ttraining's l2: 1.2401e-05\tvalid_1's rmse: 0.00372565\tvalid_1's l2: 1.38805e-05\n",
            "[120]\ttraining's rmse: 0.00351891\ttraining's l2: 1.23827e-05\tvalid_1's rmse: 0.00372555\tvalid_1's l2: 1.38797e-05\n",
            "[121]\ttraining's rmse: 0.00351674\ttraining's l2: 1.23675e-05\tvalid_1's rmse: 0.00372545\tvalid_1's l2: 1.3879e-05\n",
            "[122]\ttraining's rmse: 0.00351431\ttraining's l2: 1.23504e-05\tvalid_1's rmse: 0.00372494\tvalid_1's l2: 1.38752e-05\n",
            "[123]\ttraining's rmse: 0.00351188\ttraining's l2: 1.23333e-05\tvalid_1's rmse: 0.00372424\tvalid_1's l2: 1.387e-05\n",
            "[124]\ttraining's rmse: 0.00350937\ttraining's l2: 1.23157e-05\tvalid_1's rmse: 0.00372408\tvalid_1's l2: 1.38688e-05\n",
            "[125]\ttraining's rmse: 0.00350706\ttraining's l2: 1.22995e-05\tvalid_1's rmse: 0.0037241\tvalid_1's l2: 1.38689e-05\n",
            "[126]\ttraining's rmse: 0.00350511\ttraining's l2: 1.22858e-05\tvalid_1's rmse: 0.00372372\tvalid_1's l2: 1.38661e-05\n",
            "[127]\ttraining's rmse: 0.00350283\ttraining's l2: 1.22698e-05\tvalid_1's rmse: 0.00372331\tvalid_1's l2: 1.3863e-05\n",
            "[128]\ttraining's rmse: 0.00350074\ttraining's l2: 1.22552e-05\tvalid_1's rmse: 0.00372273\tvalid_1's l2: 1.38587e-05\n",
            "[129]\ttraining's rmse: 0.00349852\ttraining's l2: 1.22397e-05\tvalid_1's rmse: 0.00372292\tvalid_1's l2: 1.38601e-05\n",
            "[130]\ttraining's rmse: 0.00349626\ttraining's l2: 1.22238e-05\tvalid_1's rmse: 0.00372293\tvalid_1's l2: 1.38602e-05\n",
            "[131]\ttraining's rmse: 0.00349442\ttraining's l2: 1.2211e-05\tvalid_1's rmse: 0.00372228\tvalid_1's l2: 1.38553e-05\n",
            "[132]\ttraining's rmse: 0.00349221\ttraining's l2: 1.21955e-05\tvalid_1's rmse: 0.00372203\tvalid_1's l2: 1.38535e-05\n",
            "[133]\ttraining's rmse: 0.00349009\ttraining's l2: 1.21807e-05\tvalid_1's rmse: 0.00372148\tvalid_1's l2: 1.38494e-05\n",
            "[134]\ttraining's rmse: 0.00348823\ttraining's l2: 1.21677e-05\tvalid_1's rmse: 0.00372139\tvalid_1's l2: 1.38487e-05\n",
            "[135]\ttraining's rmse: 0.0034864\ttraining's l2: 1.2155e-05\tvalid_1's rmse: 0.0037213\tvalid_1's l2: 1.38481e-05\n",
            "[136]\ttraining's rmse: 0.00348426\ttraining's l2: 1.214e-05\tvalid_1's rmse: 0.00372144\tvalid_1's l2: 1.38491e-05\n",
            "[137]\ttraining's rmse: 0.0034822\ttraining's l2: 1.21257e-05\tvalid_1's rmse: 0.00372128\tvalid_1's l2: 1.38479e-05\n",
            "[138]\ttraining's rmse: 0.00348016\ttraining's l2: 1.21115e-05\tvalid_1's rmse: 0.00372089\tvalid_1's l2: 1.3845e-05\n",
            "[139]\ttraining's rmse: 0.00347819\ttraining's l2: 1.20978e-05\tvalid_1's rmse: 0.00372057\tvalid_1's l2: 1.38426e-05\n",
            "[140]\ttraining's rmse: 0.00347628\ttraining's l2: 1.20845e-05\tvalid_1's rmse: 0.00371986\tvalid_1's l2: 1.38374e-05\n",
            "[141]\ttraining's rmse: 0.00347425\ttraining's l2: 1.20704e-05\tvalid_1's rmse: 0.00372017\tvalid_1's l2: 1.38397e-05\n",
            "[142]\ttraining's rmse: 0.00347248\ttraining's l2: 1.20581e-05\tvalid_1's rmse: 0.00372056\tvalid_1's l2: 1.38426e-05\n",
            "[143]\ttraining's rmse: 0.00347049\ttraining's l2: 1.20443e-05\tvalid_1's rmse: 0.00372099\tvalid_1's l2: 1.38458e-05\n",
            "[144]\ttraining's rmse: 0.00346889\ttraining's l2: 1.20332e-05\tvalid_1's rmse: 0.00372078\tvalid_1's l2: 1.38442e-05\n",
            "[145]\ttraining's rmse: 0.00346691\ttraining's l2: 1.20195e-05\tvalid_1's rmse: 0.00372085\tvalid_1's l2: 1.38447e-05\n",
            "[146]\ttraining's rmse: 0.00346532\ttraining's l2: 1.20084e-05\tvalid_1's rmse: 0.00372048\tvalid_1's l2: 1.3842e-05\n",
            "[147]\ttraining's rmse: 0.00346365\ttraining's l2: 1.19969e-05\tvalid_1's rmse: 0.00372022\tvalid_1's l2: 1.38401e-05\n",
            "[148]\ttraining's rmse: 0.00346183\ttraining's l2: 1.19843e-05\tvalid_1's rmse: 0.00371985\tvalid_1's l2: 1.38373e-05\n",
            "[149]\ttraining's rmse: 0.00346033\ttraining's l2: 1.19739e-05\tvalid_1's rmse: 0.00371899\tvalid_1's l2: 1.38309e-05\n",
            "[150]\ttraining's rmse: 0.00345875\ttraining's l2: 1.1963e-05\tvalid_1's rmse: 0.00371976\tvalid_1's l2: 1.38366e-05\n",
            "[151]\ttraining's rmse: 0.00345688\ttraining's l2: 1.195e-05\tvalid_1's rmse: 0.00372012\tvalid_1's l2: 1.38393e-05\n",
            "[152]\ttraining's rmse: 0.0034553\ttraining's l2: 1.19391e-05\tvalid_1's rmse: 0.00371893\tvalid_1's l2: 1.38305e-05\n",
            "[153]\ttraining's rmse: 0.00345374\ttraining's l2: 1.19283e-05\tvalid_1's rmse: 0.00371856\tvalid_1's l2: 1.38277e-05\n",
            "[154]\ttraining's rmse: 0.0034521\ttraining's l2: 1.1917e-05\tvalid_1's rmse: 0.0037181\tvalid_1's l2: 1.38243e-05\n",
            "[155]\ttraining's rmse: 0.00345056\ttraining's l2: 1.19063e-05\tvalid_1's rmse: 0.00371849\tvalid_1's l2: 1.38272e-05\n",
            "[156]\ttraining's rmse: 0.00344914\ttraining's l2: 1.18966e-05\tvalid_1's rmse: 0.00371831\tvalid_1's l2: 1.38258e-05\n",
            "[157]\ttraining's rmse: 0.0034474\ttraining's l2: 1.18846e-05\tvalid_1's rmse: 0.0037183\tvalid_1's l2: 1.38258e-05\n",
            "[158]\ttraining's rmse: 0.00344572\ttraining's l2: 1.1873e-05\tvalid_1's rmse: 0.00371742\tvalid_1's l2: 1.38192e-05\n",
            "[159]\ttraining's rmse: 0.00344415\ttraining's l2: 1.18622e-05\tvalid_1's rmse: 0.00371699\tvalid_1's l2: 1.3816e-05\n",
            "[160]\ttraining's rmse: 0.00344229\ttraining's l2: 1.18494e-05\tvalid_1's rmse: 0.00371668\tvalid_1's l2: 1.38137e-05\n",
            "[161]\ttraining's rmse: 0.00344063\ttraining's l2: 1.18379e-05\tvalid_1's rmse: 0.00371737\tvalid_1's l2: 1.38188e-05\n",
            "[162]\ttraining's rmse: 0.00343909\ttraining's l2: 1.18273e-05\tvalid_1's rmse: 0.00371766\tvalid_1's l2: 1.3821e-05\n",
            "[163]\ttraining's rmse: 0.00343765\ttraining's l2: 1.18174e-05\tvalid_1's rmse: 0.00371724\tvalid_1's l2: 1.38179e-05\n",
            "[164]\ttraining's rmse: 0.00343605\ttraining's l2: 1.18064e-05\tvalid_1's rmse: 0.00371765\tvalid_1's l2: 1.38209e-05\n",
            "[165]\ttraining's rmse: 0.00343436\ttraining's l2: 1.17948e-05\tvalid_1's rmse: 0.00371808\tvalid_1's l2: 1.38241e-05\n",
            "[166]\ttraining's rmse: 0.00343287\ttraining's l2: 1.17846e-05\tvalid_1's rmse: 0.00371745\tvalid_1's l2: 1.38195e-05\n",
            "[167]\ttraining's rmse: 0.00343149\ttraining's l2: 1.17751e-05\tvalid_1's rmse: 0.00371705\tvalid_1's l2: 1.38165e-05\n",
            "[168]\ttraining's rmse: 0.00342994\ttraining's l2: 1.17645e-05\tvalid_1's rmse: 0.00371651\tvalid_1's l2: 1.38125e-05\n",
            "[169]\ttraining's rmse: 0.0034282\ttraining's l2: 1.17526e-05\tvalid_1's rmse: 0.00371683\tvalid_1's l2: 1.38148e-05\n",
            "[170]\ttraining's rmse: 0.00342685\ttraining's l2: 1.17433e-05\tvalid_1's rmse: 0.00371602\tvalid_1's l2: 1.38088e-05\n",
            "[171]\ttraining's rmse: 0.00342552\ttraining's l2: 1.17342e-05\tvalid_1's rmse: 0.0037159\tvalid_1's l2: 1.38079e-05\n",
            "[172]\ttraining's rmse: 0.00342412\ttraining's l2: 1.17246e-05\tvalid_1's rmse: 0.00371569\tvalid_1's l2: 1.38063e-05\n",
            "[173]\ttraining's rmse: 0.0034227\ttraining's l2: 1.17149e-05\tvalid_1's rmse: 0.00371641\tvalid_1's l2: 1.38117e-05\n",
            "[174]\ttraining's rmse: 0.00342133\ttraining's l2: 1.17055e-05\tvalid_1's rmse: 0.00371653\tvalid_1's l2: 1.38126e-05\n",
            "[175]\ttraining's rmse: 0.00341973\ttraining's l2: 1.16945e-05\tvalid_1's rmse: 0.003716\tvalid_1's l2: 1.38087e-05\n",
            "[176]\ttraining's rmse: 0.0034182\ttraining's l2: 1.16841e-05\tvalid_1's rmse: 0.00371656\tvalid_1's l2: 1.38128e-05\n",
            "[177]\ttraining's rmse: 0.00341675\ttraining's l2: 1.16742e-05\tvalid_1's rmse: 0.00371651\tvalid_1's l2: 1.38125e-05\n",
            "[178]\ttraining's rmse: 0.00341542\ttraining's l2: 1.16651e-05\tvalid_1's rmse: 0.00371552\tvalid_1's l2: 1.38051e-05\n",
            "[179]\ttraining's rmse: 0.00341415\ttraining's l2: 1.16564e-05\tvalid_1's rmse: 0.00371533\tvalid_1's l2: 1.38037e-05\n",
            "[180]\ttraining's rmse: 0.0034127\ttraining's l2: 1.16466e-05\tvalid_1's rmse: 0.00371585\tvalid_1's l2: 1.38076e-05\n",
            "[181]\ttraining's rmse: 0.00341148\ttraining's l2: 1.16382e-05\tvalid_1's rmse: 0.00371647\tvalid_1's l2: 1.38122e-05\n",
            "[182]\ttraining's rmse: 0.00341016\ttraining's l2: 1.16292e-05\tvalid_1's rmse: 0.00371565\tvalid_1's l2: 1.38061e-05\n",
            "[183]\ttraining's rmse: 0.00340883\ttraining's l2: 1.16201e-05\tvalid_1's rmse: 0.00371557\tvalid_1's l2: 1.38055e-05\n",
            "[184]\ttraining's rmse: 0.0034076\ttraining's l2: 1.16117e-05\tvalid_1's rmse: 0.00371481\tvalid_1's l2: 1.37998e-05\n",
            "[185]\ttraining's rmse: 0.00340622\ttraining's l2: 1.16023e-05\tvalid_1's rmse: 0.00371405\tvalid_1's l2: 1.37941e-05\n",
            "[186]\ttraining's rmse: 0.00340492\ttraining's l2: 1.15935e-05\tvalid_1's rmse: 0.00371465\tvalid_1's l2: 1.37986e-05\n",
            "[187]\ttraining's rmse: 0.00340347\ttraining's l2: 1.15836e-05\tvalid_1's rmse: 0.00371407\tvalid_1's l2: 1.37943e-05\n",
            "[188]\ttraining's rmse: 0.00340222\ttraining's l2: 1.15751e-05\tvalid_1's rmse: 0.00371445\tvalid_1's l2: 1.37971e-05\n",
            "[189]\ttraining's rmse: 0.00340097\ttraining's l2: 1.15666e-05\tvalid_1's rmse: 0.00371488\tvalid_1's l2: 1.38003e-05\n",
            "[190]\ttraining's rmse: 0.00339981\ttraining's l2: 1.15587e-05\tvalid_1's rmse: 0.00371396\tvalid_1's l2: 1.37935e-05\n",
            "[191]\ttraining's rmse: 0.00339868\ttraining's l2: 1.1551e-05\tvalid_1's rmse: 0.00371337\tvalid_1's l2: 1.37891e-05\n",
            "[192]\ttraining's rmse: 0.00339738\ttraining's l2: 1.15422e-05\tvalid_1's rmse: 0.00371294\tvalid_1's l2: 1.37859e-05\n",
            "[193]\ttraining's rmse: 0.00339617\ttraining's l2: 1.1534e-05\tvalid_1's rmse: 0.00371351\tvalid_1's l2: 1.37902e-05\n",
            "[194]\ttraining's rmse: 0.00339501\ttraining's l2: 1.15261e-05\tvalid_1's rmse: 0.00371274\tvalid_1's l2: 1.37845e-05\n",
            "[195]\ttraining's rmse: 0.00339406\ttraining's l2: 1.15196e-05\tvalid_1's rmse: 0.00371262\tvalid_1's l2: 1.37836e-05\n",
            "[196]\ttraining's rmse: 0.00339296\ttraining's l2: 1.15122e-05\tvalid_1's rmse: 0.00371205\tvalid_1's l2: 1.37793e-05\n",
            "[197]\ttraining's rmse: 0.00339171\ttraining's l2: 1.15037e-05\tvalid_1's rmse: 0.00371154\tvalid_1's l2: 1.37755e-05\n",
            "[198]\ttraining's rmse: 0.00339023\ttraining's l2: 1.14937e-05\tvalid_1's rmse: 0.00371221\tvalid_1's l2: 1.37805e-05\n",
            "[199]\ttraining's rmse: 0.00338898\ttraining's l2: 1.14852e-05\tvalid_1's rmse: 0.00371172\tvalid_1's l2: 1.37769e-05\n",
            "[200]\ttraining's rmse: 0.00338795\ttraining's l2: 1.14782e-05\tvalid_1's rmse: 0.0037112\tvalid_1's l2: 1.3773e-05\n",
            "Did not meet early stopping. Best iteration is:\n",
            "[200]\ttraining's rmse: 0.00338795\ttraining's l2: 1.14782e-05\tvalid_1's rmse: 0.0037112\tvalid_1's l2: 1.3773e-05\n",
            "CPU times: user 52.2 s, sys: 1.05 s, total: 53.3 s\n",
            "Wall time: 28.1 s\n"
          ],
          "name": "stdout"
        },
        {
          "output_type": "execute_result",
          "data": {
            "text/plain": [
              "LGBMRegressor(boosting_type='gbdt', class_weight=None, colsample_bytree=0.681,\n",
              "       importance_type='split', learning_rate=0.03, max_depth=-1,\n",
              "       min_child_samples=20, min_child_weight=100.0,\n",
              "       min_split_gain=1.153453257821093e-05, n_estimators=200, n_jobs=-1,\n",
              "       num_leaves=128, objective=None, random_state=None,\n",
              "       reg_alpha=0.0005683292391383383, reg_lambda=1.3896326196366016e-05,\n",
              "       silent=True, subsample=0.2217, subsample_for_bin=200000,\n",
              "       subsample_freq=0)"
            ]
          },
          "metadata": {
            "tags": []
          },
          "execution_count": 11
        }
      ]
    },
    {
      "metadata": {
        "id": "KR4TV1SLlRS-",
        "colab_type": "code",
        "colab": {
          "base_uri": "https://localhost:8080/",
          "height": 51
        },
        "outputId": "4ba3c4cd-7d6d-402a-b873-c8dfd23caab3"
      },
      "cell_type": "code",
      "source": [
        "%%time\n",
        "pickle.dump(model, open(filename, 'wb'))\n",
        "\n",
        "# files.download(filename) "
      ],
      "execution_count": 12,
      "outputs": [
        {
          "output_type": "stream",
          "text": [
            "CPU times: user 221 ms, sys: 3.01 ms, total: 224 ms\n",
            "Wall time: 605 ms\n"
          ],
          "name": "stdout"
        }
      ]
    },
    {
      "metadata": {
        "id": "ufrMRIH19c05",
        "colab_type": "code",
        "colab": {}
      },
      "cell_type": "code",
      "source": [
        ""
      ],
      "execution_count": 0,
      "outputs": []
    }
  ]
}