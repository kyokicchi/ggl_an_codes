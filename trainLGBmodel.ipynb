{
  "nbformat": 4,
  "nbformat_minor": 0,
  "metadata": {
    "colab": {
      "name": "trainLGBmodel.ipynb",
      "version": "0.3.2",
      "provenance": [],
      "collapsed_sections": [],
      "include_colab_link": true
    },
    "kernelspec": {
      "name": "python3",
      "display_name": "Python 3"
    },
    "accelerator": "GPU"
  },
  "cells": [
    {
      "cell_type": "markdown",
      "metadata": {
        "id": "view-in-github",
        "colab_type": "text"
      },
      "source": [
        "<a href=\"https://colab.research.google.com/github/kyokicchi/ggl_an_codes/blob/master/trainLGBmodel.ipynb\" target=\"_parent\"><img src=\"https://colab.research.google.com/assets/colab-badge.svg\" alt=\"Open In Colab\"/></a>"
      ]
    },
    {
      "metadata": {
        "id": "H8X_jxlYnrn3",
        "colab_type": "code",
        "colab": {
          "base_uri": "https://localhost:8080/",
          "height": 152
        },
        "outputId": "e10e4e43-1e64-4599-9d59-be823f8186bb"
      },
      "cell_type": "code",
      "source": [
        "!pip install lightgbm"
      ],
      "execution_count": 1,
      "outputs": [
        {
          "output_type": "stream",
          "text": [
            "Collecting lightgbm\n",
            "\u001b[?25l  Downloading https://files.pythonhosted.org/packages/78/7e/bc87e7951cfaa998cffaf39e6c721f5bd04efb2e139486206356edb289a5/lightgbm-2.2.1-py2.py3-none-manylinux1_x86_64.whl (1.1MB)\n",
            "\u001b[K    100% |████████████████████████████████| 1.1MB 8.7MB/s \n",
            "\u001b[?25hRequirement already satisfied: scikit-learn in /usr/local/lib/python3.6/dist-packages (from lightgbm) (0.19.2)\n",
            "Requirement already satisfied: numpy in /usr/local/lib/python3.6/dist-packages (from lightgbm) (1.14.6)\n",
            "Requirement already satisfied: scipy in /usr/local/lib/python3.6/dist-packages (from lightgbm) (0.19.1)\n",
            "Installing collected packages: lightgbm\n",
            "Successfully installed lightgbm-2.2.1\n"
          ],
          "name": "stdout"
        }
      ]
    },
    {
      "metadata": {
        "id": "7PrvKZYHs9n0",
        "colab_type": "code",
        "colab": {}
      },
      "cell_type": "code",
      "source": [
        "import lightgbm as lgb\n",
        "import numpy as np\n",
        "import pandas as pd\n",
        "from google.colab import drive\n",
        "from google.colab import files\n",
        "from sklearn.model_selection import train_test_split\n",
        "import pickle"
      ],
      "execution_count": 0,
      "outputs": []
    },
    {
      "metadata": {
        "id": "Uujx3hEhjfnX",
        "colab_type": "code",
        "colab": {
          "base_uri": "https://localhost:8080/",
          "height": 121
        },
        "outputId": "81290255-7f2d-45ae-97db-1a9231f82d86"
      },
      "cell_type": "code",
      "source": [
        "drive.mount('/content/gdrive')"
      ],
      "execution_count": 3,
      "outputs": [
        {
          "output_type": "stream",
          "text": [
            "Go to this URL in a browser: https://accounts.google.com/o/oauth2/auth?client_id=947318989803-6bn6qk8qdgf4n4g3pfee6491hc0brc4i.apps.googleusercontent.com&redirect_uri=urn%3Aietf%3Awg%3Aoauth%3A2.0%3Aoob&scope=email%20https%3A%2F%2Fwww.googleapis.com%2Fauth%2Fdocs.test%20https%3A%2F%2Fwww.googleapis.com%2Fauth%2Fdrive%20https%3A%2F%2Fwww.googleapis.com%2Fauth%2Fdrive.photos.readonly%20https%3A%2F%2Fwww.googleapis.com%2Fauth%2Fpeopleapi.readonly&response_type=code\n",
            "\n",
            "Enter your authorization code:\n",
            "··········\n",
            "Mounted at /content/gdrive\n"
          ],
          "name": "stdout"
        }
      ]
    },
    {
      "metadata": {
        "id": "LT06pjlMus4d",
        "colab_type": "code",
        "colab": {
          "base_uri": "https://localhost:8080/",
          "height": 51
        },
        "outputId": "ec965bef-90c8-4d3b-9e50-044c1002e689"
      },
      "cell_type": "code",
      "source": [
        "%cd ../content/gdrive/My Drive/projects/ggl_an/\n",
        "%ls"
      ],
      "execution_count": 4,
      "outputs": [
        {
          "output_type": "stream",
          "text": [
            "/content/gdrive/My Drive/projects/ggl_an\n",
            "user_train.csv\n"
          ],
          "name": "stdout"
        }
      ]
    },
    {
      "metadata": {
        "id": "8mAcQ8lo8Ixk",
        "colab_type": "code",
        "colab": {}
      },
      "cell_type": "code",
      "source": [
        "s_data = 'user_train.csv'\n",
        "filename = 'model_LGB.sav'\n",
        "s_col_tgt = 'transactionRevenue'\n",
        "l_col_drop = [s_col_tgt]"
      ],
      "execution_count": 0,
      "outputs": []
    },
    {
      "metadata": {
        "id": "dOrJ1yGmnbrk",
        "colab_type": "code",
        "colab": {
          "base_uri": "https://localhost:8080/",
          "height": 68
        },
        "outputId": "a17f0a42-450a-456e-94a8-d9ebbcbffb90"
      },
      "cell_type": "code",
      "source": [
        "%%time\n",
        "df_train = pd.read_csv(s_data, index_col = 0)"
      ],
      "execution_count": 6,
      "outputs": [
        {
          "output_type": "stream",
          "text": [
            "CPU times: user 1.83 s, sys: 313 ms, total: 2.14 s\n",
            "Wall time: 2.99 s\n"
          ],
          "name": "stdout"
        },
        {
          "output_type": "stream",
          "text": [
            "<string>:2: DtypeWarning: Columns (0) have mixed types. Specify dtype option on import or set low_memory=False.\n"
          ],
          "name": "stderr"
        }
      ]
    },
    {
      "metadata": {
        "id": "EtSbg4yv8Ch-",
        "colab_type": "code",
        "colab": {
          "base_uri": "https://localhost:8080/",
          "height": 51
        },
        "outputId": "976bf7df-072b-4121-8eb3-755345f98711"
      },
      "cell_type": "code",
      "source": [
        "%%time\n",
        "df_y = df_train[s_col_tgt]\n",
        "df_x = df_train.drop(l_col_drop, axis=1)"
      ],
      "execution_count": 7,
      "outputs": [
        {
          "output_type": "stream",
          "text": [
            "CPU times: user 25.3 ms, sys: 68.7 ms, total: 94.1 ms\n",
            "Wall time: 102 ms\n"
          ],
          "name": "stdout"
        }
      ]
    },
    {
      "metadata": {
        "id": "sYWeiNW0j9cr",
        "colab_type": "code",
        "colab": {
          "base_uri": "https://localhost:8080/",
          "height": 51
        },
        "outputId": "81496992-08be-4477-f9ac-87dde9f8e435"
      },
      "cell_type": "code",
      "source": [
        "%%time\n",
        "x_train, x_test, y_train, y_test = train_test_split(df_x, df_y)\n",
        "\n"
      ],
      "execution_count": 13,
      "outputs": [
        {
          "output_type": "stream",
          "text": [
            "CPU times: user 405 ms, sys: 987 µs, total: 406 ms\n",
            "Wall time: 408 ms\n"
          ],
          "name": "stdout"
        }
      ]
    },
    {
      "metadata": {
        "id": "TGrVT1Le4e7M",
        "colab_type": "code",
        "colab": {
          "base_uri": "https://localhost:8080/",
          "height": 51
        },
        "outputId": "c3e9e438-8bf6-4cc6-eac4-f10b1a02dc53"
      },
      "cell_type": "code",
      "source": [
        "%%time\n",
        "from sklearn.model_selection import GridSearchCV\n",
        "\n",
        "def applyGSCV(model, param, X, Y):\n",
        "    res = GridSearchCV(model, param, cv=3)\n",
        "    res.fit(X, Y)\n",
        "    return res\n",
        "\n",
        "\n",
        "model = lgb.LGBMRegressor()\n",
        "\n",
        "param = {\n",
        "    'learning_rate': [0.1,0.15],\n",
        "    'n_estimators': [200,500],\n",
        "    'num_leaves': [50,100],\n",
        "}\n",
        "  \n",
        "model_LGB = applyGSCV(model, param, x_train, y_train)\n",
        "\n"
      ],
      "execution_count": 14,
      "outputs": [
        {
          "output_type": "stream",
          "text": [
            "CPU times: user 19min 39s, sys: 7.2 s, total: 19min 46s\n",
            "Wall time: 10min 6s\n"
          ],
          "name": "stdout"
        }
      ]
    },
    {
      "metadata": {
        "id": "5LGbglpv5_80",
        "colab_type": "code",
        "colab": {
          "base_uri": "https://localhost:8080/",
          "height": 135
        },
        "outputId": "4cdb403b-7457-44ad-e1c4-b09ff759528a"
      },
      "cell_type": "code",
      "source": [
        "print(model_LGB.best_score_)\n",
        "print(model_LGB.best_estimator_)\n"
      ],
      "execution_count": 15,
      "outputs": [
        {
          "output_type": "stream",
          "text": [
            "0.3889117907976865\n",
            "LGBMRegressor(boosting_type='gbdt', class_weight=None, colsample_bytree=1.0,\n",
            "       importance_type='split', learning_rate=0.1, max_depth=-1,\n",
            "       min_child_samples=20, min_child_weight=0.001, min_split_gain=0.0,\n",
            "       n_estimators=200, n_jobs=-1, num_leaves=50, objective=None,\n",
            "       random_state=None, reg_alpha=0.0, reg_lambda=0.0, silent=True,\n",
            "       subsample=1.0, subsample_for_bin=200000, subsample_freq=0)\n"
          ],
          "name": "stdout"
        }
      ]
    },
    {
      "metadata": {
        "id": "ItMWaVwslMJi",
        "colab_type": "code",
        "colab": {
          "base_uri": "https://localhost:8080/",
          "height": 5923
        },
        "outputId": "b9544aba-96f9-4b89-dfbe-10d0b582243c"
      },
      "cell_type": "code",
      "source": [
        "%%time\n",
        "model = lgb.LGBMRegressor(boosting_type='gbdt', class_weight=None, colsample_bytree=1.0,\n",
        "       importance_type='split', learning_rate=0.1, max_depth=-1,\n",
        "       min_child_samples=20, min_child_weight=0.001, min_split_gain=0.0,\n",
        "       n_estimators=400, n_jobs=-1, num_leaves=50, objective=None,\n",
        "       random_state=None, reg_alpha=0.0, reg_lambda=0.0, silent=True,\n",
        "       subsample=1.0, subsample_for_bin=200000, subsample_freq=0)\n",
        "model.fit(x_train, \n",
        "          y_train,\n",
        "          eval_set=[(x_train, y_train),(x_test, y_test)],\n",
        "          eval_metric='rmse',\n",
        "          early_stopping_rounds = 300)"
      ],
      "execution_count": 17,
      "outputs": [
        {
          "output_type": "stream",
          "text": [
            "[1]\ttraining's rmse: 2.83232\ttraining's l2: 8.02202\tvalid_1's rmse: 2.60984\tvalid_1's l2: 6.81128\n",
            "Training until validation scores don't improve for 300 rounds.\n",
            "[2]\ttraining's rmse: 2.7301\ttraining's l2: 7.45346\tvalid_1's rmse: 2.52042\tvalid_1's l2: 6.35252\n",
            "[3]\ttraining's rmse: 2.64298\ttraining's l2: 6.98533\tvalid_1's rmse: 2.44489\tvalid_1's l2: 5.97748\n",
            "[4]\ttraining's rmse: 2.57228\ttraining's l2: 6.61664\tvalid_1's rmse: 2.38232\tvalid_1's l2: 5.67545\n",
            "[5]\ttraining's rmse: 2.51114\ttraining's l2: 6.3058\tvalid_1's rmse: 2.32704\tvalid_1's l2: 5.41509\n",
            "[6]\ttraining's rmse: 2.45638\ttraining's l2: 6.03379\tvalid_1's rmse: 2.27869\tvalid_1's l2: 5.19242\n",
            "[7]\ttraining's rmse: 2.40916\ttraining's l2: 5.80403\tvalid_1's rmse: 2.23959\tvalid_1's l2: 5.01577\n",
            "[8]\ttraining's rmse: 2.37198\ttraining's l2: 5.62627\tvalid_1's rmse: 2.20783\tvalid_1's l2: 4.87449\n",
            "[9]\ttraining's rmse: 2.33979\ttraining's l2: 5.47462\tvalid_1's rmse: 2.17909\tvalid_1's l2: 4.74845\n",
            "[10]\ttraining's rmse: 2.31098\ttraining's l2: 5.34063\tvalid_1's rmse: 2.15693\tvalid_1's l2: 4.65233\n",
            "[11]\ttraining's rmse: 2.28633\ttraining's l2: 5.2273\tvalid_1's rmse: 2.13869\tvalid_1's l2: 4.574\n",
            "[12]\ttraining's rmse: 2.26433\ttraining's l2: 5.12718\tvalid_1's rmse: 2.12252\tvalid_1's l2: 4.50509\n",
            "[13]\ttraining's rmse: 2.24468\ttraining's l2: 5.03861\tvalid_1's rmse: 2.11171\tvalid_1's l2: 4.4593\n",
            "[14]\ttraining's rmse: 2.22868\ttraining's l2: 4.967\tvalid_1's rmse: 2.09928\tvalid_1's l2: 4.40696\n",
            "[15]\ttraining's rmse: 2.21222\ttraining's l2: 4.89393\tvalid_1's rmse: 2.0896\tvalid_1's l2: 4.36641\n",
            "[16]\ttraining's rmse: 2.19922\ttraining's l2: 4.83659\tvalid_1's rmse: 2.07884\tvalid_1's l2: 4.32159\n",
            "[17]\ttraining's rmse: 2.1867\ttraining's l2: 4.78167\tvalid_1's rmse: 2.0721\tvalid_1's l2: 4.29361\n",
            "[18]\ttraining's rmse: 2.17479\ttraining's l2: 4.72972\tvalid_1's rmse: 2.06604\tvalid_1's l2: 4.26854\n",
            "[19]\ttraining's rmse: 2.16412\ttraining's l2: 4.68341\tvalid_1's rmse: 2.06104\tvalid_1's l2: 4.24788\n",
            "[20]\ttraining's rmse: 2.15598\ttraining's l2: 4.64824\tvalid_1's rmse: 2.05761\tvalid_1's l2: 4.23378\n",
            "[21]\ttraining's rmse: 2.14796\ttraining's l2: 4.61373\tvalid_1's rmse: 2.05257\tvalid_1's l2: 4.21306\n",
            "[22]\ttraining's rmse: 2.1406\ttraining's l2: 4.58217\tvalid_1's rmse: 2.04863\tvalid_1's l2: 4.19689\n",
            "[23]\ttraining's rmse: 2.13438\ttraining's l2: 4.55559\tvalid_1's rmse: 2.04427\tvalid_1's l2: 4.17904\n",
            "[24]\ttraining's rmse: 2.12815\ttraining's l2: 4.52904\tvalid_1's rmse: 2.04099\tvalid_1's l2: 4.16564\n",
            "[25]\ttraining's rmse: 2.11726\ttraining's l2: 4.48277\tvalid_1's rmse: 2.03835\tvalid_1's l2: 4.15487\n",
            "[26]\ttraining's rmse: 2.1119\ttraining's l2: 4.46012\tvalid_1's rmse: 2.03616\tvalid_1's l2: 4.14594\n",
            "[27]\ttraining's rmse: 2.10225\ttraining's l2: 4.41945\tvalid_1's rmse: 2.03473\tvalid_1's l2: 4.14014\n",
            "[28]\ttraining's rmse: 2.09359\ttraining's l2: 4.38314\tvalid_1's rmse: 2.03339\tvalid_1's l2: 4.13468\n",
            "[29]\ttraining's rmse: 2.08393\ttraining's l2: 4.34278\tvalid_1's rmse: 2.03133\tvalid_1's l2: 4.12632\n",
            "[30]\ttraining's rmse: 2.0759\ttraining's l2: 4.30937\tvalid_1's rmse: 2.02911\tvalid_1's l2: 4.1173\n",
            "[31]\ttraining's rmse: 2.06894\ttraining's l2: 4.28053\tvalid_1's rmse: 2.02756\tvalid_1's l2: 4.11099\n",
            "[32]\ttraining's rmse: 2.06343\ttraining's l2: 4.25776\tvalid_1's rmse: 2.02605\tvalid_1's l2: 4.10488\n",
            "[33]\ttraining's rmse: 2.05857\ttraining's l2: 4.23769\tvalid_1's rmse: 2.02617\tvalid_1's l2: 4.10537\n",
            "[34]\ttraining's rmse: 2.05525\ttraining's l2: 4.22404\tvalid_1's rmse: 2.02441\tvalid_1's l2: 4.09823\n",
            "[35]\ttraining's rmse: 2.05014\ttraining's l2: 4.20309\tvalid_1's rmse: 2.02634\tvalid_1's l2: 4.10604\n",
            "[36]\ttraining's rmse: 2.04677\ttraining's l2: 4.18928\tvalid_1's rmse: 2.02436\tvalid_1's l2: 4.09805\n",
            "[37]\ttraining's rmse: 2.04243\ttraining's l2: 4.17151\tvalid_1's rmse: 2.02583\tvalid_1's l2: 4.10397\n",
            "[38]\ttraining's rmse: 2.03828\ttraining's l2: 4.15459\tvalid_1's rmse: 2.02418\tvalid_1's l2: 4.09731\n",
            "[39]\ttraining's rmse: 2.03494\ttraining's l2: 4.14098\tvalid_1's rmse: 2.02437\tvalid_1's l2: 4.09807\n",
            "[40]\ttraining's rmse: 2.03201\ttraining's l2: 4.12906\tvalid_1's rmse: 2.02364\tvalid_1's l2: 4.09512\n",
            "[41]\ttraining's rmse: 2.02911\ttraining's l2: 4.11728\tvalid_1's rmse: 2.02277\tvalid_1's l2: 4.0916\n",
            "[42]\ttraining's rmse: 2.02601\ttraining's l2: 4.10472\tvalid_1's rmse: 2.02186\tvalid_1's l2: 4.08791\n",
            "[43]\ttraining's rmse: 2.02354\ttraining's l2: 4.09472\tvalid_1's rmse: 2.02164\tvalid_1's l2: 4.08704\n",
            "[44]\ttraining's rmse: 2.02035\ttraining's l2: 4.08182\tvalid_1's rmse: 2.02164\tvalid_1's l2: 4.08703\n",
            "[45]\ttraining's rmse: 2.01698\ttraining's l2: 4.0682\tvalid_1's rmse: 2.02236\tvalid_1's l2: 4.08994\n",
            "[46]\ttraining's rmse: 2.01457\ttraining's l2: 4.05849\tvalid_1's rmse: 2.02282\tvalid_1's l2: 4.09179\n",
            "[47]\ttraining's rmse: 2.01224\ttraining's l2: 4.0491\tvalid_1's rmse: 2.02285\tvalid_1's l2: 4.09192\n",
            "[48]\ttraining's rmse: 2.00962\ttraining's l2: 4.03859\tvalid_1's rmse: 2.02357\tvalid_1's l2: 4.09484\n",
            "[49]\ttraining's rmse: 2.00671\ttraining's l2: 4.02687\tvalid_1's rmse: 2.02315\tvalid_1's l2: 4.09313\n",
            "[50]\ttraining's rmse: 2.00444\ttraining's l2: 4.01779\tvalid_1's rmse: 2.02404\tvalid_1's l2: 4.09673\n",
            "[51]\ttraining's rmse: 2.00233\ttraining's l2: 4.00932\tvalid_1's rmse: 2.0237\tvalid_1's l2: 4.09537\n",
            "[52]\ttraining's rmse: 2.00005\ttraining's l2: 4.00018\tvalid_1's rmse: 2.02485\tvalid_1's l2: 4.10002\n",
            "[53]\ttraining's rmse: 1.99819\ttraining's l2: 3.99275\tvalid_1's rmse: 2.02447\tvalid_1's l2: 4.09846\n",
            "[54]\ttraining's rmse: 1.9964\ttraining's l2: 3.98562\tvalid_1's rmse: 2.02514\tvalid_1's l2: 4.1012\n",
            "[55]\ttraining's rmse: 1.99436\ttraining's l2: 3.97746\tvalid_1's rmse: 2.02583\tvalid_1's l2: 4.10399\n",
            "[56]\ttraining's rmse: 1.99237\ttraining's l2: 3.96955\tvalid_1's rmse: 2.02673\tvalid_1's l2: 4.10764\n",
            "[57]\ttraining's rmse: 1.99034\ttraining's l2: 3.96144\tvalid_1's rmse: 2.02704\tvalid_1's l2: 4.10889\n",
            "[58]\ttraining's rmse: 1.98762\ttraining's l2: 3.95065\tvalid_1's rmse: 2.0269\tvalid_1's l2: 4.1083\n",
            "[59]\ttraining's rmse: 1.98585\ttraining's l2: 3.94362\tvalid_1's rmse: 2.02729\tvalid_1's l2: 4.1099\n",
            "[60]\ttraining's rmse: 1.98405\ttraining's l2: 3.93644\tvalid_1's rmse: 2.02695\tvalid_1's l2: 4.10853\n",
            "[61]\ttraining's rmse: 1.9829\ttraining's l2: 3.9319\tvalid_1's rmse: 2.0279\tvalid_1's l2: 4.11238\n",
            "[62]\ttraining's rmse: 1.98182\ttraining's l2: 3.92763\tvalid_1's rmse: 2.02796\tvalid_1's l2: 4.11263\n",
            "[63]\ttraining's rmse: 1.9798\ttraining's l2: 3.91961\tvalid_1's rmse: 2.02846\tvalid_1's l2: 4.11463\n",
            "[64]\ttraining's rmse: 1.97773\ttraining's l2: 3.91141\tvalid_1's rmse: 2.02847\tvalid_1's l2: 4.11468\n",
            "[65]\ttraining's rmse: 1.97644\ttraining's l2: 3.90631\tvalid_1's rmse: 2.0289\tvalid_1's l2: 4.11645\n",
            "[66]\ttraining's rmse: 1.97433\ttraining's l2: 3.89798\tvalid_1's rmse: 2.02915\tvalid_1's l2: 4.11744\n",
            "[67]\ttraining's rmse: 1.97266\ttraining's l2: 3.89137\tvalid_1's rmse: 2.02884\tvalid_1's l2: 4.1162\n",
            "[68]\ttraining's rmse: 1.97084\ttraining's l2: 3.88419\tvalid_1's rmse: 2.02864\tvalid_1's l2: 4.11537\n",
            "[69]\ttraining's rmse: 1.96904\ttraining's l2: 3.87714\tvalid_1's rmse: 2.02881\tvalid_1's l2: 4.11607\n",
            "[70]\ttraining's rmse: 1.96745\ttraining's l2: 3.87088\tvalid_1's rmse: 2.02929\tvalid_1's l2: 4.11801\n",
            "[71]\ttraining's rmse: 1.96582\ttraining's l2: 3.86445\tvalid_1's rmse: 2.02921\tvalid_1's l2: 4.1177\n",
            "[72]\ttraining's rmse: 1.96434\ttraining's l2: 3.85862\tvalid_1's rmse: 2.02839\tvalid_1's l2: 4.11438\n",
            "[73]\ttraining's rmse: 1.96277\ttraining's l2: 3.85248\tvalid_1's rmse: 2.02828\tvalid_1's l2: 4.11392\n",
            "[74]\ttraining's rmse: 1.96125\ttraining's l2: 3.84651\tvalid_1's rmse: 2.02906\tvalid_1's l2: 4.11707\n",
            "[75]\ttraining's rmse: 1.95953\ttraining's l2: 3.83977\tvalid_1's rmse: 2.02918\tvalid_1's l2: 4.11757\n",
            "[76]\ttraining's rmse: 1.95795\ttraining's l2: 3.83359\tvalid_1's rmse: 2.0294\tvalid_1's l2: 4.11845\n",
            "[77]\ttraining's rmse: 1.95656\ttraining's l2: 3.82813\tvalid_1's rmse: 2.03029\tvalid_1's l2: 4.12208\n",
            "[78]\ttraining's rmse: 1.95526\ttraining's l2: 3.82305\tvalid_1's rmse: 2.02985\tvalid_1's l2: 4.12027\n",
            "[79]\ttraining's rmse: 1.95422\ttraining's l2: 3.81897\tvalid_1's rmse: 2.03035\tvalid_1's l2: 4.12232\n",
            "[80]\ttraining's rmse: 1.95245\ttraining's l2: 3.81207\tvalid_1's rmse: 2.03027\tvalid_1's l2: 4.12199\n",
            "[81]\ttraining's rmse: 1.95101\ttraining's l2: 3.80643\tvalid_1's rmse: 2.03089\tvalid_1's l2: 4.12451\n",
            "[82]\ttraining's rmse: 1.94965\ttraining's l2: 3.80112\tvalid_1's rmse: 2.03073\tvalid_1's l2: 4.12385\n",
            "[83]\ttraining's rmse: 1.94813\ttraining's l2: 3.7952\tvalid_1's rmse: 2.03042\tvalid_1's l2: 4.12261\n",
            "[84]\ttraining's rmse: 1.94678\ttraining's l2: 3.78997\tvalid_1's rmse: 2.02993\tvalid_1's l2: 4.12063\n",
            "[85]\ttraining's rmse: 1.94536\ttraining's l2: 3.78444\tvalid_1's rmse: 2.031\tvalid_1's l2: 4.12495\n",
            "[86]\ttraining's rmse: 1.94377\ttraining's l2: 3.77824\tvalid_1's rmse: 2.03071\tvalid_1's l2: 4.12377\n",
            "[87]\ttraining's rmse: 1.94264\ttraining's l2: 3.77385\tvalid_1's rmse: 2.03116\tvalid_1's l2: 4.1256\n",
            "[88]\ttraining's rmse: 1.9412\ttraining's l2: 3.76824\tvalid_1's rmse: 2.03155\tvalid_1's l2: 4.12719\n",
            "[89]\ttraining's rmse: 1.93973\ttraining's l2: 3.76256\tvalid_1's rmse: 2.03104\tvalid_1's l2: 4.12511\n",
            "[90]\ttraining's rmse: 1.93831\ttraining's l2: 3.75705\tvalid_1's rmse: 2.03141\tvalid_1's l2: 4.12661\n",
            "[91]\ttraining's rmse: 1.93721\ttraining's l2: 3.75278\tvalid_1's rmse: 2.0319\tvalid_1's l2: 4.12863\n",
            "[92]\ttraining's rmse: 1.93628\ttraining's l2: 3.74917\tvalid_1's rmse: 2.03189\tvalid_1's l2: 4.12858\n",
            "[93]\ttraining's rmse: 1.93508\ttraining's l2: 3.74452\tvalid_1's rmse: 2.0321\tvalid_1's l2: 4.12943\n",
            "[94]\ttraining's rmse: 1.93429\ttraining's l2: 3.74146\tvalid_1's rmse: 2.03272\tvalid_1's l2: 4.13197\n",
            "[95]\ttraining's rmse: 1.93253\ttraining's l2: 3.73466\tvalid_1's rmse: 2.03314\tvalid_1's l2: 4.13365\n",
            "[96]\ttraining's rmse: 1.93109\ttraining's l2: 3.72912\tvalid_1's rmse: 2.03316\tvalid_1's l2: 4.13373\n",
            "[97]\ttraining's rmse: 1.92979\ttraining's l2: 3.72408\tvalid_1's rmse: 2.03392\tvalid_1's l2: 4.13682\n",
            "[98]\ttraining's rmse: 1.92873\ttraining's l2: 3.72001\tvalid_1's rmse: 2.03403\tvalid_1's l2: 4.13726\n",
            "[99]\ttraining's rmse: 1.92705\ttraining's l2: 3.71351\tvalid_1's rmse: 2.03432\tvalid_1's l2: 4.13848\n",
            "[100]\ttraining's rmse: 1.92585\ttraining's l2: 3.70891\tvalid_1's rmse: 2.03446\tvalid_1's l2: 4.13901\n",
            "[101]\ttraining's rmse: 1.92452\ttraining's l2: 3.70377\tvalid_1's rmse: 2.03433\tvalid_1's l2: 4.13849\n",
            "[102]\ttraining's rmse: 1.92348\ttraining's l2: 3.69979\tvalid_1's rmse: 2.03412\tvalid_1's l2: 4.13765\n",
            "[103]\ttraining's rmse: 1.92222\ttraining's l2: 3.69492\tvalid_1's rmse: 2.03482\tvalid_1's l2: 4.14048\n",
            "[104]\ttraining's rmse: 1.92127\ttraining's l2: 3.6913\tvalid_1's rmse: 2.03514\tvalid_1's l2: 4.14181\n",
            "[105]\ttraining's rmse: 1.92051\ttraining's l2: 3.68835\tvalid_1's rmse: 2.03581\tvalid_1's l2: 4.14453\n",
            "[106]\ttraining's rmse: 1.91946\ttraining's l2: 3.68432\tvalid_1's rmse: 2.03588\tvalid_1's l2: 4.14481\n",
            "[107]\ttraining's rmse: 1.91822\ttraining's l2: 3.67957\tvalid_1's rmse: 2.03591\tvalid_1's l2: 4.14491\n",
            "[108]\ttraining's rmse: 1.91657\ttraining's l2: 3.67324\tvalid_1's rmse: 2.03586\tvalid_1's l2: 4.14472\n",
            "[109]\ttraining's rmse: 1.9153\ttraining's l2: 3.66836\tvalid_1's rmse: 2.036\tvalid_1's l2: 4.1453\n",
            "[110]\ttraining's rmse: 1.91428\ttraining's l2: 3.66447\tvalid_1's rmse: 2.03642\tvalid_1's l2: 4.14699\n",
            "[111]\ttraining's rmse: 1.9134\ttraining's l2: 3.66109\tvalid_1's rmse: 2.03698\tvalid_1's l2: 4.14928\n",
            "[112]\ttraining's rmse: 1.91198\ttraining's l2: 3.65567\tvalid_1's rmse: 2.03648\tvalid_1's l2: 4.14724\n",
            "[113]\ttraining's rmse: 1.91015\ttraining's l2: 3.64868\tvalid_1's rmse: 2.03648\tvalid_1's l2: 4.14724\n",
            "[114]\ttraining's rmse: 1.90872\ttraining's l2: 3.64322\tvalid_1's rmse: 2.03744\tvalid_1's l2: 4.15117\n",
            "[115]\ttraining's rmse: 1.90799\ttraining's l2: 3.64044\tvalid_1's rmse: 2.03751\tvalid_1's l2: 4.15146\n",
            "[116]\ttraining's rmse: 1.90716\ttraining's l2: 3.63726\tvalid_1's rmse: 2.03763\tvalid_1's l2: 4.15195\n",
            "[117]\ttraining's rmse: 1.90598\ttraining's l2: 3.63277\tvalid_1's rmse: 2.03809\tvalid_1's l2: 4.15382\n",
            "[118]\ttraining's rmse: 1.90459\ttraining's l2: 3.62746\tvalid_1's rmse: 2.03848\tvalid_1's l2: 4.1554\n",
            "[119]\ttraining's rmse: 1.90369\ttraining's l2: 3.62404\tvalid_1's rmse: 2.03832\tvalid_1's l2: 4.15474\n",
            "[120]\ttraining's rmse: 1.90243\ttraining's l2: 3.61923\tvalid_1's rmse: 2.0386\tvalid_1's l2: 4.15589\n",
            "[121]\ttraining's rmse: 1.90156\ttraining's l2: 3.61593\tvalid_1's rmse: 2.03902\tvalid_1's l2: 4.1576\n",
            "[122]\ttraining's rmse: 1.8999\ttraining's l2: 3.60961\tvalid_1's rmse: 2.03909\tvalid_1's l2: 4.15789\n",
            "[123]\ttraining's rmse: 1.89856\ttraining's l2: 3.60453\tvalid_1's rmse: 2.0395\tvalid_1's l2: 4.15958\n",
            "[124]\ttraining's rmse: 1.89796\ttraining's l2: 3.60227\tvalid_1's rmse: 2.03947\tvalid_1's l2: 4.15944\n",
            "[125]\ttraining's rmse: 1.89672\ttraining's l2: 3.59754\tvalid_1's rmse: 2.03931\tvalid_1's l2: 4.15879\n",
            "[126]\ttraining's rmse: 1.89526\ttraining's l2: 3.59202\tvalid_1's rmse: 2.0394\tvalid_1's l2: 4.15915\n",
            "[127]\ttraining's rmse: 1.89406\ttraining's l2: 3.58746\tvalid_1's rmse: 2.03962\tvalid_1's l2: 4.16005\n",
            "[128]\ttraining's rmse: 1.89308\ttraining's l2: 3.58374\tvalid_1's rmse: 2.03916\tvalid_1's l2: 4.15817\n",
            "[129]\ttraining's rmse: 1.8924\ttraining's l2: 3.58118\tvalid_1's rmse: 2.03999\tvalid_1's l2: 4.16155\n",
            "[130]\ttraining's rmse: 1.89134\ttraining's l2: 3.57715\tvalid_1's rmse: 2.04021\tvalid_1's l2: 4.16244\n",
            "[131]\ttraining's rmse: 1.89034\ttraining's l2: 3.57338\tvalid_1's rmse: 2.04057\tvalid_1's l2: 4.16392\n",
            "[132]\ttraining's rmse: 1.8895\ttraining's l2: 3.57023\tvalid_1's rmse: 2.04044\tvalid_1's l2: 4.16338\n",
            "[133]\ttraining's rmse: 1.8888\ttraining's l2: 3.56758\tvalid_1's rmse: 2.04054\tvalid_1's l2: 4.16379\n",
            "[134]\ttraining's rmse: 1.88818\ttraining's l2: 3.56521\tvalid_1's rmse: 2.04105\tvalid_1's l2: 4.16588\n",
            "[135]\ttraining's rmse: 1.88736\ttraining's l2: 3.56215\tvalid_1's rmse: 2.04111\tvalid_1's l2: 4.16615\n",
            "[136]\ttraining's rmse: 1.88622\ttraining's l2: 3.55783\tvalid_1's rmse: 2.04161\tvalid_1's l2: 4.16819\n",
            "[137]\ttraining's rmse: 1.88552\ttraining's l2: 3.55519\tvalid_1's rmse: 2.04249\tvalid_1's l2: 4.17178\n",
            "[138]\ttraining's rmse: 1.88421\ttraining's l2: 3.55024\tvalid_1's rmse: 2.04226\tvalid_1's l2: 4.17084\n",
            "[139]\ttraining's rmse: 1.88354\ttraining's l2: 3.54771\tvalid_1's rmse: 2.04259\tvalid_1's l2: 4.17216\n",
            "[140]\ttraining's rmse: 1.88225\ttraining's l2: 3.54288\tvalid_1's rmse: 2.04253\tvalid_1's l2: 4.17195\n",
            "[141]\ttraining's rmse: 1.88147\ttraining's l2: 3.53993\tvalid_1's rmse: 2.04266\tvalid_1's l2: 4.17245\n",
            "[142]\ttraining's rmse: 1.8807\ttraining's l2: 3.53703\tvalid_1's rmse: 2.04296\tvalid_1's l2: 4.17369\n",
            "[143]\ttraining's rmse: 1.8802\ttraining's l2: 3.53515\tvalid_1's rmse: 2.04287\tvalid_1's l2: 4.17333\n",
            "[144]\ttraining's rmse: 1.87958\ttraining's l2: 3.53283\tvalid_1's rmse: 2.04302\tvalid_1's l2: 4.17392\n",
            "[145]\ttraining's rmse: 1.87903\ttraining's l2: 3.53077\tvalid_1's rmse: 2.04268\tvalid_1's l2: 4.17255\n",
            "[146]\ttraining's rmse: 1.87786\ttraining's l2: 3.52636\tvalid_1's rmse: 2.04278\tvalid_1's l2: 4.17295\n",
            "[147]\ttraining's rmse: 1.87714\ttraining's l2: 3.52365\tvalid_1's rmse: 2.04281\tvalid_1's l2: 4.17308\n",
            "[148]\ttraining's rmse: 1.87572\ttraining's l2: 3.51832\tvalid_1's rmse: 2.04305\tvalid_1's l2: 4.17405\n",
            "[149]\ttraining's rmse: 1.87501\ttraining's l2: 3.51565\tvalid_1's rmse: 2.0432\tvalid_1's l2: 4.17468\n",
            "[150]\ttraining's rmse: 1.87442\ttraining's l2: 3.51343\tvalid_1's rmse: 2.04314\tvalid_1's l2: 4.17442\n",
            "[151]\ttraining's rmse: 1.87382\ttraining's l2: 3.51119\tvalid_1's rmse: 2.0431\tvalid_1's l2: 4.17425\n",
            "[152]\ttraining's rmse: 1.87257\ttraining's l2: 3.50652\tvalid_1's rmse: 2.04344\tvalid_1's l2: 4.17567\n",
            "[153]\ttraining's rmse: 1.87175\ttraining's l2: 3.50344\tvalid_1's rmse: 2.04416\tvalid_1's l2: 4.17861\n",
            "[154]\ttraining's rmse: 1.8705\ttraining's l2: 3.49878\tvalid_1's rmse: 2.04482\tvalid_1's l2: 4.18128\n",
            "[155]\ttraining's rmse: 1.86968\ttraining's l2: 3.49572\tvalid_1's rmse: 2.0448\tvalid_1's l2: 4.18122\n",
            "[156]\ttraining's rmse: 1.86864\ttraining's l2: 3.49183\tvalid_1's rmse: 2.04514\tvalid_1's l2: 4.18261\n",
            "[157]\ttraining's rmse: 1.86806\ttraining's l2: 3.48965\tvalid_1's rmse: 2.04511\tvalid_1's l2: 4.18249\n",
            "[158]\ttraining's rmse: 1.86742\ttraining's l2: 3.48727\tvalid_1's rmse: 2.04559\tvalid_1's l2: 4.18444\n",
            "[159]\ttraining's rmse: 1.86695\ttraining's l2: 3.48549\tvalid_1's rmse: 2.04564\tvalid_1's l2: 4.18465\n",
            "[160]\ttraining's rmse: 1.86622\ttraining's l2: 3.48278\tvalid_1's rmse: 2.0464\tvalid_1's l2: 4.18775\n",
            "[161]\ttraining's rmse: 1.86552\ttraining's l2: 3.48015\tvalid_1's rmse: 2.04686\tvalid_1's l2: 4.18965\n",
            "[162]\ttraining's rmse: 1.86477\ttraining's l2: 3.47736\tvalid_1's rmse: 2.04713\tvalid_1's l2: 4.19076\n",
            "[163]\ttraining's rmse: 1.8638\ttraining's l2: 3.47376\tvalid_1's rmse: 2.04736\tvalid_1's l2: 4.19168\n",
            "[164]\ttraining's rmse: 1.86335\ttraining's l2: 3.47206\tvalid_1's rmse: 2.04725\tvalid_1's l2: 4.19121\n",
            "[165]\ttraining's rmse: 1.86303\ttraining's l2: 3.4709\tvalid_1's rmse: 2.04762\tvalid_1's l2: 4.19274\n",
            "[166]\ttraining's rmse: 1.86221\ttraining's l2: 3.46782\tvalid_1's rmse: 2.04738\tvalid_1's l2: 4.19178\n",
            "[167]\ttraining's rmse: 1.86093\ttraining's l2: 3.46306\tvalid_1's rmse: 2.04783\tvalid_1's l2: 4.19362\n",
            "[168]\ttraining's rmse: 1.86037\ttraining's l2: 3.46099\tvalid_1's rmse: 2.04845\tvalid_1's l2: 4.19615\n",
            "[169]\ttraining's rmse: 1.85968\ttraining's l2: 3.45839\tvalid_1's rmse: 2.04865\tvalid_1's l2: 4.19696\n",
            "[170]\ttraining's rmse: 1.85895\ttraining's l2: 3.45571\tvalid_1's rmse: 2.04845\tvalid_1's l2: 4.19615\n",
            "[171]\ttraining's rmse: 1.85802\ttraining's l2: 3.45224\tvalid_1's rmse: 2.04804\tvalid_1's l2: 4.19447\n",
            "[172]\ttraining's rmse: 1.85699\ttraining's l2: 3.44842\tvalid_1's rmse: 2.0483\tvalid_1's l2: 4.19551\n",
            "[173]\ttraining's rmse: 1.85654\ttraining's l2: 3.44672\tvalid_1's rmse: 2.04855\tvalid_1's l2: 4.19656\n",
            "[174]\ttraining's rmse: 1.8559\ttraining's l2: 3.44437\tvalid_1's rmse: 2.04841\tvalid_1's l2: 4.196\n",
            "[175]\ttraining's rmse: 1.85535\ttraining's l2: 3.44233\tvalid_1's rmse: 2.04929\tvalid_1's l2: 4.19961\n",
            "[176]\ttraining's rmse: 1.85447\ttraining's l2: 3.43904\tvalid_1's rmse: 2.04971\tvalid_1's l2: 4.20132\n",
            "[177]\ttraining's rmse: 1.85405\ttraining's l2: 3.43751\tvalid_1's rmse: 2.05003\tvalid_1's l2: 4.20264\n",
            "[178]\ttraining's rmse: 1.8535\ttraining's l2: 3.43545\tvalid_1's rmse: 2.05009\tvalid_1's l2: 4.20289\n",
            "[179]\ttraining's rmse: 1.85282\ttraining's l2: 3.43295\tvalid_1's rmse: 2.05031\tvalid_1's l2: 4.20376\n",
            "[180]\ttraining's rmse: 1.85167\ttraining's l2: 3.42866\tvalid_1's rmse: 2.05062\tvalid_1's l2: 4.20506\n",
            "[181]\ttraining's rmse: 1.85041\ttraining's l2: 3.42402\tvalid_1's rmse: 2.05083\tvalid_1's l2: 4.20592\n",
            "[182]\ttraining's rmse: 1.84983\ttraining's l2: 3.42186\tvalid_1's rmse: 2.05079\tvalid_1's l2: 4.20574\n",
            "[183]\ttraining's rmse: 1.84921\ttraining's l2: 3.41959\tvalid_1's rmse: 2.05096\tvalid_1's l2: 4.20644\n",
            "[184]\ttraining's rmse: 1.84883\ttraining's l2: 3.41816\tvalid_1's rmse: 2.05166\tvalid_1's l2: 4.2093\n",
            "[185]\ttraining's rmse: 1.848\ttraining's l2: 3.41511\tvalid_1's rmse: 2.05178\tvalid_1's l2: 4.2098\n",
            "[186]\ttraining's rmse: 1.84682\ttraining's l2: 3.41076\tvalid_1's rmse: 2.05166\tvalid_1's l2: 4.20931\n",
            "[187]\ttraining's rmse: 1.84637\ttraining's l2: 3.40907\tvalid_1's rmse: 2.05174\tvalid_1's l2: 4.20966\n",
            "[188]\ttraining's rmse: 1.84535\ttraining's l2: 3.40532\tvalid_1's rmse: 2.05185\tvalid_1's l2: 4.21008\n",
            "[189]\ttraining's rmse: 1.84451\ttraining's l2: 3.40221\tvalid_1's rmse: 2.05165\tvalid_1's l2: 4.20927\n",
            "[190]\ttraining's rmse: 1.84371\ttraining's l2: 3.39925\tvalid_1's rmse: 2.05181\tvalid_1's l2: 4.2099\n",
            "[191]\ttraining's rmse: 1.84249\ttraining's l2: 3.39479\tvalid_1's rmse: 2.05239\tvalid_1's l2: 4.21231\n",
            "[192]\ttraining's rmse: 1.84159\ttraining's l2: 3.39144\tvalid_1's rmse: 2.05296\tvalid_1's l2: 4.21463\n",
            "[193]\ttraining's rmse: 1.841\ttraining's l2: 3.38929\tvalid_1's rmse: 2.05305\tvalid_1's l2: 4.21502\n",
            "[194]\ttraining's rmse: 1.84044\ttraining's l2: 3.38723\tvalid_1's rmse: 2.05342\tvalid_1's l2: 4.21653\n",
            "[195]\ttraining's rmse: 1.83947\ttraining's l2: 3.38363\tvalid_1's rmse: 2.05327\tvalid_1's l2: 4.21594\n",
            "[196]\ttraining's rmse: 1.83848\ttraining's l2: 3.38\tvalid_1's rmse: 2.05321\tvalid_1's l2: 4.21565\n",
            "[197]\ttraining's rmse: 1.83777\ttraining's l2: 3.3774\tvalid_1's rmse: 2.05331\tvalid_1's l2: 4.21606\n",
            "[198]\ttraining's rmse: 1.83715\ttraining's l2: 3.37512\tvalid_1's rmse: 2.05339\tvalid_1's l2: 4.2164\n",
            "[199]\ttraining's rmse: 1.83614\ttraining's l2: 3.3714\tvalid_1's rmse: 2.05347\tvalid_1's l2: 4.21675\n",
            "[200]\ttraining's rmse: 1.83577\ttraining's l2: 3.37007\tvalid_1's rmse: 2.05351\tvalid_1's l2: 4.2169\n",
            "[201]\ttraining's rmse: 1.83489\ttraining's l2: 3.36681\tvalid_1's rmse: 2.05351\tvalid_1's l2: 4.21692\n",
            "[202]\ttraining's rmse: 1.83397\ttraining's l2: 3.36346\tvalid_1's rmse: 2.05349\tvalid_1's l2: 4.21681\n",
            "[203]\ttraining's rmse: 1.83371\ttraining's l2: 3.36248\tvalid_1's rmse: 2.05419\tvalid_1's l2: 4.2197\n",
            "[204]\ttraining's rmse: 1.83295\ttraining's l2: 3.35972\tvalid_1's rmse: 2.05433\tvalid_1's l2: 4.22029\n",
            "[205]\ttraining's rmse: 1.8319\ttraining's l2: 3.35587\tvalid_1's rmse: 2.05445\tvalid_1's l2: 4.22078\n",
            "[206]\ttraining's rmse: 1.8314\ttraining's l2: 3.35401\tvalid_1's rmse: 2.05434\tvalid_1's l2: 4.2203\n",
            "[207]\ttraining's rmse: 1.83027\ttraining's l2: 3.3499\tvalid_1's rmse: 2.05422\tvalid_1's l2: 4.21981\n",
            "[208]\ttraining's rmse: 1.82953\ttraining's l2: 3.34717\tvalid_1's rmse: 2.05438\tvalid_1's l2: 4.22049\n",
            "[209]\ttraining's rmse: 1.82897\ttraining's l2: 3.34512\tvalid_1's rmse: 2.05446\tvalid_1's l2: 4.22081\n",
            "[210]\ttraining's rmse: 1.82851\ttraining's l2: 3.34346\tvalid_1's rmse: 2.0547\tvalid_1's l2: 4.22178\n",
            "[211]\ttraining's rmse: 1.82763\ttraining's l2: 3.34021\tvalid_1's rmse: 2.05466\tvalid_1's l2: 4.22164\n",
            "[212]\ttraining's rmse: 1.82715\ttraining's l2: 3.33847\tvalid_1's rmse: 2.05484\tvalid_1's l2: 4.22235\n",
            "[213]\ttraining's rmse: 1.82654\ttraining's l2: 3.33625\tvalid_1's rmse: 2.05462\tvalid_1's l2: 4.22148\n",
            "[214]\ttraining's rmse: 1.82598\ttraining's l2: 3.33422\tvalid_1's rmse: 2.05517\tvalid_1's l2: 4.22373\n",
            "[215]\ttraining's rmse: 1.82557\ttraining's l2: 3.33269\tvalid_1's rmse: 2.05492\tvalid_1's l2: 4.22268\n",
            "[216]\ttraining's rmse: 1.82517\ttraining's l2: 3.33125\tvalid_1's rmse: 2.05506\tvalid_1's l2: 4.22327\n",
            "[217]\ttraining's rmse: 1.82446\ttraining's l2: 3.32866\tvalid_1's rmse: 2.0549\tvalid_1's l2: 4.22262\n",
            "[218]\ttraining's rmse: 1.82405\ttraining's l2: 3.32716\tvalid_1's rmse: 2.05564\tvalid_1's l2: 4.22565\n",
            "[219]\ttraining's rmse: 1.82378\ttraining's l2: 3.32619\tvalid_1's rmse: 2.05588\tvalid_1's l2: 4.22666\n",
            "[220]\ttraining's rmse: 1.82261\ttraining's l2: 3.32191\tvalid_1's rmse: 2.05667\tvalid_1's l2: 4.22988\n",
            "[221]\ttraining's rmse: 1.82181\ttraining's l2: 3.319\tvalid_1's rmse: 2.0571\tvalid_1's l2: 4.23167\n",
            "[222]\ttraining's rmse: 1.82092\ttraining's l2: 3.31576\tvalid_1's rmse: 2.05733\tvalid_1's l2: 4.23259\n",
            "[223]\ttraining's rmse: 1.82038\ttraining's l2: 3.31377\tvalid_1's rmse: 2.057\tvalid_1's l2: 4.23123\n",
            "[224]\ttraining's rmse: 1.81975\ttraining's l2: 3.31148\tvalid_1's rmse: 2.05716\tvalid_1's l2: 4.23189\n",
            "[225]\ttraining's rmse: 1.81929\ttraining's l2: 3.30983\tvalid_1's rmse: 2.0575\tvalid_1's l2: 4.2333\n",
            "[226]\ttraining's rmse: 1.81652\ttraining's l2: 3.29973\tvalid_1's rmse: 2.05896\tvalid_1's l2: 4.23933\n",
            "[227]\ttraining's rmse: 1.81582\ttraining's l2: 3.2972\tvalid_1's rmse: 2.05923\tvalid_1's l2: 4.24043\n",
            "[228]\ttraining's rmse: 1.81522\ttraining's l2: 3.29503\tvalid_1's rmse: 2.0596\tvalid_1's l2: 4.24196\n",
            "[229]\ttraining's rmse: 1.81464\ttraining's l2: 3.2929\tvalid_1's rmse: 2.05984\tvalid_1's l2: 4.24295\n",
            "[230]\ttraining's rmse: 1.81326\ttraining's l2: 3.28791\tvalid_1's rmse: 2.06004\tvalid_1's l2: 4.24377\n",
            "[231]\ttraining's rmse: 1.81264\ttraining's l2: 3.28567\tvalid_1's rmse: 2.06003\tvalid_1's l2: 4.24372\n",
            "[232]\ttraining's rmse: 1.81169\ttraining's l2: 3.28221\tvalid_1's rmse: 2.05926\tvalid_1's l2: 4.24055\n",
            "[233]\ttraining's rmse: 1.81119\ttraining's l2: 3.28041\tvalid_1's rmse: 2.05946\tvalid_1's l2: 4.24139\n",
            "[234]\ttraining's rmse: 1.81074\ttraining's l2: 3.27879\tvalid_1's rmse: 2.05975\tvalid_1's l2: 4.24256\n",
            "[235]\ttraining's rmse: 1.81039\ttraining's l2: 3.2775\tvalid_1's rmse: 2.06001\tvalid_1's l2: 4.24366\n",
            "[236]\ttraining's rmse: 1.80966\ttraining's l2: 3.27486\tvalid_1's rmse: 2.06013\tvalid_1's l2: 4.24415\n",
            "[237]\ttraining's rmse: 1.80938\ttraining's l2: 3.27384\tvalid_1's rmse: 2.06028\tvalid_1's l2: 4.24476\n",
            "[238]\ttraining's rmse: 1.80852\ttraining's l2: 3.27075\tvalid_1's rmse: 2.06033\tvalid_1's l2: 4.24495\n",
            "[239]\ttraining's rmse: 1.80739\ttraining's l2: 3.26664\tvalid_1's rmse: 2.06026\tvalid_1's l2: 4.24467\n",
            "[240]\ttraining's rmse: 1.80711\ttraining's l2: 3.26564\tvalid_1's rmse: 2.0605\tvalid_1's l2: 4.24567\n",
            "[241]\ttraining's rmse: 1.80657\ttraining's l2: 3.26368\tvalid_1's rmse: 2.06038\tvalid_1's l2: 4.24517\n",
            "[242]\ttraining's rmse: 1.8061\ttraining's l2: 3.262\tvalid_1's rmse: 2.06047\tvalid_1's l2: 4.24555\n",
            "[243]\ttraining's rmse: 1.80575\ttraining's l2: 3.26074\tvalid_1's rmse: 2.06058\tvalid_1's l2: 4.24598\n",
            "[244]\ttraining's rmse: 1.80513\ttraining's l2: 3.25851\tvalid_1's rmse: 2.06071\tvalid_1's l2: 4.24653\n",
            "[245]\ttraining's rmse: 1.80482\ttraining's l2: 3.25736\tvalid_1's rmse: 2.06077\tvalid_1's l2: 4.24677\n",
            "[246]\ttraining's rmse: 1.80414\ttraining's l2: 3.2549\tvalid_1's rmse: 2.06066\tvalid_1's l2: 4.24633\n",
            "[247]\ttraining's rmse: 1.80339\ttraining's l2: 3.25222\tvalid_1's rmse: 2.06077\tvalid_1's l2: 4.24679\n",
            "[248]\ttraining's rmse: 1.80291\ttraining's l2: 3.2505\tvalid_1's rmse: 2.06061\tvalid_1's l2: 4.2461\n",
            "[249]\ttraining's rmse: 1.802\ttraining's l2: 3.2472\tvalid_1's rmse: 2.06049\tvalid_1's l2: 4.2456\n",
            "[250]\ttraining's rmse: 1.80167\ttraining's l2: 3.246\tvalid_1's rmse: 2.06083\tvalid_1's l2: 4.24702\n",
            "[251]\ttraining's rmse: 1.80079\ttraining's l2: 3.24285\tvalid_1's rmse: 2.06135\tvalid_1's l2: 4.24915\n",
            "[252]\ttraining's rmse: 1.80023\ttraining's l2: 3.24083\tvalid_1's rmse: 2.06115\tvalid_1's l2: 4.24833\n",
            "[253]\ttraining's rmse: 1.80002\ttraining's l2: 3.24009\tvalid_1's rmse: 2.06114\tvalid_1's l2: 4.24828\n",
            "[254]\ttraining's rmse: 1.79897\ttraining's l2: 3.23631\tvalid_1's rmse: 2.06088\tvalid_1's l2: 4.24721\n",
            "[255]\ttraining's rmse: 1.79844\ttraining's l2: 3.2344\tvalid_1's rmse: 2.06145\tvalid_1's l2: 4.24956\n",
            "[256]\ttraining's rmse: 1.79819\ttraining's l2: 3.2335\tvalid_1's rmse: 2.06183\tvalid_1's l2: 4.25116\n",
            "[257]\ttraining's rmse: 1.79739\ttraining's l2: 3.2306\tvalid_1's rmse: 2.06157\tvalid_1's l2: 4.25005\n",
            "[258]\ttraining's rmse: 1.79666\ttraining's l2: 3.22798\tvalid_1's rmse: 2.06177\tvalid_1's l2: 4.25088\n",
            "[259]\ttraining's rmse: 1.7942\ttraining's l2: 3.21917\tvalid_1's rmse: 2.06286\tvalid_1's l2: 4.25538\n",
            "[260]\ttraining's rmse: 1.79308\ttraining's l2: 3.21514\tvalid_1's rmse: 2.06321\tvalid_1's l2: 4.25684\n",
            "[261]\ttraining's rmse: 1.79241\ttraining's l2: 3.21273\tvalid_1's rmse: 2.06349\tvalid_1's l2: 4.25798\n",
            "[262]\ttraining's rmse: 1.79155\ttraining's l2: 3.20966\tvalid_1's rmse: 2.06345\tvalid_1's l2: 4.25782\n",
            "[263]\ttraining's rmse: 1.7909\ttraining's l2: 3.20731\tvalid_1's rmse: 2.06361\tvalid_1's l2: 4.25847\n",
            "[264]\ttraining's rmse: 1.79022\ttraining's l2: 3.20488\tvalid_1's rmse: 2.06414\tvalid_1's l2: 4.26066\n",
            "[265]\ttraining's rmse: 1.78987\ttraining's l2: 3.20364\tvalid_1's rmse: 2.06427\tvalid_1's l2: 4.26121\n",
            "[266]\ttraining's rmse: 1.78964\ttraining's l2: 3.20283\tvalid_1's rmse: 2.06422\tvalid_1's l2: 4.26102\n",
            "[267]\ttraining's rmse: 1.78873\ttraining's l2: 3.19954\tvalid_1's rmse: 2.06422\tvalid_1's l2: 4.26101\n",
            "[268]\ttraining's rmse: 1.78811\ttraining's l2: 3.19733\tvalid_1's rmse: 2.06451\tvalid_1's l2: 4.2622\n",
            "[269]\ttraining's rmse: 1.78788\ttraining's l2: 3.1965\tvalid_1's rmse: 2.06445\tvalid_1's l2: 4.26197\n",
            "[270]\ttraining's rmse: 1.78709\ttraining's l2: 3.19368\tvalid_1's rmse: 2.06444\tvalid_1's l2: 4.26192\n",
            "[271]\ttraining's rmse: 1.78621\ttraining's l2: 3.19055\tvalid_1's rmse: 2.06405\tvalid_1's l2: 4.26029\n",
            "[272]\ttraining's rmse: 1.78531\ttraining's l2: 3.18734\tvalid_1's rmse: 2.06437\tvalid_1's l2: 4.26164\n",
            "[273]\ttraining's rmse: 1.78474\ttraining's l2: 3.18529\tvalid_1's rmse: 2.06445\tvalid_1's l2: 4.26197\n",
            "[274]\ttraining's rmse: 1.78442\ttraining's l2: 3.18417\tvalid_1's rmse: 2.06474\tvalid_1's l2: 4.26317\n",
            "[275]\ttraining's rmse: 1.78425\ttraining's l2: 3.18354\tvalid_1's rmse: 2.06495\tvalid_1's l2: 4.26401\n",
            "[276]\ttraining's rmse: 1.78405\ttraining's l2: 3.18284\tvalid_1's rmse: 2.06512\tvalid_1's l2: 4.26474\n",
            "[277]\ttraining's rmse: 1.78385\ttraining's l2: 3.18213\tvalid_1's rmse: 2.06521\tvalid_1's l2: 4.2651\n",
            "[278]\ttraining's rmse: 1.78336\ttraining's l2: 3.18037\tvalid_1's rmse: 2.0657\tvalid_1's l2: 4.26711\n",
            "[279]\ttraining's rmse: 1.78261\ttraining's l2: 3.17771\tvalid_1's rmse: 2.06597\tvalid_1's l2: 4.26825\n",
            "[280]\ttraining's rmse: 1.78239\ttraining's l2: 3.17692\tvalid_1's rmse: 2.06646\tvalid_1's l2: 4.27026\n",
            "[281]\ttraining's rmse: 1.78175\ttraining's l2: 3.17462\tvalid_1's rmse: 2.06663\tvalid_1's l2: 4.27096\n",
            "[282]\ttraining's rmse: 1.78093\ttraining's l2: 3.17172\tvalid_1's rmse: 2.06591\tvalid_1's l2: 4.26798\n",
            "[283]\ttraining's rmse: 1.78007\ttraining's l2: 3.16864\tvalid_1's rmse: 2.06615\tvalid_1's l2: 4.26897\n",
            "[284]\ttraining's rmse: 1.77913\ttraining's l2: 3.16529\tvalid_1's rmse: 2.06645\tvalid_1's l2: 4.27023\n",
            "[285]\ttraining's rmse: 1.77692\ttraining's l2: 3.15745\tvalid_1's rmse: 2.06743\tvalid_1's l2: 4.27426\n",
            "[286]\ttraining's rmse: 1.77674\ttraining's l2: 3.1568\tvalid_1's rmse: 2.06758\tvalid_1's l2: 4.27489\n",
            "[287]\ttraining's rmse: 1.77623\ttraining's l2: 3.155\tvalid_1's rmse: 2.06753\tvalid_1's l2: 4.27467\n",
            "[288]\ttraining's rmse: 1.77553\ttraining's l2: 3.15252\tvalid_1's rmse: 2.06753\tvalid_1's l2: 4.27468\n",
            "[289]\ttraining's rmse: 1.77517\ttraining's l2: 3.15122\tvalid_1's rmse: 2.06775\tvalid_1's l2: 4.27559\n",
            "[290]\ttraining's rmse: 1.7746\ttraining's l2: 3.1492\tvalid_1's rmse: 2.06777\tvalid_1's l2: 4.27569\n",
            "[291]\ttraining's rmse: 1.77388\ttraining's l2: 3.14665\tvalid_1's rmse: 2.06754\tvalid_1's l2: 4.27472\n",
            "[292]\ttraining's rmse: 1.77313\ttraining's l2: 3.14399\tvalid_1's rmse: 2.06772\tvalid_1's l2: 4.27547\n",
            "[293]\ttraining's rmse: 1.77239\ttraining's l2: 3.14137\tvalid_1's rmse: 2.06806\tvalid_1's l2: 4.27687\n",
            "[294]\ttraining's rmse: 1.77149\ttraining's l2: 3.13818\tvalid_1's rmse: 2.06794\tvalid_1's l2: 4.27636\n",
            "[295]\ttraining's rmse: 1.77042\ttraining's l2: 3.1344\tvalid_1's rmse: 2.06811\tvalid_1's l2: 4.27709\n",
            "[296]\ttraining's rmse: 1.76978\ttraining's l2: 3.13214\tvalid_1's rmse: 2.06827\tvalid_1's l2: 4.27775\n",
            "[297]\ttraining's rmse: 1.7694\ttraining's l2: 3.13078\tvalid_1's rmse: 2.06841\tvalid_1's l2: 4.27831\n",
            "[298]\ttraining's rmse: 1.76884\ttraining's l2: 3.12879\tvalid_1's rmse: 2.0685\tvalid_1's l2: 4.27869\n",
            "[299]\ttraining's rmse: 1.76842\ttraining's l2: 3.1273\tvalid_1's rmse: 2.06858\tvalid_1's l2: 4.27903\n",
            "[300]\ttraining's rmse: 1.76823\ttraining's l2: 3.12665\tvalid_1's rmse: 2.06885\tvalid_1's l2: 4.28014\n",
            "[301]\ttraining's rmse: 1.76803\ttraining's l2: 3.12593\tvalid_1's rmse: 2.06908\tvalid_1's l2: 4.28108\n",
            "[302]\ttraining's rmse: 1.76715\ttraining's l2: 3.12281\tvalid_1's rmse: 2.06928\tvalid_1's l2: 4.28191\n",
            "[303]\ttraining's rmse: 1.76638\ttraining's l2: 3.12008\tvalid_1's rmse: 2.06922\tvalid_1's l2: 4.28169\n",
            "[304]\ttraining's rmse: 1.76614\ttraining's l2: 3.11927\tvalid_1's rmse: 2.06972\tvalid_1's l2: 4.28372\n",
            "[305]\ttraining's rmse: 1.76564\ttraining's l2: 3.11748\tvalid_1's rmse: 2.07001\tvalid_1's l2: 4.28495\n",
            "[306]\ttraining's rmse: 1.7648\ttraining's l2: 3.11453\tvalid_1's rmse: 2.0703\tvalid_1's l2: 4.28616\n",
            "[307]\ttraining's rmse: 1.76396\ttraining's l2: 3.11155\tvalid_1's rmse: 2.07081\tvalid_1's l2: 4.28827\n",
            "[308]\ttraining's rmse: 1.76364\ttraining's l2: 3.11043\tvalid_1's rmse: 2.07076\tvalid_1's l2: 4.28805\n",
            "[309]\ttraining's rmse: 1.76347\ttraining's l2: 3.10984\tvalid_1's rmse: 2.07082\tvalid_1's l2: 4.2883\n",
            "[310]\ttraining's rmse: 1.7631\ttraining's l2: 3.10851\tvalid_1's rmse: 2.07053\tvalid_1's l2: 4.28708\n",
            "[311]\ttraining's rmse: 1.76088\ttraining's l2: 3.10069\tvalid_1's rmse: 2.07132\tvalid_1's l2: 4.29036\n",
            "[312]\ttraining's rmse: 1.76019\ttraining's l2: 3.09827\tvalid_1's rmse: 2.07184\tvalid_1's l2: 4.29252\n",
            "[313]\ttraining's rmse: 1.75942\ttraining's l2: 3.09556\tvalid_1's rmse: 2.07179\tvalid_1's l2: 4.2923\n",
            "[314]\ttraining's rmse: 1.75912\ttraining's l2: 3.0945\tvalid_1's rmse: 2.07224\tvalid_1's l2: 4.29416\n",
            "[315]\ttraining's rmse: 1.75833\ttraining's l2: 3.09171\tvalid_1's rmse: 2.07257\tvalid_1's l2: 4.29553\n",
            "[316]\ttraining's rmse: 1.75774\ttraining's l2: 3.08966\tvalid_1's rmse: 2.07256\tvalid_1's l2: 4.29551\n",
            "[317]\ttraining's rmse: 1.75673\ttraining's l2: 3.08611\tvalid_1's rmse: 2.07257\tvalid_1's l2: 4.29555\n",
            "[318]\ttraining's rmse: 1.75578\ttraining's l2: 3.08275\tvalid_1's rmse: 2.07225\tvalid_1's l2: 4.29423\n",
            "[319]\ttraining's rmse: 1.75539\ttraining's l2: 3.0814\tvalid_1's rmse: 2.07282\tvalid_1's l2: 4.2966\n",
            "[320]\ttraining's rmse: 1.75493\ttraining's l2: 3.07979\tvalid_1's rmse: 2.07321\tvalid_1's l2: 4.2982\n",
            "[321]\ttraining's rmse: 1.75428\ttraining's l2: 3.07751\tvalid_1's rmse: 2.07336\tvalid_1's l2: 4.2988\n",
            "[322]\ttraining's rmse: 1.75411\ttraining's l2: 3.07689\tvalid_1's rmse: 2.07356\tvalid_1's l2: 4.29964\n",
            "[323]\ttraining's rmse: 1.75378\ttraining's l2: 3.07574\tvalid_1's rmse: 2.0739\tvalid_1's l2: 4.30106\n",
            "[324]\ttraining's rmse: 1.75328\ttraining's l2: 3.07399\tvalid_1's rmse: 2.07355\tvalid_1's l2: 4.29962\n",
            "[325]\ttraining's rmse: 1.7529\ttraining's l2: 3.07267\tvalid_1's rmse: 2.07376\tvalid_1's l2: 4.30047\n",
            "[326]\ttraining's rmse: 1.75196\ttraining's l2: 3.06935\tvalid_1's rmse: 2.07388\tvalid_1's l2: 4.30099\n",
            "[327]\ttraining's rmse: 1.75163\ttraining's l2: 3.06819\tvalid_1's rmse: 2.07421\tvalid_1's l2: 4.30236\n",
            "[328]\ttraining's rmse: 1.75085\ttraining's l2: 3.06546\tvalid_1's rmse: 2.07454\tvalid_1's l2: 4.30372\n",
            "[329]\ttraining's rmse: 1.75045\ttraining's l2: 3.06408\tvalid_1's rmse: 2.0746\tvalid_1's l2: 4.30397\n",
            "[330]\ttraining's rmse: 1.74971\ttraining's l2: 3.06148\tvalid_1's rmse: 2.07511\tvalid_1's l2: 4.30609\n",
            "[331]\ttraining's rmse: 1.74887\ttraining's l2: 3.05853\tvalid_1's rmse: 2.07502\tvalid_1's l2: 4.3057\n",
            "[332]\ttraining's rmse: 1.74823\ttraining's l2: 3.05631\tvalid_1's rmse: 2.07511\tvalid_1's l2: 4.30607\n",
            "[333]\ttraining's rmse: 1.7479\ttraining's l2: 3.05516\tvalid_1's rmse: 2.07503\tvalid_1's l2: 4.30573\n",
            "[334]\ttraining's rmse: 1.74729\ttraining's l2: 3.05304\tvalid_1's rmse: 2.07493\tvalid_1's l2: 4.30534\n",
            "[335]\ttraining's rmse: 1.74706\ttraining's l2: 3.05223\tvalid_1's rmse: 2.07487\tvalid_1's l2: 4.30509\n",
            "[336]\ttraining's rmse: 1.74644\ttraining's l2: 3.05004\tvalid_1's rmse: 2.07468\tvalid_1's l2: 4.30428\n",
            "[337]\ttraining's rmse: 1.7461\ttraining's l2: 3.04887\tvalid_1's rmse: 2.07465\tvalid_1's l2: 4.30417\n",
            "[338]\ttraining's rmse: 1.7443\ttraining's l2: 3.04258\tvalid_1's rmse: 2.07558\tvalid_1's l2: 4.30802\n",
            "[339]\ttraining's rmse: 1.74361\ttraining's l2: 3.04019\tvalid_1's rmse: 2.07539\tvalid_1's l2: 4.30726\n",
            "[340]\ttraining's rmse: 1.74281\ttraining's l2: 3.03739\tvalid_1's rmse: 2.07575\tvalid_1's l2: 4.30874\n",
            "[341]\ttraining's rmse: 1.74184\ttraining's l2: 3.03401\tvalid_1's rmse: 2.07579\tvalid_1's l2: 4.3089\n",
            "[342]\ttraining's rmse: 1.74112\ttraining's l2: 3.0315\tvalid_1's rmse: 2.07601\tvalid_1's l2: 4.30983\n",
            "[343]\ttraining's rmse: 1.74055\ttraining's l2: 3.0295\tvalid_1's rmse: 2.076\tvalid_1's l2: 4.30978\n",
            "[344]\ttraining's rmse: 1.73982\ttraining's l2: 3.02697\tvalid_1's rmse: 2.07615\tvalid_1's l2: 4.3104\n",
            "Early stopping, best iteration is:\n",
            "[44]\ttraining's rmse: 2.02035\ttraining's l2: 4.08182\tvalid_1's rmse: 2.02164\tvalid_1's l2: 4.08703\n",
            "CPU times: user 44.4 s, sys: 327 ms, total: 44.7 s\n",
            "Wall time: 23.2 s\n"
          ],
          "name": "stdout"
        }
      ]
    },
    {
      "metadata": {
        "id": "KR4TV1SLlRS-",
        "colab_type": "code",
        "colab": {
          "base_uri": "https://localhost:8080/",
          "height": 51
        },
        "outputId": "68301c5d-db07-4c3d-a3bb-0c77bdf2acf4"
      },
      "cell_type": "code",
      "source": [
        "%%time\n",
        "pickle.dump(model_LGB, open(filename, 'wb'))\n",
        "\n",
        "# files.download(filename) "
      ],
      "execution_count": 18,
      "outputs": [
        {
          "output_type": "stream",
          "text": [
            "CPU times: user 54.5 ms, sys: 1.96 ms, total: 56.4 ms\n",
            "Wall time: 44.5 ms\n"
          ],
          "name": "stdout"
        }
      ]
    },
    {
      "metadata": {
        "id": "ufrMRIH19c05",
        "colab_type": "code",
        "colab": {}
      },
      "cell_type": "code",
      "source": [
        ""
      ],
      "execution_count": 0,
      "outputs": []
    }
  ]
}