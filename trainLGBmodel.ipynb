{
  "nbformat": 4,
  "nbformat_minor": 0,
  "metadata": {
    "colab": {
      "name": "trainLGBmodel.ipynb",
      "version": "0.3.2",
      "provenance": [],
      "collapsed_sections": [],
      "include_colab_link": true
    },
    "kernelspec": {
      "name": "python3",
      "display_name": "Python 3"
    },
    "accelerator": "GPU"
  },
  "cells": [
    {
      "cell_type": "markdown",
      "metadata": {
        "id": "view-in-github",
        "colab_type": "text"
      },
      "source": [
        "[View in Colaboratory](https://colab.research.google.com/github/kyokicchi/kaggle_codes/blob/master/trainLGBmodel.ipynb)"
      ]
    },
    {
      "metadata": {
        "id": "H8X_jxlYnrn3",
        "colab_type": "code",
        "colab": {
          "base_uri": "https://localhost:8080/",
          "height": 152
        },
        "outputId": "9989ba43-7e95-4284-925a-46adfb758b58"
      },
      "cell_type": "code",
      "source": [
        "!pip install lightgbm"
      ],
      "execution_count": 1,
      "outputs": [
        {
          "output_type": "stream",
          "text": [
            "Collecting lightgbm\n",
            "\u001b[?25l  Downloading https://files.pythonhosted.org/packages/78/7e/bc87e7951cfaa998cffaf39e6c721f5bd04efb2e139486206356edb289a5/lightgbm-2.2.1-py2.py3-none-manylinux1_x86_64.whl (1.1MB)\n",
            "\u001b[K    100% |████████████████████████████████| 1.1MB 16.1MB/s \n",
            "\u001b[?25hRequirement already satisfied: scikit-learn in /usr/local/lib/python3.6/dist-packages (from lightgbm) (0.19.2)\n",
            "Requirement already satisfied: numpy in /usr/local/lib/python3.6/dist-packages (from lightgbm) (1.14.6)\n",
            "Requirement already satisfied: scipy in /usr/local/lib/python3.6/dist-packages (from lightgbm) (0.19.1)\n",
            "Installing collected packages: lightgbm\n",
            "Successfully installed lightgbm-2.2.1\n"
          ],
          "name": "stdout"
        }
      ]
    },
    {
      "metadata": {
        "id": "7PrvKZYHs9n0",
        "colab_type": "code",
        "colab": {}
      },
      "cell_type": "code",
      "source": [
        "import lightgbm as lgb\n",
        "import numpy as np\n",
        "import pandas as pd\n",
        "from google.colab import drive\n",
        "from google.colab import files\n",
        "from sklearn.model_selection import train_test_split\n",
        "import pickle"
      ],
      "execution_count": 0,
      "outputs": []
    },
    {
      "metadata": {
        "id": "Uujx3hEhjfnX",
        "colab_type": "code",
        "colab": {
          "base_uri": "https://localhost:8080/",
          "height": 121
        },
        "outputId": "9df3238c-d443-4947-ade2-84d406a3f6e8"
      },
      "cell_type": "code",
      "source": [
        "drive.mount('/content/gdrive')"
      ],
      "execution_count": 3,
      "outputs": [
        {
          "output_type": "stream",
          "text": [
            "Go to this URL in a browser: https://accounts.google.com/o/oauth2/auth?client_id=947318989803-6bn6qk8qdgf4n4g3pfee6491hc0brc4i.apps.googleusercontent.com&redirect_uri=urn%3Aietf%3Awg%3Aoauth%3A2.0%3Aoob&scope=email%20https%3A%2F%2Fwww.googleapis.com%2Fauth%2Fdocs.test%20https%3A%2F%2Fwww.googleapis.com%2Fauth%2Fdrive%20https%3A%2F%2Fwww.googleapis.com%2Fauth%2Fdrive.photos.readonly%20https%3A%2F%2Fwww.googleapis.com%2Fauth%2Fpeopleapi.readonly&response_type=code\n",
            "\n",
            "Enter your authorization code:\n",
            "··········\n",
            "Mounted at /content/gdrive\n"
          ],
          "name": "stdout"
        }
      ]
    },
    {
      "metadata": {
        "id": "LT06pjlMus4d",
        "colab_type": "code",
        "colab": {
          "base_uri": "https://localhost:8080/",
          "height": 68
        },
        "outputId": "7799c065-1044-4b97-d236-d5c3f5304269"
      },
      "cell_type": "code",
      "source": [
        "%cd ../content/gdrive/My Drive/projects/\n",
        "%ls"
      ],
      "execution_count": 7,
      "outputs": [
        {
          "output_type": "stream",
          "text": [
            "[Errno 2] No such file or directory: '../content/gdrive/My Drive/projects/'\n",
            "/content/gdrive/My Drive/projects\n",
            "model_LGB.sav  model_NN.h5  model_XGB.sav  user_train_n.csv\n"
          ],
          "name": "stdout"
        }
      ]
    },
    {
      "metadata": {
        "id": "8mAcQ8lo8Ixk",
        "colab_type": "code",
        "colab": {}
      },
      "cell_type": "code",
      "source": [
        "s_data = 'user_train_n.csv'\n",
        "filename = 'model_LGB.sav'\n",
        "s_col_tgt = 'transactionRevenue_sum'\n",
        "l_col_drop = [s_col_tgt]"
      ],
      "execution_count": 0,
      "outputs": []
    },
    {
      "metadata": {
        "id": "dOrJ1yGmnbrk",
        "colab_type": "code",
        "colab": {
          "base_uri": "https://localhost:8080/",
          "height": 51
        },
        "outputId": "bfddc9ed-4263-46b4-a3ef-c9b91f7ab998"
      },
      "cell_type": "code",
      "source": [
        "%%time\n",
        "df_train = pd.read_csv(s_data, index_col = 0)"
      ],
      "execution_count": 9,
      "outputs": [
        {
          "output_type": "stream",
          "text": [
            "CPU times: user 4.65 s, sys: 471 ms, total: 5.12 s\n",
            "Wall time: 5.36 s\n"
          ],
          "name": "stdout"
        }
      ]
    },
    {
      "metadata": {
        "id": "ny30265j8VEf",
        "colab_type": "code",
        "colab": {
          "base_uri": "https://localhost:8080/",
          "height": 203
        },
        "outputId": "2a2cba50-4414-427e-a2b1-ccc61d015f38"
      },
      "cell_type": "code",
      "source": [
        "df_train.columns"
      ],
      "execution_count": 10,
      "outputs": [
        {
          "output_type": "execute_result",
          "data": {
            "text/plain": [
              "Index(['transactionRevenue_sum', 'transactionRevenue_size', 'hits_sum',\n",
              "       'hits_min', 'hits_max', 'hits_mean', 'hits_median', 'visitNumber_sum',\n",
              "       'visitNumber_min', 'visitNumber_max', 'visitNumber_mean',\n",
              "       'visitNumber_median', 'pageviews_sum', 'pageviews_min', 'pageviews_max',\n",
              "       'pageviews_mean', 'pageviews_median', 'weekend_mean', 'year_mean',\n",
              "       'isMobile_mean', 'day_min', 'day_max', 'day_mean', 'day_median',\n",
              "       'day_var', 'day_std', 'month_min', 'month_max', 'month_mean',\n",
              "       'month_median', 'month_var', 'month_std', 'weekofyear_min',\n",
              "       'weekofyear_max', 'weekofyear_mean', 'weekofyear_median',\n",
              "       'weekofyear_var', 'weekofyear_std'],\n",
              "      dtype='object')"
            ]
          },
          "metadata": {
            "tags": []
          },
          "execution_count": 10
        }
      ]
    },
    {
      "metadata": {
        "id": "EtSbg4yv8Ch-",
        "colab_type": "code",
        "colab": {
          "base_uri": "https://localhost:8080/",
          "height": 51
        },
        "outputId": "c8403007-bf4b-45a4-a4bf-c506b0dfb90a"
      },
      "cell_type": "code",
      "source": [
        "%%time\n",
        "df_y = df_train[s_col_tgt]\n",
        "df_x = df_train.drop(l_col_drop, axis=1)"
      ],
      "execution_count": 12,
      "outputs": [
        {
          "output_type": "stream",
          "text": [
            "CPU times: user 50.9 ms, sys: 114 ms, total: 165 ms\n",
            "Wall time: 164 ms\n"
          ],
          "name": "stdout"
        }
      ]
    },
    {
      "metadata": {
        "id": "sYWeiNW0j9cr",
        "colab_type": "code",
        "colab": {
          "base_uri": "https://localhost:8080/",
          "height": 51
        },
        "outputId": "9726917a-cf0a-48bb-fd27-49db2852803d"
      },
      "cell_type": "code",
      "source": [
        "%%time\n",
        "x_train, x_test, y_train, y_test = train_test_split(df_x, df_y)\n",
        "x_eval, x_valid, y_eval, y_valid = train_test_split(x_test, y_test)\n",
        "\n"
      ],
      "execution_count": 13,
      "outputs": [
        {
          "output_type": "stream",
          "text": [
            "CPU times: user 653 ms, sys: 36.9 ms, total: 690 ms\n",
            "Wall time: 695 ms\n"
          ],
          "name": "stdout"
        }
      ]
    },
    {
      "metadata": {
        "id": "A9vk5vnLlGFL",
        "colab_type": "code",
        "colab": {}
      },
      "cell_type": "code",
      "source": [
        "\n",
        "params = {\n",
        "    'learning_rate': 0.03,\n",
        "    'n_estimators': 200,\n",
        "    'num_leaves': 128,\n",
        "    'subsample': 0.2217,\n",
        "    'colsample_bytree': 0.6810,\n",
        "    'min_split_gain': np.power(10.0, -4.9380),\n",
        "    'reg_alpha': np.power(10.0, -3.2454),\n",
        "    'reg_lambda': np.power(10.0, -4.8571),\n",
        "    'min_child_weight': np.power(10.0, 2),\n",
        "    'silent': True\n",
        "}\n",
        "\n",
        "model = lgb.LGBMRegressor(**params)\n",
        "\n"
      ],
      "execution_count": 0,
      "outputs": []
    },
    {
      "metadata": {
        "id": "ItMWaVwslMJi",
        "colab_type": "code",
        "colab": {
          "base_uri": "https://localhost:8080/",
          "height": 2995
        },
        "outputId": "989ebea8-efb1-40f1-eb50-4c2f03664e3e"
      },
      "cell_type": "code",
      "source": [
        "%%time\n",
        "model.fit(x_train, \n",
        "          y_train,\n",
        "          eval_set=[(x_train, y_train),(x_eval, y_eval)],\n",
        "          eval_metric='rmse',\n",
        "          early_stopping_rounds=100)"
      ],
      "execution_count": 17,
      "outputs": [
        {
          "output_type": "stream",
          "text": [
            "[1]\ttraining's l2: 1.4418e+16\ttraining's rmse: 1.20075e+08\tvalid_1's l2: 3.88585e+15\tvalid_1's rmse: 6.23366e+07\n",
            "Training until validation scores don't improve for 100 rounds.\n",
            "[2]\ttraining's l2: 1.43695e+16\ttraining's rmse: 1.19873e+08\tvalid_1's l2: 3.84733e+15\tvalid_1's rmse: 6.20269e+07\n",
            "[3]\ttraining's l2: 1.43271e+16\ttraining's rmse: 1.19696e+08\tvalid_1's l2: 3.82717e+15\tvalid_1's rmse: 6.18642e+07\n",
            "[4]\ttraining's l2: 1.42943e+16\ttraining's rmse: 1.19559e+08\tvalid_1's l2: 3.80659e+15\tvalid_1's rmse: 6.16975e+07\n",
            "[5]\ttraining's l2: 1.42484e+16\ttraining's rmse: 1.19367e+08\tvalid_1's l2: 3.77258e+15\tvalid_1's rmse: 6.14213e+07\n",
            "[6]\ttraining's l2: 1.42095e+16\ttraining's rmse: 1.19204e+08\tvalid_1's l2: 3.75768e+15\tvalid_1's rmse: 6.12999e+07\n",
            "[7]\ttraining's l2: 1.41825e+16\ttraining's rmse: 1.1909e+08\tvalid_1's l2: 3.74215e+15\tvalid_1's rmse: 6.11731e+07\n",
            "[8]\ttraining's l2: 1.41448e+16\ttraining's rmse: 1.18932e+08\tvalid_1's l2: 3.71301e+15\tvalid_1's rmse: 6.09345e+07\n",
            "[9]\ttraining's l2: 1.4107e+16\ttraining's rmse: 1.18773e+08\tvalid_1's l2: 3.68412e+15\tvalid_1's rmse: 6.06969e+07\n",
            "[10]\ttraining's l2: 1.40722e+16\ttraining's rmse: 1.18626e+08\tvalid_1's l2: 3.65715e+15\tvalid_1's rmse: 6.04744e+07\n",
            "[11]\ttraining's l2: 1.40378e+16\ttraining's rmse: 1.18481e+08\tvalid_1's l2: 3.63046e+15\tvalid_1's rmse: 6.02533e+07\n",
            "[12]\ttraining's l2: 1.4014e+16\ttraining's rmse: 1.18381e+08\tvalid_1's l2: 3.61735e+15\tvalid_1's rmse: 6.01444e+07\n",
            "[13]\ttraining's l2: 1.39825e+16\ttraining's rmse: 1.18248e+08\tvalid_1's l2: 3.5937e+15\tvalid_1's rmse: 5.99475e+07\n",
            "[14]\ttraining's l2: 1.39546e+16\ttraining's rmse: 1.18129e+08\tvalid_1's l2: 3.57256e+15\tvalid_1's rmse: 5.97709e+07\n",
            "[15]\ttraining's l2: 1.39331e+16\ttraining's rmse: 1.18039e+08\tvalid_1's l2: 3.56196e+15\tvalid_1's rmse: 5.96821e+07\n",
            "[16]\ttraining's l2: 1.3916e+16\ttraining's rmse: 1.17966e+08\tvalid_1's l2: 3.55694e+15\tvalid_1's rmse: 5.96401e+07\n",
            "[17]\ttraining's l2: 1.38891e+16\ttraining's rmse: 1.17852e+08\tvalid_1's l2: 3.53777e+15\tvalid_1's rmse: 5.94791e+07\n",
            "[18]\ttraining's l2: 1.38719e+16\ttraining's rmse: 1.17779e+08\tvalid_1's l2: 3.52915e+15\tvalid_1's rmse: 5.94067e+07\n",
            "[19]\ttraining's l2: 1.38475e+16\ttraining's rmse: 1.17675e+08\tvalid_1's l2: 3.52447e+15\tvalid_1's rmse: 5.93673e+07\n",
            "[20]\ttraining's l2: 1.38234e+16\ttraining's rmse: 1.17573e+08\tvalid_1's l2: 3.50792e+15\tvalid_1's rmse: 5.92277e+07\n",
            "[21]\ttraining's l2: 1.38019e+16\ttraining's rmse: 1.17481e+08\tvalid_1's l2: 3.49294e+15\tvalid_1's rmse: 5.91011e+07\n",
            "[22]\ttraining's l2: 1.37801e+16\ttraining's rmse: 1.17389e+08\tvalid_1's l2: 3.478e+15\tvalid_1's rmse: 5.89746e+07\n",
            "[23]\ttraining's l2: 1.37607e+16\ttraining's rmse: 1.17306e+08\tvalid_1's l2: 3.46398e+15\tvalid_1's rmse: 5.88556e+07\n",
            "[24]\ttraining's l2: 1.37411e+16\ttraining's rmse: 1.17223e+08\tvalid_1's l2: 3.45116e+15\tvalid_1's rmse: 5.87465e+07\n",
            "[25]\ttraining's l2: 1.37239e+16\ttraining's rmse: 1.17149e+08\tvalid_1's l2: 3.4394e+15\tvalid_1's rmse: 5.86464e+07\n",
            "[26]\ttraining's l2: 1.37072e+16\ttraining's rmse: 1.17078e+08\tvalid_1's l2: 3.42868e+15\tvalid_1's rmse: 5.8555e+07\n",
            "[27]\ttraining's l2: 1.36955e+16\ttraining's rmse: 1.17028e+08\tvalid_1's l2: 3.43005e+15\tvalid_1's rmse: 5.85666e+07\n",
            "[28]\ttraining's l2: 1.36806e+16\ttraining's rmse: 1.16964e+08\tvalid_1's l2: 3.42006e+15\tvalid_1's rmse: 5.84813e+07\n",
            "[29]\ttraining's l2: 1.36658e+16\ttraining's rmse: 1.16901e+08\tvalid_1's l2: 3.41054e+15\tvalid_1's rmse: 5.83998e+07\n",
            "[30]\ttraining's l2: 1.36516e+16\ttraining's rmse: 1.1684e+08\tvalid_1's l2: 3.40091e+15\tvalid_1's rmse: 5.83173e+07\n",
            "[31]\ttraining's l2: 1.3638e+16\ttraining's rmse: 1.16782e+08\tvalid_1's l2: 3.3927e+15\tvalid_1's rmse: 5.82469e+07\n",
            "[32]\ttraining's l2: 1.3625e+16\ttraining's rmse: 1.16726e+08\tvalid_1's l2: 3.38583e+15\tvalid_1's rmse: 5.81879e+07\n",
            "[33]\ttraining's l2: 1.36129e+16\ttraining's rmse: 1.16674e+08\tvalid_1's l2: 3.37847e+15\tvalid_1's rmse: 5.81246e+07\n",
            "[34]\ttraining's l2: 1.3602e+16\ttraining's rmse: 1.16628e+08\tvalid_1's l2: 3.37157e+15\tvalid_1's rmse: 5.80652e+07\n",
            "[35]\ttraining's l2: 1.35911e+16\ttraining's rmse: 1.16581e+08\tvalid_1's l2: 3.36456e+15\tvalid_1's rmse: 5.80048e+07\n",
            "[36]\ttraining's l2: 1.35807e+16\ttraining's rmse: 1.16536e+08\tvalid_1's l2: 3.35824e+15\tvalid_1's rmse: 5.79503e+07\n",
            "[37]\ttraining's l2: 1.3571e+16\ttraining's rmse: 1.16494e+08\tvalid_1's l2: 3.35284e+15\tvalid_1's rmse: 5.79037e+07\n",
            "[38]\ttraining's l2: 1.35589e+16\ttraining's rmse: 1.16443e+08\tvalid_1's l2: 3.35207e+15\tvalid_1's rmse: 5.78971e+07\n",
            "[39]\ttraining's l2: 1.35493e+16\ttraining's rmse: 1.16401e+08\tvalid_1's l2: 3.34605e+15\tvalid_1's rmse: 5.7845e+07\n",
            "[40]\ttraining's l2: 1.35392e+16\ttraining's rmse: 1.16358e+08\tvalid_1's l2: 3.34075e+15\tvalid_1's rmse: 5.77993e+07\n",
            "[41]\ttraining's l2: 1.35303e+16\ttraining's rmse: 1.1632e+08\tvalid_1's l2: 3.3367e+15\tvalid_1's rmse: 5.77642e+07\n",
            "[42]\ttraining's l2: 1.35195e+16\ttraining's rmse: 1.16274e+08\tvalid_1's l2: 3.33495e+15\tvalid_1's rmse: 5.7749e+07\n",
            "[43]\ttraining's l2: 1.35098e+16\ttraining's rmse: 1.16232e+08\tvalid_1's l2: 3.33087e+15\tvalid_1's rmse: 5.77137e+07\n",
            "[44]\ttraining's l2: 1.35003e+16\ttraining's rmse: 1.16191e+08\tvalid_1's l2: 3.3273e+15\tvalid_1's rmse: 5.76827e+07\n",
            "[45]\ttraining's l2: 1.34932e+16\ttraining's rmse: 1.1616e+08\tvalid_1's l2: 3.32355e+15\tvalid_1's rmse: 5.76502e+07\n",
            "[46]\ttraining's l2: 1.34854e+16\ttraining's rmse: 1.16127e+08\tvalid_1's l2: 3.31977e+15\tvalid_1's rmse: 5.76175e+07\n",
            "[47]\ttraining's l2: 1.34779e+16\ttraining's rmse: 1.16094e+08\tvalid_1's l2: 3.31628e+15\tvalid_1's rmse: 5.75871e+07\n",
            "[48]\ttraining's l2: 1.34663e+16\ttraining's rmse: 1.16044e+08\tvalid_1's l2: 3.31286e+15\tvalid_1's rmse: 5.75575e+07\n",
            "[49]\ttraining's l2: 1.34574e+16\ttraining's rmse: 1.16006e+08\tvalid_1's l2: 3.31343e+15\tvalid_1's rmse: 5.75624e+07\n",
            "[50]\ttraining's l2: 1.34505e+16\ttraining's rmse: 1.15976e+08\tvalid_1's l2: 3.31052e+15\tvalid_1's rmse: 5.75371e+07\n",
            "[51]\ttraining's l2: 1.34399e+16\ttraining's rmse: 1.15931e+08\tvalid_1's l2: 3.30705e+15\tvalid_1's rmse: 5.75069e+07\n",
            "[52]\ttraining's l2: 1.34333e+16\ttraining's rmse: 1.15902e+08\tvalid_1's l2: 3.30415e+15\tvalid_1's rmse: 5.74818e+07\n",
            "[53]\ttraining's l2: 1.34234e+16\ttraining's rmse: 1.1586e+08\tvalid_1's l2: 3.30545e+15\tvalid_1's rmse: 5.7493e+07\n",
            "[54]\ttraining's l2: 1.34169e+16\ttraining's rmse: 1.15831e+08\tvalid_1's l2: 3.30792e+15\tvalid_1's rmse: 5.75146e+07\n",
            "[55]\ttraining's l2: 1.3411e+16\ttraining's rmse: 1.15806e+08\tvalid_1's l2: 3.30579e+15\tvalid_1's rmse: 5.7496e+07\n",
            "[56]\ttraining's l2: 1.34051e+16\ttraining's rmse: 1.15781e+08\tvalid_1's l2: 3.3083e+15\tvalid_1's rmse: 5.75178e+07\n",
            "[57]\ttraining's l2: 1.33994e+16\ttraining's rmse: 1.15756e+08\tvalid_1's l2: 3.30797e+15\tvalid_1's rmse: 5.7515e+07\n",
            "[58]\ttraining's l2: 1.33925e+16\ttraining's rmse: 1.15726e+08\tvalid_1's l2: 3.30707e+15\tvalid_1's rmse: 5.75071e+07\n",
            "[59]\ttraining's l2: 1.33855e+16\ttraining's rmse: 1.15696e+08\tvalid_1's l2: 3.3019e+15\tvalid_1's rmse: 5.74621e+07\n",
            "[60]\ttraining's l2: 1.3379e+16\ttraining's rmse: 1.15668e+08\tvalid_1's l2: 3.30305e+15\tvalid_1's rmse: 5.74722e+07\n",
            "[61]\ttraining's l2: 1.33723e+16\ttraining's rmse: 1.15639e+08\tvalid_1's l2: 3.2977e+15\tvalid_1's rmse: 5.74256e+07\n",
            "[62]\ttraining's l2: 1.33667e+16\ttraining's rmse: 1.15614e+08\tvalid_1's l2: 3.30001e+15\tvalid_1's rmse: 5.74458e+07\n",
            "[63]\ttraining's l2: 1.33603e+16\ttraining's rmse: 1.15587e+08\tvalid_1's l2: 3.29605e+15\tvalid_1's rmse: 5.74112e+07\n",
            "[64]\ttraining's l2: 1.33552e+16\ttraining's rmse: 1.15565e+08\tvalid_1's l2: 3.30143e+15\tvalid_1's rmse: 5.7458e+07\n",
            "[65]\ttraining's l2: 1.33497e+16\ttraining's rmse: 1.15541e+08\tvalid_1's l2: 3.30643e+15\tvalid_1's rmse: 5.75016e+07\n",
            "[66]\ttraining's l2: 1.33438e+16\ttraining's rmse: 1.15516e+08\tvalid_1's l2: 3.30937e+15\tvalid_1's rmse: 5.75271e+07\n",
            "[67]\ttraining's l2: 1.33382e+16\ttraining's rmse: 1.15491e+08\tvalid_1's l2: 3.30726e+15\tvalid_1's rmse: 5.75088e+07\n",
            "[68]\ttraining's l2: 1.33322e+16\ttraining's rmse: 1.15465e+08\tvalid_1's l2: 3.31219e+15\tvalid_1's rmse: 5.75516e+07\n",
            "[69]\ttraining's l2: 1.33256e+16\ttraining's rmse: 1.15437e+08\tvalid_1's l2: 3.30737e+15\tvalid_1's rmse: 5.75098e+07\n",
            "[70]\ttraining's l2: 1.33196e+16\ttraining's rmse: 1.1541e+08\tvalid_1's l2: 3.30338e+15\tvalid_1's rmse: 5.7475e+07\n",
            "[71]\ttraining's l2: 1.33111e+16\ttraining's rmse: 1.15374e+08\tvalid_1's l2: 3.30223e+15\tvalid_1's rmse: 5.7465e+07\n",
            "[72]\ttraining's l2: 1.33058e+16\ttraining's rmse: 1.15351e+08\tvalid_1's l2: 3.30509e+15\tvalid_1's rmse: 5.74899e+07\n",
            "[73]\ttraining's l2: 1.32999e+16\ttraining's rmse: 1.15325e+08\tvalid_1's l2: 3.3065e+15\tvalid_1's rmse: 5.75022e+07\n",
            "[74]\ttraining's l2: 1.32946e+16\ttraining's rmse: 1.15302e+08\tvalid_1's l2: 3.31194e+15\tvalid_1's rmse: 5.75494e+07\n",
            "[75]\ttraining's l2: 1.32899e+16\ttraining's rmse: 1.15282e+08\tvalid_1's l2: 3.31492e+15\tvalid_1's rmse: 5.75753e+07\n",
            "[76]\ttraining's l2: 1.32834e+16\ttraining's rmse: 1.15254e+08\tvalid_1's l2: 3.31022e+15\tvalid_1's rmse: 5.75345e+07\n",
            "[77]\ttraining's l2: 1.32777e+16\ttraining's rmse: 1.15229e+08\tvalid_1's l2: 3.30866e+15\tvalid_1's rmse: 5.7521e+07\n",
            "[78]\ttraining's l2: 1.32719e+16\ttraining's rmse: 1.15204e+08\tvalid_1's l2: 3.31e+15\tvalid_1's rmse: 5.75326e+07\n",
            "[79]\ttraining's l2: 1.32677e+16\ttraining's rmse: 1.15186e+08\tvalid_1's l2: 3.31439e+15\tvalid_1's rmse: 5.75707e+07\n",
            "[80]\ttraining's l2: 1.32615e+16\ttraining's rmse: 1.15158e+08\tvalid_1's l2: 3.31004e+15\tvalid_1's rmse: 5.75329e+07\n",
            "[81]\ttraining's l2: 1.32562e+16\ttraining's rmse: 1.15135e+08\tvalid_1's l2: 3.31432e+15\tvalid_1's rmse: 5.75701e+07\n",
            "[82]\ttraining's l2: 1.32522e+16\ttraining's rmse: 1.15118e+08\tvalid_1's l2: 3.31894e+15\tvalid_1's rmse: 5.76103e+07\n",
            "[83]\ttraining's l2: 1.32472e+16\ttraining's rmse: 1.15097e+08\tvalid_1's l2: 3.32176e+15\tvalid_1's rmse: 5.76347e+07\n",
            "[84]\ttraining's l2: 1.32407e+16\ttraining's rmse: 1.15068e+08\tvalid_1's l2: 3.31984e+15\tvalid_1's rmse: 5.76181e+07\n",
            "[85]\ttraining's l2: 1.32351e+16\ttraining's rmse: 1.15044e+08\tvalid_1's l2: 3.31524e+15\tvalid_1's rmse: 5.75781e+07\n",
            "[86]\ttraining's l2: 1.32305e+16\ttraining's rmse: 1.15024e+08\tvalid_1's l2: 3.31851e+15\tvalid_1's rmse: 5.76065e+07\n",
            "[87]\ttraining's l2: 1.32266e+16\ttraining's rmse: 1.15007e+08\tvalid_1's l2: 3.31682e+15\tvalid_1's rmse: 5.75919e+07\n",
            "[88]\ttraining's l2: 1.32211e+16\ttraining's rmse: 1.14983e+08\tvalid_1's l2: 3.31859e+15\tvalid_1's rmse: 5.76072e+07\n",
            "[89]\ttraining's l2: 1.3217e+16\ttraining's rmse: 1.14965e+08\tvalid_1's l2: 3.32307e+15\tvalid_1's rmse: 5.7646e+07\n",
            "[90]\ttraining's l2: 1.32122e+16\ttraining's rmse: 1.14944e+08\tvalid_1's l2: 3.32581e+15\tvalid_1's rmse: 5.76698e+07\n",
            "[91]\ttraining's l2: 1.3208e+16\ttraining's rmse: 1.14926e+08\tvalid_1's l2: 3.32819e+15\tvalid_1's rmse: 5.76905e+07\n",
            "[92]\ttraining's l2: 1.32041e+16\ttraining's rmse: 1.14909e+08\tvalid_1's l2: 3.3261e+15\tvalid_1's rmse: 5.76723e+07\n",
            "[93]\ttraining's l2: 1.31996e+16\ttraining's rmse: 1.1489e+08\tvalid_1's l2: 3.32951e+15\tvalid_1's rmse: 5.77019e+07\n",
            "[94]\ttraining's l2: 1.31944e+16\ttraining's rmse: 1.14867e+08\tvalid_1's l2: 3.32718e+15\tvalid_1's rmse: 5.76817e+07\n",
            "[95]\ttraining's l2: 1.3189e+16\ttraining's rmse: 1.14843e+08\tvalid_1's l2: 3.32239e+15\tvalid_1's rmse: 5.76401e+07\n",
            "[96]\ttraining's l2: 1.31845e+16\ttraining's rmse: 1.14824e+08\tvalid_1's l2: 3.32295e+15\tvalid_1's rmse: 5.7645e+07\n",
            "[97]\ttraining's l2: 1.31807e+16\ttraining's rmse: 1.14807e+08\tvalid_1's l2: 3.32702e+15\tvalid_1's rmse: 5.76803e+07\n",
            "[98]\ttraining's l2: 1.31756e+16\ttraining's rmse: 1.14785e+08\tvalid_1's l2: 3.3274e+15\tvalid_1's rmse: 5.76837e+07\n",
            "[99]\ttraining's l2: 1.31694e+16\ttraining's rmse: 1.14758e+08\tvalid_1's l2: 3.32564e+15\tvalid_1's rmse: 5.76683e+07\n",
            "[100]\ttraining's l2: 1.31643e+16\ttraining's rmse: 1.14736e+08\tvalid_1's l2: 3.32716e+15\tvalid_1's rmse: 5.76815e+07\n",
            "[101]\ttraining's l2: 1.31592e+16\ttraining's rmse: 1.14714e+08\tvalid_1's l2: 3.32335e+15\tvalid_1's rmse: 5.76485e+07\n",
            "[102]\ttraining's l2: 1.31559e+16\ttraining's rmse: 1.14699e+08\tvalid_1's l2: 3.32821e+15\tvalid_1's rmse: 5.76906e+07\n",
            "[103]\ttraining's l2: 1.31489e+16\ttraining's rmse: 1.14669e+08\tvalid_1's l2: 3.3274e+15\tvalid_1's rmse: 5.76836e+07\n",
            "[104]\ttraining's l2: 1.31438e+16\ttraining's rmse: 1.14646e+08\tvalid_1's l2: 3.3238e+15\tvalid_1's rmse: 5.76524e+07\n",
            "[105]\ttraining's l2: 1.31389e+16\ttraining's rmse: 1.14625e+08\tvalid_1's l2: 3.32736e+15\tvalid_1's rmse: 5.76833e+07\n",
            "[106]\ttraining's l2: 1.31337e+16\ttraining's rmse: 1.14602e+08\tvalid_1's l2: 3.32263e+15\tvalid_1's rmse: 5.76423e+07\n",
            "[107]\ttraining's l2: 1.31305e+16\ttraining's rmse: 1.14588e+08\tvalid_1's l2: 3.32654e+15\tvalid_1's rmse: 5.76762e+07\n",
            "[108]\ttraining's l2: 1.31272e+16\ttraining's rmse: 1.14574e+08\tvalid_1's l2: 3.33064e+15\tvalid_1's rmse: 5.77117e+07\n",
            "[109]\ttraining's l2: 1.3123e+16\ttraining's rmse: 1.14556e+08\tvalid_1's l2: 3.33249e+15\tvalid_1's rmse: 5.77277e+07\n",
            "[110]\ttraining's l2: 1.3118e+16\ttraining's rmse: 1.14534e+08\tvalid_1's l2: 3.32835e+15\tvalid_1's rmse: 5.76919e+07\n",
            "[111]\ttraining's l2: 1.31128e+16\ttraining's rmse: 1.14511e+08\tvalid_1's l2: 3.33031e+15\tvalid_1's rmse: 5.77089e+07\n",
            "[112]\ttraining's l2: 1.31087e+16\ttraining's rmse: 1.14493e+08\tvalid_1's l2: 3.33241e+15\tvalid_1's rmse: 5.7727e+07\n",
            "[113]\ttraining's l2: 1.31049e+16\ttraining's rmse: 1.14477e+08\tvalid_1's l2: 3.33015e+15\tvalid_1's rmse: 5.77075e+07\n",
            "[114]\ttraining's l2: 1.31001e+16\ttraining's rmse: 1.14456e+08\tvalid_1's l2: 3.32622e+15\tvalid_1's rmse: 5.76734e+07\n",
            "[115]\ttraining's l2: 1.30956e+16\ttraining's rmse: 1.14436e+08\tvalid_1's l2: 3.32972e+15\tvalid_1's rmse: 5.77037e+07\n",
            "[116]\ttraining's l2: 1.3091e+16\ttraining's rmse: 1.14416e+08\tvalid_1's l2: 3.33237e+15\tvalid_1's rmse: 5.77267e+07\n",
            "[117]\ttraining's l2: 1.30863e+16\ttraining's rmse: 1.14395e+08\tvalid_1's l2: 3.32818e+15\tvalid_1's rmse: 5.76904e+07\n",
            "[118]\ttraining's l2: 1.30812e+16\ttraining's rmse: 1.14373e+08\tvalid_1's l2: 3.33201e+15\tvalid_1's rmse: 5.77236e+07\n",
            "[119]\ttraining's l2: 1.30766e+16\ttraining's rmse: 1.14353e+08\tvalid_1's l2: 3.32783e+15\tvalid_1's rmse: 5.76873e+07\n",
            "[120]\ttraining's l2: 1.30733e+16\ttraining's rmse: 1.14339e+08\tvalid_1's l2: 3.33248e+15\tvalid_1's rmse: 5.77276e+07\n",
            "[121]\ttraining's l2: 1.30688e+16\ttraining's rmse: 1.14319e+08\tvalid_1's l2: 3.33625e+15\tvalid_1's rmse: 5.77603e+07\n",
            "[122]\ttraining's l2: 1.30638e+16\ttraining's rmse: 1.14297e+08\tvalid_1's l2: 3.33517e+15\tvalid_1's rmse: 5.7751e+07\n",
            "[123]\ttraining's l2: 1.3059e+16\ttraining's rmse: 1.14276e+08\tvalid_1's l2: 3.33616e+15\tvalid_1's rmse: 5.77595e+07\n",
            "[124]\ttraining's l2: 1.30545e+16\ttraining's rmse: 1.14256e+08\tvalid_1's l2: 3.33218e+15\tvalid_1's rmse: 5.7725e+07\n",
            "[125]\ttraining's l2: 1.30501e+16\ttraining's rmse: 1.14237e+08\tvalid_1's l2: 3.33467e+15\tvalid_1's rmse: 5.77466e+07\n",
            "[126]\ttraining's l2: 1.3047e+16\ttraining's rmse: 1.14224e+08\tvalid_1's l2: 3.33885e+15\tvalid_1's rmse: 5.77828e+07\n",
            "[127]\ttraining's l2: 1.3044e+16\ttraining's rmse: 1.1421e+08\tvalid_1's l2: 3.343e+15\tvalid_1's rmse: 5.78187e+07\n",
            "[128]\ttraining's l2: 1.30388e+16\ttraining's rmse: 1.14188e+08\tvalid_1's l2: 3.34068e+15\tvalid_1's rmse: 5.77986e+07\n",
            "[129]\ttraining's l2: 1.30343e+16\ttraining's rmse: 1.14168e+08\tvalid_1's l2: 3.33746e+15\tvalid_1's rmse: 5.77708e+07\n",
            "[130]\ttraining's l2: 1.30297e+16\ttraining's rmse: 1.14148e+08\tvalid_1's l2: 3.33861e+15\tvalid_1's rmse: 5.77807e+07\n",
            "[131]\ttraining's l2: 1.30264e+16\ttraining's rmse: 1.14133e+08\tvalid_1's l2: 3.34324e+15\tvalid_1's rmse: 5.78208e+07\n",
            "[132]\ttraining's l2: 1.30216e+16\ttraining's rmse: 1.14112e+08\tvalid_1's l2: 3.34112e+15\tvalid_1's rmse: 5.78024e+07\n",
            "[133]\ttraining's l2: 1.30167e+16\ttraining's rmse: 1.14091e+08\tvalid_1's l2: 3.34213e+15\tvalid_1's rmse: 5.78112e+07\n",
            "[134]\ttraining's l2: 1.30134e+16\ttraining's rmse: 1.14076e+08\tvalid_1's l2: 3.34617e+15\tvalid_1's rmse: 5.78461e+07\n",
            "[135]\ttraining's l2: 1.30094e+16\ttraining's rmse: 1.14059e+08\tvalid_1's l2: 3.348e+15\tvalid_1's rmse: 5.78619e+07\n",
            "[136]\ttraining's l2: 1.30046e+16\ttraining's rmse: 1.14038e+08\tvalid_1's l2: 3.34494e+15\tvalid_1's rmse: 5.78355e+07\n",
            "[137]\ttraining's l2: 1.30002e+16\ttraining's rmse: 1.14018e+08\tvalid_1's l2: 3.34743e+15\tvalid_1's rmse: 5.7857e+07\n",
            "[138]\ttraining's l2: 1.29958e+16\ttraining's rmse: 1.13999e+08\tvalid_1's l2: 3.35046e+15\tvalid_1's rmse: 5.78832e+07\n",
            "[139]\ttraining's l2: 1.29927e+16\ttraining's rmse: 1.13986e+08\tvalid_1's l2: 3.34866e+15\tvalid_1's rmse: 5.78676e+07\n",
            "[140]\ttraining's l2: 1.29876e+16\ttraining's rmse: 1.13963e+08\tvalid_1's l2: 3.34642e+15\tvalid_1's rmse: 5.78483e+07\n",
            "[141]\ttraining's l2: 1.29829e+16\ttraining's rmse: 1.13943e+08\tvalid_1's l2: 3.34789e+15\tvalid_1's rmse: 5.7861e+07\n",
            "[142]\ttraining's l2: 1.29782e+16\ttraining's rmse: 1.13922e+08\tvalid_1's l2: 3.34529e+15\tvalid_1's rmse: 5.78385e+07\n",
            "[143]\ttraining's l2: 1.29736e+16\ttraining's rmse: 1.13902e+08\tvalid_1's l2: 3.34727e+15\tvalid_1's rmse: 5.78556e+07\n",
            "[144]\ttraining's l2: 1.2969e+16\ttraining's rmse: 1.13882e+08\tvalid_1's l2: 3.34372e+15\tvalid_1's rmse: 5.78249e+07\n",
            "[145]\ttraining's l2: 1.29643e+16\ttraining's rmse: 1.13861e+08\tvalid_1's l2: 3.34543e+15\tvalid_1's rmse: 5.78397e+07\n",
            "[146]\ttraining's l2: 1.29598e+16\ttraining's rmse: 1.13841e+08\tvalid_1's l2: 3.34149e+15\tvalid_1's rmse: 5.78056e+07\n",
            "[147]\ttraining's l2: 1.2955e+16\ttraining's rmse: 1.1382e+08\tvalid_1's l2: 3.3461e+15\tvalid_1's rmse: 5.78455e+07\n",
            "[148]\ttraining's l2: 1.29513e+16\ttraining's rmse: 1.13804e+08\tvalid_1's l2: 3.34951e+15\tvalid_1's rmse: 5.78749e+07\n",
            "[149]\ttraining's l2: 1.29471e+16\ttraining's rmse: 1.13785e+08\tvalid_1's l2: 3.3463e+15\tvalid_1's rmse: 5.78472e+07\n",
            "[150]\ttraining's l2: 1.2943e+16\ttraining's rmse: 1.13768e+08\tvalid_1's l2: 3.34849e+15\tvalid_1's rmse: 5.78661e+07\n",
            "[151]\ttraining's l2: 1.29389e+16\ttraining's rmse: 1.13749e+08\tvalid_1's l2: 3.3448e+15\tvalid_1's rmse: 5.78343e+07\n",
            "[152]\ttraining's l2: 1.29352e+16\ttraining's rmse: 1.13733e+08\tvalid_1's l2: 3.34827e+15\tvalid_1's rmse: 5.78642e+07\n",
            "[153]\ttraining's l2: 1.29305e+16\ttraining's rmse: 1.13712e+08\tvalid_1's l2: 3.34964e+15\tvalid_1's rmse: 5.78761e+07\n",
            "[154]\ttraining's l2: 1.29264e+16\ttraining's rmse: 1.13694e+08\tvalid_1's l2: 3.346e+15\tvalid_1's rmse: 5.78446e+07\n",
            "[155]\ttraining's l2: 1.29232e+16\ttraining's rmse: 1.1368e+08\tvalid_1's l2: 3.34993e+15\tvalid_1's rmse: 5.78786e+07\n",
            "[156]\ttraining's l2: 1.29187e+16\ttraining's rmse: 1.1366e+08\tvalid_1's l2: 3.35464e+15\tvalid_1's rmse: 5.79192e+07\n",
            "[157]\ttraining's l2: 1.29143e+16\ttraining's rmse: 1.13641e+08\tvalid_1's l2: 3.35137e+15\tvalid_1's rmse: 5.7891e+07\n",
            "[158]\ttraining's l2: 1.29099e+16\ttraining's rmse: 1.13622e+08\tvalid_1's l2: 3.35239e+15\tvalid_1's rmse: 5.78998e+07\n",
            "[159]\ttraining's l2: 1.29056e+16\ttraining's rmse: 1.13603e+08\tvalid_1's l2: 3.34886e+15\tvalid_1's rmse: 5.78694e+07\n",
            "[160]\ttraining's l2: 1.29024e+16\ttraining's rmse: 1.13589e+08\tvalid_1's l2: 3.35325e+15\tvalid_1's rmse: 5.79073e+07\n",
            "[161]\ttraining's l2: 1.2898e+16\ttraining's rmse: 1.1357e+08\tvalid_1's l2: 3.35771e+15\tvalid_1's rmse: 5.79457e+07\n",
            "[162]\ttraining's l2: 1.28935e+16\ttraining's rmse: 1.13549e+08\tvalid_1's l2: 3.356e+15\tvalid_1's rmse: 5.7931e+07\n",
            "[163]\ttraining's l2: 1.28889e+16\ttraining's rmse: 1.13529e+08\tvalid_1's l2: 3.36037e+15\tvalid_1's rmse: 5.79687e+07\n",
            "Early stopping, best iteration is:\n",
            "[63]\ttraining's l2: 1.33603e+16\ttraining's rmse: 1.15587e+08\tvalid_1's l2: 3.29605e+15\tvalid_1's rmse: 5.74112e+07\n",
            "CPU times: user 45.8 s, sys: 629 ms, total: 46.4 s\n",
            "Wall time: 24.4 s\n"
          ],
          "name": "stdout"
        },
        {
          "output_type": "execute_result",
          "data": {
            "text/plain": [
              "LGBMRegressor(boosting_type='gbdt', class_weight=None, colsample_bytree=0.681,\n",
              "       importance_type='split', learning_rate=0.03, max_depth=-1,\n",
              "       min_child_samples=20, min_child_weight=100.0,\n",
              "       min_split_gain=1.153453257821093e-05, n_estimators=200, n_jobs=-1,\n",
              "       num_leaves=128, objective=None, random_state=None,\n",
              "       reg_alpha=0.0005683292391383383, reg_lambda=1.3896326196366016e-05,\n",
              "       silent=True, subsample=0.2217, subsample_for_bin=200000,\n",
              "       subsample_freq=0)"
            ]
          },
          "metadata": {
            "tags": []
          },
          "execution_count": 17
        }
      ]
    },
    {
      "metadata": {
        "id": "KR4TV1SLlRS-",
        "colab_type": "code",
        "colab": {
          "base_uri": "https://localhost:8080/",
          "height": 51
        },
        "outputId": "4f88962e-93e7-4332-ff07-95de3f888124"
      },
      "cell_type": "code",
      "source": [
        "%%time\n",
        "pickle.dump(model, open(filename, 'wb'))\n",
        "\n",
        "# files.download(filename) "
      ],
      "execution_count": 18,
      "outputs": [
        {
          "output_type": "stream",
          "text": [
            "CPU times: user 53.5 ms, sys: 957 µs, total: 54.5 ms\n",
            "Wall time: 674 ms\n"
          ],
          "name": "stdout"
        }
      ]
    },
    {
      "metadata": {
        "id": "ufrMRIH19c05",
        "colab_type": "code",
        "colab": {}
      },
      "cell_type": "code",
      "source": [
        ""
      ],
      "execution_count": 0,
      "outputs": []
    }
  ]
}