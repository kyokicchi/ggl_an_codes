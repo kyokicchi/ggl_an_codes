{
 "cells": [
  {
   "cell_type": "markdown",
   "metadata": {
    "_uuid": "ca4229fe862fda4add8565cbec708d611c516b14"
   },
   "source": [
    "# Ref: Kernels"
   ]
  },
  {
   "cell_type": "markdown",
   "metadata": {},
   "source": [
    "\n",
    "https://www.kaggle.com/julian3833/1-quick-start-read-csv-and-flatten-json-fields\n",
    "\n",
    "https://www.kaggle.com/artgor/nn-baseline\n",
    "\n",
    "https://www.kaggle.com/ogrellier/user-level-lightgbm-lb-1-4480"
   ]
  },
  {
   "cell_type": "markdown",
   "metadata": {},
   "source": [
    "# setup and import"
   ]
  },
  {
   "cell_type": "code",
   "execution_count": 29,
   "metadata": {
    "_cell_guid": "b1076dfc-b9ad-4769-8c92-a6c4dae69d19",
    "_uuid": "8f2839f25d086af736a60e9eeb907d3b93b6e0e5"
   },
   "outputs": [
    {
     "name": "stdout",
     "output_type": "stream",
     "text": [
      "['train.csv', 'test_wip.csv', 'train_wip.csv', 'test.csv', 'sample_submission.csv']\n"
     ]
    }
   ],
   "source": [
    "import os\n",
    "import json\n",
    "import numpy as np\n",
    "import pandas as pd\n",
    "from pandas.io.json import json_normalize\n",
    "from sklearn.preprocessing import LabelEncoder\n",
    "\n",
    "path = '../data/ggl-rev-pred/'\n",
    "print(os.listdir(path))"
   ]
  },
  {
   "cell_type": "markdown",
   "metadata": {},
   "source": [
    "# Load data"
   ]
  },
  {
   "cell_type": "code",
   "execution_count": 6,
   "metadata": {
    "_uuid": "4a23799ac3b6e7d5b1eb451ba69ab6d2fa74b585",
    "collapsed": true
   },
   "outputs": [],
   "source": [
    "def load_df(csv_path, nrows=None):\n",
    "    JSON_COLUMNS = ['device', 'geoNetwork', 'totals', 'trafficSource']\n",
    "    \n",
    "    df = pd.read_csv(csv_path, \n",
    "                     converters={column: json.loads for column in JSON_COLUMNS}, \n",
    "                     dtype={'fullVisitorId': 'str'}, \n",
    "                     nrows=nrows)\n",
    "    \n",
    "    for column in JSON_COLUMNS:\n",
    "        column_as_df = json_normalize(df[column])\n",
    "        column_as_df.columns = [f\"{column}.{subcolumn}\" for subcolumn in column_as_df.columns]\n",
    "        df = df.drop(column, axis=1).merge(column_as_df, right_index=True, left_index=True)\n",
    "    print(f\"Loaded {os.path.basename(csv_path)}. Shape: {df.shape}\")\n",
    "    return df"
   ]
  },
  {
   "cell_type": "code",
   "execution_count": 7,
   "metadata": {
    "_uuid": "a9f9fce9f30e29128f38851a2023569677d88cf3"
   },
   "outputs": [
    {
     "name": "stdout",
     "output_type": "stream",
     "text": [
      "Loaded train.csv. Shape: (903653, 55)\n",
      "CPU times: user 1min 49s, sys: 3.27 s, total: 1min 52s\n",
      "Wall time: 1min 53s\n"
     ]
    }
   ],
   "source": [
    "%%time\n",
    "df_train_raw = load_df(path + 'train.csv')"
   ]
  },
  {
   "cell_type": "code",
   "execution_count": 8,
   "metadata": {
    "_uuid": "7608428d61f7f89a75886136203e81cc28e3ad99"
   },
   "outputs": [
    {
     "name": "stdout",
     "output_type": "stream",
     "text": [
      "Loaded test.csv. Shape: (804684, 53)\n",
      "CPU times: user 1min 57s, sys: 14.8 s, total: 2min 12s\n",
      "Wall time: 3min 50s\n"
     ]
    }
   ],
   "source": [
    "%%time\n",
    "df_test_raw = load_df(path + 'test.csv')"
   ]
  },
  {
   "cell_type": "markdown",
   "metadata": {
    "_uuid": "6f6856cc7ba3534d5a5b2e3579e1f82533bc62a8"
   },
   "source": [
    "##  keep _raw for resuming point"
   ]
  },
  {
   "cell_type": "code",
   "execution_count": 14,
   "metadata": {
    "_uuid": "9f89c6f20e21768c3d302e232a6339de35cff933"
   },
   "outputs": [
    {
     "name": "stdout",
     "output_type": "stream",
     "text": [
      "CPU times: user 1.42 s, sys: 3.8 s, total: 5.22 s\n",
      "Wall time: 23.8 s\n"
     ]
    }
   ],
   "source": [
    "%%time\n",
    "df_train = df_train_raw.copy()"
   ]
  },
  {
   "cell_type": "code",
   "execution_count": 15,
   "metadata": {
    "_uuid": "b7e46ca15cbb10f4691d34fe808935a8097fab49"
   },
   "outputs": [
    {
     "name": "stdout",
     "output_type": "stream",
     "text": [
      "CPU times: user 2.17 s, sys: 7.94 s, total: 10.1 s\n",
      "Wall time: 1min 3s\n"
     ]
    }
   ],
   "source": [
    "%%time\n",
    "df_test = df_test_raw.copy()"
   ]
  },
  {
   "cell_type": "markdown",
   "metadata": {},
   "source": [
    "# Clean up datasets"
   ]
  },
  {
   "cell_type": "markdown",
   "metadata": {
    "_uuid": "630c9e566ecd7d55591dbf5279a48079e960b97b"
   },
   "source": [
    "## apply adjustments to both train and test datasets"
   ]
  },
  {
   "cell_type": "code",
   "execution_count": 16,
   "metadata": {
    "_uuid": "53bcba9f20016db4621328051eddeb50b9b35715",
    "collapsed": true,
    "scrolled": true
   },
   "outputs": [],
   "source": [
    "def applyEdits(df):\n",
    "    # fill NA's\n",
    "    df['trafficSource.adwordsClickInfo.isVideoAd'].fillna(True, inplace=True)\n",
    "    df['trafficSource.isTrueDirect'].fillna(False, inplace=True)\n",
    "\n",
    "    l_fillwithzero = ['totals.bounces','totals.newVisits','totals.pageviews',\n",
    "    'trafficSource.adContent','trafficSource.keyword','trafficSource.adwordsClickInfo.adNetworkType',\n",
    "    'trafficSource.adwordsClickInfo.adNetworkType','trafficSource.adwordsClickInfo.gclId',\n",
    "    'trafficSource.adwordsClickInfo.gclId','trafficSource.adwordsClickInfo.page',\n",
    "    'trafficSource.adwordsClickInfo.slot']\n",
    "    for x in l_fillwithzero:\n",
    "        df[x] = df[x].fillna(0)\n",
    "\n",
    "    # add / edit columns\n",
    "    df['browser_category'] = df['device.browser'] + '_' + df['device.deviceCategory']\n",
    "    df['browser_operatingSystem'] = df['device.browser'] + '_' + df['device.operatingSystem']\n",
    "    df['source_country'] = df['trafficSource.source'] + '_' + df['geoNetwork.country']                                                                   \n",
    "\n",
    "    \n",
    "    # user access stat data column\n",
    "    df['dummy'] = 1\n",
    "    df['user_cumcnt_per_day'] = (df[['fullVisitorId','date', 'dummy']].groupby(['fullVisitorId','date'])['dummy'].cumcount()+1)\n",
    "    df['user_sum_per_day'] = df[['fullVisitorId','date', 'dummy']].groupby(['fullVisitorId','date'])['dummy'].transform(sum)\n",
    "    df['user_cumcnt_sum_ratio_per_day'] = df['user_cumcnt_per_day'] / df['user_sum_per_day'] \n",
    "\n",
    "    # fix and breakdown date info\n",
    "    df['date'] = pd.to_datetime(df['date'].apply(lambda x: str(x)[:4] + '-' + str(x)[4:6] + '-' + str(x)[6:]))\n",
    "    df['month'] = df['date'].dt.month\n",
    "    df['day'] = df['date'].dt.day\n",
    "    df['weekday'] = df['date'].dt.weekday\n",
    "    df['weekofyear'] = df['date'].dt.weekofyear\n",
    "\n",
    "    #convert to number\n",
    "    l_toNum = [ 'totals.bounces', 'totals.hits', 'totals.newVisits', 'totals.pageviews',]\n",
    "    for x in l_toNum:\n",
    "        df[x] = df[x].values.astype(np.int64)\n",
    "\n",
    "    l_bools = ['trafficSource.adwordsClickInfo.isVideoAd', 'trafficSource.isTrueDirect' ]\n",
    "    for x in l_bools:\n",
    "        df[x] = df[x].values.astype(np.int64) * 1\n",
    "\n",
    "    #delete unecessary columns\n",
    "    l_drop = ['dummy','trafficSource.referralPath','device.browser','device.deviceCategory','device.operatingSystem','trafficSource.source',\n",
    "             'geoNetwork.country']\n",
    "    for x in l_drop:\n",
    "        df.drop(x, axis=1, inplace=True)\n",
    "        \n",
    "    return df"
   ]
  },
  {
   "cell_type": "code",
   "execution_count": 17,
   "metadata": {
    "_uuid": "ad1f38ff60765f4891de78efa0d02b3f12242922"
   },
   "outputs": [
    {
     "name": "stdout",
     "output_type": "stream",
     "text": [
      "CPU times: user 25.2 s, sys: 5.92 s, total: 31.2 s\n",
      "Wall time: 52.2 s\n"
     ]
    }
   ],
   "source": [
    "%%time\n",
    "df_train = applyEdits(df_train)"
   ]
  },
  {
   "cell_type": "code",
   "execution_count": 18,
   "metadata": {
    "_uuid": "31fd2f16d0372731a73af3498f3b2917fc850905"
   },
   "outputs": [
    {
     "name": "stdout",
     "output_type": "stream",
     "text": [
      "CPU times: user 23.3 s, sys: 10.6 s, total: 33.9 s\n",
      "Wall time: 1min 25s\n"
     ]
    }
   ],
   "source": [
    "%%time\n",
    "df_test = applyEdits(df_test)"
   ]
  },
  {
   "cell_type": "markdown",
   "metadata": {
    "_uuid": "073dad5a0d127383ed96406b2b2a6de70cd10272"
   },
   "source": [
    "## apply only for train dataset"
   ]
  },
  {
   "cell_type": "code",
   "execution_count": 19,
   "metadata": {
    "_uuid": "337145bd03ef1d0bcfadb9ec4b5dbc54b4202b34",
    "collapsed": true
   },
   "outputs": [],
   "source": [
    "# to float and log\n",
    "df_train['totals.transactionRevenue'] = df_train['totals.transactionRevenue'].astype(float)\n",
    "df_train['totals.transactionRevenue'] = np.log1p(df_train['totals.transactionRevenue'].fillna(0))"
   ]
  },
  {
   "cell_type": "markdown",
   "metadata": {
    "_uuid": "d4da91392ec96a69d73e7ae28609e340cd4f789a"
   },
   "source": [
    "## delete columns with no valid info"
   ]
  },
  {
   "cell_type": "code",
   "execution_count": 20,
   "metadata": {
    "_uuid": "1516939f84f16334f6079c27d24859f55ab533f8",
    "scrolled": true
   },
   "outputs": [
    {
     "name": "stdout",
     "output_type": "stream",
     "text": [
      "CPU times: user 6.56 s, sys: 1.13 s, total: 7.69 s\n",
      "Wall time: 11.7 s\n"
     ]
    }
   ],
   "source": [
    "%%time\n",
    "cols_to_drop = [col for col in df_train.columns if df_train[col].nunique() == 1]\n",
    "df_train.drop(cols_to_drop, axis=1, inplace=True)\n",
    "df_test.drop([col for col in cols_to_drop if col in df_test.columns], axis=1, inplace=True)\n"
   ]
  },
  {
   "cell_type": "markdown",
   "metadata": {
    "_uuid": "bdbd6c3e8a8df46b78226fcff9da11d96a674cee"
   },
   "source": [
    "## category to number labels"
   ]
  },
  {
   "cell_type": "code",
   "execution_count": 21,
   "metadata": {
    "_uuid": "ae3e561aa4b02f0c0f5585ecbf7e39d163605930",
    "collapsed": true
   },
   "outputs": [],
   "source": [
    "no_use = ['fullVisitorId', 'sessionId', 'visitId', 'visitStartTime', 'totals.transactionRevenue']\n",
    "\n",
    "cat_cols = [x for x in df_train.columns if x not in no_use and type(df_train[x][0]) == str]\n",
    "\n",
    "num_cols = [x for x in df_train.columns if x not in no_use and x not in cat_cols and type(df_train[x][0]) != str and type(df_train[x][0]) != bool]\n"
   ]
  },
  {
   "cell_type": "code",
   "execution_count": 22,
   "metadata": {
    "_uuid": "d6cd5e1e18c145710c592cb5f8b6c22f34fe2b5f"
   },
   "outputs": [
    {
     "name": "stdout",
     "output_type": "stream",
     "text": [
      "CPU times: user 1min 33s, sys: 22.1 s, total: 1min 55s\n",
      "Wall time: 3min 10s\n"
     ]
    }
   ],
   "source": [
    "%%time\n",
    "for col in cat_cols:\n",
    "    lbl = LabelEncoder()\n",
    "    lbl.fit(list(df_train[col].values.astype('str')) + list(df_test[col].values.astype('str')))\n",
    "    df_train[col] = lbl.transform(list(df_train[col].values.astype('str')))\n",
    "    df_test[col] = lbl.transform(list(df_test[col].values.astype('str')))\n"
   ]
  },
  {
   "cell_type": "markdown",
   "metadata": {
    "_uuid": "3a9a5f3f1450f7ba4533958145c5d3ec4352167a"
   },
   "source": [
    "## export editted CSVs"
   ]
  },
  {
   "cell_type": "code",
   "execution_count": 23,
   "metadata": {},
   "outputs": [
    {
     "name": "stdout",
     "output_type": "stream",
     "text": [
      "CPU times: user 36.5 s, sys: 819 ms, total: 37.3 s\n",
      "Wall time: 46.6 s\n"
     ]
    }
   ],
   "source": [
    "%%time\n",
    "#export\n",
    "df_train.to_csv(path +'train_wip.csv')\n",
    "df_test.to_csv(path +'test_wip.csv')"
   ]
  },
  {
   "cell_type": "markdown",
   "metadata": {},
   "source": [
    "## save editted CSVs"
   ]
  },
  {
   "cell_type": "code",
   "execution_count": 25,
   "metadata": {},
   "outputs": [
    {
     "name": "stdout",
     "output_type": "stream",
     "text": [
      "CPU times: user 147 ms, sys: 88.7 ms, total: 236 ms\n",
      "Wall time: 254 ms\n"
     ]
    }
   ],
   "source": [
    "%%time\n",
    "df_train_forReset = df_train.copy()\n",
    "df_test_forReset = df_test.copy()"
   ]
  },
  {
   "cell_type": "markdown",
   "metadata": {},
   "source": [
    "## load editted CSVs"
   ]
  },
  {
   "cell_type": "code",
   "execution_count": 26,
   "metadata": {
    "_uuid": "17c522deb0407c9fd89ae50f6e009cf86cfaea9e",
    "collapsed": true
   },
   "outputs": [],
   "source": [
    "#df_train = df_train_forReset.copy()\n",
    "#df_test = df_test_forReset.copy()"
   ]
  },
  {
   "cell_type": "markdown",
   "metadata": {},
   "source": [
    "# create new dataset: aggregated by users"
   ]
  },
  {
   "cell_type": "code",
   "execution_count": 27,
   "metadata": {
    "_uuid": "e9f9ddbd777446eabff7364859c1782aeb43737c",
    "collapsed": true
   },
   "outputs": [],
   "source": [
    "\n",
    "def aggregate_by_users(df, cat_cols):\n",
    "    aggs = {\n",
    "        'date': ['min', 'max'],\n",
    "        'totals.transactionRevenue': ['sum', 'size'],\n",
    "        'totals.hits': ['sum', 'min', 'max', 'mean', 'median'],\n",
    "        'totals.pageviews': ['sum', 'min', 'max', 'mean', 'median'],\n",
    "        'totals.bounces': ['sum', 'mean', 'median'],\n",
    "        'totals.newVisits': ['sum', 'mean', 'median']\n",
    "    }\n",
    "\n",
    "    for f in cat_cols + ['weekday', 'day', 'month', 'weekofyear']:\n",
    "        aggs[f] = ['min', 'max', 'mean', 'median', 'var', 'std']\n",
    "\n",
    "    users = df.groupby('fullVisitorId').agg(aggs)\n",
    "\n",
    "    new_columns = [\n",
    "        k + '_' + agg for k in aggs.keys() for agg in aggs[k]\n",
    "    ]\n",
    "    users.columns = new_columns\n",
    "\n",
    "    users['date_diff'] = (users.date_max - users.date_min).astype(np.int64) // (24 * 3600 * 1e9)\n",
    "    \n",
    "    return users"
   ]
  },
  {
   "cell_type": "code",
   "execution_count": 28,
   "metadata": {
    "_uuid": "02cd97d01427fd0b675ec504e14328b0007eac6a",
    "scrolled": false
   },
   "outputs": [
    {
     "name": "stdout",
     "output_type": "stream",
     "text": [
      "CPU times: user 35.8 s, sys: 18.1 s, total: 53.9 s\n",
      "Wall time: 2min 42s\n"
     ]
    }
   ],
   "source": [
    "%%time\n",
    "df_user_train = aggregate_by_users(df_train, cat_cols)\n",
    "\n",
    "df_test['totals.transactionRevenue'] = 0\n",
    "df_user_test = aggregate_by_users(df_test, cat_cols)\n",
    "\n"
   ]
  },
  {
   "cell_type": "markdown",
   "metadata": {
    "_uuid": "b600ab521a1d3a3d2c5da223d4b971e296214964"
   },
   "source": [
    "## export aggregated csv"
   ]
  },
  {
   "cell_type": "code",
   "execution_count": 30,
   "metadata": {
    "_uuid": "f6c223de3db355f02a9d27a80199dba7952ce7fe",
    "scrolled": true
   },
   "outputs": [
    {
     "name": "stdout",
     "output_type": "stream",
     "text": [
      "CPU times: user 1min 40s, sys: 408 ms, total: 1min 41s\n",
      "Wall time: 1min 43s\n"
     ]
    }
   ],
   "source": [
    "%%time\n",
    "df_user_train.to_csv(path +'user_train_wip.csv')\n",
    "df_user_test.to_csv(path +'user_test_wip.csv')"
   ]
  },
  {
   "cell_type": "markdown",
   "metadata": {
    "_uuid": "630f2535dfc51f3746eb80cbe6f7aa1b81c84c0f"
   },
   "source": [
    "## Load saved CSV"
   ]
  },
  {
   "cell_type": "code",
   "execution_count": 31,
   "metadata": {
    "_uuid": "1f265792ba9033b28200495c1df7e2ec31b90524"
   },
   "outputs": [
    {
     "name": "stdout",
     "output_type": "stream",
     "text": [
      "['user_train_wip.csv', 'user_test_wip.csv', 'train.csv', 'test_wip.csv', 'train_wip.csv', 'test.csv', 'sample_submission.csv']\n"
     ]
    }
   ],
   "source": [
    "import os\n",
    "import json\n",
    "import numpy as np\n",
    "import pandas as pd\n",
    "from pandas.io.json import json_normalize\n",
    "from sklearn.preprocessing import LabelEncoder\n",
    "\n",
    "path = '../data/ggl-rev-pred/'\n",
    "print(os.listdir(path))"
   ]
  },
  {
   "cell_type": "code",
   "execution_count": null,
   "metadata": {
    "_uuid": "4d4e1b3806cfeed4d8ad2cf60db2f9bc69d44feb",
    "collapsed": true
   },
   "outputs": [],
   "source": [
    "%%time\n",
    "df_user_train = pd.read_csv(path +'user_train_wip.csv', index_col = 0)\n",
    "df_user_test = pd.read_csv(path +'user_test_wip.csv', index_col = 0)"
   ]
  },
  {
   "cell_type": "markdown",
   "metadata": {
    "_uuid": "c1d79a9a784c63d23b72ac58c7b7478cad3267c1"
   },
   "source": [
    "# Light GB model"
   ]
  },
  {
   "cell_type": "code",
   "execution_count": 33,
   "metadata": {
    "_uuid": "bb1727974a29a6ca748fdf1f0f5b9937d6b6ba55"
   },
   "outputs": [
    {
     "name": "stdout",
     "output_type": "stream",
     "text": [
      "CPU times: user 2.18 s, sys: 1.55 s, total: 3.73 s\n",
      "Wall time: 8.81 s\n"
     ]
    }
   ],
   "source": [
    "%%time\n",
    "import lightgbm as lgb\n",
    "from sklearn.model_selection import train_test_split\n",
    "from sklearn.metrics import mean_squared_error\n",
    "\n",
    "df_y = df_user_train['totals.transactionRevenue_sum']\n",
    "df_x = df_user_train.drop(['date_min', 'date_max', 'totals.transactionRevenue_sum'], axis=1)\n",
    "df_tgt = df_user_test.drop(['date_min', 'date_max', 'totals.transactionRevenue_sum'], axis=1)\n",
    "\n",
    "x_train, x_test, y_train, y_test = train_test_split(df_x, df_y, random_state=1)\n",
    "x_eval, x_valid, y_eval, y_valid = train_test_split(x_test, y_test, random_state=1)\n",
    "\n",
    "lgb_params = {\n",
    "    'learning_rate': 0.03,\n",
    "    'n_estimators': 2000,\n",
    "    'num_leaves': 128,\n",
    "    'subsample': 0.2217,\n",
    "    'colsample_bytree': 0.6810,\n",
    "    'min_split_gain': np.power(10.0, -4.9380),\n",
    "    'reg_alpha': np.power(10.0, -3.2454),\n",
    "    'reg_lambda': np.power(10.0, -4.8571),\n",
    "    'min_child_weight': np.power(10.0, 2),\n",
    "    'silent': True\n",
    "}\n",
    "\n",
    "model = lgb.LGBMRegressor(**lgb_params)\n"
   ]
  },
  {
   "cell_type": "code",
   "execution_count": 34,
   "metadata": {
    "_uuid": "bb1727974a29a6ca748fdf1f0f5b9937d6b6ba55"
   },
   "outputs": [
    {
     "name": "stdout",
     "output_type": "stream",
     "text": [
      "[1]\ttraining's rmse: 2.87483\ttraining's l2: 8.26466\tvalid_1's rmse: 2.79533\tvalid_1's l2: 7.81385\n",
      "Training until validation scores don't improve for 10 rounds.\n",
      "[2]\ttraining's rmse: 2.8429\ttraining's l2: 8.08208\tvalid_1's rmse: 2.7649\tvalid_1's l2: 7.64466\n",
      "[3]\ttraining's rmse: 2.81263\ttraining's l2: 7.9109\tvalid_1's rmse: 2.73627\tvalid_1's l2: 7.48716\n",
      "[4]\ttraining's rmse: 2.78349\ttraining's l2: 7.74783\tvalid_1's rmse: 2.70816\tvalid_1's l2: 7.33414\n",
      "[5]\ttraining's rmse: 2.75584\ttraining's l2: 7.59465\tvalid_1's rmse: 2.68194\tvalid_1's l2: 7.19278\n",
      "[6]\ttraining's rmse: 2.72903\ttraining's l2: 7.44759\tvalid_1's rmse: 2.65643\tvalid_1's l2: 7.05663\n",
      "[7]\ttraining's rmse: 2.70391\ttraining's l2: 7.31113\tvalid_1's rmse: 2.63275\tvalid_1's l2: 6.93137\n",
      "[8]\ttraining's rmse: 2.67988\ttraining's l2: 7.18173\tvalid_1's rmse: 2.61013\tvalid_1's l2: 6.81276\n",
      "[9]\ttraining's rmse: 2.65692\ttraining's l2: 7.05924\tvalid_1's rmse: 2.58924\tvalid_1's l2: 6.70417\n",
      "[10]\ttraining's rmse: 2.63533\ttraining's l2: 6.94496\tvalid_1's rmse: 2.5693\tvalid_1's l2: 6.6013\n",
      "[11]\ttraining's rmse: 2.61385\ttraining's l2: 6.83223\tvalid_1's rmse: 2.54937\tvalid_1's l2: 6.49927\n",
      "[12]\ttraining's rmse: 2.5945\ttraining's l2: 6.73142\tvalid_1's rmse: 2.53197\tvalid_1's l2: 6.41089\n",
      "[13]\ttraining's rmse: 2.57533\ttraining's l2: 6.63233\tvalid_1's rmse: 2.51469\tvalid_1's l2: 6.32366\n",
      "[14]\ttraining's rmse: 2.55665\ttraining's l2: 6.53648\tvalid_1's rmse: 2.49764\tvalid_1's l2: 6.23823\n",
      "[15]\ttraining's rmse: 2.53907\ttraining's l2: 6.44687\tvalid_1's rmse: 2.48122\tvalid_1's l2: 6.15645\n",
      "[16]\ttraining's rmse: 2.52261\ttraining's l2: 6.36358\tvalid_1's rmse: 2.46611\tvalid_1's l2: 6.08169\n",
      "[17]\ttraining's rmse: 2.50741\ttraining's l2: 6.28712\tvalid_1's rmse: 2.45219\tvalid_1's l2: 6.01324\n",
      "[18]\ttraining's rmse: 2.49079\ttraining's l2: 6.20402\tvalid_1's rmse: 2.43717\tvalid_1's l2: 5.9398\n",
      "[19]\ttraining's rmse: 2.47616\ttraining's l2: 6.13136\tvalid_1's rmse: 2.42355\tvalid_1's l2: 5.87361\n",
      "[20]\ttraining's rmse: 2.46161\ttraining's l2: 6.0595\tvalid_1's rmse: 2.41069\tvalid_1's l2: 5.8114\n",
      "[21]\ttraining's rmse: 2.44805\ttraining's l2: 5.99297\tvalid_1's rmse: 2.39871\tvalid_1's l2: 5.75379\n",
      "[22]\ttraining's rmse: 2.43517\ttraining's l2: 5.93004\tvalid_1's rmse: 2.38723\tvalid_1's l2: 5.69886\n",
      "[23]\ttraining's rmse: 2.42253\ttraining's l2: 5.86867\tvalid_1's rmse: 2.3758\tvalid_1's l2: 5.64443\n",
      "[24]\ttraining's rmse: 2.41119\ttraining's l2: 5.81385\tvalid_1's rmse: 2.36623\tvalid_1's l2: 5.59904\n",
      "[25]\ttraining's rmse: 2.39989\ttraining's l2: 5.75947\tvalid_1's rmse: 2.35595\tvalid_1's l2: 5.55052\n",
      "[26]\ttraining's rmse: 2.38891\ttraining's l2: 5.70691\tvalid_1's rmse: 2.34635\tvalid_1's l2: 5.50538\n",
      "[27]\ttraining's rmse: 2.37855\ttraining's l2: 5.6575\tvalid_1's rmse: 2.33723\tvalid_1's l2: 5.46263\n",
      "[28]\ttraining's rmse: 2.36893\ttraining's l2: 5.61185\tvalid_1's rmse: 2.329\tvalid_1's l2: 5.42424\n",
      "[29]\ttraining's rmse: 2.35949\ttraining's l2: 5.56718\tvalid_1's rmse: 2.3211\tvalid_1's l2: 5.38749\n",
      "[30]\ttraining's rmse: 2.35017\ttraining's l2: 5.52329\tvalid_1's rmse: 2.31306\tvalid_1's l2: 5.35024\n",
      "[31]\ttraining's rmse: 2.34157\ttraining's l2: 5.48296\tvalid_1's rmse: 2.30546\tvalid_1's l2: 5.31516\n",
      "[32]\ttraining's rmse: 2.33339\ttraining's l2: 5.44471\tvalid_1's rmse: 2.29842\tvalid_1's l2: 5.28275\n",
      "[33]\ttraining's rmse: 2.3252\ttraining's l2: 5.40656\tvalid_1's rmse: 2.29118\tvalid_1's l2: 5.2495\n",
      "[34]\ttraining's rmse: 2.31754\ttraining's l2: 5.37101\tvalid_1's rmse: 2.28491\tvalid_1's l2: 5.2208\n",
      "[35]\ttraining's rmse: 2.30999\ttraining's l2: 5.33603\tvalid_1's rmse: 2.27847\tvalid_1's l2: 5.19141\n",
      "[36]\ttraining's rmse: 2.30296\ttraining's l2: 5.30363\tvalid_1's rmse: 2.27278\tvalid_1's l2: 5.16553\n",
      "[37]\ttraining's rmse: 2.29599\ttraining's l2: 5.27159\tvalid_1's rmse: 2.26702\tvalid_1's l2: 5.13936\n",
      "[38]\ttraining's rmse: 2.28936\ttraining's l2: 5.24118\tvalid_1's rmse: 2.26176\tvalid_1's l2: 5.11554\n",
      "[39]\ttraining's rmse: 2.28314\ttraining's l2: 5.21275\tvalid_1's rmse: 2.2567\tvalid_1's l2: 5.09269\n",
      "[40]\ttraining's rmse: 2.27735\ttraining's l2: 5.1863\tvalid_1's rmse: 2.25203\tvalid_1's l2: 5.07165\n",
      "[41]\ttraining's rmse: 2.27152\ttraining's l2: 5.1598\tvalid_1's rmse: 2.24713\tvalid_1's l2: 5.04961\n",
      "[42]\ttraining's rmse: 2.26606\ttraining's l2: 5.13502\tvalid_1's rmse: 2.24279\tvalid_1's l2: 5.03012\n",
      "[43]\ttraining's rmse: 2.26065\ttraining's l2: 5.11055\tvalid_1's rmse: 2.2387\tvalid_1's l2: 5.0118\n",
      "[44]\ttraining's rmse: 2.25533\ttraining's l2: 5.08654\tvalid_1's rmse: 2.23498\tvalid_1's l2: 4.99515\n",
      "[45]\ttraining's rmse: 2.25036\ttraining's l2: 5.06412\tvalid_1's rmse: 2.23139\tvalid_1's l2: 4.97911\n",
      "[46]\ttraining's rmse: 2.2455\ttraining's l2: 5.04229\tvalid_1's rmse: 2.22766\tvalid_1's l2: 4.96247\n",
      "[47]\ttraining's rmse: 2.24095\ttraining's l2: 5.02188\tvalid_1's rmse: 2.22449\tvalid_1's l2: 4.94834\n",
      "[48]\ttraining's rmse: 2.23657\ttraining's l2: 5.00222\tvalid_1's rmse: 2.22136\tvalid_1's l2: 4.93446\n",
      "[49]\ttraining's rmse: 2.23232\ttraining's l2: 4.98324\tvalid_1's rmse: 2.21827\tvalid_1's l2: 4.92073\n",
      "[50]\ttraining's rmse: 2.22808\ttraining's l2: 4.96434\tvalid_1's rmse: 2.21539\tvalid_1's l2: 4.90797\n",
      "[51]\ttraining's rmse: 2.2226\ttraining's l2: 4.93995\tvalid_1's rmse: 2.21144\tvalid_1's l2: 4.89046\n",
      "[52]\ttraining's rmse: 2.21868\ttraining's l2: 4.92256\tvalid_1's rmse: 2.20864\tvalid_1's l2: 4.87809\n",
      "[53]\ttraining's rmse: 2.21481\ttraining's l2: 4.90537\tvalid_1's rmse: 2.20604\tvalid_1's l2: 4.86662\n",
      "[54]\ttraining's rmse: 2.20984\ttraining's l2: 4.8834\tvalid_1's rmse: 2.2018\tvalid_1's l2: 4.84792\n",
      "[55]\ttraining's rmse: 2.20621\ttraining's l2: 4.86734\tvalid_1's rmse: 2.19938\tvalid_1's l2: 4.83726\n",
      "[56]\ttraining's rmse: 2.20112\ttraining's l2: 4.84494\tvalid_1's rmse: 2.19575\tvalid_1's l2: 4.82132\n",
      "[57]\ttraining's rmse: 2.19656\ttraining's l2: 4.82488\tvalid_1's rmse: 2.19179\tvalid_1's l2: 4.80393\n",
      "[58]\ttraining's rmse: 2.1922\ttraining's l2: 4.80575\tvalid_1's rmse: 2.18854\tvalid_1's l2: 4.7897\n",
      "[59]\ttraining's rmse: 2.18916\ttraining's l2: 4.79242\tvalid_1's rmse: 2.18687\tvalid_1's l2: 4.7824\n",
      "[60]\ttraining's rmse: 2.18601\ttraining's l2: 4.77864\tvalid_1's rmse: 2.18495\tvalid_1's l2: 4.77399\n",
      "[61]\ttraining's rmse: 2.18297\ttraining's l2: 4.76535\tvalid_1's rmse: 2.18311\tvalid_1's l2: 4.76596\n",
      "[62]\ttraining's rmse: 2.17873\ttraining's l2: 4.74686\tvalid_1's rmse: 2.17932\tvalid_1's l2: 4.74945\n",
      "[63]\ttraining's rmse: 2.17568\ttraining's l2: 4.73357\tvalid_1's rmse: 2.17753\tvalid_1's l2: 4.74165\n",
      "[64]\ttraining's rmse: 2.17316\ttraining's l2: 4.72263\tvalid_1's rmse: 2.1763\tvalid_1's l2: 4.73627\n",
      "[65]\ttraining's rmse: 2.17064\ttraining's l2: 4.71167\tvalid_1's rmse: 2.17523\tvalid_1's l2: 4.73163\n",
      "[66]\ttraining's rmse: 2.16695\ttraining's l2: 4.69568\tvalid_1's rmse: 2.17258\tvalid_1's l2: 4.72012\n",
      "[67]\ttraining's rmse: 2.16304\ttraining's l2: 4.67873\tvalid_1's rmse: 2.16946\tvalid_1's l2: 4.70655\n",
      "[68]\ttraining's rmse: 2.16023\ttraining's l2: 4.6666\tvalid_1's rmse: 2.16727\tvalid_1's l2: 4.69706\n",
      "[69]\ttraining's rmse: 2.15727\ttraining's l2: 4.65382\tvalid_1's rmse: 2.16523\tvalid_1's l2: 4.68821\n",
      "[70]\ttraining's rmse: 2.15468\ttraining's l2: 4.64264\tvalid_1's rmse: 2.16375\tvalid_1's l2: 4.68182\n",
      "[71]\ttraining's rmse: 2.15222\ttraining's l2: 4.63207\tvalid_1's rmse: 2.16226\tvalid_1's l2: 4.67535\n",
      "[72]\ttraining's rmse: 2.14883\ttraining's l2: 4.61747\tvalid_1's rmse: 2.15998\tvalid_1's l2: 4.6655\n",
      "[73]\ttraining's rmse: 2.14542\ttraining's l2: 4.60282\tvalid_1's rmse: 2.15727\tvalid_1's l2: 4.65379\n",
      "[74]\ttraining's rmse: 2.14297\ttraining's l2: 4.59231\tvalid_1's rmse: 2.15567\tvalid_1's l2: 4.64691\n",
      "[75]\ttraining's rmse: 2.14091\ttraining's l2: 4.5835\tvalid_1's rmse: 2.1548\tvalid_1's l2: 4.64318\n",
      "[76]\ttraining's rmse: 2.1378\ttraining's l2: 4.57021\tvalid_1's rmse: 2.15232\tvalid_1's l2: 4.6325\n",
      "[77]\ttraining's rmse: 2.13429\ttraining's l2: 4.55518\tvalid_1's rmse: 2.14967\tvalid_1's l2: 4.62106\n",
      "[78]\ttraining's rmse: 2.13121\ttraining's l2: 4.54207\tvalid_1's rmse: 2.14697\tvalid_1's l2: 4.6095\n",
      "[79]\ttraining's rmse: 2.12821\ttraining's l2: 4.52929\tvalid_1's rmse: 2.14565\tvalid_1's l2: 4.60383\n",
      "[80]\ttraining's rmse: 2.12621\ttraining's l2: 4.52076\tvalid_1's rmse: 2.14496\tvalid_1's l2: 4.60085\n",
      "[81]\ttraining's rmse: 2.12403\ttraining's l2: 4.51148\tvalid_1's rmse: 2.14384\tvalid_1's l2: 4.59606\n",
      "[82]\ttraining's rmse: 2.12198\ttraining's l2: 4.5028\tvalid_1's rmse: 2.14284\tvalid_1's l2: 4.59174\n",
      "[83]\ttraining's rmse: 2.11996\ttraining's l2: 4.49424\tvalid_1's rmse: 2.14184\tvalid_1's l2: 4.58746\n"
     ]
    },
    {
     "name": "stdout",
     "output_type": "stream",
     "text": [
      "[84]\ttraining's rmse: 2.11795\ttraining's l2: 4.48571\tvalid_1's rmse: 2.14095\tvalid_1's l2: 4.58365\n",
      "[85]\ttraining's rmse: 2.11603\ttraining's l2: 4.47757\tvalid_1's rmse: 2.1404\tvalid_1's l2: 4.5813\n",
      "[86]\ttraining's rmse: 2.1139\ttraining's l2: 4.46858\tvalid_1's rmse: 2.13924\tvalid_1's l2: 4.57636\n",
      "[87]\ttraining's rmse: 2.11198\ttraining's l2: 4.46046\tvalid_1's rmse: 2.13857\tvalid_1's l2: 4.57347\n",
      "[88]\ttraining's rmse: 2.11021\ttraining's l2: 4.453\tvalid_1's rmse: 2.13784\tvalid_1's l2: 4.57036\n",
      "[89]\ttraining's rmse: 2.10769\ttraining's l2: 4.44237\tvalid_1's rmse: 2.13611\tvalid_1's l2: 4.56299\n",
      "[90]\ttraining's rmse: 2.10592\ttraining's l2: 4.43489\tvalid_1's rmse: 2.13548\tvalid_1's l2: 4.56029\n",
      "[91]\ttraining's rmse: 2.1041\ttraining's l2: 4.42724\tvalid_1's rmse: 2.13505\tvalid_1's l2: 4.55842\n",
      "[92]\ttraining's rmse: 2.10217\ttraining's l2: 4.41912\tvalid_1's rmse: 2.13427\tvalid_1's l2: 4.55509\n",
      "[93]\ttraining's rmse: 2.09967\ttraining's l2: 4.40861\tvalid_1's rmse: 2.13277\tvalid_1's l2: 4.54869\n",
      "[94]\ttraining's rmse: 2.09798\ttraining's l2: 4.40152\tvalid_1's rmse: 2.13205\tvalid_1's l2: 4.54565\n",
      "[95]\ttraining's rmse: 2.09616\ttraining's l2: 4.3939\tvalid_1's rmse: 2.13119\tvalid_1's l2: 4.54195\n",
      "[96]\ttraining's rmse: 2.09386\ttraining's l2: 4.38425\tvalid_1's rmse: 2.1299\tvalid_1's l2: 4.53648\n",
      "[97]\ttraining's rmse: 2.09216\ttraining's l2: 4.37714\tvalid_1's rmse: 2.12916\tvalid_1's l2: 4.5333\n",
      "[98]\ttraining's rmse: 2.08987\ttraining's l2: 4.36754\tvalid_1's rmse: 2.12761\tvalid_1's l2: 4.52671\n",
      "[99]\ttraining's rmse: 2.08754\ttraining's l2: 4.35782\tvalid_1's rmse: 2.12624\tvalid_1's l2: 4.52088\n",
      "[100]\ttraining's rmse: 2.08537\ttraining's l2: 4.34878\tvalid_1's rmse: 2.12505\tvalid_1's l2: 4.51583\n",
      "[101]\ttraining's rmse: 2.08339\ttraining's l2: 4.3405\tvalid_1's rmse: 2.12385\tvalid_1's l2: 4.51075\n",
      "[102]\ttraining's rmse: 2.08167\ttraining's l2: 4.33335\tvalid_1's rmse: 2.12346\tvalid_1's l2: 4.50909\n",
      "[103]\ttraining's rmse: 2.07935\ttraining's l2: 4.3237\tvalid_1's rmse: 2.12265\tvalid_1's l2: 4.50563\n",
      "[104]\ttraining's rmse: 2.07712\ttraining's l2: 4.31441\tvalid_1's rmse: 2.12212\tvalid_1's l2: 4.50339\n",
      "[105]\ttraining's rmse: 2.07573\ttraining's l2: 4.30866\tvalid_1's rmse: 2.12172\tvalid_1's l2: 4.50168\n",
      "[106]\ttraining's rmse: 2.07365\ttraining's l2: 4.30004\tvalid_1's rmse: 2.12051\tvalid_1's l2: 4.49657\n",
      "[107]\ttraining's rmse: 2.07213\ttraining's l2: 4.29373\tvalid_1's rmse: 2.12012\tvalid_1's l2: 4.49493\n",
      "[108]\ttraining's rmse: 2.06949\ttraining's l2: 4.28278\tvalid_1's rmse: 2.11851\tvalid_1's l2: 4.48808\n",
      "[109]\ttraining's rmse: 2.06762\ttraining's l2: 4.27504\tvalid_1's rmse: 2.11747\tvalid_1's l2: 4.48366\n",
      "[110]\ttraining's rmse: 2.06615\ttraining's l2: 4.26897\tvalid_1's rmse: 2.11692\tvalid_1's l2: 4.48136\n",
      "[111]\ttraining's rmse: 2.06466\ttraining's l2: 4.26281\tvalid_1's rmse: 2.11623\tvalid_1's l2: 4.47844\n",
      "[112]\ttraining's rmse: 2.06319\ttraining's l2: 4.25675\tvalid_1's rmse: 2.11601\tvalid_1's l2: 4.47752\n",
      "[113]\ttraining's rmse: 2.06083\ttraining's l2: 4.24701\tvalid_1's rmse: 2.11498\tvalid_1's l2: 4.47316\n",
      "[114]\ttraining's rmse: 2.05925\ttraining's l2: 4.2405\tvalid_1's rmse: 2.11456\tvalid_1's l2: 4.47135\n",
      "[115]\ttraining's rmse: 2.05686\ttraining's l2: 4.23068\tvalid_1's rmse: 2.11341\tvalid_1's l2: 4.46649\n",
      "[116]\ttraining's rmse: 2.05524\ttraining's l2: 4.22401\tvalid_1's rmse: 2.11277\tvalid_1's l2: 4.46379\n",
      "[117]\ttraining's rmse: 2.05363\ttraining's l2: 4.21741\tvalid_1's rmse: 2.11238\tvalid_1's l2: 4.46213\n",
      "[118]\ttraining's rmse: 2.05132\ttraining's l2: 4.2079\tvalid_1's rmse: 2.11114\tvalid_1's l2: 4.45691\n",
      "[119]\ttraining's rmse: 2.04916\ttraining's l2: 4.19907\tvalid_1's rmse: 2.11096\tvalid_1's l2: 4.45613\n",
      "[120]\ttraining's rmse: 2.04756\ttraining's l2: 4.19252\tvalid_1's rmse: 2.1106\tvalid_1's l2: 4.45464\n",
      "[121]\ttraining's rmse: 2.04531\ttraining's l2: 4.18329\tvalid_1's rmse: 2.10895\tvalid_1's l2: 4.44767\n",
      "[122]\ttraining's rmse: 2.04332\ttraining's l2: 4.17515\tvalid_1's rmse: 2.10773\tvalid_1's l2: 4.44252\n",
      "[123]\ttraining's rmse: 2.04142\ttraining's l2: 4.16739\tvalid_1's rmse: 2.10767\tvalid_1's l2: 4.44227\n",
      "[124]\ttraining's rmse: 2.03973\ttraining's l2: 4.1605\tvalid_1's rmse: 2.10679\tvalid_1's l2: 4.43855\n",
      "[125]\ttraining's rmse: 2.03808\ttraining's l2: 4.15378\tvalid_1's rmse: 2.10636\tvalid_1's l2: 4.43677\n",
      "[126]\ttraining's rmse: 2.03618\ttraining's l2: 4.14604\tvalid_1's rmse: 2.10623\tvalid_1's l2: 4.43622\n",
      "[127]\ttraining's rmse: 2.03465\ttraining's l2: 4.13982\tvalid_1's rmse: 2.10582\tvalid_1's l2: 4.43447\n",
      "[128]\ttraining's rmse: 2.03257\ttraining's l2: 4.13135\tvalid_1's rmse: 2.105\tvalid_1's l2: 4.43102\n",
      "[129]\ttraining's rmse: 2.03109\ttraining's l2: 4.12533\tvalid_1's rmse: 2.10433\tvalid_1's l2: 4.42822\n",
      "[130]\ttraining's rmse: 2.02977\ttraining's l2: 4.11996\tvalid_1's rmse: 2.10403\tvalid_1's l2: 4.42694\n",
      "[131]\ttraining's rmse: 2.02825\ttraining's l2: 4.11378\tvalid_1's rmse: 2.10341\tvalid_1's l2: 4.42432\n",
      "[132]\ttraining's rmse: 2.02635\ttraining's l2: 4.10611\tvalid_1's rmse: 2.10238\tvalid_1's l2: 4.42001\n",
      "[133]\ttraining's rmse: 2.02495\ttraining's l2: 4.10043\tvalid_1's rmse: 2.1021\tvalid_1's l2: 4.41883\n",
      "[134]\ttraining's rmse: 2.02371\ttraining's l2: 4.0954\tvalid_1's rmse: 2.10176\tvalid_1's l2: 4.41741\n",
      "[135]\ttraining's rmse: 2.02229\ttraining's l2: 4.08964\tvalid_1's rmse: 2.10126\tvalid_1's l2: 4.41528\n",
      "[136]\ttraining's rmse: 2.0206\ttraining's l2: 4.08282\tvalid_1's rmse: 2.10069\tvalid_1's l2: 4.41291\n",
      "[137]\ttraining's rmse: 2.01915\ttraining's l2: 4.07696\tvalid_1's rmse: 2.09988\tvalid_1's l2: 4.40951\n",
      "[138]\ttraining's rmse: 2.01725\ttraining's l2: 4.06929\tvalid_1's rmse: 2.09925\tvalid_1's l2: 4.40684\n",
      "[139]\ttraining's rmse: 2.0154\ttraining's l2: 4.06184\tvalid_1's rmse: 2.09823\tvalid_1's l2: 4.40258\n",
      "[140]\ttraining's rmse: 2.01419\ttraining's l2: 4.05698\tvalid_1's rmse: 2.09791\tvalid_1's l2: 4.40122\n",
      "[141]\ttraining's rmse: 2.01218\ttraining's l2: 4.04886\tvalid_1's rmse: 2.09683\tvalid_1's l2: 4.39669\n",
      "[142]\ttraining's rmse: 2.01089\ttraining's l2: 4.04369\tvalid_1's rmse: 2.09621\tvalid_1's l2: 4.39409\n",
      "[143]\ttraining's rmse: 2.00927\ttraining's l2: 4.03715\tvalid_1's rmse: 2.09559\tvalid_1's l2: 4.3915\n",
      "[144]\ttraining's rmse: 2.00809\ttraining's l2: 4.03244\tvalid_1's rmse: 2.09506\tvalid_1's l2: 4.38928\n",
      "[145]\ttraining's rmse: 2.00614\ttraining's l2: 4.02459\tvalid_1's rmse: 2.09394\tvalid_1's l2: 4.3846\n",
      "[146]\ttraining's rmse: 2.00512\ttraining's l2: 4.02049\tvalid_1's rmse: 2.09377\tvalid_1's l2: 4.38388\n",
      "[147]\ttraining's rmse: 2.00417\ttraining's l2: 4.01668\tvalid_1's rmse: 2.09358\tvalid_1's l2: 4.38307\n",
      "[148]\ttraining's rmse: 2.00243\ttraining's l2: 4.00972\tvalid_1's rmse: 2.09263\tvalid_1's l2: 4.37911\n",
      "[149]\ttraining's rmse: 2.00125\ttraining's l2: 4.005\tvalid_1's rmse: 2.09237\tvalid_1's l2: 4.37801\n",
      "[150]\ttraining's rmse: 1.99955\ttraining's l2: 3.9982\tvalid_1's rmse: 2.09142\tvalid_1's l2: 4.37403\n",
      "[151]\ttraining's rmse: 1.99844\ttraining's l2: 3.99378\tvalid_1's rmse: 2.09127\tvalid_1's l2: 4.37339\n",
      "[152]\ttraining's rmse: 1.99724\ttraining's l2: 3.98896\tvalid_1's rmse: 2.09112\tvalid_1's l2: 4.37279\n",
      "[153]\ttraining's rmse: 1.99583\ttraining's l2: 3.98335\tvalid_1's rmse: 2.09044\tvalid_1's l2: 4.36995\n",
      "[154]\ttraining's rmse: 1.99446\ttraining's l2: 3.97786\tvalid_1's rmse: 2.0901\tvalid_1's l2: 4.36853\n",
      "[155]\ttraining's rmse: 1.99308\ttraining's l2: 3.97235\tvalid_1's rmse: 2.08984\tvalid_1's l2: 4.36745\n",
      "[156]\ttraining's rmse: 1.99142\ttraining's l2: 3.96574\tvalid_1's rmse: 2.0884\tvalid_1's l2: 4.36141\n",
      "[157]\ttraining's rmse: 1.99038\ttraining's l2: 3.96163\tvalid_1's rmse: 2.08824\tvalid_1's l2: 4.36073\n",
      "[158]\ttraining's rmse: 1.98943\ttraining's l2: 3.95782\tvalid_1's rmse: 2.08813\tvalid_1's l2: 4.36031\n",
      "[159]\ttraining's rmse: 1.98836\ttraining's l2: 3.95358\tvalid_1's rmse: 2.0879\tvalid_1's l2: 4.35933\n",
      "[160]\ttraining's rmse: 1.98749\ttraining's l2: 3.95013\tvalid_1's rmse: 2.08799\tvalid_1's l2: 4.35971\n",
      "[161]\ttraining's rmse: 1.98645\ttraining's l2: 3.946\tvalid_1's rmse: 2.08772\tvalid_1's l2: 4.35858\n",
      "[162]\ttraining's rmse: 1.98542\ttraining's l2: 3.94188\tvalid_1's rmse: 2.08767\tvalid_1's l2: 4.35838\n",
      "[163]\ttraining's rmse: 1.98379\ttraining's l2: 3.93544\tvalid_1's rmse: 2.08674\tvalid_1's l2: 4.35448\n",
      "[164]\ttraining's rmse: 1.9828\ttraining's l2: 3.93151\tvalid_1's rmse: 2.08657\tvalid_1's l2: 4.35375\n",
      "[165]\ttraining's rmse: 1.98198\ttraining's l2: 3.92823\tvalid_1's rmse: 2.08643\tvalid_1's l2: 4.35319\n",
      "[166]\ttraining's rmse: 1.9804\ttraining's l2: 3.92198\tvalid_1's rmse: 2.08538\tvalid_1's l2: 4.34882\n",
      "[167]\ttraining's rmse: 1.97894\ttraining's l2: 3.91622\tvalid_1's rmse: 2.0846\tvalid_1's l2: 4.34556\n"
     ]
    },
    {
     "name": "stdout",
     "output_type": "stream",
     "text": [
      "[168]\ttraining's rmse: 1.97809\ttraining's l2: 3.91283\tvalid_1's rmse: 2.08449\tvalid_1's l2: 4.3451\n",
      "[169]\ttraining's rmse: 1.97726\ttraining's l2: 3.90954\tvalid_1's rmse: 2.08458\tvalid_1's l2: 4.34549\n",
      "[170]\ttraining's rmse: 1.9758\ttraining's l2: 3.90379\tvalid_1's rmse: 2.08393\tvalid_1's l2: 4.34275\n",
      "[171]\ttraining's rmse: 1.97496\ttraining's l2: 3.90045\tvalid_1's rmse: 2.08376\tvalid_1's l2: 4.34206\n",
      "[172]\ttraining's rmse: 1.97412\ttraining's l2: 3.89715\tvalid_1's rmse: 2.08368\tvalid_1's l2: 4.34172\n",
      "[173]\ttraining's rmse: 1.97333\ttraining's l2: 3.89402\tvalid_1's rmse: 2.08354\tvalid_1's l2: 4.34115\n",
      "[174]\ttraining's rmse: 1.97249\ttraining's l2: 3.89073\tvalid_1's rmse: 2.08339\tvalid_1's l2: 4.34051\n",
      "[175]\ttraining's rmse: 1.97164\ttraining's l2: 3.88736\tvalid_1's rmse: 2.08348\tvalid_1's l2: 4.3409\n",
      "[176]\ttraining's rmse: 1.97068\ttraining's l2: 3.88357\tvalid_1's rmse: 2.08339\tvalid_1's l2: 4.34053\n",
      "[177]\ttraining's rmse: 1.96986\ttraining's l2: 3.88034\tvalid_1's rmse: 2.08338\tvalid_1's l2: 4.34049\n",
      "[178]\ttraining's rmse: 1.96906\ttraining's l2: 3.87722\tvalid_1's rmse: 2.08329\tvalid_1's l2: 4.3401\n",
      "[179]\ttraining's rmse: 1.96801\ttraining's l2: 3.87308\tvalid_1's rmse: 2.08291\tvalid_1's l2: 4.33852\n",
      "[180]\ttraining's rmse: 1.96726\ttraining's l2: 3.8701\tvalid_1's rmse: 2.08295\tvalid_1's l2: 4.33868\n",
      "[181]\ttraining's rmse: 1.9654\ttraining's l2: 3.86281\tvalid_1's rmse: 2.08177\tvalid_1's l2: 4.33377\n",
      "[182]\ttraining's rmse: 1.96459\ttraining's l2: 3.8596\tvalid_1's rmse: 2.08175\tvalid_1's l2: 4.33367\n",
      "[183]\ttraining's rmse: 1.96374\ttraining's l2: 3.85628\tvalid_1's rmse: 2.08177\tvalid_1's l2: 4.33376\n",
      "[184]\ttraining's rmse: 1.96291\ttraining's l2: 3.85302\tvalid_1's rmse: 2.08168\tvalid_1's l2: 4.33338\n",
      "[185]\ttraining's rmse: 1.96205\ttraining's l2: 3.84963\tvalid_1's rmse: 2.08173\tvalid_1's l2: 4.33361\n",
      "[186]\ttraining's rmse: 1.96042\ttraining's l2: 3.84323\tvalid_1's rmse: 2.08121\tvalid_1's l2: 4.33142\n",
      "[187]\ttraining's rmse: 1.95959\ttraining's l2: 3.83997\tvalid_1's rmse: 2.08111\tvalid_1's l2: 4.33102\n",
      "[188]\ttraining's rmse: 1.95814\ttraining's l2: 3.83432\tvalid_1's rmse: 2.08128\tvalid_1's l2: 4.33174\n",
      "[189]\ttraining's rmse: 1.95656\ttraining's l2: 3.82811\tvalid_1's rmse: 2.08087\tvalid_1's l2: 4.33001\n",
      "[190]\ttraining's rmse: 1.95569\ttraining's l2: 3.82474\tvalid_1's rmse: 2.08063\tvalid_1's l2: 4.32904\n",
      "[191]\ttraining's rmse: 1.95482\ttraining's l2: 3.8213\tvalid_1's rmse: 2.08068\tvalid_1's l2: 4.32924\n",
      "[192]\ttraining's rmse: 1.95394\ttraining's l2: 3.81788\tvalid_1's rmse: 2.08059\tvalid_1's l2: 4.32884\n",
      "[193]\ttraining's rmse: 1.95247\ttraining's l2: 3.81213\tvalid_1's rmse: 2.07986\tvalid_1's l2: 4.32583\n",
      "[194]\ttraining's rmse: 1.95175\ttraining's l2: 3.80931\tvalid_1's rmse: 2.07978\tvalid_1's l2: 4.32547\n",
      "[195]\ttraining's rmse: 1.95101\ttraining's l2: 3.80645\tvalid_1's rmse: 2.07975\tvalid_1's l2: 4.32535\n",
      "[196]\ttraining's rmse: 1.95028\ttraining's l2: 3.80358\tvalid_1's rmse: 2.07962\tvalid_1's l2: 4.32481\n",
      "[197]\ttraining's rmse: 1.94953\ttraining's l2: 3.80068\tvalid_1's rmse: 2.07958\tvalid_1's l2: 4.32466\n",
      "[198]\ttraining's rmse: 1.94869\ttraining's l2: 3.7974\tvalid_1's rmse: 2.07942\tvalid_1's l2: 4.32399\n",
      "[199]\ttraining's rmse: 1.94733\ttraining's l2: 3.79209\tvalid_1's rmse: 2.07903\tvalid_1's l2: 4.32237\n",
      "[200]\ttraining's rmse: 1.94647\ttraining's l2: 3.78876\tvalid_1's rmse: 2.07895\tvalid_1's l2: 4.32205\n",
      "[201]\ttraining's rmse: 1.94526\ttraining's l2: 3.78404\tvalid_1's rmse: 2.0784\tvalid_1's l2: 4.31976\n",
      "[202]\ttraining's rmse: 1.94417\ttraining's l2: 3.77979\tvalid_1's rmse: 2.07852\tvalid_1's l2: 4.32025\n",
      "[203]\ttraining's rmse: 1.94345\ttraining's l2: 3.777\tvalid_1's rmse: 2.07846\tvalid_1's l2: 4.31999\n",
      "[204]\ttraining's rmse: 1.94271\ttraining's l2: 3.77414\tvalid_1's rmse: 2.0785\tvalid_1's l2: 4.32015\n",
      "[205]\ttraining's rmse: 1.94185\ttraining's l2: 3.7708\tvalid_1's rmse: 2.07833\tvalid_1's l2: 4.31944\n",
      "[206]\ttraining's rmse: 1.94124\ttraining's l2: 3.76841\tvalid_1's rmse: 2.07848\tvalid_1's l2: 4.32008\n",
      "[207]\ttraining's rmse: 1.93983\ttraining's l2: 3.76294\tvalid_1's rmse: 2.0777\tvalid_1's l2: 4.31683\n",
      "[208]\ttraining's rmse: 1.93844\ttraining's l2: 3.75754\tvalid_1's rmse: 2.07733\tvalid_1's l2: 4.31529\n",
      "[209]\ttraining's rmse: 1.9372\ttraining's l2: 3.75274\tvalid_1's rmse: 2.07641\tvalid_1's l2: 4.3115\n",
      "[210]\ttraining's rmse: 1.9364\ttraining's l2: 3.74963\tvalid_1's rmse: 2.07636\tvalid_1's l2: 4.31125\n",
      "[211]\ttraining's rmse: 1.9357\ttraining's l2: 3.74692\tvalid_1's rmse: 2.07635\tvalid_1's l2: 4.31124\n",
      "[212]\ttraining's rmse: 1.93498\ttraining's l2: 3.74416\tvalid_1's rmse: 2.07643\tvalid_1's l2: 4.31155\n",
      "[213]\ttraining's rmse: 1.93417\ttraining's l2: 3.741\tvalid_1's rmse: 2.07622\tvalid_1's l2: 4.31069\n",
      "[214]\ttraining's rmse: 1.93334\ttraining's l2: 3.73779\tvalid_1's rmse: 2.07614\tvalid_1's l2: 4.31037\n",
      "[215]\ttraining's rmse: 1.93238\ttraining's l2: 3.7341\tvalid_1's rmse: 2.07623\tvalid_1's l2: 4.31075\n",
      "[216]\ttraining's rmse: 1.93153\ttraining's l2: 3.7308\tvalid_1's rmse: 2.07595\tvalid_1's l2: 4.30958\n",
      "[217]\ttraining's rmse: 1.93076\ttraining's l2: 3.72783\tvalid_1's rmse: 2.07598\tvalid_1's l2: 4.30971\n",
      "[218]\ttraining's rmse: 1.93008\ttraining's l2: 3.72521\tvalid_1's rmse: 2.07608\tvalid_1's l2: 4.31011\n",
      "[219]\ttraining's rmse: 1.92886\ttraining's l2: 3.7205\tvalid_1's rmse: 2.07588\tvalid_1's l2: 4.3093\n",
      "[220]\ttraining's rmse: 1.92763\ttraining's l2: 3.71577\tvalid_1's rmse: 2.07509\tvalid_1's l2: 4.306\n",
      "[221]\ttraining's rmse: 1.92687\ttraining's l2: 3.71282\tvalid_1's rmse: 2.07498\tvalid_1's l2: 4.30556\n",
      "[222]\ttraining's rmse: 1.92621\ttraining's l2: 3.71029\tvalid_1's rmse: 2.07495\tvalid_1's l2: 4.3054\n",
      "[223]\ttraining's rmse: 1.92545\ttraining's l2: 3.70736\tvalid_1's rmse: 2.07504\tvalid_1's l2: 4.30579\n",
      "[224]\ttraining's rmse: 1.92478\ttraining's l2: 3.70478\tvalid_1's rmse: 2.07495\tvalid_1's l2: 4.30543\n",
      "[225]\ttraining's rmse: 1.92343\ttraining's l2: 3.69958\tvalid_1's rmse: 2.074\tvalid_1's l2: 4.30146\n",
      "[226]\ttraining's rmse: 1.92287\ttraining's l2: 3.69743\tvalid_1's rmse: 2.07397\tvalid_1's l2: 4.30137\n",
      "[227]\ttraining's rmse: 1.92221\ttraining's l2: 3.69487\tvalid_1's rmse: 2.07388\tvalid_1's l2: 4.30097\n",
      "[228]\ttraining's rmse: 1.9215\ttraining's l2: 3.69216\tvalid_1's rmse: 2.07379\tvalid_1's l2: 4.30059\n",
      "[229]\ttraining's rmse: 1.92097\ttraining's l2: 3.69012\tvalid_1's rmse: 2.07382\tvalid_1's l2: 4.30072\n",
      "[230]\ttraining's rmse: 1.92016\ttraining's l2: 3.68701\tvalid_1's rmse: 2.07378\tvalid_1's l2: 4.30058\n",
      "[231]\ttraining's rmse: 1.91954\ttraining's l2: 3.68462\tvalid_1's rmse: 2.07383\tvalid_1's l2: 4.30076\n",
      "[232]\ttraining's rmse: 1.91883\ttraining's l2: 3.6819\tvalid_1's rmse: 2.07389\tvalid_1's l2: 4.30103\n",
      "[233]\ttraining's rmse: 1.9179\ttraining's l2: 3.67833\tvalid_1's rmse: 2.07368\tvalid_1's l2: 4.30016\n",
      "[234]\ttraining's rmse: 1.9171\ttraining's l2: 3.67528\tvalid_1's rmse: 2.07359\tvalid_1's l2: 4.29978\n",
      "[235]\ttraining's rmse: 1.91647\ttraining's l2: 3.67285\tvalid_1's rmse: 2.07369\tvalid_1's l2: 4.30018\n",
      "[236]\ttraining's rmse: 1.91574\ttraining's l2: 3.67007\tvalid_1's rmse: 2.07377\tvalid_1's l2: 4.30052\n",
      "[237]\ttraining's rmse: 1.91475\ttraining's l2: 3.66626\tvalid_1's rmse: 2.07348\tvalid_1's l2: 4.29933\n",
      "[238]\ttraining's rmse: 1.9142\ttraining's l2: 3.66416\tvalid_1's rmse: 2.07351\tvalid_1's l2: 4.29946\n",
      "[239]\ttraining's rmse: 1.9128\ttraining's l2: 3.65881\tvalid_1's rmse: 2.07313\tvalid_1's l2: 4.29787\n",
      "[240]\ttraining's rmse: 1.91108\ttraining's l2: 3.65221\tvalid_1's rmse: 2.07338\tvalid_1's l2: 4.29891\n",
      "[241]\ttraining's rmse: 1.91053\ttraining's l2: 3.65011\tvalid_1's rmse: 2.07353\tvalid_1's l2: 4.29952\n",
      "[242]\ttraining's rmse: 1.90953\ttraining's l2: 3.64631\tvalid_1's rmse: 2.07293\tvalid_1's l2: 4.29704\n",
      "[243]\ttraining's rmse: 1.90875\ttraining's l2: 3.64334\tvalid_1's rmse: 2.07289\tvalid_1's l2: 4.29689\n",
      "[244]\ttraining's rmse: 1.90814\ttraining's l2: 3.64101\tvalid_1's rmse: 2.07295\tvalid_1's l2: 4.29712\n",
      "[245]\ttraining's rmse: 1.90753\ttraining's l2: 3.63865\tvalid_1's rmse: 2.07298\tvalid_1's l2: 4.29723\n",
      "[246]\ttraining's rmse: 1.90685\ttraining's l2: 3.63609\tvalid_1's rmse: 2.07292\tvalid_1's l2: 4.29699\n",
      "[247]\ttraining's rmse: 1.90595\ttraining's l2: 3.63263\tvalid_1's rmse: 2.07277\tvalid_1's l2: 4.29638\n",
      "[248]\ttraining's rmse: 1.90541\ttraining's l2: 3.63057\tvalid_1's rmse: 2.07287\tvalid_1's l2: 4.29678\n",
      "[249]\ttraining's rmse: 1.90418\ttraining's l2: 3.6259\tvalid_1's rmse: 2.07238\tvalid_1's l2: 4.29475\n",
      "[250]\ttraining's rmse: 1.90341\ttraining's l2: 3.62295\tvalid_1's rmse: 2.07234\tvalid_1's l2: 4.29457\n"
     ]
    },
    {
     "name": "stdout",
     "output_type": "stream",
     "text": [
      "[251]\ttraining's rmse: 1.90278\ttraining's l2: 3.62059\tvalid_1's rmse: 2.07235\tvalid_1's l2: 4.29464\n",
      "[252]\ttraining's rmse: 1.90218\ttraining's l2: 3.61827\tvalid_1's rmse: 2.07242\tvalid_1's l2: 4.29491\n",
      "[253]\ttraining's rmse: 1.9014\ttraining's l2: 3.61531\tvalid_1's rmse: 2.0723\tvalid_1's l2: 4.29442\n",
      "[254]\ttraining's rmse: 1.90087\ttraining's l2: 3.6133\tvalid_1's rmse: 2.07234\tvalid_1's l2: 4.2946\n",
      "[255]\ttraining's rmse: 1.89991\ttraining's l2: 3.60967\tvalid_1's rmse: 2.07155\tvalid_1's l2: 4.29131\n",
      "[256]\ttraining's rmse: 1.89872\ttraining's l2: 3.60515\tvalid_1's rmse: 2.07125\tvalid_1's l2: 4.29008\n",
      "[257]\ttraining's rmse: 1.89797\ttraining's l2: 3.60228\tvalid_1's rmse: 2.07107\tvalid_1's l2: 4.28933\n",
      "[258]\ttraining's rmse: 1.89741\ttraining's l2: 3.60018\tvalid_1's rmse: 2.07113\tvalid_1's l2: 4.28958\n",
      "[259]\ttraining's rmse: 1.89677\ttraining's l2: 3.59772\tvalid_1's rmse: 2.07121\tvalid_1's l2: 4.2899\n",
      "[260]\ttraining's rmse: 1.89623\ttraining's l2: 3.5957\tvalid_1's rmse: 2.07122\tvalid_1's l2: 4.28997\n",
      "[261]\ttraining's rmse: 1.89513\ttraining's l2: 3.59154\tvalid_1's rmse: 2.07147\tvalid_1's l2: 4.29097\n",
      "[262]\ttraining's rmse: 1.89459\ttraining's l2: 3.58947\tvalid_1's rmse: 2.07143\tvalid_1's l2: 4.29082\n",
      "[263]\ttraining's rmse: 1.89344\ttraining's l2: 3.58511\tvalid_1's rmse: 2.07067\tvalid_1's l2: 4.28767\n",
      "[264]\ttraining's rmse: 1.89284\ttraining's l2: 3.58285\tvalid_1's rmse: 2.07069\tvalid_1's l2: 4.28775\n",
      "[265]\ttraining's rmse: 1.8921\ttraining's l2: 3.58005\tvalid_1's rmse: 2.07081\tvalid_1's l2: 4.28824\n",
      "[266]\ttraining's rmse: 1.89127\ttraining's l2: 3.57691\tvalid_1's rmse: 2.07078\tvalid_1's l2: 4.28811\n",
      "[267]\ttraining's rmse: 1.89067\ttraining's l2: 3.57464\tvalid_1's rmse: 2.07088\tvalid_1's l2: 4.28854\n",
      "[268]\ttraining's rmse: 1.88984\ttraining's l2: 3.57148\tvalid_1's rmse: 2.07104\tvalid_1's l2: 4.2892\n",
      "[269]\ttraining's rmse: 1.8892\ttraining's l2: 3.56908\tvalid_1's rmse: 2.07116\tvalid_1's l2: 4.2897\n",
      "[270]\ttraining's rmse: 1.88856\ttraining's l2: 3.56668\tvalid_1's rmse: 2.07118\tvalid_1's l2: 4.28979\n",
      "[271]\ttraining's rmse: 1.88804\ttraining's l2: 3.56468\tvalid_1's rmse: 2.07117\tvalid_1's l2: 4.28976\n",
      "[272]\ttraining's rmse: 1.88744\ttraining's l2: 3.56245\tvalid_1's rmse: 2.07121\tvalid_1's l2: 4.28991\n",
      "[273]\ttraining's rmse: 1.88661\ttraining's l2: 3.55928\tvalid_1's rmse: 2.07081\tvalid_1's l2: 4.28827\n",
      "Early stopping, best iteration is:\n",
      "[263]\ttraining's rmse: 1.89344\ttraining's l2: 3.58511\tvalid_1's rmse: 2.07067\tvalid_1's l2: 4.28767\n",
      "CPU times: user 2min 15s, sys: 2.29 s, total: 2min 18s\n",
      "Wall time: 49.5 s\n"
     ]
    },
    {
     "data": {
      "text/plain": [
       "LGBMRegressor(boosting_type='gbdt', class_weight=None, colsample_bytree=0.681,\n",
       "       importance_type='split', learning_rate=0.03, max_depth=-1,\n",
       "       min_child_samples=20, min_child_weight=100.0,\n",
       "       min_split_gain=1.1534532578210929e-05, n_estimators=2000, n_jobs=-1,\n",
       "       num_leaves=128, objective=None, random_state=None,\n",
       "       reg_alpha=0.00056832923913833827, reg_lambda=1.3896326196366016e-05,\n",
       "       silent=True, subsample=0.2217, subsample_for_bin=200000,\n",
       "       subsample_freq=0)"
      ]
     },
     "execution_count": 34,
     "metadata": {},
     "output_type": "execute_result"
    }
   ],
   "source": [
    "%%time\n",
    "model.fit(x_train, \n",
    "          y_train,\n",
    "          eval_set=[(x_train, y_train),(x_eval, y_eval)],\n",
    "          eval_metric='rmse',\n",
    "          early_stopping_rounds=10)"
   ]
  },
  {
   "cell_type": "markdown",
   "metadata": {
    "_uuid": "2d538303975731b1ac85f5099b7dad2ad44b6adb"
   },
   "source": [
    "## モデル保存"
   ]
  },
  {
   "cell_type": "code",
   "execution_count": 35,
   "metadata": {
    "_uuid": "879e1c1dc85c0e23bdb3bab477223cde9ff1d6e2"
   },
   "outputs": [
    {
     "name": "stdout",
     "output_type": "stream",
     "text": [
      "CPU times: user 423 ms, sys: 4.12 ms, total: 427 ms\n",
      "Wall time: 144 ms\n"
     ]
    }
   ],
   "source": [
    "%%time\n",
    "import pickle\n",
    "filename = 'lgb_model.sav'\n",
    "pickle.dump(model, open(path +filename, 'wb'))"
   ]
  },
  {
   "cell_type": "markdown",
   "metadata": {
    "_uuid": "d3de51445e46fdb93f72fe7e8acca299c2355428"
   },
   "source": [
    "## モデル読み込み"
   ]
  },
  {
   "cell_type": "code",
   "execution_count": null,
   "metadata": {
    "_uuid": "fc7df5e25f2886ac235b1a60d0dec54a3dd6497c",
    "collapsed": true
   },
   "outputs": [],
   "source": [
    "import pickle\n",
    "filename = 'lgb_model.sav'\n",
    "model = pickle.load(open(path +filename, 'rb'))"
   ]
  },
  {
   "cell_type": "markdown",
   "metadata": {},
   "source": [
    "## モデル評価"
   ]
  },
  {
   "cell_type": "code",
   "execution_count": 36,
   "metadata": {
    "_uuid": "bb1727974a29a6ca748fdf1f0f5b9937d6b6ba55"
   },
   "outputs": [
    {
     "name": "stdout",
     "output_type": "stream",
     "text": [
      "2.10716869906\n"
     ]
    }
   ],
   "source": [
    "y_pred = model.predict(x_valid)\n",
    "mse = mean_squared_error(y_valid, y_pred)\n",
    "rmse = np.sqrt(mse)\n",
    "print(rmse)"
   ]
  },
  {
   "cell_type": "markdown",
   "metadata": {},
   "source": [
    "# 予測Outputファイル作成"
   ]
  },
  {
   "cell_type": "code",
   "execution_count": 37,
   "metadata": {
    "_uuid": "c9bbcf3033c47309a2fa0b614d1b9ee8c043b039"
   },
   "outputs": [
    {
     "name": "stdout",
     "output_type": "stream",
     "text": [
      "CPU times: user 24.5 s, sys: 1.27 s, total: 25.7 s\n",
      "Wall time: 9.25 s\n"
     ]
    }
   ],
   "source": [
    "%%time\n",
    "pred_tgt = model.predict(df_tgt)"
   ]
  },
  {
   "cell_type": "code",
   "execution_count": 38,
   "metadata": {
    "_uuid": "c9bbcf3033c47309a2fa0b614d1b9ee8c043b039",
    "collapsed": true
   },
   "outputs": [],
   "source": [
    "pred_tgt[pred_tgt<0] = 0"
   ]
  },
  {
   "cell_type": "code",
   "execution_count": 40,
   "metadata": {
    "_uuid": "d4b1490fa938064abb4a5e2c4857c34fd156d323",
    "collapsed": true
   },
   "outputs": [],
   "source": [
    "df_tgt['PredictedLogRevenue'] = pred_tgt\n",
    "df_tgt[['PredictedLogRevenue']].to_csv(path + \"output.csv\", index=True)"
   ]
  }
 ],
 "metadata": {
  "kernelspec": {
   "display_name": "Python 3",
   "language": "python",
   "name": "python3"
  },
  "language_info": {
   "codemirror_mode": {
    "name": "ipython",
    "version": 3
   },
   "file_extension": ".py",
   "mimetype": "text/x-python",
   "name": "python",
   "nbconvert_exporter": "python",
   "pygments_lexer": "ipython3",
   "version": "3.6.3"
  },
  "toc": {
   "base_numbering": 1,
   "nav_menu": {},
   "number_sections": true,
   "sideBar": true,
   "skip_h1_title": false,
   "title_cell": "Table of Contents",
   "title_sidebar": "Contents",
   "toc_cell": false,
   "toc_position": {},
   "toc_section_display": true,
   "toc_window_display": true
  }
 },
 "nbformat": 4,
 "nbformat_minor": 1
}
