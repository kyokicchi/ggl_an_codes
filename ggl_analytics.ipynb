{
 "cells": [
  {
   "cell_type": "markdown",
   "metadata": {},
   "source": [
    "\n",
    "https://www.kaggle.com/julian3833/1-quick-start-read-csv-and-flatten-json-fields\n",
    "\n",
    "https://www.kaggle.com/artgor/nn-baseline\n",
    "\n",
    "https://www.kaggle.com/ogrellier/user-level-lightgbm-lb-1-4480\n",
    "\n",
    "https://www.kaggle.com/dimitreoliveira/deep-learning-keras-ga-revenue-prediction\n"
   ]
  },
  {
   "cell_type": "markdown",
   "metadata": {},
   "source": [
    "# parse CSV"
   ]
  },
  {
   "cell_type": "code",
   "execution_count": 2,
   "metadata": {
    "_cell_guid": "b1076dfc-b9ad-4769-8c92-a6c4dae69d19",
    "_uuid": "8f2839f25d086af736a60e9eeb907d3b93b6e0e5"
   },
   "outputs": [
    {
     "name": "stdout",
     "output_type": "stream",
     "text": [
      "['test_adj.csv', 'test_dropped.csv', 'sample_submission.csv', 'train_dropped.csv', 'user_test.csv', 'train_orig.csv', 'test_parsed.csv', 'user_test_n.csv', 'train_parsed.csv', 'train_adj.csv', 'test_orig.csv', 'user_train.csv', 'user_train_n.csv']\n"
     ]
    }
   ],
   "source": [
    "import os\n",
    "import json\n",
    "import numpy as np\n",
    "import pandas as pd\n",
    "from pandas.io.json import json_normalize\n",
    "from sklearn.preprocessing import LabelEncoder\n",
    "\n",
    "path = '../data/'\n",
    "print(os.listdir(path))"
   ]
  },
  {
   "cell_type": "code",
   "execution_count": 2,
   "metadata": {
    "_uuid": "4a23799ac3b6e7d5b1eb451ba69ab6d2fa74b585"
   },
   "outputs": [],
   "source": [
    "def load_df(csv_path, nrows=None):\n",
    "    JSON_COLUMNS = ['device', 'geoNetwork', 'totals', 'trafficSource']\n",
    "    \n",
    "    df = pd.read_csv(csv_path, \n",
    "                     converters={column: json.loads for column in JSON_COLUMNS}, \n",
    "                     dtype={'fullVisitorId': 'str'}, \n",
    "                     nrows=nrows)\n",
    "    \n",
    "    for column in JSON_COLUMNS:\n",
    "        column_as_df = json_normalize(df[column])\n",
    "        df = df.drop(column, axis=1).merge(column_as_df, right_index=True, left_index=True)\n",
    "    return df"
   ]
  },
  {
   "cell_type": "code",
   "execution_count": 5,
   "metadata": {
    "_uuid": "a9f9fce9f30e29128f38851a2023569677d88cf3"
   },
   "outputs": [
    {
     "name": "stdout",
     "output_type": "stream",
     "text": [
      "CPU times: user 1min 47s, sys: 3.06 s, total: 1min 50s\n",
      "Wall time: 1min 50s\n"
     ]
    }
   ],
   "source": [
    "%%time\n",
    "df_train = load_df(path + 'train_orig.csv')\n",
    "df_test = load_df(path + 'test_orig.csv')\n",
    "\n",
    "df_train.to_csv(path + 'train_parsed.csv')\n",
    "df_test.to_csv(path + 'test_parsed.csv')"
   ]
  },
  {
   "cell_type": "markdown",
   "metadata": {
    "_uuid": "630c9e566ecd7d55591dbf5279a48079e960b97b"
   },
   "source": [
    "# drop columns"
   ]
  },
  {
   "cell_type": "code",
   "execution_count": 13,
   "metadata": {},
   "outputs": [
    {
     "name": "stdout",
     "output_type": "stream",
     "text": [
      "['train_orig.csv', 'test_parsed.csv', 'train_parsed.csv', 'test_orig.csv']\n"
     ]
    }
   ],
   "source": [
    "import os\n",
    "import json\n",
    "import numpy as np\n",
    "import pandas as pd\n",
    "from pandas.io.json import json_normalize\n",
    "from sklearn.preprocessing import LabelEncoder\n",
    "\n",
    "path = '../data/'\n",
    "print(os.listdir(path))"
   ]
  },
  {
   "cell_type": "code",
   "execution_count": 14,
   "metadata": {},
   "outputs": [
    {
     "name": "stderr",
     "output_type": "stream",
     "text": [
      "<string>:2: DtypeWarning: Columns (50) have mixed types. Specify dtype option on import or set low_memory=False.\n"
     ]
    },
    {
     "name": "stdout",
     "output_type": "stream",
     "text": [
      "CPU times: user 21.6 s, sys: 929 ms, total: 22.6 s\n",
      "Wall time: 22.2 s\n"
     ]
    }
   ],
   "source": [
    "%%time\n",
    "df_train = pd.read_csv(path +'train_parsed.csv', index_col = 0, dtype={'fullVisitorId': 'str'})\n",
    "df_test = pd.read_csv(path +'test_parsed.csv', index_col = 0, dtype={'fullVisitorId': 'str'})"
   ]
  },
  {
   "cell_type": "markdown",
   "metadata": {},
   "source": [
    "## Align total # of colums"
   ]
  },
  {
   "cell_type": "code",
   "execution_count": 15,
   "metadata": {},
   "outputs": [
    {
     "name": "stdout",
     "output_type": "stream",
     "text": [
      "CPU times: user 6.34 s, sys: 643 ms, total: 6.98 s\n",
      "Wall time: 6.37 s\n"
     ]
    }
   ],
   "source": [
    "%%time\n",
    "df_train, df_test = df_train.align(df_test, join='outer', axis=1)\n",
    "\n",
    "df_train.replace(to_replace=np.nan, value=0, inplace=True)\n",
    "df_test.replace(to_replace=np.nan, value=0, inplace=True)"
   ]
  },
  {
   "cell_type": "code",
   "execution_count": 16,
   "metadata": {},
   "outputs": [
    {
     "name": "stdout",
     "output_type": "stream",
     "text": [
      "(903653, 55) (804684, 55)\n"
     ]
    }
   ],
   "source": [
    "print(df_train.shape, df_test.shape, )"
   ]
  },
  {
   "cell_type": "markdown",
   "metadata": {},
   "source": [
    "## determine columns to drop"
   ]
  },
  {
   "cell_type": "code",
   "execution_count": 17,
   "metadata": {},
   "outputs": [
    {
     "name": "stdout",
     "output_type": "stream",
     "text": [
      "CPU times: user 4.88 s, sys: 32.3 ms, total: 4.91 s\n",
      "Wall time: 4.6 s\n"
     ]
    }
   ],
   "source": [
    "%%time\n",
    "\n",
    "cols_not_unique = [col for col in df_train.columns if df_train[col].nunique() < 2]\n",
    "\n",
    "cols_null_ratio_high = [col for col in df_train.columns if sum(df_train[col].isnull()) / len(df_train) >= 0.6]\n",
    "\n",
    "cols_not_much_var = []\n",
    "df_num = df_train.select_dtypes(include=[np.number])\n",
    "df_var = df_num.var()\n",
    "for x in df_num:\n",
    "    if df_var[x] <= 30:\n",
    "        cols_not_much_var.append(x)\n",
    "\n"
   ]
  },
  {
   "cell_type": "code",
   "execution_count": 18,
   "metadata": {},
   "outputs": [
    {
     "data": {
      "text/plain": [
       "['screenColors',\n",
       " 'longitude',\n",
       " 'mobileInputSelector',\n",
       " 'browserVersion',\n",
       " 'bounces',\n",
       " 'adwordsClickInfo.isVideoAd',\n",
       " 'networkLocation',\n",
       " 'cityId',\n",
       " 'screenResolution',\n",
       " 'adwordsClickInfo.page',\n",
       " 'browserSize',\n",
       " 'language',\n",
       " 'mobileDeviceInfo',\n",
       " 'flashVersion',\n",
       " 'socialEngagementType',\n",
       " 'operatingSystemVersion',\n",
       " 'latitude',\n",
       " 'newVisits',\n",
       " 'mobileDeviceMarketingName',\n",
       " 'adwordsClickInfo.criteriaParameters',\n",
       " 'visits',\n",
       " 'mobileDeviceBranding',\n",
       " 'mobileDeviceModel']"
      ]
     },
     "execution_count": 18,
     "metadata": {},
     "output_type": "execute_result"
    }
   ],
   "source": [
    "no_touch = ['fullVisitorId','transactionRevenue']\n",
    "\n",
    "del_cols = []\n",
    "del_cols.extend(cols_not_unique)\n",
    "del_cols.extend(cols_null_ratio_high)\n",
    "del_cols.extend(cols_not_much_var)\n",
    "del_cols = list(set(del_cols))\n",
    "\n",
    "del_cols = [x for x in del_cols if x not in no_touch]\n",
    "\n",
    "del_cols"
   ]
  },
  {
   "cell_type": "code",
   "execution_count": 19,
   "metadata": {},
   "outputs": [],
   "source": [
    "df_train.drop(del_cols, axis=1, inplace=True)\n",
    "df_test.drop(del_cols, axis=1, inplace=True)"
   ]
  },
  {
   "cell_type": "code",
   "execution_count": 20,
   "metadata": {},
   "outputs": [
    {
     "name": "stdout",
     "output_type": "stream",
     "text": [
      "(903653, 32) (804684, 32)\n"
     ]
    }
   ],
   "source": [
    "print(df_train.shape, df_test.shape, )"
   ]
  },
  {
   "cell_type": "code",
   "execution_count": 21,
   "metadata": {},
   "outputs": [
    {
     "name": "stdout",
     "output_type": "stream",
     "text": [
      "CPU times: user 27.5 s, sys: 957 ms, total: 28.4 s\n",
      "Wall time: 27.7 s\n"
     ]
    }
   ],
   "source": [
    "%%time\n",
    "df_train = df_train.fillna(0)\n",
    "df_test = df_test.fillna(0)\n",
    "\n",
    "df_train.to_csv(path + 'train_dropped.csv')\n",
    "df_test.to_csv(path + 'test_dropped.csv')"
   ]
  },
  {
   "cell_type": "markdown",
   "metadata": {},
   "source": [
    "# process columns"
   ]
  },
  {
   "cell_type": "code",
   "execution_count": 1,
   "metadata": {
    "scrolled": true
   },
   "outputs": [
    {
     "name": "stdout",
     "output_type": "stream",
     "text": [
      "['test_dropped.csv', 'train_dropped.csv', 'train_orig.csv', 'test_parsed.csv', 'train_parsed.csv', 'test_orig.csv']\n"
     ]
    }
   ],
   "source": [
    "import os\n",
    "import json\n",
    "import numpy as np\n",
    "import pandas as pd\n",
    "from pandas.io.json import json_normalize\n",
    "from sklearn.preprocessing import LabelEncoder\n",
    "\n",
    "path = '../data/'\n",
    "print(os.listdir(path))"
   ]
  },
  {
   "cell_type": "code",
   "execution_count": 2,
   "metadata": {},
   "outputs": [
    {
     "name": "stderr",
     "output_type": "stream",
     "text": [
      "<string>:2: DtypeWarning: Columns (7) have mixed types. Specify dtype option on import or set low_memory=False.\n"
     ]
    },
    {
     "name": "stdout",
     "output_type": "stream",
     "text": [
      "CPU times: user 9.85 s, sys: 562 ms, total: 10.4 s\n",
      "Wall time: 10.1 s\n"
     ]
    }
   ],
   "source": [
    "%%time\n",
    "df_train = pd.read_csv(path +'train_dropped.csv', index_col = 0, dtype={'fullVisitorId': 'str'})\n",
    "df_test = pd.read_csv(path +'test_dropped.csv', index_col = 0, dtype={'fullVisitorId': 'str'})"
   ]
  },
  {
   "cell_type": "markdown",
   "metadata": {
    "_uuid": "073dad5a0d127383ed96406b2b2a6de70cd10272"
   },
   "source": [
    "## only for train dataset"
   ]
  },
  {
   "cell_type": "code",
   "execution_count": 3,
   "metadata": {
    "_uuid": "337145bd03ef1d0bcfadb9ec4b5dbc54b4202b34"
   },
   "outputs": [],
   "source": [
    "# to float and log\n",
    "df_train['transactionRevenue'] = df_train['transactionRevenue'].astype(float)\n",
    "df_train['transactionRevenue'] = np.log1p(df_train['transactionRevenue'].fillna(0))\n"
   ]
  },
  {
   "cell_type": "markdown",
   "metadata": {},
   "source": [
    "## to both train and test datasets"
   ]
  },
  {
   "cell_type": "code",
   "execution_count": 4,
   "metadata": {
    "scrolled": true
   },
   "outputs": [
    {
     "name": "stdout",
     "output_type": "stream",
     "text": [
      "(903653, 32) (804684, 32)\n",
      "Index(['adContent', 'adwordsClickInfo.adNetworkType', 'adwordsClickInfo.gclId',\n",
      "       'adwordsClickInfo.slot', 'browser', 'campaign', 'campaignCode',\n",
      "       'channelGrouping', 'city', 'continent', 'country', 'date',\n",
      "       'deviceCategory', 'fullVisitorId', 'hits', 'isMobile', 'isTrueDirect',\n",
      "       'keyword', 'medium', 'metro', 'networkDomain', 'operatingSystem',\n",
      "       'pageviews', 'referralPath', 'region', 'sessionId', 'source',\n",
      "       'subContinent', 'transactionRevenue', 'visitId', 'visitNumber',\n",
      "       'visitStartTime'],\n",
      "      dtype='object')\n"
     ]
    }
   ],
   "source": [
    "print(df_train.shape,df_test.shape)\n",
    "print(df_train.columns)"
   ]
  },
  {
   "cell_type": "markdown",
   "metadata": {},
   "source": [
    "### manually delete columns"
   ]
  },
  {
   "cell_type": "code",
   "execution_count": 5,
   "metadata": {},
   "outputs": [],
   "source": [
    "del_cols = [\n",
    "            'adContent', 'adwordsClickInfo.adNetworkType', 'adwordsClickInfo.gclId',\n",
    "            'adwordsClickInfo.slot', 'campaignCode','city', 'country',\n",
    "            'keyword', 'medium', 'metro', 'networkDomain', \n",
    "            'referralPath', 'region', 'sessionId', 'source',\n",
    "            'subContinent', 'visitId', 'visitNumber','visitStartTime'\n",
    "            ]\n"
   ]
  },
  {
   "cell_type": "code",
   "execution_count": 6,
   "metadata": {
    "_uuid": "53bcba9f20016db4621328051eddeb50b9b35715",
    "scrolled": true
   },
   "outputs": [
    {
     "name": "stdout",
     "output_type": "stream",
     "text": [
      "CPU times: user 3.19 s, sys: 929 ms, total: 4.12 s\n",
      "Wall time: 4.14 s\n"
     ]
    }
   ],
   "source": [
    "%%time\n",
    "\n",
    "for x in del_cols:\n",
    "    df_train.drop(x, axis=1, inplace=True)\n",
    "    df_test.drop(x, axis=1, inplace=True)\n",
    "\n"
   ]
  },
  {
   "cell_type": "code",
   "execution_count": 7,
   "metadata": {},
   "outputs": [
    {
     "name": "stdout",
     "output_type": "stream",
     "text": [
      "(903653, 13) (804684, 13)\n"
     ]
    }
   ],
   "source": [
    "print(df_train.shape,df_test.shape)"
   ]
  },
  {
   "cell_type": "markdown",
   "metadata": {},
   "source": [
    "### analyze date"
   ]
  },
  {
   "cell_type": "code",
   "execution_count": 8,
   "metadata": {},
   "outputs": [
    {
     "name": "stdout",
     "output_type": "stream",
     "text": [
      "CPU times: user 3.37 s, sys: 29.1 ms, total: 3.4 s\n",
      "Wall time: 2.68 s\n"
     ]
    }
   ],
   "source": [
    "%%time\n",
    "def dateCol(df):\n",
    "\n",
    "    df['date'] = pd.to_datetime(df['date'].apply(lambda x: str(x)[:4] + '-' + str(x)[4:6] + '-' + str(x)[6:]))\n",
    "    df['month'] = df['date'].dt.month\n",
    "    df['weekday'] = df['date'].dt.weekday\n",
    "    df['weekend'] = df['weekday'].apply(lambda x: 1 if x>=5 else 0)\n",
    "    \n",
    "    return df\n",
    "\n",
    "df_train = dateCol(df_train)\n",
    "df_test = dateCol(df_test)"
   ]
  },
  {
   "cell_type": "markdown",
   "metadata": {},
   "source": [
    "### access count column"
   ]
  },
  {
   "cell_type": "code",
   "execution_count": 9,
   "metadata": {
    "scrolled": true
   },
   "outputs": [
    {
     "name": "stdout",
     "output_type": "stream",
     "text": [
      "CPU times: user 3.55 s, sys: 48.3 ms, total: 3.6 s\n",
      "Wall time: 3.01 s\n"
     ]
    }
   ],
   "source": [
    "%%time\n",
    "def userCount(df):\n",
    "    df['cnt_per_day'] = df[['fullVisitorId','date']].groupby(['fullVisitorId','date'])['date'].transform('count')\n",
    "    return df\n",
    "\n",
    "df_train = userCount(df_train)\n",
    "df_test = userCount(df_test)"
   ]
  },
  {
   "cell_type": "markdown",
   "metadata": {},
   "source": [
    "### category string to numbers"
   ]
  },
  {
   "cell_type": "code",
   "execution_count": 11,
   "metadata": {},
   "outputs": [
    {
     "data": {
      "text/plain": [
       "['browser',\n",
       " 'campaign',\n",
       " 'channelGrouping',\n",
       " 'continent',\n",
       " 'deviceCategory',\n",
       " 'isMobile',\n",
       " 'isTrueDirect',\n",
       " 'operatingSystem']"
      ]
     },
     "execution_count": 11,
     "metadata": {},
     "output_type": "execute_result"
    }
   ],
   "source": [
    "no_touch = ['fullVisitorId','transactionRevenue']\n",
    "cat_cols = [x for x in df_train.columns if df_train[x].dtypes == 'object' or df_train[x].dtypes == 'bool']\n",
    "cat_cols = [x for x in cat_cols if df_train[x].nunique() <= 100]\n",
    "cat_cols = [x for x in cat_cols if x not in no_touch]\n",
    "\n",
    "cat_cols"
   ]
  },
  {
   "cell_type": "code",
   "execution_count": 12,
   "metadata": {
    "scrolled": true
   },
   "outputs": [
    {
     "name": "stdout",
     "output_type": "stream",
     "text": [
      "CPU times: user 33.9 s, sys: 3.25 s, total: 37.1 s\n",
      "Wall time: 29.4 s\n"
     ]
    }
   ],
   "source": [
    "%%time\n",
    "\n",
    "for col in cat_cols:\n",
    "    lbl = LabelEncoder()\n",
    "    lbl.fit(list(df_train[col].values.astype('str')) + list(df_test[col].values.astype('str')))\n",
    "    df_train[col] = lbl.transform(list(df_train[col].values.astype('str')))\n",
    "    df_test[col] = lbl.transform(list(df_test[col].values.astype('str')))\n"
   ]
  },
  {
   "cell_type": "code",
   "execution_count": 13,
   "metadata": {},
   "outputs": [
    {
     "name": "stdout",
     "output_type": "stream",
     "text": [
      "CPU times: user 271 ms, sys: 272 ms, total: 543 ms\n",
      "Wall time: 278 ms\n"
     ]
    }
   ],
   "source": [
    "%%time\n",
    "l = {}\n",
    "for x in df_train.columns:\n",
    "    l[x] = x.replace(' ','').replace('(','').replace(')','').replace('-','')[:20]\n",
    "\n",
    "df_train = df_train.rename(columns=l)\n",
    "df_test = df_test.rename(columns=l)\n",
    "\n"
   ]
  },
  {
   "cell_type": "code",
   "execution_count": 14,
   "metadata": {
    "scrolled": true
   },
   "outputs": [
    {
     "data": {
      "text/plain": [
       "['browser',\n",
       " 'campaign',\n",
       " 'channelGrouping',\n",
       " 'continent',\n",
       " 'deviceCategory',\n",
       " 'hits',\n",
       " 'isMobile',\n",
       " 'isTrueDirect',\n",
       " 'operatingSystem',\n",
       " 'pageviews',\n",
       " 'month',\n",
       " 'weekday',\n",
       " 'weekend',\n",
       " 'cnt_per_day']"
      ]
     },
     "execution_count": 14,
     "metadata": {},
     "output_type": "execute_result"
    }
   ],
   "source": [
    "no_touch = ['fullVisitorId','transactionRevenue','date']\n",
    "l_float = [x for x in df_train.columns if x not in no_touch]\n",
    "l_float"
   ]
  },
  {
   "cell_type": "code",
   "execution_count": 15,
   "metadata": {},
   "outputs": [
    {
     "name": "stdout",
     "output_type": "stream",
     "text": [
      "CPU times: user 4.7 s, sys: 800 ms, total: 5.5 s\n",
      "Wall time: 2.91 s\n"
     ]
    }
   ],
   "source": [
    "%%time\n",
    "\n",
    "df_train[l_float] = df_train[l_float].values.astype('float')\n",
    "df_test[l_float] = df_test[l_float].values.astype('float')"
   ]
  },
  {
   "cell_type": "code",
   "execution_count": 16,
   "metadata": {},
   "outputs": [
    {
     "data": {
      "text/plain": [
       "((903653, 17), (804684, 17))"
      ]
     },
     "execution_count": 16,
     "metadata": {},
     "output_type": "execute_result"
    }
   ],
   "source": [
    "df_train.shape, df_test.shape"
   ]
  },
  {
   "cell_type": "markdown",
   "metadata": {},
   "source": [
    "### save adjusted DFs"
   ]
  },
  {
   "cell_type": "code",
   "execution_count": 17,
   "metadata": {
    "_uuid": "ae3e561aa4b02f0c0f5585ecbf7e39d163605930"
   },
   "outputs": [
    {
     "name": "stdout",
     "output_type": "stream",
     "text": [
      "CPU times: user 21.2 s, sys: 190 ms, total: 21.4 s\n",
      "Wall time: 21.4 s\n"
     ]
    }
   ],
   "source": [
    "%%time\n",
    "df_train.to_csv(path + 'train_adj.csv')\n",
    "df_test.to_csv(path + 'test_adj.csv')"
   ]
  },
  {
   "cell_type": "markdown",
   "metadata": {},
   "source": [
    "# create new dataset: aggregated by users"
   ]
  },
  {
   "cell_type": "code",
   "execution_count": 18,
   "metadata": {
    "scrolled": true
   },
   "outputs": [
    {
     "name": "stdout",
     "output_type": "stream",
     "text": [
      "['test_adj.csv', 'test_dropped.csv', 'train_dropped.csv', 'train_orig.csv', 'test_parsed.csv', 'train_parsed.csv', 'train_adj.csv', 'test_orig.csv']\n"
     ]
    }
   ],
   "source": [
    "import os\n",
    "import json\n",
    "import numpy as np\n",
    "import pandas as pd\n",
    "from pandas.io.json import json_normalize\n",
    "from sklearn.preprocessing import LabelEncoder\n",
    "\n",
    "path = '../data/'\n",
    "print(os.listdir(path))"
   ]
  },
  {
   "cell_type": "code",
   "execution_count": 19,
   "metadata": {},
   "outputs": [
    {
     "name": "stdout",
     "output_type": "stream",
     "text": [
      "CPU times: user 3.09 s, sys: 172 ms, total: 3.26 s\n",
      "Wall time: 2.97 s\n"
     ]
    }
   ],
   "source": [
    "%%time\n",
    "df_train = pd.read_csv(path +'train_adj.csv', index_col = 0, dtype={'fullVisitorId': 'str'})\n",
    "df_test = pd.read_csv(path +'test_adj.csv', index_col = 0, dtype={'fullVisitorId': 'str'})"
   ]
  },
  {
   "cell_type": "code",
   "execution_count": 20,
   "metadata": {},
   "outputs": [
    {
     "data": {
      "text/plain": [
       "((903653, 17), (804684, 17))"
      ]
     },
     "execution_count": 20,
     "metadata": {},
     "output_type": "execute_result"
    }
   ],
   "source": [
    "df_train.shape, df_test.shape"
   ]
  },
  {
   "cell_type": "code",
   "execution_count": 21,
   "metadata": {},
   "outputs": [],
   "source": [
    "def statCols(df):\n",
    "    df['access_Days'] = df.groupby(['fullVisitorId','date'])['date'].transform('count')\n",
    "    \n",
    "    df['avg_hitperDay'] = df.groupby(['fullVisitorId','date'])['hits'].transform('mean')\n",
    "    df['ttl_hitbyUser'] = df.groupby(['fullVisitorId'])['hits'].transform('sum')\n",
    "\n",
    "    df['avg_viewperDay'] = df.groupby(['fullVisitorId','date'])['pageviews'].transform('mean')\n",
    "    df['ttl_viewbyUser'] = df.groupby(['fullVisitorId'])['pageviews'].transform('sum')\n",
    "\n",
    "    return df"
   ]
  },
  {
   "cell_type": "code",
   "execution_count": 22,
   "metadata": {},
   "outputs": [
    {
     "name": "stdout",
     "output_type": "stream",
     "text": [
      "CPU times: user 16.9 s, sys: 372 ms, total: 17.3 s\n",
      "Wall time: 14.4 s\n"
     ]
    }
   ],
   "source": [
    "%%time\n",
    "df_train = statCols(df_train)\n",
    "df_test = statCols(df_test)"
   ]
  },
  {
   "cell_type": "code",
   "execution_count": 24,
   "metadata": {},
   "outputs": [
    {
     "data": {
      "text/html": [
       "<div>\n",
       "<style scoped>\n",
       "    .dataframe tbody tr th:only-of-type {\n",
       "        vertical-align: middle;\n",
       "    }\n",
       "\n",
       "    .dataframe tbody tr th {\n",
       "        vertical-align: top;\n",
       "    }\n",
       "\n",
       "    .dataframe thead th {\n",
       "        text-align: right;\n",
       "    }\n",
       "</style>\n",
       "<table border=\"1\" class=\"dataframe\">\n",
       "  <thead>\n",
       "    <tr style=\"text-align: right;\">\n",
       "      <th></th>\n",
       "      <th>browser</th>\n",
       "      <th>campaign</th>\n",
       "      <th>channelGrouping</th>\n",
       "      <th>continent</th>\n",
       "      <th>deviceCategory</th>\n",
       "      <th>hits</th>\n",
       "      <th>isMobile</th>\n",
       "      <th>isTrueDirect</th>\n",
       "      <th>operatingSystem</th>\n",
       "      <th>pageviews</th>\n",
       "      <th>transactionRevenue</th>\n",
       "      <th>month</th>\n",
       "      <th>weekday</th>\n",
       "      <th>weekend</th>\n",
       "      <th>cnt_per_day</th>\n",
       "      <th>access_Days</th>\n",
       "      <th>avg_hitperDay</th>\n",
       "      <th>ttl_hitbyUser</th>\n",
       "      <th>avg_viewperDay</th>\n",
       "      <th>ttl_viewbyUser</th>\n",
       "    </tr>\n",
       "  </thead>\n",
       "  <tbody>\n",
       "    <tr>\n",
       "      <th>count</th>\n",
       "      <td>903653.000000</td>\n",
       "      <td>903653.000000</td>\n",
       "      <td>903653.000000</td>\n",
       "      <td>903653.000000</td>\n",
       "      <td>903653.000000</td>\n",
       "      <td>903653.000000</td>\n",
       "      <td>903653.000000</td>\n",
       "      <td>903653.000000</td>\n",
       "      <td>903653.000000</td>\n",
       "      <td>903653.000000</td>\n",
       "      <td>903653.000000</td>\n",
       "      <td>903653.000000</td>\n",
       "      <td>903653.000000</td>\n",
       "      <td>903653.000000</td>\n",
       "      <td>903653.000000</td>\n",
       "      <td>903653.000000</td>\n",
       "      <td>903653.000000</td>\n",
       "      <td>903653.000000</td>\n",
       "      <td>903653.000000</td>\n",
       "      <td>903653.000000</td>\n",
       "    </tr>\n",
       "    <tr>\n",
       "      <th>mean</th>\n",
       "      <td>44.014666</td>\n",
       "      <td>4.280819</td>\n",
       "      <td>4.632267</td>\n",
       "      <td>2.716869</td>\n",
       "      <td>0.298370</td>\n",
       "      <td>4.596538</td>\n",
       "      <td>0.264618</td>\n",
       "      <td>0.303219</td>\n",
       "      <td>12.949865</td>\n",
       "      <td>3.849338</td>\n",
       "      <td>0.227118</td>\n",
       "      <td>6.987671</td>\n",
       "      <td>2.735183</td>\n",
       "      <td>0.219117</td>\n",
       "      <td>1.193563</td>\n",
       "      <td>1.193563</td>\n",
       "      <td>4.596538</td>\n",
       "      <td>18.775357</td>\n",
       "      <td>3.849338</td>\n",
       "      <td>15.311467</td>\n",
       "    </tr>\n",
       "    <tr>\n",
       "      <th>std</th>\n",
       "      <td>15.389741</td>\n",
       "      <td>1.510145</td>\n",
       "      <td>1.774791</td>\n",
       "      <td>0.885558</td>\n",
       "      <td>0.526058</td>\n",
       "      <td>9.641437</td>\n",
       "      <td>0.441130</td>\n",
       "      <td>0.459649</td>\n",
       "      <td>8.159630</td>\n",
       "      <td>7.025002</td>\n",
       "      <td>2.003710</td>\n",
       "      <td>3.484576</td>\n",
       "      <td>1.929072</td>\n",
       "      <td>0.413649</td>\n",
       "      <td>0.611397</td>\n",
       "      <td>0.611397</td>\n",
       "      <td>9.027772</td>\n",
       "      <td>123.174505</td>\n",
       "      <td>6.587883</td>\n",
       "      <td>100.218298</td>\n",
       "    </tr>\n",
       "    <tr>\n",
       "      <th>min</th>\n",
       "      <td>0.000000</td>\n",
       "      <td>4.000000</td>\n",
       "      <td>0.000000</td>\n",
       "      <td>0.000000</td>\n",
       "      <td>0.000000</td>\n",
       "      <td>1.000000</td>\n",
       "      <td>0.000000</td>\n",
       "      <td>0.000000</td>\n",
       "      <td>0.000000</td>\n",
       "      <td>0.000000</td>\n",
       "      <td>0.000000</td>\n",
       "      <td>1.000000</td>\n",
       "      <td>0.000000</td>\n",
       "      <td>0.000000</td>\n",
       "      <td>1.000000</td>\n",
       "      <td>1.000000</td>\n",
       "      <td>1.000000</td>\n",
       "      <td>1.000000</td>\n",
       "      <td>0.000000</td>\n",
       "      <td>0.000000</td>\n",
       "    </tr>\n",
       "    <tr>\n",
       "      <th>25%</th>\n",
       "      <td>35.000000</td>\n",
       "      <td>4.000000</td>\n",
       "      <td>4.000000</td>\n",
       "      <td>2.000000</td>\n",
       "      <td>0.000000</td>\n",
       "      <td>1.000000</td>\n",
       "      <td>0.000000</td>\n",
       "      <td>0.000000</td>\n",
       "      <td>7.000000</td>\n",
       "      <td>1.000000</td>\n",
       "      <td>0.000000</td>\n",
       "      <td>4.000000</td>\n",
       "      <td>1.000000</td>\n",
       "      <td>0.000000</td>\n",
       "      <td>1.000000</td>\n",
       "      <td>1.000000</td>\n",
       "      <td>1.000000</td>\n",
       "      <td>1.000000</td>\n",
       "      <td>1.000000</td>\n",
       "      <td>1.000000</td>\n",
       "    </tr>\n",
       "    <tr>\n",
       "      <th>50%</th>\n",
       "      <td>35.000000</td>\n",
       "      <td>4.000000</td>\n",
       "      <td>4.000000</td>\n",
       "      <td>2.000000</td>\n",
       "      <td>0.000000</td>\n",
       "      <td>2.000000</td>\n",
       "      <td>0.000000</td>\n",
       "      <td>0.000000</td>\n",
       "      <td>20.000000</td>\n",
       "      <td>1.000000</td>\n",
       "      <td>0.000000</td>\n",
       "      <td>7.000000</td>\n",
       "      <td>3.000000</td>\n",
       "      <td>0.000000</td>\n",
       "      <td>1.000000</td>\n",
       "      <td>1.000000</td>\n",
       "      <td>2.000000</td>\n",
       "      <td>2.000000</td>\n",
       "      <td>2.000000</td>\n",
       "      <td>2.000000</td>\n",
       "    </tr>\n",
       "    <tr>\n",
       "      <th>75%</th>\n",
       "      <td>47.000000</td>\n",
       "      <td>4.000000</td>\n",
       "      <td>7.000000</td>\n",
       "      <td>3.000000</td>\n",
       "      <td>1.000000</td>\n",
       "      <td>4.000000</td>\n",
       "      <td>1.000000</td>\n",
       "      <td>1.000000</td>\n",
       "      <td>20.000000</td>\n",
       "      <td>4.000000</td>\n",
       "      <td>0.000000</td>\n",
       "      <td>10.000000</td>\n",
       "      <td>4.000000</td>\n",
       "      <td>0.000000</td>\n",
       "      <td>1.000000</td>\n",
       "      <td>1.000000</td>\n",
       "      <td>4.000000</td>\n",
       "      <td>9.000000</td>\n",
       "      <td>4.000000</td>\n",
       "      <td>8.000000</td>\n",
       "    </tr>\n",
       "    <tr>\n",
       "      <th>max</th>\n",
       "      <td>117.000000</td>\n",
       "      <td>34.000000</td>\n",
       "      <td>7.000000</td>\n",
       "      <td>5.000000</td>\n",
       "      <td>2.000000</td>\n",
       "      <td>500.000000</td>\n",
       "      <td>1.000000</td>\n",
       "      <td>1.000000</td>\n",
       "      <td>23.000000</td>\n",
       "      <td>469.000000</td>\n",
       "      <td>23.864375</td>\n",
       "      <td>12.000000</td>\n",
       "      <td>6.000000</td>\n",
       "      <td>1.000000</td>\n",
       "      <td>32.000000</td>\n",
       "      <td>32.000000</td>\n",
       "      <td>500.000000</td>\n",
       "      <td>4995.000000</td>\n",
       "      <td>466.000000</td>\n",
       "      <td>4160.000000</td>\n",
       "    </tr>\n",
       "  </tbody>\n",
       "</table>\n",
       "</div>"
      ],
      "text/plain": [
       "             browser       campaign  channelGrouping      continent  \\\n",
       "count  903653.000000  903653.000000    903653.000000  903653.000000   \n",
       "mean       44.014666       4.280819         4.632267       2.716869   \n",
       "std        15.389741       1.510145         1.774791       0.885558   \n",
       "min         0.000000       4.000000         0.000000       0.000000   \n",
       "25%        35.000000       4.000000         4.000000       2.000000   \n",
       "50%        35.000000       4.000000         4.000000       2.000000   \n",
       "75%        47.000000       4.000000         7.000000       3.000000   \n",
       "max       117.000000      34.000000         7.000000       5.000000   \n",
       "\n",
       "       deviceCategory           hits       isMobile   isTrueDirect  \\\n",
       "count   903653.000000  903653.000000  903653.000000  903653.000000   \n",
       "mean         0.298370       4.596538       0.264618       0.303219   \n",
       "std          0.526058       9.641437       0.441130       0.459649   \n",
       "min          0.000000       1.000000       0.000000       0.000000   \n",
       "25%          0.000000       1.000000       0.000000       0.000000   \n",
       "50%          0.000000       2.000000       0.000000       0.000000   \n",
       "75%          1.000000       4.000000       1.000000       1.000000   \n",
       "max          2.000000     500.000000       1.000000       1.000000   \n",
       "\n",
       "       operatingSystem      pageviews  transactionRevenue          month  \\\n",
       "count    903653.000000  903653.000000       903653.000000  903653.000000   \n",
       "mean         12.949865       3.849338            0.227118       6.987671   \n",
       "std           8.159630       7.025002            2.003710       3.484576   \n",
       "min           0.000000       0.000000            0.000000       1.000000   \n",
       "25%           7.000000       1.000000            0.000000       4.000000   \n",
       "50%          20.000000       1.000000            0.000000       7.000000   \n",
       "75%          20.000000       4.000000            0.000000      10.000000   \n",
       "max          23.000000     469.000000           23.864375      12.000000   \n",
       "\n",
       "             weekday        weekend    cnt_per_day    access_Days  \\\n",
       "count  903653.000000  903653.000000  903653.000000  903653.000000   \n",
       "mean        2.735183       0.219117       1.193563       1.193563   \n",
       "std         1.929072       0.413649       0.611397       0.611397   \n",
       "min         0.000000       0.000000       1.000000       1.000000   \n",
       "25%         1.000000       0.000000       1.000000       1.000000   \n",
       "50%         3.000000       0.000000       1.000000       1.000000   \n",
       "75%         4.000000       0.000000       1.000000       1.000000   \n",
       "max         6.000000       1.000000      32.000000      32.000000   \n",
       "\n",
       "       avg_hitperDay  ttl_hitbyUser  avg_viewperDay  ttl_viewbyUser  \n",
       "count  903653.000000  903653.000000   903653.000000   903653.000000  \n",
       "mean        4.596538      18.775357        3.849338       15.311467  \n",
       "std         9.027772     123.174505        6.587883      100.218298  \n",
       "min         1.000000       1.000000        0.000000        0.000000  \n",
       "25%         1.000000       1.000000        1.000000        1.000000  \n",
       "50%         2.000000       2.000000        2.000000        2.000000  \n",
       "75%         4.000000       9.000000        4.000000        8.000000  \n",
       "max       500.000000    4995.000000      466.000000     4160.000000  "
      ]
     },
     "execution_count": 24,
     "metadata": {},
     "output_type": "execute_result"
    }
   ],
   "source": [
    "df_train.describe()"
   ]
  },
  {
   "cell_type": "code",
   "execution_count": 33,
   "metadata": {},
   "outputs": [],
   "source": [
    "def aggregate_by_users(df):\n",
    "    users = df.groupby(['fullVisitorId']).agg('mean')\n",
    "    users['transactionRevenue'] = df.groupby(['fullVisitorId'])['transactionRevenue'].agg('sum')\n",
    "    users['hits'] = df.groupby(['fullVisitorId'])['hits'].agg('sum')\n",
    "    users['pageviews'] = df.groupby(['fullVisitorId'])['pageviews'].agg('sum')\n",
    "    users['month_min'] = df.groupby(['fullVisitorId'])['month'].agg('min')\n",
    "    users['month_max'] = df.groupby(['fullVisitorId'])['month'].agg('max')\n",
    "    users['weekend_min'] = df.groupby(['fullVisitorId'])['weekend'].agg('min')\n",
    "    users['weekend_max'] = df.groupby(['fullVisitorId'])['weekend'].agg('max')\n",
    "    return users\n"
   ]
  },
  {
   "cell_type": "code",
   "execution_count": 34,
   "metadata": {
    "_uuid": "02cd97d01427fd0b675ec504e14328b0007eac6a",
    "scrolled": false
   },
   "outputs": [
    {
     "name": "stdout",
     "output_type": "stream",
     "text": [
      "CPU times: user 24.7 s, sys: 509 ms, total: 25.2 s\n",
      "Wall time: 21.6 s\n"
     ]
    }
   ],
   "source": [
    "%%time\n",
    "\n",
    "df_test['transactionRevenue'] = 0\n",
    "\n",
    "df_user_train = aggregate_by_users(df_train)\n",
    "df_user_test = aggregate_by_users(df_test)\n"
   ]
  },
  {
   "cell_type": "code",
   "execution_count": 35,
   "metadata": {},
   "outputs": [
    {
     "name": "stdout",
     "output_type": "stream",
     "text": [
      "(903653, 22) (804684, 22)\n",
      "714167 617242\n",
      "(714167, 24) (617242, 24)\n"
     ]
    }
   ],
   "source": [
    "print(df_train.shape,df_test.shape)\n",
    "print(df_train.fullVisitorId.nunique(),df_test.fullVisitorId.nunique())\n",
    "print(df_user_train.shape,df_user_test.shape)\n"
   ]
  },
  {
   "cell_type": "code",
   "execution_count": 36,
   "metadata": {},
   "outputs": [
    {
     "data": {
      "text/html": [
       "<div>\n",
       "<style scoped>\n",
       "    .dataframe tbody tr th:only-of-type {\n",
       "        vertical-align: middle;\n",
       "    }\n",
       "\n",
       "    .dataframe tbody tr th {\n",
       "        vertical-align: top;\n",
       "    }\n",
       "\n",
       "    .dataframe thead th {\n",
       "        text-align: right;\n",
       "    }\n",
       "</style>\n",
       "<table border=\"1\" class=\"dataframe\">\n",
       "  <thead>\n",
       "    <tr style=\"text-align: right;\">\n",
       "      <th></th>\n",
       "      <th>browser</th>\n",
       "      <th>campaign</th>\n",
       "      <th>channelGrouping</th>\n",
       "      <th>continent</th>\n",
       "      <th>deviceCategory</th>\n",
       "      <th>hits</th>\n",
       "      <th>isMobile</th>\n",
       "      <th>isTrueDirect</th>\n",
       "      <th>operatingSystem</th>\n",
       "      <th>pageviews</th>\n",
       "      <th>...</th>\n",
       "      <th>cnt_per_day</th>\n",
       "      <th>access_Days</th>\n",
       "      <th>avg_hitperDay</th>\n",
       "      <th>ttl_hitbyUser</th>\n",
       "      <th>avg_viewperDay</th>\n",
       "      <th>ttl_viewbyUser</th>\n",
       "      <th>month_min</th>\n",
       "      <th>month_max</th>\n",
       "      <th>weekend_min</th>\n",
       "      <th>weekend_max</th>\n",
       "    </tr>\n",
       "  </thead>\n",
       "  <tbody>\n",
       "    <tr>\n",
       "      <th>count</th>\n",
       "      <td>714167.000000</td>\n",
       "      <td>714167.000000</td>\n",
       "      <td>714167.000000</td>\n",
       "      <td>714167.000000</td>\n",
       "      <td>714167.000000</td>\n",
       "      <td>714167.000000</td>\n",
       "      <td>714167.000000</td>\n",
       "      <td>714167.000000</td>\n",
       "      <td>714167.000000</td>\n",
       "      <td>714167.000000</td>\n",
       "      <td>...</td>\n",
       "      <td>714167.000000</td>\n",
       "      <td>714167.000000</td>\n",
       "      <td>714167.000000</td>\n",
       "      <td>714167.000000</td>\n",
       "      <td>714167.000000</td>\n",
       "      <td>714167.000000</td>\n",
       "      <td>714167.000000</td>\n",
       "      <td>714167.000000</td>\n",
       "      <td>714167.000000</td>\n",
       "      <td>714167.000000</td>\n",
       "    </tr>\n",
       "    <tr>\n",
       "      <th>mean</th>\n",
       "      <td>44.913690</td>\n",
       "      <td>4.252122</td>\n",
       "      <td>4.727070</td>\n",
       "      <td>2.775635</td>\n",
       "      <td>0.300743</td>\n",
       "      <td>5.816112</td>\n",
       "      <td>0.266703</td>\n",
       "      <td>0.204475</td>\n",
       "      <td>13.271820</td>\n",
       "      <td>4.870662</td>\n",
       "      <td>...</td>\n",
       "      <td>1.066602</td>\n",
       "      <td>1.066602</td>\n",
       "      <td>3.917565</td>\n",
       "      <td>5.816112</td>\n",
       "      <td>3.340949</td>\n",
       "      <td>4.870662</td>\n",
       "      <td>6.983504</td>\n",
       "      <td>7.108938</td>\n",
       "      <td>0.215469</td>\n",
       "      <td>0.246599</td>\n",
       "    </tr>\n",
       "    <tr>\n",
       "      <th>std</th>\n",
       "      <td>15.858845</td>\n",
       "      <td>1.356555</td>\n",
       "      <td>1.791039</td>\n",
       "      <td>0.894151</td>\n",
       "      <td>0.527598</td>\n",
       "      <td>18.417008</td>\n",
       "      <td>0.442174</td>\n",
       "      <td>0.376182</td>\n",
       "      <td>8.165969</td>\n",
       "      <td>14.128870</td>\n",
       "      <td>...</td>\n",
       "      <td>0.289029</td>\n",
       "      <td>0.289029</td>\n",
       "      <td>7.276184</td>\n",
       "      <td>18.417008</td>\n",
       "      <td>5.350892</td>\n",
       "      <td>14.128870</td>\n",
       "      <td>3.487806</td>\n",
       "      <td>3.471920</td>\n",
       "      <td>0.411148</td>\n",
       "      <td>0.431032</td>\n",
       "    </tr>\n",
       "    <tr>\n",
       "      <th>min</th>\n",
       "      <td>0.000000</td>\n",
       "      <td>4.000000</td>\n",
       "      <td>0.000000</td>\n",
       "      <td>0.000000</td>\n",
       "      <td>0.000000</td>\n",
       "      <td>1.000000</td>\n",
       "      <td>0.000000</td>\n",
       "      <td>0.000000</td>\n",
       "      <td>0.000000</td>\n",
       "      <td>0.000000</td>\n",
       "      <td>...</td>\n",
       "      <td>1.000000</td>\n",
       "      <td>1.000000</td>\n",
       "      <td>1.000000</td>\n",
       "      <td>1.000000</td>\n",
       "      <td>0.000000</td>\n",
       "      <td>0.000000</td>\n",
       "      <td>1.000000</td>\n",
       "      <td>1.000000</td>\n",
       "      <td>0.000000</td>\n",
       "      <td>0.000000</td>\n",
       "    </tr>\n",
       "    <tr>\n",
       "      <th>25%</th>\n",
       "      <td>35.000000</td>\n",
       "      <td>4.000000</td>\n",
       "      <td>4.000000</td>\n",
       "      <td>2.000000</td>\n",
       "      <td>0.000000</td>\n",
       "      <td>1.000000</td>\n",
       "      <td>0.000000</td>\n",
       "      <td>0.000000</td>\n",
       "      <td>7.000000</td>\n",
       "      <td>1.000000</td>\n",
       "      <td>...</td>\n",
       "      <td>1.000000</td>\n",
       "      <td>1.000000</td>\n",
       "      <td>1.000000</td>\n",
       "      <td>1.000000</td>\n",
       "      <td>1.000000</td>\n",
       "      <td>1.000000</td>\n",
       "      <td>4.000000</td>\n",
       "      <td>4.000000</td>\n",
       "      <td>0.000000</td>\n",
       "      <td>0.000000</td>\n",
       "    </tr>\n",
       "    <tr>\n",
       "      <th>50%</th>\n",
       "      <td>35.000000</td>\n",
       "      <td>4.000000</td>\n",
       "      <td>4.000000</td>\n",
       "      <td>3.000000</td>\n",
       "      <td>0.000000</td>\n",
       "      <td>2.000000</td>\n",
       "      <td>0.000000</td>\n",
       "      <td>0.000000</td>\n",
       "      <td>20.000000</td>\n",
       "      <td>2.000000</td>\n",
       "      <td>...</td>\n",
       "      <td>1.000000</td>\n",
       "      <td>1.000000</td>\n",
       "      <td>1.500000</td>\n",
       "      <td>2.000000</td>\n",
       "      <td>1.333333</td>\n",
       "      <td>2.000000</td>\n",
       "      <td>7.000000</td>\n",
       "      <td>7.000000</td>\n",
       "      <td>0.000000</td>\n",
       "      <td>0.000000</td>\n",
       "    </tr>\n",
       "    <tr>\n",
       "      <th>75%</th>\n",
       "      <td>66.000000</td>\n",
       "      <td>4.000000</td>\n",
       "      <td>7.000000</td>\n",
       "      <td>4.000000</td>\n",
       "      <td>1.000000</td>\n",
       "      <td>4.000000</td>\n",
       "      <td>1.000000</td>\n",
       "      <td>0.000000</td>\n",
       "      <td>20.000000</td>\n",
       "      <td>4.000000</td>\n",
       "      <td>...</td>\n",
       "      <td>1.000000</td>\n",
       "      <td>1.000000</td>\n",
       "      <td>4.000000</td>\n",
       "      <td>4.000000</td>\n",
       "      <td>3.000000</td>\n",
       "      <td>4.000000</td>\n",
       "      <td>10.000000</td>\n",
       "      <td>10.000000</td>\n",
       "      <td>0.000000</td>\n",
       "      <td>0.000000</td>\n",
       "    </tr>\n",
       "    <tr>\n",
       "      <th>max</th>\n",
       "      <td>117.000000</td>\n",
       "      <td>34.000000</td>\n",
       "      <td>7.000000</td>\n",
       "      <td>5.000000</td>\n",
       "      <td>2.000000</td>\n",
       "      <td>4995.000000</td>\n",
       "      <td>1.000000</td>\n",
       "      <td>1.000000</td>\n",
       "      <td>23.000000</td>\n",
       "      <td>4160.000000</td>\n",
       "      <td>...</td>\n",
       "      <td>27.918919</td>\n",
       "      <td>27.918919</td>\n",
       "      <td>500.000000</td>\n",
       "      <td>4995.000000</td>\n",
       "      <td>466.000000</td>\n",
       "      <td>4160.000000</td>\n",
       "      <td>12.000000</td>\n",
       "      <td>12.000000</td>\n",
       "      <td>1.000000</td>\n",
       "      <td>1.000000</td>\n",
       "    </tr>\n",
       "  </tbody>\n",
       "</table>\n",
       "<p>8 rows × 24 columns</p>\n",
       "</div>"
      ],
      "text/plain": [
       "             browser       campaign  channelGrouping      continent  \\\n",
       "count  714167.000000  714167.000000    714167.000000  714167.000000   \n",
       "mean       44.913690       4.252122         4.727070       2.775635   \n",
       "std        15.858845       1.356555         1.791039       0.894151   \n",
       "min         0.000000       4.000000         0.000000       0.000000   \n",
       "25%        35.000000       4.000000         4.000000       2.000000   \n",
       "50%        35.000000       4.000000         4.000000       3.000000   \n",
       "75%        66.000000       4.000000         7.000000       4.000000   \n",
       "max       117.000000      34.000000         7.000000       5.000000   \n",
       "\n",
       "       deviceCategory           hits       isMobile   isTrueDirect  \\\n",
       "count   714167.000000  714167.000000  714167.000000  714167.000000   \n",
       "mean         0.300743       5.816112       0.266703       0.204475   \n",
       "std          0.527598      18.417008       0.442174       0.376182   \n",
       "min          0.000000       1.000000       0.000000       0.000000   \n",
       "25%          0.000000       1.000000       0.000000       0.000000   \n",
       "50%          0.000000       2.000000       0.000000       0.000000   \n",
       "75%          1.000000       4.000000       1.000000       0.000000   \n",
       "max          2.000000    4995.000000       1.000000       1.000000   \n",
       "\n",
       "       operatingSystem      pageviews      ...          cnt_per_day  \\\n",
       "count    714167.000000  714167.000000      ...        714167.000000   \n",
       "mean         13.271820       4.870662      ...             1.066602   \n",
       "std           8.165969      14.128870      ...             0.289029   \n",
       "min           0.000000       0.000000      ...             1.000000   \n",
       "25%           7.000000       1.000000      ...             1.000000   \n",
       "50%          20.000000       2.000000      ...             1.000000   \n",
       "75%          20.000000       4.000000      ...             1.000000   \n",
       "max          23.000000    4160.000000      ...            27.918919   \n",
       "\n",
       "         access_Days  avg_hitperDay  ttl_hitbyUser  avg_viewperDay  \\\n",
       "count  714167.000000  714167.000000  714167.000000   714167.000000   \n",
       "mean        1.066602       3.917565       5.816112        3.340949   \n",
       "std         0.289029       7.276184      18.417008        5.350892   \n",
       "min         1.000000       1.000000       1.000000        0.000000   \n",
       "25%         1.000000       1.000000       1.000000        1.000000   \n",
       "50%         1.000000       1.500000       2.000000        1.333333   \n",
       "75%         1.000000       4.000000       4.000000        3.000000   \n",
       "max        27.918919     500.000000    4995.000000      466.000000   \n",
       "\n",
       "       ttl_viewbyUser      month_min      month_max    weekend_min  \\\n",
       "count   714167.000000  714167.000000  714167.000000  714167.000000   \n",
       "mean         4.870662       6.983504       7.108938       0.215469   \n",
       "std         14.128870       3.487806       3.471920       0.411148   \n",
       "min          0.000000       1.000000       1.000000       0.000000   \n",
       "25%          1.000000       4.000000       4.000000       0.000000   \n",
       "50%          2.000000       7.000000       7.000000       0.000000   \n",
       "75%          4.000000      10.000000      10.000000       0.000000   \n",
       "max       4160.000000      12.000000      12.000000       1.000000   \n",
       "\n",
       "         weekend_max  \n",
       "count  714167.000000  \n",
       "mean        0.246599  \n",
       "std         0.431032  \n",
       "min         0.000000  \n",
       "25%         0.000000  \n",
       "50%         0.000000  \n",
       "75%         0.000000  \n",
       "max         1.000000  \n",
       "\n",
       "[8 rows x 24 columns]"
      ]
     },
     "execution_count": 36,
     "metadata": {},
     "output_type": "execute_result"
    }
   ],
   "source": [
    "df_user_train.describe()"
   ]
  },
  {
   "cell_type": "code",
   "execution_count": 37,
   "metadata": {},
   "outputs": [
    {
     "name": "stdout",
     "output_type": "stream",
     "text": [
      "CPU times: user 18.4 s, sys: 233 ms, total: 18.6 s\n",
      "Wall time: 18.2 s\n"
     ]
    }
   ],
   "source": [
    "%%time\n",
    "df_user_train = df_user_train.fillna(0)\n",
    "df_user_test = df_user_test.fillna(0)\n",
    "\n",
    "df_user_train.to_csv(path + 'user_train.csv')\n",
    "df_user_test.to_csv(path + 'user_test.csv')"
   ]
  },
  {
   "cell_type": "markdown",
   "metadata": {},
   "source": [
    "# Normalize"
   ]
  },
  {
   "cell_type": "code",
   "execution_count": 38,
   "metadata": {
    "scrolled": true
   },
   "outputs": [
    {
     "name": "stdout",
     "output_type": "stream",
     "text": [
      "['test_adj.csv', 'test_dropped.csv', 'train_dropped.csv', 'user_test.csv', 'train_orig.csv', 'test_parsed.csv', 'train_parsed.csv', 'train_adj.csv', 'test_orig.csv', 'user_train.csv']\n"
     ]
    }
   ],
   "source": [
    "import os\n",
    "import json\n",
    "import numpy as np\n",
    "import pandas as pd\n",
    "from pandas.io.json import json_normalize\n",
    "from sklearn.preprocessing import LabelEncoder\n",
    "from sklearn.preprocessing import MinMaxScaler\n",
    "\n",
    "path = '../data/'\n",
    "print(os.listdir(path))"
   ]
  },
  {
   "cell_type": "code",
   "execution_count": 39,
   "metadata": {},
   "outputs": [
    {
     "name": "stdout",
     "output_type": "stream",
     "text": [
      "CPU times: user 3.9 s, sys: 212 ms, total: 4.11 s\n",
      "Wall time: 3.84 s\n"
     ]
    }
   ],
   "source": [
    "%%time\n",
    "df_user_train = pd.read_csv(path +'user_train.csv', index_col = 0, dtype={'fullVisitorId': 'str'})\n",
    "df_user_test = pd.read_csv(path +'user_test.csv', index_col = 0, dtype={'fullVisitorId': 'str'})\n"
   ]
  },
  {
   "cell_type": "code",
   "execution_count": 41,
   "metadata": {},
   "outputs": [
    {
     "name": "stdout",
     "output_type": "stream",
     "text": [
      "(714167, 24) (617242, 24)\n",
      "Index(['browser', 'campaign', 'channelGrouping', 'continent', 'deviceCategory',\n",
      "       'hits', 'isMobile', 'isTrueDirect', 'operatingSystem', 'pageviews',\n",
      "       'transactionRevenue', 'month', 'weekday', 'weekend', 'cnt_per_day',\n",
      "       'access_Days', 'avg_hitperDay', 'ttl_hitbyUser', 'avg_viewperDay',\n",
      "       'ttl_viewbyUser', 'month_min', 'month_max', 'weekend_min',\n",
      "       'weekend_max'],\n",
      "      dtype='object')\n"
     ]
    }
   ],
   "source": [
    "print(df_user_train.shape,df_user_test.shape)\n",
    "print(df_user_train.columns)"
   ]
  },
  {
   "cell_type": "code",
   "execution_count": 42,
   "metadata": {},
   "outputs": [
    {
     "name": "stdout",
     "output_type": "stream",
     "text": [
      "CPU times: user 2.91 s, sys: 408 ms, total: 3.31 s\n",
      "Wall time: 1.71 s\n"
     ]
    }
   ],
   "source": [
    "%%time\n",
    "\n",
    "tgt = [x for x in df_user_train.columns if x not in ['fullVisitorId','transactionRevenue'] ]\n",
    "\n",
    "sc = MinMaxScaler()\n",
    "df_user_train[tgt] = sc.fit_transform(df_user_train[tgt])\n",
    "df_user_test[tgt] = sc.transform(df_user_test[tgt])"
   ]
  },
  {
   "cell_type": "code",
   "execution_count": 43,
   "metadata": {},
   "outputs": [
    {
     "data": {
      "text/html": [
       "<div>\n",
       "<style scoped>\n",
       "    .dataframe tbody tr th:only-of-type {\n",
       "        vertical-align: middle;\n",
       "    }\n",
       "\n",
       "    .dataframe tbody tr th {\n",
       "        vertical-align: top;\n",
       "    }\n",
       "\n",
       "    .dataframe thead th {\n",
       "        text-align: right;\n",
       "    }\n",
       "</style>\n",
       "<table border=\"1\" class=\"dataframe\">\n",
       "  <thead>\n",
       "    <tr style=\"text-align: right;\">\n",
       "      <th></th>\n",
       "      <th>browser</th>\n",
       "      <th>campaign</th>\n",
       "      <th>channelGrouping</th>\n",
       "      <th>continent</th>\n",
       "      <th>deviceCategory</th>\n",
       "      <th>hits</th>\n",
       "      <th>isMobile</th>\n",
       "      <th>isTrueDirect</th>\n",
       "      <th>operatingSystem</th>\n",
       "      <th>pageviews</th>\n",
       "      <th>...</th>\n",
       "      <th>cnt_per_day</th>\n",
       "      <th>access_Days</th>\n",
       "      <th>avg_hitperDay</th>\n",
       "      <th>ttl_hitbyUser</th>\n",
       "      <th>avg_viewperDay</th>\n",
       "      <th>ttl_viewbyUser</th>\n",
       "      <th>month_min</th>\n",
       "      <th>month_max</th>\n",
       "      <th>weekend_min</th>\n",
       "      <th>weekend_max</th>\n",
       "    </tr>\n",
       "  </thead>\n",
       "  <tbody>\n",
       "    <tr>\n",
       "      <th>count</th>\n",
       "      <td>714167.000000</td>\n",
       "      <td>714167.000000</td>\n",
       "      <td>714167.000000</td>\n",
       "      <td>714167.000000</td>\n",
       "      <td>714167.000000</td>\n",
       "      <td>714167.000000</td>\n",
       "      <td>714167.000000</td>\n",
       "      <td>714167.000000</td>\n",
       "      <td>714167.000000</td>\n",
       "      <td>714167.000000</td>\n",
       "      <td>...</td>\n",
       "      <td>714167.000000</td>\n",
       "      <td>714167.000000</td>\n",
       "      <td>714167.000000</td>\n",
       "      <td>714167.000000</td>\n",
       "      <td>714167.000000</td>\n",
       "      <td>714167.000000</td>\n",
       "      <td>714167.000000</td>\n",
       "      <td>714167.000000</td>\n",
       "      <td>714167.000000</td>\n",
       "      <td>714167.000000</td>\n",
       "    </tr>\n",
       "    <tr>\n",
       "      <th>mean</th>\n",
       "      <td>0.383878</td>\n",
       "      <td>0.008404</td>\n",
       "      <td>0.675296</td>\n",
       "      <td>0.555127</td>\n",
       "      <td>0.150372</td>\n",
       "      <td>0.000964</td>\n",
       "      <td>0.266703</td>\n",
       "      <td>0.204475</td>\n",
       "      <td>0.577036</td>\n",
       "      <td>0.001171</td>\n",
       "      <td>...</td>\n",
       "      <td>0.002474</td>\n",
       "      <td>0.002474</td>\n",
       "      <td>0.005847</td>\n",
       "      <td>0.000964</td>\n",
       "      <td>0.007169</td>\n",
       "      <td>0.001171</td>\n",
       "      <td>0.543955</td>\n",
       "      <td>0.555358</td>\n",
       "      <td>0.215469</td>\n",
       "      <td>0.246599</td>\n",
       "    </tr>\n",
       "    <tr>\n",
       "      <th>std</th>\n",
       "      <td>0.135546</td>\n",
       "      <td>0.045218</td>\n",
       "      <td>0.255863</td>\n",
       "      <td>0.178830</td>\n",
       "      <td>0.263799</td>\n",
       "      <td>0.003688</td>\n",
       "      <td>0.442174</td>\n",
       "      <td>0.376182</td>\n",
       "      <td>0.355042</td>\n",
       "      <td>0.003396</td>\n",
       "      <td>...</td>\n",
       "      <td>0.010737</td>\n",
       "      <td>0.010737</td>\n",
       "      <td>0.014582</td>\n",
       "      <td>0.003688</td>\n",
       "      <td>0.011483</td>\n",
       "      <td>0.003396</td>\n",
       "      <td>0.317073</td>\n",
       "      <td>0.315629</td>\n",
       "      <td>0.411148</td>\n",
       "      <td>0.431032</td>\n",
       "    </tr>\n",
       "    <tr>\n",
       "      <th>min</th>\n",
       "      <td>0.000000</td>\n",
       "      <td>0.000000</td>\n",
       "      <td>0.000000</td>\n",
       "      <td>0.000000</td>\n",
       "      <td>0.000000</td>\n",
       "      <td>0.000000</td>\n",
       "      <td>0.000000</td>\n",
       "      <td>0.000000</td>\n",
       "      <td>0.000000</td>\n",
       "      <td>0.000000</td>\n",
       "      <td>...</td>\n",
       "      <td>0.000000</td>\n",
       "      <td>0.000000</td>\n",
       "      <td>0.000000</td>\n",
       "      <td>0.000000</td>\n",
       "      <td>0.000000</td>\n",
       "      <td>0.000000</td>\n",
       "      <td>0.000000</td>\n",
       "      <td>0.000000</td>\n",
       "      <td>0.000000</td>\n",
       "      <td>0.000000</td>\n",
       "    </tr>\n",
       "    <tr>\n",
       "      <th>25%</th>\n",
       "      <td>0.299145</td>\n",
       "      <td>0.000000</td>\n",
       "      <td>0.571429</td>\n",
       "      <td>0.400000</td>\n",
       "      <td>0.000000</td>\n",
       "      <td>0.000000</td>\n",
       "      <td>0.000000</td>\n",
       "      <td>0.000000</td>\n",
       "      <td>0.304348</td>\n",
       "      <td>0.000240</td>\n",
       "      <td>...</td>\n",
       "      <td>0.000000</td>\n",
       "      <td>0.000000</td>\n",
       "      <td>0.000000</td>\n",
       "      <td>0.000000</td>\n",
       "      <td>0.002146</td>\n",
       "      <td>0.000240</td>\n",
       "      <td>0.272727</td>\n",
       "      <td>0.272727</td>\n",
       "      <td>0.000000</td>\n",
       "      <td>0.000000</td>\n",
       "    </tr>\n",
       "    <tr>\n",
       "      <th>50%</th>\n",
       "      <td>0.299145</td>\n",
       "      <td>0.000000</td>\n",
       "      <td>0.571429</td>\n",
       "      <td>0.600000</td>\n",
       "      <td>0.000000</td>\n",
       "      <td>0.000200</td>\n",
       "      <td>0.000000</td>\n",
       "      <td>0.000000</td>\n",
       "      <td>0.869565</td>\n",
       "      <td>0.000481</td>\n",
       "      <td>...</td>\n",
       "      <td>0.000000</td>\n",
       "      <td>0.000000</td>\n",
       "      <td>0.001002</td>\n",
       "      <td>0.000200</td>\n",
       "      <td>0.002861</td>\n",
       "      <td>0.000481</td>\n",
       "      <td>0.545455</td>\n",
       "      <td>0.545455</td>\n",
       "      <td>0.000000</td>\n",
       "      <td>0.000000</td>\n",
       "    </tr>\n",
       "    <tr>\n",
       "      <th>75%</th>\n",
       "      <td>0.564103</td>\n",
       "      <td>0.000000</td>\n",
       "      <td>1.000000</td>\n",
       "      <td>0.800000</td>\n",
       "      <td>0.500000</td>\n",
       "      <td>0.000601</td>\n",
       "      <td>1.000000</td>\n",
       "      <td>0.000000</td>\n",
       "      <td>0.869565</td>\n",
       "      <td>0.000962</td>\n",
       "      <td>...</td>\n",
       "      <td>0.000000</td>\n",
       "      <td>0.000000</td>\n",
       "      <td>0.006012</td>\n",
       "      <td>0.000601</td>\n",
       "      <td>0.006438</td>\n",
       "      <td>0.000962</td>\n",
       "      <td>0.818182</td>\n",
       "      <td>0.818182</td>\n",
       "      <td>0.000000</td>\n",
       "      <td>0.000000</td>\n",
       "    </tr>\n",
       "    <tr>\n",
       "      <th>max</th>\n",
       "      <td>1.000000</td>\n",
       "      <td>1.000000</td>\n",
       "      <td>1.000000</td>\n",
       "      <td>1.000000</td>\n",
       "      <td>1.000000</td>\n",
       "      <td>1.000000</td>\n",
       "      <td>1.000000</td>\n",
       "      <td>1.000000</td>\n",
       "      <td>1.000000</td>\n",
       "      <td>1.000000</td>\n",
       "      <td>...</td>\n",
       "      <td>1.000000</td>\n",
       "      <td>1.000000</td>\n",
       "      <td>1.000000</td>\n",
       "      <td>1.000000</td>\n",
       "      <td>1.000000</td>\n",
       "      <td>1.000000</td>\n",
       "      <td>1.000000</td>\n",
       "      <td>1.000000</td>\n",
       "      <td>1.000000</td>\n",
       "      <td>1.000000</td>\n",
       "    </tr>\n",
       "  </tbody>\n",
       "</table>\n",
       "<p>8 rows × 24 columns</p>\n",
       "</div>"
      ],
      "text/plain": [
       "             browser       campaign  channelGrouping      continent  \\\n",
       "count  714167.000000  714167.000000    714167.000000  714167.000000   \n",
       "mean        0.383878       0.008404         0.675296       0.555127   \n",
       "std         0.135546       0.045218         0.255863       0.178830   \n",
       "min         0.000000       0.000000         0.000000       0.000000   \n",
       "25%         0.299145       0.000000         0.571429       0.400000   \n",
       "50%         0.299145       0.000000         0.571429       0.600000   \n",
       "75%         0.564103       0.000000         1.000000       0.800000   \n",
       "max         1.000000       1.000000         1.000000       1.000000   \n",
       "\n",
       "       deviceCategory           hits       isMobile   isTrueDirect  \\\n",
       "count   714167.000000  714167.000000  714167.000000  714167.000000   \n",
       "mean         0.150372       0.000964       0.266703       0.204475   \n",
       "std          0.263799       0.003688       0.442174       0.376182   \n",
       "min          0.000000       0.000000       0.000000       0.000000   \n",
       "25%          0.000000       0.000000       0.000000       0.000000   \n",
       "50%          0.000000       0.000200       0.000000       0.000000   \n",
       "75%          0.500000       0.000601       1.000000       0.000000   \n",
       "max          1.000000       1.000000       1.000000       1.000000   \n",
       "\n",
       "       operatingSystem      pageviews      ...          cnt_per_day  \\\n",
       "count    714167.000000  714167.000000      ...        714167.000000   \n",
       "mean          0.577036       0.001171      ...             0.002474   \n",
       "std           0.355042       0.003396      ...             0.010737   \n",
       "min           0.000000       0.000000      ...             0.000000   \n",
       "25%           0.304348       0.000240      ...             0.000000   \n",
       "50%           0.869565       0.000481      ...             0.000000   \n",
       "75%           0.869565       0.000962      ...             0.000000   \n",
       "max           1.000000       1.000000      ...             1.000000   \n",
       "\n",
       "         access_Days  avg_hitperDay  ttl_hitbyUser  avg_viewperDay  \\\n",
       "count  714167.000000  714167.000000  714167.000000   714167.000000   \n",
       "mean        0.002474       0.005847       0.000964        0.007169   \n",
       "std         0.010737       0.014582       0.003688        0.011483   \n",
       "min         0.000000       0.000000       0.000000        0.000000   \n",
       "25%         0.000000       0.000000       0.000000        0.002146   \n",
       "50%         0.000000       0.001002       0.000200        0.002861   \n",
       "75%         0.000000       0.006012       0.000601        0.006438   \n",
       "max         1.000000       1.000000       1.000000        1.000000   \n",
       "\n",
       "       ttl_viewbyUser      month_min      month_max    weekend_min  \\\n",
       "count   714167.000000  714167.000000  714167.000000  714167.000000   \n",
       "mean         0.001171       0.543955       0.555358       0.215469   \n",
       "std          0.003396       0.317073       0.315629       0.411148   \n",
       "min          0.000000       0.000000       0.000000       0.000000   \n",
       "25%          0.000240       0.272727       0.272727       0.000000   \n",
       "50%          0.000481       0.545455       0.545455       0.000000   \n",
       "75%          0.000962       0.818182       0.818182       0.000000   \n",
       "max          1.000000       1.000000       1.000000       1.000000   \n",
       "\n",
       "         weekend_max  \n",
       "count  714167.000000  \n",
       "mean        0.246599  \n",
       "std         0.431032  \n",
       "min         0.000000  \n",
       "25%         0.000000  \n",
       "50%         0.000000  \n",
       "75%         0.000000  \n",
       "max         1.000000  \n",
       "\n",
       "[8 rows x 24 columns]"
      ]
     },
     "execution_count": 43,
     "metadata": {},
     "output_type": "execute_result"
    }
   ],
   "source": [
    "df_user_train.describe()"
   ]
  },
  {
   "cell_type": "code",
   "execution_count": 44,
   "metadata": {},
   "outputs": [
    {
     "name": "stdout",
     "output_type": "stream",
     "text": [
      "CPU times: user 28.2 s, sys: 364 ms, total: 28.5 s\n",
      "Wall time: 28.5 s\n"
     ]
    }
   ],
   "source": [
    "%%time\n",
    "df_user_train.to_csv(path + 'user_train_n.csv')\n",
    "df_user_test.to_csv(path + 'user_test_n.csv')"
   ]
  },
  {
   "cell_type": "markdown",
   "metadata": {},
   "source": [
    "# visualize correlations"
   ]
  },
  {
   "cell_type": "code",
   "execution_count": 45,
   "metadata": {},
   "outputs": [
    {
     "name": "stdout",
     "output_type": "stream",
     "text": [
      "CPU times: user 2.11 s, sys: 156 ms, total: 2.27 s\n",
      "Wall time: 2.16 s\n"
     ]
    }
   ],
   "source": [
    "%%time\n",
    "df_user_train = pd.read_csv(path +'user_train.csv', index_col = 0, dtype={'fullVisitorId': 'str'})\n",
    "df_user_train.drop('transactionRevenue', axis = 1, inplace=True)\n"
   ]
  },
  {
   "cell_type": "code",
   "execution_count": 46,
   "metadata": {
    "scrolled": true
   },
   "outputs": [
    {
     "data": {
      "text/plain": [
       "<matplotlib.axes._subplots.AxesSubplot at 0x7fa7225d59e8>"
      ]
     },
     "execution_count": 46,
     "metadata": {},
     "output_type": "execute_result"
    },
    {
     "data": {
      "image/png": "[encoded data removed]",
      "text/plain": [
       "<Figure size 1008x864 with 2 Axes>"
      ]
     },
     "metadata": {
      "needs_background": "light"
     },
     "output_type": "display_data"
    }
   ],
   "source": [
    "import matplotlib.pyplot as plt\n",
    "import seaborn as sns\n",
    "%matplotlib inline\n",
    "\n",
    "f , ax = plt.subplots(figsize = (14,12))\n",
    "plt.title('Correlation of Features- HeatMap',y=1,size=16)\n",
    "sns.heatmap(df_user_train.corr(),square = True,  vmax=0.8)\n"
   ]
  }
 ],
 "metadata": {
  "kernelspec": {
   "display_name": "Python 3",
   "language": "python",
   "name": "python3"
  },
  "language_info": {
   "codemirror_mode": {
    "name": "ipython",
    "version": 3
   },
   "file_extension": ".py",
   "mimetype": "text/x-python",
   "name": "python",
   "nbconvert_exporter": "python",
   "pygments_lexer": "ipython3",
   "version": "3.7.0"
  },
  "toc": {
   "base_numbering": 1,
   "nav_menu": {},
   "number_sections": true,
   "sideBar": true,
   "skip_h1_title": false,
   "title_cell": "Table of Contents",
   "title_sidebar": "Contents",
   "toc_cell": false,
   "toc_position": {
    "height": "calc(100% - 180px)",
    "left": "10px",
    "top": "150px",
    "width": "174.026px"
   },
   "toc_section_display": true,
   "toc_window_display": true
  }
 },
 "nbformat": 4,
 "nbformat_minor": 1
}
