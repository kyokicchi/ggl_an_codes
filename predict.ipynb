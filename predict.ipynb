{
  "nbformat": 4,
  "nbformat_minor": 0,
  "metadata": {
    "colab": {
      "name": "predict.ipynb",
      "version": "0.3.2",
      "provenance": [],
      "collapsed_sections": [],
      "include_colab_link": true
    },
    "kernelspec": {
      "name": "python3",
      "display_name": "Python 3"
    },
    "accelerator": "GPU"
  },
  "cells": [
    {
      "cell_type": "markdown",
      "metadata": {
        "id": "view-in-github",
        "colab_type": "text"
      },
      "source": [
        "[View in Colaboratory](https://colab.research.google.com/github/kyokicchi/kaggle_codes/blob/master/predict.ipynb)"
      ]
    },
    {
      "metadata": {
        "id": "gz2oz71dGgK4",
        "colab_type": "code",
        "colab": {
          "base_uri": "https://localhost:8080/",
          "height": 152
        },
        "outputId": "66f9d3df-6d91-4862-9f7c-ff3872c2aee3"
      },
      "cell_type": "code",
      "source": [
        "!pip install lightgbm"
      ],
      "execution_count": 1,
      "outputs": [
        {
          "output_type": "stream",
          "text": [
            "Collecting lightgbm\n",
            "\u001b[?25l  Downloading https://files.pythonhosted.org/packages/78/7e/bc87e7951cfaa998cffaf39e6c721f5bd04efb2e139486206356edb289a5/lightgbm-2.2.1-py2.py3-none-manylinux1_x86_64.whl (1.1MB)\n",
            "\u001b[K    100% |████████████████████████████████| 1.1MB 17.8MB/s \n",
            "\u001b[?25hRequirement already satisfied: scikit-learn in /usr/local/lib/python3.6/dist-packages (from lightgbm) (0.19.2)\n",
            "Requirement already satisfied: numpy in /usr/local/lib/python3.6/dist-packages (from lightgbm) (1.14.6)\n",
            "Requirement already satisfied: scipy in /usr/local/lib/python3.6/dist-packages (from lightgbm) (0.19.1)\n",
            "Installing collected packages: lightgbm\n",
            "Successfully installed lightgbm-2.2.1\n"
          ],
          "name": "stdout"
        }
      ]
    },
    {
      "metadata": {
        "id": "d_neqrYCGTNP",
        "colab_type": "code",
        "colab": {
          "base_uri": "https://localhost:8080/",
          "height": 186
        },
        "outputId": "f75fa0b7-72dc-4865-99ce-4362621457c6"
      },
      "cell_type": "code",
      "source": [
        "!pip install --upgrade xgboost"
      ],
      "execution_count": 2,
      "outputs": [
        {
          "output_type": "stream",
          "text": [
            "Collecting xgboost\n",
            "\u001b[?25l  Downloading https://files.pythonhosted.org/packages/8f/15/606f81a2b8a8e82eaa10683cb3f3074905ec65d3bcef949e3f0909f165a5/xgboost-0.80-py2.py3-none-manylinux1_x86_64.whl (15.8MB)\n",
            "\u001b[K    100% |████████████████████████████████| 15.8MB 2.8MB/s \n",
            "\u001b[?25hRequirement already satisfied, skipping upgrade: scipy in /usr/local/lib/python3.6/dist-packages (from xgboost) (0.19.1)\n",
            "Requirement already satisfied, skipping upgrade: numpy in /usr/local/lib/python3.6/dist-packages (from xgboost) (1.14.6)\n",
            "Installing collected packages: xgboost\n",
            "  Found existing installation: xgboost 0.7.post4\n",
            "    Uninstalling xgboost-0.7.post4:\n",
            "      Successfully uninstalled xgboost-0.7.post4\n",
            "Successfully installed xgboost-0.80\n"
          ],
          "name": "stdout"
        }
      ]
    },
    {
      "metadata": {
        "id": "KOZo_mGhF1tE",
        "colab_type": "code",
        "colab": {
          "base_uri": "https://localhost:8080/",
          "height": 34
        },
        "outputId": "5c2c2b8d-1cbd-4017-a118-720c9b2dc9ae"
      },
      "cell_type": "code",
      "source": [
        "from google.colab import drive\n",
        "from google.colab import files\n",
        "\n",
        "import pickle\n",
        "\n",
        "import numpy as np\n",
        "import pandas as pd\n",
        "\n",
        "import xgboost as xgb\n",
        "import lightgbm as lgb\n",
        "from keras import models\n",
        "from keras import layers\n",
        "from keras.models import load_model\n",
        "\n",
        "from sklearn.model_selection import train_test_split\n",
        "from sklearn import model_selection\n",
        "from sklearn.metrics import mean_squared_error\n"
      ],
      "execution_count": 3,
      "outputs": [
        {
          "output_type": "stream",
          "text": [
            "Using TensorFlow backend.\n"
          ],
          "name": "stderr"
        }
      ]
    },
    {
      "metadata": {
        "id": "D8AKer_NF-HJ",
        "colab_type": "code",
        "colab": {
          "base_uri": "https://localhost:8080/",
          "height": 121
        },
        "outputId": "86ae595f-700a-4662-afbd-d22b6874a90c"
      },
      "cell_type": "code",
      "source": [
        "drive.mount('/content/gdrive')"
      ],
      "execution_count": 4,
      "outputs": [
        {
          "output_type": "stream",
          "text": [
            "Go to this URL in a browser: https://accounts.google.com/o/oauth2/auth?client_id=947318989803-6bn6qk8qdgf4n4g3pfee6491hc0brc4i.apps.googleusercontent.com&redirect_uri=urn%3Aietf%3Awg%3Aoauth%3A2.0%3Aoob&scope=email%20https%3A%2F%2Fwww.googleapis.com%2Fauth%2Fdocs.test%20https%3A%2F%2Fwww.googleapis.com%2Fauth%2Fdrive%20https%3A%2F%2Fwww.googleapis.com%2Fauth%2Fdrive.photos.readonly%20https%3A%2F%2Fwww.googleapis.com%2Fauth%2Fpeopleapi.readonly&response_type=code\n",
            "\n",
            "Enter your authorization code:\n",
            "··········\n",
            "Mounted at /content/gdrive\n"
          ],
          "name": "stdout"
        }
      ]
    },
    {
      "metadata": {
        "id": "Pviu45hjF-E_",
        "colab_type": "code",
        "colab": {
          "base_uri": "https://localhost:8080/",
          "height": 34
        },
        "outputId": "68aaf899-ef72-43db-83d2-43c2840a431d"
      },
      "cell_type": "code",
      "source": [
        "%cd ../content/gdrive/My Drive/projects/"
      ],
      "execution_count": 5,
      "outputs": [
        {
          "output_type": "stream",
          "text": [
            "/content/gdrive/My Drive/projects\n"
          ],
          "name": "stdout"
        }
      ]
    },
    {
      "metadata": {
        "id": "SG205OakH_zW",
        "colab_type": "code",
        "colab": {
          "base_uri": "https://localhost:8080/",
          "height": 51
        },
        "outputId": "ec65b31f-952b-4cca-fe3a-93566d4dd1ce"
      },
      "cell_type": "code",
      "source": [
        "%ls"
      ],
      "execution_count": 6,
      "outputs": [
        {
          "output_type": "stream",
          "text": [
            "model_LGB.sav  model_XGB.sav  user_test_n.csv\n",
            "model_NN.h5    output.csv     user_train_n.csv\n"
          ],
          "name": "stdout"
        }
      ]
    },
    {
      "metadata": {
        "id": "ajzaSykwIzgy",
        "colab_type": "code",
        "colab": {
          "base_uri": "https://localhost:8080/",
          "height": 51
        },
        "outputId": "45d293f7-b289-464a-c373-22482686193f"
      },
      "cell_type": "code",
      "source": [
        "%%time\n",
        "df_user_train = pd.read_csv('user_train_n.csv', index_col = 0, dtype={'fullVisitorId': 'str'})\n",
        "df_user_test = pd.read_csv('user_test_n.csv', index_col = 0, dtype={'fullVisitorId': 'str'})\n",
        "\n",
        "df_y = df_user_train['transactionRevenue_sum']\n",
        "df_x = df_user_train.drop(['transactionRevenue_sum'], axis=1)\n",
        "df_tgt = df_user_test.drop(['transactionRevenue_sum'], axis=1)\n",
        "\n",
        "x_train, x_test, y_train, y_test = train_test_split(df_x, df_y, random_state=1)\n",
        "x_eval, x_valid, y_eval, y_valid = train_test_split(x_test, y_test, random_state=1)"
      ],
      "execution_count": 7,
      "outputs": [
        {
          "output_type": "stream",
          "text": [
            "CPU times: user 10.8 s, sys: 1.27 s, total: 12.1 s\n",
            "Wall time: 16.2 s\n"
          ],
          "name": "stdout"
        }
      ]
    },
    {
      "metadata": {
        "id": "aPB4KhT-F-Af",
        "colab_type": "code",
        "colab": {
          "base_uri": "https://localhost:8080/",
          "height": 51
        },
        "outputId": "ed6303ce-5a18-4145-ae53-8838dcb92c5b"
      },
      "cell_type": "code",
      "source": [
        "%%time\n",
        "models = []\n",
        "\n",
        "filename = 'model_LGB.sav'\n",
        "model_LGB = pickle.load(open(filename, 'rb'))\n",
        "models.append(model_LGB)\n",
        "\n",
        "filename = 'model_XGB.sav'\n",
        "model_XGB = pickle.load(open(filename, 'rb'))\n",
        "models.append(model_XGB)\n",
        "\n",
        "filename = 'model_NN.h5'\n",
        "model_NN = load_model(filename)\n",
        "models.append(model_NN)\n",
        "\n"
      ],
      "execution_count": 11,
      "outputs": [
        {
          "output_type": "stream",
          "text": [
            "CPU times: user 688 ms, sys: 150 ms, total: 838 ms\n",
            "Wall time: 3.57 s\n"
          ],
          "name": "stdout"
        }
      ]
    },
    {
      "metadata": {
        "id": "PGIT2R2dF97-",
        "colab_type": "code",
        "colab": {
          "base_uri": "https://localhost:8080/",
          "height": 68
        },
        "outputId": "fab81ee4-3a6e-4927-87b3-6a91321f46e4"
      },
      "cell_type": "code",
      "source": [
        "for model in models:\n",
        "    y_pred = model.predict(x_valid.fillna(0))\n",
        "    mse = mean_squared_error(y_valid, y_pred)\n",
        "    rmse = np.sqrt(mse)\n",
        "    print(rmse)"
      ],
      "execution_count": 12,
      "outputs": [
        {
          "output_type": "stream",
          "text": [
            "42483661.47583807\n",
            "39313308.87103267\n",
            "49815171.8607874\n"
          ],
          "name": "stdout"
        }
      ]
    },
    {
      "metadata": {
        "id": "SLa0jC_ZF91W",
        "colab_type": "code",
        "colab": {
          "base_uri": "https://localhost:8080/",
          "height": 51
        },
        "outputId": "02c5fb86-01c2-4f8b-88cd-376e0ec124dd"
      },
      "cell_type": "code",
      "source": [
        "%%time\n",
        "preds = []\n",
        "for model in models:\n",
        "    pred_tmp = model.predict(df_tgt)\n",
        "    preds.append(pred_tmp)"
      ],
      "execution_count": 13,
      "outputs": [
        {
          "output_type": "stream",
          "text": [
            "CPU times: user 28.2 s, sys: 2.68 s, total: 30.9 s\n",
            "Wall time: 22.1 s\n"
          ],
          "name": "stdout"
        }
      ]
    },
    {
      "metadata": {
        "id": "jLCyCuKlHZOJ",
        "colab_type": "code",
        "colab": {
          "base_uri": "https://localhost:8080/",
          "height": 51
        },
        "outputId": "44731a9c-afce-4d7d-9327-e7dc3cd547f9"
      },
      "cell_type": "code",
      "source": [
        "%%time\n",
        "df_preds = pd.DataFrame(preds).T"
      ],
      "execution_count": 14,
      "outputs": [
        {
          "output_type": "stream",
          "text": [
            "CPU times: user 33.4 s, sys: 389 ms, total: 33.8 s\n",
            "Wall time: 33.8 s\n"
          ],
          "name": "stdout"
        }
      ]
    },
    {
      "metadata": {
        "id": "xUixJthbJxDV",
        "colab_type": "code",
        "colab": {
          "base_uri": "https://localhost:8080/",
          "height": 202
        },
        "outputId": "5eb130ea-7c9b-4b87-8ebf-d4d5ac2b753e"
      },
      "cell_type": "code",
      "source": [
        "df_preds.head()"
      ],
      "execution_count": 15,
      "outputs": [
        {
          "output_type": "execute_result",
          "data": {
            "text/html": [
              "<div>\n",
              "<style scoped>\n",
              "    .dataframe tbody tr th:only-of-type {\n",
              "        vertical-align: middle;\n",
              "    }\n",
              "\n",
              "    .dataframe tbody tr th {\n",
              "        vertical-align: top;\n",
              "    }\n",
              "\n",
              "    .dataframe thead th {\n",
              "        text-align: right;\n",
              "    }\n",
              "</style>\n",
              "<table border=\"1\" class=\"dataframe\">\n",
              "  <thead>\n",
              "    <tr style=\"text-align: right;\">\n",
              "      <th></th>\n",
              "      <th>0</th>\n",
              "      <th>1</th>\n",
              "      <th>2</th>\n",
              "    </tr>\n",
              "  </thead>\n",
              "  <tbody>\n",
              "    <tr>\n",
              "      <th>0</th>\n",
              "      <td>2.82722e+06</td>\n",
              "      <td>989150</td>\n",
              "      <td>[5986.08]</td>\n",
              "    </tr>\n",
              "    <tr>\n",
              "      <th>1</th>\n",
              "      <td>328303</td>\n",
              "      <td>438966</td>\n",
              "      <td>[6021.888]</td>\n",
              "    </tr>\n",
              "    <tr>\n",
              "      <th>2</th>\n",
              "      <td>328303</td>\n",
              "      <td>438966</td>\n",
              "      <td>[3495.1853]</td>\n",
              "    </tr>\n",
              "    <tr>\n",
              "      <th>3</th>\n",
              "      <td>328303</td>\n",
              "      <td>438966</td>\n",
              "      <td>[5265.9126]</td>\n",
              "    </tr>\n",
              "    <tr>\n",
              "      <th>4</th>\n",
              "      <td>567555</td>\n",
              "      <td>438966</td>\n",
              "      <td>[3837.3691]</td>\n",
              "    </tr>\n",
              "  </tbody>\n",
              "</table>\n",
              "</div>"
            ],
            "text/plain": [
              "             0       1            2\n",
              "0  2.82722e+06  989150    [5986.08]\n",
              "1       328303  438966   [6021.888]\n",
              "2       328303  438966  [3495.1853]\n",
              "3       328303  438966  [5265.9126]\n",
              "4       567555  438966  [3837.3691]"
            ]
          },
          "metadata": {
            "tags": []
          },
          "execution_count": 15
        }
      ]
    },
    {
      "metadata": {
        "id": "wXw-P-tvHZLv",
        "colab_type": "code",
        "colab": {}
      },
      "cell_type": "code",
      "source": [
        "pred_tgt = df_preds[df_preds.columns].sum(axis=1)/len(preds)\n",
        "pred_tgt[pred_tgt<0] = 0\n",
        "pred_tgt = pred_tgt.values.tolist()"
      ],
      "execution_count": 0,
      "outputs": []
    },
    {
      "metadata": {
        "id": "ADAMrXbsKC4D",
        "colab_type": "code",
        "colab": {
          "base_uri": "https://localhost:8080/",
          "height": 101
        },
        "outputId": "99d22550-0fd4-471c-f877-678a3408b461"
      },
      "cell_type": "code",
      "source": [
        "pred_tgt[:5]"
      ],
      "execution_count": 17,
      "outputs": [
        {
          "output_type": "execute_result",
          "data": {
            "text/plain": [
              "[1274117.25,\n",
              " 257763.58333333334,\n",
              " 256921.35416666666,\n",
              " 257511.60416666666,\n",
              " 336785.9583333333]"
            ]
          },
          "metadata": {
            "tags": []
          },
          "execution_count": 17
        }
      ]
    },
    {
      "metadata": {
        "id": "dO0CZmwaHZJZ",
        "colab_type": "code",
        "colab": {}
      },
      "cell_type": "code",
      "source": [
        "df_tgt['PredictedLogRevenue'] = pred_tgt"
      ],
      "execution_count": 0,
      "outputs": []
    },
    {
      "metadata": {
        "id": "mnODYYCbHZG8",
        "colab_type": "code",
        "colab": {}
      },
      "cell_type": "code",
      "source": [
        "df_tgt[['PredictedLogRevenue']].to_csv(\"output.csv\", index=True)"
      ],
      "execution_count": 0,
      "outputs": []
    },
    {
      "metadata": {
        "id": "iu2i0vMQN5Ww",
        "colab_type": "code",
        "colab": {
          "base_uri": "https://localhost:8080/",
          "height": 202
        },
        "outputId": "554ce343-d3cd-4c03-f1fd-2563d2cd8832"
      },
      "cell_type": "code",
      "source": [
        "df_output = pd.read_csv('output.csv')\n",
        "df_output.head()"
      ],
      "execution_count": 21,
      "outputs": [
        {
          "output_type": "execute_result",
          "data": {
            "text/html": [
              "<div>\n",
              "<style scoped>\n",
              "    .dataframe tbody tr th:only-of-type {\n",
              "        vertical-align: middle;\n",
              "    }\n",
              "\n",
              "    .dataframe tbody tr th {\n",
              "        vertical-align: top;\n",
              "    }\n",
              "\n",
              "    .dataframe thead th {\n",
              "        text-align: right;\n",
              "    }\n",
              "</style>\n",
              "<table border=\"1\" class=\"dataframe\">\n",
              "  <thead>\n",
              "    <tr style=\"text-align: right;\">\n",
              "      <th></th>\n",
              "      <th>fullVisitorId</th>\n",
              "      <th>PredictedLogRevenue</th>\n",
              "    </tr>\n",
              "  </thead>\n",
              "  <tbody>\n",
              "    <tr>\n",
              "      <th>0</th>\n",
              "      <td>2.596787e+11</td>\n",
              "      <td>1.274117e+06</td>\n",
              "    </tr>\n",
              "    <tr>\n",
              "      <th>1</th>\n",
              "      <td>3.038793e+12</td>\n",
              "      <td>2.577636e+05</td>\n",
              "    </tr>\n",
              "    <tr>\n",
              "      <th>2</th>\n",
              "      <td>9.663019e+12</td>\n",
              "      <td>2.569214e+05</td>\n",
              "    </tr>\n",
              "    <tr>\n",
              "      <th>3</th>\n",
              "      <td>1.043846e+13</td>\n",
              "      <td>2.575116e+05</td>\n",
              "    </tr>\n",
              "    <tr>\n",
              "      <th>4</th>\n",
              "      <td>1.099298e+13</td>\n",
              "      <td>3.367860e+05</td>\n",
              "    </tr>\n",
              "  </tbody>\n",
              "</table>\n",
              "</div>"
            ],
            "text/plain": [
              "   fullVisitorId  PredictedLogRevenue\n",
              "0   2.596787e+11         1.274117e+06\n",
              "1   3.038793e+12         2.577636e+05\n",
              "2   9.663019e+12         2.569214e+05\n",
              "3   1.043846e+13         2.575116e+05\n",
              "4   1.099298e+13         3.367860e+05"
            ]
          },
          "metadata": {
            "tags": []
          },
          "execution_count": 21
        }
      ]
    },
    {
      "metadata": {
        "id": "rgbyTyfbOOe1",
        "colab_type": "code",
        "colab": {
          "base_uri": "https://localhost:8080/",
          "height": 34
        },
        "outputId": "23571ae0-d79e-4b02-8202-52ec85ceef6e"
      },
      "cell_type": "code",
      "source": [
        "type(df_output['fullVisitorId'][0])"
      ],
      "execution_count": 24,
      "outputs": [
        {
          "output_type": "execute_result",
          "data": {
            "text/plain": [
              "numpy.float64"
            ]
          },
          "metadata": {
            "tags": []
          },
          "execution_count": 24
        }
      ]
    }
  ]
}